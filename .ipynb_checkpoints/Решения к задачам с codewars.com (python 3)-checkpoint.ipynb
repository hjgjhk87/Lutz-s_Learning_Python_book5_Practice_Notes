{
 "cells": [
  {
   "cell_type": "markdown",
   "metadata": {},
   "source": [
    "## List Filtering\n",
    "\n",
    "In this kata you will create a function that takes a list of non-negative integers and strings and returns a new list with the strings filtered out.\n",
    "\n",
    "Example\n",
    "\n",
    "filter_list([1,2,'a','b']) == [1,2]\n",
    "\n",
    "filter_list([1,'a','b',0,15]) == [1,0,15]\n",
    "\n",
    "filter_list([1,2,'aasf','1','123',123]) == [1,2,123]"
   ]
  },
  {
   "cell_type": "code",
   "execution_count": 7,
   "metadata": {},
   "outputs": [
    {
     "name": "stdout",
     "output_type": "stream",
     "text": [
      "[1, 2]\n",
      "[1, 0, 15]\n",
      "[1, 2, 123]\n"
     ]
    }
   ],
   "source": [
    "def filter_list(l):\n",
    "    return [el for el in l if isinstance(el, int)]\n",
    "\n",
    "print(filter_list([1,2,'a','b']))\n",
    "print(filter_list([1,'a','b',0,15]))\n",
    "print(filter_list([1,2,'aasf','1','123',123]))"
   ]
  },
  {
   "cell_type": "code",
   "execution_count": 2,
   "metadata": {},
   "outputs": [
    {
     "name": "stdout",
     "output_type": "stream",
     "text": [
      "<class 'int'>\n"
     ]
    }
   ],
   "source": [
    "print(type(1))"
   ]
  },
  {
   "cell_type": "code",
   "execution_count": 3,
   "metadata": {},
   "outputs": [
    {
     "name": "stdout",
     "output_type": "stream",
     "text": [
      "True\n"
     ]
    }
   ],
   "source": [
    "print(type(1) == int)"
   ]
  },
  {
   "cell_type": "code",
   "execution_count": 4,
   "metadata": {},
   "outputs": [
    {
     "name": "stdout",
     "output_type": "stream",
     "text": [
      "True\n"
     ]
    }
   ],
   "source": [
    "print(isinstance(1, int))"
   ]
  },
  {
   "cell_type": "code",
   "execution_count": 5,
   "metadata": {},
   "outputs": [
    {
     "name": "stdout",
     "output_type": "stream",
     "text": [
      "False\n"
     ]
    }
   ],
   "source": [
    "print(isinstance('1', int))"
   ]
  },
  {
   "cell_type": "markdown",
   "metadata": {},
   "source": [
    "## Take a Ten Minute Walk\n",
    "\n",
    "You live in the city of Cartesia where all roads are laid out in a perfect grid. You arrived ten minutes too early to an appointment, so you decided to take the opportunity to go for a short walk. The city provides its citizens with a Walk Generating App on their phones -- everytime you press the button it sends you an array of one-letter strings representing directions to walk (eg. ['n', 's', 'w', 'e']). You always walk only a single block in a direction and you know it takes you one minute to traverse one city block, so create a function that will return true if the walk the app gives you will take you exactly ten minutes (you don't want to be early or late!) and will, of course, return you to your starting point. Return false otherwise.\n",
    "\n",
    "Note: you will always receive a valid array containing a random assortment of direction letters ('n', 's', 'e', or 'w' only). It will never give you an empty array (that's not a walk, that's standing still!)."
   ]
  },
  {
   "cell_type": "code",
   "execution_count": 15,
   "metadata": {},
   "outputs": [
    {
     "name": "stdout",
     "output_type": "stream",
     "text": [
      "True\n"
     ]
    }
   ],
   "source": [
    "def isValidWalk(walk):\n",
    "    #determine if walk is valid\n",
    "    return (walk.count('n') == walk.count('s')\n",
    "            and walk.count('e') == walk.count('w')\n",
    "            and len(walk) == 10)\n",
    "    \n",
    "print(isValidWalk(['n', 's', 'e', 'w', 'n', 's', 'e', 'w', 'n', 's']))"
   ]
  },
  {
   "cell_type": "markdown",
   "metadata": {},
   "source": [
    "## Delete occurrences of an element if it occurs more than n times\n",
    "\n",
    "## Enough is enough!\n",
    "Alice and Bob were on a holiday. Both of them took many pictures of the places they've been, and now they want to show Charlie their entire collection. However, Charlie doesn't like this sessions, since the motive usually repeats. He isn't fond of seeing the Eiffel tower 40 times. He tells them that he will only sit during the session if they show the same motive at most N times. Luckily, Alice and Bob are able to encode the motive as a number. Can you help them to remove numbers such that their list contains each number only up to N times, without changing the order?\n",
    "\n",
    "Task\n",
    "Given a list lst and a number N, create a new list that contains each number of lst at most N times without reordering. For example if N = 2, and the input is [1,2,3,1,2,1,2,3], you take [1,2,3,1,2], drop the next [1,2] since this would lead to 1 and 2 being in the result 3 times, and then take 3, which leads to [1,2,3,1,2,3].\n",
    "\n",
    "Example\n",
    "\n",
    "delete_nth ([1,1,1,1],2) # return [1,1]\n",
    "\n",
    "delete_nth ([20,37,20,21],1) # return [20,37,21]"
   ]
  },
  {
   "cell_type": "code",
   "execution_count": 14,
   "metadata": {},
   "outputs": [
    {
     "name": "stdout",
     "output_type": "stream",
     "text": [
      "[1, 1]\n",
      "[20, 37, 21]\n"
     ]
    }
   ],
   "source": [
    "def delete_nth(order, max_e):\n",
    "    res = []\n",
    "    countDic = {}\n",
    "    for x in order:\n",
    "        count = countDic.get(x, 0)\n",
    "        if count < max_e:\n",
    "            res.append(x)\n",
    "            countDic[x] = count + 1\n",
    "    return res\n",
    "\n",
    "print(delete_nth([1,1,1,1], 2))     # return [1,1]\n",
    "print(delete_nth([20,37,20,21], 1)) # return [20,37,21]           "
   ]
  },
  {
   "cell_type": "markdown",
   "metadata": {},
   "source": [
    "## Number of people in the bus\n",
    "\n",
    "There is a bus moving in the city, and it takes and drop some people in each bus stop.\n",
    "\n",
    "You are provided with a list (or array) of integer arrays (or tuples). Each integer array has two items which represent number of people get into bus (The first item) and number of people get off the bus (The second item) in a bus stop.\n",
    "\n",
    "Your task is to return number of people who are still in the bus after the last bus station (after the last array). Even though it is the last bus stop, the bus is not empty and some people are still in the bus, and they are probably sleeping there :D\n",
    "\n",
    "Take a look on the test cases.\n",
    "\n",
    "Please keep in mind that the test cases ensure that the number of people in the bus is always >= 0. So the return integer can't be negative.\n",
    "\n",
    "The second value in the first integer array is 0, since the bus is empty in the first bus stop."
   ]
  },
  {
   "cell_type": "code",
   "execution_count": 19,
   "metadata": {},
   "outputs": [
    {
     "name": "stdout",
     "output_type": "stream",
     "text": [
      "5 5\n",
      "17 17\n",
      "21 21\n"
     ]
    }
   ],
   "source": [
    "def number(bus_stops):\n",
    "    return sum([x[0] for x in bus_stops]) - sum([x[1] for x in bus_stops])\n",
    "\n",
    "print(number([[10,0],[3,5],[5,8]]),5)\n",
    "print(number([[3,0],[9,1],[4,10],[12,2],[6,1],[7,10]]),17)\n",
    "print(number([[3,0],[9,1],[4,8],[12,2],[6,1],[7,8]]),21)"
   ]
  },
  {
   "cell_type": "markdown",
   "metadata": {},
   "source": [
    "## Calculating with Functions\n",
    "\n",
    "This time we want to write calculations using functions and get the results. Let's have a look at some examples:\n",
    "\n",
    "seven(times(five())) # must return 35\n",
    "four(plus(nine())) # must return 13\n",
    "eight(minus(three())) # must return 5\n",
    "six(divided_by(two())) # must return 3\n",
    "Requirements:\n",
    "\n",
    "There must be a function for each number from 0 (\"zero\") to 9 (\"nine\")\n",
    "There must be a function for each of the following mathematical operations: plus, minus, times, dividedBy (divided_by in Ruby and Python)\n",
    "Each calculation consist of exactly one operation and two numbers\n",
    "The most outer function represents the left operand, the most inner function represents the right operand\n",
    "Divison should be integer division. For example, this should return 2, not 2.666666...:\n",
    "eight(divided_by(three()))"
   ]
  },
  {
   "cell_type": "code",
   "execution_count": 27,
   "metadata": {},
   "outputs": [
    {
     "name": "stdout",
     "output_type": "stream",
     "text": [
      "35 35\n",
      "13 13\n",
      "5 5\n",
      "3 3\n"
     ]
    }
   ],
   "source": [
    "def operand(digit, args):\n",
    "    if len(args) == 0:\n",
    "        return digit\n",
    "    else:\n",
    "        return eval(digit + args[0])\n",
    "\n",
    "def zero(*args):\n",
    "    return operand('0', args)\n",
    "\n",
    "def one(*args):\n",
    "    return operand('1', args)\n",
    "\n",
    "def two(*args):\n",
    "    return operand('2', args)\n",
    "\n",
    "def three(*args):\n",
    "    return operand('3', args)\n",
    "\n",
    "def four(*args):\n",
    "    return operand('4', args)\n",
    "\n",
    "def five(*args):\n",
    "    return operand('5', args)\n",
    "\n",
    "def six(*args):\n",
    "    return operand('6', args)\n",
    "\n",
    "def seven(*args):\n",
    "    return operand('7', args)\n",
    "\n",
    "def eight(*args):\n",
    "    return operand('8', args)\n",
    "\n",
    "def nine(*args):\n",
    "    return operand('9', args)\n",
    "\n",
    "def plus(arg):\n",
    "    return ('+' + arg)\n",
    "\n",
    "def minus(arg):\n",
    "    return ('-' + arg)\n",
    "\n",
    "def times(arg):\n",
    "    return ('*' + arg)\n",
    "\n",
    "def divided_by(arg):\n",
    "    return ('//' + arg)\n",
    "\n",
    "print(seven(times(five())), 35)\n",
    "print(four(plus(nine())), 13)\n",
    "print(eight(minus(three())), 5)\n",
    "print(six(divided_by(two())), 3)"
   ]
  },
  {
   "cell_type": "code",
   "execution_count": 21,
   "metadata": {},
   "outputs": [
    {
     "name": "stdout",
     "output_type": "stream",
     "text": [
      "<class 'int'>\n"
     ]
    }
   ],
   "source": [
    "print(type(eval('3' + '+4')))"
   ]
  },
  {
   "cell_type": "markdown",
   "metadata": {},
   "source": [
    "## Binary Addition\n",
    "\n",
    "Implement a function that adds two numbers together and returns their sum in binary. The conversion can be done before, or after the addition.\n",
    "\n",
    "The binary number returned should be a string."
   ]
  },
  {
   "cell_type": "code",
   "execution_count": 28,
   "metadata": {},
   "outputs": [
    {
     "name": "stdout",
     "output_type": "stream",
     "text": [
      "10\n"
     ]
    }
   ],
   "source": [
    "def add_binary(a, b):\n",
    "    return '{0:b}'.format(a + b)\n",
    "\n",
    "print(add_binary(1, 1))"
   ]
  },
  {
   "cell_type": "code",
   "execution_count": 30,
   "metadata": {},
   "outputs": [
    {
     "data": {
      "text/plain": [
       "'0b10'"
      ]
     },
     "execution_count": 30,
     "metadata": {},
     "output_type": "execute_result"
    }
   ],
   "source": [
    "a = 1\n",
    "b = 1\n",
    "\n",
    "bin(a + b)"
   ]
  },
  {
   "cell_type": "markdown",
   "metadata": {},
   "source": [
    "Подсмотрела этот вариант на codewars:"
   ]
  },
  {
   "cell_type": "code",
   "execution_count": 31,
   "metadata": {},
   "outputs": [
    {
     "name": "stdout",
     "output_type": "stream",
     "text": [
      "10\n"
     ]
    }
   ],
   "source": [
    "def add_binary(a, b):\n",
    "    #return str(bin(a) + bin(b)) # '0b10b1'\n",
    "    return bin(a + b)[2:]\n",
    "    \n",
    "print(add_binary(1, 1))"
   ]
  },
  {
   "cell_type": "markdown",
   "metadata": {},
   "source": [
    "Подсмотрела этот вариант на codewars:"
   ]
  },
  {
   "cell_type": "code",
   "execution_count": 32,
   "metadata": {},
   "outputs": [
    {
     "name": "stdout",
     "output_type": "stream",
     "text": [
      "10\n"
     ]
    }
   ],
   "source": [
    "def add_binary(a, b):\n",
    "    return format(a + b, 'b')\n",
    "\n",
    "print(add_binary(1, 1))"
   ]
  },
  {
   "cell_type": "markdown",
   "metadata": {},
   "source": [
    "## The Supermarket Queue\n",
    "\n",
    "There is a queue for the self-checkout tills at the supermarket. Your task is write a function to calculate the total time required for all the customers to check out!\n",
    "\n",
    "input\n",
    "\n",
    "customers: an array of positive integers representing the queue. Each integer represents a customer, and its value is the amount of time they require to check out.\n",
    "\n",
    "n: a positive integer, the number of checkout tills.\n",
    "\n",
    "output\n",
    "\n",
    "The function should return an integer, the total time required.\n",
    "\n",
    "Important\n",
    "\n",
    "Please look at the examples and clarifications below, to ensure you understand the task correctly :)\n",
    "\n",
    "Examples\n",
    "\n",
    "queue_time([5,3,4], 1) # should return 12 because when n=1, the total time is just the sum of the times\n",
    "\n",
    "queue_time([10,2,3,3], 2) # should return 10 because here n=2 and the 2nd, 3rd, and 4th people in the queue finish before the 1st person has finished.\n",
    "\n",
    "queue_time([2,3,10], 2) # should return 12\n",
    "\n",
    "Clarifications\n",
    "\n",
    "There is only ONE queue serving many tills, and\n",
    "The order of the queue NEVER changes, and\n",
    "\n",
    "The front person in the queue (i.e. the first \n",
    "element in the array/list) proceeds to a till as soon as it becomes free.\n",
    "\n",
    "N.B. You should assume that all the test input will be valid, as specified above."
   ]
  },
  {
   "cell_type": "markdown",
   "metadata": {},
   "source": [
    "Вариант 1:"
   ]
  },
  {
   "cell_type": "code",
   "execution_count": 36,
   "metadata": {},
   "outputs": [
    {
     "name": "stdout",
     "output_type": "stream",
     "text": [
      "15 15\n"
     ]
    }
   ],
   "source": [
    "def queue_time(customers, n):\n",
    "    if len(customers) == 0:\n",
    "        return 0\n",
    "    \n",
    "    queue = customers[:n]\n",
    "    for i in range(n, len(customers)):\n",
    "        queue[queue.index(min(queue))] += customers[i]\n",
    "    return max(queue)\n",
    "\n",
    "print(queue_time([1,2,3,4,5], 1), 15)"
   ]
  },
  {
   "cell_type": "markdown",
   "metadata": {},
   "source": [
    "Вариант 2:"
   ]
  },
  {
   "cell_type": "code",
   "execution_count": 37,
   "metadata": {},
   "outputs": [
    {
     "name": "stdout",
     "output_type": "stream",
     "text": [
      "15 15\n"
     ]
    }
   ],
   "source": [
    "def queue_time(customers, n):\n",
    "    if len(customers) == 0:\n",
    "        return 0\n",
    "    \n",
    "    queue = customers[:n]\n",
    "    for cust in customers[n:]:\n",
    "        queue[queue.index(min(queue))] += cust\n",
    "    return max(queue)\n",
    "\n",
    "print(queue_time([1,2,3,4,5], 1), 15)"
   ]
  },
  {
   "cell_type": "markdown",
   "metadata": {},
   "source": [
    "Вариант 3:"
   ]
  },
  {
   "cell_type": "code",
   "execution_count": 40,
   "metadata": {},
   "outputs": [
    {
     "name": "stdout",
     "output_type": "stream",
     "text": [
      "1 2\n"
     ]
    }
   ],
   "source": [
    "a = [4, 3, 1, 4, 1]\n",
    "minim, min_ind = min(((v, i)  for i, v in enumerate(a)))\n",
    "print(minim, min_ind)"
   ]
  },
  {
   "cell_type": "code",
   "execution_count": 43,
   "metadata": {},
   "outputs": [
    {
     "name": "stdout",
     "output_type": "stream",
     "text": [
      "15 15\n"
     ]
    }
   ],
   "source": [
    "def queue_time(customers, n):\n",
    "    if len(customers) == 0:\n",
    "        return 0\n",
    "    \n",
    "    queue = customers[:n]\n",
    "    for cust in customers[n:]:\n",
    "        minim, min_ind = min(((v, i)  for i, v in enumerate(queue)))\n",
    "        queue[min_ind] += cust\n",
    "    return max(queue)\n",
    "\n",
    "print(queue_time([1,2,3,4,5], 1), 15)"
   ]
  },
  {
   "cell_type": "markdown",
   "metadata": {},
   "source": [
    "Вариант 4:"
   ]
  },
  {
   "cell_type": "code",
   "execution_count": 95,
   "metadata": {},
   "outputs": [
    {
     "name": "stdout",
     "output_type": "stream",
     "text": [
      "15 15\n"
     ]
    }
   ],
   "source": [
    "def queue_time(customers, n):\n",
    "    if len(customers) == 0:\n",
    "        return 0\n",
    "    \n",
    "    queue = customers[:n]\n",
    "    for cust in customers[n:]:\n",
    "        min_ind, minim = min(enumerate(queue), key=lambda x: x[1])\n",
    "        queue[min_ind] += cust\n",
    "    return max(queue)\n",
    "\n",
    "print(queue_time([1,2,3,4,5], 1), 15)"
   ]
  },
  {
   "cell_type": "markdown",
   "metadata": {},
   "source": [
    "### String ends with?\n",
    "\n",
    "Complete the solution so that it returns true if the first argument(string) passed in ends with the 2nd argument (also a string).\n",
    "\n",
    "Examples:\n",
    "\n",
    "solution('abc', 'bc') # returns true\n",
    "\n",
    "solution('abc', 'd') # returns false"
   ]
  },
  {
   "cell_type": "code",
   "execution_count": 2,
   "metadata": {},
   "outputs": [
    {
     "name": "stdout",
     "output_type": "stream",
     "text": [
      "True\n",
      "False\n"
     ]
    }
   ],
   "source": [
    "def solution(string, ending):\n",
    "    return string.endswith(ending)\n",
    "\n",
    "print(solution('abc', 'bc')) # returns true\n",
    "print(solution('abc', 'd')) # returns false"
   ]
  },
  {
   "cell_type": "markdown",
   "metadata": {},
   "source": [
    "Решения, взятые с codewars:"
   ]
  },
  {
   "cell_type": "code",
   "execution_count": 3,
   "metadata": {},
   "outputs": [
    {
     "name": "stdout",
     "output_type": "stream",
     "text": [
      "True\n",
      "False\n"
     ]
    }
   ],
   "source": [
    "solution = lambda s, e: s.endswith(e)\n",
    "\n",
    "print(solution('abc', 'bc')) # returns true\n",
    "print(solution('abc', 'd')) # returns false"
   ]
  },
  {
   "cell_type": "code",
   "execution_count": 4,
   "metadata": {},
   "outputs": [
    {
     "name": "stdout",
     "output_type": "stream",
     "text": [
      "True\n",
      "False\n"
     ]
    }
   ],
   "source": [
    "solution = str.endswith\n",
    "\n",
    "print(solution('abc', 'bc')) # returns true\n",
    "print(solution('abc', 'd')) # returns false"
   ]
  },
  {
   "cell_type": "markdown",
   "metadata": {},
   "source": [
    "### Directions Reduction\n",
    "\n",
    "Once upon a time, on a way through the old wild west,…\n",
    "… a man was given directions to go from one point to another. The directions were \"NORTH\", \"SOUTH\", \"WEST\", \"EAST\". Clearly \"NORTH\" and \"SOUTH\" are opposite, \"WEST\" and \"EAST\" too. Going to one direction and coming back the opposite direction is a needless effort. Since this is the wild west, with dreadfull weather and not much water, it's important to save yourself some energy, otherwise you might die of thirst!\n",
    "\n",
    "How I crossed the desert the smart way.\n",
    "The directions given to the man are, for example, the following (depending on the language):\n",
    "\n",
    "[\"NORTH\", \"SOUTH\", \"SOUTH\", \"EAST\", \"WEST\", \"NORTH\", \"WEST\"].\n",
    "\n",
    "or\n",
    "\n",
    "{ \"NORTH\", \"SOUTH\", \"SOUTH\", \"EAST\", \"WEST\", \"NORTH\", \"WEST\" };\n",
    "\n",
    "or\n",
    "\n",
    "[North, South, South, East, West, North, West]\n",
    "\n",
    "You can immediatly see that going \"NORTH\" and then \"SOUTH\" is not reasonable, better stay to the same place! So the task is to give to the man a simplified version of the plan. A better plan in this case is simply:\n",
    "\n",
    "[\"WEST\"]\n",
    "or\n",
    "\n",
    "{ \"WEST\" }\n",
    "or\n",
    "\n",
    "[West]\n",
    "\n",
    "Other examples:\n",
    "\n",
    "In [\"NORTH\", \"SOUTH\", \"EAST\", \"WEST\"], the direction \"NORTH\" + \"SOUTH\" is going north and coming back right away. What a waste of time! Better to do nothing.\n",
    "\n",
    "The path becomes [\"EAST\", \"WEST\"], now \"EAST\" and \"WEST\" annihilate each other, therefore, the final result is [] (nil in Clojure).\n",
    "\n",
    "In [\"NORTH\", \"EAST\", \"WEST\", \"SOUTH\", \"WEST\", \"WEST\"], \"NORTH\" and \"SOUTH\" are not directly opposite but they become directly opposite after the reduction of \"EAST\" and \"WEST\" so the whole path is reducible to [\"WEST\", \"WEST\"].\n",
    "\n",
    "Task\n",
    "\n",
    "Write a function dirReduc which will take an array of strings and returns an array of strings with the needless directions removed (W<->E or S<->N side by side).\n",
    "\n",
    "The Haskell version takes a list of directions with data Direction = North | East | West | South.\n",
    "The Clojure version returns nil when the path is reduced to nothing.\n",
    "The Rust version takes a slice of enum Direction {NORTH, SOUTH, EAST, WEST}.\n",
    "\n",
    "See more examples in \"Sample Tests:\"\n",
    "\n",
    "Notes\n",
    "\n",
    "Not all paths can be made simpler. The path [\"NORTH\", \"WEST\", \"SOUTH\", \"EAST\"] is not reducible. \"NORTH\" and \"WEST\", \"WEST\" and \"SOUTH\", \"SOUTH\" and \"EAST\" are not directly opposite of each other and can't become such. Hence the result path is itself : [\"NORTH\", \"WEST\", \"SOUTH\", \"EAST\"].\n",
    "\n",
    "if you want to translate, please ask before translating."
   ]
  },
  {
   "cell_type": "code",
   "execution_count": 6,
   "metadata": {},
   "outputs": [
    {
     "ename": "IndexError",
     "evalue": "pop from empty list",
     "output_type": "error",
     "traceback": [
      "\u001b[1;31m---------------------------------------------------------------------------\u001b[0m",
      "\u001b[1;31mIndexError\u001b[0m                                Traceback (most recent call last)",
      "\u001b[1;32m<ipython-input-6-8fd4b3b9e7ab>\u001b[0m in \u001b[0;36m<module>\u001b[1;34m\u001b[0m\n\u001b[0;32m      1\u001b[0m \u001b[0ma\u001b[0m \u001b[1;33m=\u001b[0m \u001b[1;33m[\u001b[0m\u001b[1;33m]\u001b[0m\u001b[1;33m\u001b[0m\u001b[1;33m\u001b[0m\u001b[0m\n\u001b[0;32m      2\u001b[0m \u001b[1;31m#print(a[len(a) - 1])\u001b[0m\u001b[1;33m\u001b[0m\u001b[1;33m\u001b[0m\u001b[1;33m\u001b[0m\u001b[0m\n\u001b[1;32m----> 3\u001b[1;33m \u001b[0ma\u001b[0m\u001b[1;33m.\u001b[0m\u001b[0mpop\u001b[0m\u001b[1;33m(\u001b[0m\u001b[1;33m)\u001b[0m\u001b[1;33m\u001b[0m\u001b[1;33m\u001b[0m\u001b[0m\n\u001b[0m",
      "\u001b[1;31mIndexError\u001b[0m: pop from empty list"
     ]
    }
   ],
   "source": [
    "a = []\n",
    "#print(a[len(a) - 1])\n",
    "a.pop()"
   ]
  },
  {
   "cell_type": "markdown",
   "metadata": {},
   "source": [
    "Вариант 1:"
   ]
  },
  {
   "cell_type": "code",
   "execution_count": 11,
   "metadata": {},
   "outputs": [
    {
     "data": {
      "text/plain": [
       "['WEST']"
      ]
     },
     "execution_count": 11,
     "metadata": {},
     "output_type": "execute_result"
    }
   ],
   "source": [
    "def dirReduc(arr):\n",
    "    stack = []\n",
    "    for direct in arr:\n",
    "        direct = direct.upper()\n",
    "        if len(stack) != 0:\n",
    "            prevDirect = stack[-1]\n",
    "            if direct == 'NORTH' and prevDirect == 'SOUTH' \\\n",
    "                or direct == 'SOUTH' and prevDirect == 'NORTH' \\\n",
    "                    or direct == 'WEST' and prevDirect == 'EAST' \\\n",
    "                        or direct == 'EAST' and prevDirect == 'WEST':\n",
    "                            stack.pop()\n",
    "            else:\n",
    "                stack.append(direct)        \n",
    "        else:\n",
    "            stack.append(direct)\n",
    "    return stack\n",
    "\n",
    "dirReduc([\"NORTH\", \"SOUTH\", \"SOUTH\", \"EAST\", \"WEST\", \"NORTH\", \"WEST\"])"
   ]
  },
  {
   "cell_type": "markdown",
   "metadata": {},
   "source": [
    "Вариант 2:"
   ]
  },
  {
   "cell_type": "code",
   "execution_count": 12,
   "metadata": {},
   "outputs": [
    {
     "data": {
      "text/plain": [
       "['WEST']"
      ]
     },
     "execution_count": 12,
     "metadata": {},
     "output_type": "execute_result"
    }
   ],
   "source": [
    "def dirReduc(arr):\n",
    "    stack = []\n",
    "    for direct in arr:\n",
    "        direct = direct.upper()\n",
    "        opposDir = {'NORTH':'SOUTH', 'SOUTH':'NORTH', 'WEST':'EAST', 'EAST':'WEST'}\n",
    "        if len(stack) != 0:\n",
    "            prevDirect = stack[-1]\n",
    "            if opposDir[direct] == prevDirect:\n",
    "                stack.pop()\n",
    "            else:\n",
    "                stack.append(direct)        \n",
    "        else:\n",
    "            stack.append(direct)\n",
    "    return stack\n",
    "\n",
    "dirReduc([\"NORTH\", \"SOUTH\", \"SOUTH\", \"EAST\", \"WEST\", \"NORTH\", \"WEST\"])"
   ]
  },
  {
   "cell_type": "markdown",
   "metadata": {},
   "source": [
    "### Mumbling\n",
    "\n",
    "This time no story, no theory. The examples below show you how to write function accum:\n",
    "\n",
    "Examples:\n",
    "\n",
    "accum(\"abcd\") -> \"A-Bb-Ccc-Dddd\"\n",
    "\n",
    "accum(\"RqaEzty\") -> \"R-Qq-Aaa-Eeee-Zzzzz-Tttttt-Yyyyyyy\"\n",
    "\n",
    "accum(\"cwAt\") -> \"C-Ww-Aaa-Tttt\"\n",
    "\n",
    "The parameter of accum is a string which includes only letters from a..z and A..Z."
   ]
  },
  {
   "cell_type": "code",
   "execution_count": 13,
   "metadata": {},
   "outputs": [
    {
     "name": "stdout",
     "output_type": "stream",
     "text": [
      "A-Bb-Ccc-Dddd\n",
      "R-Qq-Aaa-Eeee-Zzzzz-Tttttt-Yyyyyyy\n",
      "C-Ww-Aaa-Tttt\n"
     ]
    }
   ],
   "source": [
    "def accum(s):\n",
    "    res = []\n",
    "    for i in range(len(s)):\n",
    "        res.append(((i + 1) * s[i]).title())\n",
    "    return '-'.join(res)\n",
    "\n",
    "print(accum(\"abcd\")) # \"A-Bb-Ccc-Dddd\"\n",
    "print(accum(\"RqaEzty\")) # \"R-Qq-Aaa-Eeee-Zzzzz-Tttttt-Yyyyyyy\"\n",
    "print(accum(\"cwAt\")) # \"C-Ww-Aaa-Tttt\""
   ]
  },
  {
   "cell_type": "markdown",
   "metadata": {},
   "source": [
    "То же самое решение, но только с исользованием метода str.capitalize(), который больше подходит для одного слова, в отличии от title, который может обрабатывать несколько слов в тексте:"
   ]
  },
  {
   "cell_type": "code",
   "execution_count": 28,
   "metadata": {},
   "outputs": [
    {
     "name": "stdout",
     "output_type": "stream",
     "text": [
      "A-Bb-Ccc-Dddd\n",
      "R-Qq-Aaa-Eeee-Zzzzz-Tttttt-Yyyyyyy\n",
      "C-Ww-Aaa-Tttt\n"
     ]
    }
   ],
   "source": [
    "def accum(s):\n",
    "    res = []\n",
    "    for i in range(len(s)):\n",
    "        res.append(((i + 1) * s[i]).capitalize())\n",
    "    return '-'.join(res)\n",
    "\n",
    "print(accum(\"abcd\")) # \"A-Bb-Ccc-Dddd\"\n",
    "print(accum(\"RqaEzty\")) # \"R-Qq-Aaa-Eeee-Zzzzz-Tttttt-Yyyyyyy\"\n",
    "print(accum(\"cwAt\")) # \"C-Ww-Aaa-Tttt\""
   ]
  },
  {
   "cell_type": "code",
   "execution_count": 18,
   "metadata": {},
   "outputs": [
    {
     "name": "stdout",
     "output_type": "stream",
     "text": [
      "(0, 'd')\n",
      "(1, 'h')\n",
      "(2, 'd')\n",
      "(3, 'd')\n"
     ]
    }
   ],
   "source": [
    "c = 'dhdd'\n",
    "for a in enumerate(c):\n",
    "    print(a)"
   ]
  },
  {
   "cell_type": "code",
   "execution_count": 20,
   "metadata": {},
   "outputs": [
    {
     "name": "stdout",
     "output_type": "stream",
     "text": [
      "(1, 'd')\n",
      "(2, 'h')\n",
      "(3, 'd')\n",
      "(4, 'd')\n"
     ]
    }
   ],
   "source": [
    "c = 'dhdd'\n",
    "for a in enumerate(c, 1):\n",
    "    print(a)"
   ]
  },
  {
   "cell_type": "code",
   "execution_count": 21,
   "metadata": {},
   "outputs": [
    {
     "name": "stdout",
     "output_type": "stream",
     "text": [
      "(2, 'd')\n",
      "(3, 'h')\n",
      "(4, 'd')\n",
      "(5, 'd')\n"
     ]
    }
   ],
   "source": [
    "c = 'dhdd'\n",
    "for a in enumerate(c, 2):\n",
    "    print(a)"
   ]
  },
  {
   "cell_type": "code",
   "execution_count": 22,
   "metadata": {},
   "outputs": [
    {
     "data": {
      "text/plain": [
       "'Dhsdh-Ghhhdf-Hhh-H-Bh-Jjd'"
      ]
     },
     "execution_count": 22,
     "metadata": {},
     "output_type": "execute_result"
    }
   ],
   "source": [
    "s = 'dhsdH-ghhHdf-hhH-h-Bh-jjd'\n",
    "s.title()"
   ]
  },
  {
   "cell_type": "code",
   "execution_count": 26,
   "metadata": {},
   "outputs": [
    {
     "data": {
      "text/plain": [
       "'Dhsdh-ghhhdf-hhh-h-bh-jjd'"
      ]
     },
     "execution_count": 26,
     "metadata": {},
     "output_type": "execute_result"
    }
   ],
   "source": [
    "s = 'dhsdH-ghhHdf-hhH-h-Bh-jjd'\n",
    "s.capitalize()"
   ]
  },
  {
   "cell_type": "markdown",
   "metadata": {},
   "source": [
    "Подсмотрела этот вариант на codewars:"
   ]
  },
  {
   "cell_type": "code",
   "execution_count": 27,
   "metadata": {},
   "outputs": [
    {
     "name": "stdout",
     "output_type": "stream",
     "text": [
      "A-Bb-Ccc-Dddd\n",
      "R-Qq-Aaa-Eeee-Zzzzz-Tttttt-Yyyyyyy\n",
      "C-Ww-Aaa-Tttt\n"
     ]
    }
   ],
   "source": [
    "def accum(s):\n",
    "    return '-'.join(c.upper() + i * c.lower() for i, c in enumerate(s))\n",
    "\n",
    "print(accum(\"abcd\")) # \"A-Bb-Ccc-Dddd\"\n",
    "print(accum(\"RqaEzty\")) # \"R-Qq-Aaa-Eeee-Zzzzz-Tttttt-Yyyyyyy\"\n",
    "print(accum(\"cwAt\")) # \"C-Ww-Aaa-Tttt\""
   ]
  },
  {
   "cell_type": "markdown",
   "metadata": {},
   "source": [
    "Don't we have to surround exprssion inside join() with square brackets since it is a list comprehension? Isn't it an error?\n",
    "\n",
    "No. join takes an iterable as argument, which includes generators. (c.upper() + c.lower() * i for i, c in enumerate(s)) is a generator comprehension and can be passed as an argument to join. There is a syntactic rule in Python that says that when a generator comprehension is the only argument in a function call, then the parenthesis of the generator comprehension may be dropped (so instead of '-'.join((c.upper() + c.lower() * i for i, c in enumerate(s))), you may write '-'.join(c.upper() + c.lower() * i for i, c in enumerate(s))). Using a generator comprehension instead of a list comprehension is often preferable since it doesn't require a list as an intermediate data structure."
   ]
  },
  {
   "cell_type": "markdown",
   "metadata": {},
   "source": [
    "Подсмотрела этот вариант на codewars:"
   ]
  },
  {
   "cell_type": "code",
   "execution_count": 24,
   "metadata": {},
   "outputs": [
    {
     "name": "stdout",
     "output_type": "stream",
     "text": [
      "A-Bb-Ccc-Dddd\n",
      "R-Qq-Aaa-Eeee-Zzzzz-Tttttt-Yyyyyyy\n",
      "C-Ww-Aaa-Tttt\n"
     ]
    }
   ],
   "source": [
    "def accum(s):\n",
    "    return '-'.join((i * c).title() for i, c in enumerate(s, 1))\n",
    "\n",
    "print(accum(\"abcd\")) # \"A-Bb-Ccc-Dddd\"\n",
    "print(accum(\"RqaEzty\")) # \"R-Qq-Aaa-Eeee-Zzzzz-Tttttt-Yyyyyyy\"\n",
    "print(accum(\"cwAt\")) # \"C-Ww-Aaa-Tttt\""
   ]
  },
  {
   "cell_type": "code",
   "execution_count": 2,
   "metadata": {},
   "outputs": [
    {
     "name": "stdout",
     "output_type": "stream",
     "text": [
      "2\n"
     ]
    },
    {
     "ename": "TypeError",
     "evalue": "'int' object is not callable",
     "output_type": "error",
     "traceback": [
      "\u001b[1;31m---------------------------------------------------------------------------\u001b[0m",
      "\u001b[1;31mTypeError\u001b[0m                                 Traceback (most recent call last)",
      "\u001b[1;32m<ipython-input-2-d76d91621865>\u001b[0m in \u001b[0;36m<module>\u001b[1;34m\u001b[0m\n\u001b[0;32m      2\u001b[0m \u001b[0maddTwo\u001b[0m \u001b[1;33m=\u001b[0m \u001b[0madd\u001b[0m\u001b[1;33m(\u001b[0m\u001b[1;36m2\u001b[0m\u001b[1;33m)\u001b[0m\u001b[1;33m\u001b[0m\u001b[1;33m\u001b[0m\u001b[0m\n\u001b[0;32m      3\u001b[0m \u001b[0mprint\u001b[0m\u001b[1;33m(\u001b[0m\u001b[0maddTwo\u001b[0m\u001b[1;33m)\u001b[0m\u001b[1;33m\u001b[0m\u001b[1;33m\u001b[0m\u001b[0m\n\u001b[1;32m----> 4\u001b[1;33m \u001b[0madd\u001b[0m\u001b[1;33m(\u001b[0m\u001b[1;36m3\u001b[0m\u001b[1;33m)\u001b[0m\u001b[1;33m(\u001b[0m\u001b[1;36m4\u001b[0m\u001b[1;33m)\u001b[0m\u001b[1;33m\u001b[0m\u001b[1;33m\u001b[0m\u001b[0m\n\u001b[0m",
      "\u001b[1;31mTypeError\u001b[0m: 'int' object is not callable"
     ]
    }
   ],
   "source": [
    "add = lambda x: x \n",
    "addTwo = add(2)\n",
    "print(addTwo)\n",
    "add(3)(4)"
   ]
  },
  {
   "cell_type": "code",
   "execution_count": 11,
   "metadata": {},
   "outputs": [
    {
     "name": "stdout",
     "output_type": "stream",
     "text": [
      "<function add.<locals>.<lambda> at 0x000000000596BAE8>\n",
      "4\n"
     ]
    },
    {
     "ename": "TypeError",
     "evalue": "'int' object is not callable",
     "output_type": "error",
     "traceback": [
      "\u001b[1;31m---------------------------------------------------------------------------\u001b[0m",
      "\u001b[1;31mTypeError\u001b[0m                                 Traceback (most recent call last)",
      "\u001b[1;32m<ipython-input-11-f740113b555c>\u001b[0m in \u001b[0;36m<module>\u001b[1;34m\u001b[0m\n\u001b[0;32m      4\u001b[0m \u001b[0mprint\u001b[0m\u001b[1;33m(\u001b[0m\u001b[0maddTwo\u001b[0m\u001b[1;33m)\u001b[0m\u001b[1;33m\u001b[0m\u001b[1;33m\u001b[0m\u001b[0m\n\u001b[0;32m      5\u001b[0m \u001b[0mprint\u001b[0m\u001b[1;33m(\u001b[0m\u001b[0madd\u001b[0m\u001b[1;33m(\u001b[0m\u001b[1;36m3\u001b[0m\u001b[1;33m)\u001b[0m\u001b[1;33m(\u001b[0m\u001b[1;36m4\u001b[0m\u001b[1;33m)\u001b[0m\u001b[1;33m)\u001b[0m\u001b[1;33m\u001b[0m\u001b[1;33m\u001b[0m\u001b[0m\n\u001b[1;32m----> 6\u001b[1;33m \u001b[0mprint\u001b[0m\u001b[1;33m(\u001b[0m\u001b[0madd\u001b[0m\u001b[1;33m(\u001b[0m\u001b[1;36m3\u001b[0m\u001b[1;33m)\u001b[0m\u001b[1;33m(\u001b[0m\u001b[1;36m4\u001b[0m\u001b[1;33m)\u001b[0m\u001b[1;33m(\u001b[0m\u001b[1;36m1\u001b[0m\u001b[1;33m)\u001b[0m\u001b[1;33m)\u001b[0m\u001b[1;33m\u001b[0m\u001b[1;33m\u001b[0m\u001b[0m\n\u001b[0m",
      "\u001b[1;31mTypeError\u001b[0m: 'int' object is not callable"
     ]
    }
   ],
   "source": [
    "def add(x):\n",
    "    return lambda x: x \n",
    "addTwo = add(2)\n",
    "print(addTwo)\n",
    "print(add(3)(4))\n",
    "print(add(3)(4)(1))"
   ]
  },
  {
   "cell_type": "code",
   "execution_count": 10,
   "metadata": {},
   "outputs": [
    {
     "name": "stdout",
     "output_type": "stream",
     "text": [
      "<function add at 0x000000000596BA60>\n"
     ]
    }
   ],
   "source": [
    "def add(x):\n",
    "    return add\n",
    "\n",
    "addTwo = add(2)\n",
    "print(addTwo)"
   ]
  },
  {
   "cell_type": "markdown",
   "metadata": {},
   "source": [
    "### Duplicate Encoder\n",
    "\n",
    "The goal of this exercise is to convert a string to a new string where each character in the new string is \"(\" if that character appears only once in the original string, or \")\" if that character appears more than once in the original string. Ignore capitalization when determining if a character is a duplicate.\n",
    "\n",
    "Examples\n",
    "\n",
    "\"din\"      =>  \"(((\"\n",
    "\n",
    "\"recede\"   =>  \"()()()\"\n",
    "\n",
    "\"Success\"  =>  \")())())\"\n",
    "\n",
    "\"(( @\"     =>  \"))((\" \n",
    "Notes\n",
    "\n",
    "Assertion messages may be unclear about what they display in some languages. If you read \"...It Should encode XXX\", the \"XXX\" is the expected result, not the input!"
   ]
  },
  {
   "cell_type": "markdown",
   "metadata": {},
   "source": [
    "Вариант 1:"
   ]
  },
  {
   "cell_type": "code",
   "execution_count": 14,
   "metadata": {},
   "outputs": [
    {
     "name": "stdout",
     "output_type": "stream",
     "text": [
      "(((\n",
      "()()()\n",
      ")())())\n",
      "))((\n",
      ")))(()\n"
     ]
    }
   ],
   "source": [
    "def duplicate_encode(word):\n",
    "    res = ''\n",
    "    word = word.lower()\n",
    "    for c in word:\n",
    "        if word.count(c) == 1:\n",
    "            res += '('\n",
    "        else:\n",
    "            res += ')'\n",
    "    return res\n",
    "\n",
    "print(duplicate_encode(\"din\"))      #  \"(((\"\n",
    "print(duplicate_encode(\"recede\"))   #  \"()()()\"\n",
    "print(duplicate_encode(\"Success\"))  #  \")())())\"\n",
    "print(duplicate_encode(\"(( @\"))     #  \"))((\" \n",
    "print(duplicate_encode(\"сиськи\")) "
   ]
  },
  {
   "cell_type": "markdown",
   "metadata": {},
   "source": [
    "Вариант 2:"
   ]
  },
  {
   "cell_type": "code",
   "execution_count": 17,
   "metadata": {},
   "outputs": [
    {
     "name": "stdout",
     "output_type": "stream",
     "text": [
      "(((\n",
      "()()()\n",
      ")())())\n",
      "))((\n",
      ")))(()\n"
     ]
    }
   ],
   "source": [
    "def duplicate_encode(word):\n",
    "    word = word.lower()\n",
    "    res = ['(' if word.count(c) == 1 else ')' for c in word]\n",
    "    return ''.join(res)\n",
    "\n",
    "print(duplicate_encode(\"din\"))      #  \"(((\"\n",
    "print(duplicate_encode(\"recede\"))   #  \"()()()\"\n",
    "print(duplicate_encode(\"Success\"))  #  \")())())\"\n",
    "print(duplicate_encode(\"(( @\"))     #  \"))((\" \n",
    "print(duplicate_encode(\"сиськи\")) "
   ]
  },
  {
   "cell_type": "markdown",
   "metadata": {},
   "source": [
    "### Highest Scoring Word\n",
    "\n",
    "Each letter of a word scores points according to its position in the alphabet: a = 1, b = 2, c = 3 etc.\n",
    "\n",
    "You need to return the highest scoring word as a string.\n",
    "\n",
    "If two words score the same, return the word that appears earliest in the original string.\n",
    "\n",
    "All letters will be lowercase and all inputs will be valid."
   ]
  },
  {
   "cell_type": "code",
   "execution_count": 61,
   "metadata": {},
   "outputs": [
    {
     "data": {
      "text/plain": [
       "[('f', [1, 5]), ('c', [3, 6]), ('a', [0, 6])]"
      ]
     },
     "execution_count": 61,
     "metadata": {},
     "output_type": "execute_result"
    }
   ],
   "source": [
    "D = {'c':[3, 6], 'a':[0, 6], 'f':[1,  5]}\n",
    "#sorted(D.items())\n",
    "#sorted(D.items(), key=lambda item: item[1])\n",
    "#sorted(D.items(), key=lambda item: item[1][1])\n",
    "sorted(sorted(D.items(), key=lambda item: item[1][0], reverse=True), key=lambda item: item[1][1])"
   ]
  },
  {
   "cell_type": "code",
   "execution_count": 31,
   "metadata": {},
   "outputs": [
    {
     "data": {
      "text/plain": [
       "97"
      ]
     },
     "execution_count": 31,
     "metadata": {},
     "output_type": "execute_result"
    }
   ],
   "source": [
    "ord('a')"
   ]
  },
  {
   "cell_type": "markdown",
   "metadata": {},
   "source": [
    "Вариант 1:"
   ]
  },
  {
   "cell_type": "code",
   "execution_count": 63,
   "metadata": {
    "scrolled": true
   },
   "outputs": [
    {
     "name": "stdout",
     "output_type": "stream",
     "text": [
      "lxjcgtkulx\n",
      "volcano\n",
      "hhhhj\n",
      "volcano\n"
     ]
    }
   ],
   "source": [
    "def high(x):\n",
    "    score = {}\n",
    "    i = 0\n",
    "    for word in x.split():\n",
    "        if word not in score:\n",
    "            score[word] = [i, sum(ord(c) - 96 for c in word)]\n",
    "            i += 1\n",
    "    return sorted(sorted(score.items(), key=lambda item: item[1][0], reverse=True), key=lambda item: item[1][1])[-1][0]\n",
    "    #return sorted(sorted(score.items(), key=lambda item: item[1][0], reverse=True), key=lambda item: item[1][1])\n",
    "\n",
    "print(high('lxjcgtkulx ccrtwzaqpq'))\n",
    "print(high('volcano climbing'))\n",
    "print(high('hhhhj gggr hhhhj'))\n",
    "print(high('what time are we climbing up the volcano'))"
   ]
  },
  {
   "cell_type": "markdown",
   "metadata": {},
   "source": [
    "Вариант 2:"
   ]
  },
  {
   "cell_type": "code",
   "execution_count": 69,
   "metadata": {},
   "outputs": [
    {
     "name": "stdout",
     "output_type": "stream",
     "text": [
      "lxjcgtkulx\n",
      "volcano\n",
      "hhhhj\n",
      "volcano\n"
     ]
    }
   ],
   "source": [
    "def high(x):\n",
    "    score = {}\n",
    "    for word in x.split()[::-1]:\n",
    "        #if word not in score.values():\n",
    "            #score[sum(ord(c) - 96 for c in word)] = word\n",
    "        score[sum(ord(c) - 96 for c in word)] = word\n",
    "    return sorted(score.items())[-1][1]\n",
    "\n",
    "print(high('lxjcgtkulx ccrtwzaqpq'))\n",
    "print(high('volcano climbing'))\n",
    "print(high('hhhhj gggr hhhhj'))\n",
    "print(high('what time are we climbing up the volcano'))"
   ]
  },
  {
   "cell_type": "markdown",
   "metadata": {},
   "source": [
    "Решения, подсмотренные на codewars:"
   ]
  },
  {
   "cell_type": "code",
   "execution_count": 77,
   "metadata": {},
   "outputs": [
    {
     "name": "stdout",
     "output_type": "stream",
     "text": [
      "lxjcgtkulx\n",
      "volcano\n",
      "hhhhj\n",
      "volcano\n"
     ]
    }
   ],
   "source": [
    "def high(x):\n",
    "    return max(x.split(), key=lambda word: sum(ord(c) - 96 for c in word))\n",
    "\n",
    "print(high('lxjcgtkulx ccrtwzaqpq'))\n",
    "print(high('volcano climbing'))\n",
    "print(high('hhhhj gggr hhhhj'))\n",
    "print(high('what time are we climbing up the volcano'))"
   ]
  },
  {
   "cell_type": "code",
   "execution_count": 82,
   "metadata": {},
   "outputs": [
    {
     "name": "stdout",
     "output_type": "stream",
     "text": [
      "lxjcgtkulx\n",
      "volcano\n",
      "hhhhj\n",
      "volcano\n"
     ]
    }
   ],
   "source": [
    "def high(x):\n",
    "    x = x.split()\n",
    "    scores = [sum(ord(c) - 96 for c in word) for word in x]\n",
    "    return x[scores.index(max(scores))]\n",
    " \n",
    "print(high('lxjcgtkulx ccrtwzaqpq'))\n",
    "print(high('volcano climbing'))\n",
    "print(high('hhhhj gggr hhhhj'))\n",
    "print(high('what time are we climbing up the volcano'))"
   ]
  },
  {
   "cell_type": "code",
   "execution_count": 102,
   "metadata": {},
   "outputs": [
    {
     "name": "stdout",
     "output_type": "stream",
     "text": [
      "lxjcgtkulx\n",
      "volcano\n",
      "hhhhj\n",
      "volcano\n"
     ]
    }
   ],
   "source": [
    "def high(x):\n",
    "    x = x.split()\n",
    "    scores = enumerate([sum(ord(c) - 96 for c in word) for word in x])\n",
    "    #print(scores) # <enumerate object at 0x000000000589A6C0>\n",
    "    return x[max(scores, key= lambda y: y[1])[0]]\n",
    " \n",
    "print(high('lxjcgtkulx ccrtwzaqpq'))\n",
    "print(high('volcano climbing'))\n",
    "print(high('hhhhj gggr hhhhj'))\n",
    "print(high('what time are we climbing up the volcano'))"
   ]
  },
  {
   "cell_type": "code",
   "execution_count": 112,
   "metadata": {},
   "outputs": [
    {
     "name": "stdout",
     "output_type": "stream",
     "text": [
      "lxjcgtkulx\n",
      "volcano\n",
      "hhhhj\n",
      "volcano\n"
     ]
    }
   ],
   "source": [
    "def high(x):\n",
    "    return max((sum(ord(c) - 96 for c in word), word) for word in x.split())[1]\n",
    " \n",
    "print(high('lxjcgtkulx ccrtwzaqpq'))\n",
    "print(high('volcano climbing'))\n",
    "print(high('hhhhj gggr hhhhj'))\n",
    "print(high('what time are we climbing up the volcano'))"
   ]
  },
  {
   "cell_type": "code",
   "execution_count": 113,
   "metadata": {},
   "outputs": [
    {
     "name": "stdout",
     "output_type": "stream",
     "text": [
      "YES\n",
      "NO\n",
      "NO\n"
     ]
    }
   ],
   "source": [
    "def tickets(bills):\n",
    "    change = {25:0, 50:0}\n",
    "    for bill in bills:\n",
    "        if bill == 25:\n",
    "            change[25] += 1\n",
    "        elif bill == 50:\n",
    "            if change[25] >= 1:\n",
    "                change[50] += 1\n",
    "                change[25] -= 1\n",
    "            else:\n",
    "                return 'NO'\n",
    "        elif bill == 100:\n",
    "            if change[50] >= 1 and change[25] >= 1:\n",
    "                change[50] -= 1\n",
    "                change[25] -= 1\n",
    "            elif change[25] >= 3:\n",
    "                change[25] -= 3\n",
    "            else:\n",
    "                return 'NO'\n",
    "    return 'YES'\n",
    "\n",
    "print(tickets([25, 25, 50])) # => YES \n",
    "print(tickets([25, 100])) # => NO. Vasya will not have enough money to give change to 100 dollars\n",
    "print(tickets([25, 25, 50, 50, 100])) # => NO. Vasya will not have the right bills to give 75 dollars of change (you can't make two bills of 25 from one of 50)"
   ]
  },
  {
   "cell_type": "markdown",
   "metadata": {},
   "source": [
    "### The Deaf Rats of Hamelin\n",
    "Story\n",
    "\n",
    "The Pied Piper has been enlisted to play his magical tune and coax all the rats out of town.\n",
    "\n",
    "But some of the rats are deaf and are going the wrong way!\n",
    "\n",
    "Kata Task\n",
    "How many deaf rats are there?"
   ]
  },
  {
   "cell_type": "raw",
   "metadata": {},
   "source": [
    "Legend\n",
    "P = The Pied Piper\n",
    "O~ = Rat going left\n",
    "~O = Rat going right"
   ]
  },
  {
   "cell_type": "raw",
   "metadata": {},
   "source": [
    "Example\n",
    "ex1 ~O~O~O~O P has 0 deaf rats\n",
    "ex2 P O~ O~ ~O O~ has 1 deaf rat\n",
    "ex3 ~O~O~O~OP~O~OO~ has 2 deaf rats"
   ]
  },
  {
   "cell_type": "code",
   "execution_count": null,
   "metadata": {},
   "outputs": [],
   "source": [
    "def count_deaf_rats(town):\n",
    "    deaf = 0\n",
    "    left, P, right = town.partition('P')\n",
    "    left = ''.join((left.split()))\n",
    "    right = ''.join((right.split()))\n",
    "    for i in range(0, len(left), 2):\n",
    "        if left[i:i + 2] == 'O~':\n",
    "            deaf += 1\n",
    "    for i in range(0, len(right), 2):\n",
    "        if right[i:i + 2] == '~O':\n",
    "            deaf += 1\n",
    "    return deaf    "
   ]
  },
  {
   "cell_type": "code",
   "execution_count": 5,
   "metadata": {},
   "outputs": [
    {
     "data": {
      "text/plain": [
       "'fsdggs'"
      ]
     },
     "execution_count": 5,
     "metadata": {},
     "output_type": "execute_result"
    }
   ],
   "source": [
    "a = 'fsdggs'\n",
    "''.join((a.split()))"
   ]
  },
  {
   "cell_type": "code",
   "execution_count": null,
   "metadata": {},
   "outputs": [],
   "source": [
    "def count_deaf_rats(town):\n",
    "    deaf = 0\n",
    "    left, P, right = town.partition('P')\n",
    "    left = ''.join((left.split()))\n",
    "    right = ''.join((right.split()))\n",
    "    for i in range(0, len(left), 2):\n",
    "        if left[i:i + 2] == 'O~':\n",
    "            deaf += 1\n",
    "    for i in range(0, len(right), 2):\n",
    "        if right[i:i + 2] == '~O':\n",
    "            deaf += 1\n",
    "    return deaf  "
   ]
  },
  {
   "cell_type": "code",
   "execution_count": 10,
   "metadata": {},
   "outputs": [
    {
     "name": "stdout",
     "output_type": "stream",
     "text": [
      "2\n"
     ]
    }
   ],
   "source": [
    "a = ['ab', 'ba', 'ab', 'ba']\n",
    "print(a.count('ba'))"
   ]
  },
  {
   "cell_type": "markdown",
   "metadata": {},
   "source": [
    "### Hidden \"Cubic\" numbers\n",
    "We search non-negative integer numbers, with at most 3 digits, such as the sum of the cubes of their digits is the number itself; we will call them \"cubic\" numbers.\n",
    "\n",
    "153 is such a \"cubic\" number : 1^3 + 5^3 + 3^3 = 153\n",
    "These \"cubic\" numbers of at most 3 digits are easy to find, even by hand, so they are \"hidden\" with other numbers and characters in a string.\n",
    "\n",
    "The task is to found, or not, the \"cubic\" numbers in the string and then to make the sum of these \"cubic\" numbers found in the string, if any, and to return a string such as:\n",
    "\n",
    "\"number1 number2 (and so on if necessary) sumOfCubicNumbers Lucky\" \n",
    "if \"cubic\" numbers number1, number2, ... were found. The numbers in the output are to be in the order in which they are encountered in the input string.\n",
    "\n",
    "If no cubic numbers are found return the string:\n",
    "\n",
    "\"Unlucky\".\n",
    "Examples:\n",
    "\n",
    " s = \"aqdf& 0 1 xyz 153 777.777\" must return \"0 1 153 154 Lucky\"\n",
    "\n",
    " s = \"QK29 45[&erui\" must return \"Unlucky\".\n",
    " \n",
    "Note: In the string \"001234\" where 3 digits or more follow each other the fist packet to examine is \"001\" and the following is \"234\". If a packet of at most three digits has been taken, whether or not \"cubic\", it's over for that packet.\n",
    "\n",
    "When a continous string of digits exceeds 3, the string is split into groups of 3 from the left. The last grouping could have 3, 2 or 1 digits. e.g \"24172410\" becomes 3 strings comprising \"241\", \"724\" and \"10\" e.g \"0785\" becomes 2 strings comprising \"078\" and \"5\"."
   ]
  },
  {
   "cell_type": "markdown",
   "metadata": {},
   "source": [
    "Вариант 1:"
   ]
  },
  {
   "cell_type": "code",
   "execution_count": 21,
   "metadata": {},
   "outputs": [
    {
     "name": "stdout",
     "output_type": "stream",
     "text": [
      "0 0 Lucky\n",
      "Unlucky\n",
      "0 1 153 154 Lucky\n",
      "Unlucky\n"
     ]
    }
   ],
   "source": [
    "import re\n",
    "\n",
    "def is_sum_of_cubes(s):\n",
    "    nums = [num for num in re.findall(r'\\d{1,3}', s) if sum(int(d)**3 for d in num) == int(num)] # r'\\d{1,}' = r'\\d+'\n",
    "    if len(nums) > 0:\n",
    "        return ' '.join(nums) + ' ' + str(sum(int(num) for num in nums)) + ' Lucky'\n",
    "    return \"Unlucky\"\n",
    "\n",
    "print(is_sum_of_cubes(\"0 9026315 -827&()\"))\n",
    "print(is_sum_of_cubes(\"No numbers!\"))\n",
    "print(is_sum_of_cubes(\"aqdf& 0 1 xyz 153 777.777\"))\n",
    "print(is_sum_of_cubes(\"QK29 45[&erui\"))"
   ]
  },
  {
   "cell_type": "markdown",
   "metadata": {},
   "source": [
    "Переписала вариант 1, сделав его чуть более понятным, и сократив количество действий, но вариант 1 всё-равно кажется более приятным:"
   ]
  },
  {
   "cell_type": "code",
   "execution_count": 29,
   "metadata": {},
   "outputs": [
    {
     "name": "stdout",
     "output_type": "stream",
     "text": [
      "0 0 Lucky\n",
      "Unlucky\n",
      "0 1 153 154 Lucky\n",
      "Unlucky\n"
     ]
    }
   ],
   "source": [
    "import re\n",
    "\n",
    "def is_sum_of_cubes(s):\n",
    "    resStr = ''\n",
    "    summ = 0\n",
    "    for snum in re.findall(r'\\d{1,3}', s):\n",
    "        num = int(snum)\n",
    "        if sum(int(d)**3 for d in snum) == num:\n",
    "            resStr += snum + ' '\n",
    "            summ += num\n",
    "    if resStr:\n",
    "        return resStr + str(summ) + ' Lucky'\n",
    "    return \"Unlucky\"\n",
    "\n",
    "print(is_sum_of_cubes(\"0 9026315 -827&()\"))\n",
    "print(is_sum_of_cubes(\"No numbers!\"))\n",
    "print(is_sum_of_cubes(\"aqdf& 0 1 xyz 153 777.777\"))\n",
    "print(is_sum_of_cubes(\"QK29 45[&erui\"))"
   ]
  },
  {
   "cell_type": "code",
   "execution_count": null,
   "metadata": {},
   "outputs": [],
   "source": []
  }
 ],
 "metadata": {
  "kernelspec": {
   "display_name": "Python 3 (base)",
   "language": "python",
   "name": "python3"
  },
  "language_info": {
   "codemirror_mode": {
    "name": "ipython",
    "version": 3
   },
   "file_extension": ".py",
   "mimetype": "text/x-python",
   "name": "python",
   "nbconvert_exporter": "python",
   "pygments_lexer": "ipython3",
   "version": "3.7.3"
  }
 },
 "nbformat": 4,
 "nbformat_minor": 2
}
