{
 "cells": [
  {
   "cell_type": "markdown",
   "metadata": {},
   "source": [
    "# Занятие 5. Строки (pythontutor.ru)"
   ]
  },
  {
   "cell_type": "code",
   "execution_count": 1,
   "metadata": {},
   "outputs": [
    {
     "name": "stdout",
     "output_type": "stream",
     "text": [
      "f in dsdff\n",
      "d s d f f "
     ]
    }
   ],
   "source": [
    "str1 = 'dsdff'\n",
    "if 'f' in str1:\n",
    "    print('f in', str1)\n",
    "for ch in str1:\n",
    "    print(ch, end=' ')"
   ]
  },
  {
   "cell_type": "code",
   "execution_count": 8,
   "metadata": {},
   "outputs": [
    {
     "name": "stdout",
     "output_type": "stream",
     "text": [
      "{4, 6, 7}\n",
      "9\n",
      "11\n",
      "12\n",
      "{4, 6, 7}\n",
      "3\n"
     ]
    }
   ],
   "source": [
    "mySet = set((4, 6, 6, 7))\n",
    "print(mySet)\n",
    "for i in mySet:\n",
    "    i += 5\n",
    "    print(i)\n",
    "print(mySet)\n",
    "print(len(mySet))"
   ]
  },
  {
   "cell_type": "code",
   "execution_count": 3,
   "metadata": {
    "scrolled": true
   },
   "outputs": [
    {
     "name": "stdout",
     "output_type": "stream",
     "text": [
      "укпв\n",
      "4\n",
      "3\n",
      "укпвукпвукпв\n",
      "укпв 3\n"
     ]
    }
   ],
   "source": [
    "s = input()\n",
    "print(len(s))\n",
    "t = input()\n",
    "number = int(t)\n",
    "u = str(number)\n",
    "print(s * 3)\n",
    "print(s + ' ' + u)"
   ]
  },
  {
   "cell_type": "markdown",
   "metadata": {},
   "source": [
    "## Задача 1. «Делаем срезы»\n",
    "Дана строка.\n",
    "\n",
    "Сначала выведите третий символ этой строки.\n",
    "\n",
    "Во второй строке выведите предпоследний символ этой строки.\n",
    "\n",
    "В третьей строке выведите первые пять символов этой строки.\n",
    "\n",
    "В четвертой строке выведите всю строку, кроме последних двух символов.\n",
    "\n",
    "В пятой строке выведите все символы с четными индексами (считая, что индексация начинается с 0, поэтому символы выводятся начиная с первого).\n",
    "\n",
    "В шестой строке выведите все символы с нечетными индексами, то есть начиная со второго символа строки.\n",
    "\n",
    "В седьмой строке выведите все символы в обратном порядке.\n",
    "\n",
    "В восьмой строке выведите все символы строки через один в обратном порядке, начиная с последнего.\n",
    "\n",
    "В девятой строке выведите длину данной строки."
   ]
  },
  {
   "cell_type": "code",
   "execution_count": 40,
   "metadata": {},
   "outputs": [
    {
     "name": "stdout",
     "output_type": "stream",
     "text": [
      "1 b\n",
      "2 g\n",
      "3 bc\n",
      "4 bcdef\n",
      "5 abc\n",
      "6 cdefg\n",
      "7 abcdef\n",
      "8 aceg\n",
      "9 bdf\n",
      "10 gfedcba\n",
      "11 gfed\n",
      "12 \n",
      "13 \n",
      "14 abcdefg\n"
     ]
    }
   ],
   "source": [
    "s = 'abcdefg'\n",
    "print(1, s[1])\n",
    "print(2, s[-1])\n",
    "print(3, s[1:3])\n",
    "print(4, s[1:-1])\n",
    "print(5, s[:3])\n",
    "print(6, s[2:])\n",
    "print(7, s[:-1])\n",
    "print(8, s[::2])\n",
    "print(9, s[1::2])\n",
    "print(10, s[::-1])\n",
    "print(11, s[-1:-5:-1]) # выведет в обратном порядке\n",
    "print(12, s[1:5:-1]) # выведет пустую строку\n",
    "print(13, s[20:])  # ошибки IndexError не будет, полчится просто пустая строка\n",
    "print(14, s[:20])"
   ]
  },
  {
   "cell_type": "code",
   "execution_count": 41,
   "metadata": {},
   "outputs": [
    {
     "name": "stdout",
     "output_type": "stream",
     "text": [
      "acegi\n",
      "0 a\n",
      "2 c\n",
      "4 e\n",
      "6 g\n",
      "8 i\n"
     ]
    }
   ],
   "source": [
    "s = 'abcdefghijklm'\n",
    "print(s[0:10:2])\n",
    "for i in range(0, 10, 2):\n",
    "    print(i, s[i])"
   ]
  },
  {
   "cell_type": "code",
   "execution_count": 7,
   "metadata": {},
   "outputs": [
    {
     "name": "stdout",
     "output_type": "stream",
     "text": [
      "02468\n",
      "0 0\n",
      "2 2\n",
      "4 4\n",
      "6 6\n",
      "8 8\n"
     ]
    }
   ],
   "source": [
    "s = '0123456789'\n",
    "print(s[0:10:2])\n",
    "for i in range(0, 10, 2):\n",
    "    print(i, s[i])"
   ]
  },
  {
   "cell_type": "code",
   "execution_count": 9,
   "metadata": {},
   "outputs": [
    {
     "name": "stdout",
     "output_type": "stream",
     "text": [
      "1\n",
      "2\n",
      "-1\n"
     ]
    }
   ],
   "source": [
    "S = 'Hello'\n",
    "print(S.find('e')) # вернёт 1\n",
    "print(S.find('ll')) # вернёт 2\n",
    "print(S.find('L')) # вернёт -1"
   ]
  },
  {
   "cell_type": "markdown",
   "metadata": {},
   "source": [
    "Метод str.rfind() возвращает индекс последнего вхождения данной строки (“поиск справа”):"
   ]
  },
  {
   "cell_type": "code",
   "execution_count": 3,
   "metadata": {},
   "outputs": [
    {
     "name": "stdout",
     "output_type": "stream",
     "text": [
      "2\n",
      "4\n"
     ]
    }
   ],
   "source": [
    "S = 'Helol'\n",
    "print(S.find('l')) # вернёт 2\n",
    "print(S.rfind('l')) # вернёт 4"
   ]
  },
  {
   "cell_type": "markdown",
   "metadata": {},
   "source": [
    "## Задача 2. «Количество слов»\n",
    "Дана строка, состоящая из слов, разделенных пробелами. Определите, сколько в ней слов. Используйте для решения задачи метод count."
   ]
  },
  {
   "cell_type": "code",
   "execution_count": 11,
   "metadata": {},
   "outputs": [
    {
     "name": "stdout",
     "output_type": "stream",
     "text": [
      "fdfh jsfkksfj jsdfjf\n",
      "3\n"
     ]
    }
   ],
   "source": [
    "s = input()\n",
    "print(s.count(' ') + 1)"
   ]
  },
  {
   "cell_type": "code",
   "execution_count": 12,
   "metadata": {},
   "outputs": [
    {
     "name": "stdout",
     "output_type": "stream",
     "text": [
      "fdsf sdfkdsjfk sdflkjl fskfj\n",
      "4\n"
     ]
    }
   ],
   "source": [
    "print(input().count(' ') + 1)"
   ]
  },
  {
   "cell_type": "markdown",
   "metadata": {},
   "source": [
    "Вариант с методом str.split():"
   ]
  },
  {
   "cell_type": "code",
   "execution_count": 13,
   "metadata": {},
   "outputs": [
    {
     "name": "stdout",
     "output_type": "stream",
     "text": [
      "dfdf ddfvg dfdfdf\n",
      "3\n"
     ]
    }
   ],
   "source": [
    "print(len(input().split(' ')))"
   ]
  },
  {
   "cell_type": "markdown",
   "metadata": {},
   "source": [
    "## Задача 3. «Две половинки»\n",
    "Дана строка. Разрежьте ее на две равные части (если длина строки — четная, а если длина строки нечетная, то длина первой части должна быть на один символ больше). Переставьте эти две части местами, результат запишите в новую строку и выведите на экран.\n",
    "\n",
    "При решении этой задачи не стоит пользоваться инструкцией if."
   ]
  },
  {
   "cell_type": "markdown",
   "metadata": {},
   "source": [
    "Метод round() округляет число до ближайшего целого. Если дробная часть числа равна 0.5, то число округляется до ближайшего четного числа (какое-то идиотское правило!!! Не понимаю почему так!!!)."
   ]
  },
  {
   "cell_type": "code",
   "execution_count": 16,
   "metadata": {},
   "outputs": [
    {
     "data": {
      "text/plain": [
       "2"
      ]
     },
     "execution_count": 16,
     "metadata": {},
     "output_type": "execute_result"
    }
   ],
   "source": [
    "round(2.5) "
   ]
  },
  {
   "cell_type": "code",
   "execution_count": 17,
   "metadata": {},
   "outputs": [
    {
     "data": {
      "text/plain": [
       "4"
      ]
     },
     "execution_count": 17,
     "metadata": {},
     "output_type": "execute_result"
    }
   ],
   "source": [
    "round(3.5)"
   ]
  },
  {
   "cell_type": "code",
   "execution_count": 18,
   "metadata": {},
   "outputs": [
    {
     "data": {
      "text/plain": [
       "4"
      ]
     },
     "execution_count": 18,
     "metadata": {},
     "output_type": "execute_result"
    }
   ],
   "source": [
    "round(3.6)"
   ]
  },
  {
   "cell_type": "code",
   "execution_count": 15,
   "metadata": {},
   "outputs": [
    {
     "data": {
      "text/plain": [
       "3"
      ]
     },
     "execution_count": 15,
     "metadata": {},
     "output_type": "execute_result"
    }
   ],
   "source": [
    "round(2.6)"
   ]
  },
  {
   "cell_type": "code",
   "execution_count": 22,
   "metadata": {},
   "outputs": [
    {
     "data": {
      "text/plain": [
       "3"
      ]
     },
     "execution_count": 22,
     "metadata": {},
     "output_type": "execute_result"
    }
   ],
   "source": [
    "import math\n",
    "math.ceil(2.5)"
   ]
  },
  {
   "cell_type": "code",
   "execution_count": 23,
   "metadata": {},
   "outputs": [
    {
     "data": {
      "text/plain": [
       "2"
      ]
     },
     "execution_count": 23,
     "metadata": {},
     "output_type": "execute_result"
    }
   ],
   "source": [
    "math.ceil(2)"
   ]
  },
  {
   "cell_type": "code",
   "execution_count": 26,
   "metadata": {},
   "outputs": [
    {
     "name": "stdout",
     "output_type": "stream",
     "text": [
      "qwer\n",
      "erqw\n"
     ]
    }
   ],
   "source": [
    "import math\n",
    "\n",
    "s = input()\n",
    "print(s[math.ceil(len(s) / 2):] + s[:math.ceil(len(s) / 2)])"
   ]
  },
  {
   "cell_type": "markdown",
   "metadata": {},
   "source": [
    "## Задача 4. «Переставить два слова»\n",
    "Дана строка, состоящая ровно из двух слов, разделенных пробелом. Переставьте эти слова местами. Результат запишите в строку и выведите получившуюся строку.\n",
    "\n",
    "При решении этой задачи не стоит пользоваться циклами и инструкцией if."
   ]
  },
  {
   "cell_type": "code",
   "execution_count": 27,
   "metadata": {},
   "outputs": [
    {
     "name": "stdout",
     "output_type": "stream",
     "text": [
      "fsdf fdsggh\n",
      "fdsggh fsdf\n"
     ]
    }
   ],
   "source": [
    "s = input()\n",
    "slist = s.split(' ')\n",
    "s = slist[1] + ' ' + slist[0]\n",
    "print(s)"
   ]
  },
  {
   "cell_type": "markdown",
   "metadata": {},
   "source": [
    "С помощью метода str.find():"
   ]
  },
  {
   "cell_type": "code",
   "execution_count": 1,
   "metadata": {},
   "outputs": [
    {
     "name": "stdout",
     "output_type": "stream",
     "text": [
      "gdgh hfjkk\n",
      "hfjkk gdgh\n"
     ]
    }
   ],
   "source": [
    "s = input()\n",
    "s = s[s.find(' ') + 1:] + ' ' + s[:s.find(' ')]\n",
    "print(s)"
   ]
  },
  {
   "cell_type": "markdown",
   "metadata": {},
   "source": [
    "Чужое решение:"
   ]
  },
  {
   "cell_type": "code",
   "execution_count": 4,
   "metadata": {
    "scrolled": true
   },
   "outputs": [
    {
     "name": "stdout",
     "output_type": "stream",
     "text": [
      "выва вапроо\n",
      " вапроо выва\n"
     ]
    }
   ],
   "source": [
    "s=str(input())\n",
    "t=(s.rfind(' '))\n",
    "print(s[t:]+' '+s[:t])"
   ]
  },
  {
   "cell_type": "markdown",
   "metadata": {},
   "source": [
    "## Задача 5. «Первое и последнее вхождения»\n",
    "Дана строка. Если в этой строке буква f встречается только один раз, выведите её индекс. Если она встречается два и более раз, выведите индекс её первого и последнего появления. Если буква f в данной строке не встречается, ничего не выводите.\n",
    "\n",
    "При решении этой задачи не стоит использовать циклы."
   ]
  },
  {
   "cell_type": "code",
   "execution_count": 8,
   "metadata": {},
   "outputs": [
    {
     "name": "stdout",
     "output_type": "stream",
     "text": [
      "sdgd\n"
     ]
    }
   ],
   "source": [
    "s = input()\n",
    "f1 = s.find('f')\n",
    "f2 = s.rfind('f')\n",
    "if f1 == f2 != -1:\n",
    "    print(f1)\n",
    "else:\n",
    "    if f1 != f2:\n",
    "        print(f1, f2)"
   ]
  },
  {
   "cell_type": "markdown",
   "metadata": {},
   "source": [
    "Подсмотрела у другого участника как моё тупое решение можно сделать лаконичнее (убрать избыточность в условиях):"
   ]
  },
  {
   "cell_type": "code",
   "execution_count": 14,
   "metadata": {},
   "outputs": [
    {
     "name": "stdout",
     "output_type": "stream",
     "text": [
      "office\n",
      "1\n",
      "1 2\n"
     ]
    }
   ],
   "source": [
    "s = input()\n",
    "f1 = s.find('f')\n",
    "f2 = s.rfind('f')\n",
    "if f1 >= 0:\n",
    "    print(f1)\n",
    "if f1 != f2:\n",
    "        print(f1, f2)"
   ]
  },
  {
   "cell_type": "markdown",
   "metadata": {},
   "source": [
    "Решение разработчиков (куда более адекватное и элегантное):"
   ]
  },
  {
   "cell_type": "code",
   "execution_count": 10,
   "metadata": {},
   "outputs": [
    {
     "name": "stdout",
     "output_type": "stream",
     "text": [
      "office\n",
      "1 2\n"
     ]
    }
   ],
   "source": [
    "s = input()\n",
    "if s.count('f') == 1:\n",
    "    print(s.find('f'))\n",
    "elif s.count('f') >= 2:\n",
    "    print(s.find('f'), s.rfind('f'))"
   ]
  },
  {
   "cell_type": "markdown",
   "metadata": {},
   "source": [
    "## Задача 6. «Удаление фрагмента»\n",
    "Дана строка, в которой буква h встречается минимум два раза. Удалите из этой строки первое и последнее вхождение буквы h, а также все символы, находящиеся между ними."
   ]
  },
  {
   "cell_type": "code",
   "execution_count": 16,
   "metadata": {},
   "outputs": [
    {
     "name": "stdout",
     "output_type": "stream",
     "text": [
      "ddshkjuukhddd\n",
      "ddsddd\n"
     ]
    }
   ],
   "source": [
    "s = input()\n",
    "#print(s.replace(s.find('h'))) # AttributeError: 'str' object has no attribute 'remove'\n",
    "print(s[:s.find('h')] + s[s.rfind('h') + 1:])"
   ]
  },
  {
   "cell_type": "markdown",
   "metadata": {},
   "source": [
    "## Задача 7. «Обращение фрагмента»\n",
    "Дана строка, в которой буква h встречается как минимум два раза. Разверните последовательность символов, заключенную между первым и последним появлением буквы h, в противоположном порядке."
   ]
  },
  {
   "cell_type": "code",
   "execution_count": 26,
   "metadata": {},
   "outputs": [
    {
     "name": "stdout",
     "output_type": "stream",
     "text": [
      "hsddheweweh\n",
      "hewewehddsh\n",
      "ewewehdds\n",
      "hewewehddsh\n"
     ]
    }
   ],
   "source": [
    "s = input()\n",
    "print(s[s.find('h') : s.rfind('h') + 1][::-1])\n",
    "print(s[s.rfind('h')-1:s.find('h'):-1])\n",
    "print(s[:s.find('h')] + s[s.find('h') : s.rfind('h') + 1][::-1] + s[s.rfind('h') + 1:])"
   ]
  },
  {
   "cell_type": "markdown",
   "metadata": {},
   "source": [
    "## Задача 10. «Замена внутри фрагмента»\n",
    "Дана строка. Замените в этой строке все появления буквы h на букву H, кроме первого и последнего вхождения.\n",
    "\n"
   ]
  },
  {
   "cell_type": "code",
   "execution_count": 28,
   "metadata": {},
   "outputs": [
    {
     "name": "stdout",
     "output_type": "stream",
     "text": [
      "dsadhdrrrhdsds\n",
      "dsadhdrrrhdsds\n"
     ]
    }
   ],
   "source": [
    "s = input()\n",
    "slist = s.split('h')\n",
    "print(slist[0] + 'h' + 'H'.join(slist[1:-1]) + 'h' + slist[-1])"
   ]
  },
  {
   "cell_type": "markdown",
   "metadata": {},
   "source": [
    "Другой способ с помощью str.replace():"
   ]
  },
  {
   "cell_type": "code",
   "execution_count": 32,
   "metadata": {},
   "outputs": [
    {
     "name": "stdout",
     "output_type": "stream",
     "text": [
      "\n",
      "\n"
     ]
    }
   ],
   "source": [
    "s = input()\n",
    "s1 = s[:s.find('h') + 1]\n",
    "s2 = s[s.find('h') + 1:s.rfind('h')]\n",
    "s3 = s[s.rfind('h'):]\n",
    "s2 = s2.replace('h', 'H')\n",
    "print(s1 + s2 + s3)"
   ]
  },
  {
   "cell_type": "markdown",
   "metadata": {},
   "source": [
    "## Задача 11. «Удалить каждый третий символ»\n",
    "Дана строка. Удалите из нее все символы, чьи индексы делятся на 3."
   ]
  },
  {
   "cell_type": "code",
   "execution_count": 34,
   "metadata": {},
   "outputs": [
    {
     "name": "stdout",
     "output_type": "stream",
     "text": [
      "sdgdh\n",
      "dgh\n"
     ]
    }
   ],
   "source": [
    "s = input()\n",
    "res = ''\n",
    "for i in range(len(s)):\n",
    "    if i % 3 != 0:\n",
    "        res += s[i]\n",
    "print(res)"
   ]
  },
  {
   "cell_type": "markdown",
   "metadata": {},
   "source": [
    "Чужое решение, мне показалось очень красивым, и сначала я подумала, что неправильное, пока не разобралась внимательно и не обратила внимание на 3-q аргумент метода str.replace():"
   ]
  },
  {
   "cell_type": "code",
   "execution_count": 33,
   "metadata": {},
   "outputs": [
    {
     "name": "stdout",
     "output_type": "stream",
     "text": [
      "abcda\n",
      "ad\n",
      "bc\n"
     ]
    }
   ],
   "source": [
    "st = input()\n",
    "st_rep = st[::3]\n",
    "print(st_rep)\n",
    "for i in range(len(st_rep)):\n",
    "    st = st.replace(st_rep[i], '', 1)\n",
    "print(st)"
   ]
  },
  {
   "cell_type": "markdown",
   "metadata": {},
   "source": [
    "## Просто какие-то мини-пробы"
   ]
  },
  {
   "cell_type": "code",
   "execution_count": 36,
   "metadata": {},
   "outputs": [
    {
     "name": "stdout",
     "output_type": "stream",
     "text": [
      "2.5 3\n"
     ]
    }
   ],
   "source": [
    "n = 2.5\n",
    "print(str(n), len(str(n)))"
   ]
  },
  {
   "cell_type": "code",
   "execution_count": 38,
   "metadata": {},
   "outputs": [
    {
     "name": "stdout",
     "output_type": "stream",
     "text": [
      "5 5\n",
      "6 5\n"
     ]
    }
   ],
   "source": [
    "a = 5\n",
    "b = a\n",
    "print(a, b)\n",
    "a += 1\n",
    "print(a, b)"
   ]
  },
  {
   "cell_type": "code",
   "execution_count": 39,
   "metadata": {},
   "outputs": [
    {
     "name": "stdout",
     "output_type": "stream",
     "text": [
      "7 <class 'int'>\n"
     ]
    }
   ],
   "source": [
    "c, d = (7, 8)\n",
    "print(c, type(c))"
   ]
  },
  {
   "cell_type": "code",
   "execution_count": 42,
   "metadata": {},
   "outputs": [
    {
     "name": "stdout",
     "output_type": "stream",
     "text": [
      "<class 'tuple'>\n"
     ]
    }
   ],
   "source": [
    "print(type((c, d)))"
   ]
  },
  {
   "cell_type": "code",
   "execution_count": 43,
   "metadata": {},
   "outputs": [
    {
     "name": "stdout",
     "output_type": "stream",
     "text": [
      "[4, 6, 8]\n"
     ]
    }
   ],
   "source": [
    "listone = [2, 3, 4]\n",
    "listtwo = [2 * i for i in listone]\n",
    "print(listtwo)"
   ]
  },
  {
   "cell_type": "code",
   "execution_count": 44,
   "metadata": {},
   "outputs": [
    {
     "name": "stdout",
     "output_type": "stream",
     "text": [
      "[6, 8]\n"
     ]
    }
   ],
   "source": [
    "listone = [2, 3, 4]\n",
    "listtwo = [2 * i for i in listone if i > 2]\n",
    "print(listtwo)"
   ]
  },
  {
   "cell_type": "code",
   "execution_count": 45,
   "metadata": {},
   "outputs": [
    {
     "name": "stdout",
     "output_type": "stream",
     "text": [
      "[6, 8]\n",
      "<class 'tuple'>\n"
     ]
    }
   ],
   "source": [
    "listone = (2, 3, 4)\n",
    "listtwo = [2 * i for i in listone if i > 2]\n",
    "print(listtwo)\n",
    "print(type(listone))"
   ]
  },
  {
   "cell_type": "code",
   "execution_count": 46,
   "metadata": {},
   "outputs": [
    {
     "name": "stdout",
     "output_type": "stream",
     "text": [
      "['test']\n",
      "[['test']]\n",
      "[['test', 1, 2, 3]]\n"
     ]
    }
   ],
   "source": [
    "a = [1, 2, 3]\n",
    "str = 'test'\n",
    "b = [str]\n",
    "print(b)\n",
    "b = [[str]]\n",
    "print(b)\n",
    "b = [[str] + a]\n",
    "print(b)"
   ]
  },
  {
   "cell_type": "code",
   "execution_count": 33,
   "metadata": {},
   "outputs": [
    {
     "name": "stdout",
     "output_type": "stream",
     "text": [
      "4\n",
      "[0, 0, 0, 0]\n",
      "[0, 2, 0, 2, 0, 2, 0, 2, 0, 2]\n",
      "(0, 2, 0, 2, 0, 2, 0, 2, 0, 2) <class 'tuple'>\n"
     ]
    }
   ],
   "source": [
    "n = int(input())\n",
    "\n",
    "A = [0 for i in range(n)]\n",
    "print(A)\n",
    "B = [0, 2] * 5\n",
    "print(B)\n",
    "C = (0, 2) * 5\n",
    "print(C, type(C))"
   ]
  },
  {
   "cell_type": "markdown",
   "metadata": {},
   "source": [
    "## Решето Эратосфена пока \"без квадратов\" (один шаг до алгоритма из википедии)"
   ]
  },
  {
   "cell_type": "code",
   "execution_count": 67,
   "metadata": {},
   "outputs": [
    {
     "name": "stdout",
     "output_type": "stream",
     "text": [
      "2\n",
      "[1, 1, 1]\n",
      "[0, 1, 2]\n"
     ]
    }
   ],
   "source": [
    "n = int(input())\n",
    "\n",
    "A = [1] * (n + 1) \n",
    "i = 2\n",
    "while i <= n:\n",
    "    if A[i] == 1:\n",
    "        j = 2 * i\n",
    "        while j <= n:\n",
    "            A[j] = 0\n",
    "            j += i\n",
    "    i += 1\n",
    "simpleNums = [i for i in range(n + 1) if A[i] == 1]\n",
    "print(A)\n",
    "print(simpleNums)"
   ]
  },
  {
   "cell_type": "markdown",
   "metadata": {},
   "source": [
    "## Решето Эратосфена \"с квадратами\" (в точности по алгоритму из в википедии)"
   ]
  },
  {
   "cell_type": "code",
   "execution_count": null,
   "metadata": {},
   "outputs": [],
   "source": [
    "n = int(input())\n",
    "\n",
    "A = [1] * (n + 1) \n",
    "i = 2\n",
    "while i <= n:\n",
    "    if A[i] == 1:\n",
    "        j = i * i\n",
    "        while j <= n:\n",
    "            A[j] = 0\n",
    "            j += i\n",
    "    i += 1\n",
    "simpleNums = [i for i in range(n + 1) if A[i] == 1]\n",
    "print(A)\n",
    "print(simpleNums)"
   ]
  },
  {
   "cell_type": "markdown",
   "metadata": {},
   "source": [
    "# Занятие 6. \"Цикл while\" (pythontutor.ru)"
   ]
  },
  {
   "cell_type": "markdown",
   "metadata": {},
   "source": [
    "## Задача 1. «Список квадратов»\n",
    "По данному целому числу N распечатайте все квадраты натуральных чисел, не превосходящие N, в порядке возрастания."
   ]
  },
  {
   "cell_type": "code",
   "execution_count": 34,
   "metadata": {},
   "outputs": [
    {
     "name": "stdout",
     "output_type": "stream",
     "text": [
      "2\n",
      "1\n"
     ]
    }
   ],
   "source": [
    "N = int(input())\n",
    "\n",
    "i = 1\n",
    "sqr = 1\n",
    "while sqr <= N:\n",
    "    print(sqr)\n",
    "    i += 1\n",
    "    sqr = i**2"
   ]
  },
  {
   "cell_type": "markdown",
   "metadata": {},
   "source": [
    "## Задача 2. «Минимальный делитель» (неоптимизированное для больших N решение)\n",
    "Дано целое число, не меньшее 2. Выведите его наименьший натуральный делитель, отличный от 1."
   ]
  },
  {
   "cell_type": "code",
   "execution_count": 71,
   "metadata": {},
   "outputs": [
    {
     "name": "stdout",
     "output_type": "stream",
     "text": [
      "16\n",
      "2\n"
     ]
    }
   ],
   "source": [
    "N = int(input())\n",
    "\n",
    "i = 2\n",
    "while i <= N:\n",
    "    if N % i == 0:\n",
    "        print(i)\n",
    "        break\n",
    "    i += 1"
   ]
  },
  {
   "cell_type": "markdown",
   "metadata": {},
   "source": [
    "Решение от разработчиков (лучше моего, т.к. без избыточности в виде ненужного break-а):"
   ]
  },
  {
   "cell_type": "code",
   "execution_count": 72,
   "metadata": {},
   "outputs": [
    {
     "name": "stdout",
     "output_type": "stream",
     "text": [
      "15\n",
      "3\n"
     ]
    }
   ],
   "source": [
    "N = int(input())\n",
    "i = 2\n",
    "while N % i != 0:\n",
    "    i += 1\n",
    "print(i)"
   ]
  },
  {
   "cell_type": "markdown",
   "metadata": {},
   "source": [
    "## Задача 3. «Степень двойки»"
   ]
  },
  {
   "cell_type": "code",
   "execution_count": null,
   "metadata": {},
   "outputs": [],
   "source": [
    "N = int(input())\n",
    "\n",
    "power = 0\n",
    "res = 1\n",
    "while res <= N:\n",
    "    power += 1\n",
    "    res *= 2\n",
    "\n",
    "print(power, res)\n",
    "print(power - 1, res // 2)"
   ]
  },
  {
   "cell_type": "markdown",
   "metadata": {},
   "source": [
    "## Задача 4. «Утренняя пробежка»\n",
    "В первый день спортсмен пробежал x километров, а затем он каждый день увеличивал пробег на 10% от предыдущего значения. По данному числу y определите номер дня, на который пробег спортсмена составит не менее y километров.\n",
    "\n",
    "Программа получает на вход действительные числа x и y и должна вывести одно натуральное число."
   ]
  },
  {
   "cell_type": "code",
   "execution_count": 36,
   "metadata": {},
   "outputs": [
    {
     "name": "stdout",
     "output_type": "stream",
     "text": [
      "5\n",
      "10\n",
      "9\n"
     ]
    }
   ],
   "source": [
    "x = float(input())\n",
    "y = float(input())\n",
    "\n",
    "day = 1\n",
    "while x < y:\n",
    "    x *= 1.1\n",
    "    day += 1\n",
    "    \n",
    "print(day)"
   ]
  },
  {
   "cell_type": "markdown",
   "metadata": {},
   "source": [
    "## Задача 5. «Длина последовательности»\n",
    "Программа получает на вход последовательность целых неотрицательных чисел, каждое число записано в отдельной строке. Последовательность завершается числом 0, при считывании которого программа должна закончить свою работу и вывести количество членов последовательности (не считая завершающего числа 0). Числа, следующие за числом 0, считывать не нужно."
   ]
  },
  {
   "cell_type": "code",
   "execution_count": 37,
   "metadata": {},
   "outputs": [
    {
     "name": "stdout",
     "output_type": "stream",
     "text": [
      "2\n",
      "1\n",
      "0\n",
      "2\n"
     ]
    }
   ],
   "source": [
    "len = 0\n",
    "\n",
    "while int(input()) != 0:\n",
    "    len += 1\n",
    "    \n",
    "print(len)"
   ]
  },
  {
   "cell_type": "markdown",
   "metadata": {},
   "source": [
    "## Задача 6. «Сумма последовательности»\n",
    "Определите сумму всех элементов последовательности, завершающейся числом 0. В этой и во всех следующих задачах числа, следующие за первым нулем, учитывать не нужно."
   ]
  },
  {
   "cell_type": "code",
   "execution_count": null,
   "metadata": {},
   "outputs": [],
   "source": [
    "a = int(input())\n",
    "sum = a\n",
    "while a != 0:\n",
    "    a = int(input())\n",
    "    sum += a\n",
    "    \n",
    "print(sum)"
   ]
  },
  {
   "cell_type": "markdown",
   "metadata": {},
   "source": [
    "## Задача 7. «Среднее значение последовательности»\n",
    "Определите среднее значение всех элементов последовательности, завершающейся числом 0."
   ]
  },
  {
   "cell_type": "code",
   "execution_count": null,
   "metadata": {},
   "outputs": [],
   "source": [
    "len, sum = 0, 0\n",
    "elem = int(input())\n",
    "\n",
    "while elem != 0:\n",
    "    len += 1\n",
    "    sum += elem\n",
    "    elem = int(input())\n",
    "    \n",
    "print(sum / len)"
   ]
  },
  {
   "cell_type": "markdown",
   "metadata": {},
   "source": [
    "## Задача 8. «Максимум последовательности»\n",
    "Последовательность состоит из натуральных чисел и завершается числом 0. Определите значение наибольшего элемента последовательности."
   ]
  },
  {
   "cell_type": "code",
   "execution_count": null,
   "metadata": {},
   "outputs": [],
   "source": [
    "max = 0\n",
    "elem = int(input())\n",
    "\n",
    "while elem != 0:\n",
    "    if elem > max:\n",
    "        max = elem\n",
    "    elem = int(input())\n",
    "        \n",
    "print(max)"
   ]
  },
  {
   "cell_type": "markdown",
   "metadata": {},
   "source": [
    "## Задача 9. «Индекс максимума последовательности»\n",
    "Последовательность состоит из натуральных чисел и завершается числом 0. Определите индекс наибольшего элемента последовательности. Если наибольших элементов несколько, выведите индекс первого из них. Нумерация элементов начинается с нуля."
   ]
  },
  {
   "cell_type": "code",
   "execution_count": null,
   "metadata": {},
   "outputs": [],
   "source": [
    "i, iMax, max = 0, 0, 0\n",
    "elem = int(input())\n",
    "\n",
    "while elem != 0:\n",
    "    if elem > max:\n",
    "        iMax = i\n",
    "        max = elem\n",
    "    i += 1\n",
    "    elem = int(input())\n",
    "print(iMax)"
   ]
  },
  {
   "cell_type": "markdown",
   "metadata": {},
   "source": [
    "## Задача 10. «Количество четных элементов последовательности»\n",
    "Определите количество четных элементов в последовательности, завершающейся числом 0."
   ]
  },
  {
   "cell_type": "code",
   "execution_count": 38,
   "metadata": {},
   "outputs": [
    {
     "name": "stdout",
     "output_type": "stream",
     "text": [
      "1\n",
      "2\n",
      "4\n",
      "6\n",
      "0\n",
      "3\n"
     ]
    }
   ],
   "source": [
    "counterEven = 0\n",
    "elem = int(input())\n",
    "\n",
    "while elem != 0:\n",
    "    if elem % 2 == 0:\n",
    "        counterEven += 1\n",
    "    elem = int(input())\n",
    "        \n",
    "print(counterEven)"
   ]
  },
  {
   "cell_type": "markdown",
   "metadata": {},
   "source": [
    "## Задача 11. «Количество элементов, которые больше предыдущего»"
   ]
  },
  {
   "cell_type": "code",
   "execution_count": null,
   "metadata": {},
   "outputs": [],
   "source": [
    "counterBigger = 0\n",
    "prev = int(input())\n",
    "this = -1\n",
    "\n",
    "while this != 0:\n",
    "    this = int(input())\n",
    "    if this > prev:\n",
    "        counterBigger += 1\n",
    "    prev = this\n",
    "\n",
    "print(counterBigger)"
   ]
  },
  {
   "cell_type": "markdown",
   "metadata": {},
   "source": [
    "Решение от разработчиков (точно лучше моего):"
   ]
  },
  {
   "cell_type": "code",
   "execution_count": 5,
   "metadata": {},
   "outputs": [
    {
     "name": "stdout",
     "output_type": "stream",
     "text": [
      "1\n",
      "0\n",
      "0\n"
     ]
    }
   ],
   "source": [
    "prev = int(input())\n",
    "answer = 0\n",
    "while prev != 0:\n",
    "    next = int(input())\n",
    "    if prev < next:  # я только убрала избыточное, на мой взгляд, условие next != 0\n",
    "        answer += 1\n",
    "    prev = next\n",
    "print(answer)"
   ]
  },
  {
   "cell_type": "markdown",
   "metadata": {},
   "source": [
    "## Задача 12. «Второй максимум»\n",
    "Последовательность состоит из различных натуральных чисел и завершается числом 0. Определите значение второго по величине элемента в этой последовательности. Гарантируется, что в последовательности есть хотя бы два элемента."
   ]
  },
  {
   "cell_type": "markdown",
   "metadata": {},
   "source": [
    "Следующий код работает некорректно, не проходит все тесты:"
   ]
  },
  {
   "cell_type": "code",
   "execution_count": 6,
   "metadata": {},
   "outputs": [
    {
     "name": "stdout",
     "output_type": "stream",
     "text": [
      "3\n",
      "2\n",
      "1\n",
      "0\n",
      "3\n"
     ]
    }
   ],
   "source": [
    "elem = int(input())\n",
    "max1, max2, max3 = elem, elem, elem\n",
    "\n",
    "while elem != 0:\n",
    "    if elem > max2:\n",
    "        max2 = max1\n",
    "        max1 = elem\n",
    "    elif elem < max2 and max2 == max1:\n",
    "        max2 = max3\n",
    "        max3 = elem\n",
    "    elem = int(input())\n",
    "if max2 == max1:\n",
    "    max2 = max3\n",
    "print(max2)"
   ]
  },
  {
   "cell_type": "markdown",
   "metadata": {},
   "source": [
    "Работающее решение:"
   ]
  },
  {
   "cell_type": "code",
   "execution_count": 9,
   "metadata": {},
   "outputs": [
    {
     "name": "stdout",
     "output_type": "stream",
     "text": [
      "1\n",
      "2\n",
      "0\n",
      "1\n"
     ]
    }
   ],
   "source": [
    "elem = int(input())\n",
    "max1, max2 = 0, 0\n",
    "\n",
    "while elem != 0:\n",
    "    if elem > max1:\n",
    "        max2 = max1\n",
    "        max1 = elem\n",
    "    elif elem < max1:\n",
    "        if elem > max2:\n",
    "            max2 = elem\n",
    "    elem = int(input())\n",
    "print(max2)"
   ]
  },
  {
   "cell_type": "markdown",
   "metadata": {},
   "source": [
    "Немного исправленное работающее решение (убрала избыточный if):"
   ]
  },
  {
   "cell_type": "code",
   "execution_count": 10,
   "metadata": {},
   "outputs": [
    {
     "name": "stdout",
     "output_type": "stream",
     "text": [
      "1\n",
      "2\n",
      "0\n",
      "1\n"
     ]
    }
   ],
   "source": [
    "elem = int(input())\n",
    "max1, max2 = 0, 0\n",
    "\n",
    "while elem != 0:\n",
    "    if elem > max1:\n",
    "        max2 = max1\n",
    "        max1 = elem\n",
    "    elif elem > max2:\n",
    "        max2 = elem\n",
    "    elem = int(input())\n",
    "print(max2)"
   ]
  },
  {
   "cell_type": "markdown",
   "metadata": {},
   "source": [
    "## Задача 13. «Количество элементов, равных максимуму»\n",
    "Последовательность состоит из натуральных чисел и завершается числом 0. Определите, сколько элементов этой последовательности равны ее наибольшему элементу."
   ]
  },
  {
   "cell_type": "code",
   "execution_count": 32,
   "metadata": {},
   "outputs": [
    {
     "name": "stdout",
     "output_type": "stream",
     "text": [
      "1\n",
      "2\n",
      "2\n",
      "0\n",
      "2\n"
     ]
    }
   ],
   "source": [
    "elem = int(input())\n",
    "max = 0\n",
    "counter_max = 0\n",
    "\n",
    "while elem != 0:\n",
    "    if elem > max:\n",
    "        max = elem\n",
    "        counter_max = 1\n",
    "    elif elem == max:\n",
    "        counter_max += 1\n",
    "    elem = int(input())\n",
    "print(counter_max)"
   ]
  },
  {
   "cell_type": "markdown",
   "metadata": {},
   "source": [
    "## Задача 14. «Числа Фибоначчи»\n",
    "Последовательность Фибоначчи определяется так:\n",
    "φ0 = 0,  φ1 = 1,  φn = φn−1 + φn−2.\n",
    "По данному числу n определите n-е число Фибоначчи φn.\n",
    "Эту задачу можно решать и циклом for."
   ]
  },
  {
   "cell_type": "code",
   "execution_count": 29,
   "metadata": {},
   "outputs": [
    {
     "name": "stdout",
     "output_type": "stream",
     "text": [
      "2\n",
      "1 1\n",
      "1\n"
     ]
    }
   ],
   "source": [
    "n = int(input())\n",
    "\n",
    "if n == 0:\n",
    "    print(0)\n",
    "else:\n",
    "    fibPrev, fib = 0, 1\n",
    "    for i in range(2, n + 1):\n",
    "        fibPrev, fib = fib, fibPrev + fib\n",
    "        #fibPrev = fib\n",
    "        #print(fibPrev, fib)\n",
    "    print(fib)"
   ]
  },
  {
   "cell_type": "markdown",
   "metadata": {},
   "source": [
    "Верхний код аналогичен коду ниже:"
   ]
  },
  {
   "cell_type": "code",
   "execution_count": 14,
   "metadata": {},
   "outputs": [
    {
     "name": "stdout",
     "output_type": "stream",
     "text": [
      "6\n",
      "1 1\n",
      "1 2\n",
      "2 3\n",
      "3 5\n",
      "5 8\n",
      "8\n"
     ]
    }
   ],
   "source": [
    "n = int(input())\n",
    "\n",
    "if n == 0:\n",
    "    print(0)\n",
    "else:\n",
    "    fibPrev, fib = 0, 1\n",
    "    for i in range(2, n + 1):\n",
    "        temp = fib\n",
    "        fib += fibPrev\n",
    "        fibPrev = temp\n",
    "        print(fibPrev, fib)\n",
    "    print(fib)"
   ]
  },
  {
   "cell_type": "markdown",
   "metadata": {},
   "source": [
    "## Задача 15. «Номер числа Фибоначчи»\n",
    "Дано натуральное число A. Определите, каким по счету числом Фибоначчи оно является, то есть выведите такое число n, что φn = A. Если А не является числом Фибоначчи, выведите число -1."
   ]
  },
  {
   "cell_type": "code",
   "execution_count": 31,
   "metadata": {},
   "outputs": [
    {
     "name": "stdout",
     "output_type": "stream",
     "text": [
      "8\n",
      "6\n"
     ]
    }
   ],
   "source": [
    "A = int(input())\n",
    "\n",
    "if A == 0:\n",
    "    print(0)\n",
    "else:\n",
    "    fibPrev, fib, n = 0, 1, 1\n",
    "    \n",
    "    while fib < A:\n",
    "        fibPrev, fib = fib, fibPrev + fib\n",
    "        n += 1\n",
    "    \n",
    "    if A == fib:\n",
    "        print(n)\n",
    "    else:\n",
    "        print(-1)"
   ]
  },
  {
   "cell_type": "markdown",
   "metadata": {},
   "source": [
    "## Задача 16. «Максимальное число идущих подряд равных элементов»\n",
    "Дана последовательность натуральных чисел, завершающаяся числом 0. Определите, какое наибольшее число подряд идущих элементов этой последовательности равны друг другу."
   ]
  },
  {
   "cell_type": "code",
   "execution_count": 23,
   "metadata": {},
   "outputs": [
    {
     "name": "stdout",
     "output_type": "stream",
     "text": [
      "1\n",
      "0\n",
      "1\n"
     ]
    }
   ],
   "source": [
    "prev = int(input())\n",
    "\n",
    "if prev != 0:\n",
    "    MaxEqLen, CurEqLen = 1, 1\n",
    "    \n",
    "    while prev != 0:\n",
    "        this = int(input())\n",
    "        if this == prev:\n",
    "            CurEqLen += 1\n",
    "            if CurEqLen > MaxEqLen:\n",
    "                MaxEqLen = CurEqLen\n",
    "        else:\n",
    "            CurEqLen = 1\n",
    "        prev = this\n",
    "    \n",
    "    print(MaxEqLen)\n",
    "else:\n",
    "    print(0)"
   ]
  },
  {
   "cell_type": "markdown",
   "metadata": {},
   "source": [
    "Немного отредактирую верхний код, используя функцию max():"
   ]
  },
  {
   "cell_type": "code",
   "execution_count": 28,
   "metadata": {},
   "outputs": [
    {
     "name": "stdout",
     "output_type": "stream",
     "text": [
      "1\n",
      "0\n",
      "1\n"
     ]
    }
   ],
   "source": [
    "prev = int(input())\n",
    "\n",
    "if prev != 0:\n",
    "    MaxEqLen, CurEqLen = 1, 1\n",
    "    \n",
    "    while prev != 0:\n",
    "        this = int(input())\n",
    "        if this == prev:\n",
    "            CurEqLen += 1\n",
    "            MaxEqLen = max(MaxEqLen, CurEqLen)\n",
    "        else:\n",
    "            CurEqLen = 1\n",
    "        prev = this\n",
    "    \n",
    "    print(MaxEqLen)\n",
    "else:\n",
    "    print(0)"
   ]
  },
  {
   "cell_type": "markdown",
   "metadata": {},
   "source": [
    "## Задача 17. «Стандартное отклонение»\n",
    "Дана последовательность натуральных чисел x1, x2, ..., xn.\n",
    "Определите стандартное отклонение для данной последовательности натуральных чисел, завершающейся числом 0."
   ]
  },
  {
   "cell_type": "code",
   "execution_count": 35,
   "metadata": {},
   "outputs": [
    {
     "name": "stdout",
     "output_type": "stream",
     "text": [
      "1\n",
      "1\n",
      "1\n",
      "1\n",
      "0\n",
      "0.0\n"
     ]
    }
   ],
   "source": [
    "from math import sqrt\n",
    "\n",
    "x = int(input())\n",
    "\n",
    "if x == 0:\n",
    "    print(0)\n",
    "else:\n",
    "    sum, n, sigma = 0, 0, 0\n",
    "    \n",
    "    while x != 0:\n",
    "        sigma += x * x\n",
    "        sum += x\n",
    "        n += 1\n",
    "        x = int(input())\n",
    "    sigma = sqrt((sigma - 2 * sum * sum / n + sum * sum / n) / (n - 1))\n",
    "    print(sigma)"
   ]
  },
  {
   "cell_type": "markdown",
   "metadata": {},
   "source": [
    "# Занятие 7. \"Списки\" (pythontutor.ru)"
   ]
  },
  {
   "cell_type": "code",
   "execution_count": 1,
   "metadata": {},
   "outputs": [
    {
     "data": {
      "text/plain": [
       "0"
      ]
     },
     "execution_count": 1,
     "metadata": {},
     "output_type": "execute_result"
    }
   ],
   "source": [
    "A = [1, 2, 3, 4]\n",
    "A.count(7)\n",
    "#A.index(7)  # генерируется исключение"
   ]
  },
  {
   "cell_type": "markdown",
   "metadata": {},
   "source": [
    "## Задача 1. «Четные индексы»"
   ]
  },
  {
   "cell_type": "code",
   "execution_count": null,
   "metadata": {},
   "outputs": [],
   "source": [
    "A = input().split()\n",
    "\n",
    "for i in range(0, len(A), 2):\n",
    "    print(A[i], end=' ')"
   ]
  },
  {
   "cell_type": "markdown",
   "metadata": {},
   "source": [
    "## Задача 2. «Четные элементы»\n",
    "Выведите все четные элементы списка. При этом используйте цикл for, перебирающий элементы списка, а не их индексы!"
   ]
  },
  {
   "cell_type": "code",
   "execution_count": 1,
   "metadata": {},
   "outputs": [
    {
     "name": "stdout",
     "output_type": "stream",
     "text": [
      "1 2 4 5 6\n",
      "2 4 6 "
     ]
    }
   ],
   "source": [
    "A = [int(num) for num in input().split()]\n",
    "\n",
    "for num in A:\n",
    "    if num % 2 == 0:\n",
    "        print(num, end=' ')"
   ]
  },
  {
   "cell_type": "markdown",
   "metadata": {},
   "source": [
    "## Задача 3. «Больше предыдущего»\n",
    "Дан список чисел. Выведите все элементы списка, которые больше предыдущего элемента."
   ]
  },
  {
   "cell_type": "code",
   "execution_count": 4,
   "metadata": {},
   "outputs": [
    {
     "name": "stdout",
     "output_type": "stream",
     "text": [
      "1 2 3 4 4 5\n",
      "2 3 4 5 "
     ]
    }
   ],
   "source": [
    "A = [int(num) for num in input().split()]\n",
    "\n",
    "if len(A) > 1:\n",
    "    prev = A[0]\n",
    "    for curr in A[1:]:\n",
    "        if curr > prev:\n",
    "            print(curr, end=' ')\n",
    "        prev = curr"
   ]
  },
  {
   "cell_type": "markdown",
   "metadata": {},
   "source": [
    "Решение разработчиков (лаконичнее моего, без избыточности):"
   ]
  },
  {
   "cell_type": "code",
   "execution_count": 5,
   "metadata": {},
   "outputs": [
    {
     "name": "stdout",
     "output_type": "stream",
     "text": [
      "1 2 2 2 3\n",
      "2\n",
      "3\n"
     ]
    }
   ],
   "source": [
    "a = [int(i) for i in input().split()]\n",
    "for i in range(1, len(a)):\n",
    "    if a[i] > a[i - 1]:\n",
    "        print(a[i])"
   ]
  },
  {
   "cell_type": "markdown",
   "metadata": {},
   "source": [
    "## Задача 4. «Соседи одного знака»\n",
    "Дан список чисел. Если в нем есть два соседних элемента одного знака, выведите эти числа. Если соседних элементов одного знака нет — не выводите ничего. Если таких пар соседей несколько — выведите первую пару."
   ]
  },
  {
   "cell_type": "markdown",
   "metadata": {},
   "source": [
    "В python отрицательное число это True:"
   ]
  },
  {
   "cell_type": "code",
   "execution_count": 8,
   "metadata": {},
   "outputs": [
    {
     "name": "stdout",
     "output_type": "stream",
     "text": [
      "True\n"
     ]
    }
   ],
   "source": [
    "if -1:\n",
    "    print(True)"
   ]
  },
  {
   "cell_type": "code",
   "execution_count": null,
   "metadata": {},
   "outputs": [],
   "source": [
    "A = [int(num) for num in input().split()]\n",
    "\n",
    "for i in range (1, len(A)):\n",
    "    if A[i - 1] * A[i] > 0:\n",
    "        print(A[i - 1], A[i])\n",
    "        break"
   ]
  },
  {
   "cell_type": "markdown",
   "metadata": {},
   "source": [
    "## Задача 5. «Больше своих соседей»\n",
    "Дан список чисел. Определите, сколько в этом списке элементов, которые больше двух своих соседей, и выведите количество таких элементов. Крайние элементы списка никогда не учитываются, поскольку у них недостаточно соседей."
   ]
  },
  {
   "cell_type": "code",
   "execution_count": 9,
   "metadata": {},
   "outputs": [
    {
     "name": "stdout",
     "output_type": "stream",
     "text": [
      "1 2 3 1 5\n",
      "1\n"
     ]
    }
   ],
   "source": [
    "A = [int(num) for num in input().split()]\n",
    "counter = 0\n",
    "for i in range(1, len(A) - 1):\n",
    "    if A[i] > A[i - 1] and A[i] > A[i + 1]:\n",
    "        counter += 1\n",
    "print(counter)"
   ]
  },
  {
   "cell_type": "markdown",
   "metadata": {},
   "source": [
    "## Задача 6. «Наибольший элемент»\n",
    "Дан список чисел. Выведите значение наибольшего элемента в списке, а затем индекс этого элемента в списке. Если наибольших элементов несколько, выведите индекс первого из них."
   ]
  },
  {
   "cell_type": "code",
   "execution_count": 10,
   "metadata": {},
   "outputs": [
    {
     "data": {
      "text/plain": [
       "1"
      ]
     },
     "execution_count": 10,
     "metadata": {},
     "output_type": "execute_result"
    }
   ],
   "source": [
    "A = [1, 1, 1]\n",
    "max(A)"
   ]
  },
  {
   "cell_type": "code",
   "execution_count": 15,
   "metadata": {},
   "outputs": [
    {
     "name": "stdout",
     "output_type": "stream",
     "text": [
      "0\n",
      "0 0\n"
     ]
    }
   ],
   "source": [
    "A = [int(num) for num in input().split()]\n",
    "max = max(A)\n",
    "print(max, A.index(max))"
   ]
  },
  {
   "cell_type": "markdown",
   "metadata": {},
   "source": [
    "## Задача 7. «Шеренга»\n",
    "Петя перешёл в другую школу. На уроке физкультуры ему понадобилось определить своё место в строю. Помогите ему это сделать.\n",
    "Программа получает на вход невозрастающую последовательность натуральных чисел, означающих рост каждого человека в строю. После этого вводится число X – рост Пети. Все числа во входных данных натуральные и не превышают 200.\n",
    "\n",
    "Выведите номер, под которым Петя должен встать в строй. Если в строю есть люди с одинаковым ростом, таким же, как у Пети, то он должен встать после них."
   ]
  },
  {
   "cell_type": "markdown",
   "metadata": {},
   "source": [
    "Вставить 1 элемент куда-то в середину списка (но в данной задаче это и не нужно):"
   ]
  },
  {
   "cell_type": "code",
   "execution_count": 17,
   "metadata": {},
   "outputs": [
    {
     "name": "stdout",
     "output_type": "stream",
     "text": [
      "[5, 4, 4, 4, 3, 2]\n"
     ]
    }
   ],
   "source": [
    "A = [5, 4, 4, 3, 2]\n",
    "A[3:3] = [4]\n",
    "print(A)"
   ]
  },
  {
   "cell_type": "code",
   "execution_count": 18,
   "metadata": {
    "scrolled": true
   },
   "outputs": [
    {
     "name": "stdout",
     "output_type": "stream",
     "text": [
      "7 6 6 5 4 3 \n",
      "6\n",
      "4\n"
     ]
    }
   ],
   "source": [
    "heights = [int(h) for h in input().split()]\n",
    "heightP = int(input())\n",
    "place = len(heights) + 1\n",
    "for i in range(len(heights)):\n",
    "    if heightP > heights[i]:\n",
    "        place = i + 1 \n",
    "        break\n",
    "print(place)"
   ]
  },
  {
   "cell_type": "markdown",
   "metadata": {},
   "source": [
    "## Задача 8. «Количество различных элементов»\n",
    "Дан список, упорядоченный по неубыванию элементов в нем. Определите, сколько в нем различных элементов."
   ]
  },
  {
   "cell_type": "code",
   "execution_count": 19,
   "metadata": {},
   "outputs": [
    {
     "name": "stdout",
     "output_type": "stream",
     "text": [
      "1 1 2 2 2 3 3\n",
      "3\n"
     ]
    }
   ],
   "source": [
    "A = [int(num) for num in input().split()]\n",
    "pos = 0\n",
    "counter = 0\n",
    "while pos < len(A):\n",
    "    counter += 1\n",
    "    pos += A.count(A[pos])\n",
    "print(counter)"
   ]
  },
  {
   "cell_type": "markdown",
   "metadata": {},
   "source": [
    "Решение разработчиков (лаконичнее моего, без избыточности и ненужных усложнений):"
   ]
  },
  {
   "cell_type": "code",
   "execution_count": 1,
   "metadata": {},
   "outputs": [
    {
     "name": "stdout",
     "output_type": "stream",
     "text": [
      "1 1 2 2 3 3 3\n",
      "3\n"
     ]
    }
   ],
   "source": [
    "a = [int(i) for i in input().split()]\n",
    "num_distinct = 1\n",
    "for i in range(0, len(a) - 1):\n",
    "    if a[i] != a[i + 1]:\n",
    "        num_distinct += 1\n",
    "print(num_distinct)"
   ]
  },
  {
   "cell_type": "markdown",
   "metadata": {},
   "source": [
    "## Задача 9. «Переставить соседние»\n",
    "Переставьте соседние элементы списка (A[0] c A[1], A[2] c A[3] и т. д.). Если элементов нечетное число, то последний элемент остается на своем месте."
   ]
  },
  {
   "cell_type": "markdown",
   "metadata": {},
   "source": [
    "В сдедующем коде конвертировать строки в числа, в принципе, не требовалось и, наверное, не надо было делать, но этот код работает на предоставленных для тестов числовых последовательностей:"
   ]
  },
  {
   "cell_type": "code",
   "execution_count": 1,
   "metadata": {},
   "outputs": [
    {
     "name": "stdout",
     "output_type": "stream",
     "text": [
      "1 2 3 4\n",
      "2 1 4 3 "
     ]
    }
   ],
   "source": [
    "A = [int(num) for num in input().split()]\n",
    "\n",
    "for i in range(1, len(A), 2):\n",
    "    A[i - 1], A[i] = A[i], A[i-1]\n",
    "    print(A[i - 1], A[i], end=' ')\n",
    "if len(A) % 2 == 1:\n",
    "    print(A[-1])"
   ]
  },
  {
   "cell_type": "markdown",
   "metadata": {},
   "source": [
    "## Задача 10. «Переставить min и max»\n",
    "В списке все элементы различны. Поменяйте местами минимальный и максимальный элемент этого списка."
   ]
  },
  {
   "cell_type": "code",
   "execution_count": null,
   "metadata": {},
   "outputs": [],
   "source": [
    "A = [int(num) for num in input().split()]\n",
    "maxElIndex = A.index(max(A))\n",
    "minElIndex = A.index(min(A))\n",
    "A[maxElIndex], A[minElIndex] = A[minElIndex], A[maxElIndex]\n",
    "for elem in A:\n",
    "    print(elem, end=' ')"
   ]
  },
  {
   "cell_type": "markdown",
   "metadata": {},
   "source": [
    "Решение разработчков (мне очень нравится своей простотой, жаль, я не додумалась сделать его сама вторым вариантом):"
   ]
  },
  {
   "cell_type": "code",
   "execution_count": null,
   "metadata": {},
   "outputs": [],
   "source": [
    "a = [int(s) for s in input().split()]\n",
    "index_of_min = 0\n",
    "index_of_max = 0\n",
    "for i in range(1, len(a)):\n",
    "    if a[i] > a[index_of_max]:\n",
    "        index_of_max = i\n",
    "    if a[i] < a[index_of_min]:\n",
    "        index_of_min = i\n",
    "a[index_of_min], a[index_of_max] = a[index_of_max], a[index_of_min]\n",
    "print(' '.join([str(i) for i in a]))"
   ]
  },
  {
   "cell_type": "markdown",
   "metadata": {},
   "source": [
    "## Задача 11. «Удалить элемент»\n",
    "Дан список из чисел и индекс элемента в списке k. Удалите из списка элемент с индексом k, сдвинув влево все элементы, стоящие правее элемента с индексом k.\n",
    "Программа получает на вход список, затем число k. Программа сдвигает все элементы, а после этого удаляет последний элемент списка при помощи метода pop() без параметров.\n",
    "\n",
    "Программа должна осуществлять сдвиг непосредственно в списке, а не делать это при выводе элементов. Также нельзя использовать дополнительный список. Также не следует использовать метод pop(k) с параметром."
   ]
  },
  {
   "cell_type": "code",
   "execution_count": null,
   "metadata": {},
   "outputs": [],
   "source": [
    "A = [elem for elem in input().split()]\n",
    "k = int(input())\n",
    "for i in range(k + 1, len(A)):\n",
    "    A[i - 1] = A[i]\n",
    "A.pop()\n",
    "print(' '.join(A))"
   ]
  },
  {
   "cell_type": "markdown",
   "metadata": {},
   "source": [
    "С использованием метода pop():"
   ]
  },
  {
   "cell_type": "code",
   "execution_count": null,
   "metadata": {},
   "outputs": [],
   "source": [
    "A = [elem for elem in input().split()]\n",
    "k = int(input())\n",
    "for i in range(k + 1, len(A)):\n",
    "    A[i - 1] = A[i]\n",
    "A.pop()\n",
    "print(' '.join(A))"
   ]
  },
  {
   "cell_type": "markdown",
   "metadata": {},
   "source": [
    "## Задача 12. «Вставить элемент»\n",
    "Дан список целых чисел, число k и значение C. Необходимо вставить в список на позицию с индексом k элемент, равный C, сдвинув все элементы, имевшие индекс не менее k, вправо.\n",
    "Поскольку при этом количество элементов в списке увеличивается, после считывания списка в его конец нужно будет добавить новый элемент, используя метод append.\n",
    "\n",
    "Вставку необходимо осуществлять уже в считанном списке, не делая этого при выводе и не создавая дополнительного списка."
   ]
  },
  {
   "cell_type": "code",
   "execution_count": 2,
   "metadata": {},
   "outputs": [
    {
     "name": "stdout",
     "output_type": "stream",
     "text": [
      "1 1 1\n",
      "2 2\n",
      "1 1 2 1\n"
     ]
    }
   ],
   "source": [
    "A = [elem for elem in input().split()]\n",
    "k, C = input().split()\n",
    "k = int(k)\n",
    "\n",
    "if k < len(A):\n",
    "    A.append('')\n",
    "    for i in range(len(A) - 1, k - 1, -1):\n",
    "        A[i] = A[i - 1]\n",
    "    A[k] = C\n",
    "else:\n",
    "    A.append(C)\n",
    "print(' '.join(A))"
   ]
  },
  {
   "cell_type": "markdown",
   "metadata": {},
   "source": [
    "## Задача 13. «Количество совпадающих пар»\n",
    "Дан список чисел. Посчитайте, сколько в нем пар элементов, равных друг другу. Считается, что любые два элемента, равные друг другу образуют одну пару, которую необходимо посчитать."
   ]
  },
  {
   "cell_type": "code",
   "execution_count": null,
   "metadata": {},
   "outputs": [],
   "source": [
    "A = [elem for elem in input().split()]\n",
    "k, C = input().split()\n",
    "k = int(k)\n",
    "\n",
    "if k < len(A):\n",
    "    A.append('')\n",
    "    for i in range(len(A) - 1, k - 1, -1):\n",
    "        A[i] = A[i - 1]\n",
    "    A[k] = C\n",
    "else:\n",
    "    A.append(C)\n",
    "print(' '.join(A))"
   ]
  },
  {
   "cell_type": "code",
   "execution_count": 1,
   "metadata": {},
   "outputs": [
    {
     "name": "stdout",
     "output_type": "stream",
     "text": [
      "1 1 1 1\n",
      "6\n"
     ]
    }
   ],
   "source": [
    "from math import factorial\n",
    "\n",
    "A = [elem for elem in input().split()]\n",
    "B = []\n",
    "counterEqPairs = 0\n",
    "\n",
    "for a in A:\n",
    "    if a not in B:\n",
    "        B.append(a)\n",
    "        n = A.count(a)\n",
    "        # Формула подсчета количества сочетаний 2 из n\n",
    "        counterEqPairs += int((factorial(n) / (2 * factorial(n - 2))))\n",
    "print(counterEqPairs)"
   ]
  },
  {
   "cell_type": "markdown",
   "metadata": {},
   "source": [
    "Еще один способ математического подсчета одинаковых пар, взятый из pythontutor.ru, который я не понимаю:"
   ]
  },
  {
   "cell_type": "code",
   "execution_count": 3,
   "metadata": {},
   "outputs": [
    {
     "name": "stdout",
     "output_type": "stream",
     "text": [
      "1 1 1 1\n",
      "6\n"
     ]
    }
   ],
   "source": [
    "a = [int(i) for i in input().split()]\n",
    "count = 0\n",
    "for i in a:\n",
    "    count += a.count(i) - 1\n",
    "print(count//2)"
   ]
  },
  {
   "cell_type": "markdown",
   "metadata": {},
   "source": [
    "## Задача 14. «Уникальные элементы»\n",
    "Дан список. Выведите те его элементы, которые встречаются в списке только один раз. Элементы нужно выводить в том порядке, в котором они встречаются в списке."
   ]
  },
  {
   "cell_type": "code",
   "execution_count": 4,
   "metadata": {},
   "outputs": [
    {
     "name": "stdout",
     "output_type": "stream",
     "text": [
      "1 1 1 1\n"
     ]
    }
   ],
   "source": [
    "A = [int(num) for num in input().split()]\n",
    "\n",
    "for a in A:\n",
    "    if A.count(a) == 1:\n",
    "        print(a, end=' ')"
   ]
  },
  {
   "cell_type": "markdown",
   "metadata": {},
   "source": [
    "Решение разработчиков:"
   ]
  },
  {
   "cell_type": "code",
   "execution_count": null,
   "metadata": {},
   "outputs": [],
   "source": [
    "a = [int(s) for s in input().split()]\n",
    "for i in range(len(a)):\n",
    "    for j in range(len(a)):\n",
    "        if i != j and a[i] == a[j]:\n",
    "            break\n",
    "    else:\n",
    "        print(a[i], end=' ')"
   ]
  },
  {
   "cell_type": "markdown",
   "metadata": {},
   "source": [
    "## Задача 15. «Кегельбан»\n",
    "N кеглей выставили в один ряд, занумеровав их слева направо числами от 1 до N. Затем по этому ряду бросили K шаров, при этом i-й шар сбил все кегли с номерами от li до ri включительно. Определите, какие кегли остались стоять на месте.\n",
    "Программа получает на вход количество кеглей N и количество бросков K. Далее идет K пар чисел li, ri, при этом 1≤ li≤ ri≤ N.\n",
    "\n",
    "Программа должна вывести последовательность из N символов, где j-й символ есть “I”, если j-я кегля осталась стоять, или “.”, если j-я кегля была сбита."
   ]
  },
  {
   "cell_type": "code",
   "execution_count": 1,
   "metadata": {},
   "outputs": [
    {
     "name": "stdout",
     "output_type": "stream",
     "text": [
      "5 2\n",
      "1 1\n",
      "3 3\n",
      ".I.II\n"
     ]
    }
   ],
   "source": [
    "N, k = [int(i) for i in input().split()]\n",
    "skittles = ['I'] * N  # skittles - кегли\n",
    "for ball in range(k):\n",
    "    l, r = [int(i) for i in input().split()]\n",
    "    for i in range(l - 1, r):\n",
    "        skittles[i] = '.'\n",
    "print(''.join(skittles))"
   ]
  },
  {
   "cell_type": "markdown",
   "metadata": {},
   "source": [
    "## Задача 16. «Ферзи»\n",
    "Известно, что на доске 8×8 можно расставить 8 ферзей так, чтобы они не били друг друга. Вам дана расстановка 8 ферзей на доске, определите, есть ли среди них пара бьющих друг друга.\n",
    "Программа получает на вход восемь пар чисел, каждое число от 1 до 8 — координаты 8 ферзей. Если ферзи не бьют друг друга, выведите слово NO, иначе выведите YES."
   ]
  },
  {
   "cell_type": "code",
   "execution_count": null,
   "metadata": {},
   "outputs": [],
   "source": [
    "qCoords = [[int(coord) for coord in input().split()] for str in range(8)]\n",
    "\n",
    "yes = False\n",
    "for i in range(8):\n",
    "    if yes == False:\n",
    "        for j in range(i + 1, 8):\n",
    "            if abs(qCoords[i][0] - qCoords[j][0]) == abs(qCoords[i][1] - qCoords[j][1]) or qCoords[i][0] == qCoords[j][0] or qCoords[i][1] == qCoords[j][1]:\n",
    "                yes = True    \n",
    "                break\n",
    "    else:\n",
    "        print('YES')\n",
    "        break\n",
    "else:\n",
    "    print('NO')"
   ]
  },
  {
   "cell_type": "markdown",
   "metadata": {},
   "source": [
    "# Занятие 8. \"Функции и рекурия\" (pythontutor.ru)"
   ]
  },
  {
   "cell_type": "markdown",
   "metadata": {},
   "source": [
    "## Задача 1. «Длина отрезка»"
   ]
  },
  {
   "cell_type": "code",
   "execution_count": null,
   "metadata": {},
   "outputs": [],
   "source": [
    "from math import sqrt \n",
    "\n",
    "def distance(x1, y1, x2, y2):\n",
    "    return sqrt((x1 - x2)**2 + (y1 - y2)**2)\n",
    "    \n",
    "x1, y1, x2, y2 = float(input()), float(input()), float(input()), float(input()) \n",
    "print(distance(x1, y1, x2, y2))"
   ]
  },
  {
   "cell_type": "markdown",
   "metadata": {},
   "source": [
    "## Задача 2. «Отрицательная степень»"
   ]
  },
  {
   "cell_type": "code",
   "execution_count": 2,
   "metadata": {},
   "outputs": [
    {
     "name": "stdout",
     "output_type": "stream",
     "text": [
      "5\n",
      "4\n",
      "625.0\n"
     ]
    }
   ],
   "source": [
    "def power(a, n):\n",
    "    res = 1\n",
    "    if n == 0:\n",
    "        res = 1\n",
    "    elif n > 0:\n",
    "        for i in range(1, n + 1):\n",
    "            res *= a\n",
    "    else:\n",
    "        for i in range(1, abs(n) + 1):\n",
    "            res /= a\n",
    "    return res\n",
    "    \n",
    "a, n = float(input()), int(input())\n",
    "print(power(a, n))"
   ]
  },
  {
   "cell_type": "markdown",
   "metadata": {},
   "source": [
    "Более лаконичное решение от разработчиков:"
   ]
  },
  {
   "cell_type": "code",
   "execution_count": 3,
   "metadata": {},
   "outputs": [
    {
     "name": "stdout",
     "output_type": "stream",
     "text": [
      "5\n",
      "4\n",
      "625.0\n"
     ]
    }
   ],
   "source": [
    "def power(a, n):\n",
    "    res = 1\n",
    "    for i in range(abs(n)):\n",
    "        res *= a\n",
    "    if n >= 0:\n",
    "        return res\n",
    "    else:\n",
    "        return 1 / res\n",
    "\n",
    "print(power(float(input()), int(input())))"
   ]
  },
  {
   "cell_type": "markdown",
   "metadata": {},
   "source": [
    "## Задача 3. «Большие буквы»\n",
    "Напишите функцию capitalize(), которая принимает слово из маленьких латинских букв и возвращает его же, меняя первую букву на большую.\n",
    "Например, print(capitalize('word')) должно печатать слово Word.\n",
    "\n",
    "На вход подаётся строка, состоящая из слов, разделённых одним пробелом. Слова состоят из маленьких латинских букв. Напечатайте исходную строку, сделав так, чтобы каждое слово начиналось с большой буквы. При этом используйте вашу функцию capitalize().\n",
    "\n",
    "Напомним, что в Питоне есть функция ord(), которая по символу возвращает его код в таблице ASCII, и функция chr(), которая по коду символа возвращает сам символ. Например, ord('a') == 97, chr(97) == 'a'."
   ]
  },
  {
   "cell_type": "code",
   "execution_count": null,
   "metadata": {},
   "outputs": [],
   "source": [
    "def capitalize(word):\n",
    "    res = \"\"\n",
    "    if word:\n",
    "        if 97 <= ord(word[0]) <= 122:\n",
    "            res = chr(ord(word[0]) - 32) + word[1:]\n",
    "    return res\n",
    "            \n",
    "text = input().split()\n",
    "for word in text:\n",
    "    print(capitalize(word), end=' ')"
   ]
  },
  {
   "cell_type": "markdown",
   "metadata": {},
   "source": [
    "Ну или способом ниже (это чужое решение, но я уверена почти на 90%, что дошла бы до него сама, не будь в условии задачи намёка, что надо делать через все эти ord('a') и т.д., а так как на этом ресурсе я стараюсь соблюдать все условия, то иногда намерено делаю что-то более корявым предложенным ими способом, чтобы потренировать другие навыки. Но этот более \"питонский\" способ решения этой задачи, конечно, надо запомнить и потом при необходимо прибегать к нему)"
   ]
  },
  {
   "cell_type": "code",
   "execution_count": null,
   "metadata": {},
   "outputs": [],
   "source": [
    "s = str(input())\n",
    "def capitalize(a):\n",
    "    a = a.title()\n",
    "    return a\n",
    "\n",
    "print(capitalize(s))"
   ]
  },
  {
   "cell_type": "markdown",
   "metadata": {},
   "source": [
    "## Задача 4. «Возведение в степень»\n",
    "Дано действительное положительное число a и целое неотрицательное число n. Вычислите an не используя циклы, возведение в степень через ** и функцию math.pow(), а используя рекуррентное соотношение an=a⋅an-1.\n",
    "\n",
    "Решение оформите в виде функции power(a, n)."
   ]
  },
  {
   "cell_type": "code",
   "execution_count": null,
   "metadata": {},
   "outputs": [],
   "source": [
    "def power(a, n):\n",
    "    if n == 0:\n",
    "        return 1\n",
    "    return a * power(a, n - 1)\n",
    "    \n",
    "a, n = float(input()), int(input())\n",
    "print(power(a, n))"
   ]
  },
  {
   "cell_type": "markdown",
   "metadata": {},
   "source": [
    "## Задача 5. «Разворот последовательности»\n",
    "Дана последовательность целых чисел, заканчивающаяся числом 0. Выведите эту последовательность в обратном порядке.\n",
    "При решении этой задачи нельзя пользоваться массивами и прочими динамическими структурами данных. Рекурсия вам поможет."
   ]
  },
  {
   "cell_type": "code",
   "execution_count": null,
   "metadata": {},
   "outputs": [],
   "source": [
    "def reverseNumSeq():\n",
    "    a = input()\n",
    "    if a == '0':\n",
    "        print(a)\n",
    "        return\n",
    "    else:\n",
    "        reverseNumSeq()\n",
    "    print(a)\n",
    "    \n",
    "reverseNumSeq()"
   ]
  },
  {
   "cell_type": "markdown",
   "metadata": {},
   "source": [
    "Более лаконичное решение от разработчиков:"
   ]
  },
  {
   "cell_type": "code",
   "execution_count": 7,
   "metadata": {},
   "outputs": [
    {
     "name": "stdout",
     "output_type": "stream",
     "text": [
      "1\n",
      "2\n",
      "3\n",
      "0\n",
      "0\n",
      "3\n",
      "2\n",
      "1\n"
     ]
    }
   ],
   "source": [
    "def reverse():\n",
    "    x = int(input())\n",
    "    if x != 0:\n",
    "        reverse()\n",
    "    print(x)\n",
    "\n",
    "reverse()"
   ]
  },
  {
   "cell_type": "markdown",
   "metadata": {},
   "source": [
    "Доработанное моё решение, возвращающее развернутую последовательность в спики (в условии нельзя использовать списки, как я понимаю, ни до разворота, ни после, но мне просто хотелось убедиться, что список, переданный в рекурсию работает именно так: что внутри функции не создается копия списка или что-то такое) "
   ]
  },
  {
   "cell_type": "code",
   "execution_count": 6,
   "metadata": {},
   "outputs": [
    {
     "name": "stdout",
     "output_type": "stream",
     "text": [
      "1\n",
      "2\n",
      "3\n",
      "0\n",
      "0 3 2 1\n"
     ]
    }
   ],
   "source": [
    "def reverseNumSeq(newSeq):\n",
    "    a = input()\n",
    "    if a != '0':\n",
    "        reverseNumSeq(newSeq)\n",
    "    newSeq.append(a)\n",
    "\n",
    "newSeq = []\n",
    "reverseNumSeq(newSeq)\n",
    "print(' '.join(newSeq))"
   ]
  },
  {
   "cell_type": "markdown",
   "metadata": {},
   "source": [
    "## Задача 6. «Числа Фибоначчи»\n",
    "Напишите функцию fib(n), которая по данному целому неотрицательному n возвращает n-e число Фибоначчи. В этой задаче нельзя использовать циклы — используйте рекурсию."
   ]
  },
  {
   "cell_type": "code",
   "execution_count": null,
   "metadata": {},
   "outputs": [],
   "source": [
    "def fib(n):\n",
    "    if n == 0:\n",
    "        return 0\n",
    "    elif n == 1:\n",
    "        return 1\n",
    "    else:\n",
    "        return fib(n - 2) + fib(n - 1)\n",
    "    \n",
    "n = int(input())\n",
    "print(fib(n))"
   ]
  },
  {
   "cell_type": "markdown",
   "metadata": {},
   "source": [
    "Более лаконичное решение от разработчиков:"
   ]
  },
  {
   "cell_type": "code",
   "execution_count": null,
   "metadata": {},
   "outputs": [],
   "source": [
    "def fib(n):\n",
    "    if n == 1 or n == 2:\n",
    "        return 1\n",
    "    else:\n",
    "        return fib(n - 1) + fib(n - 2)\n",
    "\n",
    "print(fib(int(input())))"
   ]
  },
  {
   "cell_type": "markdown",
   "metadata": {},
   "source": [
    "# Занятие 9. \"Двумерные массивы\" (pythontutor.ru)"
   ]
  },
  {
   "cell_type": "markdown",
   "metadata": {},
   "source": [
    "## Задача 1. «Максимум»\n",
    "Найдите индексы первого вхождения максимального элемента. Выведите два числа: номер строки и номер столбца, в которых стоит наибольший элемент в двумерном массиве. Если таких элементов несколько, то выводится тот, у которого меньше номер строки, а если номера строк равны то тот, у которого меньше номер столбца.\n",
    "\n",
    "Программа получает на вход размеры массива n и m, затем n строк по m чисел в каждой."
   ]
  },
  {
   "cell_type": "code",
   "execution_count": 9,
   "metadata": {},
   "outputs": [
    {
     "name": "stdout",
     "output_type": "stream",
     "text": [
      "1 1\n",
      "5\n",
      "0 0\n"
     ]
    }
   ],
   "source": [
    "n, m = [int(num) for num in input().split()]\n",
    "A = [[float(j) for j in input().split()] for i in range(n)]\n",
    "max, iMax, jMax = A[0][0], 0, 0\n",
    "\n",
    "for i in range(n):\n",
    "    for j in range(m):\n",
    "        if A[i][j] > max:\n",
    "            max, iMax, jMax = A[i][j], i, j\n",
    "print(iMax, jMax)"
   ]
  },
  {
   "cell_type": "markdown",
   "metadata": {},
   "source": [
    "## Задача 2. «Снежинка»\n",
    "Дано нечетное число n. Создайте двумерный массив из n×n элементов, заполнив его символами \".\" (каждый элемент массива является строкой из одного символа). Затем заполните символами \"*\" среднюю строку массива, средний столбец массива, главную диагональ и побочную диагональ. В результате единицы в массиве должны образовывать изображение звездочки. Выведите полученный массив на экран, разделяя элементы массива пробелами."
   ]
  },
  {
   "cell_type": "code",
   "execution_count": 49,
   "metadata": {},
   "outputs": [
    {
     "name": "stdout",
     "output_type": "stream",
     "text": [
      "6\n",
      "* . . * . *\n",
      ". * . * * .\n",
      ". . * * . .\n",
      "* * * * * *\n",
      ". * . * * .\n",
      "* . . * . *\n"
     ]
    }
   ],
   "source": [
    "n = int(input())\n",
    "sf = [['.'] * n for i in range(n)]\n",
    "for i in range(n):\n",
    "    sf[i][i] = '*'\n",
    "    sf[i][n - 1 - i ] = '*'\n",
    "    sf[i][n // 2] = '*'\n",
    "    sf[n // 2][i] = '*'\n",
    "        \n",
    "\n",
    "for row in sf:\n",
    "    print(' '.join(row))"
   ]
  },
  {
   "cell_type": "markdown",
   "metadata": {},
   "source": [
    "С помощью генераторов списков:"
   ]
  },
  {
   "cell_type": "code",
   "execution_count": 30,
   "metadata": {},
   "outputs": [
    {
     "name": "stdout",
     "output_type": "stream",
     "text": [
      "7\n",
      "* . . * . . *\n",
      ". * . * . * .\n",
      ". . * * * . .\n",
      "* * * * * * *\n",
      ". . * * * . .\n",
      ". * . * . * .\n",
      "* . . * . . *\n"
     ]
    }
   ],
   "source": [
    "n = int(input())\n",
    "\n",
    "snowflake = [['.'] * i + ['*'] + ['.'] * (n // 2 - 1 - i) + ['*'] + ['.'] * (n // 2 - 1 - i) + ['*'] + ['.'] * i\n",
    "             for i in range(n // 2)]\n",
    "snowflake += [ ['*'] * n]\n",
    "snowflake += [['.'] * (n // 2 - 1 - i) + ['*'] + ['.'] * i + ['*'] + ['.'] * i + ['*'] + ['.'] * (n // 2 - 1 - i)\n",
    "             for i in range(n // 2)]\n",
    "\n",
    "for row in snowflake:\n",
    "    print(' '.join(row))"
   ]
  },
  {
   "cell_type": "markdown",
   "metadata": {},
   "source": [
    "## Задача 3. «Шахматная доска»\n",
    "Даны два числа n и m. Создайте двумерный массив размером n×m и заполните его символами \".\" и \"*\" в шахматном порядке. В левом верхнем углу должна стоять точка."
   ]
  },
  {
   "cell_type": "code",
   "execution_count": 47,
   "metadata": {},
   "outputs": [
    {
     "name": "stdout",
     "output_type": "stream",
     "text": [
      "7 6\n",
      ". * . * . *\n",
      "* . * . * .\n",
      ". * . * . *\n",
      "* . * . * .\n",
      ". * . * . *\n",
      "* . * . * .\n",
      ". * . * . *\n"
     ]
    }
   ],
   "source": [
    "n, m = [int(num) for num in input().split()]\n",
    "chess = [['.'] * m for i in range(n)]\n",
    "for i in range(n):\n",
    "    if i % 2:\n",
    "        for j in range(0, m, 2):\n",
    "            chess[i][j] = '*'\n",
    "    else:\n",
    "        for j in range(1, m, 2):\n",
    "            chess[i][j] = '*'\n",
    "        \n",
    " \n",
    "for row in chess:\n",
    "    print(' '.join(row))"
   ]
  },
  {
   "cell_type": "markdown",
   "metadata": {},
   "source": [
    "С тернарным оператором: '*' if (i + j) % 2 else '.' (да, в Python он такой, совсем не похож на С++):"
   ]
  },
  {
   "cell_type": "code",
   "execution_count": 35,
   "metadata": {},
   "outputs": [
    {
     "name": "stdout",
     "output_type": "stream",
     "text": [
      "3 4\n",
      ". * . *\n",
      "* . * .\n",
      ". * . *\n"
     ]
    }
   ],
   "source": [
    "n, m = [int(num) for num in input().split()]\n",
    "chess = [['*' if (i + j) % 2 else '.' for j in range(m)] for i in range(n)]\n",
    "\n",
    "for row in chess:\n",
    "    print(' '.join(row))"
   ]
  },
  {
   "cell_type": "markdown",
   "metadata": {},
   "source": [
    "C методом типа функтора (из С++) (но в комментах написали, что в таких случаях надо использовать лямбды вместе с комбинациями fold* и reduce, чтобы это не значило, сама пока не пробовала):"
   ]
  },
  {
   "cell_type": "code",
   "execution_count": 40,
   "metadata": {},
   "outputs": [
    {
     "name": "stdout",
     "output_type": "stream",
     "text": [
      "3 4\n",
      ". * . *\n",
      "* . * .\n",
      ". * . *\n"
     ]
    }
   ],
   "source": [
    "def getSymbol(i, j):\n",
    "    if (i + j) % 2:\n",
    "        return '*'\n",
    "    else:\n",
    "        return '.'\n",
    "    \n",
    "n, m = [int(num) for num in input().split()]\n",
    "chess = [[getSymbol(i, j) for j in range(m)] for i in range(n)]\n",
    "\n",
    "for row in chess:\n",
    "    print(' '.join(row))"
   ]
  },
  {
   "cell_type": "markdown",
   "metadata": {},
   "source": [
    "## Задача 4. «Диагонали, параллельные главной»\n",
    "Дано число n. Создайте массив размером n×n и заполните его по следующему правилу. На главной диагонали должны быть записаны числа 0. На двух диагоналях, прилегающих к главной, числа 1. На следующих двух диагоналях числа 2, и т.д."
   ]
  },
  {
   "cell_type": "code",
   "execution_count": 61,
   "metadata": {},
   "outputs": [
    {
     "name": "stdout",
     "output_type": "stream",
     "text": [
      "5\n",
      "0 1 2 3 4\n",
      "1 0 1 2 3\n",
      "2 1 0 1 2\n",
      "3 2 1 0 1\n",
      "4 3 2 1 0\n"
     ]
    }
   ],
   "source": [
    "n = int(input())\n",
    "A = [[0] * n for i in range(n)]\n",
    "for i in range(n):\n",
    "    for j in range(n):\n",
    "        A[i][j] = abs(j - i)\n",
    "        \n",
    "for row in A:\n",
    "    print(' '.join([str(a) for a in row]))"
   ]
  },
  {
   "cell_type": "markdown",
   "metadata": {},
   "source": [
    "Более лаконичное и правильное решение от разработчиков:"
   ]
  },
  {
   "cell_type": "code",
   "execution_count": 62,
   "metadata": {},
   "outputs": [
    {
     "name": "stdout",
     "output_type": "stream",
     "text": [
      "5\n",
      "0 1 2 3 4\n",
      "1 0 1 2 3\n",
      "2 1 0 1 2\n",
      "3 2 1 0 1\n",
      "4 3 2 1 0\n"
     ]
    }
   ],
   "source": [
    "n = int(input())\n",
    "a = [[abs(i - j) for j in range(n)] for i in range(n)]\n",
    "for row in a:\n",
    "    print(' '.join([str(i) for i in row]))"
   ]
  },
  {
   "cell_type": "markdown",
   "metadata": {},
   "source": [
    "## Задача 5. «Побочная диагональ»\n",
    "Дано число n. Создайте массив размером n×n и заполните его по следующему правилу:\n",
    "\n",
    "Числа на диагонали, идущей из правого верхнего в левый нижний угол равны 1.\n",
    "\n",
    "Числа, стоящие выше этой диагонали, равны 0.\n",
    "\n",
    "Числа, стоящие ниже этой диагонали, равны 2.\n",
    "\n",
    "Полученный массив выведите на экран. Числа в строке разделяйте одним пробелом."
   ]
  },
  {
   "cell_type": "code",
   "execution_count": 64,
   "metadata": {},
   "outputs": [
    {
     "name": "stdout",
     "output_type": "stream",
     "text": [
      "5\n",
      "0 0 0 0 1\n",
      "0 0 0 1 2\n",
      "0 0 1 2 2\n",
      "0 1 2 2 2\n",
      "1 2 2 2 2\n"
     ]
    }
   ],
   "source": [
    "n = int(input())\n",
    "A = [[0] * (n - 1 - i) + [1] + [2] * i for i in range(n)]\n",
    "\n",
    "for row in A:\n",
    "    print(' '.join([str(a) for a in row]))"
   ]
  },
  {
   "cell_type": "markdown",
   "metadata": {},
   "source": [
    "Решение разработчиков (хуже моего, но сохраню, так как работа с массивом довольно любопытна и непонятна с первого взгляда):"
   ]
  },
  {
   "cell_type": "code",
   "execution_count": null,
   "metadata": {},
   "outputs": [],
   "source": [
    "n = int(input())\n",
    "a = [[0] * n for i in range(n)]\n",
    "for i in range(n):\n",
    "    a[i][n - i - 1] = 1\n",
    "for i in range(n):\n",
    "    for j in range(n - i, n):\n",
    "        a[i][j] = 2\n",
    "for row in a:\n",
    "    for elem in row:\n",
    "        print(elem, end=' ')\n",
    "    print()"
   ]
  },
  {
   "cell_type": "markdown",
   "metadata": {},
   "source": [
    "## Задача 6. «Поменять столбцы»\n",
    "Дан двумерный массив и два числа: i и j. Поменяйте в массиве столбцы с номерами i и j и выведите результат.\n",
    "\n",
    "Программа получает на вход размеры массива n и m, затем элементы массива, затем числа i и j.\n",
    "\n",
    "Решение оформите в виде функции swap_columns(a, i, j)."
   ]
  },
  {
   "cell_type": "code",
   "execution_count": 3,
   "metadata": {
    "scrolled": true
   },
   "outputs": [
    {
     "name": "stdout",
     "output_type": "stream",
     "text": [
      "2 3\n",
      "11 12 13\n",
      "21 22 23\n",
      "0 3\n",
      "11 12 13\n",
      "21 22 23\n"
     ]
    }
   ],
   "source": [
    "def swap_columns(a, i, j):\n",
    "    if 0 <= i < len(a) and 0 <= j < len(a[0]) and i != j:\n",
    "        for k in range(len(a)):\n",
    "            a[k][i], a[k][j] = a[k][j], a[k][i]\n",
    "    \n",
    "\n",
    "n, m = [int(s) for s in input().split()]\n",
    "A = [[int(j) for j in input().split()] for i in range(n)]\n",
    "i, j = [int(s) for s in input().split()]\n",
    "swap_columns(A, i, j)\n",
    "\n",
    "for row in A:\n",
    "    print(' '.join([str(a) for a in row]))"
   ]
  },
  {
   "cell_type": "markdown",
   "metadata": {},
   "source": [
    "А следующий кусочек кода приведет к ошибке TypeError: object of type 'int' has no len():"
   ]
  },
  {
   "cell_type": "code",
   "execution_count": 6,
   "metadata": {},
   "outputs": [
    {
     "ename": "TypeError",
     "evalue": "object of type 'int' has no len()",
     "output_type": "error",
     "traceback": [
      "\u001b[1;31m---------------------------------------------------------------------------\u001b[0m",
      "\u001b[1;31mTypeError\u001b[0m                                 Traceback (most recent call last)",
      "\u001b[1;32m<ipython-input-6-ed4b028a4887>\u001b[0m in \u001b[0;36m<module>\u001b[1;34m\u001b[0m\n\u001b[0;32m      1\u001b[0m \u001b[0ma\u001b[0m \u001b[1;33m=\u001b[0m \u001b[1;36m1\u001b[0m\u001b[1;33m\u001b[0m\u001b[1;33m\u001b[0m\u001b[0m\n\u001b[1;32m----> 2\u001b[1;33m \u001b[0mswap_columns\u001b[0m\u001b[1;33m(\u001b[0m\u001b[0ma\u001b[0m\u001b[1;33m,\u001b[0m \u001b[1;36m1\u001b[0m\u001b[1;33m,\u001b[0m \u001b[1;36m1\u001b[0m\u001b[1;33m)\u001b[0m\u001b[1;33m\u001b[0m\u001b[1;33m\u001b[0m\u001b[0m\n\u001b[0m\u001b[0;32m      3\u001b[0m \u001b[0mprint\u001b[0m\u001b[1;33m(\u001b[0m\u001b[0ma\u001b[0m\u001b[1;33m)\u001b[0m\u001b[1;33m\u001b[0m\u001b[1;33m\u001b[0m\u001b[0m\n",
      "\u001b[1;32m<ipython-input-3-74877255e56c>\u001b[0m in \u001b[0;36mswap_columns\u001b[1;34m(a, i, j)\u001b[0m\n\u001b[0;32m      1\u001b[0m \u001b[1;32mdef\u001b[0m \u001b[0mswap_columns\u001b[0m\u001b[1;33m(\u001b[0m\u001b[0ma\u001b[0m\u001b[1;33m,\u001b[0m \u001b[0mi\u001b[0m\u001b[1;33m,\u001b[0m \u001b[0mj\u001b[0m\u001b[1;33m)\u001b[0m\u001b[1;33m:\u001b[0m\u001b[1;33m\u001b[0m\u001b[1;33m\u001b[0m\u001b[0m\n\u001b[1;32m----> 2\u001b[1;33m     \u001b[1;32mif\u001b[0m \u001b[1;36m0\u001b[0m \u001b[1;33m<=\u001b[0m \u001b[0mi\u001b[0m \u001b[1;33m<\u001b[0m \u001b[0mlen\u001b[0m\u001b[1;33m(\u001b[0m\u001b[0ma\u001b[0m\u001b[1;33m)\u001b[0m \u001b[1;32mand\u001b[0m \u001b[1;36m0\u001b[0m \u001b[1;33m<=\u001b[0m \u001b[0mj\u001b[0m \u001b[1;33m<\u001b[0m \u001b[0mlen\u001b[0m\u001b[1;33m(\u001b[0m\u001b[0ma\u001b[0m\u001b[1;33m[\u001b[0m\u001b[1;36m0\u001b[0m\u001b[1;33m]\u001b[0m\u001b[1;33m)\u001b[0m \u001b[1;32mand\u001b[0m \u001b[0mi\u001b[0m \u001b[1;33m!=\u001b[0m \u001b[0mj\u001b[0m\u001b[1;33m:\u001b[0m\u001b[1;33m\u001b[0m\u001b[1;33m\u001b[0m\u001b[0m\n\u001b[0m\u001b[0;32m      3\u001b[0m         \u001b[1;32mfor\u001b[0m \u001b[0mk\u001b[0m \u001b[1;32min\u001b[0m \u001b[0mrange\u001b[0m\u001b[1;33m(\u001b[0m\u001b[0mlen\u001b[0m\u001b[1;33m(\u001b[0m\u001b[0ma\u001b[0m\u001b[1;33m)\u001b[0m\u001b[1;33m)\u001b[0m\u001b[1;33m:\u001b[0m\u001b[1;33m\u001b[0m\u001b[1;33m\u001b[0m\u001b[0m\n\u001b[0;32m      4\u001b[0m             \u001b[0ma\u001b[0m\u001b[1;33m[\u001b[0m\u001b[0mk\u001b[0m\u001b[1;33m]\u001b[0m\u001b[1;33m[\u001b[0m\u001b[0mi\u001b[0m\u001b[1;33m]\u001b[0m\u001b[1;33m,\u001b[0m \u001b[0ma\u001b[0m\u001b[1;33m[\u001b[0m\u001b[0mk\u001b[0m\u001b[1;33m]\u001b[0m\u001b[1;33m[\u001b[0m\u001b[0mj\u001b[0m\u001b[1;33m]\u001b[0m \u001b[1;33m=\u001b[0m \u001b[0ma\u001b[0m\u001b[1;33m[\u001b[0m\u001b[0mk\u001b[0m\u001b[1;33m]\u001b[0m\u001b[1;33m[\u001b[0m\u001b[0mj\u001b[0m\u001b[1;33m]\u001b[0m\u001b[1;33m,\u001b[0m \u001b[0ma\u001b[0m\u001b[1;33m[\u001b[0m\u001b[0mk\u001b[0m\u001b[1;33m]\u001b[0m\u001b[1;33m[\u001b[0m\u001b[0mi\u001b[0m\u001b[1;33m]\u001b[0m\u001b[1;33m\u001b[0m\u001b[1;33m\u001b[0m\u001b[0m\n\u001b[0;32m      5\u001b[0m \u001b[1;33m\u001b[0m\u001b[0m\n",
      "\u001b[1;31mTypeError\u001b[0m: object of type 'int' has no len()"
     ]
    }
   ],
   "source": [
    "a = 1\n",
    "swap_columns(a, 1, 1)\n",
    "print(a)"
   ]
  },
  {
   "cell_type": "markdown",
   "metadata": {},
   "source": [
    "Решение разработчиков (такое же как у меня, но только добавлен классный вывод массива):"
   ]
  },
  {
   "cell_type": "code",
   "execution_count": null,
   "metadata": {},
   "outputs": [],
   "source": [
    "def swap_columns(a, i, j):\n",
    "    for k in range(len(a)):\n",
    "        a[k][i], a[k][j] = a[k][j], a[k][i]\n",
    "\n",
    "n, m = [int(i) for i in input().split()]\n",
    "a = [[int(j) for j in input().split()] for i in range(n)]\n",
    "i, j = [int(i) for i in input().split()]\n",
    "swap_columns(a, i, j)\n",
    "print('\\n'.join([' '.join([str(i) for i in row]) for row in a]))"
   ]
  },
  {
   "cell_type": "markdown",
   "metadata": {},
   "source": [
    "# Занятие 10. \"Множества\" (pythontutor.ru)"
   ]
  },
  {
   "cell_type": "code",
   "execution_count": 2,
   "metadata": {},
   "outputs": [
    {
     "name": "stdout",
     "output_type": "stream",
     "text": [
      "{'1', '2', '3'}\n"
     ]
    }
   ],
   "source": [
    "A = ['1', '2', '3', '3']\n",
    "B = set(A)\n",
    "print(B)"
   ]
  },
  {
   "cell_type": "markdown",
   "metadata": {},
   "source": [
    "## Задача 1. «Количество различных чисел»\n",
    "Дан список чисел. Определите, сколько в нем встречается различных чисел.\n",
    "Примечание. Эту задачу на Питоне можно решить в одну строчку.\n",
    "\n"
   ]
  },
  {
   "cell_type": "code",
   "execution_count": 3,
   "metadata": {},
   "outputs": [
    {
     "name": "stdout",
     "output_type": "stream",
     "text": [
      "1 2 3 4 5 3\n",
      "5\n"
     ]
    }
   ],
   "source": [
    "print(len(set(input().split())))"
   ]
  },
  {
   "cell_type": "markdown",
   "metadata": {},
   "source": [
    "## Задача 2. «Количество совпадающих чисел»\n",
    "Даны два списка чисел. Посчитайте, сколько чисел содержится одновременно как в первом списке, так и во втором.\n",
    "Примечание. Эту задачу на Питоне можно решить в одну строчку."
   ]
  },
  {
   "cell_type": "code",
   "execution_count": null,
   "metadata": {},
   "outputs": [],
   "source": [
    "print(len(set(input().split()) & set(input().split())))"
   ]
  },
  {
   "cell_type": "markdown",
   "metadata": {},
   "source": [
    "## Задача 3. «Пересечение множеств»\n",
    "Даны два списка чисел. Найдите все числа, которые входят как в первый, так и во второй список и выведите их в порядке возрастания.\n",
    "Примечание. И даже эту задачу на Питоне можно решить в одну строчку."
   ]
  },
  {
   "cell_type": "markdown",
   "metadata": {},
   "source": [
    "Вариант 1:"
   ]
  },
  {
   "cell_type": "code",
   "execution_count": 11,
   "metadata": {},
   "outputs": [
    {
     "name": "stdout",
     "output_type": "stream",
     "text": [
      "1 3 2\n",
      "5 2 1\n",
      "1 2\n"
     ]
    }
   ],
   "source": [
    "A = list(set([int(j) for j in input().split()]) & set([int(k) for k in input().split()]))\n",
    "A.sort()\n",
    "print(' '.join([str(num) for num in A]))"
   ]
  },
  {
   "cell_type": "markdown",
   "metadata": {},
   "source": [
    "Вариант 2:"
   ]
  },
  {
   "cell_type": "code",
   "execution_count": 12,
   "metadata": {},
   "outputs": [
    {
     "name": "stdout",
     "output_type": "stream",
     "text": [
      "1 3 2\n",
      "5 2 1\n",
      "1 2\n"
     ]
    }
   ],
   "source": [
    "print(' '.join([str(i) for i in sorted(list(set([int(j) for j in input().split()]) & set([int(k) for k in input().split()])))]))"
   ]
  },
  {
   "cell_type": "markdown",
   "metadata": {},
   "source": [
    "Более лаконичный способ от разработчиков, к тому же мне были неизвестны до этого такой способ сортировки с использованием функции для ключа и способ вывода списка с помощью *.\n",
    "\n",
    "Symbol * is use to print the list elements in a single line with space. To print all elements in new lines or separated by space use sep=”\\n” or sep=”, ” respectively.\n",
    "\n",
    "И вообще символ *, следующий перед списком, кортежем или словарем, которые потом передаются в функцию, принимающую варьируемое количество параметров, служит для распаковывания этих контейнеров, т.е. извлечения элементов по одному и передачу в эту функцию."
   ]
  },
  {
   "cell_type": "code",
   "execution_count": null,
   "metadata": {},
   "outputs": [],
   "source": [
    "print(*sorted(set(input().split()) & set(input().split()), key=int))"
   ]
  },
  {
   "cell_type": "markdown",
   "metadata": {},
   "source": [
    "## Задача 4. «Встречалось ли число раньше»\n",
    "Во входной строке записана последовательность чисел через пробел. Для каждого числа выведите слово YES (в отдельной строке), если это число ранее встречалось в последовательности или NO, если не встречалось."
   ]
  },
  {
   "cell_type": "markdown",
   "metadata": {},
   "source": [
    "Без использования множеств, хотя можно было и проще (см. ниже чужое решение):"
   ]
  },
  {
   "cell_type": "code",
   "execution_count": null,
   "metadata": {},
   "outputs": [],
   "source": [
    "A = input().split()\n",
    "for i in range(len(A)):\n",
    "    if i == 0:\n",
    "        print('NO')\n",
    "    else:\n",
    "        if A[i] in A[:i]:\n",
    "            print('YES')\n",
    "        else:\n",
    "            print('NO')"
   ]
  },
  {
   "cell_type": "markdown",
   "metadata": {},
   "source": [
    "Чужое решение попроще моего:"
   ]
  },
  {
   "cell_type": "code",
   "execution_count": null,
   "metadata": {},
   "outputs": [],
   "source": [
    "n = [int(i) for i in input().split()]\n",
    "k = []\n",
    "for i in n:\n",
    "    if i in k:\n",
    "        print('YES')\n",
    "    else:\n",
    "        print('NO')\n",
    "    k.append(i)"
   ]
  },
  {
   "cell_type": "markdown",
   "metadata": {},
   "source": [
    "С использованием множеств:"
   ]
  },
  {
   "cell_type": "code",
   "execution_count": 18,
   "metadata": {},
   "outputs": [
    {
     "name": "stdout",
     "output_type": "stream",
     "text": [
      "1 2 3 5 2 4 6 1\n",
      "NO\n",
      "NO\n",
      "NO\n",
      "NO\n",
      "YES\n",
      "NO\n",
      "NO\n",
      "YES\n"
     ]
    }
   ],
   "source": [
    "listA = input().split()\n",
    "setA = set()\n",
    "for elem in listA:\n",
    "    if elem in setA:\n",
    "        print('YES')\n",
    "    else:\n",
    "        print('NO')\n",
    "    setA.add(elem)"
   ]
  },
  {
   "cell_type": "markdown",
   "metadata": {},
   "source": [
    "Решение разработчиков (меньше действий в случае повторений элементов, чем в моём, п.э. оно лучше):"
   ]
  },
  {
   "cell_type": "code",
   "execution_count": null,
   "metadata": {},
   "outputs": [],
   "source": [
    "numbers = [int(s) for s in input().split()]\n",
    "occur_before = set()\n",
    "for num in numbers:\n",
    "    if num in occur_before:\n",
    "        print('YES')\n",
    "    else:\n",
    "        print('NO')\n",
    "        occur_before.add(num)"
   ]
  },
  {
   "cell_type": "markdown",
   "metadata": {},
   "source": [
    "## Задача 5. «Кубики»\n",
    "Аня и Боря любят играть в разноцветные кубики, причем у каждого из них свой набор и в каждом наборе все кубики различны по цвету. Однажды дети заинтересовались, сколько существуют цветов таких, что кубики каждого цвета присутствуют в обоих наборах. Для этого они занумеровали все цвета случайными числами от 0 до 108. На этом их энтузиазм иссяк, поэтому вам предлагается помочь им в оставшейся части.\n",
    "\n",
    "В первой строке входных данных записаны числа N и M — число кубиков у Ани и Бори. В следующих N строках заданы номера цветов кубиков Ани. В последних M строках номера цветов Бори.\n",
    "\n",
    "Найдите три множества: номера цветов кубиков, которые есть в обоих наборах; номера цветов кубиков, которые есть только у Ани и номера цветов кубиков, которые есть только у Бори. Для каждого из множеств выведите сначала количество элементов в нем, а затем сами элементы, отсортированные по возрастанию."
   ]
  },
  {
   "cell_type": "code",
   "execution_count": 21,
   "metadata": {},
   "outputs": [
    {
     "name": "stdout",
     "output_type": "stream",
     "text": [
      "2 3\n",
      "1\n",
      "2\n",
      "6\n",
      "8\n",
      "5\n",
      "[1, 2] [6, 8, 5]\n"
     ]
    }
   ],
   "source": [
    "N, M = [int(s) for s in input().split()]\n",
    "AnnCubes = [int(input()) for i in range(N)]\n",
    "BorCubes = [int(input()) for i in range(M)]\n",
    "print(AnnCubes, BorCubes)"
   ]
  },
  {
   "cell_type": "code",
   "execution_count": 23,
   "metadata": {},
   "outputs": [
    {
     "name": "stdout",
     "output_type": "stream",
     "text": [
      "2 3\n",
      "1\n",
      "2\n",
      "6\n",
      "8\n",
      "5\n",
      "0\n",
      "\n"
     ]
    }
   ],
   "source": [
    "N, M = [int(s) for s in input().split()]\n",
    "AnnCubes = set([int(input()) for i in range(N)])\n",
    "BorCubes = set([int(input()) for i in range(M)])\n",
    "res1 = AnnCubes & BorCubes\n",
    "res2 = AnnCubes - BorCubes\n",
    "res3 = BorCubes - AnnCubes\n",
    "print(len(res1))\n",
    "print(*sorted(list(res1)))"
   ]
  },
  {
   "cell_type": "code",
   "execution_count": 26,
   "metadata": {},
   "outputs": [
    {
     "name": "stdout",
     "output_type": "stream",
     "text": [
      "2 3\n",
      "1\n",
      "2\n",
      "2\n",
      "6\n",
      "5\n",
      "1\n",
      "2\n",
      "1\n",
      "1\n",
      "2\n",
      "5 6\n"
     ]
    }
   ],
   "source": [
    "N, M = [int(s) for s in input().split()]\n",
    "AnnCubes = set([int(input()) for i in range(N)])\n",
    "BorCubes = set([int(input()) for i in range(M)])\n",
    "res = []\n",
    "res.append(AnnCubes & BorCubes)\n",
    "res.append(AnnCubes - BorCubes)\n",
    "res.append(BorCubes - AnnCubes)\n",
    "for elem in res:\n",
    "    print(len(elem))\n",
    "    print(*sorted(elem))"
   ]
  },
  {
   "cell_type": "markdown",
   "metadata": {},
   "source": [
    "Решение разработчиков (немногим лучше моего, если вообще лучше):"
   ]
  },
  {
   "cell_type": "code",
   "execution_count": null,
   "metadata": {},
   "outputs": [],
   "source": [
    "def print_set(some_set):\n",
    "    print(len(some_set))\n",
    "    print(*[str(item) for item in sorted(some_set)])\n",
    "\n",
    "N, M = [int(s) for s in input().split()]\n",
    "A_colors, B_colors = set(), set()\n",
    "for i in range(N):\n",
    "    A_colors.add(int(input()))\n",
    "for i in range(M):\n",
    "    B_colors.add(int(input()))\n",
    "    \n",
    "print_set(A_colors & B_colors)\n",
    "print_set(A_colors - B_colors)\n",
    "print_set(B_colors - A_colors)"
   ]
  },
  {
   "cell_type": "markdown",
   "metadata": {},
   "source": [
    "## Задача 6. «Количество слов в тексте»\n",
    "Дан текст: в первой строке записано число строк, далее идут сами строки. Определите, сколько различных слов содержится в этом тексте.\n",
    "\n",
    "Словом считается последовательность непробельных символов идущих подряд, слова разделены одним или большим числом пробелов или символами конца строки."
   ]
  },
  {
   "cell_type": "code",
   "execution_count": 29,
   "metadata": {},
   "outputs": [
    {
     "name": "stdout",
     "output_type": "stream",
     "text": [
      "['She', 'sells', 'sea', 'shells', 'on', 'the', 'sea', 'shore;']\n"
     ]
    }
   ],
   "source": [
    "print('She  \\t\\tsells    sea shells on the sea shore;'.split())"
   ]
  },
  {
   "cell_type": "code",
   "execution_count": 33,
   "metadata": {},
   "outputs": [
    {
     "name": "stdout",
     "output_type": "stream",
     "text": [
      "{'s', 'f', 'd', 'g'}\n"
     ]
    }
   ],
   "source": [
    "A = set()\n",
    "A.update(set('dfsfdg'))\n",
    "print(A)"
   ]
  },
  {
   "cell_type": "code",
   "execution_count": null,
   "metadata": {},
   "outputs": [],
   "source": [
    "N = int(input())\n",
    "diffWords = set()\n",
    "for i in range(N):\n",
    "    diffWords.update(set(input().split()))\n",
    "print(len(diffWords))"
   ]
  },
  {
   "cell_type": "markdown",
   "metadata": {},
   "source": [
    "Чуть более лаконичное решение разработчиков:"
   ]
  },
  {
   "cell_type": "code",
   "execution_count": null,
   "metadata": {},
   "outputs": [],
   "source": [
    "words = set()\n",
    "for _ in range(int(input())):\n",
    "    words.update(input().split())\n",
    "print(len(words))"
   ]
  },
  {
   "cell_type": "markdown",
   "metadata": {},
   "source": [
    "## Задача 7. «Угадай число»\n",
    "Август и Беатриса играют в игру. Август загадал натуральное число от 1 до n. Беатриса пытается угадать это число, для этого она называет некоторые множества натуральных чисел. Август отвечает Беатрисе YES, если среди названных ей чисел есть задуманное или NO в противном случае. После нескольких заданныъх вопросов Беатриса запуталась в том, какие вопросы она задавала и какие ответы получила и просит вас помочь ей определить, какие числа мог задумать Август.\n",
    "\n",
    "В первой строке задано n - максимальное число, которое мог загадать Август. Далее каждая строка содержит вопрос Беатрисы (множество чисел, разделенных пробелом) и ответ Августа на этот вопрос.\n",
    "\n",
    "Вы должны вывести через пробел, в порядке возрастания, все числа, которые мог задумать Август."
   ]
  },
  {
   "cell_type": "code",
   "execution_count": null,
   "metadata": {},
   "outputs": [],
   "source": [
    "n = int(input())\n",
    "str = input()\n",
    "setsYES = []\n",
    "setsNO = []\n",
    "while(str != 'HELP'):\n",
    "    A = [int(s) for s in str.split() if int(s) <= n]\n",
    "    if input() == 'YES':\n",
    "        setsYES.append(set(A))\n",
    "    else:\n",
    "        setsNO.append(set(A))\n",
    "    str = input()\n",
    "\n",
    "res = set()\n",
    "if len(setsYES) >= 1:\n",
    "    res = setsYES[0]\n",
    "for i in range(1, len(setsYES)):\n",
    "    res.intersection_update(setsYES[i])\n",
    "for elem in setsNO:\n",
    "    res.difference_update(elem)\n",
    "print(*sorted(res))\n",
    "print(len(res))"
   ]
  },
  {
   "cell_type": "markdown",
   "metadata": {},
   "source": [
    "Немного доработанное решение (убраны ненужные списки и, соответственно, действия с ними):"
   ]
  },
  {
   "cell_type": "code",
   "execution_count": null,
   "metadata": {},
   "outputs": [],
   "source": [
    "n = int(input())\n",
    "str = input()\n",
    "res = set()\n",
    "while(str != 'HELP'):\n",
    "    A = set([int(s) for s in str.split() if int(s) <= n])\n",
    "    if input() == 'YES':\n",
    "        if len(res) == 0:\n",
    "            res = A\n",
    "        else:\n",
    "            res.intersection_update(A)\n",
    "    else:\n",
    "        res.difference_update(A)\n",
    "    str = input()\n",
    "print(*sorted(res))"
   ]
  },
  {
   "cell_type": "markdown",
   "metadata": {},
   "source": [
    "НО МОЁ РЕШЕНИЕ НЕПРАВИЛЬНОЕ (это я поняла после того, как ознакомилась с решением от разработчиков), несмотря на то, что оно прошло 3 теста, т.к. оно не учитывает ситуацию, когда на все вопросы был дан ответ 'NO', и при этом не все числа меньшие и равные n были названы. Значит, надо сначала создавать множество со всеми возможными числами, а потом вычитать из него:"
   ]
  },
  {
   "cell_type": "code",
   "execution_count": null,
   "metadata": {},
   "outputs": [],
   "source": [
    "n = int(input())\n",
    "allNums = set(range(1, n + 1))\n",
    "res = allNums\n",
    "str = input()\n",
    "while(str != 'HELP'):\n",
    "    A = {int(s) for s in str.split()}\n",
    "    if input() == 'YES':\n",
    "        res.intersection_update(A)\n",
    "    else:\n",
    "        res.difference_update(A)\n",
    "    str = input()\n",
    "print(*sorted(res))"
   ]
  },
  {
   "cell_type": "markdown",
   "metadata": {},
   "source": [
    "Теперь мне кажется, что мое последнее решение даже чуть лучше решения разработчиков:"
   ]
  },
  {
   "cell_type": "code",
   "execution_count": null,
   "metadata": {},
   "outputs": [],
   "source": [
    "n = int(input())\n",
    "all_nums = set(range(1, n + 1))\n",
    "possible_nums = all_nums\n",
    "while True:\n",
    "    guess = input()\n",
    "    if guess == 'HELP':\n",
    "        break\n",
    "    guess = {int(x) for x in guess.split()}\n",
    "    answer = input()\n",
    "    if answer == 'YES':\n",
    "        possible_nums &= guess\n",
    "    else:\n",
    "        possible_nums &= all_nums - guess\n",
    "\n",
    "print(' '.join([str(x) for x in sorted(possible_nums)]))"
   ]
  },
  {
   "cell_type": "markdown",
   "metadata": {},
   "source": [
    "## Задача 9. «Полиглоты»\n",
    "Каждый из некоторого множества школьников некоторой школы знает некоторое количество языков. Нужно определить сколько языков знают все школьники, и сколько языков знает хотя бы один из школьников.\n",
    "\n",
    "В первой строке задано количество школьников. Для каждого из школьников сперва записано количество языков, которое он знает, а затем - названия языков, по одному в строке.\n",
    "\n",
    "В первой строке выведите количество языков, которые знают все школьники. Начиная со второй строки - список таких языков. Затем - количество языков, которые знает хотя бы один школьник, на следующих строках - список таких языков. Языки нужно выводить в лексикографическом порядке, по одному на строке."
   ]
  },
  {
   "cell_type": "code",
   "execution_count": null,
   "metadata": {},
   "outputs": [],
   "source": [
    "allStudKnow = set()\n",
    "atLeastOneStudKnows = set()\n",
    "for i in range(int(input())):\n",
    "    currStudKnows = {input() for j in range(int(input()))}\n",
    "    if i == 0:\n",
    "        allStudKnow = currStudKnows\n",
    "    else:\n",
    "        allStudKnow &= currStudKnows\n",
    "    if len(currStudKnows) > len(atLeastOneStudKnows):\n",
    "        atLeastOneStudKnows = currStudKnows\n",
    "print(len(allStudKnow), *sorted(allStudKnow), sep='\\n')\n",
    "print(len(atLeastOneStudKnows), *sorted(atLeastOneStudKnows), sep='\\n')"
   ]
  },
  {
   "cell_type": "markdown",
   "metadata": {},
   "source": [
    "Куда более лаконичное решение разработчиков (я не знала, что в методы множества можно передавать варьируемое количество параметров прямо из списка (используя оператор * для распаковывания списка):"
   ]
  },
  {
   "cell_type": "code",
   "execution_count": null,
   "metadata": {},
   "outputs": [],
   "source": [
    "students = [{input() for j in range(int(input()))} for i in range(int(input()))]\n",
    "known_by_everyone, known_by_someone = set.intersection(*students), set.union(*students)\n",
    "print(len(known_by_everyone), *sorted(known_by_everyone), sep='\\n')\n",
    "print(len(known_by_someone), *sorted(known_by_someone), sep='\\n')"
   ]
  },
  {
   "cell_type": "code",
   "execution_count": 3,
   "metadata": {},
   "outputs": [
    {
     "name": "stdout",
     "output_type": "stream",
     "text": [
      "{1, 2, 3}\n"
     ]
    }
   ],
   "source": [
    "A = [{1, 2, 3}, {1, 2}, {1}]\n",
    "B = set()\n",
    "B.update(*A)\n",
    "print(B)"
   ]
  },
  {
   "cell_type": "markdown",
   "metadata": {},
   "source": [
    "## Задача 10. «Забастовки»\n",
    "Политическая жизнь одной страны очень оживленная. В стране действует K политических партий, каждая из которых регулярно объявляет национальную забастовку. Дни, когда хотя бы одна из партий объявляет забастовку, при условии, что это не суббота или воскресенье (когда и так никто не работает), наносят большой ущерб экономике страны.\n",
    "\n",
    "i-я партия объявляет забастовки строго каждые b_i дней, начиная с дня с номером a_i. То есть i-я партия объявляет забастовки в дни a_i, a_i + b_i, a_i + 2 * b_i и т.д. Если в какой-то день несколько партий объявляет забастовку, то это считается одной общенациональной забастовкой.\n",
    "\n",
    "В календаре страны N дней, пронумерованных, начиная с единицы. Первый день года является понедельником, шестой и седьмой дни года — выходные, неделя состоит из семи дней.\n",
    "\n",
    "В первой строке даны числа N и K. Далее идет K строк, описывающие графики проведения забастовок. i-я строка содержит числа a_i и b_i. Вам нужно определить число забастовок, произошедших в этой стране в течении года."
   ]
  },
  {
   "cell_type": "code",
   "execution_count": 13,
   "metadata": {},
   "outputs": [
    {
     "name": "stdout",
     "output_type": "stream",
     "text": [
      "5 2\n",
      "1 2\n",
      "2 2\n",
      "{2, 3, 4, 5}\n",
      "4\n"
     ]
    }
   ],
   "source": [
    "N, K = [int(s) for s in input().split()]\n",
    "allStrikes = set()\n",
    "for i in range(K):\n",
    "    a, b = [int(s) for s in input().split()]\n",
    "    aCur = a\n",
    "    while aCur <= N:\n",
    "        if (aCur + 1) % 7 != 0 and aCur % 7 != 0:\n",
    "            allStrikes.add(aCur)\n",
    "        aCur += b\n",
    "print(len(allStrikes))"
   ]
  },
  {
   "cell_type": "markdown",
   "metadata": {},
   "source": [
    "Более лаконичное решение разработчиков:"
   ]
  },
  {
   "cell_type": "code",
   "execution_count": null,
   "metadata": {},
   "outputs": [],
   "source": [
    "N, K = [int(s) for s in input().split()]\n",
    "allStrikes = set()\n",
    "for i in range(K):\n",
    "    a, b = [int(s) for s in input().split()]\n",
    "    aCur = a\n",
    "    while aCur <= N:\n",
    "        if (aCur + 1) % 7 != 0 and aCur % 7 != 0:\n",
    "            allStrikes.add(aCur)\n",
    "        aCur += b\n",
    "print(len(allStrikes))"
   ]
  },
  {
   "cell_type": "markdown",
   "metadata": {},
   "source": [
    "Ещё одно классное решение от одного из участников, думаю, даже лучше, чем решение разработчиков (тоже более питоновское, и вообще с интересным подходом):"
   ]
  },
  {
   "cell_type": "code",
   "execution_count": 14,
   "metadata": {},
   "outputs": [
    {
     "name": "stdout",
     "output_type": "stream",
     "text": [
      "19 3\n",
      "2 3\n",
      "3 5\n",
      "9 8\n",
      "8\n"
     ]
    }
   ],
   "source": [
    "n, k = [int(i) for i in input().split()]\n",
    "ba = set()\n",
    "for i in range(k):\n",
    "    a, b = [int(i) for i in input().split()]\n",
    "    ba.update(set(range(a, n + 1, b)))\n",
    "holidays = set(range(6, n + 1, 7)) | set(range(7, n + 1, 7))\n",
    "print(len(ba - holidays))"
   ]
  },
  {
   "cell_type": "markdown",
   "metadata": {},
   "source": [
    "Пробую создать множества из списка, который содержит изменяемые типы данных (списки), получаю ошибку:"
   ]
  },
  {
   "cell_type": "code",
   "execution_count": 1,
   "metadata": {},
   "outputs": [
    {
     "ename": "TypeError",
     "evalue": "unhashable type: 'list'",
     "output_type": "error",
     "traceback": [
      "\u001b[1;31m---------------------------------------------------------------------------\u001b[0m",
      "\u001b[1;31mTypeError\u001b[0m                                 Traceback (most recent call last)",
      "\u001b[1;32m<ipython-input-1-25171c239f15>\u001b[0m in \u001b[0;36m<module>\u001b[1;34m\u001b[0m\n\u001b[0;32m      1\u001b[0m \u001b[0mA\u001b[0m \u001b[1;33m=\u001b[0m \u001b[1;33m[\u001b[0m\u001b[1;33m[\u001b[0m\u001b[1;36m1\u001b[0m\u001b[1;33m,\u001b[0m \u001b[1;36m2\u001b[0m\u001b[1;33m]\u001b[0m\u001b[1;33m,\u001b[0m \u001b[1;33m[\u001b[0m\u001b[1;36m3\u001b[0m\u001b[1;33m,\u001b[0m \u001b[1;36m4\u001b[0m\u001b[1;33m]\u001b[0m\u001b[1;33m,\u001b[0m \u001b[1;33m[\u001b[0m\u001b[1;36m5\u001b[0m\u001b[1;33m]\u001b[0m\u001b[1;33m,\u001b[0m \u001b[1;36m6\u001b[0m\u001b[1;33m]\u001b[0m\u001b[1;33m\u001b[0m\u001b[1;33m\u001b[0m\u001b[0m\n\u001b[1;32m----> 2\u001b[1;33m \u001b[0mB\u001b[0m \u001b[1;33m=\u001b[0m \u001b[0mset\u001b[0m\u001b[1;33m(\u001b[0m\u001b[0mA\u001b[0m\u001b[1;33m)\u001b[0m\u001b[1;33m\u001b[0m\u001b[1;33m\u001b[0m\u001b[0m\n\u001b[0m\u001b[0;32m      3\u001b[0m \u001b[0mprint\u001b[0m\u001b[1;33m(\u001b[0m\u001b[0mB\u001b[0m\u001b[1;33m)\u001b[0m\u001b[1;33m\u001b[0m\u001b[1;33m\u001b[0m\u001b[0m\n",
      "\u001b[1;31mTypeError\u001b[0m: unhashable type: 'list'"
     ]
    }
   ],
   "source": [
    "A = [[1, 2], [3, 4], [5], 6]\n",
    "B = set(A)\n",
    "print(B)"
   ]
  },
  {
   "cell_type": "markdown",
   "metadata": {},
   "source": [
    "Проверила, что в метод add можно передавать только один аргумент:"
   ]
  },
  {
   "cell_type": "code",
   "execution_count": 6,
   "metadata": {},
   "outputs": [
    {
     "ename": "TypeError",
     "evalue": "add() takes exactly one argument (2 given)",
     "output_type": "error",
     "traceback": [
      "\u001b[1;31m---------------------------------------------------------------------------\u001b[0m",
      "\u001b[1;31mTypeError\u001b[0m                                 Traceback (most recent call last)",
      "\u001b[1;32m<ipython-input-6-6cf8ef74765a>\u001b[0m in \u001b[0;36m<module>\u001b[1;34m\u001b[0m\n\u001b[0;32m      1\u001b[0m \u001b[0mA\u001b[0m \u001b[1;33m=\u001b[0m \u001b[1;33m{\u001b[0m\u001b[1;36m1\u001b[0m\u001b[1;33m,\u001b[0m \u001b[1;36m2\u001b[0m\u001b[1;33m,\u001b[0m \u001b[1;36m3\u001b[0m\u001b[1;33m}\u001b[0m\u001b[1;33m\u001b[0m\u001b[1;33m\u001b[0m\u001b[0m\n\u001b[1;32m----> 2\u001b[1;33m \u001b[0mA\u001b[0m\u001b[1;33m.\u001b[0m\u001b[0madd\u001b[0m\u001b[1;33m(\u001b[0m\u001b[1;36m5\u001b[0m\u001b[1;33m,\u001b[0m \u001b[1;36m6\u001b[0m\u001b[1;33m)\u001b[0m\u001b[1;33m\u001b[0m\u001b[1;33m\u001b[0m\u001b[0m\n\u001b[0m\u001b[0;32m      3\u001b[0m \u001b[0mprint\u001b[0m\u001b[1;33m(\u001b[0m\u001b[0mA\u001b[0m\u001b[1;33m)\u001b[0m\u001b[1;33m\u001b[0m\u001b[1;33m\u001b[0m\u001b[0m\n",
      "\u001b[1;31mTypeError\u001b[0m: add() takes exactly one argument (2 given)"
     ]
    }
   ],
   "source": [
    "A = {1, 2, 3}\n",
    "A.add(5, 6)\n",
    "print(A)"
   ]
  },
  {
   "cell_type": "markdown",
   "metadata": {},
   "source": [
    "# Занятие 11. \"Словари\" (pythontutor.ru)"
   ]
  },
  {
   "cell_type": "code",
   "execution_count": 23,
   "metadata": {},
   "outputs": [
    {
     "name": "stdout",
     "output_type": "stream",
     "text": [
      "{1: 1, 2: '4', '1': 3, 'a': 5}\n"
     ]
    }
   ],
   "source": [
    "A = {1:1, 2:2, '1':3, 2:'4','a':5}\n",
    "print(A)"
   ]
  },
  {
   "cell_type": "markdown",
   "metadata": {},
   "source": [
    "К элементу словаря нельзя обратиться вот так: A.'1' и почему-то A.a:"
   ]
  },
  {
   "cell_type": "code",
   "execution_count": 26,
   "metadata": {},
   "outputs": [
    {
     "ename": "AttributeError",
     "evalue": "'dict' object has no attribute 'a'",
     "output_type": "error",
     "traceback": [
      "\u001b[1;31m---------------------------------------------------------------------------\u001b[0m",
      "\u001b[1;31mAttributeError\u001b[0m                            Traceback (most recent call last)",
      "\u001b[1;32m<ipython-input-26-a5361983831c>\u001b[0m in \u001b[0;36m<module>\u001b[1;34m\u001b[0m\n\u001b[1;32m----> 1\u001b[1;33m \u001b[0mprint\u001b[0m\u001b[1;33m(\u001b[0m\u001b[0mA\u001b[0m\u001b[1;33m[\u001b[0m\u001b[1;36m1\u001b[0m\u001b[1;33m]\u001b[0m\u001b[1;33m,\u001b[0m \u001b[0mA\u001b[0m\u001b[1;33m[\u001b[0m\u001b[1;34m'1'\u001b[0m\u001b[1;33m]\u001b[0m\u001b[1;33m,\u001b[0m \u001b[0mA\u001b[0m\u001b[1;33m.\u001b[0m\u001b[0ma\u001b[0m\u001b[1;33m)\u001b[0m\u001b[1;33m\u001b[0m\u001b[1;33m\u001b[0m\u001b[0m\n\u001b[0m",
      "\u001b[1;31mAttributeError\u001b[0m: 'dict' object has no attribute 'a'"
     ]
    }
   ],
   "source": [
    "print(A[1], A['1'], A.a)"
   ]
  },
  {
   "cell_type": "markdown",
   "metadata": {},
   "source": [
    "## Задача 1. «Номер появления слова»\n",
    "В единственной строке записан текст. Для каждого слова из данного текста подсчитайте, сколько раз оно встречалось в этом тексте ранее.\n",
    "\n",
    "Словом считается последовательность непробельных символов идущих подряд, слова разделены одним или большим числом пробелов или символами конца строки."
   ]
  },
  {
   "cell_type": "code",
   "execution_count": 9,
   "metadata": {},
   "outputs": [
    {
     "name": "stdout",
     "output_type": "stream",
     "text": [
      "4 5 6 4 6\n",
      "0 0 0 1 1 "
     ]
    }
   ],
   "source": [
    "text = input().split()\n",
    "wordsCounter = dict(zip(text, [0] * len(text)))\n",
    "for word in text:\n",
    "    print(wordsCounter[word], end=' ')\n",
    "    wordsCounter[word] += 1"
   ]
  },
  {
   "cell_type": "markdown",
   "metadata": {},
   "source": [
    "Ну и как водится более лаконичное и красивое решение от разработчиков:"
   ]
  },
  {
   "cell_type": "code",
   "execution_count": 12,
   "metadata": {},
   "outputs": [
    {
     "name": "stdout",
     "output_type": "stream",
     "text": [
      "4 5 6 4 6\n",
      "0 0 0 1 1 "
     ]
    }
   ],
   "source": [
    "counter = {}\n",
    "for word in input().split():\n",
    "    counter[word] = counter.get(word, 0) + 1\n",
    "    print(counter[word] - 1, end=' ')"
   ]
  },
  {
   "cell_type": "markdown",
   "metadata": {},
   "source": [
    "## Задача 2. «Словарь синонимов»\n",
    "Вам дан словарь, состоящий из пар слов. Каждое слово является синонимом к парному ему слову. Все слова в словаре различны.\n",
    "\n",
    "Для слова из словаря, записанного в последней строке, определите его синоним."
   ]
  },
  {
   "cell_type": "markdown",
   "metadata": {},
   "source": [
    "Вариант 1 (похож на решение от разработчиков, за исключением отсутствия у них применения метода get - они обошлись оператором []):"
   ]
  },
  {
   "cell_type": "code",
   "execution_count": null,
   "metadata": {},
   "outputs": [],
   "source": [
    "synonyms = {}\n",
    "for i in range(int(input())):\n",
    "    text = input().split()\n",
    "    synonyms[text[0]], synonyms[text[1]] = text[1], text[0]\n",
    "print(synonyms.get(input(), None))"
   ]
  },
  {
   "cell_type": "markdown",
   "metadata": {},
   "source": [
    "Вариант 2:"
   ]
  },
  {
   "cell_type": "code",
   "execution_count": null,
   "metadata": {},
   "outputs": [],
   "source": [
    "synonyms = {}\n",
    "for i in range(int(input())):\n",
    "    text = input().split()\n",
    "    synonyms[text[0]] = text[1]\n",
    "word = input()\n",
    "for key, val in synonyms.items():\n",
    "    if word == key:\n",
    "        print(val)\n",
    "    elif word == val:\n",
    "        print(key)"
   ]
  },
  {
   "cell_type": "markdown",
   "metadata": {},
   "source": [
    "## Задача 3. «Выборы в США»\n",
    "Как известно, в США президент выбирается не прямым голосованием, а путем двухуровневого голосования. Сначала проводятся выборы в каждом штате и определяется победитель выборов в данном штате. Затем проводятся государственные выборы: на этих выборах каждый штат имеет определенное число голосов — число выборщиков от этого штата. На практике, все выборщики от штата голосуют в соответствии с результами голосования внутри штата, то есть на заключительной стадии выборов в голосовании участвуют штаты, имеющие различное число голосов.\n",
    "\n",
    "В первой строке дано количество записей. Далее, каждая запись содержит фамилию кандидата и число голосов, отданных за него в одном из штатов. Подведите итоги выборов: для каждого из участника голосования определите число отданных за него голосов. Участников нужно выводить в алфавитном порядке."
   ]
  },
  {
   "cell_type": "code",
   "execution_count": 35,
   "metadata": {},
   "outputs": [
    {
     "name": "stdout",
     "output_type": "stream",
     "text": [
      "2\n",
      "d 4\n",
      "e 4\n",
      "d e\n",
      "d 4\n",
      "e 4\n"
     ]
    }
   ],
   "source": [
    "voting = {}\n",
    "for i in range(int(input())):\n",
    "    name, vote = input().split()\n",
    "    voting[name] = voting.get(name, 0) + int(vote)\n",
    "print(*[name + ' ' + str(voting[name]) for name in sorted(voting)], sep='\\n')"
   ]
  },
  {
   "cell_type": "code",
   "execution_count": 40,
   "metadata": {},
   "outputs": [
    {
     "data": {
      "text/plain": [
       "['d', 'e']"
      ]
     },
     "execution_count": 40,
     "metadata": {},
     "output_type": "execute_result"
    }
   ],
   "source": [
    "sorted(voting)"
   ]
  },
  {
   "cell_type": "code",
   "execution_count": 42,
   "metadata": {},
   "outputs": [
    {
     "data": {
      "text/plain": [
       "['d', 'e']"
      ]
     },
     "execution_count": 42,
     "metadata": {},
     "output_type": "execute_result"
    }
   ],
   "source": [
    "sorted(voting.keys())"
   ]
  },
  {
   "cell_type": "code",
   "execution_count": 43,
   "metadata": {},
   "outputs": [
    {
     "data": {
      "text/plain": [
       "[4, 4]"
      ]
     },
     "execution_count": 43,
     "metadata": {},
     "output_type": "execute_result"
    }
   ],
   "source": [
    "sorted(voting.values())"
   ]
  },
  {
   "cell_type": "code",
   "execution_count": 44,
   "metadata": {},
   "outputs": [
    {
     "data": {
      "text/plain": [
       "[('d', 4), ('e', 4)]"
      ]
     },
     "execution_count": 44,
     "metadata": {},
     "output_type": "execute_result"
    }
   ],
   "source": [
    "sorted(voting.items())"
   ]
  },
  {
   "cell_type": "code",
   "execution_count": 46,
   "metadata": {},
   "outputs": [
    {
     "name": "stdout",
     "output_type": "stream",
     "text": [
      "d 4\n",
      "e 4\n"
     ]
    }
   ],
   "source": [
    "print(*[name + ' ' + str(vote) for name, vote in sorted(voting.items())], sep='\\n')"
   ]
  },
  {
   "cell_type": "markdown",
   "metadata": {},
   "source": [
    "Более лаконичное решение от разработчиков:"
   ]
  },
  {
   "cell_type": "code",
   "execution_count": 37,
   "metadata": {},
   "outputs": [
    {
     "name": "stdout",
     "output_type": "stream",
     "text": [
      "2\n",
      "d 8\n",
      "r 9\n",
      "d 8\n",
      "r 9\n"
     ]
    }
   ],
   "source": [
    "num_votes = {}\n",
    "for _ in range(int(input())):\n",
    "    candidate, votes = input().split()\n",
    "    num_votes[candidate] = num_votes.get(candidate, 0) + int(votes)\n",
    "\n",
    "for candidate, votes in sorted(num_votes.items()):\n",
    "    print(candidate, votes)"
   ]
  },
  {
   "cell_type": "code",
   "execution_count": 38,
   "metadata": {},
   "outputs": [
    {
     "data": {
      "text/plain": [
       "dict_items([('d', 8), ('r', 9)])"
      ]
     },
     "execution_count": 38,
     "metadata": {},
     "output_type": "execute_result"
    }
   ],
   "source": [
    "num_votes.items()"
   ]
  },
  {
   "cell_type": "code",
   "execution_count": 39,
   "metadata": {},
   "outputs": [
    {
     "data": {
      "text/plain": [
       "[('d', 8), ('r', 9)]"
      ]
     },
     "execution_count": 39,
     "metadata": {},
     "output_type": "execute_result"
    }
   ],
   "source": [
    "sorted(num_votes.items())"
   ]
  },
  {
   "cell_type": "markdown",
   "metadata": {},
   "source": [
    "## Задача 4. «Самое частое слово»\n",
    "Дан текст: в первой строке задано число строк, далее идут сами строки. Выведите слово, которое в этом тексте встречается чаще всего. Если таких слов несколько, выведите то, которое меньше в лексикографическом порядке."
   ]
  },
  {
   "cell_type": "markdown",
   "metadata": {},
   "source": [
    "Последняя строка взята из решения от разработчиков, и она лучше моей, так как операция определения мин. элемента менее труднозатратна, чем операция сортировки:"
   ]
  },
  {
   "cell_type": "code",
   "execution_count": null,
   "metadata": {},
   "outputs": [],
   "source": [
    "counter = {}\n",
    "for i in range(int(input())):\n",
    "    text = input().split()\n",
    "    for word in text:\n",
    "        counter[word] = counter.get(word, 0) + 1\n",
    "maxCount = max(counter.values())\n",
    "#print(sorted([key for key, val in counter.items() if val == maxCount])[0])\n",
    "print(min([key for key, val in counter.items() if val == maxCount]))"
   ]
  },
  {
   "cell_type": "markdown",
   "metadata": {},
   "source": [
    "## Задача 5. «Права доступа»\n",
    "В файловую систему одного суперкомпьютера проник вирус, который сломал контроль за правами доступа к файлам. Для каждого файла известно, с какими действиями можно к нему обращаться:\n",
    "\n",
    "запись W,\n",
    "чтение R,\n",
    "запуск X.\n",
    "В первой строке содержится число N — количество файлов содержащихся в данной файловой системе. В следующих N строчках содержатся имена файлов и допустимых с ними операций, разделенные пробелами. Далее указано чиcло M — количество запросов к файлам. В последних M строках указан запрос вида Операция Файл. К одному и тому же файлу может быть применено любое колличество запросов.\n",
    "\n",
    "Вам требуется восстановить контроль над правами доступа к файлам (ваша программа для каждого запроса должна будет возвращать OK если над файлом выполняется допустимая операция, или же Access denied, если операция недопустима."
   ]
  },
  {
   "cell_type": "code",
   "execution_count": null,
   "metadata": {},
   "outputs": [],
   "source": [
    "filesAccesses = {}\n",
    "operations = {'read':'R', 'write':'W', 'execute':'X'}\n",
    "for i in range(int(input())):\n",
    "    s = input().split()\n",
    "    filesAccesses[s[0]] = set(s[1:])\n",
    "\n",
    "for j in range(int(input())):\n",
    "    operation, fileName = input().split()\n",
    "    if operations[operation] in filesAccesses[fileName]:\n",
    "        print('OK')\n",
    "    else:\n",
    "        print('Access denied')"
   ]
  },
  {
   "cell_type": "markdown",
   "metadata": {},
   "source": [
    "Чуть более читаимое решение от разработчиков, хотя по сути как моё:"
   ]
  },
  {
   "cell_type": "code",
   "execution_count": null,
   "metadata": {},
   "outputs": [],
   "source": [
    "ACTION_PERMISSION = {\n",
    "    'read': 'R',\n",
    "    'write': 'W',\n",
    "    'execute': 'X',\n",
    "}\n",
    "\n",
    "file_permissions = {}\n",
    "for i in range(int(input())):\n",
    "    file, *permissions = input().split()\n",
    "    file_permissions[file] = set(permissions)\n",
    "\n",
    "for i in range(int(input())):\n",
    "    action, file = input().split()\n",
    "    if ACTION_PERMISSION[action] in file_permissions[file]:\n",
    "        print('OK')\n",
    "    else:\n",
    "        print('Access denied')"
   ]
  },
  {
   "cell_type": "markdown",
   "metadata": {},
   "source": [
    "## Задача 6. «Частотный анализ»\n",
    "Дан текст: в первой строке записано количество строк в тексте, а затем сами строки. Выведите все слова, встречающиеся в тексте, по одному на каждую строку. Слова должны быть отсортированы по убыванию их количества появления в тексте, а при одинаковой частоте появления — в лексикографическом порядке.\n",
    "\n",
    "Указание. После того, как вы создадите словарь всех слов, вам захочется отсортировать его по частоте встречаемости слова. Желаемого можно добиться, если создать список, элементами которого будут кортежи из двух элементов: частота встречаемости слова и само слово. Например, [(2, 'hi'), (1, 'what'), (3, 'is')]. Тогда стандартная сортировка будет сортировать список кортежей, при этом кортежи сравниваются по первому элементу, а если они равны — то по второму. Это почти то, что требуется в задаче."
   ]
  },
  {
   "cell_type": "markdown",
   "metadata": {},
   "source": [
    "Как я позже выяснила, пример снизу совсем не удачный, так как в нём и без промежуточной сортировки (sort on secondary key) отсортировывалось как надо:"
   ]
  },
  {
   "cell_type": "code",
   "execution_count": 64,
   "metadata": {},
   "outputs": [
    {
     "data": {
      "text/plain": [
       "[('john', 'A', 15), ('jane', 'B', 12), ('dave', 'B', 10)]"
      ]
     },
     "execution_count": 64,
     "metadata": {},
     "output_type": "execute_result"
    }
   ],
   "source": [
    "student_tuples = [\n",
    "...     ('john', 'A', 15),\n",
    "...     ('jane', 'B', 12),\n",
    "...     ('dave', 'B', 10),\n",
    "]\n",
    "student_tuples"
   ]
  },
  {
   "cell_type": "markdown",
   "metadata": {},
   "source": [
    "To sort the student data by descending grade and then ascending age, do the age sort first and then sort again using grade:"
   ]
  },
  {
   "cell_type": "markdown",
   "metadata": {},
   "source": [
    " Sort on secondary key:"
   ]
  },
  {
   "cell_type": "code",
   "execution_count": 65,
   "metadata": {},
   "outputs": [],
   "source": [
    "#s = sorted(student_tuples, key=lambda student: student[2])\n",
    "#s"
   ]
  },
  {
   "cell_type": "markdown",
   "metadata": {},
   "source": [
    "Now sort on primary key, descending:"
   ]
  },
  {
   "cell_type": "code",
   "execution_count": 66,
   "metadata": {},
   "outputs": [
    {
     "data": {
      "text/plain": [
       "[('dave', 'B', 10), ('jane', 'B', 12), ('john', 'A', 15)]"
      ]
     },
     "execution_count": 66,
     "metadata": {},
     "output_type": "execute_result"
    }
   ],
   "source": [
    "s = sorted(s, key=lambda student: student[1], reverse=True)\n",
    "s"
   ]
  },
  {
   "cell_type": "markdown",
   "metadata": {},
   "source": [
    "Моя задача:"
   ]
  },
  {
   "cell_type": "code",
   "execution_count": 78,
   "metadata": {},
   "outputs": [
    {
     "data": {
      "text/plain": [
       "[(2, 'hi'),\n",
       " (1, 'what'),\n",
       " (3, 'is'),\n",
       " (1, 'your'),\n",
       " (3, 'name'),\n",
       " (2, 'my'),\n",
       " (2, 'bond'),\n",
       " (1, 'james'),\n",
       " (4, 'damme'),\n",
       " (3, 'van'),\n",
       " (2, 'claude'),\n",
       " (1, 'jean')]"
      ]
     },
     "execution_count": 78,
     "metadata": {},
     "output_type": "execute_result"
    }
   ],
   "source": [
    "freq = [(2, 'hi'), (1, 'what'), (3, 'is'), (1, 'your'), (3, 'name'), (2, 'my'), (2, 'bond'), (1, 'james'), (4, 'damme'), (3, 'van'), (2, 'claude'), (1, 'jean')]\n",
    "freq"
   ]
  },
  {
   "cell_type": "code",
   "execution_count": 79,
   "metadata": {},
   "outputs": [
    {
     "data": {
      "text/plain": [
       "[(2, 'bond'),\n",
       " (2, 'claude'),\n",
       " (4, 'damme'),\n",
       " (2, 'hi'),\n",
       " (3, 'is'),\n",
       " (1, 'james'),\n",
       " (1, 'jean'),\n",
       " (2, 'my'),\n",
       " (3, 'name'),\n",
       " (3, 'van'),\n",
       " (1, 'what'),\n",
       " (1, 'your')]"
      ]
     },
     "execution_count": 79,
     "metadata": {},
     "output_type": "execute_result"
    }
   ],
   "source": [
    "freq = sorted(freq, key=lambda el: el[1])\n",
    "freq"
   ]
  },
  {
   "cell_type": "code",
   "execution_count": 80,
   "metadata": {},
   "outputs": [
    {
     "data": {
      "text/plain": [
       "[(4, 'damme'),\n",
       " (3, 'is'),\n",
       " (3, 'name'),\n",
       " (3, 'van'),\n",
       " (2, 'bond'),\n",
       " (2, 'claude'),\n",
       " (2, 'hi'),\n",
       " (2, 'my'),\n",
       " (1, 'james'),\n",
       " (1, 'jean'),\n",
       " (1, 'what'),\n",
       " (1, 'your')]"
      ]
     },
     "execution_count": 80,
     "metadata": {},
     "output_type": "execute_result"
    }
   ],
   "source": [
    "freq = sorted(freq, key=lambda el: el[0], reverse=True)\n",
    "freq"
   ]
  },
  {
   "cell_type": "code",
   "execution_count": 81,
   "metadata": {},
   "outputs": [
    {
     "name": "stdout",
     "output_type": "stream",
     "text": [
      "damme\n",
      "is\n",
      "name\n",
      "van\n",
      "bond\n",
      "claude\n",
      "hi\n",
      "my\n",
      "james\n",
      "jean\n",
      "what\n",
      "your\n"
     ]
    }
   ],
   "source": [
    "print(*[word for num, word in freq], sep='\\n')"
   ]
  },
  {
   "cell_type": "markdown",
   "metadata": {},
   "source": [
    "Нижележащий вариант решения задачи работает по крайней мере на одном примере из pythontutor.ru (на других не проверяла, ибо долго вносить данные вручную, а как автоматизировать я еще не придумала), но там он не проходит этот пример, и если я не ошибаюсь, то причина непрохождения в том, что их интерпретатор чудит: он то с одним результатом делает вторую сортировку, то с другим. Выше, на своём примере я уже несколько раз проверила обе сортировки и они всё время показывают один правильный результат, как и нижний скрипт. "
   ]
  },
  {
   "cell_type": "code",
   "execution_count": 83,
   "metadata": {},
   "outputs": [
    {
     "name": "stdout",
     "output_type": "stream",
     "text": [
      "9\n",
      "hi\n",
      "hi\n",
      "what is your name\n",
      "my name is bond\n",
      "james bond\n",
      "my name is damme\n",
      "van damme\n",
      "claude van damme\n",
      "jean claude van damme\n",
      "damme\n",
      "is\n",
      "name\n",
      "van\n",
      "bond\n",
      "claude\n",
      "hi\n",
      "my\n",
      "james\n",
      "jean\n",
      "what\n",
      "your\n"
     ]
    }
   ],
   "source": [
    "counter = {}\n",
    "for i in range(int(input())):\n",
    "    text = input().split()\n",
    "    for word in text:\n",
    "        counter[word] = counter.get(word, 0) + 1\n",
    "\n",
    "freq = [(v, k) for k, v in counter.items()]\n",
    "#print(freq)\n",
    "freq = sorted(freq, key=lambda el: el[1])\n",
    "#print(freq)\n",
    "freq = sorted(freq, key=lambda el: el[0], reverse=True)\n",
    "#print(freq)\n",
    "print(*[word for num, word in freq], sep='\\n')"
   ]
  },
  {
   "cell_type": "markdown",
   "metadata": {},
   "source": [
    "Если первый вариант не проходит, то буду придумывать дргой вариант сортировки:"
   ]
  },
  {
   "cell_type": "markdown",
   "metadata": {},
   "source": [
    "Мой словарь для первого теста:"
   ]
  },
  {
   "cell_type": "code",
   "execution_count": 85,
   "metadata": {},
   "outputs": [],
   "source": [
    "counter = {'hi': 2, 'what': 1, 'is': 3, 'your': 1, 'name': 3, 'my': 2, 'bond': 2, с'james': 1, 'damme': 4, 'van': 3, 'claude': 2, 'jean': 1}"
   ]
  },
  {
   "cell_type": "code",
   "execution_count": 88,
   "metadata": {},
   "outputs": [
    {
     "data": {
      "text/plain": [
       "[('what', 1),\n",
       " ('your', 1),\n",
       " ('james', 1),\n",
       " ('jean', 1),\n",
       " ('hi', 2),\n",
       " ('my', 2),\n",
       " ('bond', 2),\n",
       " ('claude', 2),\n",
       " ('is', 3),\n",
       " ('name', 3),\n",
       " ('van', 3),\n",
       " ('damme', 4)]"
      ]
     },
     "execution_count": 88,
     "metadata": {},
     "output_type": "execute_result"
    }
   ],
   "source": [
    "sorted(counter.items(), key=lambda item: item[1])"
   ]
  },
  {
   "cell_type": "code",
   "execution_count": 94,
   "metadata": {},
   "outputs": [
    {
     "data": {
      "text/plain": [
       "[('damme', 4),\n",
       " ('is', 3),\n",
       " ('name', 3),\n",
       " ('van', 3),\n",
       " ('bond', 2),\n",
       " ('claude', 2),\n",
       " ('hi', 2),\n",
       " ('my', 2),\n",
       " ('james', 1),\n",
       " ('jean', 1),\n",
       " ('what', 1),\n",
       " ('your', 1)]"
      ]
     },
     "execution_count": 94,
     "metadata": {},
     "output_type": "execute_result"
    }
   ],
   "source": [
    "sorted(sorted(counter.items(), key=lambda item: item[0]), key=lambda item: item[1], reverse=True)"
   ]
  },
  {
   "cell_type": "code",
   "execution_count": 121,
   "metadata": {},
   "outputs": [
    {
     "data": {
      "text/plain": [
       "[(2, 'hi'),\n",
       " (1, 'what'),\n",
       " (3, 'is'),\n",
       " (1, 'your'),\n",
       " (3, 'name'),\n",
       " (2, 'my'),\n",
       " (2, 'bond'),\n",
       " (1, 'james'),\n",
       " (4, 'damme'),\n",
       " (3, 'van'),\n",
       " (2, 'claude'),\n",
       " (1, 'jean')]"
      ]
     },
     "execution_count": 121,
     "metadata": {},
     "output_type": "execute_result"
    }
   ],
   "source": [
    "freq = [(v, k) for k, v in counter.items()]\n",
    "freq"
   ]
  },
  {
   "cell_type": "code",
   "execution_count": 122,
   "metadata": {},
   "outputs": [],
   "source": [
    "# Этот код тоже не смог нормально отрааботать в их интерпретаторе или хз что не так\n",
    "#freq.sort(key=lambda item: item[1])\n",
    "#freq.sort(key=lambda item: item[0], reverse=True)\n",
    "#freq"
   ]
  },
  {
   "cell_type": "code",
   "execution_count": 123,
   "metadata": {},
   "outputs": [
    {
     "data": {
      "text/plain": [
       "[(4, 'damme'),\n",
       " (3, 'van'),\n",
       " (3, 'name'),\n",
       " (3, 'is'),\n",
       " (2, 'my'),\n",
       " (2, 'hi'),\n",
       " (2, 'claude'),\n",
       " (2, 'bond'),\n",
       " (1, 'your'),\n",
       " (1, 'what'),\n",
       " (1, 'jean'),\n",
       " (1, 'james')]"
      ]
     },
     "execution_count": 123,
     "metadata": {},
     "output_type": "execute_result"
    }
   ],
   "source": [
    "freq.sort(reverse=True)\n",
    "freq"
   ]
  },
  {
   "cell_type": "code",
   "execution_count": 124,
   "metadata": {},
   "outputs": [],
   "source": [
    "#B = dict(zip([el[0] for el in freq], [el[1] for el in freq]))\n",
    "#B"
   ]
  },
  {
   "cell_type": "code",
   "execution_count": 125,
   "metadata": {},
   "outputs": [
    {
     "data": {
      "text/plain": [
       "{4: ['damme'],\n",
       " 3: ['van', 'name', 'is'],\n",
       " 2: ['my', 'hi', 'claude', 'bond'],\n",
       " 1: ['your', 'what', 'jean', 'james']}"
      ]
     },
     "execution_count": 125,
     "metadata": {},
     "output_type": "execute_result"
    }
   ],
   "source": [
    "counter2 = {}\n",
    "for el in freq:\n",
    "    counter2[el[0]] = counter2.get(el[0], []) + [el[1]]\n",
    "counter2"
   ]
  },
  {
   "cell_type": "code",
   "execution_count": 126,
   "metadata": {},
   "outputs": [
    {
     "data": {
      "text/plain": [
       "[(4, ['damme']),\n",
       " (3, ['van', 'name', 'is']),\n",
       " (2, ['my', 'hi', 'claude', 'bond']),\n",
       " (1, ['your', 'what', 'jean', 'james'])]"
      ]
     },
     "execution_count": 126,
     "metadata": {},
     "output_type": "execute_result"
    }
   ],
   "source": [
    "freq2 = sorted(counter2.items(), key=lambda item: item[0], reverse=True)\n",
    "freq"
   ]
  },
  {
   "cell_type": "code",
   "execution_count": 127,
   "metadata": {},
   "outputs": [
    {
     "data": {
      "text/plain": [
       "['damme',\n",
       " 'is',\n",
       " 'name',\n",
       " 'van',\n",
       " 'bond',\n",
       " 'claude',\n",
       " 'hi',\n",
       " 'my',\n",
       " 'james',\n",
       " 'jean',\n",
       " 'what',\n",
       " 'your']"
      ]
     },
     "execution_count": 127,
     "metadata": {},
     "output_type": "execute_result"
    }
   ],
   "source": [
    "res = []\n",
    "for num, words in freq2:\n",
    "    res += sorted(words)\n",
    "res"
   ]
  },
  {
   "cell_type": "markdown",
   "metadata": {},
   "source": [
    "В итоге страшный конечный вариант, который был съеден их интерпретатором:"
   ]
  },
  {
   "cell_type": "code",
   "execution_count": null,
   "metadata": {},
   "outputs": [],
   "source": [
    "counter = {}\n",
    "for i in range(int(input())):\n",
    "    for word in input().split():\n",
    "        counter[word] = counter.get(word, 0) + 1\n",
    "\n",
    "freq = [(v, k) for k, v in counter.items()]\n",
    "# Почему-то след. строчки не сработали корректно в местном интерпретаторе, хотя на них бы всё и закончилось\n",
    "#freq = sorted(freq, key=lambda el: el[1])\n",
    "#freq = sorted(freq, key=lambda el: el[0], reverse=True)\n",
    "#print(*[word for num, word in freq], sep='\\n')\n",
    "\n",
    "freq.sort(reverse=True)\n",
    "\n",
    "counter2 = {}\n",
    "for el in freq:\n",
    "    counter2[el[0]] = counter2.get(el[0], []) + [el[1]]\n",
    "    \n",
    "freq2 = sorted(counter2.items(), key=lambda item: item[0], reverse=True)\n",
    "\n",
    "res = []\n",
    "for num, words in freq2:\n",
    "    res += sorted(words)\n",
    "print(*res, sep='\\n')"
   ]
  },
  {
   "cell_type": "markdown",
   "metadata": {},
   "source": [
    "Решение от разработчиков вообще непонятное (мудаки, используют штуки, про которые не рассказывали, сама пока не разобралась):"
   ]
  },
  {
   "cell_type": "code",
   "execution_count": null,
   "metadata": {},
   "outputs": [],
   "source": [
    "from collections import Counter\n",
    "\n",
    "words = []\n",
    "for _ in range(int(input())):\n",
    "    words.extend(input().split())\n",
    "\n",
    "counter = Counter(words)\n",
    "pairs = [(-pair[1], pair[0]) for pair in counter.most_common()]\n",
    "words = [pair[1] for pair in sorted(pairs)]\n",
    "print('\\n'.join(words))"
   ]
  },
  {
   "cell_type": "markdown",
   "metadata": {},
   "source": [
    "Штуку снизу с применением умножения на (-1) количества слов (-item[0] эквивалентно (-1) * item[0]), а также c перестановкой элементтов кортежа прямо перед сортировкой (lambda item: (-item[1], item[0])), с последующей сортировкой по возрастанию, которая работает сначала по первому элементу кортежа, а потом по второму, я сама, к сожалению сделать не догадалась:"
   ]
  },
  {
   "cell_type": "code",
   "execution_count": 130,
   "metadata": {},
   "outputs": [],
   "source": [
    "counter = {'hi': 2, 'what': 1, 'is': 3, 'your': 1, 'name': 3, 'my': 2, 'bond': 2, 'james': 1, 'damme': 4, 'van': 3, 'claude': 2, 'jean': 1}"
   ]
  },
  {
   "cell_type": "code",
   "execution_count": 137,
   "metadata": {},
   "outputs": [
    {
     "data": {
      "text/plain": [
       "[('damme', 4),\n",
       " ('is', 3),\n",
       " ('name', 3),\n",
       " ('van', 3),\n",
       " ('bond', 2),\n",
       " ('claude', 2),\n",
       " ('hi', 2),\n",
       " ('my', 2),\n",
       " ('james', 1),\n",
       " ('jean', 1),\n",
       " ('what', 1),\n",
       " ('your', 1)]"
      ]
     },
     "execution_count": 137,
     "metadata": {},
     "output_type": "execute_result"
    }
   ],
   "source": [
    "sorted(counter.items(), key=lambda item: (-item[1], item[0]))"
   ]
  },
  {
   "cell_type": "markdown",
   "metadata": {},
   "source": [
    "Решения других участников, которые показались мне интересными (но времени их сейчас разбирать нет):"
   ]
  },
  {
   "cell_type": "code",
   "execution_count": null,
   "metadata": {},
   "outputs": [],
   "source": [
    "n, d = int(input()), dict()\n",
    "for i in range(n):\n",
    "    for x in input().split(): d[x] = d.get(x, 0) + 1\n",
    "l = sorted(d, key=lambda x: x[0])\n",
    "for j in range(max(d.values()), 0, -1):\n",
    "    for k in sorted(x for x in d if d[x] == j): print(k)"
   ]
  },
  {
   "cell_type": "code",
   "execution_count": null,
   "metadata": {},
   "outputs": [],
   "source": [
    "n = int(input())\n",
    "\n",
    "a = dict()\n",
    "for i in range(n):\n",
    "    for s in input().split():\n",
    "        a[s] = a.get(s, 0) - 1\n",
    "l = []\n",
    "for i in a:\n",
    "    t = (a[i], i)\n",
    "    l.append(t)\n",
    "l.sort()\n",
    "for t in l:\n",
    "    a = [str(j) for j in t]\n",
    "    print(a[1])\n"
   ]
  },
  {
   "cell_type": "code",
   "execution_count": null,
   "metadata": {},
   "outputs": [],
   "source": [
    "n = int(input())\n",
    "dct = {}\n",
    "for i in range(n):\n",
    "    for jj in input().split():\n",
    "        j = jj\n",
    "        dct[j] = dct.get(j, 0) + 1\n",
    "lst1 = list((i,dct[i]) for i in dct)\n",
    "lenlst = len(lst1)\n",
    "lst = list((lenlst - i[1], i[0]) for i in lst1)\n",
    "lst.sort()\n",
    "for i in lst:\n",
    "    print(i[1])"
   ]
  },
  {
   "cell_type": "markdown",
   "metadata": {},
   "source": [
    "## Задача 7. «Страны и города»\n",
    "Дан список стран и городов каждой страны. Затем даны названия городов. Для каждого города укажите, в какой стране он находится."
   ]
  },
  {
   "cell_type": "code",
   "execution_count": null,
   "metadata": {},
   "outputs": [],
   "source": [
    "cities = dict()\n",
    "for i in range(int(input())):\n",
    "    country, *citiesList = input().split()\n",
    "    for city in citiesList:\n",
    "        cities[city] = country\n",
    "for i in range(int(input())):\n",
    "    print(cities.get(input()))"
   ]
  },
  {
   "cell_type": "markdown",
   "metadata": {},
   "source": [
    "## Задача 8. «Англо-латинский словарь»\n",
    "Однажды, разбирая старые книги на чердаке, школьник Вася нашёл англо-латинский словарь. Английский он к тому времени знал в совершенстве, и его мечтой было изучить латынь. Поэтому попавшийся словарь был как раз кстати.\n",
    "\n",
    "К сожалению, для полноценного изучения языка недостаточно только одного словаря: кроме англо-латинского необходим латинско-английский. За неимением лучшего он решил сделать второй словарь из первого.\n",
    "\n",
    "Как известно, словарь состоит из переводимых слов, к каждому из которых приводится несколько слов-переводов. Для каждого латинского слова, встречающегося где-либо в словаре, Вася предлагает найти все его переводы (то есть все английские слова, для которых наше латинское встречалось в его списке переводов), и считать их и только их переводами этого латинского слова.\n",
    "\n",
    "Помогите Васе выполнить работу по созданию латинско-английского словаря из англо-латинского.\n",
    "\n",
    "В первой строке содержится единственное целое число N — количество английских слов в словаре. Далее следует N описаний. Каждое описание содержится в отдельной строке, в которой записано сначала английское слово, затем отделённый пробелами дефис, затем разделённые запятыми с пробелами переводы этого английского слова на латинский. Все слова состоят только из маленьких латинских букв. Переводы отсортированы в лексикографическом порядке. Порядок следования английских слов в словаре также лексикографический.\n",
    "\n",
    "Выведите соответствующий данному латинско-английский словарь, в точности соблюдая формат входных данных. В частности, первым должен идти перевод лексикографически минимального латинского слова, далее — второго в этом порядке и т.д. Внутри перевода английские слова должны быть также отсортированы лексикографически."
   ]
  },
  {
   "cell_type": "markdown",
   "metadata": {},
   "source": [
    "Версия 1."
   ]
  },
  {
   "cell_type": "code",
   "execution_count": null,
   "metadata": {},
   "outputs": [],
   "source": [
    "LatinEnglish = dict()\n",
    "for i in range(int(input())):\n",
    "    EnWord, LatWords = input().split(' - ')\n",
    "    LatWords = LatWords.split(', ')\n",
    "    #print(EnWord, LatWords)\n",
    "    for LatWord in LatWords:\n",
    "        if LatinEnglish.get(LatWord, None) == None:\n",
    "            LatinEnglish[LatWord] = [EnWord]\n",
    "        else:\n",
    "            LatinEnglish[LatWord].append(EnWord)\n",
    "print(len(LatinEnglish))\n",
    "for LatWord in sorted(LatinEnglish.keys()):\n",
    "    print(LatWord, '-', ', '.join(sorted(LatinEnglish[LatWord])))"
   ]
  },
  {
   "cell_type": "markdown",
   "metadata": {},
   "source": [
    "Версия 2, без избыточности (убрала внутренную сортировку слов-переводов, т.к. они и так приходят в отсортированном виде; сделала это после того как подсмотрела решения разработчиков и других участников):"
   ]
  },
  {
   "cell_type": "code",
   "execution_count": null,
   "metadata": {},
   "outputs": [],
   "source": [
    "LatinEnglish = dict()\n",
    "for i in range(int(input())):\n",
    "    EnWord, LatWords = input().split(' - ')\n",
    "    LatWords = LatWords.split(', ')\n",
    "    #print(EnWord, LatWords)\n",
    "    for LatWord in LatWords:\n",
    "        if LatinEnglish.get(LatWord, None) == None:\n",
    "            LatinEnglish[LatWord] = [EnWord]\n",
    "        else:\n",
    "            LatinEnglish[LatWord].append(EnWord)\n",
    "print(len(LatinEnglish))\n",
    "for LatWord in sorted(LatinEnglish.keys()):\n",
    "    #print(LatWord, '-', ', '.join(sorted(LatinEnglish[LatWord])))\n",
    "    print(LatWord, '-', ', '.join(LatinEnglish[LatWord]))"
   ]
  },
  {
   "cell_type": "markdown",
   "metadata": {},
   "source": [
    "Решение от разработчиков немного непонятное (используют штуки, про которые не рассказывали, сама пока не разобралась):"
   ]
  },
  {
   "cell_type": "code",
   "execution_count": null,
   "metadata": {},
   "outputs": [],
   "source": [
    "from collections import defaultdict\n",
    "\n",
    "latin_to_english = defaultdict(list)\n",
    "for i in range(int(input())):\n",
    "    english_word, latin_translations_chunk = input().split(' - ')\n",
    "    latin_translations = latin_translations_chunk.split(', ')\n",
    "    for latin_word in latin_translations:\n",
    "        latin_to_english[latin_word].append(english_word)\n",
    "    \n",
    "print(len(latin_to_english))\n",
    "for latin_word, english_translations in sorted(latin_to_english.items()):\n",
    "    print(latin_word + ' - ' + ', '.join(english_translations))"
   ]
  },
  {
   "cell_type": "markdown",
   "metadata": {},
   "source": [
    "Интересное решение от одного из участников (не использует список в словаре, а сразу все значения заносит в строку, разделенную запятыми; слова-переводы будут в отсортированном порядке, т.к. они считываются из первого Англо-Лат. словаря в алфавитном порядке):"
   ]
  },
  {
   "cell_type": "code",
   "execution_count": 3,
   "metadata": {},
   "outputs": [
    {
     "name": "stdout",
     "output_type": "stream",
     "text": [
      "3\n",
      "punishment - malum, multa\n",
      "fruit - baca, bacca, popum\n",
      "apple - malum, pomum, popula\n",
      "7\n",
      "baca - fruit\n",
      "bacca - fruit\n",
      "malum - punishment, apple\n",
      "multa - punishment\n",
      "pomum - apple\n",
      "popula - apple\n",
      "popum - fruit\n"
     ]
    }
   ],
   "source": [
    "A = {}\n",
    "for i in range(int(input())):\n",
    "    english,latins = input().split(' - ')\n",
    "    for latin in latins.split(', '):\n",
    "        A[latin] = A.get(latin,'') + ', ' + english\n",
    "print(len(A))      \n",
    "for i in sorted(A.keys()):\n",
    "    S = A[i]\n",
    "    print(i,'-',S[2:])"
   ]
  },
  {
   "cell_type": "markdown",
   "metadata": {},
   "source": [
    "## Задача 9. «Контрольная по ударениям»\n",
    "Учительница задала Пете домашнее задание — в заданном тексте расставить ударения в словах, после чего поручила Васе проверить это домашнее задание. Вася очень плохо знаком с данной темой, поэтому он нашел словарь, в котором указано, как ставятся ударения в словах. К сожалению, в этом словаре присутствуют не все слова. Вася решил, что в словах, которых нет в словаре, он будет считать, что Петя поставил ударения правильно, если в этом слове Петей поставлено ровно одно ударение.\n",
    "\n",
    "Оказалось, что в некоторых словах ударение может быть поставлено больше, чем одним способом. Вася решил, что в этом случае если то, как Петя поставил ударение, соответствует одному из приведенных в словаре вариантов, он будет засчитывать это как правильную расстановку ударения, а если не соответствует, то как ошибку.\n",
    "\n",
    "Вам дан словарь, которым пользовался Вася и домашнее задание, сданное Петей. Ваша задача — определить количество ошибок, которое в этом задании насчитает Вася.\n",
    "\n",
    "Вводится сначала число N — количество слов в словаре.\n",
    "\n",
    "Далее идет N строк со словами из словаря. Каждое слово состоит не более чем из 30 символов. Все слова состоят из маленьких и заглавных латинских букв. В каждом слове заглавная ровно одна буква — та, на которую попадает ударение. Слова в словаре расположены в алфавитном порядке. Если есть несколько возможностей расстановки ударения в одном и том же слове, то эти варианты в словаре идут в произвольном порядке.\n",
    "\n",
    "Далее идет упражнение, выполненное Петей. Упражнение представляет собой строку текста, суммарным объемом не более 300000 символов. Строка состоит из слов, которые разделяются между собой ровно одним пробелом. Длина каждого слова не превышает 30 символов. Все слова состоят из маленьких и заглавных латинских букв (заглавными обозначены те буквы, над которыми Петя поставил ударение). Петя мог по ошибке в каком-то слове поставить более одного ударения или не поставить ударения вовсе.\n",
    "Выведите количество ошибок в Петином тексте, которые найдет Вася.\n",
    "\n",
    "Примечания к примерам тестов\n",
    "\n",
    "1. В слове cannot, согласно словарю возможно два варианта расстановки ударения. Эти варианты в словаре могут быть перечислены в любом порядке (т.е. как сначала cAnnot, а потом cannOt, так и наоборот). Две ошибки, совершенные Петей — это слова be (ударение вообще не поставлено) и fouNd (ударение поставлено неверно). Слово thE отсутствует в словаре, но поскольку в нем Петя поставил ровно одно ударение, признается верным.\n",
    "\n",
    "2. Неверно расставлены ударения во всех словах, кроме The (оно отсутствует в словаре, в нем поставлено ровно одно ударение). В остальных словах либо ударные все буквы (в слове PAGE), либо не поставлено ни одного ударения."
   ]
  },
  {
   "cell_type": "code",
   "execution_count": null,
   "metadata": {},
   "outputs": [],
   "source": [
    "wordsAccentDic = {}  # нельзя создать пустой словарь инструкцией dic()\n",
    "for i in range(int(input())):\n",
    "    word = input()\n",
    "    wordsAccentDic[word.lower()] = wordsAccentDic.get(word.lower(), []) + [word]\n",
    "               \n",
    "text = input().split()\n",
    "mistakes = 0\n",
    "for word in text:\n",
    "    wordLower = word.lower()\n",
    "    if wordLower in wordsAccentDic:\n",
    "        if word not in wordsAccentDic[wordLower]:\n",
    "            mistakes += 1\n",
    "    else:\n",
    "        difCounter = 0\n",
    "        for i in range(len(word)):\n",
    "            if word[i] != wordLower[i]:\n",
    "               difCounter += 1\n",
    "        if difCounter != 1:\n",
    "            mistakes += 1\n",
    "print(mistakes)"
   ]
  },
  {
   "cell_type": "markdown",
   "metadata": {},
   "source": [
    "Решение от разработчиков (намного лаконичнее моего), которое я \"переписала\" по памяти с использованием своих названий переменных:"
   ]
  },
  {
   "cell_type": "code",
   "execution_count": 14,
   "metadata": {},
   "outputs": [
    {
     "name": "stdout",
     "output_type": "stream",
     "text": [
      "2\n",
      "er\n",
      "Er\n"
     ]
    },
    {
     "ename": "AttributeError",
     "evalue": "'NoneType' object has no attribute 'add'",
     "output_type": "error",
     "traceback": [
      "\u001b[1;31m---------------------------------------------------------------------------\u001b[0m",
      "\u001b[1;31mAttributeError\u001b[0m                            Traceback (most recent call last)",
      "\u001b[1;32m<ipython-input-14-04528ccf5c06>\u001b[0m in \u001b[0;36m<module>\u001b[1;34m\u001b[0m\n\u001b[0;32m      3\u001b[0m     \u001b[0mword\u001b[0m \u001b[1;33m=\u001b[0m \u001b[0minput\u001b[0m\u001b[1;33m(\u001b[0m\u001b[1;33m)\u001b[0m\u001b[1;33m\u001b[0m\u001b[1;33m\u001b[0m\u001b[0m\n\u001b[0;32m      4\u001b[0m     \u001b[0mnewSet\u001b[0m \u001b[1;33m=\u001b[0m \u001b[0mset\u001b[0m\u001b[1;33m(\u001b[0m\u001b[1;33m)\u001b[0m\u001b[1;33m\u001b[0m\u001b[1;33m\u001b[0m\u001b[0m\n\u001b[1;32m----> 5\u001b[1;33m     \u001b[0mwordsAccentDic\u001b[0m\u001b[1;33m[\u001b[0m\u001b[0mword\u001b[0m\u001b[1;33m.\u001b[0m\u001b[0mlower\u001b[0m\u001b[1;33m(\u001b[0m\u001b[1;33m)\u001b[0m\u001b[1;33m]\u001b[0m \u001b[1;33m=\u001b[0m \u001b[0mwordsAccentDic\u001b[0m\u001b[1;33m.\u001b[0m\u001b[0mget\u001b[0m\u001b[1;33m(\u001b[0m\u001b[0mword\u001b[0m\u001b[1;33m.\u001b[0m\u001b[0mlower\u001b[0m\u001b[1;33m(\u001b[0m\u001b[1;33m)\u001b[0m\u001b[1;33m,\u001b[0m \u001b[0mnewSet\u001b[0m\u001b[1;33m)\u001b[0m\u001b[1;33m.\u001b[0m\u001b[0madd\u001b[0m\u001b[1;33m(\u001b[0m\u001b[0mword\u001b[0m\u001b[1;33m)\u001b[0m \u001b[1;31m# так не работает\u001b[0m\u001b[1;33m\u001b[0m\u001b[1;33m\u001b[0m\u001b[0m\n\u001b[0m\u001b[0;32m      6\u001b[0m \u001b[0mprint\u001b[0m\u001b[1;33m(\u001b[0m\u001b[0mwordsAccentDic\u001b[0m\u001b[1;33m)\u001b[0m\u001b[1;33m\u001b[0m\u001b[1;33m\u001b[0m\u001b[0m\n\u001b[0;32m      7\u001b[0m \u001b[0mtext\u001b[0m \u001b[1;33m=\u001b[0m \u001b[0minput\u001b[0m\u001b[1;33m(\u001b[0m\u001b[1;33m)\u001b[0m\u001b[1;33m.\u001b[0m\u001b[0msplit\u001b[0m\u001b[1;33m(\u001b[0m\u001b[1;33m)\u001b[0m\u001b[1;33m\u001b[0m\u001b[1;33m\u001b[0m\u001b[0m\n",
      "\u001b[1;31mAttributeError\u001b[0m: 'NoneType' object has no attribute 'add'"
     ]
    }
   ],
   "source": [
    "wordsAccentDic = {}  # нельзя создать пустой словарь инструкцией dic()\n",
    "for i in range(int(input())):\n",
    "    word = input()\n",
    "    wordLower = word.lower()\n",
    "    if wordLower not in wordsAccentDic:\n",
    "        wordsAccentDic[wordLower] = set()\n",
    "    wordsAccentDic[wordLower].add(word)\n",
    "\n",
    "text = input().split()\n",
    "mistakes = 0\n",
    "for word in text:\n",
    "    wordLower = word.lower()\n",
    "    if (wordLower in wordsAccentDic and word not in wordsAccentDic[wordLower]\n",
    "            or len([s for s in word if s.isupper()]) != 1):\n",
    "        mistakes += 1\n",
    "print(mistakes)"
   ]
  },
  {
   "cell_type": "code",
   "execution_count": 3,
   "metadata": {},
   "outputs": [
    {
     "data": {
      "text/plain": [
       "True"
      ]
     },
     "execution_count": 3,
     "metadata": {},
     "output_type": "execute_result"
    }
   ],
   "source": [
    "'fugh'.islower()"
   ]
  },
  {
   "cell_type": "code",
   "execution_count": 4,
   "metadata": {},
   "outputs": [
    {
     "data": {
      "text/plain": [
       "True"
      ]
     },
     "execution_count": 4,
     "metadata": {},
     "output_type": "execute_result"
    }
   ],
   "source": [
    "'f'.islower()"
   ]
  },
  {
   "cell_type": "code",
   "execution_count": 5,
   "metadata": {},
   "outputs": [
    {
     "data": {
      "text/plain": [
       "False"
      ]
     },
     "execution_count": 5,
     "metadata": {},
     "output_type": "execute_result"
    }
   ],
   "source": [
    "'f'.isupper()"
   ]
  },
  {
   "cell_type": "code",
   "execution_count": 6,
   "metadata": {},
   "outputs": [
    {
     "data": {
      "text/plain": [
       "True"
      ]
     },
     "execution_count": 6,
     "metadata": {},
     "output_type": "execute_result"
    }
   ],
   "source": [
    "'F'.isupper()"
   ]
  },
  {
   "cell_type": "code",
   "execution_count": 7,
   "metadata": {},
   "outputs": [
    {
     "data": {
      "text/plain": [
       "True"
      ]
     },
     "execution_count": 7,
     "metadata": {},
     "output_type": "execute_result"
    }
   ],
   "source": [
    "'F12'.isupper()"
   ]
  },
  {
   "cell_type": "code",
   "execution_count": 11,
   "metadata": {},
   "outputs": [
    {
     "ename": "AttributeError",
     "evalue": "'dict' object has no attribute 'add'",
     "output_type": "error",
     "traceback": [
      "\u001b[1;31m---------------------------------------------------------------------------\u001b[0m",
      "\u001b[1;31mAttributeError\u001b[0m                            Traceback (most recent call last)",
      "\u001b[1;32m<ipython-input-11-36fb641714cb>\u001b[0m in \u001b[0;36m<module>\u001b[1;34m\u001b[0m\n\u001b[1;32m----> 1\u001b[1;33m \u001b[1;33m{\u001b[0m\u001b[1;33m}\u001b[0m\u001b[1;33m.\u001b[0m\u001b[0madd\u001b[0m\u001b[1;33m(\u001b[0m\u001b[1;36m1\u001b[0m\u001b[1;33m)\u001b[0m\u001b[1;33m\u001b[0m\u001b[1;33m\u001b[0m\u001b[0m\n\u001b[0m",
      "\u001b[1;31mAttributeError\u001b[0m: 'dict' object has no attribute 'add'"
     ]
    }
   ],
   "source": [
    "{}.add(1)"
   ]
  },
  {
   "cell_type": "code",
   "execution_count": 15,
   "metadata": {},
   "outputs": [],
   "source": [
    "wordsAccentDic = {}"
   ]
  },
  {
   "cell_type": "code",
   "execution_count": 16,
   "metadata": {},
   "outputs": [
    {
     "data": {
      "text/plain": [
       "set()"
      ]
     },
     "execution_count": 16,
     "metadata": {},
     "output_type": "execute_result"
    }
   ],
   "source": [
    "wordsAccentDic.get('a', set())"
   ]
  },
  {
   "cell_type": "code",
   "execution_count": 19,
   "metadata": {},
   "outputs": [
    {
     "name": "stdout",
     "output_type": "stream",
     "text": [
      "None\n"
     ]
    }
   ],
   "source": [
    "print(wordsAccentDic.get('a', set()).add('a'))"
   ]
  },
  {
   "cell_type": "code",
   "execution_count": 20,
   "metadata": {},
   "outputs": [
    {
     "name": "stdout",
     "output_type": "stream",
     "text": [
      "None\n"
     ]
    }
   ],
   "source": [
    "a = set().add('s')\n",
    "print(a)"
   ]
  },
  {
   "cell_type": "code",
   "execution_count": 22,
   "metadata": {},
   "outputs": [
    {
     "name": "stdout",
     "output_type": "stream",
     "text": [
      "None\n"
     ]
    }
   ],
   "source": [
    "a = [].append(1)\n",
    "print(a)"
   ]
  },
  {
   "cell_type": "code",
   "execution_count": 23,
   "metadata": {},
   "outputs": [
    {
     "name": "stdout",
     "output_type": "stream",
     "text": [
      "[1]\n"
     ]
    }
   ],
   "source": [
    "a = [] + [1]\n",
    "print(a)"
   ]
  },
  {
   "cell_type": "markdown",
   "metadata": {},
   "source": [
    "## Задача 10. «Продажи»\n",
    "Дана база данных о продажах некоторого интернет-магазина. Каждая строка входного файла представляет собой запись вида Покупатель товар количество, где Покупатель — имя покупателя (строка без пробелов), товар — название товара (строка без пробелов), количество — количество приобретенных единиц товара.\n",
    "\n",
    "Создайте список всех покупателей, а для каждого покупателя подсчитайте количество приобретенных им единиц каждого вида товаров. Список покупателей, а также список товаров для каждого покупателя нужно выводить в лексикографическом порядке."
   ]
  },
  {
   "cell_type": "code",
   "execution_count": 32,
   "metadata": {},
   "outputs": [
    {
     "name": "stdout",
     "output_type": "stream",
     "text": [
      "10\n",
      "10\n"
     ]
    }
   ],
   "source": [
    "amount = '10\\\\\\\\n'\n",
    "amount = amount.strip('\\\\\\\\n')\n",
    "print(amount)\n",
    "print(int(amount))"
   ]
  },
  {
   "cell_type": "code",
   "execution_count": 33,
   "metadata": {},
   "outputs": [
    {
     "name": "stdout",
     "output_type": "stream",
     "text": [
      "{}\n"
     ]
    }
   ],
   "source": [
    "import sys\n",
    "lines = sys.stdin.readlines()\n",
    "\n",
    "purchases = {}\n",
    "for line in lines:\n",
    "    customer, merch, amount = line.split()\n",
    "    amount = int(amount.strip('\\\\\\\\n'))\n",
    "    if customer not in purchases:\n",
    "        purchases[customer] = {merch: amount}\n",
    "    else:\n",
    "        if merch not in purchases[customer]:\n",
    "            purchases[customer][merch] = amount\n",
    "        else:\n",
    "            purchases[customer][merch] += amount\n",
    "for name in sorted(purchases.keys()):\n",
    "    print(name + ':')\n",
    "    print(*sorted([k + ' ' + str(v) for k, v in purchases[name].items()]), sep = '\\n')"
   ]
  },
  {
   "cell_type": "code",
   "execution_count": 36,
   "metadata": {},
   "outputs": [
    {
     "name": "stdout",
     "output_type": "stream",
     "text": [
      "Ivanov:\n",
      "envelope 5\n",
      "marker 3\n",
      "paper 17\n",
      "Petrov:\n",
      "envelope 20\n",
      "pens 5\n"
     ]
    }
   ],
   "source": [
    "purchases = {'Ivanov': {'paper': 17, 'marker': 3, 'envelope': 5}, 'Petrov': {'pens': 5, 'envelope': 20}}\n",
    "for name in sorted(purchases.keys()):\n",
    "    print(name + ':')\n",
    "    print(*sorted([k + ' ' + str(v) for k, v in purchases[name].items()]), sep = '\\n')"
   ]
  },
  {
   "cell_type": "markdown",
   "metadata": {},
   "source": [
    "Решение от разработчиков немного непонятное (используют штуки, про которые не рассказывали, сама пока не разобралась):"
   ]
  },
  {
   "cell_type": "code",
   "execution_count": null,
   "metadata": {},
   "outputs": [],
   "source": [
    "from collections import defaultdict\n",
    "from sys import stdin\n",
    "\n",
    "clients = defaultdict(lambda: defaultdict(int))\n",
    "for line in stdin.readlines():\n",
    "    client, thing, value = line.split()\n",
    "    clients[client][thing] += int(value)\n",
    "        \n",
    "for client in sorted(clients):\n",
    "    print(client + ':')\n",
    "    for thing in sorted(clients[client]):\n",
    "        print(thing, clients[client][thing])"
   ]
  },
  {
   "cell_type": "code",
   "execution_count": 3,
   "metadata": {},
   "outputs": [
    {
     "data": {
      "text/plain": [
       "defaultdict(set, {})"
      ]
     },
     "execution_count": 3,
     "metadata": {},
     "output_type": "execute_result"
    }
   ],
   "source": [
    "from collections import defaultdict\n",
    "\n",
    "latin_to_english = defaultdict(set)\n",
    "latin_to_english"
   ]
  },
  {
   "cell_type": "markdown",
   "metadata": {},
   "source": [
    "## Задача 11. «Родословная: подсчет уровней»\n",
    "В генеалогическом древе у каждого человека, кроме родоначальника, есть ровно один родитель.\n",
    "\n",
    "Каждом элементу дерева сопоставляется целое неотрицательное число, называемое высотой. У родоначальника высота равна 0, у любого другого элемента высота на 1 больше, чем у его родителя.\n",
    "\n",
    "Вам дано генеалогическое древо, определите высоту всех его элементов.\n",
    "\n",
    "Программа получает на вход число элементов в генеалогическом древе N. Далее следует N−1 строка, задающие родителя для каждого элемента древа, кроме родоначальника. Каждая строка имеет вид имя_потомка имя_родителя.\n",
    "\n",
    "Программа должна вывести список всех элементов древа в лексикографическом порядке. После вывода имени каждого элемента необходимо вывести его высоту.\n",
    "\n",
    "Примечание\n",
    "\n",
    "Эта задача имеет решение сложности O(n), но вам достаточно написать решение сложности O(n2) (не считая сложности обращения к элементам словаря)."
   ]
  },
  {
   "cell_type": "markdown",
   "metadata": {},
   "source": [
    "Вариант 1 (вывернутый, перевывернутый через одно место, но тесты отработал):"
   ]
  },
  {
   "cell_type": "code",
   "execution_count": null,
   "metadata": {},
   "outputs": [],
   "source": [
    "from collections import defaultdict\n",
    "\n",
    "def defLevels(name_level, name, level):\n",
    "    name_level.append(name + ' ' + str(level))\n",
    "    \n",
    "    children = parent_child[name]\n",
    "    for name in children:\n",
    "        defLevels(name_level, name, level + 1)\n",
    "\n",
    "parent_child = defaultdict(list)\n",
    "parents = set()\n",
    "children = set()\n",
    "N = int(input())\n",
    "for i in range(N - 1):\n",
    "    child, parent = input().split()\n",
    "    parent_child[parent].append(child)\n",
    "    parents.add(parent)\n",
    "    children.add(child)\n",
    "\n",
    "name_level = []\n",
    "name = (parents - children).pop()    # определение родоначальника\n",
    "defLevels(name_level, name, 0)\n",
    "\n",
    "print(*sorted(name_level), sep = '\\n')"
   ]
  },
  {
   "cell_type": "markdown",
   "metadata": {},
   "source": [
    "Вариант 2 (после того, как я подсмотрела решение от разработчиков и поняла, что сделала свой вариант как бы с обратной стороны; и кстати вопрос о том, чье решение на самом деле быстрее на большом объеме данных, открыт; но меня растраивает то, что до их, более очевидного что ли, решения я совсем сама не додумалась, т.е. если вдруг моё решение и быстрее, то это получилось случайно, а не потому что я изначально выбирала из этих двух решений):"
   ]
  },
  {
   "cell_type": "code",
   "execution_count": null,
   "metadata": {},
   "outputs": [],
   "source": [
    "def level(name):\n",
    "    if name not in child_parent:\n",
    "        return 0\n",
    "    else:\n",
    "        return 1 + level(child_parent[name])\n",
    "\n",
    "child_parent = {}\n",
    "N = int(input())\n",
    "for i in range(N - 1):\n",
    "    child, parent = input().split()\n",
    "    child_parent[child] = parent\n",
    "    \n",
    "names = set(child_parent.keys()).union(set(child_parent.values()))\n",
    "names_levels = []\n",
    "for name in names:\n",
    "    names_levels.append(name + ' ' + str(level(name)))\n",
    "\n",
    "print(*sorted(names_levels), sep = '\\n')                 "
   ]
  },
  {
   "cell_type": "markdown",
   "metadata": {},
   "source": [
    "Решение от разработчиков:"
   ]
  },
  {
   "cell_type": "code",
   "execution_count": null,
   "metadata": {},
   "outputs": [],
   "source": [
    "def height(man):\n",
    "    if man not in p_tree:\n",
    "        return 0\n",
    "    else:\n",
    "        return 1 + height(p_tree[man])\n",
    "\n",
    "p_tree = {}\n",
    "n = int(input())\n",
    "for i in range(n - 1):\n",
    "    child, parent = input().split()\n",
    "    p_tree[child] = parent\n",
    "\n",
    "heights = {}\n",
    "for man in set(p_tree.keys()).union(set(p_tree.values())):\n",
    "    heights[man] = height(man)\n",
    "\n",
    "for key, value in sorted(heights.items()):\n",
    "    print(key, value)"
   ]
  },
  {
   "cell_type": "markdown",
   "metadata": {},
   "source": [
    "Решения других участников:"
   ]
  },
  {
   "cell_type": "code",
   "execution_count": null,
   "metadata": {},
   "outputs": [],
   "source": [
    "gs = set()\n",
    "dic_relations = {}\n",
    "for i in range(int(input())-1):\n",
    "    child, parent = input().split()\n",
    "    gs |= {child}\n",
    "    gs |= {parent}\n",
    "    dic_relations[child] = parent\n",
    "def processRelationLevel(name):\n",
    "    if name not in dic_relations:\n",
    "        return 0\n",
    "    return processRelationLevel(dic_relations[name]) + 1   \n",
    "for name in sorted(gs):\n",
    "    count = processRelationLevel(name)\n",
    "    print(name, count)"
   ]
  },
  {
   "cell_type": "code",
   "execution_count": null,
   "metadata": {},
   "outputs": [],
   "source": [
    "def depth(tree, k):\n",
    "    d = 0\n",
    "    while (tree[k]):\n",
    "        try: \n",
    "            k = tree[k]\n",
    "            d+=1\n",
    "        except (KeyError):\n",
    "            break\n",
    "    return d\n",
    " \n",
    "n = int(input())\n",
    "gen = dict()\n",
    "for _ in range(n-1):\n",
    "    child, parent = input().split()\n",
    "    gen[child] = parent\n",
    "    if not parent in gen:\n",
    "        gen[parent]=None\n",
    "for k,v in sorted(gen.items()):\n",
    "    print(k, depth(gen, k))"
   ]
  },
  {
   "cell_type": "code",
   "execution_count": null,
   "metadata": {},
   "outputs": [],
   "source": [
    "drevo={}\n",
    "for i in range(int(input())-1):\n",
    "    potomok, roditel = input().split()\n",
    "    drevo[roditel] = drevo.get(roditel,[])+[potomok]\n",
    "\n",
    "N = {}\n",
    "v = 0\n",
    "for i in range(len(drevo)):\n",
    "    for roditel in drevo:\n",
    "        i = True\n",
    "        for potomok in drevo:\n",
    "            if roditel in drevo[potomok]:\n",
    "                i = False\n",
    "        if i == True:\n",
    "            break\n",
    "\n",
    "    N[roditel] = N.get(roditel,v)\n",
    "    for i in range(len(drevo[roditel])):\n",
    "        N[drevo[roditel][i]] = N[roditel]+1 \n",
    "        v = N[roditel]+1 \n",
    "    del drevo[roditel]\n",
    "\n",
    "for i in sorted(N):\n",
    "    print(i, N[i])"
   ]
  },
  {
   "cell_type": "code",
   "execution_count": null,
   "metadata": {},
   "outputs": [],
   "source": [
    "def gen(parent):\n",
    "    for i in d.keys():\n",
    "        if d[i]==parent:\n",
    "            d[i]=d[parent]+1\n",
    "            gen(i)\n",
    "d=dict()\n",
    "for i in range(int(input())-1):\n",
    "    man,parent=input().split()\n",
    "    d[man]=parent\n",
    "root=tuple(d.values()-d.keys())[0]\n",
    "d[root]=0\n",
    "gen(root)\n",
    "for i in sorted(d):\n",
    "    print(i,d[i])"
   ]
  },
  {
   "cell_type": "code",
   "execution_count": null,
   "metadata": {},
   "outputs": [],
   "source": [
    "from collections import defaultdict\n",
    "Rodos=defaultdict(lambda: set())\n",
    "Quant={}\n",
    "N=int(input())\n",
    "for i in range(N-1):\n",
    "    pot,rod=input().split()\n",
    "    Rodos[rod].add(pot)\n",
    "    Quant[pot]=0\n",
    "##Вот здесь я создал и заполнил словарь, у которого ключ-\n",
    "## родитель, значение- словарь из потомков\n",
    "\n",
    "for r in Rodos.keys(): ## Пытаюсь найти родоначальника\n",
    "    if r not in Quant.keys():\n",
    "        Rod=r\n",
    "        \n",
    "Quant[Rod]=0\n",
    "def drevo(Q,Otec): \n",
    "    if Otec not in Rodos.keys(): ## рассматриваем самого младшего\n",
    "        for re in Rodos.keys():\n",
    "            if Otec in Rodos[re]:\n",
    "                Q[Otec]=1+Q[re]\n",
    "    else: \n",
    "        for p in Rodos[Otec]:\n",
    "            Q[p]=1+Q[Otec]\n",
    "            drevo(Q,p)\n",
    "drevo(Quant,Rod)\n",
    "Sort=[]\n",
    "for k in Quant.keys():\n",
    "    Sort.append(k)\n",
    "Sort=sorted(Sort)\n",
    "for k in Sort:\n",
    "    print(k, Quant[k])"
   ]
  },
  {
   "cell_type": "code",
   "execution_count": null,
   "metadata": {},
   "outputs": [],
   "source": [
    "def see(x, ind, n):\n",
    "    s =[(ind, n)]\n",
    "    if x.get(ind) == None:\n",
    "        return [(ind, n)]\n",
    "    for i in x[ind]:\n",
    "        s += see(x, i, n+1)\n",
    "    return s\n",
    "\n",
    "n = int(input())\n",
    "d = {}\n",
    "dd = {}\n",
    "papa = set()\n",
    "for i in range(1,n):\n",
    "    incest, parent = input().split()\n",
    "    dd[incest] = parent\n",
    "    d[parent] = d.get(parent, set())| {incest}\n",
    "    papa |= {incest, parent}\n",
    "papa = list(papa - set(dd.keys()))[0]\n",
    "for t, w in sorted(see(d,papa,0)):\n",
    "    print(t,w)"
   ]
  },
  {
   "cell_type": "code",
   "execution_count": null,
   "metadata": {},
   "outputs": [],
   "source": [
    "n = int(input())\n",
    "dic = {}\n",
    "for i in range(n - 1):\n",
    "    child, parent = input().split()\n",
    "    if parent not in dic:\n",
    "        dic[parent] = None\n",
    "    dic[child] = parent\n",
    "#print(sorted(dic.items()))\n",
    "for key, value in sorted(dic.items()):\n",
    "    level = 0\n",
    "    print(key, end = ' ')\n",
    "    while key in dic:\n",
    "        level += 1\n",
    "        key = dic[key] # опускаемся к корню - потомок становится родителем\n",
    "    print(level - 1)"
   ]
  },
  {
   "cell_type": "markdown",
   "metadata": {},
   "source": [
    "## Задача 12. «Родословная: предки и потомки»\n",
    "Даны два элемента в дереве. Определите, является ли один из них потомком другого.\n",
    "\n",
    "Во входных данных записано дерево в том же формате, что и в предыдущей задаче Далее идет число запросов K. В каждой из следующих K строк, содержатся имена двух элементов дерева.\n",
    "\n",
    "Для каждого такого запроса выведите одно из трех чисел: 1, если первый элемент является предком второго, 2, если второй является предком первого или 0, если ни один из них не является предком другого."
   ]
  },
  {
   "cell_type": "markdown",
   "metadata": {},
   "source": [
    "Вариант 1:"
   ]
  },
  {
   "cell_type": "code",
   "execution_count": 7,
   "metadata": {},
   "outputs": [
    {
     "name": "stdout",
     "output_type": "stream",
     "text": [
      "1\n",
      "уууа авп\n"
     ]
    },
    {
     "ename": "ValueError",
     "evalue": "invalid literal for int() with base 10: 'уууа авп'",
     "output_type": "error",
     "traceback": [
      "\u001b[1;31m---------------------------------------------------------------------------\u001b[0m",
      "\u001b[1;31mValueError\u001b[0m                                Traceback (most recent call last)",
      "\u001b[1;32m<ipython-input-7-6d13540d1364>\u001b[0m in \u001b[0;36m<module>\u001b[1;34m\u001b[0m\n\u001b[0;32m     30\u001b[0m     \u001b[0mparent_child\u001b[0m\u001b[1;33m[\u001b[0m\u001b[0mparent\u001b[0m\u001b[1;33m]\u001b[0m\u001b[1;33m.\u001b[0m\u001b[0madd\u001b[0m\u001b[1;33m(\u001b[0m\u001b[0mchild\u001b[0m\u001b[1;33m)\u001b[0m\u001b[1;33m\u001b[0m\u001b[1;33m\u001b[0m\u001b[0m\n\u001b[0;32m     31\u001b[0m \u001b[1;33m\u001b[0m\u001b[0m\n\u001b[1;32m---> 32\u001b[1;33m \u001b[1;32mfor\u001b[0m \u001b[0mi\u001b[0m \u001b[1;32min\u001b[0m \u001b[0mrange\u001b[0m\u001b[1;33m(\u001b[0m\u001b[0mint\u001b[0m\u001b[1;33m(\u001b[0m\u001b[0minput\u001b[0m\u001b[1;33m(\u001b[0m\u001b[1;33m)\u001b[0m\u001b[1;33m)\u001b[0m\u001b[1;33m)\u001b[0m\u001b[1;33m:\u001b[0m\u001b[1;33m\u001b[0m\u001b[1;33m\u001b[0m\u001b[0m\n\u001b[0m\u001b[0;32m     33\u001b[0m     \u001b[0mfirst\u001b[0m\u001b[1;33m,\u001b[0m \u001b[0msecond\u001b[0m \u001b[1;33m=\u001b[0m \u001b[0minput\u001b[0m\u001b[1;33m(\u001b[0m\u001b[1;33m)\u001b[0m\u001b[1;33m.\u001b[0m\u001b[0msplit\u001b[0m\u001b[1;33m(\u001b[0m\u001b[1;33m)\u001b[0m\u001b[1;33m\u001b[0m\u001b[1;33m\u001b[0m\u001b[0m\n\u001b[0;32m     34\u001b[0m     \u001b[1;32mif\u001b[0m \u001b[0misDescendant\u001b[0m\u001b[1;33m(\u001b[0m\u001b[0mfirst\u001b[0m\u001b[1;33m,\u001b[0m \u001b[0msecond\u001b[0m\u001b[1;33m)\u001b[0m\u001b[1;33m:\u001b[0m\u001b[1;33m\u001b[0m\u001b[1;33m\u001b[0m\u001b[0m\n",
      "\u001b[1;31mValueError\u001b[0m: invalid literal for int() with base 10: 'уууа авп'"
     ]
    }
   ],
   "source": [
    "from collections import defaultdict\n",
    "\n",
    "def isAncestor(first, second):\n",
    "    res = False\n",
    "    if first in parent_child:\n",
    "        if second in parent_child[first]:\n",
    "            res = True\n",
    "        else:\n",
    "            for child in parent_child[first]:\n",
    "                res = isAncestor(child, second)\n",
    "                if res:\n",
    "                    break\n",
    "    return res\n",
    "\n",
    "def isDescendant(first, second):\n",
    "    res = False\n",
    "    if first in child_parent:\n",
    "        if child_parent[first] == second:\n",
    "            res = True\n",
    "        else:\n",
    "            parent = child_parent[first]\n",
    "            res = isDescendant(parent, second)\n",
    "    return res\n",
    "\n",
    "parent_child = defaultdict(set)\n",
    "child_parent = dict()\n",
    "for i in range(int(input()) - 1):\n",
    "    child, parent = input().split()\n",
    "    child_parent[child] = parent\n",
    "    parent_child[parent].add(child)\n",
    "               \n",
    "for i in range(int(input())):\n",
    "    first, second = input().split()\n",
    "    if isDescendant(first, second):\n",
    "        print(2)\n",
    "    elif isAncestor(first, second):\n",
    "        print(1)\n",
    "    else:\n",
    "        print(0)"
   ]
  },
  {
   "cell_type": "markdown",
   "metadata": {},
   "source": [
    "Вариант 2 (Отработал без ошибок, несмотря на то, что, как я потом подглядела у разработчиков, я зря создла 2 ф-и isAncestor и isDescendant, т.к. они одинаковые, прочто при вызове набо менять передавать аргументы в другом порядке (до этой идеи я не додумалась сама, только сейчас начало что-то доходить), а также несмотря на то, что при внимательном рассмотрении видно, что я допустила в ф-и isAncestor ошибку - в рекурсивном вызове вызываю не её, а isDescendant. Простая замена одной ф-и на другую не помогает, значит, ошибка еще и в передаваемых параметрах, вероятно, в порядке их передачи):"
   ]
  },
  {
   "cell_type": "code",
   "execution_count": null,
   "metadata": {},
   "outputs": [],
   "source": [
    "def isAncestor(first, second):\n",
    "    if second in child_parent:\n",
    "        if child_parent[second] == first:\n",
    "            return True\n",
    "        else:\n",
    "            return isDescendant(child_parent[second], first)\n",
    "    else:\n",
    "        return False\n",
    "\n",
    "def isDescendant(first, second):\n",
    "    if first in child_parent:\n",
    "        if child_parent[first] == second:\n",
    "            return True\n",
    "        else:\n",
    "            return isDescendant(child_parent[first], second)\n",
    "    else:\n",
    "        return False\n",
    "\n",
    "child_parent = {}\n",
    "for i in range(int(input()) - 1):\n",
    "    child, parent = input().split()\n",
    "    child_parent[child] = parent\n",
    "               \n",
    "for i in range(int(input())):\n",
    "    first, second = input().split()\n",
    "    if isDescendant(first, second):\n",
    "        print(2)\n",
    "    elif isAncestor(first, second):\n",
    "        print(1)\n",
    "    else:\n",
    "        print(0)"
   ]
  },
  {
   "cell_type": "code",
   "execution_count": 10,
   "metadata": {},
   "outputs": [
    {
     "data": {
      "text/plain": [
       "{'b': 'c'}"
      ]
     },
     "execution_count": 10,
     "metadata": {},
     "output_type": "execute_result"
    }
   ],
   "source": [
    "D = {'a':{'b':'c'}}\n",
    "D['a'].it"
   ]
  },
  {
   "cell_type": "markdown",
   "metadata": {},
   "source": [
    "Изменила вариант 2 - исправила ошибку с рекурсивным вызовом ф-и isDescendant внутри ф-и isAncestor:"
   ]
  },
  {
   "cell_type": "code",
   "execution_count": null,
   "metadata": {},
   "outputs": [],
   "source": [
    "def isAncestor(first, second):\n",
    "    if second in child_parent:\n",
    "        if child_parent[second] == first:\n",
    "            return True\n",
    "        else:\n",
    "            return isAncestor(first, child_parent[second])\n",
    "    else:\n",
    "        return False\n",
    "\n",
    "def isDescendant(first, second):\n",
    "    if first in child_parent:\n",
    "        if child_parent[first] == second:\n",
    "            return True\n",
    "        else:\n",
    "            return isDescendant(child_parent[first], second)\n",
    "    else:\n",
    "        return False\n",
    "\n",
    "child_parent = {}\n",
    "for i in range(int(input()) - 1):\n",
    "    child, parent = input().split()\n",
    "    child_parent[child] = parent\n",
    "               \n",
    "for i in range(int(input())):\n",
    "    first, second = input().split()\n",
    "    if isDescendant(first, second):\n",
    "        print(2)\n",
    "    elif isAncestor(first, second):\n",
    "        print(1)\n",
    "    else:\n",
    "        print(0)"
   ]
  },
  {
   "cell_type": "markdown",
   "metadata": {},
   "source": [
    "Исправила вариант 2 - убрала лишнюю дублирующую функцию:"
   ]
  },
  {
   "cell_type": "code",
   "execution_count": null,
   "metadata": {},
   "outputs": [],
   "source": [
    "def isDescendant(first, second):\n",
    "    if first in child_parent:\n",
    "        if child_parent[first] == second:\n",
    "            return True\n",
    "        else:\n",
    "            return isDescendant(child_parent[first], second)\n",
    "    else:\n",
    "        return False\n",
    "\n",
    "child_parent = {}\n",
    "for i in range(int(input()) - 1):\n",
    "    child, parent = input().split()\n",
    "    child_parent[child] = parent\n",
    "               \n",
    "for i in range(int(input())):\n",
    "    first, second = input().split()\n",
    "    if isDescendant(first, second):\n",
    "        print(2)\n",
    "    elif isDescendant(second, first):\n",
    "        print(1)\n",
    "    else:\n",
    "        print(0)"
   ]
  },
  {
   "cell_type": "markdown",
   "metadata": {},
   "source": [
    "Решение от разработчиков (немного не такое как у меня, но, кажется, разница не сильно критична):"
   ]
  },
  {
   "cell_type": "code",
   "execution_count": null,
   "metadata": {},
   "outputs": [],
   "source": [
    "def is_ancestor(man, older_man):\n",
    "    if man == older_man:\n",
    "        return True\n",
    "    while man in p_tree:\n",
    "        man = p_tree[man]\n",
    "        if man == older_man:\n",
    "            return True\n",
    "    return False\n",
    "    \n",
    "p_tree = dict()\n",
    "n = int(input())\n",
    "for i in range(n - 1):\n",
    "    child, parent = input().split()\n",
    "    p_tree[child] = parent\n",
    "\n",
    "for i in range(int(input())):\n",
    "    first, second = input().split()\n",
    "    if is_ancestor(second, first):\n",
    "        print(1, end=' ')\n",
    "    elif is_ancestor(first, second):\n",
    "        print(2, end=' ')\n",
    "    else:\n",
    "        print(0, end=' ')"
   ]
  },
  {
   "cell_type": "markdown",
   "metadata": {},
   "source": [
    "## Задача 13. «Родословная: LCA»\n",
    "В генеалогическом древе определите для двух элементов их наименьшего общего предка (Lowest Common Ancestor). Наименьшим общим предком элементов A и B является такой элемент C, что С является предком A, C является предком B, при этом глубина C является наибольшей из возможных. При этом элемент считается своим собственным предком.\n",
    "\n",
    "Формат входных данных аналогичен предыдущей задаче\n",
    "\n",
    "Для каждого запроса выведите наименьшего общего предка данных элементов."
   ]
  },
  {
   "cell_type": "markdown",
   "metadata": {},
   "source": [
    "Вариант 1:"
   ]
  },
  {
   "cell_type": "code",
   "execution_count": null,
   "metadata": {},
   "outputs": [],
   "source": [
    "def getAncestors(man):\n",
    "    ancestors = [man]\n",
    "    while man in child_parent:\n",
    "        man = child_parent[man]\n",
    "        ancestors.append(man)\n",
    "    return ancestors\n",
    "    \n",
    "\n",
    "child_parent = {}\n",
    "for i in range(int(input()) - 1):\n",
    "    child, parent = input().split()\n",
    "    child_parent[child] = parent\n",
    "               \n",
    "for i in range(int(input())):\n",
    "    first, second = input().split()\n",
    "    for fanc in getAncestors(first):\n",
    "        found = False\n",
    "        for sanc in getAncestors(second):\n",
    "            if fanc == sanc:\n",
    "                print(fanc)\n",
    "                found = True\n",
    "                break\n",
    "        if found:\n",
    "            break"
   ]
  },
  {
   "cell_type": "markdown",
   "metadata": {},
   "source": [
    "Вариант 2, в нём я стараюсь уйти от двойного цикла for, но решение всё-равно не очень красивое и не факт, что быстрее первого:"
   ]
  },
  {
   "cell_type": "code",
   "execution_count": null,
   "metadata": {},
   "outputs": [],
   "source": [
    "def getAncestors(man):\n",
    "    ancestors = [man]\n",
    "    while man in child_parent:\n",
    "        man = child_parent[man]\n",
    "        ancestors.append(man)\n",
    "    return ancestors\n",
    "    \n",
    "\n",
    "child_parent = {}\n",
    "for i in range(int(input()) - 1):\n",
    "    child, parent = input().split()\n",
    "    child_parent[child] = parent\n",
    "               \n",
    "for i in range(int(input())):\n",
    "    first, second = input().split()\n",
    "    fstAncestors = getAncestors(first)\n",
    "    secAncestors = getAncestors(second)\n",
    "    \n",
    "    # CA - Common Ancestors\n",
    "    CA = set(fstAncestors) & set(secAncestors)\n",
    "    if len(CA) == 1:\n",
    "        print(CA.pop())\n",
    "    else:\n",
    "        minPos = len(fstAncestors)\n",
    "        LCA = ''\n",
    "        for ca in CA:\n",
    "            caPos = fstAncestors.index(ca)\n",
    "            if caPos < minPos:\n",
    "                minPos = caPos\n",
    "                LCA = ca\n",
    "        print(LCA)"
   ]
  },
  {
   "cell_type": "markdown",
   "metadata": {},
   "source": [
    "Решение от разработчиков (лаконичнее и умнее моего, всё-таки я опять не додумалась до элементарного - что при проверке на существование элемента в списке (оператор in), список будет проверяться справа налево по порядку, следовательно не нужен двойной цикл for, как у меня в первом варианте (вариант 2 я делала вообще для разнообразия, наверное, не стоило на нём заканчивать, а стоило продолжить поиски)):"
   ]
  },
  {
   "cell_type": "code",
   "execution_count": null,
   "metadata": {},
   "outputs": [],
   "source": [
    "def ancestors(child, p_tree):\n",
    "    result = []\n",
    "    result.append(child)\n",
    "    while child in p_tree:\n",
    "        child = p_tree[child]\n",
    "        result.append(child)\n",
    "    return result\n",
    "\n",
    "p_tree = dict()\n",
    "n = int(input())\n",
    "for i in range(n - 1):\n",
    "    child, parent = input().split()\n",
    "    p_tree[child] = parent\n",
    "    \n",
    "m = int(input())\n",
    "for i in range(m):\n",
    "    child_1, child_2 = input().split()\n",
    "    ancestors_for_1 = set(ancestors(child_1, p_tree))\n",
    "    for ancestor in ancestors(child_2, p_tree):\n",
    "        if ancestor in ancestors_for_1:\n",
    "            print(ancestor)\n",
    "            break"
   ]
  },
  {
   "cell_type": "code",
   "execution_count": 22,
   "metadata": {},
   "outputs": [
    {
     "data": {
      "text/plain": [
       "{None}"
      ]
     },
     "execution_count": 22,
     "metadata": {},
     "output_type": "execute_result"
    }
   ],
   "source": [
    "A = {None}\n",
    "A.add(None)\n",
    "A"
   ]
  },
  {
   "cell_type": "code",
   "execution_count": null,
   "metadata": {},
   "outputs": [],
   "source": []
  }
 ],
 "metadata": {
  "kernelspec": {
   "display_name": "Python 3",
   "language": "python",
   "name": "python3"
  },
  "language_info": {
   "codemirror_mode": {
    "name": "ipython",
    "version": 3
   },
   "file_extension": ".py",
   "mimetype": "text/x-python",
   "name": "python",
   "nbconvert_exporter": "python",
   "pygments_lexer": "ipython3",
   "version": "3.7.3"
  }
 },
 "nbformat": 4,
 "nbformat_minor": 2
}
