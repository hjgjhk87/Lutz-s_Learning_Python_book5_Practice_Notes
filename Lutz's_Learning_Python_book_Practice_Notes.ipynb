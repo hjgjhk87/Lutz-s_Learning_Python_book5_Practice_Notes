{
 "cells": [
  {
   "cell_type": "markdown",
   "metadata": {},
   "source": [
    "# Часть I. Начало работы"
   ]
  },
  {
   "cell_type": "markdown",
   "metadata": {},
   "source": [
    "..."
   ]
  },
  {
   "cell_type": "markdown",
   "metadata": {},
   "source": [
    "# Глава 3. Как пользователь выполняет программы"
   ]
  },
  {
   "cell_type": "markdown",
   "metadata": {},
   "source": [
    "### Интерактивное выполнение кода"
   ]
  },
  {
   "cell_type": "code",
   "execution_count": 1,
   "metadata": {},
   "outputs": [
    {
     "name": "stdout",
     "output_type": "stream",
     "text": [
      "Hello world!\n"
     ]
    }
   ],
   "source": [
    "print('Hello world!')"
   ]
  },
  {
   "cell_type": "code",
   "execution_count": 2,
   "metadata": {},
   "outputs": [
    {
     "name": "stdout",
     "output_type": "stream",
     "text": [
      "256\n"
     ]
    }
   ],
   "source": [
    "print(2 ** 8)"
   ]
  },
  {
   "cell_type": "code",
   "execution_count": 3,
   "metadata": {},
   "outputs": [],
   "source": [
    "lumberjack = 'okay'"
   ]
  },
  {
   "cell_type": "code",
   "execution_count": 5,
   "metadata": {},
   "outputs": [
    {
     "data": {
      "text/plain": [
       "'okay'"
      ]
     },
     "execution_count": 5,
     "metadata": {},
     "output_type": "execute_result"
    }
   ],
   "source": [
    "lumberjack"
   ]
  },
  {
   "cell_type": "code",
   "execution_count": 6,
   "metadata": {},
   "outputs": [
    {
     "data": {
      "text/plain": [
       "256"
      ]
     },
     "execution_count": 6,
     "metadata": {},
     "output_type": "execute_result"
    }
   ],
   "source": [
    "2 ** 8"
   ]
  },
  {
   "cell_type": "code",
   "execution_count": 7,
   "metadata": {},
   "outputs": [
    {
     "data": {
      "text/plain": [
       "'Spam!Spam!Spam!Spam!Spam!Spam!Spam!Spam!'"
      ]
     },
     "execution_count": 7,
     "metadata": {},
     "output_type": "execute_result"
    }
   ],
   "source": [
    "'Spam!' * 8"
   ]
  },
  {
   "cell_type": "code",
   "execution_count": 8,
   "metadata": {},
   "outputs": [
    {
     "ename": "NameError",
     "evalue": "name 'X' is not defined",
     "output_type": "error",
     "traceback": [
      "\u001b[1;31m---------------------------------------------------------------------------\u001b[0m",
      "\u001b[1;31mNameError\u001b[0m                                 Traceback (most recent call last)",
      "\u001b[1;32m<ipython-input-8-b5fec669aca1>\u001b[0m in \u001b[0;36m<module>\u001b[1;34m\u001b[0m\n\u001b[1;32m----> 1\u001b[1;33m \u001b[0mX\u001b[0m\u001b[1;33m\u001b[0m\u001b[1;33m\u001b[0m\u001b[0m\n\u001b[0m",
      "\u001b[1;31mNameError\u001b[0m: name 'X' is not defined"
     ]
    }
   ],
   "source": [
    "X"
   ]
  },
  {
   "cell_type": "code",
   "execution_count": 9,
   "metadata": {},
   "outputs": [
    {
     "data": {
      "text/plain": [
       "'D:\\\\Irene'"
      ]
     },
     "execution_count": 9,
     "metadata": {},
     "output_type": "execute_result"
    }
   ],
   "source": [
    "import os\n",
    "os.getcwd()"
   ]
  },
  {
   "cell_type": "markdown",
   "metadata": {},
   "source": [
    "__Выполнения файла модуля из командной строки__:"
   ]
  },
  {
   "cell_type": "markdown",
   "metadata": {},
   "source": [
    "Сценарий ниже сохранён в файле script1.py:"
   ]
  },
  {
   "cell_type": "code",
   "execution_count": 11,
   "metadata": {},
   "outputs": [
    {
     "name": "stdout",
     "output_type": "stream",
     "text": [
      "win32\n",
      "1267650600228229401496703205376\n",
      "Spam!Spam!Spam!Spam!Spam!Spam!Spam!Spam!\n"
     ]
    }
   ],
   "source": [
    "import sys\n",
    "\n",
    "print(sys.platform)\n",
    "print(2 ** 100)\n",
    "x = 'Spam!'\n",
    "print(x * 8)"
   ]
  },
  {
   "cell_type": "markdown",
   "metadata": {},
   "source": [
    "Запущу данный код здесь, используя магическую команду %run, которая 'run the named file inside IPython as a program'. Таким образом я эмулирую выполнение script1.py из командной строки."
   ]
  },
  {
   "cell_type": "code",
   "execution_count": 12,
   "metadata": {},
   "outputs": [
    {
     "name": "stdout",
     "output_type": "stream",
     "text": [
      "win32\n",
      "1267650600228229401496703205376\n",
      "Spam!Spam!Spam!Spam!Spam!Spam!Spam!Spam!\n"
     ]
    }
   ],
   "source": [
    "%run script1.py"
   ]
  },
  {
   "cell_type": "markdown",
   "metadata": {},
   "source": [
    "Такой запуск (без маг. команды) не работает:"
   ]
  },
  {
   "cell_type": "code",
   "execution_count": 1,
   "metadata": {},
   "outputs": [
    {
     "ename": "NameError",
     "evalue": "name 'script1' is not defined",
     "output_type": "error",
     "traceback": [
      "\u001b[1;31m---------------------------------------------------------------------------\u001b[0m",
      "\u001b[1;31mNameError\u001b[0m                                 Traceback (most recent call last)",
      "\u001b[1;32m<ipython-input-1-4e903a946918>\u001b[0m in \u001b[0;36m<module>\u001b[1;34m\u001b[0m\n\u001b[1;32m----> 1\u001b[1;33m \u001b[0mscript1\u001b[0m\u001b[1;33m.\u001b[0m\u001b[0mpy\u001b[0m\u001b[1;33m\u001b[0m\u001b[1;33m\u001b[0m\u001b[0m\n\u001b[0m",
      "\u001b[1;31mNameError\u001b[0m: name 'script1' is not defined"
     ]
    }
   ],
   "source": [
    "script1.py"
   ]
  },
  {
   "cell_type": "markdown",
   "metadata": {},
   "source": [
    "__Выполнение файлов модулей с помощью импортирования__:"
   ]
  },
  {
   "cell_type": "code",
   "execution_count": 2,
   "metadata": {},
   "outputs": [
    {
     "name": "stdout",
     "output_type": "stream",
     "text": [
      "win32\n",
      "4\n",
      "Spam!Spam!Spam!Spam!Spam!Spam!Spam!Spam!\n"
     ]
    }
   ],
   "source": [
    "import script1"
   ]
  },
  {
   "cell_type": "markdown",
   "metadata": {},
   "source": [
    "Сделала изменение в модуле script1, попробую ещё раз его импортировать:"
   ]
  },
  {
   "cell_type": "code",
   "execution_count": 3,
   "metadata": {},
   "outputs": [],
   "source": [
    "import script1"
   ]
  },
  {
   "cell_type": "markdown",
   "metadata": {},
   "source": [
    "Изменений не видно, т.к. модуль импортируется только 1 раз за процесс. Чтобы увидеть изменения надо воспользоваться функцией reload из модуля importlib:"
   ]
  },
  {
   "cell_type": "code",
   "execution_count": 5,
   "metadata": {},
   "outputs": [
    {
     "name": "stdout",
     "output_type": "stream",
     "text": [
      "win32\n",
      "2\n",
      "Spam!Spam!Spam!Spam!Spam!Spam!Spam!Spam!\n"
     ]
    },
    {
     "data": {
      "text/plain": [
       "<module 'script1' from \"D:\\\\Irene\\\\Lutz's_Learning_Python_book5_Practice\\\\script1.py\">"
      ]
     },
     "execution_count": 5,
     "metadata": {},
     "output_type": "execute_result"
    }
   ],
   "source": [
    "from importlib import reload\n",
    "reload(script1)"
   ]
  },
  {
   "cell_type": "markdown",
   "metadata": {},
   "source": [
    "Сценарий ниже сохранён в файле myfile.py:"
   ]
  },
  {
   "cell_type": "code",
   "execution_count": null,
   "metadata": {},
   "outputs": [],
   "source": [
    "title = \"The Meaning of Life\""
   ]
  },
  {
   "cell_type": "code",
   "execution_count": 6,
   "metadata": {},
   "outputs": [],
   "source": [
    "import myfile"
   ]
  },
  {
   "cell_type": "code",
   "execution_count": 7,
   "metadata": {},
   "outputs": [
    {
     "data": {
      "text/plain": [
       "'The Meaning of Life'"
      ]
     },
     "execution_count": 7,
     "metadata": {},
     "output_type": "execute_result"
    }
   ],
   "source": [
    "myfile.title"
   ]
  },
  {
   "cell_type": "code",
   "execution_count": 8,
   "metadata": {},
   "outputs": [],
   "source": [
    "from myfile import title"
   ]
  },
  {
   "cell_type": "code",
   "execution_count": 9,
   "metadata": {},
   "outputs": [
    {
     "data": {
      "text/plain": [
       "'The Meaning of Life'"
      ]
     },
     "execution_count": 9,
     "metadata": {},
     "output_type": "execute_result"
    }
   ],
   "source": [
    "title"
   ]
  },
  {
   "cell_type": "markdown",
   "metadata": {},
   "source": [
    "Сценарий ниже сохранён в файле threenames.py:"
   ]
  },
  {
   "cell_type": "code",
   "execution_count": null,
   "metadata": {},
   "outputs": [],
   "source": [
    "a = 'dead'\n",
    "b = 'parrot'\n",
    "c = 'sketch'\n",
    "print(a, b, c)"
   ]
  },
  {
   "cell_type": "code",
   "execution_count": 11,
   "metadata": {},
   "outputs": [
    {
     "name": "stdout",
     "output_type": "stream",
     "text": [
      "dead parrot sketch\n"
     ]
    }
   ],
   "source": [
    "%run threenames.py"
   ]
  },
  {
   "cell_type": "code",
   "execution_count": 12,
   "metadata": {},
   "outputs": [
    {
     "name": "stdout",
     "output_type": "stream",
     "text": [
      "dead parrot sketch\n"
     ]
    }
   ],
   "source": [
    "import threenames"
   ]
  },
  {
   "cell_type": "code",
   "execution_count": 13,
   "metadata": {},
   "outputs": [
    {
     "data": {
      "text/plain": [
       "('parrot', 'sketch')"
      ]
     },
     "execution_count": 13,
     "metadata": {},
     "output_type": "execute_result"
    }
   ],
   "source": [
    "threenames.b, threenames.c"
   ]
  },
  {
   "cell_type": "code",
   "execution_count": 14,
   "metadata": {},
   "outputs": [],
   "source": [
    "from threenames import a, b, c"
   ]
  },
  {
   "cell_type": "code",
   "execution_count": 15,
   "metadata": {},
   "outputs": [
    {
     "data": {
      "text/plain": [
       "('parrot', 'sketch')"
      ]
     },
     "execution_count": 15,
     "metadata": {},
     "output_type": "execute_result"
    }
   ],
   "source": [
    "b, c"
   ]
  },
  {
   "cell_type": "markdown",
   "metadata": {},
   "source": [
    "Извлечение списка всех имён, доступных внутри модуля с помощью функции dir:"
   ]
  },
  {
   "cell_type": "code",
   "execution_count": 16,
   "metadata": {},
   "outputs": [
    {
     "data": {
      "text/plain": [
       "['__builtins__',\n",
       " '__cached__',\n",
       " '__doc__',\n",
       " '__file__',\n",
       " '__loader__',\n",
       " '__name__',\n",
       " '__package__',\n",
       " '__spec__',\n",
       " 'a',\n",
       " 'b',\n",
       " 'c']"
      ]
     },
     "execution_count": 16,
     "metadata": {},
     "output_type": "execute_result"
    }
   ],
   "source": [
    "dir(threenames)"
   ]
  },
  {
   "cell_type": "code",
   "execution_count": 17,
   "metadata": {},
   "outputs": [
    {
     "data": {
      "text/plain": [
       "'threenames'"
      ]
     },
     "execution_count": 17,
     "metadata": {},
     "output_type": "execute_result"
    }
   ],
   "source": [
    "threenames.__name__"
   ]
  },
  {
   "cell_type": "code",
   "execution_count": 19,
   "metadata": {},
   "outputs": [
    {
     "data": {
      "text/plain": [
       "''"
      ]
     },
     "execution_count": 19,
     "metadata": {},
     "output_type": "execute_result"
    }
   ],
   "source": [
    "threenames.__package__"
   ]
  },
  {
   "cell_type": "markdown",
   "metadata": {},
   "source": [
    "__Использование exec для выполнения файлов модулей__:"
   ]
  },
  {
   "cell_type": "code",
   "execution_count": 20,
   "metadata": {},
   "outputs": [
    {
     "name": "stdout",
     "output_type": "stream",
     "text": [
      "win32\n",
      "2\n",
      "Spam!Spam!Spam!Spam!Spam!Spam!Spam!Spam!\n"
     ]
    }
   ],
   "source": [
    "exec(open('script1.py').read())"
   ]
  },
  {
   "cell_type": "markdown",
   "metadata": {},
   "source": [
    "Сделала изменение в модуле script1, попробую exec ещё раз:"
   ]
  },
  {
   "cell_type": "code",
   "execution_count": 21,
   "metadata": {},
   "outputs": [
    {
     "name": "stdout",
     "output_type": "stream",
     "text": [
      "win32\n",
      "1024\n",
      "Spam!Spam!Spam!Spam!Spam!Spam!Spam!Spam!\n"
     ]
    }
   ],
   "source": [
    "exec(open('script1.py').read())"
   ]
  },
  {
   "cell_type": "markdown",
   "metadata": {},
   "source": [
    "Перезапись переменных:"
   ]
  },
  {
   "cell_type": "code",
   "execution_count": 22,
   "metadata": {},
   "outputs": [
    {
     "data": {
      "text/plain": [
       "999"
      ]
     },
     "execution_count": 22,
     "metadata": {},
     "output_type": "execute_result"
    }
   ],
   "source": [
    "x = 999\n",
    "x"
   ]
  },
  {
   "cell_type": "code",
   "execution_count": 23,
   "metadata": {},
   "outputs": [
    {
     "name": "stdout",
     "output_type": "stream",
     "text": [
      "win32\n",
      "1024\n",
      "Spam!Spam!Spam!Spam!Spam!Spam!Spam!Spam!\n"
     ]
    }
   ],
   "source": [
    "exec(open('script1.py').read())"
   ]
  },
  {
   "cell_type": "code",
   "execution_count": 24,
   "metadata": {},
   "outputs": [
    {
     "data": {
      "text/plain": [
       "'Spam!'"
      ]
     },
     "execution_count": 24,
     "metadata": {},
     "output_type": "execute_result"
    }
   ],
   "source": [
    "x"
   ]
  },
  {
   "cell_type": "markdown",
   "metadata": {},
   "source": [
    "В отличии от запуска с помощью exec, import выполняет файл только один раз на процесс и делает файл __отдельным пространством имён модуля__, так что присваивания внутри него не изменяют переменные в вашей области видимости (как это произошло с переменной x), но надо делать reload модуля после внесений изменений в модуль."
   ]
  },
  {
   "cell_type": "markdown",
   "metadata": {},
   "source": [
    "__Пользовательский интерфейс IDLE__"
   ]
  },
  {
   "cell_type": "markdown",
   "metadata": {},
   "source": [
    "Запуск IDLE из командной строки:"
   ]
  },
  {
   "cell_type": "code",
   "execution_count": 27,
   "metadata": {},
   "outputs": [],
   "source": [
    "%run -m idlelib.idle"
   ]
  },
  {
   "cell_type": "markdown",
   "metadata": {},
   "source": [
    "### Отладка"
   ]
  },
  {
   "cell_type": "markdown",
   "metadata": {},
   "source": [
    "__Отладчик командной строки pdb__"
   ]
  },
  {
   "cell_type": "code",
   "execution_count": 28,
   "metadata": {},
   "outputs": [],
   "source": [
    "import pdb"
   ]
  },
  {
   "cell_type": "code",
   "execution_count": 33,
   "metadata": {},
   "outputs": [
    {
     "name": "stdout",
     "output_type": "stream",
     "text": [
      "> d:\\irene\\lutz's_learning_python_book5_practice\\script1.py(1)<module>()\n",
      "-> import sys\n",
      "(Pdb) x\n",
      "*** NameError: name 'x' is not defined\n",
      "(Pdb) exit\n"
     ]
    }
   ],
   "source": [
    "%run -m pdb script1.py"
   ]
  },
  {
   "cell_type": "markdown",
   "metadata": {},
   "source": [
    "__Аргумент -i команды Python__"
   ]
  },
  {
   "cell_type": "code",
   "execution_count": 34,
   "metadata": {},
   "outputs": [
    {
     "name": "stdout",
     "output_type": "stream",
     "text": [
      "win32\n",
      "1024\n",
      "Spam!Spam!Spam!Spam!Spam!Spam!Spam!Spam!\n"
     ]
    }
   ],
   "source": [
    "%run -i script1.py"
   ]
  },
  {
   "cell_type": "markdown",
   "metadata": {},
   "source": [
    "## Проверьте свои знания: упражнения для части I (Part 1 Exercises)"
   ]
  },
  {
   "cell_type": "markdown",
   "metadata": {},
   "source": [
    "__№3__"
   ]
  },
  {
   "cell_type": "markdown",
   "metadata": {},
   "source": [
    "module1.py:"
   ]
  },
  {
   "cell_type": "code",
   "execution_count": 35,
   "metadata": {},
   "outputs": [
    {
     "name": "stdout",
     "output_type": "stream",
     "text": [
      "Hello module world!\n"
     ]
    }
   ],
   "source": [
    "print('Hello module world!')"
   ]
  },
  {
   "cell_type": "code",
   "execution_count": 36,
   "metadata": {},
   "outputs": [
    {
     "name": "stdout",
     "output_type": "stream",
     "text": [
      "Hello module world!\n"
     ]
    }
   ],
   "source": [
    "import module1"
   ]
  },
  {
   "cell_type": "code",
   "execution_count": 37,
   "metadata": {},
   "outputs": [],
   "source": [
    "import module1"
   ]
  },
  {
   "cell_type": "markdown",
   "metadata": {},
   "source": [
    "Restart the kernel, убрать module1.py из текущей папки, попробовать опять сделать import:"
   ]
  },
  {
   "cell_type": "code",
   "execution_count": 1,
   "metadata": {},
   "outputs": [
    {
     "ename": "ModuleNotFoundError",
     "evalue": "No module named 'module1'",
     "output_type": "error",
     "traceback": [
      "\u001b[1;31m---------------------------------------------------------------------------\u001b[0m",
      "\u001b[1;31mModuleNotFoundError\u001b[0m                       Traceback (most recent call last)",
      "\u001b[1;32m<ipython-input-1-e4e9c65f813c>\u001b[0m in \u001b[0;36m<module>\u001b[1;34m\u001b[0m\n\u001b[1;32m----> 1\u001b[1;33m \u001b[1;32mimport\u001b[0m \u001b[0mmodule1\u001b[0m\u001b[1;33m\u001b[0m\u001b[1;33m\u001b[0m\u001b[0m\n\u001b[0m",
      "\u001b[1;31mModuleNotFoundError\u001b[0m: No module named 'module1'"
     ]
    }
   ],
   "source": [
    "import module1"
   ]
  },
  {
   "cell_type": "markdown",
   "metadata": {},
   "source": [
    "Хм, module1.py не найден, при этом файл module1.cpython-37.pyc присутствует в папке __ pycache__. Странно."
   ]
  },
  {
   "cell_type": "code",
   "execution_count": 8,
   "metadata": {},
   "outputs": [],
   "source": [
    "from importlib import reload"
   ]
  },
  {
   "cell_type": "code",
   "execution_count": 9,
   "metadata": {},
   "outputs": [
    {
     "ename": "ModuleNotFoundError",
     "evalue": "spec not found for the module 'module1'",
     "output_type": "error",
     "traceback": [
      "\u001b[1;31m---------------------------------------------------------------------------\u001b[0m",
      "\u001b[1;31mModuleNotFoundError\u001b[0m                       Traceback (most recent call last)",
      "\u001b[1;32m<ipython-input-9-b212fd3aa46b>\u001b[0m in \u001b[0;36m<module>\u001b[1;34m\u001b[0m\n\u001b[1;32m----> 1\u001b[1;33m \u001b[0mreload\u001b[0m\u001b[1;33m(\u001b[0m\u001b[0mmodule1\u001b[0m\u001b[1;33m)\u001b[0m\u001b[1;33m\u001b[0m\u001b[1;33m\u001b[0m\u001b[0m\n\u001b[0m",
      "\u001b[1;32mC:\\Anaconda3\\lib\\importlib\\__init__.py\u001b[0m in \u001b[0;36mreload\u001b[1;34m(module)\u001b[0m\n\u001b[0;32m    166\u001b[0m         \u001b[0mspec\u001b[0m \u001b[1;33m=\u001b[0m \u001b[0mmodule\u001b[0m\u001b[1;33m.\u001b[0m\u001b[0m__spec__\u001b[0m \u001b[1;33m=\u001b[0m \u001b[0m_bootstrap\u001b[0m\u001b[1;33m.\u001b[0m\u001b[0m_find_spec\u001b[0m\u001b[1;33m(\u001b[0m\u001b[0mname\u001b[0m\u001b[1;33m,\u001b[0m \u001b[0mpkgpath\u001b[0m\u001b[1;33m,\u001b[0m \u001b[0mtarget\u001b[0m\u001b[1;33m)\u001b[0m\u001b[1;33m\u001b[0m\u001b[1;33m\u001b[0m\u001b[0m\n\u001b[0;32m    167\u001b[0m         \u001b[1;32mif\u001b[0m \u001b[0mspec\u001b[0m \u001b[1;32mis\u001b[0m \u001b[1;32mNone\u001b[0m\u001b[1;33m:\u001b[0m\u001b[1;33m\u001b[0m\u001b[1;33m\u001b[0m\u001b[0m\n\u001b[1;32m--> 168\u001b[1;33m             \u001b[1;32mraise\u001b[0m \u001b[0mModuleNotFoundError\u001b[0m\u001b[1;33m(\u001b[0m\u001b[1;34mf\"spec not found for the module {name!r}\"\u001b[0m\u001b[1;33m,\u001b[0m \u001b[0mname\u001b[0m\u001b[1;33m=\u001b[0m\u001b[0mname\u001b[0m\u001b[1;33m)\u001b[0m\u001b[1;33m\u001b[0m\u001b[1;33m\u001b[0m\u001b[0m\n\u001b[0m\u001b[0;32m    169\u001b[0m         \u001b[0m_bootstrap\u001b[0m\u001b[1;33m.\u001b[0m\u001b[0m_exec\u001b[0m\u001b[1;33m(\u001b[0m\u001b[0mspec\u001b[0m\u001b[1;33m,\u001b[0m \u001b[0mmodule\u001b[0m\u001b[1;33m)\u001b[0m\u001b[1;33m\u001b[0m\u001b[1;33m\u001b[0m\u001b[0m\n\u001b[0;32m    170\u001b[0m         \u001b[1;31m# The module may have replaced itself in sys.modules!\u001b[0m\u001b[1;33m\u001b[0m\u001b[1;33m\u001b[0m\u001b[1;33m\u001b[0m\u001b[0m\n",
      "\u001b[1;31mModuleNotFoundError\u001b[0m: spec not found for the module 'module1'"
     ]
    }
   ],
   "source": [
    "reload(module1)"
   ]
  },
  {
   "cell_type": "markdown",
   "metadata": {},
   "source": [
    "Если файл module1.cpython-37.pyc перенести из папки __ pycache__ в текущую папку, и переименовть его в module1.pyc, то import заработает:"
   ]
  },
  {
   "cell_type": "code",
   "execution_count": 7,
   "metadata": {},
   "outputs": [],
   "source": [
    "import module1"
   ]
  },
  {
   "cell_type": "markdown",
   "metadata": {},
   "source": [
    "Поиск в гугле не дал ответ на вопрос, почему не происходит импорта без этих действий."
   ]
  },
  {
   "cell_type": "markdown",
   "metadata": {},
   "source": [
    "__№5__"
   ]
  },
  {
   "cell_type": "code",
   "execution_count": 11,
   "metadata": {},
   "outputs": [
    {
     "data": {
      "text/plain": [
       "3273390607896141870013189696827599152216642046043064789483291368096133796404674554883270092325904157150886684127560071009217256545885393053328527589376"
      ]
     },
     "execution_count": 11,
     "metadata": {},
     "output_type": "execute_result"
    }
   ],
   "source": [
    "2 ** 500"
   ]
  },
  {
   "cell_type": "code",
   "execution_count": 12,
   "metadata": {},
   "outputs": [
    {
     "ename": "ZeroDivisionError",
     "evalue": "division by zero",
     "output_type": "error",
     "traceback": [
      "\u001b[1;31m---------------------------------------------------------------------------\u001b[0m",
      "\u001b[1;31mZeroDivisionError\u001b[0m                         Traceback (most recent call last)",
      "\u001b[1;32m<ipython-input-12-bc757c3fda29>\u001b[0m in \u001b[0;36m<module>\u001b[1;34m\u001b[0m\n\u001b[1;32m----> 1\u001b[1;33m \u001b[1;36m1\u001b[0m \u001b[1;33m/\u001b[0m \u001b[1;36m0\u001b[0m\u001b[1;33m\u001b[0m\u001b[1;33m\u001b[0m\u001b[0m\n\u001b[0m",
      "\u001b[1;31mZeroDivisionError\u001b[0m: division by zero"
     ]
    }
   ],
   "source": [
    "1 / 0"
   ]
  },
  {
   "cell_type": "code",
   "execution_count": 13,
   "metadata": {},
   "outputs": [
    {
     "ename": "NameError",
     "evalue": "name 'п' is not defined",
     "output_type": "error",
     "traceback": [
      "\u001b[1;31m---------------------------------------------------------------------------\u001b[0m",
      "\u001b[1;31mNameError\u001b[0m                                 Traceback (most recent call last)",
      "\u001b[1;32m<ipython-input-13-a97fdb127282>\u001b[0m in \u001b[0;36m<module>\u001b[1;34m\u001b[0m\n\u001b[1;32m----> 1\u001b[1;33m \u001b[0mп\u001b[0m\u001b[1;33m\u001b[0m\u001b[1;33m\u001b[0m\u001b[0m\n\u001b[0m",
      "\u001b[1;31mNameError\u001b[0m: name 'п' is not defined"
     ]
    }
   ],
   "source": [
    "п"
   ]
  },
  {
   "cell_type": "markdown",
   "metadata": {},
   "source": [
    "__№6__"
   ]
  },
  {
   "cell_type": "code",
   "execution_count": 14,
   "metadata": {},
   "outputs": [
    {
     "data": {
      "text/plain": [
       "[1, 2, [...]]"
      ]
     },
     "execution_count": 14,
     "metadata": {},
     "output_type": "execute_result"
    }
   ],
   "source": [
    "L = [1, 2]\n",
    "L.append(L)\n",
    "L"
   ]
  },
  {
   "cell_type": "markdown",
   "metadata": {},
   "source": [
    "# Часть II. Типы и операции"
   ]
  },
  {
   "cell_type": "markdown",
   "metadata": {},
   "source": [
    "# Глава 4. Введение в типы объектов Python"
   ]
  },
  {
   "cell_type": "markdown",
   "metadata": {},
   "source": [
    "..."
   ]
  },
  {
   "cell_type": "markdown",
   "metadata": {},
   "source": [
    "## Числа"
   ]
  },
  {
   "cell_type": "code",
   "execution_count": 15,
   "metadata": {},
   "outputs": [
    {
     "data": {
      "text/plain": [
       "354"
      ]
     },
     "execution_count": 15,
     "metadata": {},
     "output_type": "execute_result"
    }
   ],
   "source": [
    "132+222"
   ]
  },
  {
   "cell_type": "code",
   "execution_count": 16,
   "metadata": {},
   "outputs": [
    {
     "data": {
      "text/plain": [
       "6.0"
      ]
     },
     "execution_count": 16,
     "metadata": {},
     "output_type": "execute_result"
    }
   ],
   "source": [
    "1.5 * 4"
   ]
  },
  {
   "cell_type": "code",
   "execution_count": 17,
   "metadata": {},
   "outputs": [
    {
     "data": {
      "text/plain": [
       "1267650600228229401496703205376"
      ]
     },
     "execution_count": 17,
     "metadata": {},
     "output_type": "execute_result"
    }
   ],
   "source": [
    "2 ** 100"
   ]
  },
  {
   "cell_type": "code",
   "execution_count": 18,
   "metadata": {},
   "outputs": [
    {
     "data": {
      "text/plain": [
       "301030"
      ]
     },
     "execution_count": 18,
     "metadata": {},
     "output_type": "execute_result"
    }
   ],
   "source": [
    "len(str(2 ** 1000000))"
   ]
  },
  {
   "cell_type": "code",
   "execution_count": 118,
   "metadata": {},
   "outputs": [
    {
     "data": {
      "text/plain": [
       "6.283"
      ]
     },
     "execution_count": 118,
     "metadata": {},
     "output_type": "execute_result"
    }
   ],
   "source": [
    "3.1415 * 2"
   ]
  },
  {
   "cell_type": "code",
   "execution_count": 119,
   "metadata": {},
   "outputs": [
    {
     "name": "stdout",
     "output_type": "stream",
     "text": [
      "6.283\n"
     ]
    }
   ],
   "source": [
    "print(3.1415 * 2)"
   ]
  },
  {
   "cell_type": "markdown",
   "metadata": {},
   "source": [
    "__math__"
   ]
  },
  {
   "cell_type": "code",
   "execution_count": 22,
   "metadata": {},
   "outputs": [],
   "source": [
    "import math"
   ]
  },
  {
   "cell_type": "code",
   "execution_count": 23,
   "metadata": {},
   "outputs": [
    {
     "data": {
      "text/plain": [
       "3.141592653589793"
      ]
     },
     "execution_count": 23,
     "metadata": {},
     "output_type": "execute_result"
    }
   ],
   "source": [
    "math.pi"
   ]
  },
  {
   "cell_type": "code",
   "execution_count": 21,
   "metadata": {},
   "outputs": [
    {
     "data": {
      "text/plain": [
       "9.219544457292887"
      ]
     },
     "execution_count": 21,
     "metadata": {},
     "output_type": "execute_result"
    }
   ],
   "source": [
    "math.sqrt(85)"
   ]
  },
  {
   "cell_type": "markdown",
   "metadata": {},
   "source": [
    "__random__"
   ]
  },
  {
   "cell_type": "code",
   "execution_count": 24,
   "metadata": {},
   "outputs": [],
   "source": [
    "import random"
   ]
  },
  {
   "cell_type": "code",
   "execution_count": 26,
   "metadata": {},
   "outputs": [
    {
     "data": {
      "text/plain": [
       "0.9992680843689765"
      ]
     },
     "execution_count": 26,
     "metadata": {},
     "output_type": "execute_result"
    }
   ],
   "source": [
    "random.random()  # случ. число из диапазона (0, 1)"
   ]
  },
  {
   "cell_type": "code",
   "execution_count": 27,
   "metadata": {},
   "outputs": [
    {
     "data": {
      "text/plain": [
       "3"
      ]
     },
     "execution_count": 27,
     "metadata": {},
     "output_type": "execute_result"
    }
   ],
   "source": [
    "random.choice([1, 2, 3, 4])"
   ]
  },
  {
   "cell_type": "markdown",
   "metadata": {},
   "source": [
    "## Строки"
   ]
  },
  {
   "cell_type": "markdown",
   "metadata": {},
   "source": [
    "### Операции над последовательностями"
   ]
  },
  {
   "cell_type": "code",
   "execution_count": 28,
   "metadata": {},
   "outputs": [],
   "source": [
    "S = 'Spam'"
   ]
  },
  {
   "cell_type": "code",
   "execution_count": 29,
   "metadata": {},
   "outputs": [
    {
     "data": {
      "text/plain": [
       "4"
      ]
     },
     "execution_count": 29,
     "metadata": {},
     "output_type": "execute_result"
    }
   ],
   "source": [
    "len(S)"
   ]
  },
  {
   "cell_type": "code",
   "execution_count": 30,
   "metadata": {},
   "outputs": [
    {
     "data": {
      "text/plain": [
       "'S'"
      ]
     },
     "execution_count": 30,
     "metadata": {},
     "output_type": "execute_result"
    }
   ],
   "source": [
    "S[0]"
   ]
  },
  {
   "cell_type": "code",
   "execution_count": 31,
   "metadata": {},
   "outputs": [
    {
     "data": {
      "text/plain": [
       "'p'"
      ]
     },
     "execution_count": 31,
     "metadata": {},
     "output_type": "execute_result"
    }
   ],
   "source": [
    "S[1]"
   ]
  },
  {
   "cell_type": "code",
   "execution_count": 32,
   "metadata": {},
   "outputs": [
    {
     "data": {
      "text/plain": [
       "'m'"
      ]
     },
     "execution_count": 32,
     "metadata": {},
     "output_type": "execute_result"
    }
   ],
   "source": [
    "S[-1]"
   ]
  },
  {
   "cell_type": "markdown",
   "metadata": {},
   "source": [
    "Формально __отрицательный индекс добавляется к длине строки__:"
   ]
  },
  {
   "cell_type": "code",
   "execution_count": 33,
   "metadata": {},
   "outputs": [
    {
     "data": {
      "text/plain": [
       "'m'"
      ]
     },
     "execution_count": 33,
     "metadata": {},
     "output_type": "execute_result"
    }
   ],
   "source": [
    "S[len(S)-1] # Отрицательная индексация, сложный путь"
   ]
  },
  {
   "cell_type": "code",
   "execution_count": 34,
   "metadata": {},
   "outputs": [
    {
     "data": {
      "text/plain": [
       "'Spam'"
      ]
     },
     "execution_count": 34,
     "metadata": {},
     "output_type": "execute_result"
    }
   ],
   "source": [
    "S"
   ]
  },
  {
   "cell_type": "code",
   "execution_count": 36,
   "metadata": {},
   "outputs": [
    {
     "data": {
      "text/plain": [
       "'pa'"
      ]
     },
     "execution_count": 36,
     "metadata": {},
     "output_type": "execute_result"
    }
   ],
   "source": [
    "S[1:3]"
   ]
  },
  {
   "cell_type": "code",
   "execution_count": 37,
   "metadata": {},
   "outputs": [
    {
     "data": {
      "text/plain": [
       "'pam'"
      ]
     },
     "execution_count": 37,
     "metadata": {},
     "output_type": "execute_result"
    }
   ],
   "source": [
    "S[1:]"
   ]
  },
  {
   "cell_type": "code",
   "execution_count": 38,
   "metadata": {},
   "outputs": [
    {
     "data": {
      "text/plain": [
       "'Spam'"
      ]
     },
     "execution_count": 38,
     "metadata": {},
     "output_type": "execute_result"
    }
   ],
   "source": [
    "S"
   ]
  },
  {
   "cell_type": "code",
   "execution_count": 39,
   "metadata": {},
   "outputs": [
    {
     "data": {
      "text/plain": [
       "'Spa'"
      ]
     },
     "execution_count": 39,
     "metadata": {},
     "output_type": "execute_result"
    }
   ],
   "source": [
    "S[0:3]"
   ]
  },
  {
   "cell_type": "code",
   "execution_count": 40,
   "metadata": {},
   "outputs": [
    {
     "data": {
      "text/plain": [
       "'Spa'"
      ]
     },
     "execution_count": 40,
     "metadata": {},
     "output_type": "execute_result"
    }
   ],
   "source": [
    "S[:3]"
   ]
  },
  {
   "cell_type": "code",
   "execution_count": 41,
   "metadata": {},
   "outputs": [
    {
     "data": {
      "text/plain": [
       "'Spa'"
      ]
     },
     "execution_count": 41,
     "metadata": {},
     "output_type": "execute_result"
    }
   ],
   "source": [
    "S[:-1]"
   ]
  },
  {
   "cell_type": "code",
   "execution_count": 42,
   "metadata": {},
   "outputs": [
    {
     "data": {
      "text/plain": [
       "'Spam'"
      ]
     },
     "execution_count": 42,
     "metadata": {},
     "output_type": "execute_result"
    }
   ],
   "source": [
    "S[:]  # копия строки, но это копироние строки не имеет смысла, по словам автора"
   ]
  },
  {
   "cell_type": "code",
   "execution_count": 45,
   "metadata": {},
   "outputs": [
    {
     "data": {
      "text/plain": [
       "'Spam'"
      ]
     },
     "execution_count": 45,
     "metadata": {},
     "output_type": "execute_result"
    }
   ],
   "source": [
    "S"
   ]
  },
  {
   "cell_type": "code",
   "execution_count": 43,
   "metadata": {},
   "outputs": [
    {
     "data": {
      "text/plain": [
       "'Spamxyz'"
      ]
     },
     "execution_count": 43,
     "metadata": {},
     "output_type": "execute_result"
    }
   ],
   "source": [
    "S + 'xyz' # Конкатенация"
   ]
  },
  {
   "cell_type": "code",
   "execution_count": 44,
   "metadata": {},
   "outputs": [
    {
     "data": {
      "text/plain": [
       "'Spam'"
      ]
     },
     "execution_count": 44,
     "metadata": {},
     "output_type": "execute_result"
    }
   ],
   "source": [
    "S # S не изменяется"
   ]
  },
  {
   "cell_type": "code",
   "execution_count": 46,
   "metadata": {},
   "outputs": [
    {
     "data": {
      "text/plain": [
       "'SpamSpamSpamSpamSpamSpamSpamSpam'"
      ]
     },
     "execution_count": 46,
     "metadata": {},
     "output_type": "execute_result"
    }
   ],
   "source": [
    "S * 8 # Повторение"
   ]
  },
  {
   "cell_type": "markdown",
   "metadata": {},
   "source": [
    "## Неизменяемость"
   ]
  },
  {
   "cell_type": "code",
   "execution_count": 47,
   "metadata": {},
   "outputs": [
    {
     "data": {
      "text/plain": [
       "'Spam'"
      ]
     },
     "execution_count": 47,
     "metadata": {},
     "output_type": "execute_result"
    }
   ],
   "source": [
    "S"
   ]
  },
  {
   "cell_type": "code",
   "execution_count": 48,
   "metadata": {},
   "outputs": [
    {
     "ename": "TypeError",
     "evalue": "'str' object does not support item assignment",
     "output_type": "error",
     "traceback": [
      "\u001b[1;31m---------------------------------------------------------------------------\u001b[0m",
      "\u001b[1;31mTypeError\u001b[0m                                 Traceback (most recent call last)",
      "\u001b[1;32m<ipython-input-48-0db6cb5bde2e>\u001b[0m in \u001b[0;36m<module>\u001b[1;34m\u001b[0m\n\u001b[1;32m----> 1\u001b[1;33m \u001b[0mS\u001b[0m\u001b[1;33m[\u001b[0m\u001b[1;36m0\u001b[0m\u001b[1;33m]\u001b[0m \u001b[1;33m=\u001b[0m \u001b[1;34m'z'\u001b[0m\u001b[1;33m\u001b[0m\u001b[1;33m\u001b[0m\u001b[0m\n\u001b[0m",
      "\u001b[1;31mTypeError\u001b[0m: 'str' object does not support item assignment"
     ]
    }
   ],
   "source": [
    "S[0] = 'z' # Неизменяемые объект модифицировать нельзя"
   ]
  },
  {
   "cell_type": "markdown",
   "metadata": {},
   "source": [
    "Но мы можем выполнять выражения для создания новых объектов:"
   ]
  },
  {
   "cell_type": "code",
   "execution_count": 49,
   "metadata": {},
   "outputs": [],
   "source": [
    "S = 'z' + S[1:]"
   ]
  },
  {
   "cell_type": "markdown",
   "metadata": {},
   "source": [
    "Первый способ изменения строки _на месте_ :"
   ]
  },
  {
   "cell_type": "code",
   "execution_count": 51,
   "metadata": {},
   "outputs": [
    {
     "data": {
      "text/plain": [
       "['s', 'h', 'r', 'u', 'b', 'b', 'e', 'r', 'r', 'y']"
      ]
     },
     "execution_count": 51,
     "metadata": {},
     "output_type": "execute_result"
    }
   ],
   "source": [
    "S = 'shrubberry'\n",
    "L = list(S) # Развернуть в список\n",
    "L"
   ]
  },
  {
   "cell_type": "code",
   "execution_count": 54,
   "metadata": {},
   "outputs": [
    {
     "data": {
      "text/plain": [
       "'scrubberry'"
      ]
     },
     "execution_count": 54,
     "metadata": {},
     "output_type": "execute_result"
    }
   ],
   "source": [
    "L[1] = 'c'\n",
    "''.join(L)"
   ]
  },
  {
   "cell_type": "markdown",
   "metadata": {},
   "source": [
    "Второй способ изменения строки на _месте_ - с помощью bytearray, но только в отношении __символов, которые имеют ширину не более 8 битов__ (например, ASCII):"
   ]
  },
  {
   "cell_type": "code",
   "execution_count": 56,
   "metadata": {},
   "outputs": [
    {
     "data": {
      "text/plain": [
       "bytearray(b'spameggs')"
      ]
     },
     "execution_count": 56,
     "metadata": {},
     "output_type": "execute_result"
    }
   ],
   "source": [
    "B = bytearray(b'spam') # гибрид неизмен. байтовых строк и списков\n",
    "B.extend(b'eggs')\n",
    "B"
   ]
  },
  {
   "cell_type": "code",
   "execution_count": 57,
   "metadata": {},
   "outputs": [
    {
     "data": {
      "text/plain": [
       "bytearray(b'Spameggs')"
      ]
     },
     "execution_count": 57,
     "metadata": {},
     "output_type": "execute_result"
    }
   ],
   "source": [
    "B[0] = ord('S')\n",
    "B"
   ]
  },
  {
   "cell_type": "code",
   "execution_count": 58,
   "metadata": {},
   "outputs": [
    {
     "data": {
      "text/plain": [
       "'Spameggs'"
      ]
     },
     "execution_count": 58,
     "metadata": {},
     "output_type": "execute_result"
    }
   ],
   "source": [
    "B.decode()  # Преобразовать в обычную строку"
   ]
  },
  {
   "cell_type": "markdown",
   "metadata": {},
   "source": [
    "### Методы, специфичные для типа [str]"
   ]
  },
  {
   "cell_type": "code",
   "execution_count": 59,
   "metadata": {},
   "outputs": [],
   "source": [
    "S = 'Spam'"
   ]
  },
  {
   "cell_type": "code",
   "execution_count": 60,
   "metadata": {},
   "outputs": [
    {
     "data": {
      "text/plain": [
       "1"
      ]
     },
     "execution_count": 60,
     "metadata": {},
     "output_type": "execute_result"
    }
   ],
   "source": [
    "S.find('pa') # Найти смещение подстроки в S"
   ]
  },
  {
   "cell_type": "code",
   "execution_count": 62,
   "metadata": {},
   "outputs": [
    {
     "data": {
      "text/plain": [
       "'Spam'"
      ]
     },
     "execution_count": 62,
     "metadata": {},
     "output_type": "execute_result"
    }
   ],
   "source": [
    "S"
   ]
  },
  {
   "cell_type": "code",
   "execution_count": 63,
   "metadata": {},
   "outputs": [
    {
     "data": {
      "text/plain": [
       "'SXYZm'"
      ]
     },
     "execution_count": 63,
     "metadata": {},
     "output_type": "execute_result"
    }
   ],
   "source": [
    "S.replace('pa', 'XYZ') # Заменить вхождения подстроки в S другой подстрокой"
   ]
  },
  {
   "cell_type": "code",
   "execution_count": 64,
   "metadata": {},
   "outputs": [
    {
     "data": {
      "text/plain": [
       "'Spam'"
      ]
     },
     "execution_count": 64,
     "metadata": {},
     "output_type": "execute_result"
    }
   ],
   "source": [
    "S"
   ]
  },
  {
   "cell_type": "code",
   "execution_count": 65,
   "metadata": {},
   "outputs": [
    {
     "data": {
      "text/plain": [
       "['aaa', 'bbb', 'cccc', 'dd']"
      ]
     },
     "execution_count": 65,
     "metadata": {},
     "output_type": "execute_result"
    }
   ],
   "source": [
    "line = 'aaa,bbb,cccc,dd'\n",
    "line.split(',') # Разбить по разделителю в список подстрок"
   ]
  },
  {
   "cell_type": "code",
   "execution_count": 66,
   "metadata": {},
   "outputs": [
    {
     "data": {
      "text/plain": [
       "'SPAM'"
      ]
     },
     "execution_count": 66,
     "metadata": {},
     "output_type": "execute_result"
    }
   ],
   "source": [
    "S = 'spam'\n",
    "S.upper()"
   ]
  },
  {
   "cell_type": "code",
   "execution_count": 68,
   "metadata": {},
   "outputs": [
    {
     "data": {
      "text/plain": [
       "True"
      ]
     },
     "execution_count": 68,
     "metadata": {},
     "output_type": "execute_result"
    }
   ],
   "source": [
    "S.isalpha() # Проверить содержимое: isalpha, isdigit и т.д."
   ]
  },
  {
   "cell_type": "code",
   "execution_count": 70,
   "metadata": {},
   "outputs": [
    {
     "data": {
      "text/plain": [
       "'aaa,bbb,cccc,dd'"
      ]
     },
     "execution_count": 70,
     "metadata": {},
     "output_type": "execute_result"
    }
   ],
   "source": [
    "line = 'aaa,bbb,cccc,dd\\n'\n",
    "line.rstrip()  # Удалить пробельные символы с правой стороны"
   ]
  },
  {
   "cell_type": "code",
   "execution_count": 71,
   "metadata": {},
   "outputs": [
    {
     "data": {
      "text/plain": [
       "['aaa', 'bbb', 'cccc', 'dd']"
      ]
     },
     "execution_count": 71,
     "metadata": {},
     "output_type": "execute_result"
    }
   ],
   "source": [
    "line.rstrip().split(',') # Скомбинировать две операции (слева направо)"
   ]
  },
  {
   "cell_type": "markdown",
   "metadata": {},
   "source": [
    "__Форматирование строк__:"
   ]
  },
  {
   "cell_type": "markdown",
   "metadata": {},
   "source": [
    "1-й способ с выраженеим форматирования:"
   ]
  },
  {
   "cell_type": "code",
   "execution_count": 73,
   "metadata": {},
   "outputs": [
    {
     "data": {
      "text/plain": [
       "'spam, eggs, and SPAM!'"
      ]
     },
     "execution_count": 73,
     "metadata": {},
     "output_type": "execute_result"
    }
   ],
   "source": [
    "'%s, eggs, and %s' % ('spam', 'SPAM!') # Выражение форматирования\n",
    "                                       # (все версии Python) (изначальный способ)"
   ]
  },
  {
   "cell_type": "markdown",
   "metadata": {},
   "source": [
    "2-й способ через вызов метода format:"
   ]
  },
  {
   "cell_type": "code",
   "execution_count": 74,
   "metadata": {},
   "outputs": [
    {
     "data": {
      "text/plain": [
       "'spam, eggs, and SPAM!'"
      ]
     },
     "execution_count": 74,
     "metadata": {},
     "output_type": "execute_result"
    }
   ],
   "source": [
    "'{0}, eggs, and {1}'.format('spam', 'SPAM!') # Метод форматирования\n",
    "                                             # (2.6+, 3.0+)"
   ]
  },
  {
   "cell_type": "code",
   "execution_count": 75,
   "metadata": {},
   "outputs": [
    {
     "data": {
      "text/plain": [
       "'spam, eggs, and SPAM!'"
      ]
     },
     "execution_count": 75,
     "metadata": {},
     "output_type": "execute_result"
    }
   ],
   "source": [
    "'{}, eggs, and {}'.format('spam', 'SPAM!') # Метод форматирования\n",
    "                                             # (2.7+, 3.1+)"
   ]
  },
  {
   "cell_type": "markdown",
   "metadata": {},
   "source": [
    "f-строки:"
   ]
  },
  {
   "cell_type": "code",
   "execution_count": 81,
   "metadata": {},
   "outputs": [
    {
     "data": {
      "text/plain": [
       "'spam, eggs, and SPAM!'"
      ]
     },
     "execution_count": 81,
     "metadata": {},
     "output_type": "execute_result"
    }
   ],
   "source": [
    "a = 'spam'\n",
    "b = 'SPAM!'\n",
    "f'{a}, eggs, and {b}'"
   ]
  },
  {
   "cell_type": "markdown",
   "metadata": {},
   "source": [
    "Отображение (форматирование) чисел:"
   ]
  },
  {
   "cell_type": "code",
   "execution_count": 76,
   "metadata": {},
   "outputs": [
    {
     "data": {
      "text/plain": [
       "'296,999.26'"
      ]
     },
     "execution_count": 76,
     "metadata": {},
     "output_type": "execute_result"
    }
   ],
   "source": [
    "'{:,.2f}'.format(296999.2567) # Разделители, десятичные цифры"
   ]
  },
  {
   "cell_type": "code",
   "execution_count": 82,
   "metadata": {},
   "outputs": [
    {
     "data": {
      "text/plain": [
       "'296,999.26'"
      ]
     },
     "execution_count": 82,
     "metadata": {},
     "output_type": "execute_result"
    }
   ],
   "source": [
    "num = 296999.2567\n",
    "f'{(num):,.2f}'"
   ]
  },
  {
   "cell_type": "code",
   "execution_count": 83,
   "metadata": {},
   "outputs": [
    {
     "data": {
      "text/plain": [
       "'296,999.26'"
      ]
     },
     "execution_count": 83,
     "metadata": {},
     "output_type": "execute_result"
    }
   ],
   "source": [
    "f'{(296999.2567):,.2f}'"
   ]
  },
  {
   "cell_type": "code",
   "execution_count": 86,
   "metadata": {},
   "outputs": [
    {
     "data": {
      "text/plain": [
       "'3.14 | -0042'"
      ]
     },
     "execution_count": 86,
     "metadata": {},
     "output_type": "execute_result"
    }
   ],
   "source": [
    "'%.2f | %+05d' % (3.14159, -42) # Цифры, дополнение, знаки"
   ]
  },
  {
   "cell_type": "code",
   "execution_count": 89,
   "metadata": {},
   "outputs": [
    {
     "data": {
      "text/plain": [
       "'3.14 | -0042'"
      ]
     },
     "execution_count": 89,
     "metadata": {},
     "output_type": "execute_result"
    }
   ],
   "source": [
    "num1, num2 = 3.14159, -42 \n",
    "f'{(num1):.2f} | {(num2):+05d}'"
   ]
  },
  {
   "cell_type": "markdown",
   "metadata": {},
   "source": [
    "### Получение справки"
   ]
  },
  {
   "cell_type": "markdown",
   "metadata": {},
   "source": [
    "Когда __функция dir__ вызывается без аргументов, она выводит список переменных, присвоенных в области видимости вызывающего объекта (т.е. аргументы вызывающего объекта):"
   ]
  },
  {
   "cell_type": "code",
   "execution_count": 94,
   "metadata": {},
   "outputs": [
    {
     "data": {
      "text/plain": [
       "['B',\n",
       " 'In',\n",
       " 'L',\n",
       " 'Out',\n",
       " 'S',\n",
       " '_',\n",
       " '_10',\n",
       " '_11',\n",
       " '_14',\n",
       " '_15',\n",
       " '_16',\n",
       " '_17',\n",
       " '_18',\n",
       " '_20',\n",
       " '_21',\n",
       " '_23',\n",
       " '_25',\n",
       " '_26',\n",
       " '_27',\n",
       " '_29',\n",
       " '_30',\n",
       " '_31',\n",
       " '_32',\n",
       " '_33',\n",
       " '_34',\n",
       " '_35',\n",
       " '_36',\n",
       " '_37',\n",
       " '_38',\n",
       " '_39',\n",
       " '_40',\n",
       " '_41',\n",
       " '_42',\n",
       " '_43',\n",
       " '_44',\n",
       " '_45',\n",
       " '_46',\n",
       " '_47',\n",
       " '_51',\n",
       " '_53',\n",
       " '_54',\n",
       " '_56',\n",
       " '_57',\n",
       " '_58',\n",
       " '_60',\n",
       " '_62',\n",
       " '_63',\n",
       " '_64',\n",
       " '_65',\n",
       " '_66',\n",
       " '_68',\n",
       " '_70',\n",
       " '_71',\n",
       " '_73',\n",
       " '_74',\n",
       " '_75',\n",
       " '_76',\n",
       " '_81',\n",
       " '_82',\n",
       " '_83',\n",
       " '_85',\n",
       " '_86',\n",
       " '_89',\n",
       " '_90',\n",
       " '_91',\n",
       " '_92',\n",
       " '_93',\n",
       " '__',\n",
       " '___',\n",
       " '__builtin__',\n",
       " '__builtins__',\n",
       " '__doc__',\n",
       " '__loader__',\n",
       " '__name__',\n",
       " '__package__',\n",
       " '__spec__',\n",
       " '_dh',\n",
       " '_i',\n",
       " '_i1',\n",
       " '_i10',\n",
       " '_i11',\n",
       " '_i12',\n",
       " '_i13',\n",
       " '_i14',\n",
       " '_i15',\n",
       " '_i16',\n",
       " '_i17',\n",
       " '_i18',\n",
       " '_i19',\n",
       " '_i2',\n",
       " '_i20',\n",
       " '_i21',\n",
       " '_i22',\n",
       " '_i23',\n",
       " '_i24',\n",
       " '_i25',\n",
       " '_i26',\n",
       " '_i27',\n",
       " '_i28',\n",
       " '_i29',\n",
       " '_i3',\n",
       " '_i30',\n",
       " '_i31',\n",
       " '_i32',\n",
       " '_i33',\n",
       " '_i34',\n",
       " '_i35',\n",
       " '_i36',\n",
       " '_i37',\n",
       " '_i38',\n",
       " '_i39',\n",
       " '_i4',\n",
       " '_i40',\n",
       " '_i41',\n",
       " '_i42',\n",
       " '_i43',\n",
       " '_i44',\n",
       " '_i45',\n",
       " '_i46',\n",
       " '_i47',\n",
       " '_i48',\n",
       " '_i49',\n",
       " '_i5',\n",
       " '_i50',\n",
       " '_i51',\n",
       " '_i52',\n",
       " '_i53',\n",
       " '_i54',\n",
       " '_i55',\n",
       " '_i56',\n",
       " '_i57',\n",
       " '_i58',\n",
       " '_i59',\n",
       " '_i6',\n",
       " '_i60',\n",
       " '_i61',\n",
       " '_i62',\n",
       " '_i63',\n",
       " '_i64',\n",
       " '_i65',\n",
       " '_i66',\n",
       " '_i67',\n",
       " '_i68',\n",
       " '_i69',\n",
       " '_i7',\n",
       " '_i70',\n",
       " '_i71',\n",
       " '_i72',\n",
       " '_i73',\n",
       " '_i74',\n",
       " '_i75',\n",
       " '_i76',\n",
       " '_i77',\n",
       " '_i78',\n",
       " '_i79',\n",
       " '_i8',\n",
       " '_i80',\n",
       " '_i81',\n",
       " '_i82',\n",
       " '_i83',\n",
       " '_i84',\n",
       " '_i85',\n",
       " '_i86',\n",
       " '_i87',\n",
       " '_i88',\n",
       " '_i89',\n",
       " '_i9',\n",
       " '_i90',\n",
       " '_i91',\n",
       " '_i92',\n",
       " '_i93',\n",
       " '_i94',\n",
       " '_ih',\n",
       " '_ii',\n",
       " '_iii',\n",
       " '_oh',\n",
       " 'a',\n",
       " 'b',\n",
       " 'exit',\n",
       " 'get_ipython',\n",
       " 'line',\n",
       " 'math',\n",
       " 'module1',\n",
       " 'num',\n",
       " 'num1',\n",
       " 'num2',\n",
       " 'quit',\n",
       " 'random',\n",
       " 'reload']"
      ]
     },
     "execution_count": 94,
     "metadata": {},
     "output_type": "execute_result"
    }
   ],
   "source": [
    "dir()"
   ]
  },
  {
   "cell_type": "code",
   "execution_count": 96,
   "metadata": {},
   "outputs": [
    {
     "name": "stdout",
     "output_type": "stream",
     "text": [
      "['a', 'b']\n"
     ]
    }
   ],
   "source": [
    "def func():\n",
    "    a = 1\n",
    "    b = 2\n",
    "    print(dir())\n",
    "    \n",
    "func()"
   ]
  },
  {
   "cell_type": "markdown",
   "metadata": {},
   "source": [
    "Но функция dir, вызванная с аргументом, возвращает список всех атрибутов, доступных для любого переданного ей объета."
   ]
  },
  {
   "cell_type": "code",
   "execution_count": 90,
   "metadata": {},
   "outputs": [
    {
     "data": {
      "text/plain": [
       "'spam'"
      ]
     },
     "execution_count": 90,
     "metadata": {},
     "output_type": "execute_result"
    }
   ],
   "source": [
    "S"
   ]
  },
  {
   "cell_type": "markdown",
   "metadata": {},
   "source": [
    "Вывести все методы (атрибуты) объекта S:"
   ]
  },
  {
   "cell_type": "code",
   "execution_count": 91,
   "metadata": {},
   "outputs": [
    {
     "data": {
      "text/plain": [
       "['__add__',\n",
       " '__class__',\n",
       " '__contains__',\n",
       " '__delattr__',\n",
       " '__dir__',\n",
       " '__doc__',\n",
       " '__eq__',\n",
       " '__format__',\n",
       " '__ge__',\n",
       " '__getattribute__',\n",
       " '__getitem__',\n",
       " '__getnewargs__',\n",
       " '__gt__',\n",
       " '__hash__',\n",
       " '__init__',\n",
       " '__init_subclass__',\n",
       " '__iter__',\n",
       " '__le__',\n",
       " '__len__',\n",
       " '__lt__',\n",
       " '__mod__',\n",
       " '__mul__',\n",
       " '__ne__',\n",
       " '__new__',\n",
       " '__reduce__',\n",
       " '__reduce_ex__',\n",
       " '__repr__',\n",
       " '__rmod__',\n",
       " '__rmul__',\n",
       " '__setattr__',\n",
       " '__sizeof__',\n",
       " '__str__',\n",
       " '__subclasshook__',\n",
       " 'capitalize',\n",
       " 'casefold',\n",
       " 'center',\n",
       " 'count',\n",
       " 'encode',\n",
       " 'endswith',\n",
       " 'expandtabs',\n",
       " 'find',\n",
       " 'format',\n",
       " 'format_map',\n",
       " 'index',\n",
       " 'isalnum',\n",
       " 'isalpha',\n",
       " 'isascii',\n",
       " 'isdecimal',\n",
       " 'isdigit',\n",
       " 'isidentifier',\n",
       " 'islower',\n",
       " 'isnumeric',\n",
       " 'isprintable',\n",
       " 'isspace',\n",
       " 'istitle',\n",
       " 'isupper',\n",
       " 'join',\n",
       " 'ljust',\n",
       " 'lower',\n",
       " 'lstrip',\n",
       " 'maketrans',\n",
       " 'partition',\n",
       " 'replace',\n",
       " 'rfind',\n",
       " 'rindex',\n",
       " 'rjust',\n",
       " 'rpartition',\n",
       " 'rsplit',\n",
       " 'rstrip',\n",
       " 'split',\n",
       " 'splitlines',\n",
       " 'startswith',\n",
       " 'strip',\n",
       " 'swapcase',\n",
       " 'title',\n",
       " 'translate',\n",
       " 'upper',\n",
       " 'zfill']"
      ]
     },
     "execution_count": 91,
     "metadata": {},
     "output_type": "execute_result"
    }
   ],
   "source": [
    "dir(S)"
   ]
  },
  {
   "cell_type": "code",
   "execution_count": 92,
   "metadata": {},
   "outputs": [
    {
     "data": {
      "text/plain": [
       "'spamNI!'"
      ]
     },
     "execution_count": 92,
     "metadata": {},
     "output_type": "execute_result"
    }
   ],
   "source": [
    "S + 'NI!'"
   ]
  },
  {
   "cell_type": "markdown",
   "metadata": {},
   "source": [
    "Конкатенация строк в действительности выполняется с помощью метода __ add__:"
   ]
  },
  {
   "cell_type": "code",
   "execution_count": 93,
   "metadata": {},
   "outputs": [
    {
     "data": {
      "text/plain": [
       "'spamNI!'"
      ]
     },
     "execution_count": 93,
     "metadata": {},
     "output_type": "execute_result"
    }
   ],
   "source": [
    "S.__add__('NI!')"
   ]
  },
  {
   "cell_type": "markdown",
   "metadata": {},
   "source": [
    "Чтобы выяснить, что делает тот или иной метод, его имя можео передать __функции help__:"
   ]
  },
  {
   "cell_type": "code",
   "execution_count": 97,
   "metadata": {},
   "outputs": [
    {
     "name": "stdout",
     "output_type": "stream",
     "text": [
      "Help on built-in function replace:\n",
      "\n",
      "replace(old, new, count=-1, /) method of builtins.str instance\n",
      "    Return a copy with all occurrences of substring old replaced by new.\n",
      "    \n",
      "      count\n",
      "        Maximum number of occurrences to replace.\n",
      "        -1 (the default value) means replace all occurrences.\n",
      "    \n",
      "    If the optional argument count is given, only the first count occurrences are\n",
      "    replaced.\n",
      "\n"
     ]
    }
   ],
   "source": [
    "help(S.replace)"
   ]
  },
  {
   "cell_type": "code",
   "execution_count": 99,
   "metadata": {},
   "outputs": [
    {
     "name": "stdout",
     "output_type": "stream",
     "text": [
      "No Python documentation found for 'spam'.\n",
      "Use help() to get the interactive help utility.\n",
      "Use help(str) for help on the str class.\n",
      "\n"
     ]
    }
   ],
   "source": [
    "help(S)"
   ]
  },
  {
   "cell_type": "code",
   "execution_count": 100,
   "metadata": {},
   "outputs": [
    {
     "name": "stdout",
     "output_type": "stream",
     "text": [
      "Help on class str in module builtins:\n",
      "\n",
      "class str(object)\n",
      " |  str(object='') -> str\n",
      " |  str(bytes_or_buffer[, encoding[, errors]]) -> str\n",
      " |  \n",
      " |  Create a new string object from the given object. If encoding or\n",
      " |  errors is specified, then the object must expose a data buffer\n",
      " |  that will be decoded using the given encoding and error handler.\n",
      " |  Otherwise, returns the result of object.__str__() (if defined)\n",
      " |  or repr(object).\n",
      " |  encoding defaults to sys.getdefaultencoding().\n",
      " |  errors defaults to 'strict'.\n",
      " |  \n",
      " |  Methods defined here:\n",
      " |  \n",
      " |  __add__(self, value, /)\n",
      " |      Return self+value.\n",
      " |  \n",
      " |  __contains__(self, key, /)\n",
      " |      Return key in self.\n",
      " |  \n",
      " |  __eq__(self, value, /)\n",
      " |      Return self==value.\n",
      " |  \n",
      " |  __format__(self, format_spec, /)\n",
      " |      Return a formatted version of the string as described by format_spec.\n",
      " |  \n",
      " |  __ge__(self, value, /)\n",
      " |      Return self>=value.\n",
      " |  \n",
      " |  __getattribute__(self, name, /)\n",
      " |      Return getattr(self, name).\n",
      " |  \n",
      " |  __getitem__(self, key, /)\n",
      " |      Return self[key].\n",
      " |  \n",
      " |  __getnewargs__(...)\n",
      " |  \n",
      " |  __gt__(self, value, /)\n",
      " |      Return self>value.\n",
      " |  \n",
      " |  __hash__(self, /)\n",
      " |      Return hash(self).\n",
      " |  \n",
      " |  __iter__(self, /)\n",
      " |      Implement iter(self).\n",
      " |  \n",
      " |  __le__(self, value, /)\n",
      " |      Return self<=value.\n",
      " |  \n",
      " |  __len__(self, /)\n",
      " |      Return len(self).\n",
      " |  \n",
      " |  __lt__(self, value, /)\n",
      " |      Return self<value.\n",
      " |  \n",
      " |  __mod__(self, value, /)\n",
      " |      Return self%value.\n",
      " |  \n",
      " |  __mul__(self, value, /)\n",
      " |      Return self*value.\n",
      " |  \n",
      " |  __ne__(self, value, /)\n",
      " |      Return self!=value.\n",
      " |  \n",
      " |  __repr__(self, /)\n",
      " |      Return repr(self).\n",
      " |  \n",
      " |  __rmod__(self, value, /)\n",
      " |      Return value%self.\n",
      " |  \n",
      " |  __rmul__(self, value, /)\n",
      " |      Return value*self.\n",
      " |  \n",
      " |  __sizeof__(self, /)\n",
      " |      Return the size of the string in memory, in bytes.\n",
      " |  \n",
      " |  __str__(self, /)\n",
      " |      Return str(self).\n",
      " |  \n",
      " |  capitalize(self, /)\n",
      " |      Return a capitalized version of the string.\n",
      " |      \n",
      " |      More specifically, make the first character have upper case and the rest lower\n",
      " |      case.\n",
      " |  \n",
      " |  casefold(self, /)\n",
      " |      Return a version of the string suitable for caseless comparisons.\n",
      " |  \n",
      " |  center(self, width, fillchar=' ', /)\n",
      " |      Return a centered string of length width.\n",
      " |      \n",
      " |      Padding is done using the specified fill character (default is a space).\n",
      " |  \n",
      " |  count(...)\n",
      " |      S.count(sub[, start[, end]]) -> int\n",
      " |      \n",
      " |      Return the number of non-overlapping occurrences of substring sub in\n",
      " |      string S[start:end].  Optional arguments start and end are\n",
      " |      interpreted as in slice notation.\n",
      " |  \n",
      " |  encode(self, /, encoding='utf-8', errors='strict')\n",
      " |      Encode the string using the codec registered for encoding.\n",
      " |      \n",
      " |      encoding\n",
      " |        The encoding in which to encode the string.\n",
      " |      errors\n",
      " |        The error handling scheme to use for encoding errors.\n",
      " |        The default is 'strict' meaning that encoding errors raise a\n",
      " |        UnicodeEncodeError.  Other possible values are 'ignore', 'replace' and\n",
      " |        'xmlcharrefreplace' as well as any other name registered with\n",
      " |        codecs.register_error that can handle UnicodeEncodeErrors.\n",
      " |  \n",
      " |  endswith(...)\n",
      " |      S.endswith(suffix[, start[, end]]) -> bool\n",
      " |      \n",
      " |      Return True if S ends with the specified suffix, False otherwise.\n",
      " |      With optional start, test S beginning at that position.\n",
      " |      With optional end, stop comparing S at that position.\n",
      " |      suffix can also be a tuple of strings to try.\n",
      " |  \n",
      " |  expandtabs(self, /, tabsize=8)\n",
      " |      Return a copy where all tab characters are expanded using spaces.\n",
      " |      \n",
      " |      If tabsize is not given, a tab size of 8 characters is assumed.\n",
      " |  \n",
      " |  find(...)\n",
      " |      S.find(sub[, start[, end]]) -> int\n",
      " |      \n",
      " |      Return the lowest index in S where substring sub is found,\n",
      " |      such that sub is contained within S[start:end].  Optional\n",
      " |      arguments start and end are interpreted as in slice notation.\n",
      " |      \n",
      " |      Return -1 on failure.\n",
      " |  \n",
      " |  format(...)\n",
      " |      S.format(*args, **kwargs) -> str\n",
      " |      \n",
      " |      Return a formatted version of S, using substitutions from args and kwargs.\n",
      " |      The substitutions are identified by braces ('{' and '}').\n",
      " |  \n",
      " |  format_map(...)\n",
      " |      S.format_map(mapping) -> str\n",
      " |      \n",
      " |      Return a formatted version of S, using substitutions from mapping.\n",
      " |      The substitutions are identified by braces ('{' and '}').\n",
      " |  \n",
      " |  index(...)\n",
      " |      S.index(sub[, start[, end]]) -> int\n",
      " |      \n",
      " |      Return the lowest index in S where substring sub is found, \n",
      " |      such that sub is contained within S[start:end].  Optional\n",
      " |      arguments start and end are interpreted as in slice notation.\n",
      " |      \n",
      " |      Raises ValueError when the substring is not found.\n",
      " |  \n",
      " |  isalnum(self, /)\n",
      " |      Return True if the string is an alpha-numeric string, False otherwise.\n",
      " |      \n",
      " |      A string is alpha-numeric if all characters in the string are alpha-numeric and\n",
      " |      there is at least one character in the string.\n",
      " |  \n",
      " |  isalpha(self, /)\n",
      " |      Return True if the string is an alphabetic string, False otherwise.\n",
      " |      \n",
      " |      A string is alphabetic if all characters in the string are alphabetic and there\n",
      " |      is at least one character in the string.\n",
      " |  \n",
      " |  isascii(self, /)\n",
      " |      Return True if all characters in the string are ASCII, False otherwise.\n",
      " |      \n",
      " |      ASCII characters have code points in the range U+0000-U+007F.\n",
      " |      Empty string is ASCII too.\n",
      " |  \n",
      " |  isdecimal(self, /)\n",
      " |      Return True if the string is a decimal string, False otherwise.\n",
      " |      \n",
      " |      A string is a decimal string if all characters in the string are decimal and\n",
      " |      there is at least one character in the string.\n",
      " |  \n",
      " |  isdigit(self, /)\n",
      " |      Return True if the string is a digit string, False otherwise.\n",
      " |      \n",
      " |      A string is a digit string if all characters in the string are digits and there\n",
      " |      is at least one character in the string.\n",
      " |  \n",
      " |  isidentifier(self, /)\n",
      " |      Return True if the string is a valid Python identifier, False otherwise.\n",
      " |      \n",
      " |      Use keyword.iskeyword() to test for reserved identifiers such as \"def\" and\n",
      " |      \"class\".\n",
      " |  \n",
      " |  islower(self, /)\n",
      " |      Return True if the string is a lowercase string, False otherwise.\n",
      " |      \n",
      " |      A string is lowercase if all cased characters in the string are lowercase and\n",
      " |      there is at least one cased character in the string.\n",
      " |  \n",
      " |  isnumeric(self, /)\n",
      " |      Return True if the string is a numeric string, False otherwise.\n",
      " |      \n",
      " |      A string is numeric if all characters in the string are numeric and there is at\n",
      " |      least one character in the string.\n",
      " |  \n",
      " |  isprintable(self, /)\n",
      " |      Return True if the string is printable, False otherwise.\n",
      " |      \n",
      " |      A string is printable if all of its characters are considered printable in\n",
      " |      repr() or if it is empty.\n",
      " |  \n",
      " |  isspace(self, /)\n",
      " |      Return True if the string is a whitespace string, False otherwise.\n",
      " |      \n",
      " |      A string is whitespace if all characters in the string are whitespace and there\n",
      " |      is at least one character in the string.\n",
      " |  \n",
      " |  istitle(self, /)\n",
      " |      Return True if the string is a title-cased string, False otherwise.\n",
      " |      \n",
      " |      In a title-cased string, upper- and title-case characters may only\n",
      " |      follow uncased characters and lowercase characters only cased ones.\n",
      " |  \n",
      " |  isupper(self, /)\n",
      " |      Return True if the string is an uppercase string, False otherwise.\n",
      " |      \n",
      " |      A string is uppercase if all cased characters in the string are uppercase and\n",
      " |      there is at least one cased character in the string.\n",
      " |  \n",
      " |  join(self, iterable, /)\n",
      " |      Concatenate any number of strings.\n",
      " |      \n",
      " |      The string whose method is called is inserted in between each given string.\n",
      " |      The result is returned as a new string.\n",
      " |      \n",
      " |      Example: '.'.join(['ab', 'pq', 'rs']) -> 'ab.pq.rs'\n",
      " |  \n",
      " |  ljust(self, width, fillchar=' ', /)\n",
      " |      Return a left-justified string of length width.\n",
      " |      \n",
      " |      Padding is done using the specified fill character (default is a space).\n",
      " |  \n",
      " |  lower(self, /)\n",
      " |      Return a copy of the string converted to lowercase.\n",
      " |  \n",
      " |  lstrip(self, chars=None, /)\n",
      " |      Return a copy of the string with leading whitespace removed.\n",
      " |      \n",
      " |      If chars is given and not None, remove characters in chars instead.\n",
      " |  \n",
      " |  partition(self, sep, /)\n",
      " |      Partition the string into three parts using the given separator.\n",
      " |      \n",
      " |      This will search for the separator in the string.  If the separator is found,\n",
      " |      returns a 3-tuple containing the part before the separator, the separator\n",
      " |      itself, and the part after it.\n",
      " |      \n",
      " |      If the separator is not found, returns a 3-tuple containing the original string\n",
      " |      and two empty strings.\n",
      " |  \n",
      " |  replace(self, old, new, count=-1, /)\n",
      " |      Return a copy with all occurrences of substring old replaced by new.\n",
      " |      \n",
      " |        count\n",
      " |          Maximum number of occurrences to replace.\n",
      " |          -1 (the default value) means replace all occurrences.\n",
      " |      \n",
      " |      If the optional argument count is given, only the first count occurrences are\n",
      " |      replaced.\n",
      " |  \n",
      " |  rfind(...)\n",
      " |      S.rfind(sub[, start[, end]]) -> int\n",
      " |      \n",
      " |      Return the highest index in S where substring sub is found,\n",
      " |      such that sub is contained within S[start:end].  Optional\n",
      " |      arguments start and end are interpreted as in slice notation.\n",
      " |      \n",
      " |      Return -1 on failure.\n",
      " |  \n",
      " |  rindex(...)\n",
      " |      S.rindex(sub[, start[, end]]) -> int\n",
      " |      \n",
      " |      Return the highest index in S where substring sub is found,\n",
      " |      such that sub is contained within S[start:end].  Optional\n",
      " |      arguments start and end are interpreted as in slice notation.\n",
      " |      \n",
      " |      Raises ValueError when the substring is not found.\n",
      " |  \n",
      " |  rjust(self, width, fillchar=' ', /)\n",
      " |      Return a right-justified string of length width.\n",
      " |      \n",
      " |      Padding is done using the specified fill character (default is a space).\n",
      " |  \n",
      " |  rpartition(self, sep, /)\n",
      " |      Partition the string into three parts using the given separator.\n",
      " |      \n",
      " |      This will search for the separator in the string, starting at the end. If\n",
      " |      the separator is found, returns a 3-tuple containing the part before the\n",
      " |      separator, the separator itself, and the part after it.\n",
      " |      \n",
      " |      If the separator is not found, returns a 3-tuple containing two empty strings\n",
      " |      and the original string.\n",
      " |  \n",
      " |  rsplit(self, /, sep=None, maxsplit=-1)\n",
      " |      Return a list of the words in the string, using sep as the delimiter string.\n",
      " |      \n",
      " |        sep\n",
      " |          The delimiter according which to split the string.\n",
      " |          None (the default value) means split according to any whitespace,\n",
      " |          and discard empty strings from the result.\n",
      " |        maxsplit\n",
      " |          Maximum number of splits to do.\n",
      " |          -1 (the default value) means no limit.\n",
      " |      \n",
      " |      Splits are done starting at the end of the string and working to the front.\n",
      " |  \n",
      " |  rstrip(self, chars=None, /)\n",
      " |      Return a copy of the string with trailing whitespace removed.\n",
      " |      \n",
      " |      If chars is given and not None, remove characters in chars instead.\n",
      " |  \n",
      " |  split(self, /, sep=None, maxsplit=-1)\n",
      " |      Return a list of the words in the string, using sep as the delimiter string.\n",
      " |      \n",
      " |      sep\n",
      " |        The delimiter according which to split the string.\n",
      " |        None (the default value) means split according to any whitespace,\n",
      " |        and discard empty strings from the result.\n",
      " |      maxsplit\n",
      " |        Maximum number of splits to do.\n",
      " |        -1 (the default value) means no limit.\n",
      " |  \n",
      " |  splitlines(self, /, keepends=False)\n",
      " |      Return a list of the lines in the string, breaking at line boundaries.\n",
      " |      \n",
      " |      Line breaks are not included in the resulting list unless keepends is given and\n",
      " |      true.\n",
      " |  \n",
      " |  startswith(...)\n",
      " |      S.startswith(prefix[, start[, end]]) -> bool\n",
      " |      \n",
      " |      Return True if S starts with the specified prefix, False otherwise.\n",
      " |      With optional start, test S beginning at that position.\n",
      " |      With optional end, stop comparing S at that position.\n",
      " |      prefix can also be a tuple of strings to try.\n",
      " |  \n",
      " |  strip(self, chars=None, /)\n",
      " |      Return a copy of the string with leading and trailing whitespace remove.\n",
      " |      \n",
      " |      If chars is given and not None, remove characters in chars instead.\n",
      " |  \n",
      " |  swapcase(self, /)\n",
      " |      Convert uppercase characters to lowercase and lowercase characters to uppercase.\n",
      " |  \n",
      " |  title(self, /)\n",
      " |      Return a version of the string where each word is titlecased.\n",
      " |      \n",
      " |      More specifically, words start with uppercased characters and all remaining\n",
      " |      cased characters have lower case.\n",
      " |  \n",
      " |  translate(self, table, /)\n",
      " |      Replace each character in the string using the given translation table.\n",
      " |      \n",
      " |        table\n",
      " |          Translation table, which must be a mapping of Unicode ordinals to\n",
      " |          Unicode ordinals, strings, or None.\n",
      " |      \n",
      " |      The table must implement lookup/indexing via __getitem__, for instance a\n",
      " |      dictionary or list.  If this operation raises LookupError, the character is\n",
      " |      left untouched.  Characters mapped to None are deleted.\n",
      " |  \n",
      " |  upper(self, /)\n",
      " |      Return a copy of the string converted to uppercase.\n",
      " |  \n",
      " |  zfill(self, width, /)\n",
      " |      Pad a numeric string with zeros on the left, to fill a field of the given width.\n",
      " |      \n",
      " |      The string is never truncated.\n",
      " |  \n",
      " |  ----------------------------------------------------------------------\n",
      " |  Static methods defined here:\n",
      " |  \n",
      " |  __new__(*args, **kwargs) from builtins.type\n",
      " |      Create and return a new object.  See help(type) for accurate signature.\n",
      " |  \n",
      " |  maketrans(x, y=None, z=None, /)\n",
      " |      Return a translation table usable for str.translate().\n",
      " |      \n",
      " |      If there is only one argument, it must be a dictionary mapping Unicode\n",
      " |      ordinals (integers) or characters to Unicode ordinals, strings or None.\n",
      " |      Character keys will be then converted to ordinals.\n",
      " |      If there are two arguments, they must be strings of equal length, and\n",
      " |      in the resulting dictionary, each character in x will be mapped to the\n",
      " |      character at the same position in y. If there is a third argument, it\n",
      " |      must be a string, whose characters will be mapped to None in the result.\n",
      "\n"
     ]
    }
   ],
   "source": [
    "help(str)"
   ]
  },
  {
   "cell_type": "code",
   "execution_count": 101,
   "metadata": {},
   "outputs": [
    {
     "name": "stdout",
     "output_type": "stream",
     "text": [
      "Help on method_descriptor:\n",
      "\n",
      "replace(self, old, new, count=-1, /)\n",
      "    Return a copy with all occurrences of substring old replaced by new.\n",
      "    \n",
      "      count\n",
      "        Maximum number of occurrences to replace.\n",
      "        -1 (the default value) means replace all occurrences.\n",
      "    \n",
      "    If the optional argument count is given, only the first count occurrences are\n",
      "    replaced.\n",
      "\n"
     ]
    }
   ],
   "source": [
    "help(str.replace)"
   ]
  },
  {
   "cell_type": "markdown",
   "metadata": {},
   "source": [
    "### Другие способы написания строк"
   ]
  },
  {
   "cell_type": "code",
   "execution_count": 102,
   "metadata": {},
   "outputs": [
    {
     "data": {
      "text/plain": [
       "5"
      ]
     },
     "execution_count": 102,
     "metadata": {},
     "output_type": "execute_result"
    }
   ],
   "source": [
    "S = 'A\\nB\\tC' # \\n - конец строки, \\t - табуляция\n",
    "len(S)  # как \\n, так и \\t являются только одним символом"
   ]
  },
  {
   "cell_type": "code",
   "execution_count": 103,
   "metadata": {},
   "outputs": [
    {
     "data": {
      "text/plain": [
       "10"
      ]
     },
     "execution_count": 103,
     "metadata": {},
     "output_type": "execute_result"
    }
   ],
   "source": [
    "ord('\\n') # символ \\n кодируется числом 10"
   ]
  },
  {
   "cell_type": "code",
   "execution_count": 106,
   "metadata": {},
   "outputs": [
    {
     "data": {
      "text/plain": [
       "5"
      ]
     },
     "execution_count": 106,
     "metadata": {},
     "output_type": "execute_result"
    }
   ],
   "source": [
    "S = 'A\\0B\\0C' # \\0 - байт с двоичными нулями\n",
    "len(S)"
   ]
  },
  {
   "cell_type": "markdown",
   "metadata": {},
   "source": [
    "Непечатаемые символы отображаются как шестнадцатеричные управляющие последовательности \\xNN:"
   ]
  },
  {
   "cell_type": "code",
   "execution_count": 107,
   "metadata": {},
   "outputs": [
    {
     "data": {
      "text/plain": [
       "'A\\x00B\\x00C'"
      ]
     },
     "execution_count": 107,
     "metadata": {},
     "output_type": "execute_result"
    }
   ],
   "source": [
    "S"
   ]
  },
  {
   "cell_type": "code",
   "execution_count": 111,
   "metadata": {},
   "outputs": [
    {
     "data": {
      "text/plain": [
       "'A\\x01B\\x02C\\\\X\\\\C'"
      ]
     },
     "execution_count": 111,
     "metadata": {},
     "output_type": "execute_result"
    }
   ],
   "source": [
    "'A\\1B\\2C\\X\\C'"
   ]
  },
  {
   "cell_type": "code",
   "execution_count": 112,
   "metadata": {},
   "outputs": [
    {
     "data": {
      "text/plain": [
       "'A\\x01B\\x02C\\\\X\\\\C'"
      ]
     },
     "execution_count": 112,
     "metadata": {},
     "output_type": "execute_result"
    }
   ],
   "source": [
    "'A\\x01B\\x02C\\\\X\\\\C'"
   ]
  },
  {
   "cell_type": "code",
   "execution_count": 115,
   "metadata": {},
   "outputs": [
    {
     "data": {
      "text/plain": [
       "'\\naaaaaaaaaa\\nbbb\\'\\'\\'bbb\"\"bbbbb\\'bbbb\"bb\\nccccccccccc\\n'"
      ]
     },
     "execution_count": 115,
     "metadata": {},
     "output_type": "execute_result"
    }
   ],
   "source": [
    "msg = \"\"\"\n",
    "aaaaaaaaaa\n",
    "bbb'''bbb\"\"bbbbb'bbbb\"bb\n",
    "ccccccccccc\n",
    "\"\"\"\n",
    "msg"
   ]
  },
  {
   "cell_type": "code",
   "execution_count": 116,
   "metadata": {},
   "outputs": [
    {
     "data": {
      "text/plain": [
       "'\\n\\naaaaaaaaaa\\nbbb\\'\\'\\'bbb\"\"bbbbb\\'bbbb\"bb\\nccccccccccc\\n\\n'"
      ]
     },
     "execution_count": 116,
     "metadata": {},
     "output_type": "execute_result"
    }
   ],
   "source": [
    "msg2 = \"\"\"\n",
    "\\naaaaaaaaaa\\nbbb\\'\\'\\'bbb\"\"bbbbb\\'bbbb\"bb\\nccccccccccc\\n\n",
    "\"\"\"\n",
    "msg2   # Вывод repr объкта (т.е. вид объекта как в коде)"
   ]
  },
  {
   "cell_type": "code",
   "execution_count": 117,
   "metadata": {},
   "outputs": [
    {
     "name": "stdout",
     "output_type": "stream",
     "text": [
      "\n",
      "\n",
      "aaaaaaaaaa\n",
      "bbb'''bbb\"\"bbbbb'bbbb\"bb\n",
      "ccccccccccc\n",
      "\n",
      "\n"
     ]
    }
   ],
   "source": [
    "print(msg2) # Вывод str объета (вид, дружественный к пользователю)"
   ]
  },
  {
   "cell_type": "markdown",
   "metadata": {},
   "source": [
    "Также Python поддерживает __неформатированный__ (raw) строковый литерал (создание raw-строки), который отключает механизм обратной косой черты (такие строки удобно использовать для путей каталогов в Windows):"
   ]
  },
  {
   "cell_type": "code",
   "execution_count": 120,
   "metadata": {},
   "outputs": [
    {
     "data": {
      "text/plain": [
       "'C:\\\\text\\\\new'"
      ]
     },
     "execution_count": 120,
     "metadata": {},
     "output_type": "execute_result"
    }
   ],
   "source": [
    "r'C:\\text\\new'"
   ]
  },
  {
   "cell_type": "code",
   "execution_count": 121,
   "metadata": {},
   "outputs": [
    {
     "name": "stdout",
     "output_type": "stream",
     "text": [
      "C:\\text\\new\n"
     ]
    }
   ],
   "source": [
    "print(r'C:\\text\\new')"
   ]
  },
  {
   "cell_type": "code",
   "execution_count": 122,
   "metadata": {},
   "outputs": [
    {
     "name": "stdout",
     "output_type": "stream",
     "text": [
      "C:\\text\\new\n"
     ]
    }
   ],
   "source": [
    "print('C:\\\\text\\\\new')"
   ]
  },
  {
   "cell_type": "code",
   "execution_count": 123,
   "metadata": {},
   "outputs": [
    {
     "name": "stdout",
     "output_type": "stream",
     "text": [
      "C:\text\n",
      "ew\n"
     ]
    }
   ],
   "source": [
    "print('C:\\text\\new')"
   ]
  },
  {
   "cell_type": "markdown",
   "metadata": {},
   "source": [
    "### Строки Unicode"
   ]
  },
  {
   "cell_type": "markdown",
   "metadata": {},
   "source": [
    "В Python 3.X: "
   ]
  },
  {
   "cell_type": "code",
   "execution_count": 6,
   "metadata": {},
   "outputs": [
    {
     "data": {
      "text/plain": [
       "'spÄm'"
      ]
     },
     "execution_count": 6,
     "metadata": {},
     "output_type": "execute_result"
    }
   ],
   "source": [
    "'sp\\xc4m'  # Обычные строки str являются текстом Unicode "
   ]
  },
  {
   "cell_type": "code",
   "execution_count": 7,
   "metadata": {},
   "outputs": [
    {
     "data": {
      "text/plain": [
       "b'a\\x01c'"
      ]
     },
     "execution_count": 7,
     "metadata": {},
     "output_type": "execute_result"
    }
   ],
   "source": [
    "b'a\\x01c' # Строки bytes - это данные, основанные на байтах "
   ]
  },
  {
   "cell_type": "code",
   "execution_count": 8,
   "metadata": {},
   "outputs": [
    {
     "data": {
      "text/plain": [
       "'spÄm'"
      ]
     },
     "execution_count": 8,
     "metadata": {},
     "output_type": "execute_result"
    }
   ],
   "source": [
    "u'sp\\u00c4m' # Литералы Unicode из Python 2.X работают в Python 3.3+;\n",
    "             # просто строка str"
   ]
  },
  {
   "cell_type": "code",
   "execution_count": 9,
   "metadata": {},
   "outputs": [
    {
     "data": {
      "text/plain": [
       "'spÄm'"
      ]
     },
     "execution_count": 9,
     "metadata": {},
     "output_type": "execute_result"
    }
   ],
   "source": [
    "'sp\\u00c4m' # в принципе, тот же результат и без литералов Unicode"
   ]
  },
  {
   "cell_type": "markdown",
   "metadata": {},
   "source": [
    "В Python 2.X: "
   ]
  },
  {
   "cell_type": "code",
   "execution_count": null,
   "metadata": {},
   "outputs": [],
   "source": [
    "print u'sp\\xc4m' # Cтроки Unicode являются отдельным типом\n",
    "# 'spÄm'"
   ]
  },
  {
   "cell_type": "code",
   "execution_count": null,
   "metadata": {},
   "outputs": [],
   "source": [
    "'a\\x01c'  # Обычные строки str содержат текст/данные,\n",
    "          # основанные на байтах\n",
    "# 'a\\x01c'"
   ]
  },
  {
   "cell_type": "code",
   "execution_count": null,
   "metadata": {},
   "outputs": [],
   "source": [
    "b'a\\x01c' # Байтовые литералы из Python 3.X работают в Python 2.6+:\n",
    "          # просто строка str\n",
    "# 'a\\x01c'"
   ]
  },
  {
   "cell_type": "markdown",
   "metadata": {},
   "source": [
    "Формально, в Python 2.X и 3.X строки, отличающиеся от Unicode, представляют собой последовательность _8-битных байтов_ , которые __выводятся в виде символов ASCII, когда это возможно__, а строки Unicode - последовательность кодовых точек Unicode.\n",
    "\n",
    "Python имеет механизмы для обрабатывания текста в Unicode в процессе выполнения программы, но при сохранение текста в файл (или отображении в консоле байтовых строк) происходит, __ВРОДЕ БЫ__, скрытое кодирование из Unicode в кодировку, которая указана в настройках Python для этих целей (по умолчанию это UTF-8)). "
   ]
  },
  {
   "cell_type": "markdown",
   "metadata": {},
   "source": [
    "Пример отличий в разных кодировках для Unicode:"
   ]
  },
  {
   "cell_type": "code",
   "execution_count": 124,
   "metadata": {},
   "outputs": [
    {
     "data": {
      "text/plain": [
       "'spam'"
      ]
     },
     "execution_count": 124,
     "metadata": {},
     "output_type": "execute_result"
    }
   ],
   "source": [
    "'spam' # Символы могут занимать 1, 2 или 4 байта в памяти"
   ]
  },
  {
   "cell_type": "code",
   "execution_count": 133,
   "metadata": {},
   "outputs": [
    {
     "ename": "AttributeError",
     "evalue": "'str' object has no attribute 'decode'",
     "output_type": "error",
     "traceback": [
      "\u001b[1;31m---------------------------------------------------------------------------\u001b[0m",
      "\u001b[1;31mAttributeError\u001b[0m                            Traceback (most recent call last)",
      "\u001b[1;32m<ipython-input-133-ae1d8bb9198d>\u001b[0m in \u001b[0;36m<module>\u001b[1;34m\u001b[0m\n\u001b[1;32m----> 1\u001b[1;33m \u001b[1;34m'spam'\u001b[0m\u001b[1;33m.\u001b[0m\u001b[0mdecode\u001b[0m\u001b[1;33m(\u001b[0m\u001b[1;34m'utf8'\u001b[0m\u001b[1;33m)\u001b[0m\u001b[1;33m\u001b[0m\u001b[1;33m\u001b[0m\u001b[0m\n\u001b[0m",
      "\u001b[1;31mAttributeError\u001b[0m: 'str' object has no attribute 'decode'"
     ]
    }
   ],
   "source": [
    "'spam'.decode('utf8') # AttributeError: 'str' object has no attribute 'decode'"
   ]
  },
  {
   "cell_type": "code",
   "execution_count": 155,
   "metadata": {},
   "outputs": [
    {
     "ename": "TypeError",
     "evalue": "string argument without an encoding",
     "output_type": "error",
     "traceback": [
      "\u001b[1;31m---------------------------------------------------------------------------\u001b[0m",
      "\u001b[1;31mTypeError\u001b[0m                                 Traceback (most recent call last)",
      "\u001b[1;32m<ipython-input-155-3f3d8a4cb033>\u001b[0m in \u001b[0;36m<module>\u001b[1;34m\u001b[0m\n\u001b[1;32m----> 1\u001b[1;33m \u001b[0mbytes\u001b[0m\u001b[1;33m(\u001b[0m\u001b[1;34m'spam'\u001b[0m\u001b[1;33m)\u001b[0m\u001b[1;33m\u001b[0m\u001b[1;33m\u001b[0m\u001b[0m\n\u001b[0m",
      "\u001b[1;31mTypeError\u001b[0m: string argument without an encoding"
     ]
    }
   ],
   "source": [
    "bytes('spam')"
   ]
  },
  {
   "cell_type": "code",
   "execution_count": 151,
   "metadata": {},
   "outputs": [
    {
     "data": {
      "text/plain": [
       "b'spam'"
      ]
     },
     "execution_count": 151,
     "metadata": {},
     "output_type": "execute_result"
    }
   ],
   "source": [
    "bytes('spam'.encode('utf8'))"
   ]
  },
  {
   "cell_type": "code",
   "execution_count": 152,
   "metadata": {},
   "outputs": [
    {
     "data": {
      "text/plain": [
       "b'spam'"
      ]
     },
     "execution_count": 152,
     "metadata": {},
     "output_type": "execute_result"
    }
   ],
   "source": [
    "bytes('spam'.encode())"
   ]
  },
  {
   "cell_type": "code",
   "execution_count": 135,
   "metadata": {},
   "outputs": [
    {
     "name": "stdout",
     "output_type": "stream",
     "text": [
      "spam\n"
     ]
    }
   ],
   "source": [
    "print('spam')"
   ]
  },
  {
   "cell_type": "code",
   "execution_count": 125,
   "metadata": {},
   "outputs": [
    {
     "data": {
      "text/plain": [
       "b'spam'"
      ]
     },
     "execution_count": 125,
     "metadata": {},
     "output_type": "execute_result"
    }
   ],
   "source": [
    "'spam'.encode('utf8') # В UTF-8 кодируется как 4 байта в файлах "
   ]
  },
  {
   "cell_type": "code",
   "execution_count": 145,
   "metadata": {},
   "outputs": [
    {
     "data": {
      "text/plain": [
       "b'spam'"
      ]
     },
     "execution_count": 145,
     "metadata": {},
     "output_type": "execute_result"
    }
   ],
   "source": [
    "'spam'.encode()  # UTF-8 по умолчанию в консоле"
   ]
  },
  {
   "cell_type": "code",
   "execution_count": 156,
   "metadata": {},
   "outputs": [
    {
     "data": {
      "text/plain": [
       "bytes"
      ]
     },
     "execution_count": 156,
     "metadata": {},
     "output_type": "execute_result"
    }
   ],
   "source": [
    "type('spam'.encode())"
   ]
  },
  {
   "cell_type": "code",
   "execution_count": 157,
   "metadata": {},
   "outputs": [
    {
     "data": {
      "text/plain": [
       "bytes"
      ]
     },
     "execution_count": 157,
     "metadata": {},
     "output_type": "execute_result"
    }
   ],
   "source": [
    "type(bytes('spam'.encode()))"
   ]
  },
  {
   "cell_type": "code",
   "execution_count": 136,
   "metadata": {},
   "outputs": [
    {
     "name": "stdout",
     "output_type": "stream",
     "text": [
      "b'spam'\n"
     ]
    }
   ],
   "source": [
    "print('spam'.encode('utf8'))"
   ]
  },
  {
   "cell_type": "code",
   "execution_count": 158,
   "metadata": {},
   "outputs": [
    {
     "data": {
      "text/plain": [
       "'spam'"
      ]
     },
     "execution_count": 158,
     "metadata": {},
     "output_type": "execute_result"
    }
   ],
   "source": [
    "str('spam')"
   ]
  },
  {
   "cell_type": "code",
   "execution_count": 126,
   "metadata": {},
   "outputs": [
    {
     "data": {
      "text/plain": [
       "b'\\xff\\xfes\\x00p\\x00a\\x00m\\x00'"
      ]
     },
     "execution_count": 126,
     "metadata": {},
     "output_type": "execute_result"
    }
   ],
   "source": [
    "'spam'.encode('utf16') # Но в UTF-16 кодируется как 10 байтов в файлах "
   ]
  },
  {
   "cell_type": "markdown",
   "metadata": {},
   "source": [
    "??? Непонятно, откуда именно 10 байтов. Смотрю на результат и ничего не понимаю. Попробую посмотреть длину:"
   ]
  },
  {
   "cell_type": "code",
   "execution_count": 127,
   "metadata": {},
   "outputs": [
    {
     "data": {
      "text/plain": [
       "10"
      ]
     },
     "execution_count": 127,
     "metadata": {},
     "output_type": "execute_result"
    }
   ],
   "source": [
    "len(b'\\xff\\xfes\\x00p\\x00a\\x00m\\x00')"
   ]
  },
  {
   "cell_type": "code",
   "execution_count": 129,
   "metadata": {},
   "outputs": [
    {
     "data": {
      "text/plain": [
       "1"
      ]
     },
     "execution_count": 129,
     "metadata": {},
     "output_type": "execute_result"
    }
   ],
   "source": [
    "len(b'\\xff')"
   ]
  },
  {
   "cell_type": "code",
   "execution_count": 130,
   "metadata": {},
   "outputs": [
    {
     "data": {
      "text/plain": [
       "2"
      ]
     },
     "execution_count": 130,
     "metadata": {},
     "output_type": "execute_result"
    }
   ],
   "source": [
    "len(b'\\xfes')"
   ]
  },
  {
   "cell_type": "code",
   "execution_count": 131,
   "metadata": {},
   "outputs": [
    {
     "data": {
      "text/plain": [
       "2"
      ]
     },
     "execution_count": 131,
     "metadata": {},
     "output_type": "execute_result"
    }
   ],
   "source": [
    "len(b'\\x00p')"
   ]
  },
  {
   "cell_type": "code",
   "execution_count": 132,
   "metadata": {},
   "outputs": [
    {
     "data": {
      "text/plain": [
       "1"
      ]
     },
     "execution_count": 132,
     "metadata": {},
     "output_type": "execute_result"
    }
   ],
   "source": [
    "len(b'\\x00')"
   ]
  },
  {
   "cell_type": "markdown",
   "metadata": {},
   "source": [
    "А, ну теперь понятнее. "
   ]
  },
  {
   "cell_type": "markdown",
   "metadata": {},
   "source": [
    "А как обратно из байтовой строки в Unicode строку перевести? Может так:"
   ]
  },
  {
   "cell_type": "code",
   "execution_count": 134,
   "metadata": {},
   "outputs": [
    {
     "data": {
      "text/plain": [
       "\"b'\\\\xff\\\\xfes\\\\x00p\\\\x00a\\\\x00m\\\\x00'\""
      ]
     },
     "execution_count": 134,
     "metadata": {},
     "output_type": "execute_result"
    }
   ],
   "source": [
    "str(b'\\xff\\xfes\\x00p\\x00a\\x00m\\x00')"
   ]
  },
  {
   "cell_type": "markdown",
   "metadata": {},
   "source": [
    "Хм, нет."
   ]
  },
  {
   "cell_type": "markdown",
   "metadata": {},
   "source": [
    "Кодирование символов (например, отличающихся от ASCII) в тексте с помощью управляющих последовательностей:"
   ]
  },
  {
   "cell_type": "code",
   "execution_count": 138,
   "metadata": {},
   "outputs": [
    {
     "data": {
      "text/plain": [
       "'spÄÄÄm'"
      ]
     },
     "execution_count": 138,
     "metadata": {},
     "output_type": "execute_result"
    }
   ],
   "source": [
    "'sp\\xc4\\u00c4\\U000000c4m'"
   ]
  },
  {
   "cell_type": "code",
   "execution_count": 160,
   "metadata": {},
   "outputs": [
    {
     "data": {
      "text/plain": [
       "('£', b'\\xc2\\xa3', b'\\xc2\\xa3', b'\\xa3', '£')"
      ]
     },
     "execution_count": 160,
     "metadata": {},
     "output_type": "execute_result"
    }
   ],
   "source": [
    "'\\u00A3', '\\u00A3'.encode(), '\\u00A3'.encode('utf8'), '\\u00A3'.encode('latin1'), b'\\xA3'.decode('latin1')"
   ]
  },
  {
   "cell_type": "code",
   "execution_count": 146,
   "metadata": {},
   "outputs": [
    {
     "name": "stdout",
     "output_type": "stream",
     "text": [
      "spÄÄÄm\n"
     ]
    }
   ],
   "source": [
    "print('sp\\xc4\\u00c4\\U000000c4m')"
   ]
  },
  {
   "cell_type": "code",
   "execution_count": 147,
   "metadata": {},
   "outputs": [
    {
     "name": "stdout",
     "output_type": "stream",
     "text": [
      "b'sp\\xc3\\x84\\xc3\\x84\\xc3\\x84m'\n"
     ]
    }
   ],
   "source": [
    "print('sp\\xc4\\u00c4\\U000000c4m'.encode())"
   ]
  },
  {
   "cell_type": "markdown",
   "metadata": {},
   "source": [
    "Python 2.X позволяет смешивать в выражениях обычные строки и строки и строки Unicode при условии, что обычные строки представлены в кодировке ASCII.\n",
    "\n",
    "В противоположность этому Python 3.X имеет более строгую модель, которая никогда не разрешат смешивать обычные и байтовые строки без явного преобразования:"
   ]
  },
  {
   "cell_type": "code",
   "execution_count": 162,
   "metadata": {},
   "outputs": [
    {
     "ename": "TypeError",
     "evalue": "can only concatenate str (not \"bytes\") to str",
     "output_type": "error",
     "traceback": [
      "\u001b[1;31m---------------------------------------------------------------------------\u001b[0m",
      "\u001b[1;31mTypeError\u001b[0m                                 Traceback (most recent call last)",
      "\u001b[1;32m<ipython-input-162-b57c06acef58>\u001b[0m in \u001b[0;36m<module>\u001b[1;34m\u001b[0m\n\u001b[1;32m----> 1\u001b[1;33m \u001b[1;34mu'x'\u001b[0m \u001b[1;33m+\u001b[0m \u001b[1;34mb'y'\u001b[0m  \u001b[1;31m# Работает в Python 2.X (где символ b необязателен\u001b[0m\u001b[1;33m\u001b[0m\u001b[1;33m\u001b[0m\u001b[0m\n\u001b[0m\u001b[0;32m      2\u001b[0m              \u001b[1;31m# и игнорируется)\u001b[0m\u001b[1;33m\u001b[0m\u001b[1;33m\u001b[0m\u001b[1;33m\u001b[0m\u001b[0m\n",
      "\u001b[1;31mTypeError\u001b[0m: can only concatenate str (not \"bytes\") to str"
     ]
    }
   ],
   "source": [
    "u'x' + b'y'  # Работает в Python 2.X (где символ b необязателен \n",
    "             # и игнорируется)\n",
    "             # Не работает в Python 3.X \n",
    "#u'xy'"
   ]
  },
  {
   "cell_type": "code",
   "execution_count": 163,
   "metadata": {},
   "outputs": [
    {
     "data": {
      "text/plain": [
       "'xy'"
      ]
     },
     "execution_count": 163,
     "metadata": {},
     "output_type": "execute_result"
    }
   ],
   "source": [
    "u'x' + 'y' # Работает в Python 2.X\n",
    "           # Работает в Python 3.X (где символ u необязателен \n",
    "           # и игнорируется)\n",
    "#u'xy'     # Результат в Python 2.X"
   ]
  },
  {
   "cell_type": "code",
   "execution_count": 164,
   "metadata": {},
   "outputs": [
    {
     "data": {
      "text/plain": [
       "'xy'"
      ]
     },
     "execution_count": 164,
     "metadata": {},
     "output_type": "execute_result"
    }
   ],
   "source": [
    "'x' + b'y'.decode() # Работает в Python 3.X, если декодировать\n",
    "                    # байты в строку"
   ]
  },
  {
   "cell_type": "code",
   "execution_count": 166,
   "metadata": {},
   "outputs": [
    {
     "data": {
      "text/plain": [
       "b'xy'"
      ]
     },
     "execution_count": 166,
     "metadata": {},
     "output_type": "execute_result"
    }
   ],
   "source": [
    "'x'.encode() + b'y' # Работает в Python 3.X, если закодировать\n",
    "                    # строку в байты"
   ]
  },
  {
   "cell_type": "markdown",
   "metadata": {},
   "source": [
    "### Сопоставление с образцом"
   ]
  },
  {
   "cell_type": "code",
   "execution_count": 170,
   "metadata": {},
   "outputs": [
    {
     "data": {
      "text/plain": [
       "'Python '"
      ]
     },
     "execution_count": 170,
     "metadata": {},
     "output_type": "execute_result"
    }
   ],
   "source": [
    "import re\n",
    "match = re.match('Hello[ \\t]*(.*)world', 'Hello \\tPython world')\n",
    "match.group(1)"
   ]
  },
  {
   "cell_type": "markdown",
   "metadata": {},
   "source": [
    "Выбирает 3 группы, разделенные символами косой черты или двоеточия:"
   ]
  },
  {
   "cell_type": "code",
   "execution_count": 171,
   "metadata": {},
   "outputs": [
    {
     "data": {
      "text/plain": [
       "('usr', 'home', 'lumberjack')"
      ]
     },
     "execution_count": 171,
     "metadata": {},
     "output_type": "execute_result"
    }
   ],
   "source": [
    "match = re.match('[/:](.*)[/:](.*)[/:](.*)', '/usr/home:lumberjack')\n",
    "match.groups()"
   ]
  },
  {
   "cell_type": "markdown",
   "metadata": {},
   "source": [
    "Может, можно как-то уменьшить шаблон, чтобы получить то же самое:"
   ]
  },
  {
   "cell_type": "code",
   "execution_count": 178,
   "metadata": {},
   "outputs": [
    {
     "data": {
      "text/plain": [
       "(':lumberjack',)"
      ]
     },
     "execution_count": 178,
     "metadata": {},
     "output_type": "execute_result"
    }
   ],
   "source": [
    "match = re.match('([/:].*){3}', '/usr/home:lumberjack')\n",
    "match.groups()"
   ]
  },
  {
   "cell_type": "code",
   "execution_count": 179,
   "metadata": {},
   "outputs": [
    {
     "data": {
      "text/plain": [
       "(':lumberjack', 'lumberjack')"
      ]
     },
     "execution_count": 179,
     "metadata": {},
     "output_type": "execute_result"
    }
   ],
   "source": [
    "match = re.match('([/:](.*)){3}', '/usr/home:lumberjack')\n",
    "match.groups()"
   ]
  },
  {
   "cell_type": "code",
   "execution_count": 180,
   "metadata": {},
   "outputs": [
    {
     "data": {
      "text/plain": [
       "('',)"
      ]
     },
     "execution_count": 180,
     "metadata": {},
     "output_type": "execute_result"
    }
   ],
   "source": [
    "match = re.match('[/:](.*){3}', '/usr/home:lumberjack')\n",
    "match.groups()"
   ]
  },
  {
   "cell_type": "markdown",
   "metadata": {},
   "source": [
    "Не, что-то не получается."
   ]
  },
  {
   "cell_type": "code",
   "execution_count": 172,
   "metadata": {},
   "outputs": [
    {
     "data": {
      "text/plain": [
       "['', 'usr', 'home', 'lumberjack']"
      ]
     },
     "execution_count": 172,
     "metadata": {},
     "output_type": "execute_result"
    }
   ],
   "source": [
    "re.split('[/:]', '/usr/home:lumberjack')"
   ]
  },
  {
   "cell_type": "markdown",
   "metadata": {},
   "source": [
    "## Списки"
   ]
  },
  {
   "cell_type": "markdown",
   "metadata": {},
   "source": [
    "### Операции над последовательностями (sequence operations)"
   ]
  },
  {
   "cell_type": "code",
   "execution_count": 188,
   "metadata": {},
   "outputs": [],
   "source": [
    "L = [123, 'spam', 1.23] # Список из трёх объектов разных типов"
   ]
  },
  {
   "cell_type": "code",
   "execution_count": 175,
   "metadata": {},
   "outputs": [
    {
     "data": {
      "text/plain": [
       "3"
      ]
     },
     "execution_count": 175,
     "metadata": {},
     "output_type": "execute_result"
    }
   ],
   "source": [
    "len(L) # Количество элементов в списке "
   ]
  },
  {
   "cell_type": "code",
   "execution_count": 176,
   "metadata": {},
   "outputs": [
    {
     "data": {
      "text/plain": [
       "123"
      ]
     },
     "execution_count": 176,
     "metadata": {},
     "output_type": "execute_result"
    }
   ],
   "source": [
    "L[0] # Индексация по позиции"
   ]
  },
  {
   "cell_type": "code",
   "execution_count": 177,
   "metadata": {},
   "outputs": [
    {
     "data": {
      "text/plain": [
       "[123, 'spam']"
      ]
     },
     "execution_count": 177,
     "metadata": {},
     "output_type": "execute_result"
    }
   ],
   "source": [
    "L[:-1] # Нарезание списка возвращает новый список"
   ]
  },
  {
   "cell_type": "code",
   "execution_count": 181,
   "metadata": {},
   "outputs": [
    {
     "data": {
      "text/plain": [
       "[123, 'spam', 1.23, 4, 5, 6]"
      ]
     },
     "execution_count": 181,
     "metadata": {},
     "output_type": "execute_result"
    }
   ],
   "source": [
    "L + [4, 5, 6] # Конкатенация также создаёт новый список"
   ]
  },
  {
   "cell_type": "code",
   "execution_count": 182,
   "metadata": {},
   "outputs": [
    {
     "data": {
      "text/plain": [
       "[123, 'spam', 1.23, 123, 'spam', 1.23]"
      ]
     },
     "execution_count": 182,
     "metadata": {},
     "output_type": "execute_result"
    }
   ],
   "source": [
    "L * 2 # Повторение также создаёт новый список"
   ]
  },
  {
   "cell_type": "markdown",
   "metadata": {},
   "source": [
    "### Операции, специфичные для типа [list] (type-specific operations)"
   ]
  },
  {
   "cell_type": "code",
   "execution_count": 189,
   "metadata": {},
   "outputs": [
    {
     "data": {
      "text/plain": [
       "[123, 'spam', 1.23, 'Ni']"
      ]
     },
     "execution_count": 189,
     "metadata": {},
     "output_type": "execute_result"
    }
   ],
   "source": [
    "L.append('Ni') # Увеличение: добавление объекта в конец списка\n",
    "L"
   ]
  },
  {
   "cell_type": "code",
   "execution_count": 190,
   "metadata": {},
   "outputs": [
    {
     "data": {
      "text/plain": [
       "1.23"
      ]
     },
     "execution_count": 190,
     "metadata": {},
     "output_type": "execute_result"
    }
   ],
   "source": [
    "L.pop(2) # Уменьшение: удаление объекта из середины"
   ]
  },
  {
   "cell_type": "code",
   "execution_count": 192,
   "metadata": {},
   "outputs": [
    {
     "data": {
      "text/plain": [
       "[123, 'spam', 'Ni']"
      ]
     },
     "execution_count": 192,
     "metadata": {},
     "output_type": "execute_result"
    }
   ],
   "source": [
    "L # del L[2] также выполняет удаление из списка"
   ]
  },
  {
   "cell_type": "code",
   "execution_count": 193,
   "metadata": {},
   "outputs": [
    {
     "data": {
      "text/plain": [
       "['bb', 'aa', 'cc']"
      ]
     },
     "execution_count": 193,
     "metadata": {},
     "output_type": "execute_result"
    }
   ],
   "source": [
    "M = ['bb', 'aa', 'cc']\n",
    "M"
   ]
  },
  {
   "cell_type": "code",
   "execution_count": 194,
   "metadata": {},
   "outputs": [
    {
     "data": {
      "text/plain": [
       "['aa', 'bb', 'cc']"
      ]
     },
     "execution_count": 194,
     "metadata": {},
     "output_type": "execute_result"
    }
   ],
   "source": [
    "M.sort()\n",
    "M"
   ]
  },
  {
   "cell_type": "code",
   "execution_count": 195,
   "metadata": {},
   "outputs": [
    {
     "data": {
      "text/plain": [
       "['cc', 'bb', 'aa']"
      ]
     },
     "execution_count": 195,
     "metadata": {},
     "output_type": "execute_result"
    }
   ],
   "source": [
    "M.reverse()\n",
    "M"
   ]
  },
  {
   "cell_type": "markdown",
   "metadata": {},
   "source": [
    "### Контроль границ (bounds checking)  \n",
    "Хотя списки не имеют фиксированных размеров, Python всё же не разрешает ссылаться на несуществующие элементы:"
   ]
  },
  {
   "cell_type": "code",
   "execution_count": 196,
   "metadata": {},
   "outputs": [
    {
     "data": {
      "text/plain": [
       "[123, 'spam', 'Ni']"
      ]
     },
     "execution_count": 196,
     "metadata": {},
     "output_type": "execute_result"
    }
   ],
   "source": [
    "L"
   ]
  },
  {
   "cell_type": "code",
   "execution_count": 197,
   "metadata": {},
   "outputs": [
    {
     "ename": "IndexError",
     "evalue": "list index out of range",
     "output_type": "error",
     "traceback": [
      "\u001b[1;31m---------------------------------------------------------------------------\u001b[0m",
      "\u001b[1;31mIndexError\u001b[0m                                Traceback (most recent call last)",
      "\u001b[1;32m<ipython-input-197-456cf771d009>\u001b[0m in \u001b[0;36m<module>\u001b[1;34m\u001b[0m\n\u001b[1;32m----> 1\u001b[1;33m \u001b[0mL\u001b[0m\u001b[1;33m[\u001b[0m\u001b[1;36m99\u001b[0m\u001b[1;33m]\u001b[0m\u001b[1;33m\u001b[0m\u001b[1;33m\u001b[0m\u001b[0m\n\u001b[0m",
      "\u001b[1;31mIndexError\u001b[0m: list index out of range"
     ]
    }
   ],
   "source": [
    "L[99]"
   ]
  },
  {
   "cell_type": "code",
   "execution_count": 198,
   "metadata": {},
   "outputs": [
    {
     "ename": "IndexError",
     "evalue": "list assignment index out of range",
     "output_type": "error",
     "traceback": [
      "\u001b[1;31m---------------------------------------------------------------------------\u001b[0m",
      "\u001b[1;31mIndexError\u001b[0m                                Traceback (most recent call last)",
      "\u001b[1;32m<ipython-input-198-822d039017d5>\u001b[0m in \u001b[0;36m<module>\u001b[1;34m\u001b[0m\n\u001b[1;32m----> 1\u001b[1;33m \u001b[0mL\u001b[0m\u001b[1;33m[\u001b[0m\u001b[1;36m99\u001b[0m\u001b[1;33m]\u001b[0m \u001b[1;33m=\u001b[0m \u001b[1;36m1\u001b[0m\u001b[1;33m\u001b[0m\u001b[1;33m\u001b[0m\u001b[0m\n\u001b[0m",
      "\u001b[1;31mIndexError\u001b[0m: list assignment index out of range"
     ]
    }
   ],
   "source": [
    "L[99] = 1"
   ]
  },
  {
   "cell_type": "markdown",
   "metadata": {},
   "source": [
    "### Вложение (nesting)"
   ]
  },
  {
   "cell_type": "code",
   "execution_count": 251,
   "metadata": {},
   "outputs": [
    {
     "data": {
      "text/plain": [
       "[[1, 2, 3], [4, 5, 6], [7, 8, 9]]"
      ]
     },
     "execution_count": 251,
     "metadata": {},
     "output_type": "execute_result"
    }
   ],
   "source": [
    "M = [[1, 2, 3], # Матрица 3 * 3 в виде вложенных списков\n",
    "     [4, 5, 6], # При использовании квадратных скобок код \n",
    "     [7, 8, 9]] # может занимать несколько строк\n",
    "M"
   ]
  },
  {
   "cell_type": "code",
   "execution_count": 200,
   "metadata": {},
   "outputs": [
    {
     "data": {
      "text/plain": [
       "[4, 5, 6]"
      ]
     },
     "execution_count": 200,
     "metadata": {},
     "output_type": "execute_result"
    }
   ],
   "source": [
    "M[1] # Получить строку 2"
   ]
  },
  {
   "cell_type": "code",
   "execution_count": 202,
   "metadata": {},
   "outputs": [
    {
     "data": {
      "text/plain": [
       "6"
      ]
     },
     "execution_count": 202,
     "metadata": {},
     "output_type": "execute_result"
    }
   ],
   "source": [
    "M[1][2] # Получить строку 2 и затем элемент 3 внутри этой строки"
   ]
  },
  {
   "cell_type": "markdown",
   "metadata": {},
   "source": [
    "### Списковые включения (list comprehensions) \n",
    "- Происходят от системы обозначения множеств в математике. \n",
    "- Способ построение нового списка за счет выполнения выражения на элементе в последовательности, по одному за раз, слева направо.\n",
    "- Записываются в []."
   ]
  },
  {
   "cell_type": "code",
   "execution_count": 204,
   "metadata": {},
   "outputs": [
    {
     "data": {
      "text/plain": [
       "[2, 5, 8]"
      ]
     },
     "execution_count": 204,
     "metadata": {},
     "output_type": "execute_result"
    }
   ],
   "source": [
    "col2 = [row[1] for row in M] # Собрать элементы в столбце 2\n",
    "col2"
   ]
  },
  {
   "cell_type": "code",
   "execution_count": 205,
   "metadata": {},
   "outputs": [
    {
     "data": {
      "text/plain": [
       "[3, 6, 9]"
      ]
     },
     "execution_count": 205,
     "metadata": {},
     "output_type": "execute_result"
    }
   ],
   "source": [
    "[row[1] + 1 for row in M] # Добавить 1 к каждому элементу в столбце 2"
   ]
  },
  {
   "cell_type": "code",
   "execution_count": 208,
   "metadata": {},
   "outputs": [
    {
     "data": {
      "text/plain": [
       "[2, 8]"
      ]
     },
     "execution_count": 208,
     "metadata": {},
     "output_type": "execute_result"
    }
   ],
   "source": [
    "[row[1] for row in M if row[1] % 2 == 0] # Отфильтровать нечетные значения"
   ]
  },
  {
   "cell_type": "markdown",
   "metadata": {},
   "source": [
    "Можно проходить по любому итеририруемому объекту:"
   ]
  },
  {
   "cell_type": "code",
   "execution_count": 210,
   "metadata": {},
   "outputs": [
    {
     "data": {
      "text/plain": [
       "[1, 5, 9]"
      ]
     },
     "execution_count": 210,
     "metadata": {},
     "output_type": "execute_result"
    }
   ],
   "source": [
    "diag = [M[i][i] for i in [0, 1, 2]] # Собрать диагональ из матрицы\n",
    "diag"
   ]
  },
  {
   "cell_type": "code",
   "execution_count": 212,
   "metadata": {},
   "outputs": [
    {
     "data": {
      "text/plain": [
       "['ss', 'pp', 'aa', 'mm']"
      ]
     },
     "execution_count": 212,
     "metadata": {},
     "output_type": "execute_result"
    }
   ],
   "source": [
    "doubles = [c * 2 for c in 'spam'] # Повторить символы в строке\n",
    "doubles"
   ]
  },
  {
   "cell_type": "code",
   "execution_count": 213,
   "metadata": {},
   "outputs": [
    {
     "data": {
      "text/plain": [
       "'ssppaamm'"
      ]
     },
     "execution_count": 213,
     "metadata": {},
     "output_type": "execute_result"
    }
   ],
   "source": [
    "''.join(doubles)"
   ]
  },
  {
   "cell_type": "markdown",
   "metadata": {},
   "source": [
    "Аналогичное действие, но с генератором:"
   ]
  },
  {
   "cell_type": "code",
   "execution_count": 214,
   "metadata": {},
   "outputs": [
    {
     "data": {
      "text/plain": [
       "'ssppaamm'"
      ]
     },
     "execution_count": 214,
     "metadata": {},
     "output_type": "execute_result"
    }
   ],
   "source": [
    "''.join(c * 2 for c in 'spam')"
   ]
  },
  {
   "cell_type": "code",
   "execution_count": 215,
   "metadata": {},
   "outputs": [
    {
     "data": {
      "text/plain": [
       "[0, 1, 2, 3]"
      ]
     },
     "execution_count": 215,
     "metadata": {},
     "output_type": "execute_result"
    }
   ],
   "source": [
    "list(range(4)) # 0...3 (в Python 3.X требуется вызов list())"
   ]
  },
  {
   "cell_type": "code",
   "execution_count": 219,
   "metadata": {
    "scrolled": true
   },
   "outputs": [
    {
     "data": {
      "text/plain": [
       "range(0, 4)"
      ]
     },
     "execution_count": 219,
     "metadata": {},
     "output_type": "execute_result"
    }
   ],
   "source": [
    "range(4)"
   ]
  },
  {
   "cell_type": "code",
   "execution_count": 218,
   "metadata": {},
   "outputs": [
    {
     "data": {
      "text/plain": [
       "range"
      ]
     },
     "execution_count": 218,
     "metadata": {},
     "output_type": "execute_result"
    }
   ],
   "source": [
    "type(range(4))"
   ]
  },
  {
   "cell_type": "code",
   "execution_count": 220,
   "metadata": {},
   "outputs": [
    {
     "data": {
      "text/plain": [
       "[-6, -4, -2, 0, 2, 4, 6]"
      ]
     },
     "execution_count": 220,
     "metadata": {},
     "output_type": "execute_result"
    }
   ],
   "source": [
    "list(range(-6, 7, 2)) # от -6 до 6 с шагом 2"
   ]
  },
  {
   "cell_type": "code",
   "execution_count": 221,
   "metadata": {},
   "outputs": [
    {
     "data": {
      "text/plain": [
       "[[0, 0], [1, 1], [4, 8], [9, 27]]"
      ]
     },
     "execution_count": 221,
     "metadata": {},
     "output_type": "execute_result"
    }
   ],
   "source": [
    "[[x ** 2, x ** 3] for x in range(4)] # множественные (составные) значения"
   ]
  },
  {
   "cell_type": "code",
   "execution_count": 224,
   "metadata": {},
   "outputs": [
    {
     "data": {
      "text/plain": [
       "[[2, 1.0, 4], [4, 2.0, 8], [6, 3.0, 12]]"
      ]
     },
     "execution_count": 224,
     "metadata": {},
     "output_type": "execute_result"
    }
   ],
   "source": [
    "[[x, x / 2, x * 2] for x in range(-6, 7, 2) if x > 0] # Фильтр if"
   ]
  },
  {
   "cell_type": "markdown",
   "metadata": {},
   "source": [
    "Пример с __генератораом__, синтаксис которых похож на синтаксис list comprehensions: "
   ]
  },
  {
   "cell_type": "code",
   "execution_count": 226,
   "metadata": {},
   "outputs": [
    {
     "data": {
      "text/plain": [
       "[[1, 2, 3], [4, 5, 6], [7, 8, 9]]"
      ]
     },
     "execution_count": 226,
     "metadata": {},
     "output_type": "execute_result"
    }
   ],
   "source": [
    "M"
   ]
  },
  {
   "cell_type": "code",
   "execution_count": 228,
   "metadata": {},
   "outputs": [],
   "source": [
    "G = (sum(row) for row in M) # Создать генератор сумм элементов в строках"
   ]
  },
  {
   "cell_type": "code",
   "execution_count": 229,
   "metadata": {},
   "outputs": [
    {
     "data": {
      "text/plain": [
       "6"
      ]
     },
     "execution_count": 229,
     "metadata": {},
     "output_type": "execute_result"
    }
   ],
   "source": [
    "next(G) # Запустить протокол итерации next()\n",
    "        # iter(G) здесь не требуется"
   ]
  },
  {
   "cell_type": "code",
   "execution_count": 230,
   "metadata": {},
   "outputs": [
    {
     "data": {
      "text/plain": [
       "15"
      ]
     },
     "execution_count": 230,
     "metadata": {},
     "output_type": "execute_result"
    }
   ],
   "source": [
    "next(G) # Следующий элемент"
   ]
  },
  {
   "cell_type": "code",
   "execution_count": 231,
   "metadata": {},
   "outputs": [
    {
     "data": {
      "text/plain": [
       "24"
      ]
     },
     "execution_count": 231,
     "metadata": {},
     "output_type": "execute_result"
    }
   ],
   "source": [
    "next(G) # Следующий элемент"
   ]
  },
  {
   "cell_type": "markdown",
   "metadata": {},
   "source": [
    "Пример работы функции __map__:"
   ]
  },
  {
   "cell_type": "code",
   "execution_count": 232,
   "metadata": {},
   "outputs": [
    {
     "data": {
      "text/plain": [
       "[6, 15, 24]"
      ]
     },
     "execution_count": 232,
     "metadata": {},
     "output_type": "execute_result"
    }
   ],
   "source": [
    "list(map(sum, M)) # Отобразить действие функции sum на элементы в M"
   ]
  },
  {
   "cell_type": "code",
   "execution_count": 252,
   "metadata": {},
   "outputs": [
    {
     "data": {
      "text/plain": [
       "<map at 0x87da5c0>"
      ]
     },
     "execution_count": 252,
     "metadata": {},
     "output_type": "execute_result"
    }
   ],
   "source": [
    "m = map(sum, M)\n",
    "m"
   ]
  },
  {
   "cell_type": "code",
   "execution_count": 253,
   "metadata": {},
   "outputs": [
    {
     "data": {
      "text/plain": [
       "map"
      ]
     },
     "execution_count": 253,
     "metadata": {},
     "output_type": "execute_result"
    }
   ],
   "source": [
    "type(m)"
   ]
  },
  {
   "cell_type": "code",
   "execution_count": 254,
   "metadata": {},
   "outputs": [
    {
     "data": {
      "text/plain": [
       "6"
      ]
     },
     "execution_count": 254,
     "metadata": {},
     "output_type": "execute_result"
    }
   ],
   "source": [
    "next(m)"
   ]
  },
  {
   "cell_type": "code",
   "execution_count": 255,
   "metadata": {},
   "outputs": [
    {
     "data": {
      "text/plain": [
       "15"
      ]
     },
     "execution_count": 255,
     "metadata": {},
     "output_type": "execute_result"
    }
   ],
   "source": [
    "next(m)"
   ]
  },
  {
   "cell_type": "code",
   "execution_count": 256,
   "metadata": {},
   "outputs": [
    {
     "data": {
      "text/plain": [
       "24"
      ]
     },
     "execution_count": 256,
     "metadata": {},
     "output_type": "execute_result"
    }
   ],
   "source": [
    "next(m)"
   ]
  },
  {
   "cell_type": "code",
   "execution_count": 257,
   "metadata": {},
   "outputs": [
    {
     "ename": "StopIteration",
     "evalue": "",
     "output_type": "error",
     "traceback": [
      "\u001b[1;31m---------------------------------------------------------------------------\u001b[0m",
      "\u001b[1;31mStopIteration\u001b[0m                             Traceback (most recent call last)",
      "\u001b[1;32m<ipython-input-257-8efa10874b95>\u001b[0m in \u001b[0;36m<module>\u001b[1;34m\u001b[0m\n\u001b[1;32m----> 1\u001b[1;33m \u001b[0mnext\u001b[0m\u001b[1;33m(\u001b[0m\u001b[0mm\u001b[0m\u001b[1;33m)\u001b[0m\u001b[1;33m\u001b[0m\u001b[1;33m\u001b[0m\u001b[0m\n\u001b[0m",
      "\u001b[1;31mStopIteration\u001b[0m: "
     ]
    }
   ],
   "source": [
    "next(m)"
   ]
  },
  {
   "cell_type": "markdown",
   "metadata": {},
   "source": [
    "Синтаксис list comprehensions можно также использовать для создания __множеств__ и __словарей__:"
   ]
  },
  {
   "cell_type": "code",
   "execution_count": 258,
   "metadata": {},
   "outputs": [
    {
     "data": {
      "text/plain": [
       "[[1, 2, 3], [4, 5, 6], [7, 8, 9]]"
      ]
     },
     "execution_count": 258,
     "metadata": {},
     "output_type": "execute_result"
    }
   ],
   "source": [
    "M"
   ]
  },
  {
   "cell_type": "code",
   "execution_count": 259,
   "metadata": {},
   "outputs": [
    {
     "data": {
      "text/plain": [
       "{6, 15, 24}"
      ]
     },
     "execution_count": 259,
     "metadata": {},
     "output_type": "execute_result"
    }
   ],
   "source": [
    "{sum(row) for row in M} # Создать множество сумм элементов в строках"
   ]
  },
  {
   "cell_type": "code",
   "execution_count": 260,
   "metadata": {},
   "outputs": [
    {
     "name": "stdout",
     "output_type": "stream",
     "text": [
      "{24, 6, 15}\n"
     ]
    }
   ],
   "source": [
    "print({sum(row) for row in M})"
   ]
  },
  {
   "cell_type": "code",
   "execution_count": 262,
   "metadata": {},
   "outputs": [
    {
     "data": {
      "text/plain": [
       "{0: 6, 1: 15, 2: 24}"
      ]
     },
     "execution_count": 262,
     "metadata": {},
     "output_type": "execute_result"
    }
   ],
   "source": [
    "{i : sum(M[i]) for i in range(len(M))} # Создать таблицу ключей/значений\n",
    "                            # сумм элементов в строках"
   ]
  },
  {
   "cell_type": "markdown",
   "metadata": {},
   "source": [
    "Т.о. списки, множества, словари и генераторы могут быть построены с помощью list comprehensions (некоторые из этих возможностей появились только с Python 2.7 и в Python 3.X):"
   ]
  },
  {
   "cell_type": "code",
   "execution_count": 244,
   "metadata": {},
   "outputs": [
    {
     "data": {
      "text/plain": [
       "[115, 112, 97, 109]"
      ]
     },
     "execution_count": 244,
     "metadata": {},
     "output_type": "execute_result"
    }
   ],
   "source": [
    "[ord(x) for x in 'spam'] # Список порядковых чисед для символов"
   ]
  },
  {
   "cell_type": "code",
   "execution_count": 245,
   "metadata": {},
   "outputs": [
    {
     "data": {
      "text/plain": [
       "{97, 109, 112, 115}"
      ]
     },
     "execution_count": 245,
     "metadata": {},
     "output_type": "execute_result"
    }
   ],
   "source": [
    "{ord(x) for x in 'spam'} # Множество с удаленными дублекатами пор. чисел "
   ]
  },
  {
   "cell_type": "code",
   "execution_count": 263,
   "metadata": {},
   "outputs": [
    {
     "data": {
      "text/plain": [
       "{'s': 115, 'p': 112, 'a': 97, 'm': 109}"
      ]
     },
     "execution_count": 263,
     "metadata": {},
     "output_type": "execute_result"
    }
   ],
   "source": [
    "{x: ord(x) for x in 'spam'} # Словарь с уникальными ключами"
   ]
  },
  {
   "cell_type": "code",
   "execution_count": 264,
   "metadata": {},
   "outputs": [
    {
     "data": {
      "text/plain": [
       "<generator object <genexpr> at 0x0000000008765C00>"
      ]
     },
     "execution_count": 264,
     "metadata": {},
     "output_type": "execute_result"
    }
   ],
   "source": [
    "(ord(x) for x in 'spam') # Генератор значений"
   ]
  },
  {
   "cell_type": "markdown",
   "metadata": {},
   "source": [
    "## Словари (dictionaries)\n",
    "- Словари Python - не являются последовательностями, и взамен известны как __отображения (mapping)__.  \n",
    "- Отображения также представляют собой __коллекции__ других объектов, но они хранят объекты по ключам, а не по относитльным позициям.   \n",
    "- Словари __изменяемы__.\n",
    "- В Python 3.7 (и вроде в более ранней версии) в словаре сохраняется порядок элементов по порядку их добавления, другое дело, стоит ли полагаться на то, что эта функцональность будет поддерживаться в будущем, а также возможны реализации Python (т.е. не CPython), в которых этого нет."
   ]
  },
  {
   "cell_type": "markdown",
   "metadata": {},
   "source": [
    "### Операции над отображениями"
   ]
  },
  {
   "cell_type": "code",
   "execution_count": 271,
   "metadata": {},
   "outputs": [
    {
     "data": {
      "text/plain": [
       "{'food': 'Spam', 'quantity': 4, 'color': 'pink'}"
      ]
     },
     "execution_count": 271,
     "metadata": {},
     "output_type": "execute_result"
    }
   ],
   "source": [
    "D = {'food': 'Spam', 'quantity': 4, 'color': 'pink'} # Написание словаря в виде литералов\n",
    "D"
   ]
  },
  {
   "cell_type": "code",
   "execution_count": 268,
   "metadata": {},
   "outputs": [
    {
     "data": {
      "text/plain": [
       "'Spam'"
      ]
     },
     "execution_count": 268,
     "metadata": {},
     "output_type": "execute_result"
    }
   ],
   "source": [
    "D['food'] # Извлечь значение ключа 'food'"
   ]
  },
  {
   "cell_type": "code",
   "execution_count": 272,
   "metadata": {},
   "outputs": [
    {
     "data": {
      "text/plain": [
       "{'food': 'Spam', 'quantity': 5, 'color': 'pink'}"
      ]
     },
     "execution_count": 272,
     "metadata": {},
     "output_type": "execute_result"
    }
   ],
   "source": [
    "D['quantity'] += 1 # Добавить 1 к значению ключа 'quantity'\n",
    "D"
   ]
  },
  {
   "cell_type": "code",
   "execution_count": 273,
   "metadata": {},
   "outputs": [
    {
     "data": {
      "text/plain": [
       "{'name': 'Bob', 'job': 'dev', 'age': 40}"
      ]
     },
     "execution_count": 273,
     "metadata": {},
     "output_type": "execute_result"
    }
   ],
   "source": [
    "D = {} # Создние пустого словаря\n",
    "D['name'] = 'Bob' # Присваиванеие приводит к созданию ключей\n",
    "D['job'] = 'dev'\n",
    "D['age'] = 40\n",
    "D"
   ]
  },
  {
   "cell_type": "code",
   "execution_count": 274,
   "metadata": {},
   "outputs": [
    {
     "name": "stdout",
     "output_type": "stream",
     "text": [
      "Bob\n"
     ]
    }
   ],
   "source": [
    "print(D['name'])"
   ]
  },
  {
   "cell_type": "code",
   "execution_count": 275,
   "metadata": {},
   "outputs": [
    {
     "data": {
      "text/plain": [
       "{'name': 'Bob', 'job': 'dev', 'age': '40'}"
      ]
     },
     "execution_count": 275,
     "metadata": {},
     "output_type": "execute_result"
    }
   ],
   "source": [
    "bob1 = dict(name='Bob', job='dev', age='40') # Вызов dict с аргументами \n",
    "                                             # с ключевыми словами\n",
    "bob1"
   ]
  },
  {
   "cell_type": "code",
   "execution_count": 276,
   "metadata": {},
   "outputs": [
    {
     "data": {
      "text/plain": [
       "{'name': 'Bob', 'job': 'dev', 'age': 40}"
      ]
     },
     "execution_count": 276,
     "metadata": {},
     "output_type": "execute_result"
    }
   ],
   "source": [
    "bob2 = dict(zip(['name', 'job', 'age'], ['Bob', 'dev', 40]))\n",
    "bob2"
   ]
  },
  {
   "cell_type": "code",
   "execution_count": 277,
   "metadata": {},
   "outputs": [
    {
     "data": {
      "text/plain": [
       "<zip at 0x88ba5c8>"
      ]
     },
     "execution_count": 277,
     "metadata": {},
     "output_type": "execute_result"
    }
   ],
   "source": [
    "zip(['name', 'job', 'age'], ['Bob', 'dev', 40])"
   ]
  },
  {
   "cell_type": "code",
   "execution_count": 285,
   "metadata": {},
   "outputs": [
    {
     "name": "stdout",
     "output_type": "stream",
     "text": [
      "<class 'zip'>\n",
      "('name', 'Bob')\n",
      "<class 'tuple'>\n"
     ]
    }
   ],
   "source": [
    "z = zip(['name', 'job', 'age'], ['Bob', 'dev', 40])\n",
    "print(type(z))\n",
    "el1 = next(z)\n",
    "print(el1)\n",
    "print(type(el1))"
   ]
  },
  {
   "cell_type": "code",
   "execution_count": 282,
   "metadata": {},
   "outputs": [
    {
     "ename": "ValueError",
     "evalue": "dictionary update sequence element #0 has length 4; 2 is required",
     "output_type": "error",
     "traceback": [
      "\u001b[1;31m---------------------------------------------------------------------------\u001b[0m",
      "\u001b[1;31mValueError\u001b[0m                                Traceback (most recent call last)",
      "\u001b[1;32m<ipython-input-282-581713bdba31>\u001b[0m in \u001b[0;36m<module>\u001b[1;34m\u001b[0m\n\u001b[1;32m----> 1\u001b[1;33m \u001b[0mbob3\u001b[0m \u001b[1;33m=\u001b[0m \u001b[0mdict\u001b[0m\u001b[1;33m(\u001b[0m\u001b[1;33m(\u001b[0m\u001b[1;34m'name'\u001b[0m\u001b[1;33m,\u001b[0m \u001b[1;34m'Bob'\u001b[0m\u001b[1;33m)\u001b[0m\u001b[1;33m)\u001b[0m\u001b[1;33m\u001b[0m\u001b[1;33m\u001b[0m\u001b[0m\n\u001b[0m",
      "\u001b[1;31mValueError\u001b[0m: dictionary update sequence element #0 has length 4; 2 is required"
     ]
    }
   ],
   "source": [
    "bob3 = dict(('name', 'Bob'))"
   ]
  },
  {
   "cell_type": "code",
   "execution_count": 287,
   "metadata": {},
   "outputs": [
    {
     "data": {
      "text/plain": [
       "{'name': 'Bob', 'job': 'dev', 'age': 40}"
      ]
     },
     "execution_count": 287,
     "metadata": {},
     "output_type": "execute_result"
    }
   ],
   "source": [
    "z = zip(['name', 'job', 'age'], ['Bob', 'dev', 40])\n",
    "bob3 = dict(z)\n",
    "bob3"
   ]
  },
  {
   "cell_type": "markdown",
   "metadata": {},
   "source": [
    "Пока не очень понимаю, как работает dict(zip)."
   ]
  },
  {
   "cell_type": "markdown",
   "metadata": {},
   "source": [
    "### Вложения (nesting)"
   ]
  },
  {
   "cell_type": "code",
   "execution_count": 288,
   "metadata": {},
   "outputs": [
    {
     "data": {
      "text/plain": [
       "{'name': {'first': 'Bob', 'last': 'Smith'},\n",
       " 'jobs': ['dev', 'mgr'],\n",
       " 'age': 40.5}"
      ]
     },
     "execution_count": 288,
     "metadata": {},
     "output_type": "execute_result"
    }
   ],
   "source": [
    "rec = {'name': {'first': 'Bob', 'last': 'Smith'},\n",
    "      'jobs': ['dev', 'mgr'],\n",
    "      'age': 40.5}\n",
    "rec"
   ]
  },
  {
   "cell_type": "code",
   "execution_count": 289,
   "metadata": {},
   "outputs": [
    {
     "data": {
      "text/plain": [
       "{'first': 'Bob', 'last': 'Smith'}"
      ]
     },
     "execution_count": 289,
     "metadata": {},
     "output_type": "execute_result"
    }
   ],
   "source": [
    "rec['name'] # 'name' - вложенный словарь"
   ]
  },
  {
   "cell_type": "code",
   "execution_count": 290,
   "metadata": {},
   "outputs": [
    {
     "data": {
      "text/plain": [
       "'Smith'"
      ]
     },
     "execution_count": 290,
     "metadata": {},
     "output_type": "execute_result"
    }
   ],
   "source": [
    "rec['name']['last'] # Индексация во вложенном словаре"
   ]
  },
  {
   "cell_type": "code",
   "execution_count": 291,
   "metadata": {},
   "outputs": [
    {
     "data": {
      "text/plain": [
       "['dev', 'mgr']"
      ]
     },
     "execution_count": 291,
     "metadata": {},
     "output_type": "execute_result"
    }
   ],
   "source": [
    "rec['jobs'] # 'jobs' - вложенный список"
   ]
  },
  {
   "cell_type": "code",
   "execution_count": 292,
   "metadata": {},
   "outputs": [
    {
     "data": {
      "text/plain": [
       "'mgr'"
      ]
     },
     "execution_count": 292,
     "metadata": {},
     "output_type": "execute_result"
    }
   ],
   "source": [
    "rec['jobs'][-1] # Индексация во вложенном списке"
   ]
  },
  {
   "cell_type": "code",
   "execution_count": 293,
   "metadata": {},
   "outputs": [],
   "source": [
    "rec['jobs'].append('janitar') # Расширение списка названий \n",
    "                              # должностей на месте"
   ]
  },
  {
   "cell_type": "code",
   "execution_count": 294,
   "metadata": {},
   "outputs": [
    {
     "data": {
      "text/plain": [
       "{'name': {'first': 'Bob', 'last': 'Smith'},\n",
       " 'jobs': ['dev', 'mgr', 'janitar'],\n",
       " 'age': 40.5}"
      ]
     },
     "execution_count": 294,
     "metadata": {},
     "output_type": "execute_result"
    }
   ],
   "source": [
    "rec"
   ]
  },
  {
   "cell_type": "code",
   "execution_count": 295,
   "metadata": {},
   "outputs": [],
   "source": [
    "rec = 0 # Теперь область памяти, занимаемая объектом, восстановлена (reclaimed)"
   ]
  },
  {
   "cell_type": "code",
   "execution_count": 296,
   "metadata": {},
   "outputs": [
    {
     "data": {
      "text/plain": [
       "0"
      ]
     },
     "execution_count": 296,
     "metadata": {},
     "output_type": "execute_result"
    }
   ],
   "source": [
    "rec"
   ]
  },
  {
   "cell_type": "markdown",
   "metadata": {},
   "source": [
    "### Недостающие ключи: проверки if"
   ]
  },
  {
   "cell_type": "code",
   "execution_count": 297,
   "metadata": {},
   "outputs": [
    {
     "data": {
      "text/plain": [
       "{'a': 1, 'b': 2, 'c': 3}"
      ]
     },
     "execution_count": 297,
     "metadata": {},
     "output_type": "execute_result"
    }
   ],
   "source": [
    "D = {'a': 1, 'b': 2, 'c': 3}\n",
    "D"
   ]
  },
  {
   "cell_type": "code",
   "execution_count": 298,
   "metadata": {},
   "outputs": [
    {
     "data": {
      "text/plain": [
       "{'a': 1, 'b': 2, 'c': 3, 'e': 99}"
      ]
     },
     "execution_count": 298,
     "metadata": {},
     "output_type": "execute_result"
    }
   ],
   "source": [
    "D['e'] = 99 # Присваивание новому ключу увеличивает словарь\n",
    "D"
   ]
  },
  {
   "cell_type": "code",
   "execution_count": 300,
   "metadata": {},
   "outputs": [
    {
     "ename": "KeyError",
     "evalue": "'f'",
     "output_type": "error",
     "traceback": [
      "\u001b[1;31m---------------------------------------------------------------------------\u001b[0m",
      "\u001b[1;31mKeyError\u001b[0m                                  Traceback (most recent call last)",
      "\u001b[1;32m<ipython-input-300-b8774e846187>\u001b[0m in \u001b[0;36m<module>\u001b[1;34m\u001b[0m\n\u001b[1;32m----> 1\u001b[1;33m \u001b[0mD\u001b[0m\u001b[1;33m[\u001b[0m\u001b[1;34m'f'\u001b[0m\u001b[1;33m]\u001b[0m \u001b[1;31m# Ссылка на несуществующий ключ приводит к ошибке\u001b[0m\u001b[1;33m\u001b[0m\u001b[1;33m\u001b[0m\u001b[0m\n\u001b[0m",
      "\u001b[1;31mKeyError\u001b[0m: 'f'"
     ]
    }
   ],
   "source": [
    "D['f'] # Ссылка на несуществующий ключ приводит к ОШИБКЕ"
   ]
  },
  {
   "cell_type": "code",
   "execution_count": 301,
   "metadata": {},
   "outputs": [
    {
     "data": {
      "text/plain": [
       "False"
      ]
     },
     "execution_count": 301,
     "metadata": {},
     "output_type": "execute_result"
    }
   ],
   "source": [
    "'f' in D"
   ]
  },
  {
   "cell_type": "code",
   "execution_count": 303,
   "metadata": {},
   "outputs": [
    {
     "name": "stdout",
     "output_type": "stream",
     "text": [
      "missing\n"
     ]
    }
   ],
   "source": [
    "if not 'f' in D: # Единственный оператор выбора (selection statement) в Python\n",
    "    print('missing')"
   ]
  },
  {
   "cell_type": "code",
   "execution_count": 304,
   "metadata": {},
   "outputs": [
    {
     "data": {
      "text/plain": [
       "0"
      ]
     },
     "execution_count": 304,
     "metadata": {},
     "output_type": "execute_result"
    }
   ],
   "source": [
    "value = D.get('x', 0) # Индекс со стандартным вариантом\n",
    "value"
   ]
  },
  {
   "cell_type": "code",
   "execution_count": 305,
   "metadata": {},
   "outputs": [
    {
     "data": {
      "text/plain": [
       "0"
      ]
     },
     "execution_count": 305,
     "metadata": {},
     "output_type": "execute_result"
    }
   ],
   "source": [
    "value = D['x'] if 'x' in D else 0 # Форма выражения if/else (тернарное выражение)\n",
    "value"
   ]
  },
  {
   "cell_type": "markdown",
   "metadata": {},
   "source": [
    "### Сортировка ключей: циклы for"
   ]
  },
  {
   "cell_type": "code",
   "execution_count": 384,
   "metadata": {},
   "outputs": [
    {
     "data": {
      "text/plain": [
       "{'b': 2, 'a': 1, 'c': 3}"
      ]
     },
     "execution_count": 384,
     "metadata": {},
     "output_type": "execute_result"
    }
   ],
   "source": [
    "D = {'b': 2, 'a': 1, 'c': 3}\n",
    "D"
   ]
  },
  {
   "cell_type": "code",
   "execution_count": 385,
   "metadata": {},
   "outputs": [
    {
     "data": {
      "text/plain": [
       "['b', 'a', 'c']"
      ]
     },
     "execution_count": 385,
     "metadata": {},
     "output_type": "execute_result"
    }
   ],
   "source": [
    "Ks = list(D.keys()) # Неупорядоченный список ключей\n",
    "Ks"
   ]
  },
  {
   "cell_type": "code",
   "execution_count": 386,
   "metadata": {},
   "outputs": [
    {
     "data": {
      "text/plain": [
       "['a', 'b', 'c']"
      ]
     },
     "execution_count": 386,
     "metadata": {},
     "output_type": "execute_result"
    }
   ],
   "source": [
    "Ks.sort() # Отсортированный список ключей\n",
    "Ks"
   ]
  },
  {
   "cell_type": "code",
   "execution_count": 387,
   "metadata": {},
   "outputs": [
    {
     "name": "stdout",
     "output_type": "stream",
     "text": [
      "a => 1\n",
      "b => 2\n",
      "c => 3\n"
     ]
    }
   ],
   "source": [
    "for key in Ks: # Проход по отсортированным ключам\n",
    "    print(key, '=>', D[key])"
   ]
  },
  {
   "cell_type": "markdown",
   "metadata": {},
   "source": [
    "Либо аналогично с помощью функции sorted():"
   ]
  },
  {
   "cell_type": "code",
   "execution_count": 388,
   "metadata": {},
   "outputs": [
    {
     "name": "stdout",
     "output_type": "stream",
     "text": [
      "a => 1\n",
      "b => 2\n",
      "c => 3\n"
     ]
    }
   ],
   "source": [
    "for key in sorted(D):\n",
    "    print(key, '=>', D[key])"
   ]
  },
  {
   "cell_type": "markdown",
   "metadata": {},
   "source": [
    "Ещё пример цикла for:"
   ]
  },
  {
   "cell_type": "code",
   "execution_count": 389,
   "metadata": {},
   "outputs": [
    {
     "name": "stdout",
     "output_type": "stream",
     "text": [
      "S\n",
      "P\n",
      "A\n",
      "M\n"
     ]
    }
   ],
   "source": [
    "for c in 'spam':\n",
    "    print(c.upper())"
   ]
  },
  {
   "cell_type": "markdown",
   "metadata": {},
   "source": [
    "Цикл for (а также list/dict/.. comprehension) выполняет операции не просто над последовательностями (и не только последовательностями, например, dict), а над __итерируемыми объектами__."
   ]
  },
  {
   "cell_type": "markdown",
   "metadata": {},
   "source": [
    "Пример цикла while:"
   ]
  },
  {
   "cell_type": "code",
   "execution_count": 391,
   "metadata": {},
   "outputs": [
    {
     "name": "stdout",
     "output_type": "stream",
     "text": [
      "spam!spam!spam!spam!\n",
      "spam!spam!spam!\n",
      "spam!spam!\n",
      "spam!\n"
     ]
    }
   ],
   "source": [
    "x = 4\n",
    "while x > 0:\n",
    "    print('spam!' * x)\n",
    "    x -= 1"
   ]
  },
  {
   "cell_type": "markdown",
   "metadata": {},
   "source": [
    "### Итерация и оптимизация"
   ]
  },
  {
   "cell_type": "markdown",
   "metadata": {},
   "source": [
    "_Протокол итерации_ является всепроникающей идеей в Python. Объект, который поддерживает __итерацию__ (протокол итерации) должен на вызов функции iter() возвращать значение, которое продвигается вперёд на вызовы функции next(), и генерирует исключение, когда завершает выпуск значений, т.е. после последнего."
   ]
  },
  {
   "cell_type": "code",
   "execution_count": 393,
   "metadata": {},
   "outputs": [
    {
     "data": {
      "text/plain": [
       "[1, 4, 9, 16]"
      ]
     },
     "execution_count": 393,
     "metadata": {},
     "output_type": "execute_result"
    }
   ],
   "source": [
    "squares = [x**2 for x in [1, 2, 3, 4]]\n",
    "squares"
   ]
  },
  {
   "cell_type": "markdown",
   "metadata": {},
   "source": [
    "Этот инструмент аналогичен следующим действиям:"
   ]
  },
  {
   "cell_type": "code",
   "execution_count": 394,
   "metadata": {},
   "outputs": [
    {
     "data": {
      "text/plain": [
       "[1, 4, 9, 16]"
      ]
     },
     "execution_count": 394,
     "metadata": {},
     "output_type": "execute_result"
    }
   ],
   "source": [
    "squares = []\n",
    "for x in [1, 2, 3, 4]: # Это то, что делает списковое включение\n",
    "    squares.append(x ** 2) # Оба инструмента внутренне следуют\n",
    "                           # протоколу итерации\n",
    "squares"
   ]
  },
  {
   "cell_type": "markdown",
   "metadata": {},
   "source": [
    "Считается (но это, на самом деле можно замерить самой и проверить), что инструменты вроде list comprehension, а также map и filter более производительные, чем цикл for."
   ]
  },
  {
   "cell_type": "markdown",
   "metadata": {},
   "source": [
    "## Кортежи\n",
    "- К. являются _последовательностями_ подобно спискам, но они _неизменяемы_ подобно строкам.  \n",
    "- Используются для представления фиксированных коллекций элементов.  \n",
    "- Записываются в круглых скобках.  \n",
    "- Элементы разделяются запятыми (как и в других коллекциях, в принципе, но в кортежах запятые - это основное: скобки часто могут быть опущены).   \n",
    "- Кортеж обеспечивает своего рода __целостность__ объекта, т.к. его нельзя изменить внутри программы."
   ]
  },
  {
   "cell_type": "code",
   "execution_count": 410,
   "metadata": {},
   "outputs": [],
   "source": [
    "T = (1, 2, 3, 4) # Кортеж из 4 элементов"
   ]
  },
  {
   "cell_type": "code",
   "execution_count": 411,
   "metadata": {},
   "outputs": [
    {
     "data": {
      "text/plain": [
       "4"
      ]
     },
     "execution_count": 411,
     "metadata": {},
     "output_type": "execute_result"
    }
   ],
   "source": [
    "len(T) # Длина"
   ]
  },
  {
   "cell_type": "code",
   "execution_count": 397,
   "metadata": {},
   "outputs": [
    {
     "data": {
      "text/plain": [
       "(1, 2, 3, 4, 5, 6)"
      ]
     },
     "execution_count": 397,
     "metadata": {},
     "output_type": "execute_result"
    }
   ],
   "source": [
    "T + (5, 6) # Конкатенация"
   ]
  },
  {
   "cell_type": "code",
   "execution_count": 398,
   "metadata": {},
   "outputs": [
    {
     "data": {
      "text/plain": [
       "1"
      ]
     },
     "execution_count": 398,
     "metadata": {},
     "output_type": "execute_result"
    }
   ],
   "source": [
    "T[0] # Индексация"
   ]
  },
  {
   "cell_type": "code",
   "execution_count": 399,
   "metadata": {},
   "outputs": [
    {
     "data": {
      "text/plain": [
       "(1,)"
      ]
     },
     "execution_count": 399,
     "metadata": {},
     "output_type": "execute_result"
    }
   ],
   "source": [
    "T[:1] # Нарезание"
   ]
  },
  {
   "cell_type": "markdown",
   "metadata": {},
   "source": [
    "__Методы кортежей__"
   ]
  },
  {
   "cell_type": "code",
   "execution_count": 400,
   "metadata": {},
   "outputs": [
    {
     "data": {
      "text/plain": [
       "3"
      ]
     },
     "execution_count": 400,
     "metadata": {},
     "output_type": "execute_result"
    }
   ],
   "source": [
    "T.index(4) # 4 обнаруживается по смещению 3"
   ]
  },
  {
   "cell_type": "code",
   "execution_count": 401,
   "metadata": {},
   "outputs": [
    {
     "data": {
      "text/plain": [
       "1"
      ]
     },
     "execution_count": 401,
     "metadata": {},
     "output_type": "execute_result"
    }
   ],
   "source": [
    "T.count(4) # 4 обнаруживается один раз"
   ]
  },
  {
   "cell_type": "code",
   "execution_count": 402,
   "metadata": {},
   "outputs": [
    {
     "ename": "TypeError",
     "evalue": "'tuple' object does not support item assignment",
     "output_type": "error",
     "traceback": [
      "\u001b[1;31m---------------------------------------------------------------------------\u001b[0m",
      "\u001b[1;31mTypeError\u001b[0m                                 Traceback (most recent call last)",
      "\u001b[1;32m<ipython-input-402-eebe08f13813>\u001b[0m in \u001b[0;36m<module>\u001b[1;34m\u001b[0m\n\u001b[1;32m----> 1\u001b[1;33m \u001b[0mT\u001b[0m\u001b[1;33m[\u001b[0m\u001b[1;36m0\u001b[0m\u001b[1;33m]\u001b[0m \u001b[1;33m=\u001b[0m \u001b[1;36m2\u001b[0m \u001b[1;31m# Кортежи неизменяемы\u001b[0m\u001b[1;33m\u001b[0m\u001b[1;33m\u001b[0m\u001b[0m\n\u001b[0m",
      "\u001b[1;31mTypeError\u001b[0m: 'tuple' object does not support item assignment"
     ]
    }
   ],
   "source": [
    "T[0] = 2 # Кортежи неизменяемы"
   ]
  },
  {
   "cell_type": "code",
   "execution_count": 403,
   "metadata": {},
   "outputs": [
    {
     "data": {
      "text/plain": [
       "(2, 2, 3, 4)"
      ]
     },
     "execution_count": 403,
     "metadata": {},
     "output_type": "execute_result"
    }
   ],
   "source": [
    "T = (2, ) + T[1:] # Создаёт новый кортеж для нового значения\n",
    "T"
   ]
  },
  {
   "cell_type": "code",
   "execution_count": 404,
   "metadata": {},
   "outputs": [
    {
     "ename": "TypeError",
     "evalue": "unsupported operand type(s) for +: 'int' and 'tuple'",
     "output_type": "error",
     "traceback": [
      "\u001b[1;31m---------------------------------------------------------------------------\u001b[0m",
      "\u001b[1;31mTypeError\u001b[0m                                 Traceback (most recent call last)",
      "\u001b[1;32m<ipython-input-404-a022ad889a03>\u001b[0m in \u001b[0;36m<module>\u001b[1;34m\u001b[0m\n\u001b[1;32m----> 1\u001b[1;33m \u001b[0mT\u001b[0m \u001b[1;33m=\u001b[0m \u001b[1;36m2\u001b[0m \u001b[1;33m+\u001b[0m \u001b[0mT\u001b[0m\u001b[1;33m[\u001b[0m\u001b[1;36m1\u001b[0m\u001b[1;33m:\u001b[0m\u001b[1;33m]\u001b[0m\u001b[1;33m\u001b[0m\u001b[1;33m\u001b[0m\u001b[0m\n\u001b[0m",
      "\u001b[1;31mTypeError\u001b[0m: unsupported operand type(s) for +: 'int' and 'tuple'"
     ]
    }
   ],
   "source": [
    "T = 2 + T[1:] # А вот так не получится"
   ]
  },
  {
   "cell_type": "code",
   "execution_count": 408,
   "metadata": {},
   "outputs": [
    {
     "ename": "SyntaxError",
     "evalue": "invalid syntax (<ipython-input-408-2926f66cec18>, line 1)",
     "output_type": "error",
     "traceback": [
      "\u001b[1;36m  File \u001b[1;32m\"<ipython-input-408-2926f66cec18>\"\u001b[1;36m, line \u001b[1;32m1\u001b[0m\n\u001b[1;33m    T = (,) + T[1:]\u001b[0m\n\u001b[1;37m         ^\u001b[0m\n\u001b[1;31mSyntaxError\u001b[0m\u001b[1;31m:\u001b[0m invalid syntax\n"
     ]
    }
   ],
   "source": [
    "T = (,) + T[1:] # SyntaxError: invalid syntax\n",
    "T"
   ]
  },
  {
   "cell_type": "code",
   "execution_count": 412,
   "metadata": {},
   "outputs": [
    {
     "data": {
      "text/plain": [
       "(2, 3, 4)"
      ]
     },
     "execution_count": 412,
     "metadata": {},
     "output_type": "execute_result"
    }
   ],
   "source": [
    "T = () + T[1:]\n",
    "T"
   ]
  },
  {
   "cell_type": "markdown",
   "metadata": {},
   "source": [
    "Кортеж может содержать элементы разных типов.  \n",
    "Круглые скобки в кортеже часто можно опускать; запятые - это то, что фактически строит кортеж:"
   ]
  },
  {
   "cell_type": "code",
   "execution_count": 413,
   "metadata": {},
   "outputs": [
    {
     "data": {
      "text/plain": [
       "3.0"
      ]
     },
     "execution_count": 413,
     "metadata": {},
     "output_type": "execute_result"
    }
   ],
   "source": [
    "N = 'spam', 3.0, [11, 22, 33]\n",
    "N[1]"
   ]
  },
  {
   "cell_type": "code",
   "execution_count": 414,
   "metadata": {},
   "outputs": [
    {
     "data": {
      "text/plain": [
       "22"
      ]
     },
     "execution_count": 414,
     "metadata": {},
     "output_type": "execute_result"
    }
   ],
   "source": [
    "N[2][1]"
   ]
  },
  {
   "cell_type": "code",
   "execution_count": 415,
   "metadata": {},
   "outputs": [
    {
     "ename": "AttributeError",
     "evalue": "'tuple' object has no attribute 'append'",
     "output_type": "error",
     "traceback": [
      "\u001b[1;31m---------------------------------------------------------------------------\u001b[0m",
      "\u001b[1;31mAttributeError\u001b[0m                            Traceback (most recent call last)",
      "\u001b[1;32m<ipython-input-415-423e91c3f0f3>\u001b[0m in \u001b[0;36m<module>\u001b[1;34m\u001b[0m\n\u001b[1;32m----> 1\u001b[1;33m \u001b[0mN\u001b[0m\u001b[1;33m.\u001b[0m\u001b[0mappend\u001b[0m\u001b[1;33m(\u001b[0m\u001b[1;36m4\u001b[0m\u001b[1;33m)\u001b[0m\u001b[1;33m\u001b[0m\u001b[1;33m\u001b[0m\u001b[0m\n\u001b[0m",
      "\u001b[1;31mAttributeError\u001b[0m: 'tuple' object has no attribute 'append'"
     ]
    }
   ],
   "source": [
    "N.append(4) # AttributeError: 'tuple' object has no attribute 'append'"
   ]
  },
  {
   "cell_type": "markdown",
   "metadata": {},
   "source": [
    "## Файлы\n",
    "- __Объекты файлов__ являются главным интерфейсом к внешним данным на компьютере.  \n",
    "- Чтобы создать объект файла Н. вызвать встроенную функцию open(), передав ей в виде строки имя внешнего файла и необязательный режим обработки (по умолчанию 'r' - чтение)."
   ]
  },
  {
   "cell_type": "markdown",
   "metadata": {},
   "source": [
    "Пример записи в файл:"
   ]
  },
  {
   "cell_type": "code",
   "execution_count": 416,
   "metadata": {},
   "outputs": [
    {
     "data": {
      "text/plain": [
       "6"
      ]
     },
     "execution_count": 416,
     "metadata": {},
     "output_type": "execute_result"
    }
   ],
   "source": [
    "f = open('data.txt', 'w') # Создать новый файл в режиме зписи ('w')\n",
    "f.write('Hello\\n') # Записать в него строки символов"
   ]
  },
  {
   "cell_type": "code",
   "execution_count": 417,
   "metadata": {},
   "outputs": [
    {
     "data": {
      "text/plain": [
       "6"
      ]
     },
     "execution_count": 417,
     "metadata": {},
     "output_type": "execute_result"
    }
   ],
   "source": [
    "f.write('world\\n') # Возвратить количество записанных элементов\n",
    "                   # в версии Python 3.X"
   ]
  },
  {
   "cell_type": "code",
   "execution_count": 418,
   "metadata": {},
   "outputs": [],
   "source": [
    "f.close() # Закрыть для сбрасывания буферов вывода на диск"
   ]
  },
  {
   "cell_type": "markdown",
   "metadata": {},
   "source": [
    "Пример чтения из файла:"
   ]
  },
  {
   "cell_type": "code",
   "execution_count": 419,
   "metadata": {},
   "outputs": [
    {
     "data": {
      "text/plain": [
       "'Hello\\nworld\\n'"
      ]
     },
     "execution_count": 419,
     "metadata": {},
     "output_type": "execute_result"
    }
   ],
   "source": [
    "f = open('data.txt') # 'r' (чтение) - стандартный режим обработки\n",
    "text = f.read() # Прочитать всё содержимое файла в строку\n",
    "text"
   ]
  },
  {
   "cell_type": "code",
   "execution_count": null,
   "metadata": {},
   "outputs": [],
   "source": [
    "print(text) # print интерпретирует управляющие символы"
   ]
  },
  {
   "cell_type": "code",
   "execution_count": 420,
   "metadata": {},
   "outputs": [
    {
     "data": {
      "text/plain": [
       "['Hello', 'world']"
      ]
     },
     "execution_count": 420,
     "metadata": {},
     "output_type": "execute_result"
    }
   ],
   "source": [
    "text.split() # Содержимое файла - всегда строка"
   ]
  },
  {
   "cell_type": "code",
   "execution_count": 421,
   "metadata": {},
   "outputs": [],
   "source": [
    "f.close()"
   ]
  },
  {
   "cell_type": "markdown",
   "metadata": {},
   "source": [
    "Пример чтения из файла с помощью _итератора_: автоматическое чтение файла строка за строкой в циклах for и других контекстах:"
   ]
  },
  {
   "cell_type": "code",
   "execution_count": 424,
   "metadata": {},
   "outputs": [
    {
     "name": "stdout",
     "output_type": "stream",
     "text": [
      "Hello\n",
      "\n",
      "world\n",
      "\n"
     ]
    }
   ],
   "source": [
    "for line in open('data.txt'):\n",
    "    print(line)"
   ]
  },
  {
   "cell_type": "markdown",
   "metadata": {},
   "source": [
    "__Атрибуты файлов:__"
   ]
  },
  {
   "cell_type": "code",
   "execution_count": 425,
   "metadata": {},
   "outputs": [
    {
     "data": {
      "text/plain": [
       "['_CHUNK_SIZE',\n",
       " '__class__',\n",
       " '__del__',\n",
       " '__delattr__',\n",
       " '__dict__',\n",
       " '__dir__',\n",
       " '__doc__',\n",
       " '__enter__',\n",
       " '__eq__',\n",
       " '__exit__',\n",
       " '__format__',\n",
       " '__ge__',\n",
       " '__getattribute__',\n",
       " '__getstate__',\n",
       " '__gt__',\n",
       " '__hash__',\n",
       " '__init__',\n",
       " '__init_subclass__',\n",
       " '__iter__',\n",
       " '__le__',\n",
       " '__lt__',\n",
       " '__ne__',\n",
       " '__new__',\n",
       " '__next__',\n",
       " '__reduce__',\n",
       " '__reduce_ex__',\n",
       " '__repr__',\n",
       " '__setattr__',\n",
       " '__sizeof__',\n",
       " '__str__',\n",
       " '__subclasshook__',\n",
       " '_checkClosed',\n",
       " '_checkReadable',\n",
       " '_checkSeekable',\n",
       " '_checkWritable',\n",
       " '_finalizing',\n",
       " 'buffer',\n",
       " 'close',\n",
       " 'closed',\n",
       " 'detach',\n",
       " 'encoding',\n",
       " 'errors',\n",
       " 'fileno',\n",
       " 'flush',\n",
       " 'isatty',\n",
       " 'line_buffering',\n",
       " 'mode',\n",
       " 'name',\n",
       " 'newlines',\n",
       " 'read',\n",
       " 'readable',\n",
       " 'readline',\n",
       " 'readlines',\n",
       " 'reconfigure',\n",
       " 'seek',\n",
       " 'seekable',\n",
       " 'tell',\n",
       " 'truncate',\n",
       " 'writable',\n",
       " 'write',\n",
       " 'write_through',\n",
       " 'writelines']"
      ]
     },
     "execution_count": 425,
     "metadata": {},
     "output_type": "execute_result"
    }
   ],
   "source": [
    "dir(f)"
   ]
  },
  {
   "cell_type": "code",
   "execution_count": 428,
   "metadata": {},
   "outputs": [
    {
     "data": {
      "text/plain": [
       "True"
      ]
     },
     "execution_count": 428,
     "metadata": {},
     "output_type": "execute_result"
    }
   ],
   "source": [
    "f.closed"
   ]
  },
  {
   "cell_type": "code",
   "execution_count": 430,
   "metadata": {},
   "outputs": [
    {
     "name": "stdout",
     "output_type": "stream",
     "text": [
      "Help on bool object:\n",
      "\n",
      "class bool(int)\n",
      " |  bool(x) -> bool\n",
      " |  \n",
      " |  Returns True when the argument x is true, False otherwise.\n",
      " |  The builtins True and False are the only two instances of the class bool.\n",
      " |  The class bool is a subclass of the class int, and cannot be subclassed.\n",
      " |  \n",
      " |  Method resolution order:\n",
      " |      bool\n",
      " |      int\n",
      " |      object\n",
      " |  \n",
      " |  Methods defined here:\n",
      " |  \n",
      " |  __and__(self, value, /)\n",
      " |      Return self&value.\n",
      " |  \n",
      " |  __or__(self, value, /)\n",
      " |      Return self|value.\n",
      " |  \n",
      " |  __rand__(self, value, /)\n",
      " |      Return value&self.\n",
      " |  \n",
      " |  __repr__(self, /)\n",
      " |      Return repr(self).\n",
      " |  \n",
      " |  __ror__(self, value, /)\n",
      " |      Return value|self.\n",
      " |  \n",
      " |  __rxor__(self, value, /)\n",
      " |      Return value^self.\n",
      " |  \n",
      " |  __str__(self, /)\n",
      " |      Return str(self).\n",
      " |  \n",
      " |  __xor__(self, value, /)\n",
      " |      Return self^value.\n",
      " |  \n",
      " |  ----------------------------------------------------------------------\n",
      " |  Static methods defined here:\n",
      " |  \n",
      " |  __new__(*args, **kwargs) from builtins.type\n",
      " |      Create and return a new object.  See help(type) for accurate signature.\n",
      " |  \n",
      " |  ----------------------------------------------------------------------\n",
      " |  Methods inherited from int:\n",
      " |  \n",
      " |  __abs__(self, /)\n",
      " |      abs(self)\n",
      " |  \n",
      " |  __add__(self, value, /)\n",
      " |      Return self+value.\n",
      " |  \n",
      " |  __bool__(self, /)\n",
      " |      self != 0\n",
      " |  \n",
      " |  __ceil__(...)\n",
      " |      Ceiling of an Integral returns itself.\n",
      " |  \n",
      " |  __divmod__(self, value, /)\n",
      " |      Return divmod(self, value).\n",
      " |  \n",
      " |  __eq__(self, value, /)\n",
      " |      Return self==value.\n",
      " |  \n",
      " |  __float__(self, /)\n",
      " |      float(self)\n",
      " |  \n",
      " |  __floor__(...)\n",
      " |      Flooring an Integral returns itself.\n",
      " |  \n",
      " |  __floordiv__(self, value, /)\n",
      " |      Return self//value.\n",
      " |  \n",
      " |  __format__(self, format_spec, /)\n",
      " |      Default object formatter.\n",
      " |  \n",
      " |  __ge__(self, value, /)\n",
      " |      Return self>=value.\n",
      " |  \n",
      " |  __getattribute__(self, name, /)\n",
      " |      Return getattr(self, name).\n",
      " |  \n",
      " |  __getnewargs__(self, /)\n",
      " |  \n",
      " |  __gt__(self, value, /)\n",
      " |      Return self>value.\n",
      " |  \n",
      " |  __hash__(self, /)\n",
      " |      Return hash(self).\n",
      " |  \n",
      " |  __index__(self, /)\n",
      " |      Return self converted to an integer, if self is suitable for use as an index into a list.\n",
      " |  \n",
      " |  __int__(self, /)\n",
      " |      int(self)\n",
      " |  \n",
      " |  __invert__(self, /)\n",
      " |      ~self\n",
      " |  \n",
      " |  __le__(self, value, /)\n",
      " |      Return self<=value.\n",
      " |  \n",
      " |  __lshift__(self, value, /)\n",
      " |      Return self<<value.\n",
      " |  \n",
      " |  __lt__(self, value, /)\n",
      " |      Return self<value.\n",
      " |  \n",
      " |  __mod__(self, value, /)\n",
      " |      Return self%value.\n",
      " |  \n",
      " |  __mul__(self, value, /)\n",
      " |      Return self*value.\n",
      " |  \n",
      " |  __ne__(self, value, /)\n",
      " |      Return self!=value.\n",
      " |  \n",
      " |  __neg__(self, /)\n",
      " |      -self\n",
      " |  \n",
      " |  __pos__(self, /)\n",
      " |      +self\n",
      " |  \n",
      " |  __pow__(self, value, mod=None, /)\n",
      " |      Return pow(self, value, mod).\n",
      " |  \n",
      " |  __radd__(self, value, /)\n",
      " |      Return value+self.\n",
      " |  \n",
      " |  __rdivmod__(self, value, /)\n",
      " |      Return divmod(value, self).\n",
      " |  \n",
      " |  __rfloordiv__(self, value, /)\n",
      " |      Return value//self.\n",
      " |  \n",
      " |  __rlshift__(self, value, /)\n",
      " |      Return value<<self.\n",
      " |  \n",
      " |  __rmod__(self, value, /)\n",
      " |      Return value%self.\n",
      " |  \n",
      " |  __rmul__(self, value, /)\n",
      " |      Return value*self.\n",
      " |  \n",
      " |  __round__(...)\n",
      " |      Rounding an Integral returns itself.\n",
      " |      Rounding with an ndigits argument also returns an integer.\n",
      " |  \n",
      " |  __rpow__(self, value, mod=None, /)\n",
      " |      Return pow(value, self, mod).\n",
      " |  \n",
      " |  __rrshift__(self, value, /)\n",
      " |      Return value>>self.\n",
      " |  \n",
      " |  __rshift__(self, value, /)\n",
      " |      Return self>>value.\n",
      " |  \n",
      " |  __rsub__(self, value, /)\n",
      " |      Return value-self.\n",
      " |  \n",
      " |  __rtruediv__(self, value, /)\n",
      " |      Return value/self.\n",
      " |  \n",
      " |  __sizeof__(self, /)\n",
      " |      Returns size in memory, in bytes.\n",
      " |  \n",
      " |  __sub__(self, value, /)\n",
      " |      Return self-value.\n",
      " |  \n",
      " |  __truediv__(self, value, /)\n",
      " |      Return self/value.\n",
      " |  \n",
      " |  __trunc__(...)\n",
      " |      Truncating an Integral returns itself.\n",
      " |  \n",
      " |  bit_length(self, /)\n",
      " |      Number of bits necessary to represent self in binary.\n",
      " |      \n",
      " |      >>> bin(37)\n",
      " |      '0b100101'\n",
      " |      >>> (37).bit_length()\n",
      " |      6\n",
      " |  \n",
      " |  conjugate(...)\n",
      " |      Returns self, the complex conjugate of any int.\n",
      " |  \n",
      " |  to_bytes(self, /, length, byteorder, *, signed=False)\n",
      " |      Return an array of bytes representing an integer.\n",
      " |      \n",
      " |      length\n",
      " |        Length of bytes object to use.  An OverflowError is raised if the\n",
      " |        integer is not representable with the given number of bytes.\n",
      " |      byteorder\n",
      " |        The byte order used to represent the integer.  If byteorder is 'big',\n",
      " |        the most significant byte is at the beginning of the byte array.  If\n",
      " |        byteorder is 'little', the most significant byte is at the end of the\n",
      " |        byte array.  To request the native byte order of the host system, use\n",
      " |        `sys.byteorder' as the byte order value.\n",
      " |      signed\n",
      " |        Determines whether two's complement is used to represent the integer.\n",
      " |        If signed is False and a negative integer is given, an OverflowError\n",
      " |        is raised.\n",
      " |  \n",
      " |  ----------------------------------------------------------------------\n",
      " |  Class methods inherited from int:\n",
      " |  \n",
      " |  from_bytes(bytes, byteorder, *, signed=False) from builtins.type\n",
      " |      Return the integer represented by the given array of bytes.\n",
      " |      \n",
      " |      bytes\n",
      " |        Holds the array of bytes to convert.  The argument must either\n",
      " |        support the buffer protocol or be an iterable object producing bytes.\n",
      " |        Bytes and bytearray are examples of built-in objects that support the\n",
      " |        buffer protocol.\n",
      " |      byteorder\n",
      " |        The byte order used to represent the integer.  If byteorder is 'big',\n",
      " |        the most significant byte is at the beginning of the byte array.  If\n",
      " |        byteorder is 'little', the most significant byte is at the end of the\n",
      " |        byte array.  To request the native byte order of the host system, use\n",
      " |        `sys.byteorder' as the byte order value.\n",
      " |      signed\n",
      " |        Indicates whether two's complement is used to represent the integer.\n",
      " |  \n",
      " |  ----------------------------------------------------------------------\n",
      " |  Data descriptors inherited from int:\n",
      " |  \n",
      " |  denominator\n",
      " |      the denominator of a rational number in lowest terms\n",
      " |  \n",
      " |  imag\n",
      " |      the imaginary part of a complex number\n",
      " |  \n",
      " |  numerator\n",
      " |      the numerator of a rational number in lowest terms\n",
      " |  \n",
      " |  real\n",
      " |      the real part of a complex number\n",
      "\n"
     ]
    }
   ],
   "source": [
    "help(f.closed)"
   ]
  },
  {
   "cell_type": "code",
   "execution_count": 431,
   "metadata": {},
   "outputs": [
    {
     "name": "stdout",
     "output_type": "stream",
     "text": [
      "Help on built-in function seek:\n",
      "\n",
      "seek(cookie, whence=0, /) method of _io.TextIOWrapper instance\n",
      "    Change stream position.\n",
      "    \n",
      "    Change the stream position to the given byte offset. The offset is\n",
      "    interpreted relative to the position indicated by whence.  Values\n",
      "    for whence are:\n",
      "    \n",
      "    * 0 -- start of stream (the default); offset should be zero or positive\n",
      "    * 1 -- current stream position; offset may be negative\n",
      "    * 2 -- end of stream; offset is usually negative\n",
      "    \n",
      "    Return the new absolute position.\n",
      "\n"
     ]
    }
   ],
   "source": [
    "help(f.seek)"
   ]
  },
  {
   "cell_type": "code",
   "execution_count": 434,
   "metadata": {},
   "outputs": [
    {
     "data": {
      "text/plain": [
       "'lo\\nworld\\n'"
      ]
     },
     "execution_count": 434,
     "metadata": {},
     "output_type": "execute_result"
    }
   ],
   "source": [
    "f = open('data.txt')\n",
    "f.seek(3)\n",
    "f.read()"
   ]
  },
  {
   "cell_type": "code",
   "execution_count": 436,
   "metadata": {},
   "outputs": [
    {
     "data": {
      "text/plain": [
       "False"
      ]
     },
     "execution_count": 436,
     "metadata": {},
     "output_type": "execute_result"
    }
   ],
   "source": [
    "f.closed"
   ]
  },
  {
   "cell_type": "code",
   "execution_count": 437,
   "metadata": {},
   "outputs": [],
   "source": [
    "f.close()"
   ]
  },
  {
   "cell_type": "markdown",
   "metadata": {},
   "source": [
    "### Файлы с двоичными байтами\n",
    "Двоичные файлы удобны для обработки медиаданных, доступа к данным, созданным программистами C и т.д."
   ]
  },
  {
   "cell_type": "markdown",
   "metadata": {},
   "source": [
    "В качестве иллюстрации модуль struct саособен создавать и распаковывать упакованные _двоичные данные_ (неформатированные байты записывающие значения, которые не являются объектами Python), подлежащие записи в двоичном режиме (подробнее позже в книге):"
   ]
  },
  {
   "cell_type": "code",
   "execution_count": 449,
   "metadata": {},
   "outputs": [
    {
     "data": {
      "text/plain": [
       "b'\\x00\\x00\\x00\\x07spam\\x00\\x08'"
      ]
     },
     "execution_count": 449,
     "metadata": {},
     "output_type": "execute_result"
    }
   ],
   "source": [
    "import struct\n",
    "packed = struct.pack('>i4sh', 7, b'spam', 8) # Создать упакованные\n",
    "                                             # двоичные данные\n",
    "packed  # 10 байтов, не объекты и не текст"
   ]
  },
  {
   "cell_type": "code",
   "execution_count": 450,
   "metadata": {},
   "outputs": [
    {
     "data": {
      "text/plain": [
       "10"
      ]
     },
     "execution_count": 450,
     "metadata": {},
     "output_type": "execute_result"
    }
   ],
   "source": [
    "file = open('data.bin', 'wb') # Открыть двоичный файл для записи\n",
    "file.write(packed) # Записать упакованные двоичные данные"
   ]
  },
  {
   "cell_type": "code",
   "execution_count": 451,
   "metadata": {},
   "outputs": [],
   "source": [
    "file.close()"
   ]
  },
  {
   "cell_type": "markdown",
   "metadata": {},
   "source": [
    "А теперь прочитаем эти байты:"
   ]
  },
  {
   "cell_type": "code",
   "execution_count": 452,
   "metadata": {},
   "outputs": [
    {
     "data": {
      "text/plain": [
       "b'\\x00\\x00\\x00\\x07spam\\x00\\x08'"
      ]
     },
     "execution_count": 452,
     "metadata": {},
     "output_type": "execute_result"
    }
   ],
   "source": [
    "data = open('data.bin', 'rb').read() # Открыть/прочитать\n",
    "                                     # двоичный файл данных\n",
    "data  # 10 байтов, неизмененные"
   ]
  },
  {
   "cell_type": "code",
   "execution_count": 454,
   "metadata": {},
   "outputs": [
    {
     "data": {
      "text/plain": [
       "b'spam'"
      ]
     },
     "execution_count": 454,
     "metadata": {},
     "output_type": "execute_result"
    }
   ],
   "source": [
    "data[4:8] # Нарезать байты в середине"
   ]
  },
  {
   "cell_type": "code",
   "execution_count": 455,
   "metadata": {},
   "outputs": [
    {
     "data": {
      "text/plain": [
       "[0, 0, 0, 7, 115, 112, 97, 109, 0, 8]"
      ]
     },
     "execution_count": 455,
     "metadata": {},
     "output_type": "execute_result"
    }
   ],
   "source": [
    "list(data) # Последовательность 8-битных байтов"
   ]
  },
  {
   "cell_type": "code",
   "execution_count": 453,
   "metadata": {},
   "outputs": [
    {
     "data": {
      "text/plain": [
       "(7, b'spam', 8)"
      ]
     },
     "execution_count": 453,
     "metadata": {},
     "output_type": "execute_result"
    }
   ],
   "source": [
    "struct.unpack('>i4sh', data) # Снова распаковать в объекты"
   ]
  },
  {
   "cell_type": "markdown",
   "metadata": {},
   "source": [
    "### Файлы с текстом Unicode"
   ]
  },
  {
   "cell_type": "code",
   "execution_count": 457,
   "metadata": {},
   "outputs": [
    {
     "data": {
      "text/plain": [
       "'spÄm'"
      ]
     },
     "execution_count": 457,
     "metadata": {},
     "output_type": "execute_result"
    }
   ],
   "source": [
    "S = 'sp\\xc4m' # Текст Unicode, отличающийся от ASCII\n",
    "S"
   ]
  },
  {
   "cell_type": "code",
   "execution_count": 458,
   "metadata": {},
   "outputs": [
    {
     "data": {
      "text/plain": [
       "'Ä'"
      ]
     },
     "execution_count": 458,
     "metadata": {},
     "output_type": "execute_result"
    }
   ],
   "source": [
    "S[2]  # Последовательность символов"
   ]
  },
  {
   "cell_type": "code",
   "execution_count": 460,
   "metadata": {},
   "outputs": [],
   "source": [
    "file = open('unidata.txt', 'w', encoding='utf-8') # Записать/закодировать\n",
    "                                                  # текст в UTF-8"
   ]
  },
  {
   "cell_type": "code",
   "execution_count": 461,
   "metadata": {},
   "outputs": [
    {
     "data": {
      "text/plain": [
       "4"
      ]
     },
     "execution_count": 461,
     "metadata": {},
     "output_type": "execute_result"
    }
   ],
   "source": [
    "file.write(S) # Зписано 4 символа"
   ]
  },
  {
   "cell_type": "code",
   "execution_count": 462,
   "metadata": {},
   "outputs": [],
   "source": [
    "file.close()"
   ]
  },
  {
   "cell_type": "code",
   "execution_count": 463,
   "metadata": {},
   "outputs": [],
   "source": [
    "text = open('unidata.txt', encoding='utf-8').read() # Прочитать/декодировать\n",
    "                                                    # текст из UTF-8"
   ]
  },
  {
   "cell_type": "code",
   "execution_count": 464,
   "metadata": {},
   "outputs": [
    {
     "data": {
      "text/plain": [
       "'spÄm'"
      ]
     },
     "execution_count": 464,
     "metadata": {},
     "output_type": "execute_result"
    }
   ],
   "source": [
    "text"
   ]
  },
  {
   "cell_type": "code",
   "execution_count": 465,
   "metadata": {},
   "outputs": [
    {
     "data": {
      "text/plain": [
       "4"
      ]
     },
     "execution_count": 465,
     "metadata": {},
     "output_type": "execute_result"
    }
   ],
   "source": [
    "len(text) # 4 символа (кодовые точки) "
   ]
  },
  {
   "cell_type": "code",
   "execution_count": 466,
   "metadata": {},
   "outputs": [],
   "source": [
    "raw = open('unidata.txt', 'rb').read() # Читать закодированные байты"
   ]
  },
  {
   "cell_type": "code",
   "execution_count": 467,
   "metadata": {},
   "outputs": [
    {
     "data": {
      "text/plain": [
       "b'sp\\xc3\\x84m'"
      ]
     },
     "execution_count": 467,
     "metadata": {},
     "output_type": "execute_result"
    }
   ],
   "source": [
    "raw"
   ]
  },
  {
   "cell_type": "code",
   "execution_count": 469,
   "metadata": {},
   "outputs": [
    {
     "data": {
      "text/plain": [
       "5"
      ]
     },
     "execution_count": 469,
     "metadata": {},
     "output_type": "execute_result"
    }
   ],
   "source": [
    "len(raw) # 5 байтов в кодировке UTF-8 "
   ]
  },
  {
   "cell_type": "code",
   "execution_count": 471,
   "metadata": {},
   "outputs": [
    {
     "data": {
      "text/plain": [
       "b'sp\\xc3\\x84m'"
      ]
     },
     "execution_count": 471,
     "metadata": {},
     "output_type": "execute_result"
    }
   ],
   "source": [
    "text.encode('utf-8') # Вручню кодировать в байты"
   ]
  },
  {
   "cell_type": "code",
   "execution_count": 472,
   "metadata": {},
   "outputs": [
    {
     "data": {
      "text/plain": [
       "'spÄm'"
      ]
     },
     "execution_count": 472,
     "metadata": {},
     "output_type": "execute_result"
    }
   ],
   "source": [
    "raw.decode('utf-8') # Вручную декодировать в строку"
   ]
  },
  {
   "cell_type": "markdown",
   "metadata": {},
   "source": [
    "Результаты кодирования строки text в других кодировках:"
   ]
  },
  {
   "cell_type": "code",
   "execution_count": 474,
   "metadata": {},
   "outputs": [
    {
     "data": {
      "text/plain": [
       "b'sp\\xc4m'"
      ]
     },
     "execution_count": 474,
     "metadata": {},
     "output_type": "execute_result"
    }
   ],
   "source": [
    "text.encode('latin-1') # Байты отличаются в разных кодировках"
   ]
  },
  {
   "cell_type": "code",
   "execution_count": 475,
   "metadata": {},
   "outputs": [
    {
     "data": {
      "text/plain": [
       "b'\\xff\\xfes\\x00p\\x00\\xc4\\x00m\\x00'"
      ]
     },
     "execution_count": 475,
     "metadata": {},
     "output_type": "execute_result"
    }
   ],
   "source": [
    "text.encode('utf-16')"
   ]
  },
  {
   "cell_type": "code",
   "execution_count": 476,
   "metadata": {},
   "outputs": [
    {
     "data": {
      "text/plain": [
       "(4, 10)"
      ]
     },
     "execution_count": 476,
     "metadata": {},
     "output_type": "execute_result"
    }
   ],
   "source": [
    "len(text.encode('latin-1')), len(text.encode('utf-16'))"
   ]
  },
  {
   "cell_type": "code",
   "execution_count": 478,
   "metadata": {},
   "outputs": [
    {
     "data": {
      "text/plain": [
       "'spÄm'"
      ]
     },
     "execution_count": 478,
     "metadata": {},
     "output_type": "execute_result"
    }
   ],
   "source": [
    "b'\\xff\\xfes\\x00p\\x00\\xc4\\x00m\\x00'.decode('utf-16') # Но декодируются\n",
    "                                                    # в ту же самую строку"
   ]
  },
  {
   "cell_type": "markdown",
   "metadata": {},
   "source": [
    "В Python 2.X есть небольшие отличия.  \n",
    "Чтобы получить Unicode строку (аналог str из Python 3.X), нужно воспользоваться функцией codecs.open() (работает аналогично ф-и open() из Python 3.X):"
   ]
  },
  {
   "cell_type": "code",
   "execution_count": 479,
   "metadata": {},
   "outputs": [
    {
     "data": {
      "text/plain": [
       "'spÄm'"
      ]
     },
     "execution_count": 479,
     "metadata": {},
     "output_type": "execute_result"
    }
   ],
   "source": [
    "import codecs\n",
    "codecs.open('unidata.txt', encoding='utf-8').read() # Python 2.X: читать/\n",
    "                                                    # декодировать текст\n",
    "# u'sp\\xc4m' # Результат в Python 2.X"
   ]
  },
  {
   "cell_type": "markdown",
   "metadata": {},
   "source": [
    "Но если воспользоваться просто фунцией, то в Python 2.X получим просто байтовые строки (в Python 2.X не требуют ведущего символа b) (которые являются обычными в Python 2.X по сравнению с Unicode строками, тогда как в Python 3.X ситуация, скорее, обратная):"
   ]
  },
  {
   "cell_type": "code",
   "execution_count": 480,
   "metadata": {},
   "outputs": [
    {
     "data": {
      "text/plain": [
       "b'sp\\xc3\\x84m'"
      ]
     },
     "execution_count": 480,
     "metadata": {},
     "output_type": "execute_result"
    }
   ],
   "source": [
    "open('unidata.txt', 'rb').read() # Python 2.X: читать низкоуровневые байты\n",
    "# 'sp\\xc3\\x84m' # Результат в Python 2.X"
   ]
  },
  {
   "cell_type": "code",
   "execution_count": 482,
   "metadata": {},
   "outputs": [
    {
     "data": {
      "text/plain": [
       "'spГ„m'"
      ]
     },
     "execution_count": 482,
     "metadata": {},
     "output_type": "execute_result"
    }
   ],
   "source": [
    "open('unidata.txt').read() # Python 2.X: также низкоуровневые/декодированные\n",
    "                           # т.е. режим 'rb' в Python 2.X в open() необязателен\n",
    "# 'sp\\xc3\\x84m' # Результат в Python 2.X"
   ]
  },
  {
   "cell_type": "markdown",
   "metadata": {},
   "source": [
    "..."
   ]
  },
  {
   "cell_type": "markdown",
   "metadata": {},
   "source": [
    "## Прочие основные типы"
   ]
  },
  {
   "cell_type": "markdown",
   "metadata": {},
   "source": [
    "__Множества__   \n",
    "Относительно новое добавление к языку, и не являются ни отображениями (mappings), ни последовательностями (sequences); на самом деле, __множества__ - это неупорядоченные коллекции уникальных и неизменяемых объектов, которые поддерживают обычные математические операции над множествами."
   ]
  },
  {
   "cell_type": "markdown",
   "metadata": {},
   "source": [
    "Создание множеств:"
   ]
  },
  {
   "cell_type": "code",
   "execution_count": 484,
   "metadata": {},
   "outputs": [],
   "source": [
    "X = set('spam') # Создать множество из последовательности\n",
    "                # в Python 2.Xи 3.X"
   ]
  },
  {
   "cell_type": "code",
   "execution_count": 485,
   "metadata": {},
   "outputs": [],
   "source": [
    "Y = {'h', 'a', 'm'} # Создать множество с помощью литералов множеств\n",
    "                    # в Python 3.x и Python 2.7"
   ]
  },
  {
   "cell_type": "code",
   "execution_count": 486,
   "metadata": {},
   "outputs": [
    {
     "data": {
      "text/plain": [
       "({'a', 'm', 'p', 's'}, {'a', 'h', 'm'})"
      ]
     },
     "execution_count": 486,
     "metadata": {},
     "output_type": "execute_result"
    }
   ],
   "source": [
    "X, Y # Кортеж из двух множеств без круглых скобок"
   ]
  },
  {
   "cell_type": "code",
   "execution_count": 487,
   "metadata": {},
   "outputs": [
    {
     "data": {
      "text/plain": [
       "{'a', 'm'}"
      ]
     },
     "execution_count": 487,
     "metadata": {},
     "output_type": "execute_result"
    }
   ],
   "source": [
    "X & Y # Пересечение"
   ]
  },
  {
   "cell_type": "code",
   "execution_count": 488,
   "metadata": {},
   "outputs": [
    {
     "data": {
      "text/plain": [
       "{'a', 'h', 'm', 'p', 's'}"
      ]
     },
     "execution_count": 488,
     "metadata": {},
     "output_type": "execute_result"
    }
   ],
   "source": [
    "X | Y # Объединение"
   ]
  },
  {
   "cell_type": "code",
   "execution_count": 489,
   "metadata": {},
   "outputs": [
    {
     "data": {
      "text/plain": [
       "{'p', 's'}"
      ]
     },
     "execution_count": 489,
     "metadata": {},
     "output_type": "execute_result"
    }
   ],
   "source": [
    "X - Y # Разность"
   ]
  },
  {
   "cell_type": "code",
   "execution_count": 491,
   "metadata": {},
   "outputs": [
    {
     "data": {
      "text/plain": [
       "False"
      ]
     },
     "execution_count": 491,
     "metadata": {},
     "output_type": "execute_result"
    }
   ],
   "source": [
    "X > Y # Надмножество"
   ]
  },
  {
   "cell_type": "code",
   "execution_count": 492,
   "metadata": {},
   "outputs": [
    {
     "data": {
      "text/plain": [
       "{1, 4, 9, 16}"
      ]
     },
     "execution_count": 492,
     "metadata": {},
     "output_type": "execute_result"
    }
   ],
   "source": [
    "{n ** 2 for n in [1, 2, 3, 4]} # Set comprehension in Python 3.x and Python 2.7"
   ]
  },
  {
   "cell_type": "markdown",
   "metadata": {},
   "source": [
    "Ещё примеры некоторых операций с множествами:"
   ]
  },
  {
   "cell_type": "code",
   "execution_count": 493,
   "metadata": {},
   "outputs": [
    {
     "data": {
      "text/plain": [
       "[1, 2, 3]"
      ]
     },
     "execution_count": 493,
     "metadata": {},
     "output_type": "execute_result"
    }
   ],
   "source": [
    "list(set([1, 2, 1, 3, 1])) # Фильтрация дубликатов\n",
    "                           #(возможно неупорядоченных)"
   ]
  },
  {
   "cell_type": "code",
   "execution_count": 494,
   "metadata": {},
   "outputs": [
    {
     "data": {
      "text/plain": [
       "{'p', 's'}"
      ]
     },
     "execution_count": 494,
     "metadata": {},
     "output_type": "execute_result"
    }
   ],
   "source": [
    "set('spam') - set('ham') # Нахождение разностей в коллекциях "
   ]
  },
  {
   "cell_type": "code",
   "execution_count": 495,
   "metadata": {},
   "outputs": [
    {
     "data": {
      "text/plain": [
       "True"
      ]
     },
     "execution_count": 495,
     "metadata": {},
     "output_type": "execute_result"
    }
   ],
   "source": [
    "set('spam') == set('asmp') # Нейтральная к порядку проверка "
   ]
  },
  {
   "cell_type": "markdown",
   "metadata": {},
   "source": [
    "Проверка членства in:"
   ]
  },
  {
   "cell_type": "code",
   "execution_count": 496,
   "metadata": {},
   "outputs": [
    {
     "data": {
      "text/plain": [
       "(True, True, True)"
      ]
     },
     "execution_count": 496,
     "metadata": {},
     "output_type": "execute_result"
    }
   ],
   "source": [
    "'p' in set('spam'), 'p' in 'spam', 'ham' in ['eggs', 'spam', 'ham']"
   ]
  },
  {
   "cell_type": "markdown",
   "metadata": {},
   "source": [
    "__Десятичные числа с фиксированной точностью__"
   ]
  },
  {
   "cell_type": "code",
   "execution_count": 497,
   "metadata": {},
   "outputs": [
    {
     "data": {
      "text/plain": [
       "0.3333333333333333"
      ]
     },
     "execution_count": 497,
     "metadata": {},
     "output_type": "execute_result"
    }
   ],
   "source": [
    "1 / 3"
   ]
  },
  {
   "cell_type": "code",
   "execution_count": 498,
   "metadata": {},
   "outputs": [
    {
     "data": {
      "text/plain": [
       "1.1666666666666665"
      ]
     },
     "execution_count": 498,
     "metadata": {},
     "output_type": "execute_result"
    }
   ],
   "source": [
    "(2 / 3) + (1 / 2)"
   ]
  },
  {
   "cell_type": "code",
   "execution_count": 35,
   "metadata": {},
   "outputs": [
    {
     "data": {
      "text/plain": [
       "Decimal('4.141')"
      ]
     },
     "execution_count": 35,
     "metadata": {},
     "output_type": "execute_result"
    }
   ],
   "source": [
    "import decimal # Десятичные числа: фиксированная точность\n",
    "d = decimal.Decimal('3.141')\n",
    "d + 1"
   ]
  },
  {
   "cell_type": "markdown",
   "metadata": {},
   "source": [
    "Хм, в примере ниже результат такой же и без использования decimal:"
   ]
  },
  {
   "cell_type": "code",
   "execution_count": 501,
   "metadata": {},
   "outputs": [
    {
     "data": {
      "text/plain": [
       "4.141"
      ]
     },
     "execution_count": 501,
     "metadata": {},
     "output_type": "execute_result"
    }
   ],
   "source": [
    "p = 3.141\n",
    "p + 1"
   ]
  },
  {
   "cell_type": "markdown",
   "metadata": {},
   "source": [
    "А вот в этиъ примерах уже видна разница:"
   ]
  },
  {
   "cell_type": "code",
   "execution_count": 502,
   "metadata": {},
   "outputs": [
    {
     "data": {
      "text/plain": [
       "0.3333333333333333"
      ]
     },
     "execution_count": 502,
     "metadata": {},
     "output_type": "execute_result"
    }
   ],
   "source": [
    "1.00 / 3.00"
   ]
  },
  {
   "cell_type": "code",
   "execution_count": 503,
   "metadata": {},
   "outputs": [
    {
     "data": {
      "text/plain": [
       "Decimal('0.33')"
      ]
     },
     "execution_count": 503,
     "metadata": {},
     "output_type": "execute_result"
    }
   ],
   "source": [
    "decimal.getcontext().prec = 2 # видимо, здесь устанавливается\n",
    "                              # точность для числа в периоде\n",
    "decimal.Decimal('1.00') / decimal.Decimal('3.00')"
   ]
  },
  {
   "cell_type": "markdown",
   "metadata": {},
   "source": [
    "На самом деле, как я узнаю далее, здесь была установлена не точность для числа в периоде, а скорее точность, которая применяется в процессе вычисления, и она же влияет на точность, которую будет иметь результат. Возможно, как-то так, но пока непонятно до конца."
   ]
  },
  {
   "cell_type": "code",
   "execution_count": 33,
   "metadata": {},
   "outputs": [
    {
     "data": {
      "text/plain": [
       "0.19999999999999998"
      ]
     },
     "execution_count": 33,
     "metadata": {},
     "output_type": "execute_result"
    }
   ],
   "source": [
    "0.3 - 0.1"
   ]
  },
  {
   "cell_type": "code",
   "execution_count": 37,
   "metadata": {},
   "outputs": [
    {
     "data": {
      "text/plain": [
       "Decimal('0.2')"
      ]
     },
     "execution_count": 37,
     "metadata": {},
     "output_type": "execute_result"
    }
   ],
   "source": [
    "decimal.Decimal('0.3') - decimal.Decimal('0.1')"
   ]
  },
  {
   "cell_type": "markdown",
   "metadata": {},
   "source": [
    "__Дробные числа (числа, представленные в виде обыкновенных дробей)__"
   ]
  },
  {
   "cell_type": "code",
   "execution_count": 506,
   "metadata": {},
   "outputs": [],
   "source": [
    "from fractions import Fraction # Дроби: числитель и знаменатель"
   ]
  },
  {
   "cell_type": "code",
   "execution_count": 507,
   "metadata": {},
   "outputs": [
    {
     "data": {
      "text/plain": [
       "Fraction(5, 3)"
      ]
     },
     "execution_count": 507,
     "metadata": {},
     "output_type": "execute_result"
    }
   ],
   "source": [
    "f = Fraction(2, 3)\n",
    "f + 1"
   ]
  },
  {
   "cell_type": "code",
   "execution_count": 510,
   "metadata": {},
   "outputs": [
    {
     "data": {
      "text/plain": [
       "Fraction(5, 3)"
      ]
     },
     "execution_count": 510,
     "metadata": {},
     "output_type": "execute_result"
    }
   ],
   "source": [
    "1 + f # Т.е. более значение более \"простого\" типа приводится к более \"сложному\"\n",
    "# Надеюсь, в дальнейшем в книге разберут, что происходит на самом деле"
   ]
  },
  {
   "cell_type": "code",
   "execution_count": 511,
   "metadata": {},
   "outputs": [
    {
     "data": {
      "text/plain": [
       "Fraction(7, 6)"
      ]
     },
     "execution_count": 511,
     "metadata": {},
     "output_type": "execute_result"
    }
   ],
   "source": [
    "f + Fraction(1, 2)"
   ]
  },
  {
   "cell_type": "markdown",
   "metadata": {},
   "source": [
    "__Булевские значения__  \n",
    "Б. з. с предопределенными объектами True и False, которые по существу предтавляю собой числа 1 и 0 со специальной логикой отображения:"
   ]
  },
  {
   "cell_type": "code",
   "execution_count": 512,
   "metadata": {},
   "outputs": [
    {
     "data": {
      "text/plain": [
       "(False, True)"
      ]
     },
     "execution_count": 512,
     "metadata": {},
     "output_type": "execute_result"
    }
   ],
   "source": [
    "1 > 2, 1 < 2 # Булевские значения"
   ]
  },
  {
   "cell_type": "code",
   "execution_count": 513,
   "metadata": {},
   "outputs": [
    {
     "data": {
      "text/plain": [
       "True"
      ]
     },
     "execution_count": 513,
     "metadata": {},
     "output_type": "execute_result"
    }
   ],
   "source": [
    "bool(1)"
   ]
  },
  {
   "cell_type": "code",
   "execution_count": 514,
   "metadata": {},
   "outputs": [
    {
     "data": {
      "text/plain": [
       "True"
      ]
     },
     "execution_count": 514,
     "metadata": {},
     "output_type": "execute_result"
    }
   ],
   "source": [
    "bool(2)"
   ]
  },
  {
   "cell_type": "code",
   "execution_count": 515,
   "metadata": {},
   "outputs": [
    {
     "data": {
      "text/plain": [
       "True"
      ]
     },
     "execution_count": 515,
     "metadata": {},
     "output_type": "execute_result"
    }
   ],
   "source": [
    "bool(-2)"
   ]
  },
  {
   "cell_type": "code",
   "execution_count": 516,
   "metadata": {},
   "outputs": [
    {
     "data": {
      "text/plain": [
       "False"
      ]
     },
     "execution_count": 516,
     "metadata": {},
     "output_type": "execute_result"
    }
   ],
   "source": [
    "bool(0)"
   ]
  },
  {
   "cell_type": "code",
   "execution_count": 517,
   "metadata": {},
   "outputs": [
    {
     "data": {
      "text/plain": [
       "True"
      ]
     },
     "execution_count": 517,
     "metadata": {},
     "output_type": "execute_result"
    }
   ],
   "source": [
    "bool('spam') # Булевское значение объекта"
   ]
  },
  {
   "cell_type": "markdown",
   "metadata": {},
   "source": [
    "__None (заполнитель/placeholder)__  \n",
    "Особый объект-заполнитель по имени None, часто используемый для инициализации имён и объектов. Имеет тип NoneType."
   ]
  },
  {
   "cell_type": "code",
   "execution_count": 518,
   "metadata": {},
   "outputs": [
    {
     "data": {
      "text/plain": [
       "NoneType"
      ]
     },
     "execution_count": 518,
     "metadata": {},
     "output_type": "execute_result"
    }
   ],
   "source": [
    "type(None)"
   ]
  },
  {
   "cell_type": "code",
   "execution_count": 519,
   "metadata": {},
   "outputs": [],
   "source": [
    "X = None # Заполнитель None"
   ]
  },
  {
   "cell_type": "code",
   "execution_count": 522,
   "metadata": {},
   "outputs": [],
   "source": [
    "X # Так ничего не выведет"
   ]
  },
  {
   "cell_type": "code",
   "execution_count": 521,
   "metadata": {},
   "outputs": [
    {
     "name": "stdout",
     "output_type": "stream",
     "text": [
      "None\n"
     ]
    }
   ],
   "source": [
    "print(None)"
   ]
  },
  {
   "cell_type": "code",
   "execution_count": 523,
   "metadata": {},
   "outputs": [
    {
     "data": {
      "text/plain": [
       "[None, None, None, None, None, None, None, None, None, None]"
      ]
     },
     "execution_count": 523,
     "metadata": {},
     "output_type": "execute_result"
    }
   ],
   "source": [
    "L = [None] * 10\n",
    "L"
   ]
  },
  {
   "cell_type": "markdown",
   "metadata": {},
   "source": [
    "### Как нарушить гибкость кода"
   ]
  },
  {
   "cell_type": "markdown",
   "metadata": {},
   "source": [
    "Объект type, возвращаемый встроенной ф-ей type(), является объектом, который даёт тип другого объекта; результат ф-ии type() в Python 3.X слегка отличаеттся, поскольку _типы были полностью объединены с классами_."
   ]
  },
  {
   "cell_type": "code",
   "execution_count": 526,
   "metadata": {},
   "outputs": [
    {
     "name": "stdout",
     "output_type": "stream",
     "text": [
      "Help on class type in module builtins:\n",
      "\n",
      "class type(object)\n",
      " |  type(object_or_name, bases, dict)\n",
      " |  type(object) -> the object's type\n",
      " |  type(name, bases, dict) -> a new type\n",
      " |  \n",
      " |  Methods defined here:\n",
      " |  \n",
      " |  __call__(self, /, *args, **kwargs)\n",
      " |      Call self as a function.\n",
      " |  \n",
      " |  __delattr__(self, name, /)\n",
      " |      Implement delattr(self, name).\n",
      " |  \n",
      " |  __dir__(self, /)\n",
      " |      Specialized __dir__ implementation for types.\n",
      " |  \n",
      " |  __getattribute__(self, name, /)\n",
      " |      Return getattr(self, name).\n",
      " |  \n",
      " |  __init__(self, /, *args, **kwargs)\n",
      " |      Initialize self.  See help(type(self)) for accurate signature.\n",
      " |  \n",
      " |  __instancecheck__(self, instance, /)\n",
      " |      Check if an object is an instance.\n",
      " |  \n",
      " |  __repr__(self, /)\n",
      " |      Return repr(self).\n",
      " |  \n",
      " |  __setattr__(self, name, value, /)\n",
      " |      Implement setattr(self, name, value).\n",
      " |  \n",
      " |  __sizeof__(self, /)\n",
      " |      Return memory consumption of the type object.\n",
      " |  \n",
      " |  __subclasscheck__(self, subclass, /)\n",
      " |      Check if a class is a subclass.\n",
      " |  \n",
      " |  __subclasses__(self, /)\n",
      " |      Return a list of immediate subclasses.\n",
      " |  \n",
      " |  mro(self, /)\n",
      " |      Return a type's method resolution order.\n",
      " |  \n",
      " |  ----------------------------------------------------------------------\n",
      " |  Class methods defined here:\n",
      " |  \n",
      " |  __prepare__(...)\n",
      " |      __prepare__() -> dict\n",
      " |      used to create the namespace for the class statement\n",
      " |  \n",
      " |  ----------------------------------------------------------------------\n",
      " |  Static methods defined here:\n",
      " |  \n",
      " |  __new__(*args, **kwargs)\n",
      " |      Create and return a new object.  See help(type) for accurate signature.\n",
      " |  \n",
      " |  ----------------------------------------------------------------------\n",
      " |  Data descriptors defined here:\n",
      " |  \n",
      " |  __abstractmethods__\n",
      " |  \n",
      " |  __dict__\n",
      " |  \n",
      " |  __text_signature__\n",
      " |  \n",
      " |  ----------------------------------------------------------------------\n",
      " |  Data and other attributes defined here:\n",
      " |  \n",
      " |  __base__ = <class 'object'>\n",
      " |      The most base type\n",
      " |  \n",
      " |  __bases__ = (<class 'object'>,)\n",
      " |  \n",
      " |  __basicsize__ = 864\n",
      " |  \n",
      " |  __dictoffset__ = 264\n",
      " |  \n",
      " |  __flags__ = -2146675712\n",
      " |  \n",
      " |  __itemsize__ = 40\n",
      " |  \n",
      " |  __mro__ = (<class 'type'>, <class 'object'>)\n",
      " |  \n",
      " |  __weakrefoffset__ = 368\n",
      "\n"
     ]
    }
   ],
   "source": [
    "help(type)"
   ]
  },
  {
   "cell_type": "code",
   "execution_count": 527,
   "metadata": {},
   "outputs": [
    {
     "data": {
      "text/plain": [
       "[None, None, None, None, None, None, None, None, None, None]"
      ]
     },
     "execution_count": 527,
     "metadata": {},
     "output_type": "execute_result"
    }
   ],
   "source": [
    "L"
   ]
  },
  {
   "cell_type": "code",
   "execution_count": 529,
   "metadata": {},
   "outputs": [
    {
     "data": {
      "text/plain": [
       "list"
      ]
     },
     "execution_count": 529,
     "metadata": {},
     "output_type": "execute_result"
    }
   ],
   "source": [
    "type(L) # Python 3.X: типы являются классами и наоборот\n",
    "# <type 'list'> # Python 2.X: Типы: типом L является list"
   ]
  },
  {
   "cell_type": "code",
   "execution_count": 531,
   "metadata": {},
   "outputs": [
    {
     "data": {
      "text/plain": [
       "type"
      ]
     },
     "execution_count": 531,
     "metadata": {},
     "output_type": "execute_result"
    }
   ],
   "source": [
    "type(type(L)) # Python 2.X: Даже типы являются объектами\n",
    "# Python 3.X: Типы классов более подробнее рассматриваются в гл. 32"
   ]
  },
  {
   "cell_type": "markdown",
   "metadata": {},
   "source": [
    "Способы проверить в кодде тиры обрабатываемых объектов:"
   ]
  },
  {
   "cell_type": "code",
   "execution_count": 533,
   "metadata": {},
   "outputs": [
    {
     "name": "stdout",
     "output_type": "stream",
     "text": [
      "yes\n"
     ]
    }
   ],
   "source": [
    "if type(L) == type([]): # Проверка типа при необходимости...\n",
    "    print('yes')"
   ]
  },
  {
   "cell_type": "code",
   "execution_count": 534,
   "metadata": {},
   "outputs": [
    {
     "name": "stdout",
     "output_type": "stream",
     "text": [
      "yes\n"
     ]
    }
   ],
   "source": [
    "if type(L) == list: # Использование имени типа\n",
    "    print('yes')"
   ]
  },
  {
   "cell_type": "code",
   "execution_count": 535,
   "metadata": {},
   "outputs": [
    {
     "name": "stdout",
     "output_type": "stream",
     "text": [
      "yes\n"
     ]
    }
   ],
   "source": [
    "if isinstance(L, list): # Объектно-ориентированная проверка\n",
    "    print('yes')"
   ]
  },
  {
   "cell_type": "markdown",
   "metadata": {},
   "source": [
    "Но так поступать в программе Python __практически всегда неправильно__, т.к. выполняя такую проверку, программист фактически нарушает гибкость кода - ограничивает его работой только с одним типом. Без такое проверки код может быть способен работать с целым диапазоном типов.  \n",
    "Всё это связано с идеей полиморфизма, и уходит своими корнями в отсутствие в Python объявлений типов. Т.е. в Python мы имеем дело с __итерфейсами__ объектов, а не с типами. Другими словами нас заботит, что объект _делает_ , а не чем он _является_ ."
   ]
  },
  {
   "cell_type": "markdown",
   "metadata": {},
   "source": [
    "### Классы, определяемые пользователем"
   ]
  },
  {
   "cell_type": "markdown",
   "metadata": {},
   "source": [
    "Тип объекта, моделирующий сотрудника:"
   ]
  },
  {
   "cell_type": "code",
   "execution_count": 536,
   "metadata": {},
   "outputs": [],
   "source": [
    "class Worker:\n",
    "    def __init__(self, name, pay): # Инициировать при создании\n",
    "        self.name = name # self - новый объект\n",
    "        self.pay = pay\n",
    "        \n",
    "    def lastName(self):\n",
    "        return self.name.split()[-1] # Разбить строку по пробелам\n",
    "    \n",
    "    def giveRaise(self, percent):\n",
    "        self.pay *= (1.0 + percent) # Обновить pay на месте"
   ]
  },
  {
   "cell_type": "code",
   "execution_count": 537,
   "metadata": {},
   "outputs": [],
   "source": [
    "bob = Worker('Bob Smith', 50000)  # Создать два экземпляра\n",
    "sue = Worker('Sue Jones', 60000)  # Каждый имеет атрибуты name и pay"
   ]
  },
  {
   "cell_type": "code",
   "execution_count": 538,
   "metadata": {},
   "outputs": [
    {
     "data": {
      "text/plain": [
       "'Smith'"
      ]
     },
     "execution_count": 538,
     "metadata": {},
     "output_type": "execute_result"
    }
   ],
   "source": [
    "bob.lastName() # Вызвать метод: bob - это self"
   ]
  },
  {
   "cell_type": "code",
   "execution_count": 540,
   "metadata": {},
   "outputs": [
    {
     "data": {
      "text/plain": [
       "'Jones'"
      ]
     },
     "execution_count": 540,
     "metadata": {},
     "output_type": "execute_result"
    }
   ],
   "source": [
    "sue.lastName() # sue -  это self"
   ]
  },
  {
   "cell_type": "code",
   "execution_count": 542,
   "metadata": {},
   "outputs": [
    {
     "data": {
      "text/plain": [
       "66000.0"
      ]
     },
     "execution_count": 542,
     "metadata": {},
     "output_type": "execute_result"
    }
   ],
   "source": [
    "sue.giveRaise(.10) # Обновить атрибут pay в экземпляре sue\n",
    "sue.pay"
   ]
  },
  {
   "cell_type": "markdown",
   "metadata": {},
   "source": [
    "..."
   ]
  },
  {
   "cell_type": "markdown",
   "metadata": {},
   "source": [
    "# Глава 5. Числовые типы"
   ]
  },
  {
   "cell_type": "markdown",
   "metadata": {},
   "source": [
    "## Основы числовых типов"
   ]
  },
  {
   "cell_type": "markdown",
   "metadata": {},
   "source": [
    "..."
   ]
  },
  {
   "cell_type": "markdown",
   "metadata": {},
   "source": [
    "## Числовые литералы"
   ]
  },
  {
   "cell_type": "markdown",
   "metadata": {},
   "source": [
    "..."
   ]
  },
  {
   "cell_type": "markdown",
   "metadata": {},
   "source": [
    "- __Целые числа в Python 2.X: нормальные и длинные__  \n",
    "В Python 2.X существует два типа целых чисел - нормальные (часто 32 бита) и длинные (неограниченная точность): чтобы число стало длинным целым оно должно заканчиваться на l или L, и с этим же символом и выводится. Поскольку целые числа автоматически преобразуются в длинные целые, когда их величины не умещаются в выделенные биты, самостоятельно набирать букву L не нужно - если нужна повышенная точность, то Python выполнит преобразование.\n",
    "- __Целые числа в Python 3.X: единственный тип__  \n",
    "В Python 3.X нормальные и длинные типы целых чисел были объединены - есть один тип, который автоматически поддерживает неограниченную точность отдельного длинного типа целых чисел Python 2.X. В результате целые числа могут больше не записываться с хвостовой буквой l и L, и они больше не выводятся с данным символом."
   ]
  },
  {
   "cell_type": "markdown",
   "metadata": {},
   "source": [
    "..."
   ]
  },
  {
   "cell_type": "markdown",
   "metadata": {},
   "source": [
    "### Операции выражений Python "
   ]
  },
  {
   "cell_type": "markdown",
   "metadata": {},
   "source": [
    "..."
   ]
  },
  {
   "cell_type": "markdown",
   "metadata": {},
   "source": [
    "__Разнородные (числовые) типы преобразуются__"
   ]
  },
  {
   "cell_type": "code",
   "execution_count": 11,
   "metadata": {},
   "outputs": [
    {
     "data": {
      "text/plain": [
       "43.14"
      ]
     },
     "execution_count": 11,
     "metadata": {},
     "output_type": "execute_result"
    }
   ],
   "source": [
    "40 + 3.14 # Преобразование целого числа int в число float (с плавающей точкой)\n",
    "          # (точнее создаётся временная копия)\n",
    "          # математика для чисел float и результат: число float (с плавающей точкой)"
   ]
  },
  {
   "cell_type": "markdown",
   "metadata": {},
   "source": [
    "Проверка того, что создаётся копия:"
   ]
  },
  {
   "cell_type": "code",
   "execution_count": 15,
   "metadata": {},
   "outputs": [
    {
     "name": "stdout",
     "output_type": "stream",
     "text": [
      "<class 'int'>\n"
     ]
    },
    {
     "data": {
      "text/plain": [
       "43.14"
      ]
     },
     "execution_count": 15,
     "metadata": {},
     "output_type": "execute_result"
    }
   ],
   "source": [
    "a = 40\n",
    "print(type(a))\n",
    "b = 3.14\n",
    "a + b # Здесь создалась вещественное число из целого числа,\n",
    "      # на которое ссылается a"
   ]
  },
  {
   "cell_type": "code",
   "execution_count": 16,
   "metadata": {},
   "outputs": [
    {
     "data": {
      "text/plain": [
       "int"
      ]
     },
     "execution_count": 16,
     "metadata": {},
     "output_type": "execute_result"
    }
   ],
   "source": [
    "type(a) # Тип числа, на который ссылается a, не изменился"
   ]
  },
  {
   "cell_type": "markdown",
   "metadata": {},
   "source": [
    "Т.е. число a так и осталось целым числом. Вероятно, в выражении a + b не столько произошло преобразование операнда a к вещественному числу, сколько создалась временная вещественная копия целого числа a, и она уже складывалась с числом b."
   ]
  },
  {
   "cell_type": "markdown",
   "metadata": {},
   "source": [
    "Ручное преобразование типов (в котором, как правило нет нужды, т.к. Python автоматически преобразует операнды в более сложный тип внутри выражения):"
   ]
  },
  {
   "cell_type": "markdown",
   "metadata": {},
   "source": [
    "Вывод целых чисел в виде вещественных, который не влияет на сами числа:"
   ]
  },
  {
   "cell_type": "code",
   "execution_count": 17,
   "metadata": {
    "scrolled": true
   },
   "outputs": [
    {
     "data": {
      "text/plain": [
       "'40.00'"
      ]
     },
     "execution_count": 17,
     "metadata": {},
     "output_type": "execute_result"
    }
   ],
   "source": [
    "f'{a:.2f}'"
   ]
  },
  {
   "cell_type": "code",
   "execution_count": 18,
   "metadata": {
    "scrolled": true
   },
   "outputs": [
    {
     "data": {
      "text/plain": [
       "'3.00'"
      ]
     },
     "execution_count": 18,
     "metadata": {},
     "output_type": "execute_result"
    }
   ],
   "source": [
    "d = 3\n",
    "f'{d:.2f}'"
   ]
  },
  {
   "cell_type": "code",
   "execution_count": 20,
   "metadata": {},
   "outputs": [
    {
     "name": "stdout",
     "output_type": "stream",
     "text": [
      "<class 'int'> <class 'int'>\n"
     ]
    }
   ],
   "source": [
    "print(type(a), type(d))"
   ]
  },
  {
   "cell_type": "code",
   "execution_count": 5,
   "metadata": {
    "scrolled": true
   },
   "outputs": [
    {
     "data": {
      "text/plain": [
       "3"
      ]
     },
     "execution_count": 5,
     "metadata": {},
     "output_type": "execute_result"
    }
   ],
   "source": [
    "int(3.1415) # Сокрщает число float (с правающей точкой) до int (целого)"
   ]
  },
  {
   "cell_type": "code",
   "execution_count": 7,
   "metadata": {
    "scrolled": true
   },
   "outputs": [
    {
     "data": {
      "text/plain": [
       "-3"
      ]
     },
     "execution_count": 7,
     "metadata": {},
     "output_type": "execute_result"
    }
   ],
   "source": [
    "int(-3.1215) # Но не обязательно в меньшую сторону"
   ]
  },
  {
   "cell_type": "code",
   "execution_count": 26,
   "metadata": {},
   "outputs": [
    {
     "data": {
      "text/plain": [
       "3.0"
      ]
     },
     "execution_count": 26,
     "metadata": {},
     "output_type": "execute_result"
    }
   ],
   "source": [
    "float(3) # Преобразует целое число int в число с плавающей точкой float"
   ]
  },
  {
   "cell_type": "markdown",
   "metadata": {},
   "source": [
    "## Числа в действии"
   ]
  },
  {
   "cell_type": "markdown",
   "metadata": {},
   "source": [
    "### Переменные и базовые выражения"
   ]
  },
  {
   "cell_type": "code",
   "execution_count": 22,
   "metadata": {},
   "outputs": [],
   "source": [
    "a = 3 # Имя создаётся: не объявляется заранее\n",
    "b = 4"
   ]
  },
  {
   "cell_type": "code",
   "execution_count": 314,
   "metadata": {},
   "outputs": [
    {
     "data": {
      "text/plain": [
       "(4, 2)"
      ]
     },
     "execution_count": 314,
     "metadata": {},
     "output_type": "execute_result"
    }
   ],
   "source": [
    "a + 1, a - 1 # Сложение, вычитание"
   ]
  },
  {
   "cell_type": "code",
   "execution_count": 315,
   "metadata": {},
   "outputs": [
    {
     "data": {
      "text/plain": [
       "(12, 2.0)"
      ]
     },
     "execution_count": 315,
     "metadata": {},
     "output_type": "execute_result"
    }
   ],
   "source": [
    "b * 3, b / 2 # Умножение, деление"
   ]
  },
  {
   "cell_type": "code",
   "execution_count": 316,
   "metadata": {},
   "outputs": [
    {
     "data": {
      "text/plain": [
       "(1, 16)"
      ]
     },
     "execution_count": 316,
     "metadata": {},
     "output_type": "execute_result"
    }
   ],
   "source": [
    "a % 2, b ** 2 # Деление по модулю (нахождение остатка),\n",
    "              # возведение в степень "
   ]
  },
  {
   "cell_type": "code",
   "execution_count": 317,
   "metadata": {},
   "outputs": [
    {
     "data": {
      "text/plain": [
       "(6.0, 16.0)"
      ]
     },
     "execution_count": 317,
     "metadata": {},
     "output_type": "execute_result"
    }
   ],
   "source": [
    "2 + 4.0, 2.0 ** b # Преобразование разнородных числовых типов"
   ]
  },
  {
   "cell_type": "markdown",
   "metadata": {},
   "source": [
    "Предварительно __объявлять__ переменные в Python __не требуется__, но им хотя бы раз __должны быть присвоены значения__, прежде чем их можно будет применять в выражениях:"
   ]
  },
  {
   "cell_type": "code",
   "execution_count": 318,
   "metadata": {},
   "outputs": [
    {
     "ename": "NameError",
     "evalue": "name 'ca' is not defined",
     "output_type": "error",
     "traceback": [
      "\u001b[1;31m---------------------------------------------------------------------------\u001b[0m",
      "\u001b[1;31mNameError\u001b[0m                                 Traceback (most recent call last)",
      "\u001b[1;32m<ipython-input-318-43539d72ce1b>\u001b[0m in \u001b[0;36m<module>\u001b[1;34m\u001b[0m\n\u001b[1;32m----> 1\u001b[1;33m \u001b[0mca\u001b[0m \u001b[1;33m*\u001b[0m \u001b[1;36m2\u001b[0m\u001b[1;33m\u001b[0m\u001b[1;33m\u001b[0m\u001b[0m\n\u001b[0m",
      "\u001b[1;31mNameError\u001b[0m: name 'ca' is not defined"
     ]
    }
   ],
   "source": [
    "ca * 2"
   ]
  },
  {
   "cell_type": "code",
   "execution_count": 25,
   "metadata": {},
   "outputs": [
    {
     "data": {
      "text/plain": [
       "5.0"
      ]
     },
     "execution_count": 25,
     "metadata": {},
     "output_type": "execute_result"
    }
   ],
   "source": [
    "b / 2 + a  # То же, что ((4 / 2) + 3) [используйте 2.0 в Python 2.X]"
   ]
  },
  {
   "cell_type": "code",
   "execution_count": 24,
   "metadata": {},
   "outputs": [
    {
     "data": {
      "text/plain": [
       "0.8"
      ]
     },
     "execution_count": 24,
     "metadata": {},
     "output_type": "execute_result"
    }
   ],
   "source": [
    "b / (2.0 + a) # То же, что (4 / (2.0 + 3))"
   ]
  },
  {
   "cell_type": "markdown",
   "metadata": {},
   "source": [
    "### Форматы числового отображения"
   ]
  },
  {
   "cell_type": "code",
   "execution_count": 327,
   "metadata": {},
   "outputs": [
    {
     "data": {
      "text/plain": [
       "0.8"
      ]
     },
     "execution_count": 327,
     "metadata": {},
     "output_type": "execute_result"
    }
   ],
   "source": [
    "b / (2.0 + a)   \n",
    "#0.8000000000000004 # Python 2.6 выводит больше (или меньше) цифр"
   ]
  },
  {
   "cell_type": "code",
   "execution_count": null,
   "metadata": {},
   "outputs": [],
   "source": [
    "print(b / (2.0 + a)) # Но print в Python 2.6 выполняет округление"
   ]
  },
  {
   "cell_type": "markdown",
   "metadata": {},
   "source": [
    "Но в памяти компьютера в действительности хранится одно и то же число (0.8000000000000004), просто для отображения (display) используются разные подходы, форматы: функция repr (в случае интерактивной подсказки; вывода) и функция str (в случае вызова print) (см. далее)."
   ]
  },
  {
   "cell_type": "markdown",
   "metadata": {},
   "source": [
    "__Некоторые способы отображения чисел:__"
   ]
  },
  {
   "cell_type": "code",
   "execution_count": 28,
   "metadata": {},
   "outputs": [],
   "source": [
    "num = 1 / 3"
   ]
  },
  {
   "cell_type": "code",
   "execution_count": 29,
   "metadata": {},
   "outputs": [
    {
     "data": {
      "text/plain": [
       "0.3333333333333333"
      ]
     },
     "execution_count": 29,
     "metadata": {},
     "output_type": "execute_result"
    }
   ],
   "source": [
    "num  # Автомтический вывод"
   ]
  },
  {
   "cell_type": "code",
   "execution_count": 338,
   "metadata": {},
   "outputs": [
    {
     "name": "stdout",
     "output_type": "stream",
     "text": [
      "0.3333333333333333\n"
     ]
    }
   ],
   "source": [
    "print(num)  # Явный вывод"
   ]
  },
  {
   "cell_type": "code",
   "execution_count": 339,
   "metadata": {
    "scrolled": true
   },
   "outputs": [
    {
     "data": {
      "text/plain": [
       "'3.333333e-01'"
      ]
     },
     "execution_count": 339,
     "metadata": {},
     "output_type": "execute_result"
    }
   ],
   "source": [
    "'%e' % num # Выражение форматирования строки"
   ]
  },
  {
   "cell_type": "code",
   "execution_count": 30,
   "metadata": {},
   "outputs": [
    {
     "data": {
      "text/plain": [
       "'0.33'"
      ]
     },
     "execution_count": 30,
     "metadata": {},
     "output_type": "execute_result"
    }
   ],
   "source": [
    "'%4.2f' % num # Выражение с альтернативным форматом для числа float (c плавающей точкой)"
   ]
  },
  {
   "cell_type": "code",
   "execution_count": 342,
   "metadata": {},
   "outputs": [
    {
     "data": {
      "text/plain": [
       "'  0.33'"
      ]
     },
     "execution_count": 342,
     "metadata": {},
     "output_type": "execute_result"
    }
   ],
   "source": [
    "'%6.2f' % num"
   ]
  },
  {
   "cell_type": "code",
   "execution_count": 343,
   "metadata": {},
   "outputs": [
    {
     "data": {
      "text/plain": [
       "'0.33'"
      ]
     },
     "execution_count": 343,
     "metadata": {},
     "output_type": "execute_result"
    }
   ],
   "source": [
    "'%3.2f' % num"
   ]
  },
  {
   "cell_type": "code",
   "execution_count": 344,
   "metadata": {},
   "outputs": [
    {
     "data": {
      "text/plain": [
       "'0.33'"
      ]
     },
     "execution_count": 344,
     "metadata": {},
     "output_type": "execute_result"
    }
   ],
   "source": [
    "'%0.2f' % num"
   ]
  },
  {
   "cell_type": "code",
   "execution_count": 345,
   "metadata": {},
   "outputs": [
    {
     "data": {
      "text/plain": [
       "'0.33'"
      ]
     },
     "execution_count": 345,
     "metadata": {},
     "output_type": "execute_result"
    }
   ],
   "source": [
    "'{0:4.2f}'.format(num) # Метод форматирования строк (с Python 2.6, 3.0 b т.д.)"
   ]
  },
  {
   "cell_type": "code",
   "execution_count": 348,
   "metadata": {
    "scrolled": true
   },
   "outputs": [
    {
     "data": {
      "text/plain": [
       "'0.33'"
      ]
     },
     "execution_count": 348,
     "metadata": {},
     "output_type": "execute_result"
    }
   ],
   "source": [
    "f'{num:4.2f}'  # f-строки: один из последних способов (с Python 3.6)"
   ]
  },
  {
   "cell_type": "markdown",
   "metadata": {},
   "source": [
    "__Форматы отображения str и repr__"
   ]
  },
  {
   "cell_type": "code",
   "execution_count": 329,
   "metadata": {},
   "outputs": [
    {
     "data": {
      "text/plain": [
       "\"'spam'\""
      ]
     },
     "execution_count": 329,
     "metadata": {},
     "output_type": "execute_result"
    }
   ],
   "source": [
    "repr('spam') # Используется интерактивным выводом: форма как в коде\n",
    "             # Результаты выглядят, как если бы они были кодом"
   ]
  },
  {
   "cell_type": "code",
   "execution_count": null,
   "metadata": {},
   "outputs": [],
   "source": [
    "str('spam') # Используется print: форма, дружественная к пользователю"
   ]
  },
  {
   "cell_type": "code",
   "execution_count": 323,
   "metadata": {},
   "outputs": [
    {
     "data": {
      "text/plain": [
       "'spam'"
      ]
     },
     "execution_count": 323,
     "metadata": {},
     "output_type": "execute_result"
    }
   ],
   "source": [
    "s = str('spam')\n",
    "s"
   ]
  },
  {
   "cell_type": "code",
   "execution_count": 324,
   "metadata": {},
   "outputs": [
    {
     "data": {
      "text/plain": [
       "str"
      ]
     },
     "execution_count": 324,
     "metadata": {},
     "output_type": "execute_result"
    }
   ],
   "source": [
    "type(s)"
   ]
  },
  {
   "cell_type": "code",
   "execution_count": 325,
   "metadata": {},
   "outputs": [
    {
     "data": {
      "text/plain": [
       "str"
      ]
     },
     "execution_count": 325,
     "metadata": {},
     "output_type": "execute_result"
    }
   ],
   "source": [
    "type(str('spam'))"
   ]
  },
  {
   "cell_type": "code",
   "execution_count": 326,
   "metadata": {},
   "outputs": [
    {
     "data": {
      "text/plain": [
       "str"
      ]
     },
     "execution_count": 326,
     "metadata": {},
     "output_type": "execute_result"
    }
   ],
   "source": [
    "type(repr('spam'))"
   ]
  },
  {
   "cell_type": "markdown",
   "metadata": {},
   "source": [
    "__Ещё немного про функции str:__  \n",
    "Функция str может использоваться для декодирования из байтовой строки (результатом работы str, как обычно, является строка Unicode) и служит альтернативой метода bytes.decode():"
   ]
  },
  {
   "cell_type": "code",
   "execution_count": 330,
   "metadata": {},
   "outputs": [
    {
     "data": {
      "text/plain": [
       "'xy'"
      ]
     },
     "execution_count": 330,
     "metadata": {},
     "output_type": "execute_result"
    }
   ],
   "source": [
    "str(b'xy', 'utf8')"
   ]
  },
  {
   "cell_type": "code",
   "execution_count": 332,
   "metadata": {},
   "outputs": [
    {
     "data": {
      "text/plain": [
       "'Ä'"
      ]
     },
     "execution_count": 332,
     "metadata": {},
     "output_type": "execute_result"
    }
   ],
   "source": [
    "str(b'\\xc4', 'latin1')"
   ]
  },
  {
   "cell_type": "markdown",
   "metadata": {},
   "source": [
    "### Сравнения: нормальные и сцеленные (chained)"
   ]
  },
  {
   "cell_type": "code",
   "execution_count": 349,
   "metadata": {},
   "outputs": [
    {
     "data": {
      "text/plain": [
       "True"
      ]
     },
     "execution_count": 349,
     "metadata": {},
     "output_type": "execute_result"
    }
   ],
   "source": [
    "1 < 2 # Меньше"
   ]
  },
  {
   "cell_type": "code",
   "execution_count": 352,
   "metadata": {},
   "outputs": [
    {
     "data": {
      "text/plain": [
       "True"
      ]
     },
     "execution_count": 352,
     "metadata": {},
     "output_type": "execute_result"
    }
   ],
   "source": [
    "2.0 >= 1 # Больше или равно: число разнородного типа 1 преобразуется в 1.0"
   ]
  },
  {
   "cell_type": "code",
   "execution_count": 353,
   "metadata": {},
   "outputs": [
    {
     "data": {
      "text/plain": [
       "True"
      ]
     },
     "execution_count": 353,
     "metadata": {},
     "output_type": "execute_result"
    }
   ],
   "source": [
    "2.0 == 2.0 # Равенство значений"
   ]
  },
  {
   "cell_type": "code",
   "execution_count": 354,
   "metadata": {},
   "outputs": [
    {
     "data": {
      "text/plain": [
       "False"
      ]
     },
     "execution_count": 354,
     "metadata": {},
     "output_type": "execute_result"
    }
   ],
   "source": [
    "2.0 != 2.0 # Неравентсво значений "
   ]
  },
  {
   "cell_type": "markdown",
   "metadata": {},
   "source": [
    "__!!!__  \n",
    "В числовых значениях __(и только в них)__ разрешены __разнородные__ типы. "
   ]
  },
  {
   "cell_type": "code",
   "execution_count": 355,
   "metadata": {},
   "outputs": [],
   "source": [
    "X = 2\n",
    "Y = 4\n",
    "Z = 6"
   ]
  },
  {
   "cell_type": "markdown",
   "metadata": {},
   "source": [
    "Приведенные ниже два  выражения идентичны по логике и результату, но первое короче и может выполняться чуть быстрее, т.к. Python придётся оценивать Y только один раз (интересно почему???):"
   ]
  },
  {
   "cell_type": "code",
   "execution_count": 356,
   "metadata": {},
   "outputs": [
    {
     "data": {
      "text/plain": [
       "True"
      ]
     },
     "execution_count": 356,
     "metadata": {},
     "output_type": "execute_result"
    }
   ],
   "source": [
    "X < Y < Z  # Сцепленные сравнения (chained comparisons): \n",
    "           # проверка вхождения в диапазон "
   ]
  },
  {
   "cell_type": "code",
   "execution_count": 357,
   "metadata": {},
   "outputs": [
    {
     "data": {
      "text/plain": [
       "True"
      ]
     },
     "execution_count": 357,
     "metadata": {},
     "output_type": "execute_result"
    }
   ],
   "source": [
    "X < Y and Y < Z"
   ]
  },
  {
   "cell_type": "code",
   "execution_count": 358,
   "metadata": {},
   "outputs": [
    {
     "data": {
      "text/plain": [
       "False"
      ]
     },
     "execution_count": 358,
     "metadata": {},
     "output_type": "execute_result"
    }
   ],
   "source": [
    "X < Y > Z"
   ]
  },
  {
   "cell_type": "code",
   "execution_count": 359,
   "metadata": {},
   "outputs": [
    {
     "data": {
      "text/plain": [
       "True"
      ]
     },
     "execution_count": 359,
     "metadata": {},
     "output_type": "execute_result"
    }
   ],
   "source": [
    "X < Y and Y < Z"
   ]
  },
  {
   "cell_type": "code",
   "execution_count": 361,
   "metadata": {},
   "outputs": [
    {
     "data": {
      "text/plain": [
       "True"
      ]
     },
     "execution_count": 361,
     "metadata": {},
     "output_type": "execute_result"
    }
   ],
   "source": [
    "1 < 2 < 3.0 < 4"
   ]
  },
  {
   "cell_type": "code",
   "execution_count": 360,
   "metadata": {},
   "outputs": [
    {
     "data": {
      "text/plain": [
       "False"
      ]
     },
     "execution_count": 360,
     "metadata": {},
     "output_type": "execute_result"
    }
   ],
   "source": [
    "1 < 2 < 3.0 > 4"
   ]
  },
  {
   "cell_type": "code",
   "execution_count": 363,
   "metadata": {},
   "outputs": [
    {
     "data": {
      "text/plain": [
       "False"
      ]
     },
     "execution_count": 363,
     "metadata": {},
     "output_type": "execute_result"
    }
   ],
   "source": [
    "1 == 2 < 3 # То же, что и 1 == 2 and 2 < 3\n",
    "           # Не то же, что и False < 3 (эквивалентно 0 < 3, которое истинно!)"
   ]
  },
  {
   "cell_type": "markdown",
   "metadata": {},
   "source": [
    "При сравнении чисел float (с плавающей точкой) могут быть проблемы из-за ограниченной точности:"
   ]
  },
  {
   "cell_type": "code",
   "execution_count": 365,
   "metadata": {},
   "outputs": [
    {
     "data": {
      "text/plain": [
       "False"
      ]
     },
     "execution_count": 365,
     "metadata": {},
     "output_type": "execute_result"
    }
   ],
   "source": [
    "1.1 + 2.2 == 3.3 # Разве это не должно быть True? "
   ]
  },
  {
   "cell_type": "code",
   "execution_count": 366,
   "metadata": {},
   "outputs": [
    {
     "data": {
      "text/plain": [
       "3.3000000000000003"
      ]
     },
     "execution_count": 366,
     "metadata": {},
     "output_type": "execute_result"
    }
   ],
   "source": [
    "1.1 + 2.2 # Близко к 3.3, но не точно: ограниченная точность"
   ]
  },
  {
   "cell_type": "code",
   "execution_count": 368,
   "metadata": {},
   "outputs": [
    {
     "data": {
      "text/plain": [
       "True"
      ]
     },
     "execution_count": 368,
     "metadata": {},
     "output_type": "execute_result"
    }
   ],
   "source": [
    "int(1.1 + 2.2) == int(3.3) # Нормально в случае преобразования\n",
    "                           # см. также round, floor, trunc\n",
    "        # Здесь также могут помочь десятичные и дробные числа"
   ]
  },
  {
   "cell_type": "code",
   "execution_count": 367,
   "metadata": {},
   "outputs": [
    {
     "data": {
      "text/plain": [
       "3"
      ]
     },
     "execution_count": 367,
     "metadata": {},
     "output_type": "execute_result"
    }
   ],
   "source": [
    "int(1.1 + 2.2)"
   ]
  },
  {
   "cell_type": "markdown",
   "metadata": {},
   "source": [
    "Но преобразование, конечно, какое-то жесткое получилось: просто срезало дробную часть. Наверное, для более точного привидения надо использовать десятичные (Decimal) или дробные (Fractional) числа."
   ]
  },
  {
   "cell_type": "markdown",
   "metadata": {},
   "source": [
    "### Деление: классическое, с округлениием в меньшую сторону (анг. floor, у нас целочисленное) и настоящее"
   ]
  },
  {
   "cell_type": "markdown",
   "metadata": {},
   "source": [
    "Классическое (только в Python 2.X) и настоящее деление:"
   ]
  },
  {
   "cell_type": "code",
   "execution_count": 369,
   "metadata": {},
   "outputs": [
    {
     "data": {
      "text/plain": [
       "2.5"
      ]
     },
     "execution_count": 369,
     "metadata": {},
     "output_type": "execute_result"
    }
   ],
   "source": [
    "10 / 4 # В Python 3.X сохраняется остаток: 2.5 (настоящее деление)\n",
    "       # В Python 2.X происходит усечение: 2 (классическое деление)\n",
    "       # После переноса из Python 2.X в Python 3.X работа этого м. нарушится"
   ]
  },
  {
   "cell_type": "code",
   "execution_count": 38,
   "metadata": {},
   "outputs": [
    {
     "data": {
      "text/plain": [
       "5.0"
      ]
     },
     "execution_count": 38,
     "metadata": {},
     "output_type": "execute_result"
    }
   ],
   "source": [
    "10 / 2 # в Python 3.X всегда сохраняет остаток, независимо от типов операндов"
   ]
  },
  {
   "cell_type": "code",
   "execution_count": 370,
   "metadata": {},
   "outputs": [
    {
     "data": {
      "text/plain": [
       "2.5"
      ]
     },
     "execution_count": 370,
     "metadata": {},
     "output_type": "execute_result"
    }
   ],
   "source": [
    "10 / 4.0 # Одинаковый рез-т и в Python 2.X, и в Python 3.x: 2.5 "
   ]
  },
  {
   "cell_type": "markdown",
   "metadata": {},
   "source": [
    "Округление в меньшую сторону (до меньшего целого):"
   ]
  },
  {
   "cell_type": "code",
   "execution_count": 371,
   "metadata": {},
   "outputs": [
    {
     "data": {
      "text/plain": [
       "2"
      ]
     },
     "execution_count": 371,
     "metadata": {},
     "output_type": "execute_result"
    }
   ],
   "source": [
    "10 // 4 # Одинаковый рез-т и в Python 2.X, и в Python 3.x: 2"
   ]
  },
  {
   "cell_type": "code",
   "execution_count": 40,
   "metadata": {},
   "outputs": [
    {
     "data": {
      "text/plain": [
       "-3"
      ]
     },
     "execution_count": 40,
     "metadata": {},
     "output_type": "execute_result"
    }
   ],
   "source": [
    "-10 // 4 # пример с отрицательным результатом: тоже округлилось в меньшую сторону\n",
    "         # В Python 2.X используйте это, если нужно округление в мен. сторону"
   ]
  },
  {
   "cell_type": "code",
   "execution_count": 372,
   "metadata": {},
   "outputs": [
    {
     "data": {
      "text/plain": [
       "2.0"
      ]
     },
     "execution_count": 372,
     "metadata": {},
     "output_type": "execute_result"
    }
   ],
   "source": [
    "10 // 4.0 # Одинаковый рез-т и в Python 2.X, и в Python 3.x: 2"
   ]
  },
  {
   "cell_type": "markdown",
   "metadata": {},
   "source": [
    "__Поддержка обеих версий Python__"
   ]
  },
  {
   "cell_type": "code",
   "execution_count": 374,
   "metadata": {},
   "outputs": [],
   "source": [
    "X = Y // Z  # Всегда усекает, всегда возвращает целочисленный \n",
    "            # результат для целых в Python 2.X и 3.X "
   ]
  },
  {
   "cell_type": "code",
   "execution_count": 375,
   "metadata": {},
   "outputs": [],
   "source": [
    "X = Y / float(Z) # Гарантирует деление числа float (с плавающей точкой) с \n",
    "                 # остатком в Python 2.X и 3.X "
   ]
  },
  {
   "cell_type": "markdown",
   "metadata": {},
   "source": [
    "Импортирование из __ future__ в в Python 2.X:"
   ]
  },
  {
   "cell_type": "code",
   "execution_count": 376,
   "metadata": {},
   "outputs": [],
   "source": [
    "from __future__ import division # Делает дступным поведение / из Python 3.x"
   ]
  },
  {
   "cell_type": "code",
   "execution_count": 377,
   "metadata": {},
   "outputs": [
    {
     "data": {
      "text/plain": [
       "2.5"
      ]
     },
     "execution_count": 377,
     "metadata": {},
     "output_type": "execute_result"
    }
   ],
   "source": [
    "10 / 4"
   ]
  },
  {
   "cell_type": "code",
   "execution_count": 378,
   "metadata": {},
   "outputs": [
    {
     "data": {
      "text/plain": [
       "2"
      ]
     },
     "execution_count": 378,
     "metadata": {},
     "output_type": "execute_result"
    }
   ],
   "source": [
    "10 // 4 # Целочисленное деление // одинаково в обеих версиях"
   ]
  },
  {
   "cell_type": "markdown",
   "metadata": {},
   "source": [
    "__Округление в меньшую сторону (до меньшего целого) vs усечение__"
   ]
  },
  {
   "cell_type": "code",
   "execution_count": 41,
   "metadata": {},
   "outputs": [],
   "source": [
    "import math"
   ]
  },
  {
   "cell_type": "code",
   "execution_count": 43,
   "metadata": {},
   "outputs": [
    {
     "data": {
      "text/plain": [
       "2"
      ]
     },
     "execution_count": 43,
     "metadata": {},
     "output_type": "execute_result"
    }
   ],
   "source": [
    "math.floor(2.5) # Ближайшее меньшее целое значение"
   ]
  },
  {
   "cell_type": "code",
   "execution_count": 44,
   "metadata": {},
   "outputs": [
    {
     "data": {
      "text/plain": [
       "-3"
      ]
     },
     "execution_count": 44,
     "metadata": {},
     "output_type": "execute_result"
    }
   ],
   "source": [
    "math.floor(-2.5)"
   ]
  },
  {
   "cell_type": "code",
   "execution_count": 46,
   "metadata": {},
   "outputs": [
    {
     "data": {
      "text/plain": [
       "2"
      ]
     },
     "execution_count": 46,
     "metadata": {},
     "output_type": "execute_result"
    }
   ],
   "source": [
    "math.trunc(2.5) # Усечение дробной части (в сторону нуля)"
   ]
  },
  {
   "cell_type": "code",
   "execution_count": 47,
   "metadata": {},
   "outputs": [
    {
     "data": {
      "text/plain": [
       "-2"
      ]
     },
     "execution_count": 47,
     "metadata": {},
     "output_type": "execute_result"
    }
   ],
   "source": [
    "math.trunc(-2.5)"
   ]
  },
  {
   "cell_type": "markdown",
   "metadata": {},
   "source": [
    "Округления (усечения) с помощью операций деления:"
   ]
  },
  {
   "cell_type": "code",
   "execution_count": 48,
   "metadata": {},
   "outputs": [
    {
     "data": {
      "text/plain": [
       "(2.5, -2.5)"
      ]
     },
     "execution_count": 48,
     "metadata": {},
     "output_type": "execute_result"
    }
   ],
   "source": [
    "5 / 2, 5 / -2  # В Python 2.X результат отличается: (2, -3)\n",
    "               # Остальное совпадает в Python 2.X и Python 3.X"
   ]
  },
  {
   "cell_type": "code",
   "execution_count": 49,
   "metadata": {},
   "outputs": [
    {
     "data": {
      "text/plain": [
       "(2, -3)"
      ]
     },
     "execution_count": 49,
     "metadata": {},
     "output_type": "execute_result"
    }
   ],
   "source": [
    "5 // 2, 5 // -2 # Округляет (усекает) в меньшую сторону: округляет\n",
    "                # до первого меньшего целого\n",
    "                # 2.5 становится 2, 2.5 становится -3"
   ]
  },
  {
   "cell_type": "code",
   "execution_count": 50,
   "metadata": {},
   "outputs": [
    {
     "data": {
      "text/plain": [
       "(2.5, -2.5)"
      ]
     },
     "execution_count": 50,
     "metadata": {},
     "output_type": "execute_result"
    }
   ],
   "source": [
    "5 / 2.0, 5 / -2.0"
   ]
  },
  {
   "cell_type": "code",
   "execution_count": 51,
   "metadata": {},
   "outputs": [
    {
     "data": {
      "text/plain": [
       "(2.0, -3.0)"
      ]
     },
     "execution_count": 51,
     "metadata": {},
     "output_type": "execute_result"
    }
   ],
   "source": [
    "5 // 2.0, 5 // -2.0 # Повторяется для чисел float (с плавающей точкой),\n",
    "                    # хотя результат имеет тот же тип float"
   ]
  },
  {
   "cell_type": "markdown",
   "metadata": {},
   "source": [
    "Усечение в сторону нуля независимо от знака:"
   ]
  },
  {
   "cell_type": "code",
   "execution_count": 52,
   "metadata": {},
   "outputs": [],
   "source": [
    "import math"
   ]
  },
  {
   "cell_type": "code",
   "execution_count": 53,
   "metadata": {},
   "outputs": [
    {
     "data": {
      "text/plain": [
       "-2.5"
      ]
     },
     "execution_count": 53,
     "metadata": {},
     "output_type": "execute_result"
    }
   ],
   "source": [
    "5 / -2 # Сохраняет остаток"
   ]
  },
  {
   "cell_type": "code",
   "execution_count": 55,
   "metadata": {},
   "outputs": [
    {
     "data": {
      "text/plain": [
       "-3"
      ]
     },
     "execution_count": 55,
     "metadata": {},
     "output_type": "execute_result"
    }
   ],
   "source": [
    "5 // -2 # Округляет остаток в меньшую сторону (до меньшего целого)"
   ]
  },
  {
   "cell_type": "code",
   "execution_count": 56,
   "metadata": {},
   "outputs": [
    {
     "data": {
      "text/plain": [
       "-2"
      ]
     },
     "execution_count": 56,
     "metadata": {},
     "output_type": "execute_result"
    }
   ],
   "source": [
    "math.trunc(5 / -2) # Усекает вместо округления (то же, что и int())"
   ]
  },
  {
   "cell_type": "code",
   "execution_count": 57,
   "metadata": {},
   "outputs": [
    {
     "data": {
      "text/plain": [
       "-2"
      ]
     },
     "execution_count": 57,
     "metadata": {},
     "output_type": "execute_result"
    }
   ],
   "source": [
    "int(5 / -2)"
   ]
  },
  {
   "cell_type": "code",
   "execution_count": 58,
   "metadata": {},
   "outputs": [
    {
     "data": {
      "text/plain": [
       "-2"
      ]
     },
     "execution_count": 58,
     "metadata": {},
     "output_type": "execute_result"
    }
   ],
   "source": [
    "round(5 / -2)"
   ]
  },
  {
   "cell_type": "code",
   "execution_count": 59,
   "metadata": {},
   "outputs": [
    {
     "data": {
      "text/plain": [
       "-2"
      ]
     },
     "execution_count": 59,
     "metadata": {},
     "output_type": "execute_result"
    }
   ],
   "source": [
    "round(-2.5)"
   ]
  },
  {
   "cell_type": "code",
   "execution_count": 60,
   "metadata": {},
   "outputs": [
    {
     "data": {
      "text/plain": [
       "-3"
      ]
     },
     "execution_count": 60,
     "metadata": {},
     "output_type": "execute_result"
    }
   ],
   "source": [
    "round(-2.6)"
   ]
  },
  {
   "cell_type": "code",
   "execution_count": 61,
   "metadata": {},
   "outputs": [
    {
     "data": {
      "text/plain": [
       "-2"
      ]
     },
     "execution_count": 61,
     "metadata": {},
     "output_type": "execute_result"
    }
   ],
   "source": [
    "round(-2.4)"
   ]
  },
  {
   "cell_type": "code",
   "execution_count": 62,
   "metadata": {},
   "outputs": [
    {
     "data": {
      "text/plain": [
       "2"
      ]
     },
     "execution_count": 62,
     "metadata": {},
     "output_type": "execute_result"
    }
   ],
   "source": [
    "round(2.5) # Вот это странно немного, я ожидала 3 в результате"
   ]
  },
  {
   "cell_type": "code",
   "execution_count": 63,
   "metadata": {},
   "outputs": [
    {
     "data": {
      "text/plain": [
       "2"
      ]
     },
     "execution_count": 63,
     "metadata": {},
     "output_type": "execute_result"
    }
   ],
   "source": [
    "round(2.4)"
   ]
  },
  {
   "cell_type": "code",
   "execution_count": 64,
   "metadata": {},
   "outputs": [
    {
     "data": {
      "text/plain": [
       "3"
      ]
     },
     "execution_count": 64,
     "metadata": {},
     "output_type": "execute_result"
    }
   ],
   "source": [
    "round(2.6)"
   ]
  },
  {
   "cell_type": "code",
   "execution_count": 65,
   "metadata": {},
   "outputs": [
    {
     "data": {
      "text/plain": [
       "-2.5"
      ]
     },
     "execution_count": 65,
     "metadata": {},
     "output_type": "execute_result"
    }
   ],
   "source": [
    "5 / float(-2) # В Python 2.X сохрняет остаток\n",
    "#-2.5         # результат В Python 2.X"
   ]
  },
  {
   "cell_type": "code",
   "execution_count": 67,
   "metadata": {},
   "outputs": [
    {
     "data": {
      "text/plain": [
       "(-2.5, 2)"
      ]
     },
     "execution_count": 67,
     "metadata": {},
     "output_type": "execute_result"
    }
   ],
   "source": [
    "5 / -2, 5 // 2 # В Python 2.X округляет результат в меньшую сторону\n",
    "#(-3, -3)      # результат в Python 2.X"
   ]
  },
  {
   "cell_type": "code",
   "execution_count": 68,
   "metadata": {},
   "outputs": [
    {
     "data": {
      "text/plain": [
       "-2"
      ]
     },
     "execution_count": 68,
     "metadata": {},
     "output_type": "execute_result"
    }
   ],
   "source": [
    "math.trunc(5 / float(-2)) # Усекает В Python 2.X\n",
    "#-2                       # результат в Python 2.X"
   ]
  },
  {
   "cell_type": "markdown",
   "metadata": {},
   "source": [
    "__Почему усечение важно? (Краткая сводка по операциям деления для справочных целей)__"
   ]
  },
  {
   "cell_type": "code",
   "execution_count": 76,
   "metadata": {},
   "outputs": [
    {
     "data": {
      "text/plain": [
       "(2.5, 2.5, -2.5, -2.5)"
      ]
     },
     "execution_count": 76,
     "metadata": {},
     "output_type": "execute_result"
    }
   ],
   "source": [
    "(5 / 2), (5 / 2.0), (5 / -2.0), (5 / -2) # Настоящее деление В Python 3.X \n",
    "                         # Классическое деление в Python 2.X\n",
    "#(2, 2.5, 2/5, -3)       # и рез-т отличается"
   ]
  },
  {
   "cell_type": "code",
   "execution_count": 74,
   "metadata": {},
   "outputs": [
    {
     "data": {
      "text/plain": [
       "(2, 2.0, -3.0, -3)"
      ]
     },
     "execution_count": 74,
     "metadata": {},
     "output_type": "execute_result"
    }
   ],
   "source": [
    "(5 // 2), (5 // 2.0), (5 // -2.0), (5 // -2) # Деление с округлением в меньшую сторону\n",
    "                                             # в Python 2.X и 3.X "
   ]
  },
  {
   "cell_type": "code",
   "execution_count": 75,
   "metadata": {},
   "outputs": [
    {
     "data": {
      "text/plain": [
       "(3.0, 3.0, 3, 3.0)"
      ]
     },
     "execution_count": 75,
     "metadata": {},
     "output_type": "execute_result"
    }
   ],
   "source": [
    "(9 / 3), (9.0 / 3), (9 // 3), (9 // 3.0) # Оба вида деления\n",
    "#(3, 3.0, 3, 3.0)  # В Python 2.X результат отличается только типом в примере 1"
   ]
  },
  {
   "cell_type": "markdown",
   "metadata": {},
   "source": [
    "### Точность целых чисел"
   ]
  },
  {
   "cell_type": "code",
   "execution_count": 77,
   "metadata": {},
   "outputs": [
    {
     "data": {
      "text/plain": [
       "100000000000000000000000000000000000"
      ]
     },
     "execution_count": 77,
     "metadata": {},
     "output_type": "execute_result"
    }
   ],
   "source": [
    "99999999999999999999999999999999999 + 1 # Python 3.X\n",
    "#100000000000000000000000000000000000L  # Результат в Python 2.X"
   ]
  },
  {
   "cell_type": "code",
   "execution_count": 78,
   "metadata": {},
   "outputs": [
    {
     "data": {
      "text/plain": [
       "1606938044258990275541962092341162602522202993782792835301376"
      ]
     },
     "execution_count": 78,
     "metadata": {},
     "output_type": "execute_result"
    }
   ],
   "source": [
    "2 ** 200\n",
    "#1606938044258990275541962092341162602522202993782792835301376 # Результат в Python 2.X"
   ]
  },
  {
   "cell_type": "markdown",
   "metadata": {},
   "source": [
    "Поскольку для поддержки расширенной точности, Python обязан проделывать дополнительную работу, целочисленная математика, как правило, __существенно медленнее__, чем обычно, когда числа становятся крупными."
   ]
  },
  {
   "cell_type": "markdown",
   "metadata": {},
   "source": [
    "### Комплексные числа"
   ]
  },
  {
   "cell_type": "code",
   "execution_count": 80,
   "metadata": {},
   "outputs": [
    {
     "data": {
      "text/plain": [
       "(-1+0j)"
      ]
     },
     "execution_count": 80,
     "metadata": {},
     "output_type": "execute_result"
    }
   ],
   "source": [
    "1j * 1J # В результате получается тоже комплексное число, \n",
    "        # пусть и с нулевой мнимой частью"
   ]
  },
  {
   "cell_type": "code",
   "execution_count": 81,
   "metadata": {},
   "outputs": [
    {
     "data": {
      "text/plain": [
       "(2+3j)"
      ]
     },
     "execution_count": 81,
     "metadata": {},
     "output_type": "execute_result"
    }
   ],
   "source": [
    "2 + 1j * 3"
   ]
  },
  {
   "cell_type": "code",
   "execution_count": 92,
   "metadata": {},
   "outputs": [
    {
     "data": {
      "text/plain": [
       "1j"
      ]
     },
     "execution_count": 92,
     "metadata": {},
     "output_type": "execute_result"
    }
   ],
   "source": [
    "1j # Просто j не пойдёт"
   ]
  },
  {
   "cell_type": "code",
   "execution_count": 82,
   "metadata": {},
   "outputs": [
    {
     "data": {
      "text/plain": [
       "(6+3j)"
      ]
     },
     "execution_count": 82,
     "metadata": {},
     "output_type": "execute_result"
    }
   ],
   "source": [
    "(2 + 1j) * 3"
   ]
  },
  {
   "cell_type": "code",
   "execution_count": 84,
   "metadata": {},
   "outputs": [],
   "source": [
    "import cmath # Аналог math для работы с комплексными числами"
   ]
  },
  {
   "cell_type": "code",
   "execution_count": 86,
   "metadata": {},
   "outputs": [
    {
     "data": {
      "text/plain": [
       "(1.2246467991473532e-16-0j)"
      ]
     },
     "execution_count": 86,
     "metadata": {},
     "output_type": "execute_result"
    }
   ],
   "source": [
    "cmath.sin(cmath.pi)"
   ]
  },
  {
   "cell_type": "code",
   "execution_count": 87,
   "metadata": {},
   "outputs": [
    {
     "data": {
      "text/plain": [
       "0j"
      ]
     },
     "execution_count": 87,
     "metadata": {},
     "output_type": "execute_result"
    }
   ],
   "source": [
    "cmath.sin(0)"
   ]
  },
  {
   "cell_type": "code",
   "execution_count": 88,
   "metadata": {},
   "outputs": [
    {
     "data": {
      "text/plain": [
       "(-0.8011526357338304-0j)"
      ]
     },
     "execution_count": 88,
     "metadata": {},
     "output_type": "execute_result"
    }
   ],
   "source": [
    "cmath.sin(180)"
   ]
  },
  {
   "cell_type": "code",
   "execution_count": 90,
   "metadata": {},
   "outputs": [
    {
     "data": {
      "text/plain": [
       "(-1+0j)"
      ]
     },
     "execution_count": 90,
     "metadata": {},
     "output_type": "execute_result"
    }
   ],
   "source": [
    "pow(1j, 2)"
   ]
  },
  {
   "cell_type": "markdown",
   "metadata": {},
   "source": [
    "### Шестнадцатеричная, восьмеричная и двоичная формы записи: литералы и преобразования"
   ]
  },
  {
   "cell_type": "markdown",
   "metadata": {},
   "source": [
    "В Python литералы для шестнадцатеричной, восьмеричной и двоичной формы являются просто __альтернативным синтаксисом__ для указания значений объекта целого числа. Независимо от того, какая система счисления применялась для указания величины целого числа, в памяти оно будет тем же самым:"
   ]
  },
  {
   "cell_type": "code",
   "execution_count": 93,
   "metadata": {},
   "outputs": [
    {
     "data": {
      "text/plain": [
       "(1, 16, 255)"
      ]
     },
     "execution_count": 93,
     "metadata": {},
     "output_type": "execute_result"
    }
   ],
   "source": [
    "0o1, 0o20, 0o377 # Восьмеричные литералы: основание 8, \n",
    "                 # цифры 0-7 (Python 3.X, 2.6+)"
   ]
  },
  {
   "cell_type": "code",
   "execution_count": 94,
   "metadata": {},
   "outputs": [
    {
     "data": {
      "text/plain": [
       "(1, 16, 255)"
      ]
     },
     "execution_count": 94,
     "metadata": {},
     "output_type": "execute_result"
    }
   ],
   "source": [
    "0x01, 0x10, 0xFF # Шестнадцатеричные литералы: основание 16,\n",
    "                 # цифры 0-9/A-F (Python 3.X, 2.X)"
   ]
  },
  {
   "cell_type": "code",
   "execution_count": 95,
   "metadata": {},
   "outputs": [
    {
     "data": {
      "text/plain": [
       "(1, 16, 255)"
      ]
     },
     "execution_count": 95,
     "metadata": {},
     "output_type": "execute_result"
    }
   ],
   "source": [
    "0b1, 0b10000, 0b11111111 # Двоичные литералы: основание 2\n",
    "                         # цифры 0-7 (Python 3.X, 2.6+)"
   ]
  },
  {
   "cell_type": "code",
   "execution_count": 96,
   "metadata": {},
   "outputs": [
    {
     "data": {
      "text/plain": [
       "(255, 255)"
      ]
     },
     "execution_count": 96,
     "metadata": {},
     "output_type": "execute_result"
    }
   ],
   "source": [
    "0xFF, (15 * (16 ** 1)) + (15 * (16 ** 0)) # Как шестнадцатеричное число\n",
    "                                          # отображается в десятичное число"
   ]
  },
  {
   "cell_type": "code",
   "execution_count": 97,
   "metadata": {},
   "outputs": [
    {
     "data": {
      "text/plain": [
       "(47, 47)"
      ]
     },
     "execution_count": 97,
     "metadata": {},
     "output_type": "execute_result"
    }
   ],
   "source": [
    "0x2F, (2 * (16 ** 1)) + (15 * (16 ** 0))"
   ]
  },
  {
   "cell_type": "code",
   "execution_count": 98,
   "metadata": {},
   "outputs": [
    {
     "data": {
      "text/plain": [
       "(15, 15, 15)"
      ]
     },
     "execution_count": 98,
     "metadata": {},
     "output_type": "execute_result"
    }
   ],
   "source": [
    "# Как двоичное число отображается в десятичное число\n",
    "0xF, 0b1111, (1 * (2 ** 3)) +(1 * (2 ** 2)) + (1 * (2 ** 1)) + (1 * (2 ** 0)) "
   ]
  },
  {
   "cell_type": "markdown",
   "metadata": {},
   "source": [
    "По умолчанию Python выводит целые значения в десятичной форме (т.е. по основанию 10), но предоставляет __функции bin(), oct() и hex()__, для преобразования целых чисел в __строки цифр из других систем счисления - по основанию 2, 8 и 16__:"
   ]
  },
  {
   "cell_type": "code",
   "execution_count": 99,
   "metadata": {},
   "outputs": [
    {
     "data": {
      "text/plain": [
       "('0o100', '0x40', '0b1000000')"
      ]
     },
     "execution_count": 99,
     "metadata": {},
     "output_type": "execute_result"
    }
   ],
   "source": [
    "oct(64), hex(64), bin(64) # Число -> строки цифр"
   ]
  },
  {
   "cell_type": "markdown",
   "metadata": {},
   "source": [
    "__Функция int()__ cо вторым необязательным аргументом:"
   ]
  },
  {
   "cell_type": "code",
   "execution_count": 100,
   "metadata": {},
   "outputs": [
    {
     "data": {
      "text/plain": [
       "(64, 64, 64, 64)"
      ]
     },
     "execution_count": 100,
     "metadata": {},
     "output_type": "execute_result"
    }
   ],
   "source": [
    "64, 0o100, 0x40, 0b1000000 # Цифры -> числа в сценариях и в строках (по умолчанию)"
   ]
  },
  {
   "cell_type": "code",
   "execution_count": 102,
   "metadata": {},
   "outputs": [
    {
     "data": {
      "text/plain": [
       "(64, 64, 64, 64)"
      ]
     },
     "execution_count": 102,
     "metadata": {},
     "output_type": "execute_result"
    }
   ],
   "source": [
    "int('64'), int('100', 8), int('0x40', 16), int('1000000', 2) # Литеральные \n",
    "# формы (здесь 0x40) также поддерживаются"
   ]
  },
  {
   "cell_type": "markdown",
   "metadata": {},
   "source": [
    "__Функция eval()__ трактует строки, как если бы они были кодом Python. Следовательно, она обеспечивает похожий результат, но обычно выполняется __медленнее__. Фактически eval() компилирует и запускает строку как порцию программы, при этом предполагая, что выполняемая строка была получена из __надежного источника__ (иначе выполнение этой строки может привести к непредвиденным последствиям):"
   ]
  },
  {
   "cell_type": "code",
   "execution_count": 103,
   "metadata": {},
   "outputs": [
    {
     "data": {
      "text/plain": [
       "(64, 64, 64, 64)"
      ]
     },
     "execution_count": 103,
     "metadata": {},
     "output_type": "execute_result"
    }
   ],
   "source": [
    "eval('64'), eval('0o100'), eval('0x40'), eval('0b1000000')"
   ]
  },
  {
   "cell_type": "markdown",
   "metadata": {},
   "source": [
    "Преобразование целых чисел в спицифичные для систем счисления строки с помощью вызовов методов и выражений __форматирования__:"
   ]
  },
  {
   "cell_type": "code",
   "execution_count": 106,
   "metadata": {},
   "outputs": [
    {
     "data": {
      "text/plain": [
       "'100, 40, 1000000'"
      ]
     },
     "execution_count": 106,
     "metadata": {},
     "output_type": "execute_result"
    }
   ],
   "source": [
    "'{0:o}, {1:x}, {2:b}'.format(64, 64, 64) # Числа -> цифры, \n",
    "                                         # метод format, Python 2.6+"
   ]
  },
  {
   "cell_type": "code",
   "execution_count": 105,
   "metadata": {},
   "outputs": [
    {
     "data": {
      "text/plain": [
       "'100, 40, 1000000'"
      ]
     },
     "execution_count": 105,
     "metadata": {},
     "output_type": "execute_result"
    }
   ],
   "source": [
    "f'{64:o}, {64:x}, {64:b}' # Числа -> цифры, f-строки, Python 3.6+"
   ]
  },
  {
   "cell_type": "code",
   "execution_count": 110,
   "metadata": {},
   "outputs": [
    {
     "data": {
      "text/plain": [
       "'100, 40, ff, FF'"
      ]
     },
     "execution_count": 110,
     "metadata": {},
     "output_type": "execute_result"
    }
   ],
   "source": [
    "'%o, %x, %x, %X' % (64, 64, 255, 255) # Числа -> цифры, \n",
    "                            # выражения форматирования, во всех версиях Python"
   ]
  },
  {
   "cell_type": "code",
   "execution_count": 111,
   "metadata": {},
   "outputs": [
    {
     "ename": "ValueError",
     "evalue": "unsupported format character 'b' (0x62) at index 1",
     "output_type": "error",
     "traceback": [
      "\u001b[1;31m---------------------------------------------------------------------------\u001b[0m",
      "\u001b[1;31mValueError\u001b[0m                                Traceback (most recent call last)",
      "\u001b[1;32m<ipython-input-111-19d69adcbf80>\u001b[0m in \u001b[0;36m<module>\u001b[1;34m\u001b[0m\n\u001b[1;32m----> 1\u001b[1;33m \u001b[1;34m'%b'\u001b[0m \u001b[1;33m%\u001b[0m \u001b[1;33m(\u001b[0m\u001b[1;36m64\u001b[0m\u001b[1;33m)\u001b[0m\u001b[1;33m\u001b[0m\u001b[1;33m\u001b[0m\u001b[0m\n\u001b[0m",
      "\u001b[1;31mValueError\u001b[0m: unsupported format character 'b' (0x62) at index 1"
     ]
    }
   ],
   "source": [
    "'%b' % (64) # Почему-то ValueError: unsupported format character 'b' (0x62) at index 1"
   ]
  },
  {
   "cell_type": "markdown",
   "metadata": {},
   "source": [
    "Замечание 1 про разницу литерал для восьмеричных чисел в разных версиях Python:"
   ]
  },
  {
   "cell_type": "code",
   "execution_count": 112,
   "metadata": {},
   "outputs": [
    {
     "data": {
      "text/plain": [
       "(1, 16, 255)"
      ]
     },
     "execution_count": 112,
     "metadata": {},
     "output_type": "execute_result"
    }
   ],
   "source": [
    "0o1, 0o20, 0o377 # Новый восьмеричный формат (литералы) в Python 2.6+\n",
    "                 # (такой же, как в Python 3.X)"
   ]
  },
  {
   "cell_type": "code",
   "execution_count": 113,
   "metadata": {},
   "outputs": [
    {
     "ename": "SyntaxError",
     "evalue": "invalid token (<ipython-input-113-1075c6bcd1b8>, line 1)",
     "output_type": "error",
     "traceback": [
      "\u001b[1;36m  File \u001b[1;32m\"<ipython-input-113-1075c6bcd1b8>\"\u001b[1;36m, line \u001b[1;32m1\u001b[0m\n\u001b[1;33m    01, 020, 0377 # Старый восьмеричный формат (литералы) в Python 2.X\u001b[0m\n\u001b[1;37m     ^\u001b[0m\n\u001b[1;31mSyntaxError\u001b[0m\u001b[1;31m:\u001b[0m invalid token\n"
     ]
    }
   ],
   "source": [
    "01, 020, 0377 # Старый восьмеричный формат (литералы) в Python 2.X\n",
    "              # (ошибка в Python 3.X)"
   ]
  },
  {
   "cell_type": "markdown",
   "metadata": {},
   "source": [
    "Замечание 2 про то, что литералы для других систем счисления способны производить __произвольно__ длинные целые числа:"
   ]
  },
  {
   "cell_type": "code",
   "execution_count": 115,
   "metadata": {},
   "outputs": [
    {
     "data": {
      "text/plain": [
       "1393796574908163946345982392040522594123775"
      ]
     },
     "execution_count": 115,
     "metadata": {},
     "output_type": "execute_result"
    }
   ],
   "source": [
    "X = 0xFFFFFFFFFFFFFFFFFFFFFFFFFFFffffffff\n",
    "X"
   ]
  },
  {
   "cell_type": "code",
   "execution_count": 116,
   "metadata": {},
   "outputs": [
    {
     "data": {
      "text/plain": [
       "'0o37777777777777777777777777777777777777777777777'"
      ]
     },
     "execution_count": 116,
     "metadata": {},
     "output_type": "execute_result"
    }
   ],
   "source": [
    "oct(X)"
   ]
  },
  {
   "cell_type": "code",
   "execution_count": 117,
   "metadata": {},
   "outputs": [
    {
     "data": {
      "text/plain": [
       "'0b11111111111111111111111111111111111111111111111111111111111111111111111111111111111111111111111111111111111111111111111111111111111111111111'"
      ]
     },
     "execution_count": 117,
     "metadata": {},
     "output_type": "execute_result"
    }
   ],
   "source": [
    "bin(X)"
   ]
  },
  {
   "cell_type": "markdown",
   "metadata": {},
   "source": [
    "### Побитовые операции (bitwise operations)"
   ]
  },
  {
   "cell_type": "markdown",
   "metadata": {},
   "source": [
    "П. о. трактуют целые числа как строки __двоичных битов__."
   ]
  },
  {
   "cell_type": "code",
   "execution_count": 119,
   "metadata": {},
   "outputs": [],
   "source": [
    "x = 1 # Десятичное значение 1 в битах выглядит как 0001"
   ]
  },
  {
   "cell_type": "code",
   "execution_count": 120,
   "metadata": {},
   "outputs": [
    {
     "data": {
      "text/plain": [
       "4"
      ]
     },
     "execution_count": 120,
     "metadata": {},
     "output_type": "execute_result"
    }
   ],
   "source": [
    "x << 2 # Сдвиг влево на 2 бита: 0100"
   ]
  },
  {
   "cell_type": "code",
   "execution_count": 121,
   "metadata": {},
   "outputs": [
    {
     "data": {
      "text/plain": [
       "3"
      ]
     },
     "execution_count": 121,
     "metadata": {},
     "output_type": "execute_result"
    }
   ],
   "source": [
    "x | 2 # Побитовое ИЛИ (один из битов = 1): 0011"
   ]
  },
  {
   "cell_type": "code",
   "execution_count": 123,
   "metadata": {},
   "outputs": [
    {
     "data": {
      "text/plain": [
       "1"
      ]
     },
     "execution_count": 123,
     "metadata": {},
     "output_type": "execute_result"
    }
   ],
   "source": [
    "x & 1 # Побитовое И (оба бита = 1): 0001"
   ]
  },
  {
   "cell_type": "markdown",
   "metadata": {},
   "source": [
    "Тоже самое, но с приминением поддержки двоичных чисел:"
   ]
  },
  {
   "cell_type": "code",
   "execution_count": 124,
   "metadata": {},
   "outputs": [],
   "source": [
    "X = 0b0001 # Двоичные литералы"
   ]
  },
  {
   "cell_type": "code",
   "execution_count": 125,
   "metadata": {},
   "outputs": [
    {
     "data": {
      "text/plain": [
       "4"
      ]
     },
     "execution_count": 125,
     "metadata": {},
     "output_type": "execute_result"
    }
   ],
   "source": [
    "X << 2 # Сдвиг влево"
   ]
  },
  {
   "cell_type": "code",
   "execution_count": 126,
   "metadata": {},
   "outputs": [
    {
     "data": {
      "text/plain": [
       "'0b100'"
      ]
     },
     "execution_count": 126,
     "metadata": {},
     "output_type": "execute_result"
    }
   ],
   "source": [
    "bin(X << 2) # Строка двоичных цифр"
   ]
  },
  {
   "cell_type": "code",
   "execution_count": 128,
   "metadata": {},
   "outputs": [
    {
     "data": {
      "text/plain": [
       "'0b11'"
      ]
     },
     "execution_count": 128,
     "metadata": {},
     "output_type": "execute_result"
    }
   ],
   "source": [
    "bin(X | 0b010) # Побитовое ИЛИ: один из битов 1"
   ]
  },
  {
   "cell_type": "code",
   "execution_count": 129,
   "metadata": {},
   "outputs": [
    {
     "data": {
      "text/plain": [
       "'0b1'"
      ]
     },
     "execution_count": 129,
     "metadata": {},
     "output_type": "execute_result"
    }
   ],
   "source": [
    "bin(X & 0b1) # Побитовое И: оба бита 1"
   ]
  },
  {
   "cell_type": "markdown",
   "metadata": {},
   "source": [
    "Тоже самое, но с приминением поддержки шестнадцатеричных чисел:"
   ]
  },
  {
   "cell_type": "code",
   "execution_count": 130,
   "metadata": {},
   "outputs": [],
   "source": [
    "X = 0xFF # Шестнадцатеричные литералы"
   ]
  },
  {
   "cell_type": "code",
   "execution_count": 131,
   "metadata": {},
   "outputs": [
    {
     "data": {
      "text/plain": [
       "'0b11111111'"
      ]
     },
     "execution_count": 131,
     "metadata": {},
     "output_type": "execute_result"
    }
   ],
   "source": [
    "bin(X)"
   ]
  },
  {
   "cell_type": "code",
   "execution_count": 132,
   "metadata": {},
   "outputs": [
    {
     "data": {
      "text/plain": [
       "85"
      ]
     },
     "execution_count": 132,
     "metadata": {},
     "output_type": "execute_result"
    }
   ],
   "source": [
    "X ^ 0b10101010 # Побитовое исключающее ИЛИ: один из битов = 1, но не оба "
   ]
  },
  {
   "cell_type": "code",
   "execution_count": 133,
   "metadata": {},
   "outputs": [
    {
     "data": {
      "text/plain": [
       "'0b1010101'"
      ]
     },
     "execution_count": 133,
     "metadata": {},
     "output_type": "execute_result"
    }
   ],
   "source": [
    "bin(X ^ 0b10101010)"
   ]
  },
  {
   "cell_type": "code",
   "execution_count": 134,
   "metadata": {},
   "outputs": [
    {
     "data": {
      "text/plain": [
       "85"
      ]
     },
     "execution_count": 134,
     "metadata": {},
     "output_type": "execute_result"
    }
   ],
   "source": [
    "int('0b1010101', 2) # Цифры -> число: строка в целое по указанному основанию"
   ]
  },
  {
   "cell_type": "code",
   "execution_count": 135,
   "metadata": {},
   "outputs": [
    {
     "data": {
      "text/plain": [
       "'0x55'"
      ]
     },
     "execution_count": 135,
     "metadata": {},
     "output_type": "execute_result"
    }
   ],
   "source": [
    "hex(85) # Число -> цифры: строка шестнадцатеричных цифр"
   ]
  },
  {
   "cell_type": "markdown",
   "metadata": {},
   "source": [
    "__Метод bit_length__  \n",
    "Возвращает количество бит, требующихся для представления величины числа в двоичном виде (тот же эффект при вычитании 2 из длины строки, полученной из bin(), но так менее эффективно):"
   ]
  },
  {
   "cell_type": "code",
   "execution_count": 136,
   "metadata": {},
   "outputs": [],
   "source": [
    "X = 99"
   ]
  },
  {
   "cell_type": "code",
   "execution_count": 137,
   "metadata": {},
   "outputs": [
    {
     "data": {
      "text/plain": [
       "('0b1100011', 7, 7)"
      ]
     },
     "execution_count": 137,
     "metadata": {},
     "output_type": "execute_result"
    }
   ],
   "source": [
    "bin(X), X.bit_length(), len(bin(X)) - 2"
   ]
  },
  {
   "cell_type": "code",
   "execution_count": 139,
   "metadata": {},
   "outputs": [
    {
     "data": {
      "text/plain": [
       "('0b100000000', 9, 9)"
      ]
     },
     "execution_count": 139,
     "metadata": {},
     "output_type": "execute_result"
    }
   ],
   "source": [
    "bin(256), (256).bit_length(), len(bin(256)) - 2 # Т.е. м. и без создания доп. переменной"
   ]
  },
  {
   "cell_type": "markdown",
   "metadata": {},
   "source": [
    "Проверка, что побитовые операции работают только с целыми числами:"
   ]
  },
  {
   "cell_type": "code",
   "execution_count": 140,
   "metadata": {},
   "outputs": [
    {
     "ename": "TypeError",
     "evalue": "unsupported operand type(s) for |: 'int' and 'float'",
     "output_type": "error",
     "traceback": [
      "\u001b[1;31m---------------------------------------------------------------------------\u001b[0m",
      "\u001b[1;31mTypeError\u001b[0m                                 Traceback (most recent call last)",
      "\u001b[1;32m<ipython-input-140-f39f4afc8580>\u001b[0m in \u001b[0;36m<module>\u001b[1;34m\u001b[0m\n\u001b[1;32m----> 1\u001b[1;33m \u001b[1;36m2\u001b[0m \u001b[1;33m|\u001b[0m \u001b[1;36m2.5\u001b[0m\u001b[1;33m\u001b[0m\u001b[1;33m\u001b[0m\u001b[0m\n\u001b[0m",
      "\u001b[1;31mTypeError\u001b[0m: unsupported operand type(s) for |: 'int' and 'float'"
     ]
    }
   ],
   "source": [
    "2 | 2.5 # Так НЕЛЬЗЯ, только целые операнды"
   ]
  },
  {
   "cell_type": "code",
   "execution_count": 141,
   "metadata": {},
   "outputs": [
    {
     "ename": "TypeError",
     "evalue": "unsupported operand type(s) for |: 'float' and 'float'",
     "output_type": "error",
     "traceback": [
      "\u001b[1;31m---------------------------------------------------------------------------\u001b[0m",
      "\u001b[1;31mTypeError\u001b[0m                                 Traceback (most recent call last)",
      "\u001b[1;32m<ipython-input-141-916d03e4aed6>\u001b[0m in \u001b[0;36m<module>\u001b[1;34m\u001b[0m\n\u001b[1;32m----> 1\u001b[1;33m \u001b[1;36m1.5\u001b[0m \u001b[1;33m|\u001b[0m \u001b[1;36m1.5\u001b[0m\u001b[1;33m\u001b[0m\u001b[1;33m\u001b[0m\u001b[0m\n\u001b[0m",
      "\u001b[1;31mTypeError\u001b[0m: unsupported operand type(s) for |: 'float' and 'float'"
     ]
    }
   ],
   "source": [
    "1.5 | 1.5 # Так НЕЛЬЗЯ, только целые операнды"
   ]
  },
  {
   "cell_type": "markdown",
   "metadata": {},
   "source": [
    "### Другие встроенные инструменты для обработки чисел"
   ]
  },
  {
   "cell_type": "markdown",
   "metadata": {},
   "source": [
    "Python предлагает встроенные _функции_ и стандартные библиотечные _модули_ для обработки чисел:"
   ]
  },
  {
   "cell_type": "code",
   "execution_count": 142,
   "metadata": {},
   "outputs": [],
   "source": [
    "import math"
   ]
  },
  {
   "cell_type": "code",
   "execution_count": 143,
   "metadata": {},
   "outputs": [
    {
     "data": {
      "text/plain": [
       "(3.141592653589793, 2.718281828459045)"
      ]
     },
     "execution_count": 143,
     "metadata": {},
     "output_type": "execute_result"
    }
   ],
   "source": [
    "math.pi, math.e # Общие константы"
   ]
  },
  {
   "cell_type": "code",
   "execution_count": 144,
   "metadata": {},
   "outputs": [
    {
     "data": {
      "text/plain": [
       "0.03489949670250097"
      ]
     },
     "execution_count": 144,
     "metadata": {},
     "output_type": "execute_result"
    }
   ],
   "source": [
    "math.sin(2 * math.pi / 180) # Синус, тангенс, косинус"
   ]
  },
  {
   "cell_type": "code",
   "execution_count": 145,
   "metadata": {},
   "outputs": [
    {
     "data": {
      "text/plain": [
       "(12.0, 1.4142135623730951)"
      ]
     },
     "execution_count": 145,
     "metadata": {},
     "output_type": "execute_result"
    }
   ],
   "source": [
    "math.sqrt(144), math.sqrt(2) # Квадратный корень"
   ]
  },
  {
   "cell_type": "code",
   "execution_count": 147,
   "metadata": {},
   "outputs": [
    {
     "data": {
      "text/plain": [
       "(16, 16.0, 16, 16.0)"
      ]
     },
     "execution_count": 147,
     "metadata": {},
     "output_type": "execute_result"
    }
   ],
   "source": [
    "pow(2, 4), pow(2, 4.0), 2 ** 4, 2.0 ** 4 # Возведение в степень"
   ]
  },
  {
   "cell_type": "code",
   "execution_count": 148,
   "metadata": {},
   "outputs": [
    {
     "data": {
      "text/plain": [
       "(42.0, 42, 10)"
      ]
     },
     "execution_count": 148,
     "metadata": {},
     "output_type": "execute_result"
    }
   ],
   "source": [
    "abs(-42.0), abs(-42), sum((1, 2, 3, 4)) # Абсолютное значение, суммирование"
   ]
  },
  {
   "cell_type": "code",
   "execution_count": 150,
   "metadata": {},
   "outputs": [
    {
     "data": {
      "text/plain": [
       "(1, 4)"
      ]
     },
     "execution_count": 150,
     "metadata": {},
     "output_type": "execute_result"
    }
   ],
   "source": [
    "min(3, 1, 2, 4), max(3, 1, 2, 4) # Минимум, максимум"
   ]
  },
  {
   "cell_type": "markdown",
   "metadata": {},
   "source": [
    "Функция __sum()__ работает только на __последовательности__, а функции __min()__ и __max()__ принимают __либо последовательность, либо индивидуальные аргументы__."
   ]
  },
  {
   "cell_type": "markdown",
   "metadata": {},
   "source": [
    "Усечение, округление в меньшую сторону (до меньшего целого), округление в целях отображения:"
   ]
  },
  {
   "cell_type": "code",
   "execution_count": 151,
   "metadata": {},
   "outputs": [
    {
     "data": {
      "text/plain": [
       "(2, -3)"
      ]
     },
     "execution_count": 151,
     "metadata": {},
     "output_type": "execute_result"
    }
   ],
   "source": [
    "math.floor(2.512), math.floor(-2.519) # Округление в меньшую сторону\n",
    "                                      # (до меньшего целого)"
   ]
  },
  {
   "cell_type": "code",
   "execution_count": 155,
   "metadata": {},
   "outputs": [
    {
     "data": {
      "text/plain": [
       "(2, -2)"
      ]
     },
     "execution_count": 155,
     "metadata": {},
     "output_type": "execute_result"
    }
   ],
   "source": [
    "math.trunc(2.519), math.trunc(-2.519) # Усечение (отбрасывание [десятичных] \n",
    "                                      # цифр после точки)"
   ]
  },
  {
   "cell_type": "code",
   "execution_count": 156,
   "metadata": {},
   "outputs": [
    {
     "data": {
      "text/plain": [
       "(2, -2)"
      ]
     },
     "execution_count": 156,
     "metadata": {},
     "output_type": "execute_result"
    }
   ],
   "source": [
    "int(2.519), int(-2.519) # Усечение (преобразование\n",
    "                        # в целое число)"
   ]
  },
  {
   "cell_type": "code",
   "execution_count": 165,
   "metadata": {},
   "outputs": [
    {
     "data": {
      "text/plain": [
       "(3, 2, 2.52)"
      ]
     },
     "execution_count": 165,
     "metadata": {},
     "output_type": "execute_result"
    }
   ],
   "source": [
    "round(2.519), round(2.49), round(2.519, 2) # Округление в Python 3.1+\n",
    "# В более старых версиях нужно использовать print(round(..)) \n",
    "# для такого же результата"
   ]
  },
  {
   "cell_type": "code",
   "execution_count": 163,
   "metadata": {},
   "outputs": [
    {
     "data": {
      "text/plain": [
       "('2.5', '2.16', '2.16', '2.159')"
      ]
     },
     "execution_count": 163,
     "metadata": {},
     "output_type": "execute_result"
    }
   ],
   "source": [
    "# Округление для отображения\n",
    "'%.1f' % 2.519, '{0:.2f}'.format(2.159), f'{2.159:.2f}', f'{2.159:2f}'"
   ]
  },
  {
   "cell_type": "markdown",
   "metadata": {},
   "source": [
    "Интересно, почему в последнем примере у меня случайно получился такой результат???"
   ]
  },
  {
   "cell_type": "code",
   "execution_count": 164,
   "metadata": {},
   "outputs": [
    {
     "data": {
      "text/plain": [
       "('2.159000', '2.159', '2.159000')"
      ]
     },
     "execution_count": 164,
     "metadata": {},
     "output_type": "execute_result"
    }
   ],
   "source": [
    "f'{2.159:2f}', f'{2.159:2}', f'{2.159:3f}'"
   ]
  },
  {
   "cell_type": "markdown",
   "metadata": {},
   "source": [
    "Нужно помнить, что функция __round()__ округляет и отбрасывает ненужные десятичные цифры, но __производит число float (с плавающей точкой) (или целое число) в памяти__, тогда как __форматирование строк__ выдаёт __строку__, а не число:"
   ]
  },
  {
   "cell_type": "code",
   "execution_count": 168,
   "metadata": {},
   "outputs": [
    {
     "data": {
      "text/plain": [
       "(0.3333333333333333, 0.33, '0.33', '0.33')"
      ]
     },
     "execution_count": 168,
     "metadata": {},
     "output_type": "execute_result"
    }
   ],
   "source": [
    "(1 / 3), round(1 / 3, 2), '%.2f' % (1 / 3), f'{1 / 3:.2f}'"
   ]
  },
  {
   "cell_type": "code",
   "execution_count": 170,
   "metadata": {},
   "outputs": [
    {
     "data": {
      "text/plain": [
       "0.3333333333333333"
      ]
     },
     "execution_count": 170,
     "metadata": {},
     "output_type": "execute_result"
    }
   ],
   "source": [
    "x = 1 / 3\n",
    "x"
   ]
  },
  {
   "cell_type": "code",
   "execution_count": 171,
   "metadata": {},
   "outputs": [
    {
     "data": {
      "text/plain": [
       "float"
      ]
     },
     "execution_count": 171,
     "metadata": {},
     "output_type": "execute_result"
    }
   ],
   "source": [
    "type(x)"
   ]
  },
  {
   "cell_type": "code",
   "execution_count": 172,
   "metadata": {},
   "outputs": [
    {
     "data": {
      "text/plain": [
       "0.33"
      ]
     },
     "execution_count": 172,
     "metadata": {},
     "output_type": "execute_result"
    }
   ],
   "source": [
    "x = round(1 / 3, 2)\n",
    "x"
   ]
  },
  {
   "cell_type": "code",
   "execution_count": 173,
   "metadata": {},
   "outputs": [
    {
     "data": {
      "text/plain": [
       "float"
      ]
     },
     "execution_count": 173,
     "metadata": {},
     "output_type": "execute_result"
    }
   ],
   "source": [
    "type(x)"
   ]
  },
  {
   "cell_type": "code",
   "execution_count": 174,
   "metadata": {},
   "outputs": [
    {
     "data": {
      "text/plain": [
       "0"
      ]
     },
     "execution_count": 174,
     "metadata": {},
     "output_type": "execute_result"
    }
   ],
   "source": [
    "x = round(1 / 3)\n",
    "x"
   ]
  },
  {
   "cell_type": "code",
   "execution_count": 175,
   "metadata": {},
   "outputs": [
    {
     "data": {
      "text/plain": [
       "int"
      ]
     },
     "execution_count": 175,
     "metadata": {},
     "output_type": "execute_result"
    }
   ],
   "source": [
    "type(x)"
   ]
  },
  {
   "cell_type": "code",
   "execution_count": 176,
   "metadata": {},
   "outputs": [
    {
     "data": {
      "text/plain": [
       "'0.33'"
      ]
     },
     "execution_count": 176,
     "metadata": {},
     "output_type": "execute_result"
    }
   ],
   "source": [
    "x = f'{1 / 3:.2f}'\n",
    "x"
   ]
  },
  {
   "cell_type": "code",
   "execution_count": 177,
   "metadata": {},
   "outputs": [
    {
     "data": {
      "text/plain": [
       "str"
      ]
     },
     "execution_count": 177,
     "metadata": {},
     "output_type": "execute_result"
    }
   ],
   "source": [
    "type(x)"
   ]
  },
  {
   "cell_type": "markdown",
   "metadata": {},
   "source": [
    "Три способа вычисления __квадратных корней__:"
   ]
  },
  {
   "cell_type": "code",
   "execution_count": 179,
   "metadata": {},
   "outputs": [
    {
     "data": {
      "text/plain": [
       "12.0"
      ]
     },
     "execution_count": 179,
     "metadata": {},
     "output_type": "execute_result"
    }
   ],
   "source": [
    "import math\n",
    "math.sqrt(144) # Функция из модуля"
   ]
  },
  {
   "cell_type": "code",
   "execution_count": 180,
   "metadata": {},
   "outputs": [
    {
     "data": {
      "text/plain": [
       "12.0"
      ]
     },
     "execution_count": 180,
     "metadata": {},
     "output_type": "execute_result"
    }
   ],
   "source": [
    "144 ** .5  # Выражение"
   ]
  },
  {
   "cell_type": "code",
   "execution_count": 181,
   "metadata": {},
   "outputs": [
    {
     "data": {
      "text/plain": [
       "12.0"
      ]
     },
     "execution_count": 181,
     "metadata": {},
     "output_type": "execute_result"
    }
   ],
   "source": [
    "pow(144, .5) # Встроенная функция"
   ]
  },
  {
   "cell_type": "markdown",
   "metadata": {},
   "source": [
    "__!!! Обрати внимание:__\n",
    "1. Все результаты получились float.\n",
    "2. Вещественное число можно писать как .5 вместо 0.5"
   ]
  },
  {
   "cell_type": "code",
   "execution_count": 182,
   "metadata": {},
   "outputs": [
    {
     "data": {
      "text/plain": [
       "35136.41828644462"
      ]
     },
     "execution_count": 182,
     "metadata": {},
     "output_type": "execute_result"
    }
   ],
   "source": [
    "math.sqrt(1234567890) # Более крупные числа"
   ]
  },
  {
   "cell_type": "code",
   "execution_count": 183,
   "metadata": {},
   "outputs": [
    {
     "data": {
      "text/plain": [
       "35136.41828644462"
      ]
     },
     "execution_count": 183,
     "metadata": {},
     "output_type": "execute_result"
    }
   ],
   "source": [
    "1234567890 ** .5"
   ]
  },
  {
   "cell_type": "code",
   "execution_count": 184,
   "metadata": {},
   "outputs": [
    {
     "data": {
      "text/plain": [
       "35136.41828644462"
      ]
     },
     "execution_count": 184,
     "metadata": {},
     "output_type": "execute_result"
    }
   ],
   "source": [
    "pow(1234567890, .5)"
   ]
  },
  {
   "cell_type": "markdown",
   "metadata": {},
   "source": [
    "Библиотечные _модули_ являются _внешними компонентами_ , а _встроенные функции_ находятся в _подразумеваемом_ пространстве имён, в котором Python автоматически осуществляет поиск имён, применяемых в программе. Такое пространство имён просто соответствует __стандартному библиотечному модулю builtins__."
   ]
  },
  {
   "cell_type": "markdown",
   "metadata": {},
   "source": [
    "__Модуль random__:"
   ]
  },
  {
   "cell_type": "code",
   "execution_count": 185,
   "metadata": {},
   "outputs": [],
   "source": [
    "import random"
   ]
  },
  {
   "cell_type": "code",
   "execution_count": 187,
   "metadata": {},
   "outputs": [
    {
     "data": {
      "text/plain": [
       "0.5043770888445049"
      ]
     },
     "execution_count": 187,
     "metadata": {},
     "output_type": "execute_result"
    }
   ],
   "source": [
    "random.random() # Случайное число float (с плавающей точкой) из диапазона \n",
    "                # (0, 1) не включительно"
   ]
  },
  {
   "cell_type": "code",
   "execution_count": null,
   "metadata": {},
   "outputs": [],
   "source": [
    "random.randint(1, 10) # Случайноe целое число из диапазона\n",
    "                      # [1, 10] включительно"
   ]
  },
  {
   "cell_type": "code",
   "execution_count": 188,
   "metadata": {},
   "outputs": [
    {
     "data": {
      "text/plain": [
       "1"
      ]
     },
     "execution_count": 188,
     "metadata": {},
     "output_type": "execute_result"
    }
   ],
   "source": [
    "random.randint(1, 1) # Случайноe целое число из диапазона\n",
    "                     # [1, 1] включительно"
   ]
  },
  {
   "cell_type": "code",
   "execution_count": 191,
   "metadata": {},
   "outputs": [
    {
     "data": {
      "text/plain": [
       "1"
      ]
     },
     "execution_count": 191,
     "metadata": {},
     "output_type": "execute_result"
    }
   ],
   "source": [
    "random.randint(1, 2) # Случайноe целое число из диапазона\n",
    "                     # [1, 2] включительно"
   ]
  },
  {
   "cell_type": "code",
   "execution_count": 193,
   "metadata": {},
   "outputs": [
    {
     "data": {
      "text/plain": [
       "'Life of Brain'"
      ]
     },
     "execution_count": 193,
     "metadata": {},
     "output_type": "execute_result"
    }
   ],
   "source": [
    "# Случайный выбор из последовательности\n",
    "random.choice(['Life of Brain', 'Holy Grail', 'Meaning of Life'])"
   ]
  },
  {
   "cell_type": "code",
   "execution_count": 195,
   "metadata": {},
   "outputs": [
    {
     "data": {
      "text/plain": [
       "'Meaning of Life'"
      ]
     },
     "execution_count": 195,
     "metadata": {},
     "output_type": "execute_result"
    }
   ],
   "source": [
    "random.choice(['Life of Brain', 'Holy Grail', 'Meaning of Life'])"
   ]
  },
  {
   "cell_type": "code",
   "execution_count": 196,
   "metadata": {},
   "outputs": [
    {
     "data": {
      "text/plain": [
       "['diamonds', 'clubs', 'hearts', 'spades']"
      ]
     },
     "execution_count": 196,
     "metadata": {},
     "output_type": "execute_result"
    }
   ],
   "source": [
    "# Перетасовка списка элементов\n",
    "suits = ['hearts', 'clubs', 'diamonds', 'spades']\n",
    "random.shuffle(suits)\n",
    "suits"
   ]
  },
  {
   "cell_type": "code",
   "execution_count": 198,
   "metadata": {},
   "outputs": [
    {
     "data": {
      "text/plain": [
       "['hearts', 'diamonds', 'spades', 'clubs']"
      ]
     },
     "execution_count": 198,
     "metadata": {},
     "output_type": "execute_result"
    }
   ],
   "source": [
    "random.shuffle(suits)\n",
    "suits"
   ]
  },
  {
   "cell_type": "markdown",
   "metadata": {},
   "source": [
    "## Другие числовые типы"
   ]
  },
  {
   "cell_type": "markdown",
   "metadata": {},
   "source": [
    "### Десятичные (Decimal type)"
   ]
  },
  {
   "cell_type": "markdown",
   "metadata": {},
   "source": [
    "- В Python 2.4 появился новый основной числовой тип: десятичный объект, известный как Decimal.\n",
    "- Decimal числа создаются путём вызова функции Decimal() из модуля decimal, а не за счёт выполнения литерального выражения.\n",
    "- Decimal числа (Decimal объекты) подобны числам float, но имеют __фиксированное количество разрядов__ после десятичной точки."
   ]
  },
  {
   "cell_type": "markdown",
   "metadata": {},
   "source": [
    "__Основы десятичных чисел__"
   ]
  },
  {
   "cell_type": "code",
   "execution_count": 199,
   "metadata": {},
   "outputs": [
    {
     "data": {
      "text/plain": [
       "5.551115123125783e-17"
      ]
     },
     "execution_count": 199,
     "metadata": {},
     "output_type": "execute_result"
    }
   ],
   "source": [
    "0.1 + 0.1 + 0.1 - 0.3"
   ]
  },
  {
   "cell_type": "code",
   "execution_count": 200,
   "metadata": {},
   "outputs": [
    {
     "name": "stdout",
     "output_type": "stream",
     "text": [
      "5.551115123125783e-17\n"
     ]
    }
   ],
   "source": [
    "print(0.1 + 0.1 + 0.1 - 0.3) # print не помог"
   ]
  },
  {
   "cell_type": "markdown",
   "metadata": {},
   "source": [
    "Тем не менее, в случаи использования типа Decimal результ может быть нулевым:"
   ]
  },
  {
   "cell_type": "code",
   "execution_count": 201,
   "metadata": {},
   "outputs": [],
   "source": [
    "from decimal import Decimal"
   ]
  },
  {
   "cell_type": "code",
   "execution_count": 202,
   "metadata": {},
   "outputs": [
    {
     "data": {
      "text/plain": [
       "Decimal('0.1000000000000000055511151231257827021181583404541015625')"
      ]
     },
     "execution_count": 202,
     "metadata": {},
     "output_type": "execute_result"
    }
   ],
   "source": [
    "Decimal(0.1)"
   ]
  },
  {
   "cell_type": "code",
   "execution_count": 203,
   "metadata": {},
   "outputs": [
    {
     "data": {
      "text/plain": [
       "Decimal('0.1')"
      ]
     },
     "execution_count": 203,
     "metadata": {},
     "output_type": "execute_result"
    }
   ],
   "source": [
    "Decimal('0.1')"
   ]
  },
  {
   "cell_type": "markdown",
   "metadata": {},
   "source": [
    "Хм, в последних двух примерах результат разный.. (см. далее, тм немного объяснено)"
   ]
  },
  {
   "cell_type": "code",
   "execution_count": 204,
   "metadata": {},
   "outputs": [
    {
     "data": {
      "text/plain": [
       "Decimal('0.0')"
      ]
     },
     "execution_count": 204,
     "metadata": {},
     "output_type": "execute_result"
    }
   ],
   "source": [
    "Decimal('0.1') + Decimal('0.1') + Decimal('0.1') - Decimal('0.3') "
   ]
  },
  {
   "cell_type": "code",
   "execution_count": 205,
   "metadata": {},
   "outputs": [
    {
     "data": {
      "text/plain": [
       "Decimal('2.775557561565156540423631668E-17')"
      ]
     },
     "execution_count": 205,
     "metadata": {},
     "output_type": "execute_result"
    }
   ],
   "source": [
    "Decimal(0.1) + Decimal(0.1) + Decimal(0.1) - Decimal(0.3) "
   ]
  },
  {
   "cell_type": "markdown",
   "metadata": {},
   "source": [
    "Т.е. Decimal(0.1) берёт от числа 0.1 и \"мусор\", хранящийся в последних битах (как от него избавиться см. далее), правда, почему-то результат последнего примера почему-то всё равно отличается от результата 0.1 + 0.1 + 0.1 - 0.3. Странно. Результат, вероятно, отличается потому что, по умолчанию, при выполнении вычислений берутся только 28 цифр после точки, следовательно,  результат вычисления изменился, и столько же значащих цифр максимально будет у результата (см. далее там же).\n",
    "\n",
    "Поэтому, чтобы Decimal в результате имел желаемое количество десятичных цифр после точки, ему в конструктор надо передавать __строки, которые имеют желаемое количество цифр для результирующего объекта__ (при необходимости применяя функцию str() для преобразования значений из числа float (с плавающей точкой) в строки).  \n",
    "\n",
    "Автоматическое преобразование к наибольшему количеству десятичных цифр после точки при смешивании в выражении десятичных объктов с разной точностью:"
   ]
  },
  {
   "cell_type": "code",
   "execution_count": 206,
   "metadata": {},
   "outputs": [
    {
     "data": {
      "text/plain": [
       "Decimal('0.00')"
      ]
     },
     "execution_count": 206,
     "metadata": {},
     "output_type": "execute_result"
    }
   ],
   "source": [
    "Decimal('0.1') + Decimal('0.10') + Decimal('0.1') - Decimal('0.3') "
   ]
  },
  {
   "cell_type": "markdown",
   "metadata": {},
   "source": [
    "Преобразование в Decimal из float, доступное в последних версиях Python, является точным, но иногда выдаёт большое количество цифр по умолчанию, если только не зафиксировать его (см. далее):"
   ]
  },
  {
   "cell_type": "code",
   "execution_count": 207,
   "metadata": {},
   "outputs": [
    {
     "data": {
      "text/plain": [
       "Decimal('2.775557561565156540423631668E-17')"
      ]
     },
     "execution_count": 207,
     "metadata": {},
     "output_type": "execute_result"
    }
   ],
   "source": [
    "Decimal(0.1) + Decimal(0.1) + Decimal(0.1) - Decimal(0.3)"
   ]
  },
  {
   "cell_type": "code",
   "execution_count": 209,
   "metadata": {},
   "outputs": [
    {
     "data": {
      "text/plain": [
       "Decimal('0.1000000000000000055511151231257827021181583404541015625')"
      ]
     },
     "execution_count": 209,
     "metadata": {},
     "output_type": "execute_result"
    }
   ],
   "source": [
    "Decimal.from_float(0.1) # Этот вариант такого преобразования \n",
    "                        # для Python 2.7 и 3.1"
   ]
  },
  {
   "cell_type": "markdown",
   "metadata": {},
   "source": [
    "__Глобальная установка точности для десятичных чисел__  \n",
    "\n",
    "_Объект контекста_ (context object, что это такое???) в модуле decimal позволяет указывать точность (количество десятичных цифр после точки) и режимы округления (вверх, вниз и т.д.), и это прменяется ко всем Decimal объектам, создаваемым в _вызывающем потоке_ :"
   ]
  },
  {
   "cell_type": "code",
   "execution_count": 217,
   "metadata": {},
   "outputs": [],
   "source": [
    "import decimal"
   ]
  },
  {
   "cell_type": "code",
   "execution_count": 218,
   "metadata": {},
   "outputs": [
    {
     "data": {
      "text/plain": [
       "Decimal('0.1428571428571428571428571429')"
      ]
     },
     "execution_count": 218,
     "metadata": {},
     "output_type": "execute_result"
    }
   ],
   "source": [
    "decimal.Decimal(1) / decimal.Decimal(7) # По умолчанию: 28 цифр после точки"
   ]
  },
  {
   "cell_type": "code",
   "execution_count": 222,
   "metadata": {},
   "outputs": [
    {
     "data": {
      "text/plain": [
       "Decimal('0.1429')"
      ]
     },
     "execution_count": 222,
     "metadata": {},
     "output_type": "execute_result"
    }
   ],
   "source": [
    "decimal.getcontext().prec = 4 # Установка фиксированной точности\n",
    "decimal.Decimal(1) / decimal.Decimal(7)"
   ]
  },
  {
   "cell_type": "code",
   "execution_count": 267,
   "metadata": {},
   "outputs": [
    {
     "name": "stdout",
     "output_type": "stream",
     "text": [
      "0.1429\n"
     ]
    }
   ],
   "source": [
    "print(Decimal('0.1429'))"
   ]
  },
  {
   "cell_type": "code",
   "execution_count": 268,
   "metadata": {},
   "outputs": [
    {
     "name": "stdout",
     "output_type": "stream",
     "text": [
      "0.1428571428571428571428571429\n"
     ]
    }
   ],
   "source": [
    "print(decimal.Decimal(1) / decimal.Decimal(7))"
   ]
  },
  {
   "cell_type": "markdown",
   "metadata": {},
   "source": [
    "__!!!__  \n",
    "Я заметила, что контекст корректно отработает, только если запустить обе строки в одной ячейке. А если сделать как ниже, то не получится:"
   ]
  },
  {
   "cell_type": "code",
   "execution_count": 223,
   "metadata": {},
   "outputs": [],
   "source": [
    "decimal.getcontext().prec = 4"
   ]
  },
  {
   "cell_type": "code",
   "execution_count": 224,
   "metadata": {},
   "outputs": [
    {
     "data": {
      "text/plain": [
       "Decimal('0.1428571428571428571428571429')"
      ]
     },
     "execution_count": 224,
     "metadata": {},
     "output_type": "execute_result"
    }
   ],
   "source": [
    "decimal.Decimal(1) / decimal.Decimal(7)"
   ]
  },
  {
   "cell_type": "markdown",
   "metadata": {},
   "source": [
    "Пока мне непонятно, почему так."
   ]
  },
  {
   "cell_type": "code",
   "execution_count": 228,
   "metadata": {},
   "outputs": [
    {
     "data": {
      "text/plain": [
       "Decimal('0.1000000000000000055511151231257827021181583404541015625')"
      ]
     },
     "execution_count": 228,
     "metadata": {},
     "output_type": "execute_result"
    }
   ],
   "source": [
    "decimal.getcontext().prec = 4\n",
    "decimal.Decimal(0.1) # Полученный Decimal имеет длинный \"хвост\", куда больше 28"
   ]
  },
  {
   "cell_type": "code",
   "execution_count": 233,
   "metadata": {},
   "outputs": [],
   "source": [
    "decimal.getcontext().prec = 4"
   ]
  },
  {
   "cell_type": "code",
   "execution_count": 235,
   "metadata": {},
   "outputs": [
    {
     "data": {
      "text/plain": [
       "Decimal('1.110E-17')"
      ]
     },
     "execution_count": 235,
     "metadata": {},
     "output_type": "execute_result"
    }
   ],
   "source": [
    "decimal.getcontext().prec = 4\n",
    "decimal.Decimal(0.1) + decimal.Decimal(0.1) + decimal.Decimal(0.1) - decimal.Decimal(0.3)"
   ]
  },
  {
   "cell_type": "markdown",
   "metadata": {},
   "source": [
    "Результат получился уже ближе к 0, чем был выше, но в ячейке __обязательно__ должна присутствовать строка decimal.getcontext().prec = 4. Запуск в отдельной строке не приводит к изменению точности вычисления."
   ]
  },
  {
   "cell_type": "code",
   "execution_count": 236,
   "metadata": {},
   "outputs": [
    {
     "data": {
      "text/plain": [
       "Decimal('0.5')"
      ]
     },
     "execution_count": 236,
     "metadata": {},
     "output_type": "execute_result"
    }
   ],
   "source": [
    "decimal.getcontext().prec = 4\n",
    "decimal.Decimal(0.1) / decimal.Decimal(0.2)"
   ]
  },
  {
   "cell_type": "markdown",
   "metadata": {},
   "source": [
    "Результат не имеет 4 цифры после точки... Ничего не понимаю.  \n",
    "Допустим, результат имеет только 1 цифру вместо 4 после точки, потому что после 0.5 идут нули и они незначимые, п.э. отбрасываются."
   ]
  },
  {
   "cell_type": "code",
   "execution_count": 237,
   "metadata": {},
   "outputs": [
    {
     "data": {
      "text/plain": [
       "Decimal('0.5')"
      ]
     },
     "execution_count": 237,
     "metadata": {},
     "output_type": "execute_result"
    }
   ],
   "source": [
    "decimal.getcontext().prec = 4\n",
    "decimal.Decimal(0.1 / 0.2)"
   ]
  },
  {
   "cell_type": "code",
   "execution_count": 239,
   "metadata": {},
   "outputs": [
    {
     "data": {
      "text/plain": [
       "Decimal('0.5')"
      ]
     },
     "execution_count": 239,
     "metadata": {},
     "output_type": "execute_result"
    }
   ],
   "source": [
    "decimal.getcontext().prec = 4\n",
    "decimal.Decimal(1 / 2)"
   ]
  },
  {
   "cell_type": "code",
   "execution_count": 255,
   "metadata": {},
   "outputs": [
    {
     "data": {
      "text/plain": [
       "Decimal('0.5')"
      ]
     },
     "execution_count": 255,
     "metadata": {},
     "output_type": "execute_result"
    }
   ],
   "source": [
    "decimal.Decimal(1 / 2)"
   ]
  },
  {
   "cell_type": "code",
   "execution_count": 241,
   "metadata": {},
   "outputs": [
    {
     "data": {
      "text/plain": [
       "Decimal('0.05000000000000000277555756156289135105907917022705078125')"
      ]
     },
     "execution_count": 241,
     "metadata": {},
     "output_type": "execute_result"
    }
   ],
   "source": [
    "decimal.getcontext().prec = 4\n",
    "decimal.Decimal(0.1 / 2)"
   ]
  },
  {
   "cell_type": "markdown",
   "metadata": {},
   "source": [
    "Тесты выше ситуацию не прояснили, а, скорее, запутали меня ещё больше."
   ]
  },
  {
   "cell_type": "code",
   "execution_count": 238,
   "metadata": {},
   "outputs": [
    {
     "data": {
      "text/plain": [
       "Decimal('0.12')"
      ]
     },
     "execution_count": 238,
     "metadata": {},
     "output_type": "execute_result"
    }
   ],
   "source": [
    "decimal.getcontext().prec = 2\n",
    "decimal.Decimal(1) / decimal.Decimal(8)"
   ]
  },
  {
   "cell_type": "markdown",
   "metadata": {},
   "source": [
    "Здесь результат имеет ту точность, которая требовалась. Да уж, чем болеше разбираюсь, тем больше запутываюсь."
   ]
  },
  {
   "cell_type": "markdown",
   "metadata": {},
   "source": [
    "Формально значимость (какая значимость, о чём вообще речь?) определяется за счёт ввода цифр, а __точность применяется при выполнении математических операций__. Это свойство делает Decimal полезными в качестве основы для ряда финансовых операций, где центы и копейки представлены двуми десятичными цифрами после точки."
   ]
  },
  {
   "cell_type": "code",
   "execution_count": 243,
   "metadata": {},
   "outputs": [
    {
     "data": {
      "text/plain": [
       "2000.33"
      ]
     },
     "execution_count": 243,
     "metadata": {},
     "output_type": "execute_result"
    }
   ],
   "source": [
    "1999 + 1.33 # Содержит больше цифр в памяти, чем отображается в Python 3.7"
   ]
  },
  {
   "cell_type": "markdown",
   "metadata": {},
   "source": [
    "Ну вот, нормальный результат. Зачем здесь ещё что-то нужно???"
   ]
  },
  {
   "cell_type": "code",
   "execution_count": 244,
   "metadata": {},
   "outputs": [
    {
     "data": {
      "text/plain": [
       "Decimal('2000.33')"
      ]
     },
     "execution_count": 244,
     "metadata": {},
     "output_type": "execute_result"
    }
   ],
   "source": [
    "decimal.getcontext().prec = 2\n",
    "pay = decimal.Decimal(str(1999 + 1.33))\n",
    "pay"
   ]
  },
  {
   "cell_type": "markdown",
   "metadata": {},
   "source": [
    "Запись decimal.Decimal(str(1999 + 1.33)) непривычная какая-то, конечно.\n",
    "\n",
    "А если так:"
   ]
  },
  {
   "cell_type": "code",
   "execution_count": 245,
   "metadata": {},
   "outputs": [
    {
     "data": {
      "text/plain": [
       "Decimal('2000.329999999999927240423858165740966796875')"
      ]
     },
     "execution_count": 245,
     "metadata": {},
     "output_type": "execute_result"
    }
   ],
   "source": [
    "decimal.getcontext().prec = 2\n",
    "pay = decimal.Decimal(1999 + 1.33)\n",
    "pay"
   ]
  },
  {
   "cell_type": "markdown",
   "metadata": {},
   "source": [
    "Непонятно, почему в выражении без Decimal тогда результат был нормальным. Ничего не понятно с этими Decimal, только больше запутали."
   ]
  },
  {
   "cell_type": "code",
   "execution_count": 246,
   "metadata": {},
   "outputs": [
    {
     "data": {
      "text/plain": [
       "Decimal('2000.329999999999927240423858165740966796875')"
      ]
     },
     "execution_count": 246,
     "metadata": {},
     "output_type": "execute_result"
    }
   ],
   "source": [
    "pay = decimal.Decimal(1999 + 1.33)\n",
    "pay"
   ]
  },
  {
   "cell_type": "code",
   "execution_count": 257,
   "metadata": {},
   "outputs": [
    {
     "ename": "TypeError",
     "evalue": "unsupported operand type(s) for +: 'decimal.Decimal' and 'float'",
     "output_type": "error",
     "traceback": [
      "\u001b[1;31m---------------------------------------------------------------------------\u001b[0m",
      "\u001b[1;31mTypeError\u001b[0m                                 Traceback (most recent call last)",
      "\u001b[1;32m<ipython-input-257-343d3fa16497>\u001b[0m in \u001b[0;36m<module>\u001b[1;34m\u001b[0m\n\u001b[1;32m----> 1\u001b[1;33m \u001b[0mdecimal\u001b[0m\u001b[1;33m.\u001b[0m\u001b[0mDecimal\u001b[0m\u001b[1;33m(\u001b[0m\u001b[1;34m'0.1'\u001b[0m\u001b[1;33m)\u001b[0m \u001b[1;33m+\u001b[0m \u001b[1;36m0.1\u001b[0m \u001b[1;31m# Нельзя смешивать с float\u001b[0m\u001b[1;33m\u001b[0m\u001b[1;33m\u001b[0m\u001b[0m\n\u001b[0m",
      "\u001b[1;31mTypeError\u001b[0m: unsupported operand type(s) for +: 'decimal.Decimal' and 'float'"
     ]
    }
   ],
   "source": [
    "decimal.Decimal('0.1') + 0.1 # Нельзя смешивать с float"
   ]
  },
  {
   "cell_type": "code",
   "execution_count": 258,
   "metadata": {},
   "outputs": [
    {
     "data": {
      "text/plain": [
       "Decimal('1.1')"
      ]
     },
     "execution_count": 258,
     "metadata": {},
     "output_type": "execute_result"
    }
   ],
   "source": [
    "decimal.Decimal('0.1') + 1 # Можно смешивать с int "
   ]
  },
  {
   "cell_type": "markdown",
   "metadata": {},
   "source": [
    "__Диспетчер контекста для десятичных чисел__"
   ]
  },
  {
   "cell_type": "markdown",
   "metadata": {},
   "source": [
    "С помощью использования оператора __диспетчера контекста__ (что это???) with можно временно сбрасывать точность:"
   ]
  },
  {
   "cell_type": "code",
   "execution_count": 247,
   "metadata": {},
   "outputs": [],
   "source": [
    "import decimal"
   ]
  },
  {
   "cell_type": "code",
   "execution_count": 248,
   "metadata": {},
   "outputs": [
    {
     "data": {
      "text/plain": [
       "Decimal('0.3333333333333333333333333333')"
      ]
     },
     "execution_count": 248,
     "metadata": {},
     "output_type": "execute_result"
    }
   ],
   "source": [
    "decimal.Decimal('1.00') / decimal.Decimal('3.00')"
   ]
  },
  {
   "cell_type": "code",
   "execution_count": 254,
   "metadata": {},
   "outputs": [
    {
     "name": "stdout",
     "output_type": "stream",
     "text": [
      "0.33\n"
     ]
    }
   ],
   "source": [
    "with decimal.localcontext() as ctx:\n",
    "    ctx.prec = 2\n",
    "    print(decimal.Decimal('1.00') / decimal.Decimal('3.00'))"
   ]
  },
  {
   "cell_type": "markdown",
   "metadata": {},
   "source": [
    "__!!!__  \n",
    "Как итог, тип Decimal для меня пока практически полностью непонятый. После прохождения данной темы осталось много вопросов и по поводу того, как работает данный тип в выражениях и преобразованиях, и, соответственно, по поводу того, как им пользоваться."
   ]
  },
  {
   "cell_type": "markdown",
   "metadata": {},
   "source": [
    "### Дробный тип (Fraction type)"
   ]
  },
  {
   "cell_type": "markdown",
   "metadata": {},
   "source": [
    "В версиях Python 2.6 и 3.0 появился числовой тип Fraction, который реализует объект __рационального числа__: он явно хранит числитель и знаменатель, так что избегает ряда неточностей и ограничений математики для чисел float (с плавающей точкой). Конечно, цена этого - немного __сниженная производительность__ ."
   ]
  },
  {
   "cell_type": "markdown",
   "metadata": {},
   "source": [
    "__Основы дробей__"
   ]
  },
  {
   "cell_type": "code",
   "execution_count": 260,
   "metadata": {},
   "outputs": [],
   "source": [
    "from fractions import Fraction"
   ]
  },
  {
   "cell_type": "code",
   "execution_count": 261,
   "metadata": {},
   "outputs": [],
   "source": [
    "x = Fraction(1, 3) # Числитель, знаменатель"
   ]
  },
  {
   "cell_type": "code",
   "execution_count": 262,
   "metadata": {},
   "outputs": [],
   "source": [
    "y = Fraction(4, 6) # Упрощается до (2, 3) по НОД"
   ]
  },
  {
   "cell_type": "code",
   "execution_count": 263,
   "metadata": {},
   "outputs": [
    {
     "data": {
      "text/plain": [
       "Fraction(1, 3)"
      ]
     },
     "execution_count": 263,
     "metadata": {},
     "output_type": "execute_result"
    }
   ],
   "source": [
    "x"
   ]
  },
  {
   "cell_type": "code",
   "execution_count": 264,
   "metadata": {},
   "outputs": [
    {
     "data": {
      "text/plain": [
       "Fraction(2, 3)"
      ]
     },
     "execution_count": 264,
     "metadata": {},
     "output_type": "execute_result"
    }
   ],
   "source": [
    "y"
   ]
  },
  {
   "cell_type": "code",
   "execution_count": 265,
   "metadata": {},
   "outputs": [
    {
     "name": "stdout",
     "output_type": "stream",
     "text": [
      "2/3\n"
     ]
    }
   ],
   "source": [
    "print(y)"
   ]
  },
  {
   "cell_type": "code",
   "execution_count": 269,
   "metadata": {},
   "outputs": [
    {
     "data": {
      "text/plain": [
       "Fraction(1, 1)"
      ]
     },
     "execution_count": 269,
     "metadata": {},
     "output_type": "execute_result"
    }
   ],
   "source": [
    "x + y"
   ]
  },
  {
   "cell_type": "code",
   "execution_count": 270,
   "metadata": {},
   "outputs": [
    {
     "data": {
      "text/plain": [
       "Fraction(-1, 3)"
      ]
     },
     "execution_count": 270,
     "metadata": {},
     "output_type": "execute_result"
    }
   ],
   "source": [
    "x - y # Результаты точны: числитель, знаменатель"
   ]
  },
  {
   "cell_type": "code",
   "execution_count": 271,
   "metadata": {},
   "outputs": [
    {
     "data": {
      "text/plain": [
       "Fraction(2, 9)"
      ]
     },
     "execution_count": 271,
     "metadata": {},
     "output_type": "execute_result"
    }
   ],
   "source": [
    "x * y"
   ]
  },
  {
   "cell_type": "code",
   "execution_count": 350,
   "metadata": {},
   "outputs": [
    {
     "data": {
      "text/plain": [
       "Fraction(1, 2)"
      ]
     },
     "execution_count": 350,
     "metadata": {},
     "output_type": "execute_result"
    }
   ],
   "source": [
    "x / y"
   ]
  },
  {
   "cell_type": "code",
   "execution_count": 351,
   "metadata": {},
   "outputs": [
    {
     "data": {
      "text/plain": [
       "Fraction(1, 3)"
      ]
     },
     "execution_count": 351,
     "metadata": {},
     "output_type": "execute_result"
    }
   ],
   "source": [
    "x % y"
   ]
  },
  {
   "cell_type": "code",
   "execution_count": 352,
   "metadata": {},
   "outputs": [
    {
     "data": {
      "text/plain": [
       "Fraction(0, 1)"
      ]
     },
     "execution_count": 352,
     "metadata": {},
     "output_type": "execute_result"
    }
   ],
   "source": [
    "y % x"
   ]
  },
  {
   "cell_type": "code",
   "execution_count": 355,
   "metadata": {
    "scrolled": true
   },
   "outputs": [
    {
     "data": {
      "text/plain": [
       "0"
      ]
     },
     "execution_count": 355,
     "metadata": {},
     "output_type": "execute_result"
    }
   ],
   "source": [
    "x // y # Удивительно, что и эта операция поддерживается\n",
    "       # Результат: int"
   ]
  },
  {
   "cell_type": "code",
   "execution_count": 356,
   "metadata": {
    "scrolled": true
   },
   "outputs": [
    {
     "data": {
      "text/plain": [
       "2"
      ]
     },
     "execution_count": 356,
     "metadata": {},
     "output_type": "execute_result"
    }
   ],
   "source": [
    "y // x"
   ]
  },
  {
   "cell_type": "code",
   "execution_count": 353,
   "metadata": {},
   "outputs": [
    {
     "data": {
      "text/plain": [
       "0.4807498567691361"
      ]
     },
     "execution_count": 353,
     "metadata": {},
     "output_type": "execute_result"
    }
   ],
   "source": [
    "x ** y"
   ]
  },
  {
   "cell_type": "code",
   "execution_count": 354,
   "metadata": {},
   "outputs": [
    {
     "data": {
      "text/plain": [
       "Fraction(1, 3)"
      ]
     },
     "execution_count": 354,
     "metadata": {},
     "output_type": "execute_result"
    }
   ],
   "source": [
    "abs(x - y)"
   ]
  },
  {
   "cell_type": "markdown",
   "metadata": {},
   "source": [
    "Объекты Fraction также можно оздавать из строк с числами float (с плавающей точкой):"
   ]
  },
  {
   "cell_type": "code",
   "execution_count": 272,
   "metadata": {},
   "outputs": [
    {
     "data": {
      "text/plain": [
       "Fraction(1, 4)"
      ]
     },
     "execution_count": 272,
     "metadata": {},
     "output_type": "execute_result"
    }
   ],
   "source": [
    "Fraction('.25')"
   ]
  },
  {
   "cell_type": "code",
   "execution_count": 273,
   "metadata": {},
   "outputs": [
    {
     "data": {
      "text/plain": [
       "Fraction(5, 4)"
      ]
     },
     "execution_count": 273,
     "metadata": {},
     "output_type": "execute_result"
    }
   ],
   "source": [
    "Fraction('1.25')"
   ]
  },
  {
   "cell_type": "code",
   "execution_count": 274,
   "metadata": {},
   "outputs": [
    {
     "data": {
      "text/plain": [
       "Fraction(3, 2)"
      ]
     },
     "execution_count": 274,
     "metadata": {},
     "output_type": "execute_result"
    }
   ],
   "source": [
    "Fraction('.25') + Fraction('1.25')"
   ]
  },
  {
   "cell_type": "markdown",
   "metadata": {},
   "source": [
    "А из самих float (см. как это правильно делать далее)? Попробую:"
   ]
  },
  {
   "cell_type": "code",
   "execution_count": 299,
   "metadata": {},
   "outputs": [
    {
     "data": {
      "text/plain": [
       "Fraction(1, 4)"
      ]
     },
     "execution_count": 299,
     "metadata": {},
     "output_type": "execute_result"
    }
   ],
   "source": [
    "Fraction(.25)"
   ]
  },
  {
   "cell_type": "code",
   "execution_count": 298,
   "metadata": {},
   "outputs": [
    {
     "data": {
      "text/plain": [
       "Fraction(1, 2)"
      ]
     },
     "execution_count": 298,
     "metadata": {},
     "output_type": "execute_result"
    }
   ],
   "source": [
    "Fraction(0.5)"
   ]
  },
  {
   "cell_type": "code",
   "execution_count": 300,
   "metadata": {},
   "outputs": [
    {
     "data": {
      "text/plain": [
       "Fraction(3332663724254167, 9007199254740992)"
      ]
     },
     "execution_count": 300,
     "metadata": {},
     "output_type": "execute_result"
    }
   ],
   "source": [
    "Fraction(.37)"
   ]
  },
  {
   "cell_type": "code",
   "execution_count": 301,
   "metadata": {},
   "outputs": [
    {
     "data": {
      "text/plain": [
       "0.37"
      ]
     },
     "execution_count": 301,
     "metadata": {},
     "output_type": "execute_result"
    }
   ],
   "source": [
    "3332663724254167 / 9007199254740992"
   ]
  },
  {
   "cell_type": "markdown",
   "metadata": {},
   "source": [
    "Да уж, неочевидный результат получился из Fraction(.37)."
   ]
  },
  {
   "cell_type": "markdown",
   "metadata": {},
   "source": [
    "А если в скобках выражение? Попробую:"
   ]
  },
  {
   "cell_type": "code",
   "execution_count": 302,
   "metadata": {},
   "outputs": [
    {
     "data": {
      "text/plain": [
       "Fraction(6004799503160661, 18014398509481984)"
      ]
     },
     "execution_count": 302,
     "metadata": {},
     "output_type": "execute_result"
    }
   ],
   "source": [
    "Fraction(1 / 3)"
   ]
  },
  {
   "cell_type": "code",
   "execution_count": 303,
   "metadata": {},
   "outputs": [
    {
     "data": {
      "text/plain": [
       "0.3333333333333333"
      ]
     },
     "execution_count": 303,
     "metadata": {},
     "output_type": "execute_result"
    }
   ],
   "source": [
    "6004799503160661 / 18014398509481984"
   ]
  },
  {
   "cell_type": "code",
   "execution_count": 304,
   "metadata": {},
   "outputs": [
    {
     "data": {
      "text/plain": [
       "Fraction(1, 4)"
      ]
     },
     "execution_count": 304,
     "metadata": {},
     "output_type": "execute_result"
    }
   ],
   "source": [
    "Fraction(1 / 4)"
   ]
  },
  {
   "cell_type": "code",
   "execution_count": 305,
   "metadata": {},
   "outputs": [
    {
     "data": {
      "text/plain": [
       "Fraction(3602879701896397, 18014398509481984)"
      ]
     },
     "execution_count": 305,
     "metadata": {},
     "output_type": "execute_result"
    }
   ],
   "source": [
    "Fraction(1 / 5)"
   ]
  },
  {
   "cell_type": "code",
   "execution_count": 306,
   "metadata": {},
   "outputs": [
    {
     "data": {
      "text/plain": [
       "0.2"
      ]
     },
     "execution_count": 306,
     "metadata": {},
     "output_type": "execute_result"
    }
   ],
   "source": [
    "3602879701896397 / 18014398509481984"
   ]
  },
  {
   "cell_type": "markdown",
   "metadata": {},
   "source": [
    "Да уж, результаты преобразования из float и выражений неочевидные, но, вероятно, они таковы из-за аппаратных ограничений для хранения float и поддержки математики float."
   ]
  },
  {
   "cell_type": "markdown",
   "metadata": {},
   "source": [
    "__Числовая точность дробных и десятичных типов__"
   ]
  },
  {
   "cell_type": "code",
   "execution_count": 275,
   "metadata": {},
   "outputs": [],
   "source": [
    "a = 1 / 3.0 # Резльтат точен лишь настолько, насколько позволяют\n",
    "            # аппаратные стредства"
   ]
  },
  {
   "cell_type": "code",
   "execution_count": 276,
   "metadata": {},
   "outputs": [],
   "source": [
    "b = 4 / 6.0 # Точность теряется из-за множества вычислений"
   ]
  },
  {
   "cell_type": "code",
   "execution_count": 277,
   "metadata": {},
   "outputs": [
    {
     "data": {
      "text/plain": [
       "0.3333333333333333"
      ]
     },
     "execution_count": 277,
     "metadata": {},
     "output_type": "execute_result"
    }
   ],
   "source": [
    "a"
   ]
  },
  {
   "cell_type": "code",
   "execution_count": 278,
   "metadata": {},
   "outputs": [
    {
     "data": {
      "text/plain": [
       "0.6666666666666666"
      ]
     },
     "execution_count": 278,
     "metadata": {},
     "output_type": "execute_result"
    }
   ],
   "source": [
    "b"
   ]
  },
  {
   "cell_type": "code",
   "execution_count": 279,
   "metadata": {},
   "outputs": [
    {
     "data": {
      "text/plain": [
       "1.0"
      ]
     },
     "execution_count": 279,
     "metadata": {},
     "output_type": "execute_result"
    }
   ],
   "source": [
    "a + b"
   ]
  },
  {
   "cell_type": "code",
   "execution_count": 280,
   "metadata": {},
   "outputs": [
    {
     "data": {
      "text/plain": [
       "-0.3333333333333333"
      ]
     },
     "execution_count": 280,
     "metadata": {},
     "output_type": "execute_result"
    }
   ],
   "source": [
    "a - b"
   ]
  },
  {
   "cell_type": "code",
   "execution_count": 281,
   "metadata": {},
   "outputs": [
    {
     "data": {
      "text/plain": [
       "0.2222222222222222"
      ]
     },
     "execution_count": 281,
     "metadata": {},
     "output_type": "execute_result"
    }
   ],
   "source": [
    "a * b"
   ]
  },
  {
   "cell_type": "code",
   "execution_count": 282,
   "metadata": {},
   "outputs": [
    {
     "data": {
      "text/plain": [
       "5.551115123125783e-17"
      ]
     },
     "execution_count": 282,
     "metadata": {},
     "output_type": "execute_result"
    }
   ],
   "source": [
    "0.1 + 0.1 + 0.1 - 0.3 # Должен быть нулем (близко, но не точно)"
   ]
  },
  {
   "cell_type": "code",
   "execution_count": 283,
   "metadata": {},
   "outputs": [
    {
     "data": {
      "text/plain": [
       "Fraction(0, 1)"
      ]
     },
     "execution_count": 283,
     "metadata": {},
     "output_type": "execute_result"
    }
   ],
   "source": [
    "from fractions import Fraction\n",
    "Fraction('0.1') + Fraction('0.1') + Fraction('0.1') - Fraction('0.3')"
   ]
  },
  {
   "cell_type": "code",
   "execution_count": 284,
   "metadata": {},
   "outputs": [
    {
     "data": {
      "text/plain": [
       "Fraction(0, 1)"
      ]
     },
     "execution_count": 284,
     "metadata": {},
     "output_type": "execute_result"
    }
   ],
   "source": [
    "Fraction(1, 10) + Fraction(1, 10) + Fraction(1, 10) - Fraction(3, 10)"
   ]
  },
  {
   "cell_type": "code",
   "execution_count": 285,
   "metadata": {},
   "outputs": [
    {
     "data": {
      "text/plain": [
       "Decimal('0.0')"
      ]
     },
     "execution_count": 285,
     "metadata": {},
     "output_type": "execute_result"
    }
   ],
   "source": [
    "from decimal import Decimal\n",
    "Decimal('0.1') + Decimal('0.1') + Decimal('0.1') - Decimal('0.3')"
   ]
  },
  {
   "cell_type": "markdown",
   "metadata": {},
   "source": [
    "Fraction и Decimal иногда позволяют получать более понятные и точные результаты, чем float:"
   ]
  },
  {
   "cell_type": "code",
   "execution_count": 286,
   "metadata": {},
   "outputs": [
    {
     "data": {
      "text/plain": [
       "0.3333333333333333"
      ]
     },
     "execution_count": 286,
     "metadata": {},
     "output_type": "execute_result"
    }
   ],
   "source": [
    "1 / 3 # Применяйте '.0' в Python 2.X для настоящего деления (/)"
   ]
  },
  {
   "cell_type": "code",
   "execution_count": 287,
   "metadata": {},
   "outputs": [
    {
     "data": {
      "text/plain": [
       "Fraction(1, 3)"
      ]
     },
     "execution_count": 287,
     "metadata": {},
     "output_type": "execute_result"
    }
   ],
   "source": [
    "Fraction(1, 3) # Числовая точность, два пути"
   ]
  },
  {
   "cell_type": "code",
   "execution_count": 289,
   "metadata": {},
   "outputs": [
    {
     "data": {
      "text/plain": [
       "Decimal('0.33')"
      ]
     },
     "execution_count": 289,
     "metadata": {},
     "output_type": "execute_result"
    }
   ],
   "source": [
    "import decimal\n",
    "decimal.getcontext().prec = 2\n",
    "decimal.Decimal(1) / decimal.Decimal(3)"
   ]
  },
  {
   "cell_type": "markdown",
   "metadata": {},
   "source": [
    "Фактически Fraction сохраняет точность и автоматически упрощает результаты."
   ]
  },
  {
   "cell_type": "code",
   "execution_count": 290,
   "metadata": {},
   "outputs": [
    {
     "data": {
      "text/plain": [
       "0.8333333333333333"
      ]
     },
     "execution_count": 290,
     "metadata": {},
     "output_type": "execute_result"
    }
   ],
   "source": [
    "(1 / 3) + (6 / 12) # Применяйте '.0' в Python 2.X для настоящего деления (/)"
   ]
  },
  {
   "cell_type": "code",
   "execution_count": 291,
   "metadata": {},
   "outputs": [
    {
     "data": {
      "text/plain": [
       "Fraction(1, 2)"
      ]
     },
     "execution_count": 291,
     "metadata": {},
     "output_type": "execute_result"
    }
   ],
   "source": [
    "Fraction(6, 12) # Резултат автоматически упрощается"
   ]
  },
  {
   "cell_type": "code",
   "execution_count": 292,
   "metadata": {},
   "outputs": [
    {
     "data": {
      "text/plain": [
       "Fraction(5, 6)"
      ]
     },
     "execution_count": 292,
     "metadata": {},
     "output_type": "execute_result"
    }
   ],
   "source": [
    "Fraction(1, 3) + Fraction(6, 12)"
   ]
  },
  {
   "cell_type": "code",
   "execution_count": 293,
   "metadata": {},
   "outputs": [
    {
     "data": {
      "text/plain": [
       "Decimal('0.8333333333333333')"
      ]
     },
     "execution_count": 293,
     "metadata": {},
     "output_type": "execute_result"
    }
   ],
   "source": [
    "decimal.Decimal(str(1 / 3)) + decimal.Decimal(str(6 / 12))"
   ]
  },
  {
   "cell_type": "markdown",
   "metadata": {},
   "source": [
    "Хм, а в книге результат Decimal('0.83'). Опять с этим Decimal непонятки. Попробую так:"
   ]
  },
  {
   "cell_type": "code",
   "execution_count": 294,
   "metadata": {},
   "outputs": [
    {
     "data": {
      "text/plain": [
       "Decimal('0.83')"
      ]
     },
     "execution_count": 294,
     "metadata": {},
     "output_type": "execute_result"
    }
   ],
   "source": [
    "decimal.getcontext().prec = 2\n",
    "decimal.Decimal(str(1 / 3)) + decimal.Decimal(str(6 / 12))"
   ]
  },
  {
   "cell_type": "code",
   "execution_count": 295,
   "metadata": {},
   "outputs": [
    {
     "data": {
      "text/plain": [
       "8.100000073710001e-07"
      ]
     },
     "execution_count": 295,
     "metadata": {},
     "output_type": "execute_result"
    }
   ],
   "source": [
    "1000.0 / 1234567890"
   ]
  },
  {
   "cell_type": "code",
   "execution_count": 296,
   "metadata": {},
   "outputs": [
    {
     "data": {
      "text/plain": [
       "Fraction(100, 123456789)"
      ]
     },
     "execution_count": 296,
     "metadata": {},
     "output_type": "execute_result"
    }
   ],
   "source": [
    "Fraction(1000, 1234567890) # Значительно проще!"
   ]
  },
  {
   "cell_type": "markdown",
   "metadata": {},
   "source": [
    "А что если так:"
   ]
  },
  {
   "cell_type": "code",
   "execution_count": 297,
   "metadata": {},
   "outputs": [
    {
     "data": {
      "text/plain": [
       "Fraction(7650233771865953, 9444732965739290427392)"
      ]
     },
     "execution_count": 297,
     "metadata": {},
     "output_type": "execute_result"
    }
   ],
   "source": [
    "Fraction(1000.0 / 1234567890)"
   ]
  },
  {
   "cell_type": "code",
   "execution_count": 307,
   "metadata": {},
   "outputs": [
    {
     "data": {
      "text/plain": [
       "8.100000073710001e-07"
      ]
     },
     "execution_count": 307,
     "metadata": {},
     "output_type": "execute_result"
    }
   ],
   "source": [
    "7650233771865953 / 9444732965739290427392"
   ]
  },
  {
   "cell_type": "markdown",
   "metadata": {},
   "source": [
    "__Преобразования дробей и разнородные типы__"
   ]
  },
  {
   "cell_type": "code",
   "execution_count": 308,
   "metadata": {},
   "outputs": [
    {
     "data": {
      "text/plain": [
       "(5, 2)"
      ]
     },
     "execution_count": 308,
     "metadata": {},
     "output_type": "execute_result"
    }
   ],
   "source": [
    "(2.5).as_integer_ratio() # Метод объекта float: который выдаёт в кортеже \n",
    "                         # числитель и знаменатель"
   ]
  },
  {
   "cell_type": "code",
   "execution_count": 309,
   "metadata": {},
   "outputs": [],
   "source": [
    "f = 2.5"
   ]
  },
  {
   "cell_type": "code",
   "execution_count": 310,
   "metadata": {},
   "outputs": [],
   "source": [
    "z = Fraction(*f.as_integer_ratio()) # Преобразует объект float в Fraction:\n",
    "                                    # два аргумента "
   ]
  },
  {
   "cell_type": "code",
   "execution_count": 311,
   "metadata": {},
   "outputs": [
    {
     "data": {
      "text/plain": [
       "Fraction(5, 2)"
      ]
     },
     "execution_count": 311,
     "metadata": {},
     "output_type": "execute_result"
    }
   ],
   "source": [
    "z"
   ]
  },
  {
   "cell_type": "code",
   "execution_count": 312,
   "metadata": {},
   "outputs": [
    {
     "data": {
      "text/plain": [
       "Fraction(1, 3)"
      ]
     },
     "execution_count": 312,
     "metadata": {},
     "output_type": "execute_result"
    }
   ],
   "source": [
    "x = Fraction(1, 3)\n",
    "x"
   ]
  },
  {
   "cell_type": "code",
   "execution_count": 313,
   "metadata": {},
   "outputs": [
    {
     "data": {
      "text/plain": [
       "Fraction(17, 6)"
      ]
     },
     "execution_count": 313,
     "metadata": {},
     "output_type": "execute_result"
    }
   ],
   "source": [
    "x + z # 5/2 + 1/3 = 15/6 + 2/6 "
   ]
  },
  {
   "cell_type": "code",
   "execution_count": 314,
   "metadata": {},
   "outputs": [
    {
     "data": {
      "text/plain": [
       "0.3333333333333333"
      ]
     },
     "execution_count": 314,
     "metadata": {},
     "output_type": "execute_result"
    }
   ],
   "source": [
    "float(x) # Преобразует Fraction в float "
   ]
  },
  {
   "cell_type": "code",
   "execution_count": 315,
   "metadata": {},
   "outputs": [
    {
     "data": {
      "text/plain": [
       "2.5"
      ]
     },
     "execution_count": 315,
     "metadata": {},
     "output_type": "execute_result"
    }
   ],
   "source": [
    "float(z)"
   ]
  },
  {
   "cell_type": "code",
   "execution_count": 317,
   "metadata": {},
   "outputs": [
    {
     "data": {
      "text/plain": [
       "2.8333333333333335"
      ]
     },
     "execution_count": 317,
     "metadata": {},
     "output_type": "execute_result"
    }
   ],
   "source": [
    "float(x + z)"
   ]
  },
  {
   "cell_type": "code",
   "execution_count": 318,
   "metadata": {},
   "outputs": [
    {
     "data": {
      "text/plain": [
       "2.8333333333333335"
      ]
     },
     "execution_count": 318,
     "metadata": {},
     "output_type": "execute_result"
    }
   ],
   "source": [
    "17 / 6 "
   ]
  },
  {
   "cell_type": "markdown",
   "metadata": {},
   "source": [
    "Т.е. тот же самый результат.  \n",
    "\n",
    "Ещё пример:"
   ]
  },
  {
   "cell_type": "code",
   "execution_count": 320,
   "metadata": {},
   "outputs": [
    {
     "data": {
      "text/plain": [
       "Fraction(7, 4)"
      ]
     },
     "execution_count": 320,
     "metadata": {},
     "output_type": "execute_result"
    }
   ],
   "source": [
    "Fraction.from_float(1.75) # Преобразует float в Fraction: другой способ"
   ]
  },
  {
   "cell_type": "code",
   "execution_count": 321,
   "metadata": {},
   "outputs": [
    {
     "data": {
      "text/plain": [
       "Fraction(7, 4)"
      ]
     },
     "execution_count": 321,
     "metadata": {},
     "output_type": "execute_result"
    }
   ],
   "source": [
    "Fraction(*(1.75).as_integer_ratio())"
   ]
  },
  {
   "cell_type": "code",
   "execution_count": 326,
   "metadata": {},
   "outputs": [
    {
     "data": {
      "text/plain": [
       "(Fraction(7, 4), Fraction(7, 4))"
      ]
     },
     "execution_count": 326,
     "metadata": {},
     "output_type": "execute_result"
    }
   ],
   "source": [
    "Fraction.from_float(1.75), Fraction(1.75)"
   ]
  },
  {
   "cell_type": "code",
   "execution_count": 327,
   "metadata": {},
   "outputs": [
    {
     "data": {
      "text/plain": [
       "(Fraction(7650233771865953, 9444732965739290427392),\n",
       " Fraction(7650233771865953, 9444732965739290427392))"
      ]
     },
     "execution_count": 327,
     "metadata": {},
     "output_type": "execute_result"
    }
   ],
   "source": [
    "Fraction.from_float(1000.0 / 1234567890), Fraction(1000.0 / 1234567890)"
   ]
  },
  {
   "cell_type": "markdown",
   "metadata": {},
   "source": [
    "В общем, по последним примерам видно, что Fraction.from_float(1000.0 / 1234567890) и Fraction(1000.0 / 1234567890) выдают один результат. Не знаю, нужно ли в таком случае использовать дополнительно этот метод from_float()."
   ]
  },
  {
   "cell_type": "markdown",
   "metadata": {},
   "source": [
    "Смешивание некоторых типов в выражениях:"
   ]
  },
  {
   "cell_type": "code",
   "execution_count": 328,
   "metadata": {},
   "outputs": [
    {
     "data": {
      "text/plain": [
       "Fraction(1, 3)"
      ]
     },
     "execution_count": 328,
     "metadata": {},
     "output_type": "execute_result"
    }
   ],
   "source": [
    "x"
   ]
  },
  {
   "cell_type": "code",
   "execution_count": 329,
   "metadata": {},
   "outputs": [
    {
     "data": {
      "text/plain": [
       "Fraction(7, 3)"
      ]
     },
     "execution_count": 329,
     "metadata": {},
     "output_type": "execute_result"
    }
   ],
   "source": [
    "x + 2 # Fraction + int -> Fraction"
   ]
  },
  {
   "cell_type": "code",
   "execution_count": 330,
   "metadata": {},
   "outputs": [
    {
     "data": {
      "text/plain": [
       "Fraction(7, 3)"
      ]
     },
     "execution_count": 330,
     "metadata": {},
     "output_type": "execute_result"
    }
   ],
   "source": [
    "2 + x # Аналогично"
   ]
  },
  {
   "cell_type": "code",
   "execution_count": 331,
   "metadata": {},
   "outputs": [
    {
     "data": {
      "text/plain": [
       "2.3333333333333335"
      ]
     },
     "execution_count": 331,
     "metadata": {},
     "output_type": "execute_result"
    }
   ],
   "source": [
    "x + 2.0 # Fraction + float -> float"
   ]
  },
  {
   "cell_type": "code",
   "execution_count": 332,
   "metadata": {},
   "outputs": [
    {
     "data": {
      "text/plain": [
       "2.3333333333333335"
      ]
     },
     "execution_count": 332,
     "metadata": {},
     "output_type": "execute_result"
    }
   ],
   "source": [
    "2.0 + x # Аналогично"
   ]
  },
  {
   "cell_type": "code",
   "execution_count": 333,
   "metadata": {},
   "outputs": [
    {
     "data": {
      "text/plain": [
       "0.6666666666666666"
      ]
     },
     "execution_count": 333,
     "metadata": {},
     "output_type": "execute_result"
    }
   ],
   "source": [
    "x + (1/3) # Fraction + float -> float"
   ]
  },
  {
   "cell_type": "code",
   "execution_count": 334,
   "metadata": {},
   "outputs": [
    {
     "data": {
      "text/plain": [
       "1.6666666666666665"
      ]
     },
     "execution_count": 334,
     "metadata": {},
     "output_type": "execute_result"
    }
   ],
   "source": [
    "x + (4./3)"
   ]
  },
  {
   "cell_type": "code",
   "execution_count": 335,
   "metadata": {},
   "outputs": [
    {
     "data": {
      "text/plain": [
       "Fraction(5, 3)"
      ]
     },
     "execution_count": 335,
     "metadata": {},
     "output_type": "execute_result"
    }
   ],
   "source": [
    "x + Fraction(4, 3) # Fraction + Fraction -> Fraction"
   ]
  },
  {
   "cell_type": "markdown",
   "metadata": {},
   "source": [
    "__!!! Одно предостережение:__  \n",
    "несмотря на возможность преобразования float в Fraction, в ряде случаев при этом возникает __неизбежная потеря точности__ , потому что число в своей исходной форме float не является точным. При необходимости результаты такого \"неудачного\" преобразования можно упростить, ограничивая максимальное значение знаменателя:"
   ]
  },
  {
   "cell_type": "code",
   "execution_count": 336,
   "metadata": {},
   "outputs": [
    {
     "data": {
      "text/plain": [
       "1.3333333333333333"
      ]
     },
     "execution_count": 336,
     "metadata": {},
     "output_type": "execute_result"
    }
   ],
   "source": [
    "4.0 / 3"
   ]
  },
  {
   "cell_type": "code",
   "execution_count": 337,
   "metadata": {},
   "outputs": [
    {
     "data": {
      "text/plain": [
       "(6004799503160661, 4503599627370496)"
      ]
     },
     "execution_count": 337,
     "metadata": {},
     "output_type": "execute_result"
    }
   ],
   "source": [
    "(4.0 / 3).as_integer_ratio() # Точность теряется из-за числа float"
   ]
  },
  {
   "cell_type": "code",
   "execution_count": 338,
   "metadata": {},
   "outputs": [
    {
     "data": {
      "text/plain": [
       "Fraction(1, 3)"
      ]
     },
     "execution_count": 338,
     "metadata": {},
     "output_type": "execute_result"
    }
   ],
   "source": [
    "x"
   ]
  },
  {
   "cell_type": "code",
   "execution_count": 340,
   "metadata": {},
   "outputs": [
    {
     "data": {
      "text/plain": [
       "Fraction(22517998136852479, 13510798882111488)"
      ]
     },
     "execution_count": 340,
     "metadata": {},
     "output_type": "execute_result"
    }
   ],
   "source": [
    "a = x + Fraction(*(4.0 / 3).as_integer_ratio())\n",
    "a"
   ]
  },
  {
   "cell_type": "code",
   "execution_count": 341,
   "metadata": {},
   "outputs": [
    {
     "data": {
      "text/plain": [
       "1.6666666666666665"
      ]
     },
     "execution_count": 341,
     "metadata": {},
     "output_type": "execute_result"
    }
   ],
   "source": [
    "22517998136852479 / 13510798882111488 # 5 / 3 (или близко!)"
   ]
  },
  {
   "cell_type": "code",
   "execution_count": 342,
   "metadata": {},
   "outputs": [
    {
     "data": {
      "text/plain": [
       "1.6666666666666667"
      ]
     },
     "execution_count": 342,
     "metadata": {},
     "output_type": "execute_result"
    }
   ],
   "source": [
    "5 / 3"
   ]
  },
  {
   "cell_type": "code",
   "execution_count": 344,
   "metadata": {},
   "outputs": [
    {
     "data": {
      "text/plain": [
       "Fraction(5, 3)"
      ]
     },
     "execution_count": 344,
     "metadata": {},
     "output_type": "execute_result"
    }
   ],
   "source": [
    "a.limit_denominator(10) # Упростить до ближайшей дроби"
   ]
  },
  {
   "cell_type": "code",
   "execution_count": 345,
   "metadata": {},
   "outputs": [
    {
     "data": {
      "text/plain": [
       "Fraction(5, 3)"
      ]
     },
     "execution_count": 345,
     "metadata": {},
     "output_type": "execute_result"
    }
   ],
   "source": [
    "a.limit_denominator(100)"
   ]
  },
  {
   "cell_type": "code",
   "execution_count": 347,
   "metadata": {},
   "outputs": [
    {
     "data": {
      "text/plain": [
       "Fraction(5, 3)"
      ]
     },
     "execution_count": 347,
     "metadata": {},
     "output_type": "execute_result"
    }
   ],
   "source": [
    "a.limit_denominator(1000)"
   ]
  },
  {
   "cell_type": "markdown",
   "metadata": {},
   "source": [
    "Хм, не очень понятно, каким образом работает метод limit_denominator(), и что конкретно он делает. Почитала в интернете: __Fraction.limit_denominator(max_denominator=1000000)__ - ближайшее рациональное число со знаменателем не больше данного:"
   ]
  },
  {
   "cell_type": "code",
   "execution_count": 348,
   "metadata": {},
   "outputs": [
    {
     "data": {
      "text/plain": [
       "Fraction(7074029114692207, 2251799813685248)"
      ]
     },
     "execution_count": 348,
     "metadata": {},
     "output_type": "execute_result"
    }
   ],
   "source": [
    "a = Fraction(3.1415)\n",
    "a"
   ]
  },
  {
   "cell_type": "code",
   "execution_count": 349,
   "metadata": {},
   "outputs": [
    {
     "data": {
      "text/plain": [
       "Fraction(6283, 2000)"
      ]
     },
     "execution_count": 349,
     "metadata": {},
     "output_type": "execute_result"
    }
   ],
   "source": [
    "a.limit_denominator()"
   ]
  },
  {
   "cell_type": "markdown",
   "metadata": {},
   "source": [
    "Также, помимо класса рациональных чисел, модуль fractions предоставляет функцию для нахождения __наибольшего общего делителя__.  \n",
    "\n",
    "__fractions.gcd(a, b)__ - наибольший общий делитель чисел a и b.\n",
    "\n",
    "Но, судя по предупреждению, данная функциональность уже считается __устаревшей__:"
   ]
  },
  {
   "cell_type": "code",
   "execution_count": 359,
   "metadata": {},
   "outputs": [
    {
     "name": "stderr",
     "output_type": "stream",
     "text": [
      "C:\\Anaconda3\\lib\\site-packages\\ipykernel_launcher.py:2: DeprecationWarning: fractions.gcd() is deprecated. Use math.gcd() instead.\n",
      "  \n"
     ]
    },
    {
     "data": {
      "text/plain": [
       "1"
      ]
     },
     "execution_count": 359,
     "metadata": {},
     "output_type": "execute_result"
    }
   ],
   "source": [
    "from fractions import gcd\n",
    "gcd(1, 5) # DeprecationWarning: fractions.gcd() is deprecated. Use math.gcd() instead."
   ]
  },
  {
   "cell_type": "markdown",
   "metadata": {},
   "source": [
    "И для нахождения НОД теперь надо использовать math.gcd():"
   ]
  },
  {
   "cell_type": "code",
   "execution_count": 360,
   "metadata": {},
   "outputs": [
    {
     "data": {
      "text/plain": [
       "1"
      ]
     },
     "execution_count": 360,
     "metadata": {},
     "output_type": "execute_result"
    }
   ],
   "source": [
    "import math\n",
    "math.gcd(1, 5)"
   ]
  },
  {
   "cell_type": "markdown",
   "metadata": {},
   "source": [
    "## Множества\n",
    "\n",
    "Помимо Decimal в Python 2.4 появился новый тип коллекции, __множество__ - неупорядоченная коллекция уникальных и неизменяемых объектов, которая поддерживает операции, соответствующие математической теории множеств."
   ]
  },
  {
   "cell_type": "markdown",
   "metadata": {},
   "source": [
    "### Основы множеств в Python 2.6 и предшествующих версиях"
   ]
  },
  {
   "cell_type": "code",
   "execution_count": 361,
   "metadata": {},
   "outputs": [],
   "source": [
    "x = set('abcde') # Создание множества из другого итерируемого объекта"
   ]
  },
  {
   "cell_type": "code",
   "execution_count": 362,
   "metadata": {},
   "outputs": [],
   "source": [
    "y = set('bdxyz')"
   ]
  },
  {
   "cell_type": "code",
   "execution_count": 363,
   "metadata": {},
   "outputs": [
    {
     "data": {
      "text/plain": [
       "{'a', 'b', 'c', 'd', 'e'}"
      ]
     },
     "execution_count": 363,
     "metadata": {},
     "output_type": "execute_result"
    }
   ],
   "source": [
    "x"
   ]
  },
  {
   "cell_type": "markdown",
   "metadata": {},
   "source": [
    "Операции _выражений_ для множеств:"
   ]
  },
  {
   "cell_type": "code",
   "execution_count": 365,
   "metadata": {},
   "outputs": [
    {
     "data": {
      "text/plain": [
       "{'a', 'c', 'e'}"
      ]
     },
     "execution_count": 365,
     "metadata": {},
     "output_type": "execute_result"
    }
   ],
   "source": [
    "x - y # Разность"
   ]
  },
  {
   "cell_type": "code",
   "execution_count": 366,
   "metadata": {},
   "outputs": [
    {
     "data": {
      "text/plain": [
       "{'a', 'b', 'c', 'd', 'e', 'x', 'y', 'z'}"
      ]
     },
     "execution_count": 366,
     "metadata": {},
     "output_type": "execute_result"
    }
   ],
   "source": [
    "x | y # Объединение"
   ]
  },
  {
   "cell_type": "code",
   "execution_count": 367,
   "metadata": {},
   "outputs": [
    {
     "data": {
      "text/plain": [
       "{'b', 'd'}"
      ]
     },
     "execution_count": 367,
     "metadata": {},
     "output_type": "execute_result"
    }
   ],
   "source": [
    "x & y # Пересечение"
   ]
  },
  {
   "cell_type": "code",
   "execution_count": 368,
   "metadata": {},
   "outputs": [
    {
     "data": {
      "text/plain": [
       "{'a', 'c', 'e', 'x', 'y', 'z'}"
      ]
     },
     "execution_count": 368,
     "metadata": {},
     "output_type": "execute_result"
    }
   ],
   "source": [
    "x ^ y # Симметрическая разность (исключающее ИЛИ) "
   ]
  },
  {
   "cell_type": "code",
   "execution_count": 369,
   "metadata": {},
   "outputs": [
    {
     "data": {
      "text/plain": [
       "(False, False)"
      ]
     },
     "execution_count": 369,
     "metadata": {},
     "output_type": "execute_result"
    }
   ],
   "source": [
    "x > y, y < x # Надмножество, подмножество"
   ]
  },
  {
   "cell_type": "code",
   "execution_count": 364,
   "metadata": {},
   "outputs": [
    {
     "ename": "TypeError",
     "evalue": "unsupported operand type(s) for +: 'set' and 'set'",
     "output_type": "error",
     "traceback": [
      "\u001b[1;31m---------------------------------------------------------------------------\u001b[0m",
      "\u001b[1;31mTypeError\u001b[0m                                 Traceback (most recent call last)",
      "\u001b[1;32m<ipython-input-364-cd60f97aa77f>\u001b[0m in \u001b[0;36m<module>\u001b[1;34m\u001b[0m\n\u001b[1;32m----> 1\u001b[1;33m \u001b[0mx\u001b[0m \u001b[1;33m+\u001b[0m \u001b[0my\u001b[0m\u001b[1;33m\u001b[0m\u001b[1;33m\u001b[0m\u001b[0m\n\u001b[0m",
      "\u001b[1;31mTypeError\u001b[0m: unsupported operand type(s) for +: 'set' and 'set'"
     ]
    }
   ],
   "source": [
    "x + y # TypeError: unsupported operand type(s) for +: 'set' and 'set'"
   ]
  },
  {
   "cell_type": "code",
   "execution_count": 370,
   "metadata": {},
   "outputs": [
    {
     "data": {
      "text/plain": [
       "True"
      ]
     },
     "execution_count": 370,
     "metadata": {},
     "output_type": "execute_result"
    }
   ],
   "source": [
    "'e' in x # Проверка членства (множества)"
   ]
  },
  {
   "cell_type": "code",
   "execution_count": 371,
   "metadata": {},
   "outputs": [
    {
     "data": {
      "text/plain": [
       "(True, True)"
      ]
     },
     "execution_count": 371,
     "metadata": {},
     "output_type": "execute_result"
    }
   ],
   "source": [
    "'e' in 'Camelot', 22 in [11, 22, 33] # Эта операция работает также \n",
    "                                     # и с другими типами, в отличии от\n",
    "                                     # операций -,|, &, ^, <, >"
   ]
  },
  {
   "cell_type": "markdown",
   "metadata": {},
   "source": [
    "Методы множеств (некоторые из них соответствуют операциям -,|, &, ^, <, >, другие поддерживают изменение множества):"
   ]
  },
  {
   "cell_type": "code",
   "execution_count": 372,
   "metadata": {},
   "outputs": [
    {
     "data": {
      "text/plain": [
       "['__and__',\n",
       " '__class__',\n",
       " '__contains__',\n",
       " '__delattr__',\n",
       " '__dir__',\n",
       " '__doc__',\n",
       " '__eq__',\n",
       " '__format__',\n",
       " '__ge__',\n",
       " '__getattribute__',\n",
       " '__gt__',\n",
       " '__hash__',\n",
       " '__iand__',\n",
       " '__init__',\n",
       " '__init_subclass__',\n",
       " '__ior__',\n",
       " '__isub__',\n",
       " '__iter__',\n",
       " '__ixor__',\n",
       " '__le__',\n",
       " '__len__',\n",
       " '__lt__',\n",
       " '__ne__',\n",
       " '__new__',\n",
       " '__or__',\n",
       " '__rand__',\n",
       " '__reduce__',\n",
       " '__reduce_ex__',\n",
       " '__repr__',\n",
       " '__ror__',\n",
       " '__rsub__',\n",
       " '__rxor__',\n",
       " '__setattr__',\n",
       " '__sizeof__',\n",
       " '__str__',\n",
       " '__sub__',\n",
       " '__subclasshook__',\n",
       " '__xor__',\n",
       " 'add',\n",
       " 'clear',\n",
       " 'copy',\n",
       " 'difference',\n",
       " 'difference_update',\n",
       " 'discard',\n",
       " 'intersection',\n",
       " 'intersection_update',\n",
       " 'isdisjoint',\n",
       " 'issubset',\n",
       " 'issuperset',\n",
       " 'pop',\n",
       " 'remove',\n",
       " 'symmetric_difference',\n",
       " 'symmetric_difference_update',\n",
       " 'union',\n",
       " 'update']"
      ]
     },
     "execution_count": 372,
     "metadata": {},
     "output_type": "execute_result"
    }
   ],
   "source": [
    "dir(set)"
   ]
  },
  {
   "cell_type": "code",
   "execution_count": 376,
   "metadata": {},
   "outputs": [
    {
     "data": {
      "text/plain": [
       "{'b', 'd'}"
      ]
     },
     "execution_count": 376,
     "metadata": {},
     "output_type": "execute_result"
    }
   ],
   "source": [
    "z = x.intersection(y) # То же, что и x & y\n",
    "z"
   ]
  },
  {
   "cell_type": "code",
   "execution_count": 377,
   "metadata": {},
   "outputs": [
    {
     "data": {
      "text/plain": [
       "{'SPAM', 'b', 'd'}"
      ]
     },
     "execution_count": 377,
     "metadata": {},
     "output_type": "execute_result"
    }
   ],
   "source": [
    "z.add('SPAM') # Вставка одного элемента\n",
    "z"
   ]
  },
  {
   "cell_type": "code",
   "execution_count": 378,
   "metadata": {},
   "outputs": [
    {
     "data": {
      "text/plain": [
       "{'SPAM', 'X', 'Y', 'b', 'd'}"
      ]
     },
     "execution_count": 378,
     "metadata": {},
     "output_type": "execute_result"
    }
   ],
   "source": [
    "z.update(set(['X', 'Y'])) # Слияние: объединение на месте\n",
    "z"
   ]
  },
  {
   "cell_type": "code",
   "execution_count": 379,
   "metadata": {},
   "outputs": [
    {
     "data": {
      "text/plain": [
       "{'A', 'B', 'SPAM', 'X', 'Y', 'b', 'd'}"
      ]
     },
     "execution_count": 379,
     "metadata": {},
     "output_type": "execute_result"
    }
   ],
   "source": [
    "z.update(['A', 'B']) # В более позних версиях поддерживается любой\n",
    "                     # итерируемый объект, а не только set\n",
    "z"
   ]
  },
  {
   "cell_type": "code",
   "execution_count": 380,
   "metadata": {},
   "outputs": [
    {
     "data": {
      "text/plain": [
       "{'A', 'B', 'M', 'P', 'S', 'SPAM', 'X', 'Y', 'b', 'd'}"
      ]
     },
     "execution_count": 380,
     "metadata": {},
     "output_type": "execute_result"
    }
   ],
   "source": [
    "z.update('SPAM') # Аналогично\n",
    "z"
   ]
  },
  {
   "cell_type": "code",
   "execution_count": 381,
   "metadata": {},
   "outputs": [
    {
     "data": {
      "text/plain": [
       "{'A', 'B', 'M', 'P', 'S', 'SPAM', 'X', 'Y', 'd'}"
      ]
     },
     "execution_count": 381,
     "metadata": {},
     "output_type": "execute_result"
    }
   ],
   "source": [
    "z.remove('b') # Удаление одного элемента\n",
    "z"
   ]
  },
  {
   "cell_type": "code",
   "execution_count": 382,
   "metadata": {},
   "outputs": [
    {
     "ename": "KeyError",
     "evalue": "'1'",
     "output_type": "error",
     "traceback": [
      "\u001b[1;31m---------------------------------------------------------------------------\u001b[0m",
      "\u001b[1;31mKeyError\u001b[0m                                  Traceback (most recent call last)",
      "\u001b[1;32m<ipython-input-382-25c9321d41ad>\u001b[0m in \u001b[0;36m<module>\u001b[1;34m\u001b[0m\n\u001b[1;32m----> 1\u001b[1;33m \u001b[0mz\u001b[0m\u001b[1;33m.\u001b[0m\u001b[0mremove\u001b[0m\u001b[1;33m(\u001b[0m\u001b[1;34m'1'\u001b[0m\u001b[1;33m)\u001b[0m\u001b[1;33m\u001b[0m\u001b[1;33m\u001b[0m\u001b[0m\n\u001b[0m",
      "\u001b[1;31mKeyError\u001b[0m: '1'"
     ]
    }
   ],
   "source": [
    "z.remove('1') # Попытка удалить элемент, которого нет во множестве\n",
    "              # KeyError: '1'"
   ]
  },
  {
   "cell_type": "markdown",
   "metadata": {},
   "source": [
    "Т.к. множества итерируемы, то они м. использоваться в операциях вроде len, циклах for и в list comprehension:"
   ]
  },
  {
   "cell_type": "code",
   "execution_count": 383,
   "metadata": {},
   "outputs": [
    {
     "name": "stdout",
     "output_type": "stream",
     "text": [
      "bbb\n",
      "ccc\n",
      "aaa\n"
     ]
    }
   ],
   "source": [
    "for item in set('abc'):\n",
    "    print(item * 3)"
   ]
  },
  {
   "cell_type": "code",
   "execution_count": 384,
   "metadata": {},
   "outputs": [
    {
     "data": {
      "text/plain": [
       "3"
      ]
     },
     "execution_count": 384,
     "metadata": {},
     "output_type": "execute_result"
    }
   ],
   "source": [
    "len(set('abc'))"
   ]
  },
  {
   "cell_type": "code",
   "execution_count": 385,
   "metadata": {},
   "outputs": [
    {
     "data": {
      "text/plain": [
       "6"
      ]
     },
     "execution_count": 385,
     "metadata": {},
     "output_type": "execute_result"
    }
   ],
   "source": [
    "sum({1, 2, 3})"
   ]
  },
  {
   "cell_type": "code",
   "execution_count": 386,
   "metadata": {},
   "outputs": [
    {
     "data": {
      "text/plain": [
       "3"
      ]
     },
     "execution_count": 386,
     "metadata": {},
     "output_type": "execute_result"
    }
   ],
   "source": [
    "max({1, 2, 3})"
   ]
  },
  {
   "cell_type": "markdown",
   "metadata": {},
   "source": [
    "Хотя выражения со множествами в общем случае требуют двух множеств, их аналоги, основанные на методах, часто способны работать также с _любым итерируемым типом_ :"
   ]
  },
  {
   "cell_type": "code",
   "execution_count": 387,
   "metadata": {},
   "outputs": [],
   "source": [
    "S = set([1, 2, 3])"
   ]
  },
  {
   "cell_type": "code",
   "execution_count": 388,
   "metadata": {},
   "outputs": [
    {
     "data": {
      "text/plain": [
       "{1, 2, 3, 4}"
      ]
     },
     "execution_count": 388,
     "metadata": {},
     "output_type": "execute_result"
    }
   ],
   "source": [
    "S | set([3, 4]) # Выражения требуют двух множеств"
   ]
  },
  {
   "cell_type": "code",
   "execution_count": 389,
   "metadata": {},
   "outputs": [
    {
     "ename": "TypeError",
     "evalue": "unsupported operand type(s) for |: 'set' and 'list'",
     "output_type": "error",
     "traceback": [
      "\u001b[1;31m---------------------------------------------------------------------------\u001b[0m",
      "\u001b[1;31mTypeError\u001b[0m                                 Traceback (most recent call last)",
      "\u001b[1;32m<ipython-input-389-6ea215862202>\u001b[0m in \u001b[0;36m<module>\u001b[1;34m\u001b[0m\n\u001b[1;32m----> 1\u001b[1;33m \u001b[0mS\u001b[0m \u001b[1;33m|\u001b[0m \u001b[1;33m[\u001b[0m\u001b[1;36m3\u001b[0m\u001b[1;33m,\u001b[0m \u001b[1;36m4\u001b[0m\u001b[1;33m]\u001b[0m\u001b[1;33m\u001b[0m\u001b[1;33m\u001b[0m\u001b[0m\n\u001b[0m",
      "\u001b[1;31mTypeError\u001b[0m: unsupported operand type(s) for |: 'set' and 'list'"
     ]
    }
   ],
   "source": [
    "S | [3, 4] # TypeError: unsupported operand type(s) for |: 'set' and 'list'"
   ]
  },
  {
   "cell_type": "code",
   "execution_count": 390,
   "metadata": {},
   "outputs": [
    {
     "data": {
      "text/plain": [
       "{1, 2, 3, 4}"
      ]
     },
     "execution_count": 390,
     "metadata": {},
     "output_type": "execute_result"
    }
   ],
   "source": [
    "S.union([3, 4])"
   ]
  },
  {
   "cell_type": "code",
   "execution_count": 391,
   "metadata": {},
   "outputs": [
    {
     "data": {
      "text/plain": [
       "{1, 3}"
      ]
     },
     "execution_count": 391,
     "metadata": {},
     "output_type": "execute_result"
    }
   ],
   "source": [
    "S.intersection((1, 3, 5))"
   ]
  },
  {
   "cell_type": "code",
   "execution_count": 392,
   "metadata": {},
   "outputs": [
    {
     "data": {
      "text/plain": [
       "True"
      ]
     },
     "execution_count": 392,
     "metadata": {},
     "output_type": "execute_result"
    }
   ],
   "source": [
    "S.issubset(range(-5, 5))"
   ]
  },
  {
   "cell_type": "code",
   "execution_count": 393,
   "metadata": {},
   "outputs": [
    {
     "data": {
      "text/plain": [
       "range"
      ]
     },
     "execution_count": 393,
     "metadata": {},
     "output_type": "execute_result"
    }
   ],
   "source": [
    "type(range(0, 1))"
   ]
  },
  {
   "cell_type": "markdown",
   "metadata": {},
   "source": [
    "__Литералы множеств в Python 3.X и 2.7__"
   ]
  },
  {
   "cell_type": "markdown",
   "metadata": {},
   "source": [
    "В Python 3.X и 2.7 следующие операторы эквивалентны:"
   ]
  },
  {
   "cell_type": "code",
   "execution_count": 394,
   "metadata": {},
   "outputs": [
    {
     "data": {
      "text/plain": [
       "{1, 2, 3, 4}"
      ]
     },
     "execution_count": 394,
     "metadata": {},
     "output_type": "execute_result"
    }
   ],
   "source": [
    "set([1, 2, 3, 4]) # Вызов встроенной функции (все версии >= 2.4)"
   ]
  },
  {
   "cell_type": "code",
   "execution_count": 395,
   "metadata": {},
   "outputs": [
    {
     "data": {
      "text/plain": [
       "{1, 2, 3, 4}"
      ]
     },
     "execution_count": 395,
     "metadata": {},
     "output_type": "execute_result"
    }
   ],
   "source": [
    "{1, 2, 3, 4} # Более новые литералы для множеств (Python 2.7, Python 3.X)"
   ]
  },
  {
   "cell_type": "markdown",
   "metadata": {},
   "source": [
    "Такой синтаксис имеет смысл с учётом того, что множества по существу подобны _словарям без значений_ - поскольку элементы множества неупорядочены, уникальны, неизменяемы, они ведут себя очень похоже на ключи словаря."
   ]
  },
  {
   "cell_type": "code",
   "execution_count": 397,
   "metadata": {},
   "outputs": [
    {
     "data": {
      "text/plain": [
       "{1, 2, 3, 4}"
      ]
     },
     "execution_count": 397,
     "metadata": {},
     "output_type": "execute_result"
    }
   ],
   "source": [
    "set([1, 2, 3, 4]) # Встроенная функция: та же, что и в Python 2.4, 2.6"
   ]
  },
  {
   "cell_type": "code",
   "execution_count": 398,
   "metadata": {},
   "outputs": [
    {
     "data": {
      "text/plain": [
       "{'a', 'm', 'p', 's'}"
      ]
     },
     "execution_count": 398,
     "metadata": {},
     "output_type": "execute_result"
    }
   ],
   "source": [
    "set('spam') # Добавить элементы из итерируемого объекта"
   ]
  },
  {
   "cell_type": "code",
   "execution_count": null,
   "metadata": {},
   "outputs": [],
   "source": [
    "{1, 2, 3, 4} # Литералы множеств: новые в Python 3.X (и Python 2.7)"
   ]
  },
  {
   "cell_type": "code",
   "execution_count": 396,
   "metadata": {},
   "outputs": [
    {
     "data": {
      "text/plain": [
       "{'a', 'm', 'p', 's'}"
      ]
     },
     "execution_count": 396,
     "metadata": {},
     "output_type": "execute_result"
    }
   ],
   "source": [
    "S = {'s', 'p', 'a', 'm'}\n",
    "S"
   ]
  },
  {
   "cell_type": "code",
   "execution_count": 400,
   "metadata": {},
   "outputs": [
    {
     "data": {
      "text/plain": [
       "{'a', 'alot', 'm', 'p', 's'}"
      ]
     },
     "execution_count": 400,
     "metadata": {},
     "output_type": "execute_result"
    }
   ],
   "source": [
    "S.add('alot') # Методы работаю, как и ранее\n",
    "S"
   ]
  },
  {
   "cell_type": "code",
   "execution_count": 401,
   "metadata": {},
   "outputs": [],
   "source": [
    "S1 = {1, 2, 3, 4}"
   ]
  },
  {
   "cell_type": "code",
   "execution_count": 402,
   "metadata": {},
   "outputs": [
    {
     "data": {
      "text/plain": [
       "{1, 3}"
      ]
     },
     "execution_count": 402,
     "metadata": {},
     "output_type": "execute_result"
    }
   ],
   "source": [
    "S1 & {1, 3} # Пересечение"
   ]
  },
  {
   "cell_type": "code",
   "execution_count": 403,
   "metadata": {},
   "outputs": [
    {
     "data": {
      "text/plain": [
       "{1, 2, 3, 4, 5, 6}"
      ]
     },
     "execution_count": 403,
     "metadata": {},
     "output_type": "execute_result"
    }
   ],
   "source": [
    "{1, 5, 3, 6} | S1 # Объединение"
   ]
  },
  {
   "cell_type": "code",
   "execution_count": 404,
   "metadata": {},
   "outputs": [
    {
     "data": {
      "text/plain": [
       "{2}"
      ]
     },
     "execution_count": 404,
     "metadata": {},
     "output_type": "execute_result"
    }
   ],
   "source": [
    "S1 - {1, 3, 4} # Разность "
   ]
  },
  {
   "cell_type": "code",
   "execution_count": 405,
   "metadata": {},
   "outputs": [
    {
     "data": {
      "text/plain": [
       "True"
      ]
     },
     "execution_count": 405,
     "metadata": {},
     "output_type": "execute_result"
    }
   ],
   "source": [
    "S1 > {1, 3} # Надмножество"
   ]
  },
  {
   "cell_type": "markdown",
   "metadata": {},
   "source": [
    "Пустые множества:"
   ]
  },
  {
   "cell_type": "code",
   "execution_count": 406,
   "metadata": {},
   "outputs": [
    {
     "data": {
      "text/plain": [
       "set()"
      ]
     },
     "execution_count": 406,
     "metadata": {},
     "output_type": "execute_result"
    }
   ],
   "source": [
    "S1 - {1, 2, 3, 4} # Пустые множества выводятся по-другому"
   ]
  },
  {
   "cell_type": "code",
   "execution_count": 407,
   "metadata": {},
   "outputs": [
    {
     "data": {
      "text/plain": [
       "dict"
      ]
     },
     "execution_count": 407,
     "metadata": {},
     "output_type": "execute_result"
    }
   ],
   "source": [
    "type({}) # Поскольку {} - по-прежнему пустой словарь"
   ]
  },
  {
   "cell_type": "code",
   "execution_count": 408,
   "metadata": {},
   "outputs": [],
   "source": [
    "S = set() # Инициализация пустого множества"
   ]
  },
  {
   "cell_type": "code",
   "execution_count": 409,
   "metadata": {},
   "outputs": [
    {
     "data": {
      "text/plain": [
       "{1.23}"
      ]
     },
     "execution_count": 409,
     "metadata": {},
     "output_type": "execute_result"
    }
   ],
   "source": [
    "S.add(1.23)\n",
    "S"
   ]
  },
  {
   "cell_type": "markdown",
   "metadata": {},
   "source": [
    "Выражения и методы с литералами:"
   ]
  },
  {
   "cell_type": "code",
   "execution_count": 410,
   "metadata": {},
   "outputs": [
    {
     "data": {
      "text/plain": [
       "{1, 2, 3, 4}"
      ]
     },
     "execution_count": 410,
     "metadata": {},
     "output_type": "execute_result"
    }
   ],
   "source": [
    "{1, 2, 3} | {3, 4}"
   ]
  },
  {
   "cell_type": "code",
   "execution_count": 411,
   "metadata": {},
   "outputs": [
    {
     "ename": "TypeError",
     "evalue": "unsupported operand type(s) for |: 'set' and 'list'",
     "output_type": "error",
     "traceback": [
      "\u001b[1;31m---------------------------------------------------------------------------\u001b[0m",
      "\u001b[1;31mTypeError\u001b[0m                                 Traceback (most recent call last)",
      "\u001b[1;32m<ipython-input-411-1574b30ce47d>\u001b[0m in \u001b[0;36m<module>\u001b[1;34m\u001b[0m\n\u001b[1;32m----> 1\u001b[1;33m \u001b[1;33m{\u001b[0m\u001b[1;36m1\u001b[0m\u001b[1;33m,\u001b[0m \u001b[1;36m2\u001b[0m\u001b[1;33m,\u001b[0m \u001b[1;36m3\u001b[0m\u001b[1;33m}\u001b[0m \u001b[1;33m|\u001b[0m \u001b[1;33m[\u001b[0m\u001b[1;36m3\u001b[0m\u001b[1;33m,\u001b[0m \u001b[1;36m4\u001b[0m\u001b[1;33m]\u001b[0m\u001b[1;33m\u001b[0m\u001b[1;33m\u001b[0m\u001b[0m\n\u001b[0m",
      "\u001b[1;31mTypeError\u001b[0m: unsupported operand type(s) for |: 'set' and 'list'"
     ]
    }
   ],
   "source": [
    "{1, 2, 3} | [3, 4] # TypeError: unsupported operand type(s) for |: 'set' and 'list'"
   ]
  },
  {
   "cell_type": "code",
   "execution_count": 412,
   "metadata": {},
   "outputs": [
    {
     "data": {
      "text/plain": [
       "{1, 2, 3, 4}"
      ]
     },
     "execution_count": 412,
     "metadata": {},
     "output_type": "execute_result"
    }
   ],
   "source": [
    "{1, 2, 3}.union([3, 4])"
   ]
  },
  {
   "cell_type": "code",
   "execution_count": 414,
   "metadata": {},
   "outputs": [
    {
     "data": {
      "text/plain": [
       "{1, 2, 3, 4}"
      ]
     },
     "execution_count": 414,
     "metadata": {},
     "output_type": "execute_result"
    }
   ],
   "source": [
    "{1, 2, 3}.union({3, 4})"
   ]
  },
  {
   "cell_type": "code",
   "execution_count": 413,
   "metadata": {},
   "outputs": [
    {
     "data": {
      "text/plain": [
       "{1, 2, 3, 4}"
      ]
     },
     "execution_count": 413,
     "metadata": {},
     "output_type": "execute_result"
    }
   ],
   "source": [
    "{1, 2, 3}.union(set([3, 4]))"
   ]
  },
  {
   "cell_type": "code",
   "execution_count": 415,
   "metadata": {},
   "outputs": [
    {
     "data": {
      "text/plain": [
       "{1, 3}"
      ]
     },
     "execution_count": 415,
     "metadata": {},
     "output_type": "execute_result"
    }
   ],
   "source": [
    "{1, 2, 3}.intersection((1, 3, 5))"
   ]
  },
  {
   "cell_type": "code",
   "execution_count": 416,
   "metadata": {},
   "outputs": [
    {
     "data": {
      "text/plain": [
       "True"
      ]
     },
     "execution_count": 416,
     "metadata": {},
     "output_type": "execute_result"
    }
   ],
   "source": [
    "{1, 2, 3}.issubset(range(-5, 5))"
   ]
  },
  {
   "cell_type": "code",
   "execution_count": 417,
   "metadata": {},
   "outputs": [
    {
     "data": {
      "text/plain": [
       "True"
      ]
     },
     "execution_count": 417,
     "metadata": {},
     "output_type": "execute_result"
    }
   ],
   "source": [
    "{1, 2, 3}.issuperset(range(1, 3))"
   ]
  },
  {
   "cell_type": "markdown",
   "metadata": {},
   "source": [
    "__Ограничения неизменяемости и фиксированные множества__"
   ]
  },
  {
   "cell_type": "markdown",
   "metadata": {},
   "source": [
    "Множества способны содержать только объекты __неизменяемых (хешируемых)__ типов. Следовательно, списки и словари (и сами множества) не могут встраиваться во множества, но кортежи могут, если необходимо хранить составные значения. В случае применени в операциях над множествами кортежи сравниваются по их __полным значениям__ :"
   ]
  },
  {
   "cell_type": "code",
   "execution_count": 418,
   "metadata": {},
   "outputs": [
    {
     "data": {
      "text/plain": [
       "{1.23}"
      ]
     },
     "execution_count": 418,
     "metadata": {},
     "output_type": "execute_result"
    }
   ],
   "source": [
    "S"
   ]
  },
  {
   "cell_type": "code",
   "execution_count": 420,
   "metadata": {},
   "outputs": [
    {
     "ename": "TypeError",
     "evalue": "unhashable type: 'list'",
     "output_type": "error",
     "traceback": [
      "\u001b[1;31m---------------------------------------------------------------------------\u001b[0m",
      "\u001b[1;31mTypeError\u001b[0m                                 Traceback (most recent call last)",
      "\u001b[1;32m<ipython-input-420-04ce91bb57ee>\u001b[0m in \u001b[0;36m<module>\u001b[1;34m\u001b[0m\n\u001b[1;32m----> 1\u001b[1;33m \u001b[0mS\u001b[0m\u001b[1;33m.\u001b[0m\u001b[0madd\u001b[0m\u001b[1;33m(\u001b[0m\u001b[1;33m[\u001b[0m\u001b[1;36m1\u001b[0m\u001b[1;33m,\u001b[0m \u001b[1;36m2\u001b[0m\u001b[1;33m,\u001b[0m \u001b[1;36m3\u001b[0m\u001b[1;33m]\u001b[0m\u001b[1;33m)\u001b[0m \u001b[1;31m# Во множестве работают только неизменяемые объекты\u001b[0m\u001b[1;33m\u001b[0m\u001b[1;33m\u001b[0m\u001b[0m\n\u001b[0m",
      "\u001b[1;31mTypeError\u001b[0m: unhashable type: 'list'"
     ]
    }
   ],
   "source": [
    "S.add([1, 2, 3]) # Во множестве работают только неизменяемые объекты\n",
    "                 # TypeError: unhashable type: 'list'"
   ]
  },
  {
   "cell_type": "code",
   "execution_count": 421,
   "metadata": {},
   "outputs": [
    {
     "ename": "TypeError",
     "evalue": "unhashable type: 'dict'",
     "output_type": "error",
     "traceback": [
      "\u001b[1;31m---------------------------------------------------------------------------\u001b[0m",
      "\u001b[1;31mTypeError\u001b[0m                                 Traceback (most recent call last)",
      "\u001b[1;32m<ipython-input-421-9d3e1da8617a>\u001b[0m in \u001b[0;36m<module>\u001b[1;34m\u001b[0m\n\u001b[1;32m----> 1\u001b[1;33m \u001b[0mS\u001b[0m\u001b[1;33m.\u001b[0m\u001b[0madd\u001b[0m\u001b[1;33m(\u001b[0m\u001b[1;33m{\u001b[0m\u001b[0ma\u001b[0m\u001b[1;33m:\u001b[0m\u001b[1;36m1\u001b[0m\u001b[1;33m}\u001b[0m\u001b[1;33m)\u001b[0m\u001b[1;33m\u001b[0m\u001b[1;33m\u001b[0m\u001b[0m\n\u001b[0m",
      "\u001b[1;31mTypeError\u001b[0m: unhashable type: 'dict'"
     ]
    }
   ],
   "source": [
    "S.add({a:1}) # TypeError: unhashable type: 'dict'"
   ]
  },
  {
   "cell_type": "code",
   "execution_count": 423,
   "metadata": {},
   "outputs": [
    {
     "data": {
      "text/plain": [
       "{(1, 2, 3), 1.23}"
      ]
     },
     "execution_count": 423,
     "metadata": {},
     "output_type": "execute_result"
    }
   ],
   "source": [
    "S.add((1, 2, 3)) # Списки и словари не допускаются, но кортежи разрешаются\n",
    "S"
   ]
  },
  {
   "cell_type": "code",
   "execution_count": 426,
   "metadata": {},
   "outputs": [
    {
     "ename": "TypeError",
     "evalue": "add() takes exactly one argument (3 given)",
     "output_type": "error",
     "traceback": [
      "\u001b[1;31m---------------------------------------------------------------------------\u001b[0m",
      "\u001b[1;31mTypeError\u001b[0m                                 Traceback (most recent call last)",
      "\u001b[1;32m<ipython-input-426-903bf7337066>\u001b[0m in \u001b[0;36m<module>\u001b[1;34m\u001b[0m\n\u001b[1;32m----> 1\u001b[1;33m \u001b[0mS\u001b[0m\u001b[1;33m.\u001b[0m\u001b[0madd\u001b[0m\u001b[1;33m(\u001b[0m\u001b[1;36m1\u001b[0m\u001b[1;33m,\u001b[0m \u001b[1;36m2\u001b[0m\u001b[1;33m,\u001b[0m \u001b[1;36m3\u001b[0m\u001b[1;33m)\u001b[0m \u001b[1;31m# при этом кортеж должен быть в скобках\u001b[0m\u001b[1;33m\u001b[0m\u001b[1;33m\u001b[0m\u001b[0m\n\u001b[0m\u001b[0;32m      2\u001b[0m \u001b[0mS\u001b[0m\u001b[1;33m\u001b[0m\u001b[1;33m\u001b[0m\u001b[0m\n",
      "\u001b[1;31mTypeError\u001b[0m: add() takes exactly one argument (3 given)"
     ]
    }
   ],
   "source": [
    "S.add(1, 2, 3) # при этом кортеж должен быть в скобках\n",
    "S"
   ]
  },
  {
   "cell_type": "code",
   "execution_count": 427,
   "metadata": {},
   "outputs": [
    {
     "data": {
      "text/plain": [
       "{(1, 2, 3), (4, 5, 6), 1.23}"
      ]
     },
     "execution_count": 427,
     "metadata": {},
     "output_type": "execute_result"
    }
   ],
   "source": [
    "S | {(4, 5, 6), (1, 2, 3)} # Объединение: то же, что и S.union(...)"
   ]
  },
  {
   "cell_type": "code",
   "execution_count": 429,
   "metadata": {},
   "outputs": [
    {
     "data": {
      "text/plain": [
       "True"
      ]
     },
     "execution_count": 429,
     "metadata": {},
     "output_type": "execute_result"
    }
   ],
   "source": [
    "(1, 2, 3) in S # Членство: по полным значениям"
   ]
  },
  {
   "cell_type": "code",
   "execution_count": 430,
   "metadata": {},
   "outputs": [
    {
     "data": {
      "text/plain": [
       "False"
      ]
     },
     "execution_count": 430,
     "metadata": {},
     "output_type": "execute_result"
    }
   ],
   "source": [
    "(1, 3, 2) in S # при этом порядок в кортеже остается важным\n",
    "               # кортеж ведь - упорядоченная коллекция"
   ]
  },
  {
   "cell_type": "code",
   "execution_count": 431,
   "metadata": {},
   "outputs": [
    {
     "data": {
      "text/plain": [
       "True"
      ]
     },
     "execution_count": 431,
     "metadata": {},
     "output_type": "execute_result"
    }
   ],
   "source": [
    "(1, 2, 3) == (1, 2, 3)"
   ]
  },
  {
   "cell_type": "code",
   "execution_count": 432,
   "metadata": {},
   "outputs": [
    {
     "data": {
      "text/plain": [
       "False"
      ]
     },
     "execution_count": 432,
     "metadata": {},
     "output_type": "execute_result"
    }
   ],
   "source": [
    "(1, 2, 3) == (1, 3, 2)"
   ]
  },
  {
   "cell_type": "code",
   "execution_count": 433,
   "metadata": {},
   "outputs": [
    {
     "data": {
      "text/plain": [
       "False"
      ]
     },
     "execution_count": 433,
     "metadata": {},
     "output_type": "execute_result"
    }
   ],
   "source": [
    "(1, 4, 3) in S"
   ]
  },
  {
   "cell_type": "markdown",
   "metadata": {},
   "source": [
    "Множества могут также __содержать модули__ (??? в смысле названия модулей или как?), __объекты типов__ (??? а это что значит?) и многое другое.\n",
    "\n",
    "Сами множества _изменяемы_ и соответственно не могут вкладываться в другие множества.  \n",
    "Если нужно __хранить множество внутри другого множества__ , то встроенная функция frozenset работает также как set, но создаёт __неизменяемое множество__ :"
   ]
  },
  {
   "cell_type": "code",
   "execution_count": 434,
   "metadata": {},
   "outputs": [
    {
     "data": {
      "text/plain": [
       "frozenset({1, 2, 3})"
      ]
     },
     "execution_count": 434,
     "metadata": {},
     "output_type": "execute_result"
    }
   ],
   "source": [
    "frset = frozenset([1, 2, 3])\n",
    "frset"
   ]
  },
  {
   "cell_type": "code",
   "execution_count": 435,
   "metadata": {},
   "outputs": [
    {
     "data": {
      "text/plain": [
       "{(1, 2, 3), 1.23, frozenset({1, 2, 3})}"
      ]
     },
     "execution_count": 435,
     "metadata": {},
     "output_type": "execute_result"
    }
   ],
   "source": [
    "S.add(frset)\n",
    "S"
   ]
  },
  {
   "cell_type": "code",
   "execution_count": 436,
   "metadata": {},
   "outputs": [
    {
     "ename": "AttributeError",
     "evalue": "'frozenset' object has no attribute 'add'",
     "output_type": "error",
     "traceback": [
      "\u001b[1;31m---------------------------------------------------------------------------\u001b[0m",
      "\u001b[1;31mAttributeError\u001b[0m                            Traceback (most recent call last)",
      "\u001b[1;32m<ipython-input-436-7ba817f9ded1>\u001b[0m in \u001b[0;36m<module>\u001b[1;34m\u001b[0m\n\u001b[1;32m----> 1\u001b[1;33m \u001b[0mfrset\u001b[0m\u001b[1;33m.\u001b[0m\u001b[0madd\u001b[0m\u001b[1;33m(\u001b[0m\u001b[1;36m4\u001b[0m\u001b[1;33m)\u001b[0m\u001b[1;33m\u001b[0m\u001b[1;33m\u001b[0m\u001b[0m\n\u001b[0m",
      "\u001b[1;31mAttributeError\u001b[0m: 'frozenset' object has no attribute 'add'"
     ]
    }
   ],
   "source": [
    "frset.add(4) # AttributeError: 'frozenset' object has no attribute 'add'"
   ]
  },
  {
   "cell_type": "code",
   "execution_count": 437,
   "metadata": {},
   "outputs": [
    {
     "data": {
      "text/plain": [
       "['__and__',\n",
       " '__class__',\n",
       " '__contains__',\n",
       " '__delattr__',\n",
       " '__dir__',\n",
       " '__doc__',\n",
       " '__eq__',\n",
       " '__format__',\n",
       " '__ge__',\n",
       " '__getattribute__',\n",
       " '__gt__',\n",
       " '__hash__',\n",
       " '__init__',\n",
       " '__init_subclass__',\n",
       " '__iter__',\n",
       " '__le__',\n",
       " '__len__',\n",
       " '__lt__',\n",
       " '__ne__',\n",
       " '__new__',\n",
       " '__or__',\n",
       " '__rand__',\n",
       " '__reduce__',\n",
       " '__reduce_ex__',\n",
       " '__repr__',\n",
       " '__ror__',\n",
       " '__rsub__',\n",
       " '__rxor__',\n",
       " '__setattr__',\n",
       " '__sizeof__',\n",
       " '__str__',\n",
       " '__sub__',\n",
       " '__subclasshook__',\n",
       " '__xor__',\n",
       " 'copy',\n",
       " 'difference',\n",
       " 'intersection',\n",
       " 'isdisjoint',\n",
       " 'issubset',\n",
       " 'issuperset',\n",
       " 'symmetric_difference',\n",
       " 'union']"
      ]
     },
     "execution_count": 437,
     "metadata": {},
     "output_type": "execute_result"
    }
   ],
   "source": [
    "dir(frozenset)"
   ]
  },
  {
   "cell_type": "code",
   "execution_count": 438,
   "metadata": {},
   "outputs": [
    {
     "data": {
      "text/plain": [
       "frozenset"
      ]
     },
     "execution_count": 438,
     "metadata": {},
     "output_type": "execute_result"
    }
   ],
   "source": [
    "type(frset)"
   ]
  },
  {
   "cell_type": "code",
   "execution_count": 439,
   "metadata": {},
   "outputs": [
    {
     "data": {
      "text/plain": [
       "type"
      ]
     },
     "execution_count": 439,
     "metadata": {},
     "output_type": "execute_result"
    }
   ],
   "source": [
    "type(type(frset))"
   ]
  },
  {
   "cell_type": "markdown",
   "metadata": {},
   "source": [
    "__Включения множеств (set comprehensions) в Python 3.X и 2.7__"
   ]
  },
  {
   "cell_type": "code",
   "execution_count": 440,
   "metadata": {},
   "outputs": [
    {
     "data": {
      "text/plain": [
       "{1, 4, 9, 16}"
      ]
     },
     "execution_count": 440,
     "metadata": {},
     "output_type": "execute_result"
    }
   ],
   "source": [
    "{x ** 2 for x in [1, 2, 3, 4]} # Set comprehensions в Python 3.X/2.7"
   ]
  },
  {
   "cell_type": "code",
   "execution_count": 441,
   "metadata": {},
   "outputs": [
    {
     "data": {
      "text/plain": [
       "{'a', 'm', 'p', 's'}"
      ]
     },
     "execution_count": 441,
     "metadata": {},
     "output_type": "execute_result"
    }
   ],
   "source": [
    "{x for x in 'spam'} # То же, чт и set('spam')"
   ]
  },
  {
   "cell_type": "code",
   "execution_count": 442,
   "metadata": {},
   "outputs": [
    {
     "data": {
      "text/plain": [
       "{'aaaa', 'mmmm', 'pppp', 'ssss'}"
      ]
     },
     "execution_count": 442,
     "metadata": {},
     "output_type": "execute_result"
    }
   ],
   "source": [
    "{c * 4 for c in 'spam'} # Множество накопленных результатов выражения"
   ]
  },
  {
   "cell_type": "code",
   "execution_count": 443,
   "metadata": {},
   "outputs": [
    {
     "data": {
      "text/plain": [
       "{'aaaa', 'hhhh', 'mmmm', 'pppp', 'ssss'}"
      ]
     },
     "execution_count": 443,
     "metadata": {},
     "output_type": "execute_result"
    }
   ],
   "source": [
    "{c * 4 for c in 'spamham'}"
   ]
  },
  {
   "cell_type": "code",
   "execution_count": 444,
   "metadata": {},
   "outputs": [],
   "source": [
    "S = {c * 4 for c in 'spam'}"
   ]
  },
  {
   "cell_type": "code",
   "execution_count": 445,
   "metadata": {},
   "outputs": [
    {
     "data": {
      "text/plain": [
       "{'aaaa', 'mmmm', 'pppp', 'ssss', 'xxxx'}"
      ]
     },
     "execution_count": 445,
     "metadata": {},
     "output_type": "execute_result"
    }
   ],
   "source": [
    "S | {'mmmm', 'xxxx'}"
   ]
  },
  {
   "cell_type": "code",
   "execution_count": 446,
   "metadata": {},
   "outputs": [
    {
     "data": {
      "text/plain": [
       "{'mmmm'}"
      ]
     },
     "execution_count": 446,
     "metadata": {},
     "output_type": "execute_result"
    }
   ],
   "source": [
    "S & {'mmmm', 'xxxx'}"
   ]
  },
  {
   "cell_type": "markdown",
   "metadata": {},
   "source": [
    "__Для чего используются множества?__"
   ]
  },
  {
   "cell_type": "markdown",
   "metadata": {},
   "source": [
    "Фильтрация дубликатов из коллекций (но тот же порядок не гарантируется):"
   ]
  },
  {
   "cell_type": "code",
   "execution_count": 447,
   "metadata": {},
   "outputs": [
    {
     "data": {
      "text/plain": [
       "{1, 2, 3, 4, 5}"
      ]
     },
     "execution_count": 447,
     "metadata": {},
     "output_type": "execute_result"
    }
   ],
   "source": [
    "L = [1, 2, 1, 3, 2, 4, 5]\n",
    "set(L)"
   ]
  },
  {
   "cell_type": "code",
   "execution_count": 448,
   "metadata": {},
   "outputs": [
    {
     "data": {
      "text/plain": [
       "[1, 2, 3, 4, 5]"
      ]
     },
     "execution_count": 448,
     "metadata": {},
     "output_type": "execute_result"
    }
   ],
   "source": [
    "L = list(set(L)) # Удаление дубликатов\n",
    "L"
   ]
  },
  {
   "cell_type": "code",
   "execution_count": 449,
   "metadata": {},
   "outputs": [
    {
     "data": {
      "text/plain": [
       "['aa', 'xx', 'dd', 'yy', 'cc']"
      ]
     },
     "execution_count": 449,
     "metadata": {},
     "output_type": "execute_result"
    }
   ],
   "source": [
    "list(set(['yy', 'cc', 'aa', 'xx', 'dd', 'aa'])) # Но порядок м. измениться"
   ]
  },
  {
   "cell_type": "markdown",
   "metadata": {},
   "source": [
    "Выделение различий между коллекциями (но тот же порядок следования не гарантируется:"
   ]
  },
  {
   "cell_type": "code",
   "execution_count": 450,
   "metadata": {},
   "outputs": [
    {
     "data": {
      "text/plain": [
       "{3, 7}"
      ]
     },
     "execution_count": 450,
     "metadata": {},
     "output_type": "execute_result"
    }
   ],
   "source": [
    "set([1, 3, 5, 7]) - set([1, 2, 4, 5, 6]) # Найти различия в списках"
   ]
  },
  {
   "cell_type": "code",
   "execution_count": 451,
   "metadata": {},
   "outputs": [
    {
     "data": {
      "text/plain": [
       "{'c', 'e', 'f'}"
      ]
     },
     "execution_count": 451,
     "metadata": {},
     "output_type": "execute_result"
    }
   ],
   "source": [
    "set('abcdefg') - set('abdgij') # Найти различия в строках"
   ]
  },
  {
   "cell_type": "code",
   "execution_count": 452,
   "metadata": {},
   "outputs": [
    {
     "data": {
      "text/plain": [
       "{'p', 's'}"
      ]
     },
     "execution_count": 452,
     "metadata": {},
     "output_type": "execute_result"
    }
   ],
   "source": [
    "set('spam') - set(['h', 'a', 'm']) # Найти различия, разнородные типы"
   ]
  },
  {
   "cell_type": "code",
   "execution_count": 453,
   "metadata": {},
   "outputs": [
    {
     "data": {
      "text/plain": [
       "{'__getnewargs__'}"
      ]
     },
     "execution_count": 453,
     "metadata": {},
     "output_type": "execute_result"
    }
   ],
   "source": [
    "set(dir(bytes)) - set(dir(bytearray)) # В bytes, но не в bytearray"
   ]
  },
  {
   "cell_type": "code",
   "execution_count": 454,
   "metadata": {},
   "outputs": [
    {
     "data": {
      "text/plain": [
       "{'__alloc__',\n",
       " '__delitem__',\n",
       " '__iadd__',\n",
       " '__imul__',\n",
       " '__setitem__',\n",
       " 'append',\n",
       " 'clear',\n",
       " 'copy',\n",
       " 'extend',\n",
       " 'insert',\n",
       " 'pop',\n",
       " 'remove',\n",
       " 'reverse'}"
      ]
     },
     "execution_count": 454,
     "metadata": {},
     "output_type": "execute_result"
    }
   ],
   "source": [
    "set(dir(bytearray)) - set(dir(bytes)) # В bytearray, но не в bytes"
   ]
  },
  {
   "cell_type": "markdown",
   "metadata": {},
   "source": [
    "Проверка на равенство, нейтральное к порядку:"
   ]
  },
  {
   "cell_type": "code",
   "execution_count": 455,
   "metadata": {},
   "outputs": [],
   "source": [
    "L1, L2 = [1, 3, 5, 2, 4], [2, 5, 3, 4, 1]"
   ]
  },
  {
   "cell_type": "code",
   "execution_count": 456,
   "metadata": {},
   "outputs": [
    {
     "data": {
      "text/plain": [
       "False"
      ]
     },
     "execution_count": 456,
     "metadata": {},
     "output_type": "execute_result"
    }
   ],
   "source": [
    "L1 == L2 # В последовательностях порядок имеет значение"
   ]
  },
  {
   "cell_type": "code",
   "execution_count": 457,
   "metadata": {},
   "outputs": [
    {
     "data": {
      "text/plain": [
       "True"
      ]
     },
     "execution_count": 457,
     "metadata": {},
     "output_type": "execute_result"
    }
   ],
   "source": [
    "set(L1) == set(L2) # Проверка на равенство, нейтральное к порядку"
   ]
  },
  {
   "cell_type": "code",
   "execution_count": 458,
   "metadata": {},
   "outputs": [
    {
     "data": {
      "text/plain": [
       "True"
      ]
     },
     "execution_count": 458,
     "metadata": {},
     "output_type": "execute_result"
    }
   ],
   "source": [
    "sorted(L1) == sorted(L1) # Похожая проверка, но результаты упорядочены"
   ]
  },
  {
   "cell_type": "code",
   "execution_count": 461,
   "metadata": {},
   "outputs": [
    {
     "data": {
      "text/plain": [
       "True"
      ]
     },
     "execution_count": 461,
     "metadata": {},
     "output_type": "execute_result"
    }
   ],
   "source": [
    "sorted(L1) > sorted([2, 3, 1]) # Упорядоченные результаты также\n",
    "                               # поддерживают операции: <, >, <=, >="
   ]
  },
  {
   "cell_type": "code",
   "execution_count": 463,
   "metadata": {},
   "outputs": [
    {
     "data": {
      "text/plain": [
       "(False, True, True)"
      ]
     },
     "execution_count": 463,
     "metadata": {},
     "output_type": "execute_result"
    }
   ],
   "source": [
    "'spam' == 'asmp', set('spam') == set('asmp'), sorted('spam') == sorted('asmp')"
   ]
  },
  {
   "cell_type": "markdown",
   "metadata": {},
   "source": [
    "Множество также можно использовать для отслеживания того, где вы уже были при __обходе графа или другой циклической структуры__ .\n",
    "\n",
    "Также множества удобны и в ситуации, когда приходится иметь дело с крупными наборами данных (например, результатами запросов к БД): пересечение двух множеств содержит объекты, общие в обоих множествах, а объединение - все элементы в том и другом множестве. Иллюстрирующий пример:"
   ]
  },
  {
   "cell_type": "code",
   "execution_count": 465,
   "metadata": {},
   "outputs": [],
   "source": [
    "engineers = {'bob', 'sue', 'ann', 'vic'}\n",
    "managers = {'tom', 'sue'}"
   ]
  },
  {
   "cell_type": "code",
   "execution_count": 467,
   "metadata": {},
   "outputs": [
    {
     "data": {
      "text/plain": [
       "True"
      ]
     },
     "execution_count": 467,
     "metadata": {},
     "output_type": "execute_result"
    }
   ],
   "source": [
    "'bob' in engineers # Является ли сотруник bob инженером?"
   ]
  },
  {
   "cell_type": "code",
   "execution_count": 468,
   "metadata": {},
   "outputs": [
    {
     "data": {
      "text/plain": [
       "{'sue'}"
      ]
     },
     "execution_count": 468,
     "metadata": {},
     "output_type": "execute_result"
    }
   ],
   "source": [
    "engineers & managers # Кто одновременно инженер и менеджер?"
   ]
  },
  {
   "cell_type": "code",
   "execution_count": 469,
   "metadata": {},
   "outputs": [
    {
     "data": {
      "text/plain": [
       "{'ann', 'bob', 'sue', 'tom', 'vic'}"
      ]
     },
     "execution_count": 469,
     "metadata": {},
     "output_type": "execute_result"
    }
   ],
   "source": [
    "engineers | managers # Все сотрудники в обеих категориях"
   ]
  },
  {
   "cell_type": "code",
   "execution_count": 470,
   "metadata": {},
   "outputs": [
    {
     "data": {
      "text/plain": [
       "{'ann', 'bob', 'vic'}"
      ]
     },
     "execution_count": 470,
     "metadata": {},
     "output_type": "execute_result"
    }
   ],
   "source": [
    "engineers - managers # Инженеры, не являющиеся менеджерами"
   ]
  },
  {
   "cell_type": "code",
   "execution_count": 471,
   "metadata": {},
   "outputs": [
    {
     "data": {
      "text/plain": [
       "{'tom'}"
      ]
     },
     "execution_count": 471,
     "metadata": {},
     "output_type": "execute_result"
    }
   ],
   "source": [
    "managers - engineers # Менеджеры, не являющиеся инженерами"
   ]
  },
  {
   "cell_type": "code",
   "execution_count": 472,
   "metadata": {},
   "outputs": [
    {
     "data": {
      "text/plain": [
       "False"
      ]
     },
     "execution_count": 472,
     "metadata": {},
     "output_type": "execute_result"
    }
   ],
   "source": [
    "engineers > managers # Все ли менеджеры - инженеры? (надмножество)"
   ]
  },
  {
   "cell_type": "code",
   "execution_count": 473,
   "metadata": {},
   "outputs": [
    {
     "data": {
      "text/plain": [
       "True"
      ]
     },
     "execution_count": 473,
     "metadata": {},
     "output_type": "execute_result"
    }
   ],
   "source": [
    "{'bob', 'sue'} < engineers # Оба ли сотрудника - инженеры? (подмножество)"
   ]
  },
  {
   "cell_type": "code",
   "execution_count": 476,
   "metadata": {},
   "outputs": [
    {
     "data": {
      "text/plain": [
       "True"
      ]
     },
     "execution_count": 476,
     "metadata": {},
     "output_type": "execute_result"
    }
   ],
   "source": [
    "(managers | engineers) > managers # Все сотрудники - надмножество менеджеров?"
   ]
  },
  {
   "cell_type": "code",
   "execution_count": 474,
   "metadata": {},
   "outputs": [
    {
     "data": {
      "text/plain": [
       "{'ann', 'bob', 'tom', 'vic'}"
      ]
     },
     "execution_count": 474,
     "metadata": {},
     "output_type": "execute_result"
    }
   ],
   "source": [
    "managers ^ engineers # Кто находится в одной категории, но не в обеих?"
   ]
  },
  {
   "cell_type": "code",
   "execution_count": 475,
   "metadata": {},
   "outputs": [
    {
     "data": {
      "text/plain": [
       "{'sue'}"
      ]
     },
     "execution_count": 475,
     "metadata": {},
     "output_type": "execute_result"
    }
   ],
   "source": [
    "(managers | engineers) - (managers ^ engineers) # Пересечение!"
   ]
  },
  {
   "cell_type": "markdown",
   "metadata": {},
   "source": [
    "### Булевские значения"
   ]
  },
  {
   "cell_type": "markdown",
   "metadata": {},
   "source": [
    "Булевский тип в Python, bool, является по своей природе числовым, поскольку два его значения, True и False, являются настроенными версиями целых чисел 1 и 0, которые всего лишь выводят себя по-другому.\n",
    "\n",
    "Более формально, Python имеет явный булевский тип данных по имени bool, со значениями True и False, доступными как предварительно определенные имена (available as preassigned built-in names), т.е. внутренне имена True и False являются __экземплярами типа bool__ , который в свою очередь представляет собой __подкласс__ встроенного целого типа (класса) __int__ . Имена True и False ведут себя в точности как целые числа 1 и 0 за исключением того, что они имеют специльную логику вывода - они отображают себя в виде слов True и False, а не цифр 1 и 0. В типе bool это достигается за счет переопределения форматов строк str и repr для двух указанных объектов."
   ]
  },
  {
   "cell_type": "code",
   "execution_count": 477,
   "metadata": {},
   "outputs": [
    {
     "data": {
      "text/plain": [
       "bool"
      ]
     },
     "execution_count": 477,
     "metadata": {},
     "output_type": "execute_result"
    }
   ],
   "source": [
    "type(True)"
   ]
  },
  {
   "cell_type": "code",
   "execution_count": 478,
   "metadata": {},
   "outputs": [
    {
     "data": {
      "text/plain": [
       "type"
      ]
     },
     "execution_count": 478,
     "metadata": {},
     "output_type": "execute_result"
    }
   ],
   "source": [
    "type(bool)"
   ]
  },
  {
   "cell_type": "code",
   "execution_count": 479,
   "metadata": {},
   "outputs": [
    {
     "data": {
      "text/plain": [
       "True"
      ]
     },
     "execution_count": 479,
     "metadata": {},
     "output_type": "execute_result"
    }
   ],
   "source": [
    "isinstance(True, int) # True - экземпляр класса int"
   ]
  },
  {
   "cell_type": "code",
   "execution_count": 480,
   "metadata": {},
   "outputs": [
    {
     "data": {
      "text/plain": [
       "True"
      ]
     },
     "execution_count": 480,
     "metadata": {},
     "output_type": "execute_result"
    }
   ],
   "source": [
    "isinstance(True, bool) # True - экземпляр класса bool"
   ]
  },
  {
   "cell_type": "code",
   "execution_count": 482,
   "metadata": {},
   "outputs": [
    {
     "ename": "TypeError",
     "evalue": "issubclass() arg 1 must be a class",
     "output_type": "error",
     "traceback": [
      "\u001b[1;31m---------------------------------------------------------------------------\u001b[0m",
      "\u001b[1;31mTypeError\u001b[0m                                 Traceback (most recent call last)",
      "\u001b[1;32m<ipython-input-482-074159bca575>\u001b[0m in \u001b[0;36m<module>\u001b[1;34m\u001b[0m\n\u001b[1;32m----> 1\u001b[1;33m \u001b[0missubclass\u001b[0m\u001b[1;33m(\u001b[0m\u001b[1;32mTrue\u001b[0m\u001b[1;33m,\u001b[0m \u001b[0mbool\u001b[0m\u001b[1;33m)\u001b[0m\u001b[1;33m\u001b[0m\u001b[1;33m\u001b[0m\u001b[0m\n\u001b[0m",
      "\u001b[1;31mTypeError\u001b[0m: issubclass() arg 1 must be a class"
     ]
    }
   ],
   "source": [
    "issubclass(True, bool) # TypeError: issubclass() arg 1 must be a class"
   ]
  },
  {
   "cell_type": "code",
   "execution_count": 483,
   "metadata": {},
   "outputs": [
    {
     "data": {
      "text/plain": [
       "False"
      ]
     },
     "execution_count": 483,
     "metadata": {},
     "output_type": "execute_result"
    }
   ],
   "source": [
    "issubclass(int, bool) # int - не подкласс bool"
   ]
  },
  {
   "cell_type": "code",
   "execution_count": 486,
   "metadata": {},
   "outputs": [
    {
     "data": {
      "text/plain": [
       "True"
      ]
     },
     "execution_count": 486,
     "metadata": {},
     "output_type": "execute_result"
    }
   ],
   "source": [
    "issubclass(bool, int) # bool - подкласс int"
   ]
  },
  {
   "cell_type": "code",
   "execution_count": 487,
   "metadata": {},
   "outputs": [
    {
     "data": {
      "text/plain": [
       "False"
      ]
     },
     "execution_count": 487,
     "metadata": {},
     "output_type": "execute_result"
    }
   ],
   "source": [
    "isinstance(bool, int) # bool - не экземляр int, а подкласс"
   ]
  },
  {
   "cell_type": "code",
   "execution_count": 488,
   "metadata": {},
   "outputs": [
    {
     "data": {
      "text/plain": [
       "True"
      ]
     },
     "execution_count": 488,
     "metadata": {},
     "output_type": "execute_result"
    }
   ],
   "source": [
    "True == 1 # То же самое значение"
   ]
  },
  {
   "cell_type": "code",
   "execution_count": 489,
   "metadata": {},
   "outputs": [
    {
     "data": {
      "text/plain": [
       "False"
      ]
     },
     "execution_count": 489,
     "metadata": {},
     "output_type": "execute_result"
    }
   ],
   "source": [
    "True == 2"
   ]
  },
  {
   "cell_type": "code",
   "execution_count": 490,
   "metadata": {},
   "outputs": [
    {
     "data": {
      "text/plain": [
       "False"
      ]
     },
     "execution_count": 490,
     "metadata": {},
     "output_type": "execute_result"
    }
   ],
   "source": [
    "True is 1 # Но другой объект: см. следующую главу"
   ]
  },
  {
   "cell_type": "code",
   "execution_count": 491,
   "metadata": {},
   "outputs": [
    {
     "data": {
      "text/plain": [
       "True"
      ]
     },
     "execution_count": 491,
     "metadata": {},
     "output_type": "execute_result"
    }
   ],
   "source": [
    "True or False # То же, что и 1 or 0"
   ]
  },
  {
   "cell_type": "code",
   "execution_count": 493,
   "metadata": {},
   "outputs": [
    {
     "data": {
      "text/plain": [
       "5"
      ]
     },
     "execution_count": 493,
     "metadata": {},
     "output_type": "execute_result"
    }
   ],
   "source": [
    "True + 4 # М-да, т.к. True - целое число 1 со спуциальным форматом отображения"
   ]
  },
  {
   "cell_type": "markdown",
   "metadata": {},
   "source": [
    "Попробую такой пример:"
   ]
  },
  {
   "cell_type": "code",
   "execution_count": 496,
   "metadata": {},
   "outputs": [
    {
     "name": "stdout",
     "output_type": "stream",
     "text": [
      "1\n",
      "2\n"
     ]
    }
   ],
   "source": [
    "if 1:\n",
    "    print(1)\n",
    "if 2:\n",
    "    print(2)\n",
    "if 0:\n",
    "    print(0)"
   ]
  },
  {
   "cell_type": "markdown",
   "metadata": {},
   "source": [
    "__!!!__  \n",
    "Ну почему if 2 выдаёт True, если True == 2 выдаёт False???!!!"
   ]
  },
  {
   "cell_type": "markdown",
   "metadata": {},
   "source": [
    "## Численные расширения\n",
    "Расширенные инструменты __численного программирования__ : матричный тип данных, обработка векторов (NumPy, SciPy); включая инструменты для работы с графикой и диаграммами, типы с плавающей точкой расширенной точности, библиотеки обработки статистических данных и т.д."
   ]
  },
  {
   "cell_type": "markdown",
   "metadata": {},
   "source": [
    "# Глава 6. Кратко о динамической типизации\n",
    "..."
   ]
  },
  {
   "cell_type": "markdown",
   "metadata": {},
   "source": [
    "## Случай отсутствия операторов объявления\n",
    "..."
   ]
  },
  {
   "cell_type": "markdown",
   "metadata": {},
   "source": [
    "### Переменные, объекты и ссылки"
   ]
  },
  {
   "cell_type": "markdown",
   "metadata": {},
   "source": [
    "__Создание переменных__  \n",
    "Переменная (также называемая в Python именем) __создается при первом присваивании__ ей значения в коде. Последующие присваивания изменяют значение уже созданного имени. __Формально, Python обнаруживает (обнаруживает, но возможно, не создаёт) некоторые имена перед выполненнием кода.__\n",
    "\n",
    "__Типы переменных__  \n",
    "Переменная никогда не располагает какой-либо информацией ро типе или о свзанных с ним ограничениях. Понятие типа обитает в объектах, не в именах. Переменные являются обобщенными по своей природе; они всегда __просто ссылаются на определенный объект__ в конкретный момент времени.\n",
    "\n",
    "__Использование переменных__  \n",
    "Когда переменная встречается в выражении (но не во время присваивания), она тотчас заменяется объектом, на который в текущий момент ссылается, каким бы он ни был. Более того, все __переменные должны быть присвоены, прежде чем их можно будет применять__; ссылка на неприсвоенные переменные приводит к __ошибкам__."
   ]
  },
  {
   "cell_type": "code",
   "execution_count": null,
   "metadata": {},
   "outputs": [],
   "source": [
    "a = 3 # Присвоить имени (переменной) объект"
   ]
  },
  {
   "cell_type": "markdown",
   "metadata": {},
   "source": [
    "В процессе выполнения этого оператора были сделаны следующие шаги:  \n",
    "1. Создание объекта представления значения 3.\n",
    "2. Создание переменной a, если она не существует.\n",
    "3. Связывание переменной a с новым объектом 3 (такая связь в Python называется __ссылка__).\n",
    "\n",
    "Т.о. переменные и объекты хранятся в разных местах памяти и связываются посредством ссылок. Переменные всегда ссылаются на объекты и никогда на другие переменные, но более крупные объекты могут быть связаны с другими объектами (например, объект списка имеет ссылки на содержащиеся в нём объекты).\n",
    "\n",
    "Т.е. _ссылка_ - это своего рода ассоциация, реализованная как __указатель в памяти__ (по крайней мере в CPython, насколько я знаю). Всякий раз, когда переменная используется в более позднее время, Python автоматически следует по связи от переменной к объекту.\n",
    "\n",
    "Говоря конкретнее:\n",
    "- Переменные - это записи в __системной таблице__, в которых предусмотрены места для связей с объектами.\n",
    "- Объекты - это области выделенной памяти с достаточным пространством для представления значений, для которых они (области памяти) предназначены. Каждый объект также содержит два стандартных заголовочных поля: __обозначение типа__ , применяемое для пометки типа объекта, и __счётчик ссылок__ , используемый для определения, когда можно освобождать память.\n",
    "- Ссылки - это автоматически следуемые указатели от переменных к объектам."
   ]
  },
  {
   "cell_type": "markdown",
   "metadata": {},
   "source": [
    "### Типы обитают в объектах, не в переменных"
   ]
  },
  {
   "cell_type": "code",
   "execution_count": 4,
   "metadata": {},
   "outputs": [
    {
     "data": {
      "text/plain": [
       "3"
      ]
     },
     "execution_count": 4,
     "metadata": {},
     "output_type": "execute_result"
    }
   ],
   "source": [
    "a = 3      # Переменная является целым числом\n",
    "a"
   ]
  },
  {
   "cell_type": "code",
   "execution_count": 5,
   "metadata": {},
   "outputs": [
    {
     "data": {
      "text/plain": [
       "'spam'"
      ]
     },
     "execution_count": 5,
     "metadata": {},
     "output_type": "execute_result"
    }
   ],
   "source": [
    "a = 'spam' # Теперь она стала строкой\n",
    "a"
   ]
  },
  {
   "cell_type": "code",
   "execution_count": 6,
   "metadata": {},
   "outputs": [
    {
     "data": {
      "text/plain": [
       "1.23"
      ]
     },
     "execution_count": 6,
     "metadata": {},
     "output_type": "execute_result"
    }
   ],
   "source": [
    "a = 1.23   # А теперь стала числом с плавающей точкой float\n",
    "a"
   ]
  },
  {
   "cell_type": "markdown",
   "metadata": {},
   "source": [
    "### Объекты подвергаются сборке мусора (CPython)\n",
    "\n",
    "В Python, при присваивании имени (она же переменная) нового объекта, область памяти, занимаемая предыдущим объектом, освобождается (точнее попадает в пул свободного пространства) в случае, если на него не ссылается другое имя или объект."
   ]
  },
  {
   "cell_type": "code",
   "execution_count": 9,
   "metadata": {},
   "outputs": [
    {
     "data": {
      "text/plain": [
       "42"
      ]
     },
     "execution_count": 9,
     "metadata": {},
     "output_type": "execute_result"
    }
   ],
   "source": [
    "x = 42\n",
    "x"
   ]
  },
  {
   "cell_type": "code",
   "execution_count": 10,
   "metadata": {},
   "outputs": [
    {
     "data": {
      "text/plain": [
       "'shrubberry'"
      ]
     },
     "execution_count": 10,
     "metadata": {},
     "output_type": "execute_result"
    }
   ],
   "source": [
    "x = 'shrubberry' # Освободить память, занимаемую объектом 42,\n",
    "                 # если на него нет ссылок где-то ещё, т.е\n",
    "                 # счетчик ссылок объекта уменьшился до нуля\n",
    "x"
   ]
  },
  {
   "cell_type": "code",
   "execution_count": 11,
   "metadata": {},
   "outputs": [
    {
     "data": {
      "text/plain": [
       "3.1415"
      ]
     },
     "execution_count": 11,
     "metadata": {},
     "output_type": "execute_result"
    }
   ],
   "source": [
    "x = 3.1415       # Освободить память, занимаемую объектом 'shrubbery',\n",
    "                 # если на него нет ссылок где-то ещё\n",
    "                 # счетчик ссылок объекта уменьшился до нуля\n",
    "x"
   ]
  },
  {
   "cell_type": "code",
   "execution_count": 12,
   "metadata": {},
   "outputs": [
    {
     "data": {
      "text/plain": [
       "[1, 2, 3]"
      ]
     },
     "execution_count": 12,
     "metadata": {},
     "output_type": "execute_result"
    }
   ],
   "source": [
    "x = [1, 2, 3]    # Освободить память, занимаемую объектом 3.1415,\n",
    "                 # если на него нет ссылок где-то ещё\n",
    "                 # счетчик ссылок объекта уменьшился до нуля\n",
    "x"
   ]
  },
  {
   "cell_type": "markdown",
   "metadata": {},
   "source": [
    "__Подробнее о сборке мусора в Python (CPython)__  \n",
    "\n",
    "Говоря формально, сборка мусора в Python основана главным образом на __счетчиках ссылок__ (как здесь описано); однако она также имеет компонент, который обнаруживает и своевременно освобождает пространство памяти, занимаемое объектами с __циклическими ссылками__ (например, цикл легко создать, выполнив L.append(L))."
   ]
  },
  {
   "cell_type": "markdown",
   "metadata": {},
   "source": [
    "## Разделяемые ссылки\n",
    "\n",
    "Разделяемая ссылка (а иногда просто разделяемый объект) - это ситуация, когда множество переменных (имён), ссылаются на один объект:"
   ]
  },
  {
   "cell_type": "code",
   "execution_count": 14,
   "metadata": {},
   "outputs": [
    {
     "data": {
      "text/plain": [
       "(3, 3)"
      ]
     },
     "execution_count": 14,
     "metadata": {},
     "output_type": "execute_result"
    }
   ],
   "source": [
    "a = 3\n",
    "b = a  # a и b ссылаются на один объект 3, \n",
    "       # при этом, они никак не связаны между собой\n",
    "a, b"
   ]
  },
  {
   "cell_type": "markdown",
   "metadata": {},
   "source": [
    "### Разделяемые ссылки и изменения на месте\n",
    "\n",
    "В Python cуществуют объекты и операции, которые вносят в объекты изменения на месте. Их относятся к __изменяемым типам__, включающим списки, словари и множества."
   ]
  },
  {
   "cell_type": "code",
   "execution_count": 15,
   "metadata": {},
   "outputs": [
    {
     "data": {
      "text/plain": [
       "([2, 3, 4], [2, 3, 4])"
      ]
     },
     "execution_count": 15,
     "metadata": {},
     "output_type": "execute_result"
    }
   ],
   "source": [
    "L1 = [2, 3, 4] # Изменяемый объект\n",
    "L2 = L1        # Создаёт ссылку на тот же самый объект\n",
    "L1, L2"
   ]
  },
  {
   "cell_type": "code",
   "execution_count": 17,
   "metadata": {},
   "outputs": [
    {
     "data": {
      "text/plain": [
       "[24, 3, 4]"
      ]
     },
     "execution_count": 17,
     "metadata": {},
     "output_type": "execute_result"
    }
   ],
   "source": [
    "L1[0] = 24     # Изменение на месте\n",
    "L1             # L1 отличается"
   ]
  },
  {
   "cell_type": "code",
   "execution_count": 18,
   "metadata": {},
   "outputs": [
    {
     "data": {
      "text/plain": [
       "[24, 3, 4]"
      ]
     },
     "execution_count": 18,
     "metadata": {},
     "output_type": "execute_result"
    }
   ],
   "source": [
    "L2             # Но отличается и L2!"
   ]
  },
  {
   "cell_type": "markdown",
   "metadata": {},
   "source": [
    "Копирование объекта вместо ссылки на него:"
   ]
  },
  {
   "cell_type": "code",
   "execution_count": 19,
   "metadata": {},
   "outputs": [],
   "source": [
    "L1 = [2, 3, 4]"
   ]
  },
  {
   "cell_type": "code",
   "execution_count": 21,
   "metadata": {},
   "outputs": [
    {
     "data": {
      "text/plain": [
       "([2, 3, 4], [2, 3, 4])"
      ]
     },
     "execution_count": 21,
     "metadata": {},
     "output_type": "execute_result"
    }
   ],
   "source": [
    "L2 = L1[:] # Создать копию L1 (или list(L1), copy.copy(L1), L1.copy())\n",
    "L1, L2"
   ]
  },
  {
   "cell_type": "code",
   "execution_count": 22,
   "metadata": {},
   "outputs": [
    {
     "data": {
      "text/plain": [
       "[24, 3, 4]"
      ]
     },
     "execution_count": 22,
     "metadata": {},
     "output_type": "execute_result"
    }
   ],
   "source": [
    "L1[0] = 24\n",
    "L1"
   ]
  },
  {
   "cell_type": "code",
   "execution_count": 23,
   "metadata": {},
   "outputs": [
    {
     "data": {
      "text/plain": [
       "[2, 3, 4]"
      ]
     },
     "execution_count": 23,
     "metadata": {},
     "output_type": "execute_result"
    }
   ],
   "source": [
    "L2 # L2 не изменился"
   ]
  },
  {
   "cell_type": "code",
   "execution_count": 24,
   "metadata": {},
   "outputs": [
    {
     "data": {
      "text/plain": [
       "({1: 1, 2: 2, 3: 3}, {1: 1, 2: 2, 3: 3})"
      ]
     },
     "execution_count": 24,
     "metadata": {},
     "output_type": "execute_result"
    }
   ],
   "source": [
    "D1 = {1:1, 2:2, 3:3}\n",
    "D2 = dict(D1)   # Проверка того, как работает этак контсрукция\n",
    "D1, D2"
   ]
  },
  {
   "cell_type": "code",
   "execution_count": 26,
   "metadata": {},
   "outputs": [
    {
     "data": {
      "text/plain": [
       "({1: 3, 2: 2, 3: 3}, {1: 1, 2: 2, 3: 3})"
      ]
     },
     "execution_count": 26,
     "metadata": {},
     "output_type": "execute_result"
    }
   ],
   "source": [
    "D1[1] = 3\n",
    "D1, D2"
   ]
  },
  {
   "cell_type": "markdown",
   "metadata": {},
   "source": [
    "__Модуль copy()__"
   ]
  },
  {
   "cell_type": "markdown",
   "metadata": {},
   "source": [
    "Поверхностное копирование:"
   ]
  },
  {
   "cell_type": "code",
   "execution_count": 34,
   "metadata": {},
   "outputs": [
    {
     "data": {
      "text/plain": [
       "({'d': {'c': 3, 'b': {'a': 1}}, 'e': 5},\n",
       " {'d': {'c': 3, 'b': {'a': 1}}, 'e': 5})"
      ]
     },
     "execution_count": 34,
     "metadata": {},
     "output_type": "execute_result"
    }
   ],
   "source": [
    "import copy\n",
    "\n",
    "Y = {'d':{'c':3, 'b':{'a':1}}, 'e':5}\n",
    "X = copy.copy(Y)  # Создать \"поверхностную\" копию верхнего уровня\n",
    "                  # любого объекта Y (даже собственного???)\n",
    "X, Y"
   ]
  },
  {
   "cell_type": "code",
   "execution_count": 36,
   "metadata": {},
   "outputs": [
    {
     "data": {
      "text/plain": [
       "({'d': {'c': 3, 'b': {'a': 1}}, 'e': 5},\n",
       " {'d': {'c': 3, 'b': {'a': 1}}, 'e': 55})"
      ]
     },
     "execution_count": 36,
     "metadata": {},
     "output_type": "execute_result"
    }
   ],
   "source": [
    "Y['e'] = 55  # Изменится только у одного объекта\n",
    "X, Y"
   ]
  },
  {
   "cell_type": "code",
   "execution_count": 39,
   "metadata": {},
   "outputs": [
    {
     "data": {
      "text/plain": [
       "({'d': {'c': 3, 'b': {'a': 11}}, 'e': 5},\n",
       " {'d': {'c': 3, 'b': {'a': 11}}, 'e': 55})"
      ]
     },
     "execution_count": 39,
     "metadata": {},
     "output_type": "execute_result"
    }
   ],
   "source": [
    "Y['d']['b']['a'] = 11 # Изменится у обоих объектов,\n",
    "                      # т.к. была сделана неглубокая копия\n",
    "X, Y"
   ]
  },
  {
   "cell_type": "raw",
   "metadata": {},
   "source": [
    "Глубокое копирование:"
   ]
  },
  {
   "cell_type": "code",
   "execution_count": 40,
   "metadata": {},
   "outputs": [
    {
     "data": {
      "text/plain": [
       "({'d': {'c': 3, 'b': {'a': 1}}, 'e': 5},\n",
       " {'d': {'c': 3, 'b': {'a': 1}}, 'e': 5})"
      ]
     },
     "execution_count": 40,
     "metadata": {},
     "output_type": "execute_result"
    }
   ],
   "source": [
    "import copy\n",
    "\n",
    "Y = {'d':{'c':3, 'b':{'a':1}}, 'e':5}\n",
    "X = copy.deepcopy(Y)  # Создать глубокую любого объекта Y (даже собственного???):\n",
    "                      # копировать все вложенные части\n",
    "X, Y"
   ]
  },
  {
   "cell_type": "code",
   "execution_count": 41,
   "metadata": {},
   "outputs": [
    {
     "data": {
      "text/plain": [
       "({'d': {'c': 3, 'b': {'a': 1}}, 'e': 5},\n",
       " {'d': {'c': 3, 'b': {'a': 1}}, 'e': 55})"
      ]
     },
     "execution_count": 41,
     "metadata": {},
     "output_type": "execute_result"
    }
   ],
   "source": [
    "Y['e'] = 55  # Изменится только у одного объекта\n",
    "X, Y"
   ]
  },
  {
   "cell_type": "code",
   "execution_count": 42,
   "metadata": {},
   "outputs": [
    {
     "data": {
      "text/plain": [
       "({'d': {'c': 3, 'b': {'a': 1}}, 'e': 5},\n",
       " {'d': {'c': 3, 'b': {'a': 11}}, 'e': 55})"
      ]
     },
     "execution_count": 42,
     "metadata": {},
     "output_type": "execute_result"
    }
   ],
   "source": [
    "Y['d']['b']['a'] = 11 # Опять изменится только у одного объекта\n",
    "X, Y"
   ]
  },
  {
   "cell_type": "markdown",
   "metadata": {},
   "source": [
    "### Разделяемые ссылки и равенство"
   ]
  },
  {
   "cell_type": "code",
   "execution_count": 45,
   "metadata": {},
   "outputs": [],
   "source": [
    "L = [1, 2, 3]\n",
    "M = L"
   ]
  },
  {
   "cell_type": "code",
   "execution_count": 46,
   "metadata": {},
   "outputs": [
    {
     "data": {
      "text/plain": [
       "True"
      ]
     },
     "execution_count": 46,
     "metadata": {},
     "output_type": "execute_result"
    }
   ],
   "source": [
    "L == M  # Одинаковые значения"
   ]
  },
  {
   "cell_type": "code",
   "execution_count": 47,
   "metadata": {},
   "outputs": [
    {
     "data": {
      "text/plain": [
       "True"
      ]
     },
     "execution_count": 47,
     "metadata": {},
     "output_type": "execute_result"
    }
   ],
   "source": [
    "L is M  # Одинаковые объекты: сравниваются указатели, \n",
    "        # которые реализуют ссылки"
   ]
  },
  {
   "cell_type": "markdown",
   "metadata": {},
   "source": [
    "Операция == предусматривает проверку, имеют ли два ссылаемых объекта __одинаковые значения__ , такой метод почти всегда __используется для проверок на предмет равенства__ в Python.\n",
    "\n",
    "Операция is проверяет __идентичность__ - она возвращает True, только если оба имени указывают на точно __тот же самый объект__ , поэтому операция is является более строгой формой проверки равенства и редко применяется в большинстве программ."
   ]
  },
  {
   "cell_type": "code",
   "execution_count": 56,
   "metadata": {},
   "outputs": [],
   "source": [
    "L = [1, 2, 3]\n",
    "M = [1, 2, 3]"
   ]
  },
  {
   "cell_type": "code",
   "execution_count": 57,
   "metadata": {},
   "outputs": [
    {
     "data": {
      "text/plain": [
       "True"
      ]
     },
     "execution_count": 57,
     "metadata": {},
     "output_type": "execute_result"
    }
   ],
   "source": [
    "L == M  # Одинаковые значения"
   ]
  },
  {
   "cell_type": "code",
   "execution_count": 58,
   "metadata": {},
   "outputs": [
    {
     "data": {
      "text/plain": [
       "False"
      ]
     },
     "execution_count": 58,
     "metadata": {},
     "output_type": "execute_result"
    }
   ],
   "source": [
    "L is M  # Разные объекты"
   ]
  },
  {
   "cell_type": "markdown",
   "metadata": {},
   "source": [
    "Те же операции на небольших числах:"
   ]
  },
  {
   "cell_type": "code",
   "execution_count": 59,
   "metadata": {},
   "outputs": [],
   "source": [
    "X = 42\n",
    "Y = 42  # Должны быть двумя разными объектами"
   ]
  },
  {
   "cell_type": "code",
   "execution_count": 60,
   "metadata": {},
   "outputs": [
    {
     "data": {
      "text/plain": [
       "True"
      ]
     },
     "execution_count": 60,
     "metadata": {},
     "output_type": "execute_result"
    }
   ],
   "source": [
    "X == Y"
   ]
  },
  {
   "cell_type": "code",
   "execution_count": 62,
   "metadata": {},
   "outputs": [
    {
     "data": {
      "text/plain": [
       "True"
      ]
     },
     "execution_count": 62,
     "metadata": {},
     "output_type": "execute_result"
    }
   ],
   "source": [
    "X is Y # Как бы то ни было, тот же самый объект: кеширование в действии"
   ]
  },
  {
   "cell_type": "markdown",
   "metadata": {},
   "source": [
    "Это произошло потому, что __небольшие целые числа и строки кешируются и используются повторно__, и операция is сообщает, что они ссылаются на один и тот объект. Контрпример с числом побольше:"
   ]
  },
  {
   "cell_type": "code",
   "execution_count": 63,
   "metadata": {},
   "outputs": [
    {
     "data": {
      "text/plain": [
       "False"
      ]
     },
     "execution_count": 63,
     "metadata": {},
     "output_type": "execute_result"
    }
   ],
   "source": [
    "X = 1000\n",
    "Y = 1000\n",
    "X is Y"
   ]
  },
  {
   "cell_type": "markdown",
   "metadata": {},
   "source": [
    "Функция __getrefcount()__ из стандартного модуля sys возвращает __счетчик ссылое объекта__ :"
   ]
  },
  {
   "cell_type": "code",
   "execution_count": 67,
   "metadata": {},
   "outputs": [
    {
     "data": {
      "text/plain": [
       "2206"
      ]
     },
     "execution_count": 67,
     "metadata": {},
     "output_type": "execute_result"
    }
   ],
   "source": [
    "import sys\n",
    "\n",
    "sys.getrefcount(1)  # Столько указателей (ссылок) на этот \n",
    "                    # разделяемый участок памяти"
   ]
  },
  {
   "cell_type": "code",
   "execution_count": 68,
   "metadata": {},
   "outputs": [
    {
     "data": {
      "text/plain": [
       "3"
      ]
     },
     "execution_count": 68,
     "metadata": {},
     "output_type": "execute_result"
    }
   ],
   "source": [
    "sys.getrefcount(1000)"
   ]
  },
  {
   "cell_type": "markdown",
   "metadata": {},
   "source": [
    "Хм, интересно, для какого именно объекта, на который ссылается X или Y, было возвращено это значение? И как Python вообще нашёл это объект в памяти только по значению?"
   ]
  },
  {
   "cell_type": "code",
   "execution_count": 77,
   "metadata": {},
   "outputs": [
    {
     "name": "stdout",
     "output_type": "stream",
     "text": [
      "115507696\n",
      "115508432\n"
     ]
    }
   ],
   "source": [
    "print(id(X))\n",
    "print(id(Y))"
   ]
  },
  {
   "cell_type": "code",
   "execution_count": 78,
   "metadata": {},
   "outputs": [
    {
     "name": "stdout",
     "output_type": "stream",
     "text": [
      "8791050195776\n",
      "115928144\n"
     ]
    }
   ],
   "source": [
    "print(id(1))    \n",
    "print(id(1000))"
   ]
  },
  {
   "cell_type": "markdown",
   "metadata": {},
   "source": [
    "Занятно, как сильно отличаются адреса, возможно из-за кеширования, но внятного объяснения у меня пока нет. \n",
    "\n",
    "Адреса у X, Y и 1000 разные."
   ]
  },
  {
   "cell_type": "code",
   "execution_count": 79,
   "metadata": {},
   "outputs": [
    {
     "name": "stdout",
     "output_type": "stream",
     "text": [
      "13\n",
      "3\n"
     ]
    }
   ],
   "source": [
    "Z = X\n",
    "print(sys.getrefcount(X))\n",
    "print(sys.getrefcount(Y))\n",
    "print(sys.getrefcount(1000))"
   ]
  },
  {
   "cell_type": "markdown",
   "metadata": {},
   "source": [
    "Вероятно, я сделала неправильное предположение, о том, что выражение sys.getrefcount(1000) возвращает счетчик ссылок для объекта, на который ссылается X или Y. Скорее всего, это выражение создаёт в процессе своего выполнения новый безымянный объект со значением 1000, и уже для него возвращает счетчик ссылок. Т.е. по сути это выражение в таком виде бессымысленно для некешируемых объектов, т.е. выражение sys.getrefcount(1) имеет смысл, т.к. новый объект с 1 не создаётся."
   ]
  },
  {
   "cell_type": "code",
   "execution_count": 81,
   "metadata": {},
   "outputs": [
    {
     "name": "stdout",
     "output_type": "stream",
     "text": [
      "21\n",
      "3\n"
     ]
    }
   ],
   "source": [
    "print(sys.getrefcount(84))  # Кешируется, и на него наверняка уже есть ссылки\n",
    "print(sys.getrefcount(8400)) # Не кешируется, создаётся заново"
   ]
  },
  {
   "cell_type": "markdown",
   "metadata": {},
   "source": [
    "## Динамическая типизация вездесуща"
   ]
  },
  {
   "cell_type": "markdown",
   "metadata": {},
   "source": [
    "Поскольку в Python, похоже, _абсолютно всё_ взаимодействует через __присваивание и ссылки__ , базовое понимание модели динамической полезно во всех контекстах. Динамическая типизация работает одинаково в операторах присваивания, аргументах функций, переменных циклов for, импортах модулей, атрибутов классов и т.д. Хорошая новость заключается в том, что в Python существует только _одна_ модель присваивания; однажды овладев динмической типизацией, легко обнаружить, что она работает одинаково повсюду в языке.\n",
    "\n",
    "Д. т. является корнем _полиморфизма_."
   ]
  },
  {
   "cell_type": "markdown",
   "metadata": {},
   "source": [
    "Просто какая-то проба, связанная с проверкой того, что переменная цикла for является по сути обычной переменной и ведёт себя также, просто иницилизируется и присваиваивается внутри конструкции for:"
   ]
  },
  {
   "cell_type": "code",
   "execution_count": 44,
   "metadata": {},
   "outputs": [
    {
     "name": "stdout",
     "output_type": "stream",
     "text": [
      "s\n",
      "p\n",
      "a\n",
      "m\n",
      "m\n"
     ]
    }
   ],
   "source": [
    "def func():\n",
    "    # print(xxxxxx)     # local variable 'xxxxxx' referenced before assignment\n",
    "    for xxxxxx in 'spam':\n",
    "        print(xxxxxx)\n",
    "    print(xxxxxx) # Вывел 'm'\n",
    "        \n",
    "func()"
   ]
  },
  {
   "cell_type": "code",
   "execution_count": 49,
   "metadata": {},
   "outputs": [
    {
     "name": "stdout",
     "output_type": "stream",
     "text": [
      "s\n",
      "p\n",
      "a\n",
      "m\n",
      "m\n",
      "['xxxxxx']\n",
      "['D1', 'D2', 'In', 'L', 'L1', 'L2', 'M', 'Out', 'X', 'Y', '_', '_10', '_11', '_12', '_14', '_15', '_17', '_18', '_21', '_22', '_23', '_24', '_26', '_31', '_32', '_33', '_34', '_36', '_37', '_38', '_39', '_4', '_40', '_41', '_42', '_46', '_47', '_5', '_6', '_9', '__', '___', '__builtin__', '__builtins__', '__doc__', '__loader__', '__name__', '__package__', '__spec__', '_dh', '_i', '_i1', '_i10', '_i11', '_i12', '_i13', '_i14', '_i15', '_i16', '_i17', '_i18', '_i19', '_i2', '_i20', '_i21', '_i22', '_i23', '_i24', '_i25', '_i26', '_i27', '_i28', '_i29', '_i3', '_i30', '_i31', '_i32', '_i33', '_i34', '_i35', '_i36', '_i37', '_i38', '_i39', '_i4', '_i40', '_i41', '_i42', '_i43', '_i44', '_i45', '_i46', '_i47', '_i48', '_i49', '_i5', '_i6', '_i7', '_i8', '_i9', '_ih', '_ii', '_iii', '_oh', 'a', 'b', 'copy', 'exit', 'func', 'get_ipython', 'quit', 'x']\n"
     ]
    }
   ],
   "source": [
    "def func():\n",
    "    # print(xxxxxx)     # local variable 'xxxxxx' referenced before assignment\n",
    "    for xxxxxx in 'spam':\n",
    "        print(xxxxxx)\n",
    "    print(xxxxxx) # Вывел 'm'\n",
    "    print(dir()) # Выдаст СПИСОК переменных области\n",
    "        \n",
    "func()\n",
    "print(dir())  # Выдаст СПИСОК переменных области"
   ]
  },
  {
   "cell_type": "code",
   "execution_count": 53,
   "metadata": {},
   "outputs": [
    {
     "name": "stdout",
     "output_type": "stream",
     "text": [
      "s\n",
      "p\n",
      "a\n",
      "m\n",
      "m\n",
      "['xxxxxx']\n",
      "{'__name__': '__main__', '__doc__': 'Automatically created module for IPython interactive environment', '__package__': None, '__loader__': None, '__spec__': None, '__builtin__': <module 'builtins' (built-in)>, '__builtins__': <module 'builtins' (built-in)>, '_ih': ['', 'a = 3      # Переменная является целым числом ', \"a = 'spam' # Теперь она стала строкой\", 'a = 1.23   # А теперь стала числом с плавающей точкой float', 'a = 3      # Переменная является целым числом\\na', \"a = 'spam' # Теперь она стала строкой\\na\", 'a = 1.23   # А теперь стала числом с плавающей точкой float\\na', 'x = 42', \"x = 'shrubberry' # Освободить память, занимаемую объектом 42,\\n                 # если на него нет ссылок где-то ещё\", 'x = 42\\nx', \"x = 'shrubberry' # Освободить память, занимаемую объектом 42,\\n                 # если на него нет ссылок где-то ещё\\nx\", \"x = 3.1415       # Освободить память, занимаемую объектом 'shrubbery',\\n                 # если на него нет ссылок где-то ещё\\nx\", 'x = [1, 2, 3]    # Освободить память, занимаемую объектом 3.1415,\\n                 # если на него нет ссылок где-то ещё\\nx', 'a = 3\\nb = a  # a и b ссылаются на один объект 3', 'a = 3\\nb = a  # a и b ссылаются на один объект 3\\na, b', 'L1 = [2, 3, 4]\\nL2 = L1\\nL1, L2', 'L1[0] = 24     # Изменение на месте', 'L1[0] = 24     # Изменение на месте\\nL1             # L1 отличается', 'L2             # Но отличается и L2!', 'L1 = [2, 3, 4]', 'L2 = L1[:] # Создать копию L1 (или list(L1), copy.copy(L1), L1.copy())', 'L2 = L1[:] # Создать копию L1 (или list(L1), copy.copy(L1), L1.copy())\\nL1, L2', 'L1[0] = 24\\nL1', 'L2 # L2 не изменился', 'D1 = {1:1, 2:2, 3:3}\\nD2 = dict(D1)\\nD1, D2', 'D1[1] = 3', 'D1[1] = 3\\nD1, D2', 'import copy\\n\\nY = {{\\'a\\':1, {\\'b\\':2}}, \\'c\\':3}\\nX = copy(Y)  # Создать \"поверхностную\" копию верхнего уровня\\n             # любого объекта Y\\nX, Y', 'import copy\\n\\nY = {{\\'a\\':1, {\\'b\\':2} }, \\'c\\':3}\\nX = copy(Y)  # Создать \"поверхностную\" копию верхнего уровня\\n             # любого объекта Y\\nX, Y', 'import copy\\n\\nY = {{\\'a\\':1}, \\'c\\':3}\\nX = copy(Y)  # Создать \"поверхностную\" копию верхнего уровня\\n             # любого объекта Y\\nX, Y', 'import copy\\n\\nY = {\\'c\\':{\\'a\\':1, \\'b\\':{\\'b\\':2}}, \\'c\\':3}\\nX = copy(Y)  # Создать \"поверхностную\" копию верхнего уровня\\n             # любого объекта Y\\nX, Y', 'import copy\\n\\nY = {\\'c\\':{\\'a\\':1, \\'b\\':{\\'b\\':2}}, \\'c\\':3}\\nX = copy.copy(Y)  # Создать \"поверхностную\" копию верхнего уровня\\n             # любого объекта Y\\nX, Y', 'import copy\\n\\nY = {\\'d\\':{\\'a\\':1, \\'e\\':{\\'f\\':2}}, \\'c\\':3}\\nX = copy.copy(Y)  # Создать \"поверхностную\" копию верхнего уровня\\n                  # любого объекта Y\\nX, Y', 'import copy\\n\\nY = {\\'d\\':{\\'c\\':1, \\'b\\':{\\'a\\':2}}, \\'e\\':3}\\nX = copy.copy(Y)  # Создать \"поверхностную\" копию верхнего уровня\\n                  # любого объекта Y\\nX, Y', 'import copy\\n\\nY = {\\'d\\':{\\'c\\':3, \\'b\\':{\\'a\\':1}}, \\'e\\':5}\\nX = copy.copy(Y)  # Создать \"поверхностную\" копию верхнего уровня\\n                  # любого объекта Y\\nX, Y', 'Y[e] = 55\\nX, Y', \"Y['e'] = 55\\nX, Y\", \"Y['d']['b']['a'] = 11 # Изменится у обоих объектов\\nX, Y\", \"Y['d']['b']['a'] = 11 # Изменится у обоих объектов,\\n                      # т.к. была сделана неглубокая копия\\nX, Y\", \"Y['d']['b']['a'] = 11 # Изменится у обоих объектов,\\n                      # т.к. была сделана неглубокая копия\\nX, Y\", \"import copy\\n\\nY = {'d':{'c':3, 'b':{'a':1}}, 'e':5}\\nX = copy.deepcopy(Y)  # Создать глубокую любого объекта Y (даже собственного???):\\n                      # копировать все вложенные части\\nX, Y\", \"Y['e'] = 55  # Изменится только у одного объекта\\nX, Y\", \"Y['d']['b']['a'] = 11 # Опять изменится только у одного объекта\\nX, Y\", \"def func():\\n    print(xxxxxx)\\n    for xxxxxx in 'spam':\\n        print(xxxxxx)\\n        \\nfunc()\", \"def func():\\n    # print(xxxxxx)     # local variable 'xxxxxx' referenced before assignment\\n    for xxxxxx in 'spam':\\n        print(xxxxxx)\\n    print(xxxxxx)\\n        \\nfunc()\", 'L = [1, 2, 3]\\nM = L', 'L == M  # Одинаковые значения', 'L is M', \"def func():\\n    # print(xxxxxx)     # local variable 'xxxxxx' referenced before assignment\\n    for xxxxxx in 'spam':\\n        print(xxxxxx)\\n    print(xxxxxx) # Вывел 'm'\\n    print(dir())\\n        \\nfunc()\", \"def func():\\n    # print(xxxxxx)     # local variable 'xxxxxx' referenced before assignment\\n    for xxxxxx in 'spam':\\n        print(xxxxxx)\\n    print(xxxxxx) # Вывел 'm'\\n    print(dir())\\n        \\nfunc()\\nprint(dir())\", \"def func():\\n    # print(xxxxxx)     # local variable 'xxxxxx' referenced before assignment\\n    for xxxxxx in 'spam':\\n        print(xxxxxx)\\n    print(xxxxxx) # Вывел 'm'\\n    print(dir())\\n        \\nfunc()\\nprint(globals())\", \"def func():\\n    # print(xxxxxx)     # local variable 'xxxxxx' referenced before assignment\\n    for xxxxxx in 'spam':\\n        print(xxxxxx)\\n    print(xxxxxx) # Вывел 'm'\\n    print(dir())\\n        \\nfunc()\\nprint(locals())\", \"def func():\\n    # print(xxxxxx)     # local variable 'xxxxxx' referenced before assignment\\n    for xxxxxx in 'spam':\\n        print(xxxxxx)\\n    print(xxxxxx) # Вывел 'm'\\n    print(locals())\\n        \\nfunc()\", \"def func():\\n    # print(xxxxxx)     # local variable 'xxxxxx' referenced before assignment\\n    for xxxxxx in 'spam':\\n        print(xxxxxx)\\n    print(xxxxxx) # Вывел 'm'\\n    print(dir())  # Выдаст СПИСОК переменных области\\n        \\nfunc()\\nprint(globals())  # Выдаст СЛОВАРЬ глобальных переменных\"], '_oh': {4: 3, 5: 'spam', 6: 1.23, 9: 42, 10: 'shrubberry', 11: 3.1415, 12: [1, 2, 3], 14: (3, 3), 15: ([24, 3, 4], [24, 3, 4]), 17: [24, 3, 4], 18: [24, 3, 4], 21: ([24, 3, 4], [2, 3, 4]), 22: [24, 3, 4], 23: [2, 3, 4], 24: ({1: 3, 2: 2, 3: 3}, {1: 1, 2: 2, 3: 3}), 26: ({1: 3, 2: 2, 3: 3}, {1: 1, 2: 2, 3: 3}), 31: ({'c': 3}, {'c': 3}), 32: ({'d': {'a': 1, 'e': {'f': 2}}, 'c': 3}, {'d': {'a': 1, 'e': {'f': 2}}, 'c': 3}), 33: ({'d': {'c': 1, 'b': {'a': 2}}, 'e': 3}, {'d': {'c': 1, 'b': {'a': 2}}, 'e': 3}), 34: ({'d': {'c': 3, 'b': {'a': 11}}, 'e': 5}, {'d': {'c': 3, 'b': {'a': 11}}, 'e': 55}), 36: ({'d': {'c': 3, 'b': {'a': 11}}, 'e': 5}, {'d': {'c': 3, 'b': {'a': 11}}, 'e': 55}), 37: ({'d': {'c': 3, 'b': {'a': 11}}, 'e': 5}, {'d': {'c': 3, 'b': {'a': 11}}, 'e': 55}), 38: ({'d': {'c': 3, 'b': {'a': 11}}, 'e': 5}, {'d': {'c': 3, 'b': {'a': 11}}, 'e': 55}), 39: ({'d': {'c': 3, 'b': {'a': 11}}, 'e': 5}, {'d': {'c': 3, 'b': {'a': 11}}, 'e': 55}), 40: ({'d': {'c': 3, 'b': {'a': 1}}, 'e': 5}, {'d': {'c': 3, 'b': {'a': 11}}, 'e': 55}), 41: ({'d': {'c': 3, 'b': {'a': 1}}, 'e': 5}, {'d': {'c': 3, 'b': {'a': 11}}, 'e': 55}), 42: ({'d': {'c': 3, 'b': {'a': 1}}, 'e': 5}, {'d': {'c': 3, 'b': {'a': 11}}, 'e': 55}), 46: True, 47: True}, '_dh': [\"D:\\\\Irene\\\\Lutz's_Learning_Python_book5_Practice\"], 'In': ['', 'a = 3      # Переменная является целым числом ', \"a = 'spam' # Теперь она стала строкой\", 'a = 1.23   # А теперь стала числом с плавающей точкой float', 'a = 3      # Переменная является целым числом\\na', \"a = 'spam' # Теперь она стала строкой\\na\", 'a = 1.23   # А теперь стала числом с плавающей точкой float\\na', 'x = 42', \"x = 'shrubberry' # Освободить память, занимаемую объектом 42,\\n                 # если на него нет ссылок где-то ещё\", 'x = 42\\nx', \"x = 'shrubberry' # Освободить память, занимаемую объектом 42,\\n                 # если на него нет ссылок где-то ещё\\nx\", \"x = 3.1415       # Освободить память, занимаемую объектом 'shrubbery',\\n                 # если на него нет ссылок где-то ещё\\nx\", 'x = [1, 2, 3]    # Освободить память, занимаемую объектом 3.1415,\\n                 # если на него нет ссылок где-то ещё\\nx', 'a = 3\\nb = a  # a и b ссылаются на один объект 3', 'a = 3\\nb = a  # a и b ссылаются на один объект 3\\na, b', 'L1 = [2, 3, 4]\\nL2 = L1\\nL1, L2', 'L1[0] = 24     # Изменение на месте', 'L1[0] = 24     # Изменение на месте\\nL1             # L1 отличается', 'L2             # Но отличается и L2!', 'L1 = [2, 3, 4]', 'L2 = L1[:] # Создать копию L1 (или list(L1), copy.copy(L1), L1.copy())', 'L2 = L1[:] # Создать копию L1 (или list(L1), copy.copy(L1), L1.copy())\\nL1, L2', 'L1[0] = 24\\nL1', 'L2 # L2 не изменился', 'D1 = {1:1, 2:2, 3:3}\\nD2 = dict(D1)\\nD1, D2', 'D1[1] = 3', 'D1[1] = 3\\nD1, D2', 'import copy\\n\\nY = {{\\'a\\':1, {\\'b\\':2}}, \\'c\\':3}\\nX = copy(Y)  # Создать \"поверхностную\" копию верхнего уровня\\n             # любого объекта Y\\nX, Y', 'import copy\\n\\nY = {{\\'a\\':1, {\\'b\\':2} }, \\'c\\':3}\\nX = copy(Y)  # Создать \"поверхностную\" копию верхнего уровня\\n             # любого объекта Y\\nX, Y', 'import copy\\n\\nY = {{\\'a\\':1}, \\'c\\':3}\\nX = copy(Y)  # Создать \"поверхностную\" копию верхнего уровня\\n             # любого объекта Y\\nX, Y', 'import copy\\n\\nY = {\\'c\\':{\\'a\\':1, \\'b\\':{\\'b\\':2}}, \\'c\\':3}\\nX = copy(Y)  # Создать \"поверхностную\" копию верхнего уровня\\n             # любого объекта Y\\nX, Y', 'import copy\\n\\nY = {\\'c\\':{\\'a\\':1, \\'b\\':{\\'b\\':2}}, \\'c\\':3}\\nX = copy.copy(Y)  # Создать \"поверхностную\" копию верхнего уровня\\n             # любого объекта Y\\nX, Y', 'import copy\\n\\nY = {\\'d\\':{\\'a\\':1, \\'e\\':{\\'f\\':2}}, \\'c\\':3}\\nX = copy.copy(Y)  # Создать \"поверхностную\" копию верхнего уровня\\n                  # любого объекта Y\\nX, Y', 'import copy\\n\\nY = {\\'d\\':{\\'c\\':1, \\'b\\':{\\'a\\':2}}, \\'e\\':3}\\nX = copy.copy(Y)  # Создать \"поверхностную\" копию верхнего уровня\\n                  # любого объекта Y\\nX, Y', 'import copy\\n\\nY = {\\'d\\':{\\'c\\':3, \\'b\\':{\\'a\\':1}}, \\'e\\':5}\\nX = copy.copy(Y)  # Создать \"поверхностную\" копию верхнего уровня\\n                  # любого объекта Y\\nX, Y', 'Y[e] = 55\\nX, Y', \"Y['e'] = 55\\nX, Y\", \"Y['d']['b']['a'] = 11 # Изменится у обоих объектов\\nX, Y\", \"Y['d']['b']['a'] = 11 # Изменится у обоих объектов,\\n                      # т.к. была сделана неглубокая копия\\nX, Y\", \"Y['d']['b']['a'] = 11 # Изменится у обоих объектов,\\n                      # т.к. была сделана неглубокая копия\\nX, Y\", \"import copy\\n\\nY = {'d':{'c':3, 'b':{'a':1}}, 'e':5}\\nX = copy.deepcopy(Y)  # Создать глубокую любого объекта Y (даже собственного???):\\n                      # копировать все вложенные части\\nX, Y\", \"Y['e'] = 55  # Изменится только у одного объекта\\nX, Y\", \"Y['d']['b']['a'] = 11 # Опять изменится только у одного объекта\\nX, Y\", \"def func():\\n    print(xxxxxx)\\n    for xxxxxx in 'spam':\\n        print(xxxxxx)\\n        \\nfunc()\", \"def func():\\n    # print(xxxxxx)     # local variable 'xxxxxx' referenced before assignment\\n    for xxxxxx in 'spam':\\n        print(xxxxxx)\\n    print(xxxxxx)\\n        \\nfunc()\", 'L = [1, 2, 3]\\nM = L', 'L == M  # Одинаковые значения', 'L is M', \"def func():\\n    # print(xxxxxx)     # local variable 'xxxxxx' referenced before assignment\\n    for xxxxxx in 'spam':\\n        print(xxxxxx)\\n    print(xxxxxx) # Вывел 'm'\\n    print(dir())\\n        \\nfunc()\", \"def func():\\n    # print(xxxxxx)     # local variable 'xxxxxx' referenced before assignment\\n    for xxxxxx in 'spam':\\n        print(xxxxxx)\\n    print(xxxxxx) # Вывел 'm'\\n    print(dir())\\n        \\nfunc()\\nprint(dir())\", \"def func():\\n    # print(xxxxxx)     # local variable 'xxxxxx' referenced before assignment\\n    for xxxxxx in 'spam':\\n        print(xxxxxx)\\n    print(xxxxxx) # Вывел 'm'\\n    print(dir())\\n        \\nfunc()\\nprint(globals())\", \"def func():\\n    # print(xxxxxx)     # local variable 'xxxxxx' referenced before assignment\\n    for xxxxxx in 'spam':\\n        print(xxxxxx)\\n    print(xxxxxx) # Вывел 'm'\\n    print(dir())\\n        \\nfunc()\\nprint(locals())\", \"def func():\\n    # print(xxxxxx)     # local variable 'xxxxxx' referenced before assignment\\n    for xxxxxx in 'spam':\\n        print(xxxxxx)\\n    print(xxxxxx) # Вывел 'm'\\n    print(locals())\\n        \\nfunc()\", \"def func():\\n    # print(xxxxxx)     # local variable 'xxxxxx' referenced before assignment\\n    for xxxxxx in 'spam':\\n        print(xxxxxx)\\n    print(xxxxxx) # Вывел 'm'\\n    print(dir())  # Выдаст СПИСОК переменных области\\n        \\nfunc()\\nprint(globals())  # Выдаст СЛОВАРЬ глобальных переменных\"], 'Out': {4: 3, 5: 'spam', 6: 1.23, 9: 42, 10: 'shrubberry', 11: 3.1415, 12: [1, 2, 3], 14: (3, 3), 15: ([24, 3, 4], [24, 3, 4]), 17: [24, 3, 4], 18: [24, 3, 4], 21: ([24, 3, 4], [2, 3, 4]), 22: [24, 3, 4], 23: [2, 3, 4], 24: ({1: 3, 2: 2, 3: 3}, {1: 1, 2: 2, 3: 3}), 26: ({1: 3, 2: 2, 3: 3}, {1: 1, 2: 2, 3: 3}), 31: ({'c': 3}, {'c': 3}), 32: ({'d': {'a': 1, 'e': {'f': 2}}, 'c': 3}, {'d': {'a': 1, 'e': {'f': 2}}, 'c': 3}), 33: ({'d': {'c': 1, 'b': {'a': 2}}, 'e': 3}, {'d': {'c': 1, 'b': {'a': 2}}, 'e': 3}), 34: ({'d': {'c': 3, 'b': {'a': 11}}, 'e': 5}, {'d': {'c': 3, 'b': {'a': 11}}, 'e': 55}), 36: ({'d': {'c': 3, 'b': {'a': 11}}, 'e': 5}, {'d': {'c': 3, 'b': {'a': 11}}, 'e': 55}), 37: ({'d': {'c': 3, 'b': {'a': 11}}, 'e': 5}, {'d': {'c': 3, 'b': {'a': 11}}, 'e': 55}), 38: ({'d': {'c': 3, 'b': {'a': 11}}, 'e': 5}, {'d': {'c': 3, 'b': {'a': 11}}, 'e': 55}), 39: ({'d': {'c': 3, 'b': {'a': 11}}, 'e': 5}, {'d': {'c': 3, 'b': {'a': 11}}, 'e': 55}), 40: ({'d': {'c': 3, 'b': {'a': 1}}, 'e': 5}, {'d': {'c': 3, 'b': {'a': 11}}, 'e': 55}), 41: ({'d': {'c': 3, 'b': {'a': 1}}, 'e': 5}, {'d': {'c': 3, 'b': {'a': 11}}, 'e': 55}), 42: ({'d': {'c': 3, 'b': {'a': 1}}, 'e': 5}, {'d': {'c': 3, 'b': {'a': 11}}, 'e': 55}), 46: True, 47: True}, 'get_ipython': <bound method InteractiveShell.get_ipython of <ipykernel.zmqshell.ZMQInteractiveShell object at 0x00000000041F1400>>, 'exit': <IPython.core.autocall.ZMQExitAutocall object at 0x0000000004CFACC0>, 'quit': <IPython.core.autocall.ZMQExitAutocall object at 0x0000000004CFACC0>, '_': True, '__': True, '___': ({'d': {'c': 3, 'b': {'a': 1}}, 'e': 5}, {'d': {'c': 3, 'b': {'a': 11}}, 'e': 55}), '_i': \"def func():\\n    # print(xxxxxx)     # local variable 'xxxxxx' referenced before assignment\\n    for xxxxxx in 'spam':\\n        print(xxxxxx)\\n    print(xxxxxx) # Вывел 'm'\\n    print(locals())\\n        \\nfunc()\", '_ii': \"def func():\\n    # print(xxxxxx)     # local variable 'xxxxxx' referenced before assignment\\n    for xxxxxx in 'spam':\\n        print(xxxxxx)\\n    print(xxxxxx) # Вывел 'm'\\n    print(dir())\\n        \\nfunc()\\nprint(locals())\", '_iii': \"def func():\\n    # print(xxxxxx)     # local variable 'xxxxxx' referenced before assignment\\n    for xxxxxx in 'spam':\\n        print(xxxxxx)\\n    print(xxxxxx) # Вывел 'm'\\n    print(dir())\\n        \\nfunc()\\nprint(globals())\", '_i1': 'a = 3      # Переменная является целым числом ', 'a': 3, '_i2': \"a = 'spam' # Теперь она стала строкой\", '_i3': 'a = 1.23   # А теперь стала числом с плавающей точкой float', '_i4': 'a = 3      # Переменная является целым числом\\na', '_4': 3, '_i5': \"a = 'spam' # Теперь она стала строкой\\na\", '_5': 'spam', '_i6': 'a = 1.23   # А теперь стала числом с плавающей точкой float\\na', '_6': 1.23, '_i7': 'x = 42', 'x': [1, 2, 3], '_i8': \"x = 'shrubberry' # Освободить память, занимаемую объектом 42,\\n                 # если на него нет ссылок где-то ещё\", '_i9': 'x = 42\\nx', '_9': 42, '_i10': \"x = 'shrubberry' # Освободить память, занимаемую объектом 42,\\n                 # если на него нет ссылок где-то ещё\\nx\", '_10': 'shrubberry', '_i11': \"x = 3.1415       # Освободить память, занимаемую объектом 'shrubbery',\\n                 # если на него нет ссылок где-то ещё\\nx\", '_11': 3.1415, '_i12': 'x = [1, 2, 3]    # Освободить память, занимаемую объектом 3.1415,\\n                 # если на него нет ссылок где-то ещё\\nx', '_12': [1, 2, 3], '_i13': 'a = 3\\nb = a  # a и b ссылаются на один объект 3', 'b': 3, '_i14': 'a = 3\\nb = a  # a и b ссылаются на один объект 3\\na, b', '_14': (3, 3), '_i15': 'L1 = [2, 3, 4]\\nL2 = L1\\nL1, L2', 'L1': [24, 3, 4], 'L2': [2, 3, 4], '_15': ([24, 3, 4], [24, 3, 4]), '_i16': 'L1[0] = 24     # Изменение на месте', '_i17': 'L1[0] = 24     # Изменение на месте\\nL1             # L1 отличается', '_17': [24, 3, 4], '_i18': 'L2             # Но отличается и L2!', '_18': [24, 3, 4], '_i19': 'L1 = [2, 3, 4]', '_i20': 'L2 = L1[:] # Создать копию L1 (или list(L1), copy.copy(L1), L1.copy())', '_i21': 'L2 = L1[:] # Создать копию L1 (или list(L1), copy.copy(L1), L1.copy())\\nL1, L2', '_21': ([24, 3, 4], [2, 3, 4]), '_i22': 'L1[0] = 24\\nL1', '_22': [24, 3, 4], '_i23': 'L2 # L2 не изменился', '_23': [2, 3, 4], '_i24': 'D1 = {1:1, 2:2, 3:3}\\nD2 = dict(D1)\\nD1, D2', 'D1': {1: 3, 2: 2, 3: 3}, 'D2': {1: 1, 2: 2, 3: 3}, '_24': ({1: 3, 2: 2, 3: 3}, {1: 1, 2: 2, 3: 3}), '_i25': 'D1[1] = 3', '_i26': 'D1[1] = 3\\nD1, D2', '_26': ({1: 3, 2: 2, 3: 3}, {1: 1, 2: 2, 3: 3}), '_i27': 'import copy\\n\\nY = {{\\'a\\':1, {\\'b\\':2}}, \\'c\\':3}\\nX = copy(Y)  # Создать \"поверхностную\" копию верхнего уровня\\n             # любого объекта Y\\nX, Y', '_i28': 'import copy\\n\\nY = {{\\'a\\':1, {\\'b\\':2} }, \\'c\\':3}\\nX = copy(Y)  # Создать \"поверхностную\" копию верхнего уровня\\n             # любого объекта Y\\nX, Y', '_i29': 'import copy\\n\\nY = {{\\'a\\':1}, \\'c\\':3}\\nX = copy(Y)  # Создать \"поверхностную\" копию верхнего уровня\\n             # любого объекта Y\\nX, Y', '_i30': 'import copy\\n\\nY = {\\'c\\':{\\'a\\':1, \\'b\\':{\\'b\\':2}}, \\'c\\':3}\\nX = copy(Y)  # Создать \"поверхностную\" копию верхнего уровня\\n             # любого объекта Y\\nX, Y', 'copy': <module 'copy' from 'C:\\\\Anaconda3\\\\lib\\\\copy.py'>, 'Y': {'d': {'c': 3, 'b': {'a': 11}}, 'e': 55}, '_i31': 'import copy\\n\\nY = {\\'c\\':{\\'a\\':1, \\'b\\':{\\'b\\':2}}, \\'c\\':3}\\nX = copy.copy(Y)  # Создать \"поверхностную\" копию верхнего уровня\\n             # любого объекта Y\\nX, Y', 'X': {'d': {'c': 3, 'b': {'a': 1}}, 'e': 5}, '_31': ({'c': 3}, {'c': 3}), '_i32': 'import copy\\n\\nY = {\\'d\\':{\\'a\\':1, \\'e\\':{\\'f\\':2}}, \\'c\\':3}\\nX = copy.copy(Y)  # Создать \"поверхностную\" копию верхнего уровня\\n                  # любого объекта Y\\nX, Y', '_32': ({'d': {'a': 1, 'e': {'f': 2}}, 'c': 3}, {'d': {'a': 1, 'e': {'f': 2}}, 'c': 3}), '_i33': 'import copy\\n\\nY = {\\'d\\':{\\'c\\':1, \\'b\\':{\\'a\\':2}}, \\'e\\':3}\\nX = copy.copy(Y)  # Создать \"поверхностную\" копию верхнего уровня\\n                  # любого объекта Y\\nX, Y', '_33': ({'d': {'c': 1, 'b': {'a': 2}}, 'e': 3}, {'d': {'c': 1, 'b': {'a': 2}}, 'e': 3}), '_i34': 'import copy\\n\\nY = {\\'d\\':{\\'c\\':3, \\'b\\':{\\'a\\':1}}, \\'e\\':5}\\nX = copy.copy(Y)  # Создать \"поверхностную\" копию верхнего уровня\\n                  # любого объекта Y\\nX, Y', '_34': ({'d': {'c': 3, 'b': {'a': 11}}, 'e': 5}, {'d': {'c': 3, 'b': {'a': 11}}, 'e': 55}), '_i35': 'Y[e] = 55\\nX, Y', '_i36': \"Y['e'] = 55\\nX, Y\", '_36': ({'d': {'c': 3, 'b': {'a': 11}}, 'e': 5}, {'d': {'c': 3, 'b': {'a': 11}}, 'e': 55}), '_i37': \"Y['d']['b']['a'] = 11 # Изменится у обоих объектов\\nX, Y\", '_37': ({'d': {'c': 3, 'b': {'a': 11}}, 'e': 5}, {'d': {'c': 3, 'b': {'a': 11}}, 'e': 55}), '_i38': \"Y['d']['b']['a'] = 11 # Изменится у обоих объектов,\\n                      # т.к. была сделана неглубокая копия\\nX, Y\", '_38': ({'d': {'c': 3, 'b': {'a': 11}}, 'e': 5}, {'d': {'c': 3, 'b': {'a': 11}}, 'e': 55}), '_i39': \"Y['d']['b']['a'] = 11 # Изменится у обоих объектов,\\n                      # т.к. была сделана неглубокая копия\\nX, Y\", '_39': ({'d': {'c': 3, 'b': {'a': 11}}, 'e': 5}, {'d': {'c': 3, 'b': {'a': 11}}, 'e': 55}), '_i40': \"import copy\\n\\nY = {'d':{'c':3, 'b':{'a':1}}, 'e':5}\\nX = copy.deepcopy(Y)  # Создать глубокую любого объекта Y (даже собственного???):\\n                      # копировать все вложенные части\\nX, Y\", '_40': ({'d': {'c': 3, 'b': {'a': 1}}, 'e': 5}, {'d': {'c': 3, 'b': {'a': 11}}, 'e': 55}), '_i41': \"Y['e'] = 55  # Изменится только у одного объекта\\nX, Y\", '_41': ({'d': {'c': 3, 'b': {'a': 1}}, 'e': 5}, {'d': {'c': 3, 'b': {'a': 11}}, 'e': 55}), '_i42': \"Y['d']['b']['a'] = 11 # Опять изменится только у одного объекта\\nX, Y\", '_42': ({'d': {'c': 3, 'b': {'a': 1}}, 'e': 5}, {'d': {'c': 3, 'b': {'a': 11}}, 'e': 55}), '_i43': \"def func():\\n    print(xxxxxx)\\n    for xxxxxx in 'spam':\\n        print(xxxxxx)\\n        \\nfunc()\", 'func': <function func at 0x0000000006D3C8C8>, '_i44': \"def func():\\n    # print(xxxxxx)     # local variable 'xxxxxx' referenced before assignment\\n    for xxxxxx in 'spam':\\n        print(xxxxxx)\\n    print(xxxxxx)\\n        \\nfunc()\", '_i45': 'L = [1, 2, 3]\\nM = L', 'L': [1, 2, 3], 'M': [1, 2, 3], '_i46': 'L == M  # Одинаковые значения', '_46': True, '_i47': 'L is M', '_47': True, '_i48': \"def func():\\n    # print(xxxxxx)     # local variable 'xxxxxx' referenced before assignment\\n    for xxxxxx in 'spam':\\n        print(xxxxxx)\\n    print(xxxxxx) # Вывел 'm'\\n    print(dir())\\n        \\nfunc()\", '_i49': \"def func():\\n    # print(xxxxxx)     # local variable 'xxxxxx' referenced before assignment\\n    for xxxxxx in 'spam':\\n        print(xxxxxx)\\n    print(xxxxxx) # Вывел 'm'\\n    print(dir())\\n        \\nfunc()\\nprint(dir())\", '_i50': \"def func():\\n    # print(xxxxxx)     # local variable 'xxxxxx' referenced before assignment\\n    for xxxxxx in 'spam':\\n        print(xxxxxx)\\n    print(xxxxxx) # Вывел 'm'\\n    print(dir())\\n        \\nfunc()\\nprint(globals())\", '_i51': \"def func():\\n    # print(xxxxxx)     # local variable 'xxxxxx' referenced before assignment\\n    for xxxxxx in 'spam':\\n        print(xxxxxx)\\n    print(xxxxxx) # Вывел 'm'\\n    print(dir())\\n        \\nfunc()\\nprint(locals())\", '_i52': \"def func():\\n    # print(xxxxxx)     # local variable 'xxxxxx' referenced before assignment\\n    for xxxxxx in 'spam':\\n        print(xxxxxx)\\n    print(xxxxxx) # Вывел 'm'\\n    print(locals())\\n        \\nfunc()\", '_i53': \"def func():\\n    # print(xxxxxx)     # local variable 'xxxxxx' referenced before assignment\\n    for xxxxxx in 'spam':\\n        print(xxxxxx)\\n    print(xxxxxx) # Вывел 'm'\\n    print(dir())  # Выдаст СПИСОК переменных области\\n        \\nfunc()\\nprint(globals())  # Выдаст СЛОВАРЬ глобальных переменных\"}\n"
     ]
    }
   ],
   "source": [
    "def func():\n",
    "    # print(xxxxxx)     # local variable 'xxxxxx' referenced before assignment\n",
    "    for xxxxxx in 'spam':\n",
    "        print(xxxxxx)\n",
    "    print(xxxxxx) # Вывел 'm'\n",
    "    print(dir())  # Выдаст СПИСОК переменных области\n",
    "        \n",
    "func()\n",
    "print(globals())  # Выдаст СЛОВАРЬ глобальных переменных"
   ]
  },
  {
   "cell_type": "code",
   "execution_count": 54,
   "metadata": {},
   "outputs": [
    {
     "name": "stdout",
     "output_type": "stream",
     "text": [
      "s\n",
      "p\n",
      "a\n",
      "m\n",
      "m\n",
      "['xxxxxx']\n",
      "{'__name__': '__main__', '__doc__': 'Automatically created module for IPython interactive environment', '__package__': None, '__loader__': None, '__spec__': None, '__builtin__': <module 'builtins' (built-in)>, '__builtins__': <module 'builtins' (built-in)>, '_ih': ['', 'a = 3      # Переменная является целым числом ', \"a = 'spam' # Теперь она стала строкой\", 'a = 1.23   # А теперь стала числом с плавающей точкой float', 'a = 3      # Переменная является целым числом\\na', \"a = 'spam' # Теперь она стала строкой\\na\", 'a = 1.23   # А теперь стала числом с плавающей точкой float\\na', 'x = 42', \"x = 'shrubberry' # Освободить память, занимаемую объектом 42,\\n                 # если на него нет ссылок где-то ещё\", 'x = 42\\nx', \"x = 'shrubberry' # Освободить память, занимаемую объектом 42,\\n                 # если на него нет ссылок где-то ещё\\nx\", \"x = 3.1415       # Освободить память, занимаемую объектом 'shrubbery',\\n                 # если на него нет ссылок где-то ещё\\nx\", 'x = [1, 2, 3]    # Освободить память, занимаемую объектом 3.1415,\\n                 # если на него нет ссылок где-то ещё\\nx', 'a = 3\\nb = a  # a и b ссылаются на один объект 3', 'a = 3\\nb = a  # a и b ссылаются на один объект 3\\na, b', 'L1 = [2, 3, 4]\\nL2 = L1\\nL1, L2', 'L1[0] = 24     # Изменение на месте', 'L1[0] = 24     # Изменение на месте\\nL1             # L1 отличается', 'L2             # Но отличается и L2!', 'L1 = [2, 3, 4]', 'L2 = L1[:] # Создать копию L1 (или list(L1), copy.copy(L1), L1.copy())', 'L2 = L1[:] # Создать копию L1 (или list(L1), copy.copy(L1), L1.copy())\\nL1, L2', 'L1[0] = 24\\nL1', 'L2 # L2 не изменился', 'D1 = {1:1, 2:2, 3:3}\\nD2 = dict(D1)\\nD1, D2', 'D1[1] = 3', 'D1[1] = 3\\nD1, D2', 'import copy\\n\\nY = {{\\'a\\':1, {\\'b\\':2}}, \\'c\\':3}\\nX = copy(Y)  # Создать \"поверхностную\" копию верхнего уровня\\n             # любого объекта Y\\nX, Y', 'import copy\\n\\nY = {{\\'a\\':1, {\\'b\\':2} }, \\'c\\':3}\\nX = copy(Y)  # Создать \"поверхностную\" копию верхнего уровня\\n             # любого объекта Y\\nX, Y', 'import copy\\n\\nY = {{\\'a\\':1}, \\'c\\':3}\\nX = copy(Y)  # Создать \"поверхностную\" копию верхнего уровня\\n             # любого объекта Y\\nX, Y', 'import copy\\n\\nY = {\\'c\\':{\\'a\\':1, \\'b\\':{\\'b\\':2}}, \\'c\\':3}\\nX = copy(Y)  # Создать \"поверхностную\" копию верхнего уровня\\n             # любого объекта Y\\nX, Y', 'import copy\\n\\nY = {\\'c\\':{\\'a\\':1, \\'b\\':{\\'b\\':2}}, \\'c\\':3}\\nX = copy.copy(Y)  # Создать \"поверхностную\" копию верхнего уровня\\n             # любого объекта Y\\nX, Y', 'import copy\\n\\nY = {\\'d\\':{\\'a\\':1, \\'e\\':{\\'f\\':2}}, \\'c\\':3}\\nX = copy.copy(Y)  # Создать \"поверхностную\" копию верхнего уровня\\n                  # любого объекта Y\\nX, Y', 'import copy\\n\\nY = {\\'d\\':{\\'c\\':1, \\'b\\':{\\'a\\':2}}, \\'e\\':3}\\nX = copy.copy(Y)  # Создать \"поверхностную\" копию верхнего уровня\\n                  # любого объекта Y\\nX, Y', 'import copy\\n\\nY = {\\'d\\':{\\'c\\':3, \\'b\\':{\\'a\\':1}}, \\'e\\':5}\\nX = copy.copy(Y)  # Создать \"поверхностную\" копию верхнего уровня\\n                  # любого объекта Y\\nX, Y', 'Y[e] = 55\\nX, Y', \"Y['e'] = 55\\nX, Y\", \"Y['d']['b']['a'] = 11 # Изменится у обоих объектов\\nX, Y\", \"Y['d']['b']['a'] = 11 # Изменится у обоих объектов,\\n                      # т.к. была сделана неглубокая копия\\nX, Y\", \"Y['d']['b']['a'] = 11 # Изменится у обоих объектов,\\n                      # т.к. была сделана неглубокая копия\\nX, Y\", \"import copy\\n\\nY = {'d':{'c':3, 'b':{'a':1}}, 'e':5}\\nX = copy.deepcopy(Y)  # Создать глубокую любого объекта Y (даже собственного???):\\n                      # копировать все вложенные части\\nX, Y\", \"Y['e'] = 55  # Изменится только у одного объекта\\nX, Y\", \"Y['d']['b']['a'] = 11 # Опять изменится только у одного объекта\\nX, Y\", \"def func():\\n    print(xxxxxx)\\n    for xxxxxx in 'spam':\\n        print(xxxxxx)\\n        \\nfunc()\", \"def func():\\n    # print(xxxxxx)     # local variable 'xxxxxx' referenced before assignment\\n    for xxxxxx in 'spam':\\n        print(xxxxxx)\\n    print(xxxxxx)\\n        \\nfunc()\", 'L = [1, 2, 3]\\nM = L', 'L == M  # Одинаковые значения', 'L is M', \"def func():\\n    # print(xxxxxx)     # local variable 'xxxxxx' referenced before assignment\\n    for xxxxxx in 'spam':\\n        print(xxxxxx)\\n    print(xxxxxx) # Вывел 'm'\\n    print(dir())\\n        \\nfunc()\", \"def func():\\n    # print(xxxxxx)     # local variable 'xxxxxx' referenced before assignment\\n    for xxxxxx in 'spam':\\n        print(xxxxxx)\\n    print(xxxxxx) # Вывел 'm'\\n    print(dir())\\n        \\nfunc()\\nprint(dir())\", \"def func():\\n    # print(xxxxxx)     # local variable 'xxxxxx' referenced before assignment\\n    for xxxxxx in 'spam':\\n        print(xxxxxx)\\n    print(xxxxxx) # Вывел 'm'\\n    print(dir())\\n        \\nfunc()\\nprint(globals())\", \"def func():\\n    # print(xxxxxx)     # local variable 'xxxxxx' referenced before assignment\\n    for xxxxxx in 'spam':\\n        print(xxxxxx)\\n    print(xxxxxx) # Вывел 'm'\\n    print(dir())\\n        \\nfunc()\\nprint(locals())\", \"def func():\\n    # print(xxxxxx)     # local variable 'xxxxxx' referenced before assignment\\n    for xxxxxx in 'spam':\\n        print(xxxxxx)\\n    print(xxxxxx) # Вывел 'm'\\n    print(locals())\\n        \\nfunc()\", \"def func():\\n    # print(xxxxxx)     # local variable 'xxxxxx' referenced before assignment\\n    for xxxxxx in 'spam':\\n        print(xxxxxx)\\n    print(xxxxxx) # Вывел 'm'\\n    print(dir())  # Выдаст СПИСОК переменных области\\n        \\nfunc()\\nprint(globals())  # Выдаст СЛОВАРЬ глобальных переменных\", \"def func():\\n    # print(xxxxxx)     # local variable 'xxxxxx' referenced before assignment\\n    for xxxxxx in 'spam':\\n        print(xxxxxx)\\n    print(xxxxxx) # Вывел 'm'\\n    print(dir())\\n        \\nfunc()\\nprint(locals())  # Выдаст СЛОВАРЬ локальных переменных\"], '_oh': {4: 3, 5: 'spam', 6: 1.23, 9: 42, 10: 'shrubberry', 11: 3.1415, 12: [1, 2, 3], 14: (3, 3), 15: ([24, 3, 4], [24, 3, 4]), 17: [24, 3, 4], 18: [24, 3, 4], 21: ([24, 3, 4], [2, 3, 4]), 22: [24, 3, 4], 23: [2, 3, 4], 24: ({1: 3, 2: 2, 3: 3}, {1: 1, 2: 2, 3: 3}), 26: ({1: 3, 2: 2, 3: 3}, {1: 1, 2: 2, 3: 3}), 31: ({'c': 3}, {'c': 3}), 32: ({'d': {'a': 1, 'e': {'f': 2}}, 'c': 3}, {'d': {'a': 1, 'e': {'f': 2}}, 'c': 3}), 33: ({'d': {'c': 1, 'b': {'a': 2}}, 'e': 3}, {'d': {'c': 1, 'b': {'a': 2}}, 'e': 3}), 34: ({'d': {'c': 3, 'b': {'a': 11}}, 'e': 5}, {'d': {'c': 3, 'b': {'a': 11}}, 'e': 55}), 36: ({'d': {'c': 3, 'b': {'a': 11}}, 'e': 5}, {'d': {'c': 3, 'b': {'a': 11}}, 'e': 55}), 37: ({'d': {'c': 3, 'b': {'a': 11}}, 'e': 5}, {'d': {'c': 3, 'b': {'a': 11}}, 'e': 55}), 38: ({'d': {'c': 3, 'b': {'a': 11}}, 'e': 5}, {'d': {'c': 3, 'b': {'a': 11}}, 'e': 55}), 39: ({'d': {'c': 3, 'b': {'a': 11}}, 'e': 5}, {'d': {'c': 3, 'b': {'a': 11}}, 'e': 55}), 40: ({'d': {'c': 3, 'b': {'a': 1}}, 'e': 5}, {'d': {'c': 3, 'b': {'a': 11}}, 'e': 55}), 41: ({'d': {'c': 3, 'b': {'a': 1}}, 'e': 5}, {'d': {'c': 3, 'b': {'a': 11}}, 'e': 55}), 42: ({'d': {'c': 3, 'b': {'a': 1}}, 'e': 5}, {'d': {'c': 3, 'b': {'a': 11}}, 'e': 55}), 46: True, 47: True}, '_dh': [\"D:\\\\Irene\\\\Lutz's_Learning_Python_book5_Practice\"], 'In': ['', 'a = 3      # Переменная является целым числом ', \"a = 'spam' # Теперь она стала строкой\", 'a = 1.23   # А теперь стала числом с плавающей точкой float', 'a = 3      # Переменная является целым числом\\na', \"a = 'spam' # Теперь она стала строкой\\na\", 'a = 1.23   # А теперь стала числом с плавающей точкой float\\na', 'x = 42', \"x = 'shrubberry' # Освободить память, занимаемую объектом 42,\\n                 # если на него нет ссылок где-то ещё\", 'x = 42\\nx', \"x = 'shrubberry' # Освободить память, занимаемую объектом 42,\\n                 # если на него нет ссылок где-то ещё\\nx\", \"x = 3.1415       # Освободить память, занимаемую объектом 'shrubbery',\\n                 # если на него нет ссылок где-то ещё\\nx\", 'x = [1, 2, 3]    # Освободить память, занимаемую объектом 3.1415,\\n                 # если на него нет ссылок где-то ещё\\nx', 'a = 3\\nb = a  # a и b ссылаются на один объект 3', 'a = 3\\nb = a  # a и b ссылаются на один объект 3\\na, b', 'L1 = [2, 3, 4]\\nL2 = L1\\nL1, L2', 'L1[0] = 24     # Изменение на месте', 'L1[0] = 24     # Изменение на месте\\nL1             # L1 отличается', 'L2             # Но отличается и L2!', 'L1 = [2, 3, 4]', 'L2 = L1[:] # Создать копию L1 (или list(L1), copy.copy(L1), L1.copy())', 'L2 = L1[:] # Создать копию L1 (или list(L1), copy.copy(L1), L1.copy())\\nL1, L2', 'L1[0] = 24\\nL1', 'L2 # L2 не изменился', 'D1 = {1:1, 2:2, 3:3}\\nD2 = dict(D1)\\nD1, D2', 'D1[1] = 3', 'D1[1] = 3\\nD1, D2', 'import copy\\n\\nY = {{\\'a\\':1, {\\'b\\':2}}, \\'c\\':3}\\nX = copy(Y)  # Создать \"поверхностную\" копию верхнего уровня\\n             # любого объекта Y\\nX, Y', 'import copy\\n\\nY = {{\\'a\\':1, {\\'b\\':2} }, \\'c\\':3}\\nX = copy(Y)  # Создать \"поверхностную\" копию верхнего уровня\\n             # любого объекта Y\\nX, Y', 'import copy\\n\\nY = {{\\'a\\':1}, \\'c\\':3}\\nX = copy(Y)  # Создать \"поверхностную\" копию верхнего уровня\\n             # любого объекта Y\\nX, Y', 'import copy\\n\\nY = {\\'c\\':{\\'a\\':1, \\'b\\':{\\'b\\':2}}, \\'c\\':3}\\nX = copy(Y)  # Создать \"поверхностную\" копию верхнего уровня\\n             # любого объекта Y\\nX, Y', 'import copy\\n\\nY = {\\'c\\':{\\'a\\':1, \\'b\\':{\\'b\\':2}}, \\'c\\':3}\\nX = copy.copy(Y)  # Создать \"поверхностную\" копию верхнего уровня\\n             # любого объекта Y\\nX, Y', 'import copy\\n\\nY = {\\'d\\':{\\'a\\':1, \\'e\\':{\\'f\\':2}}, \\'c\\':3}\\nX = copy.copy(Y)  # Создать \"поверхностную\" копию верхнего уровня\\n                  # любого объекта Y\\nX, Y', 'import copy\\n\\nY = {\\'d\\':{\\'c\\':1, \\'b\\':{\\'a\\':2}}, \\'e\\':3}\\nX = copy.copy(Y)  # Создать \"поверхностную\" копию верхнего уровня\\n                  # любого объекта Y\\nX, Y', 'import copy\\n\\nY = {\\'d\\':{\\'c\\':3, \\'b\\':{\\'a\\':1}}, \\'e\\':5}\\nX = copy.copy(Y)  # Создать \"поверхностную\" копию верхнего уровня\\n                  # любого объекта Y\\nX, Y', 'Y[e] = 55\\nX, Y', \"Y['e'] = 55\\nX, Y\", \"Y['d']['b']['a'] = 11 # Изменится у обоих объектов\\nX, Y\", \"Y['d']['b']['a'] = 11 # Изменится у обоих объектов,\\n                      # т.к. была сделана неглубокая копия\\nX, Y\", \"Y['d']['b']['a'] = 11 # Изменится у обоих объектов,\\n                      # т.к. была сделана неглубокая копия\\nX, Y\", \"import copy\\n\\nY = {'d':{'c':3, 'b':{'a':1}}, 'e':5}\\nX = copy.deepcopy(Y)  # Создать глубокую любого объекта Y (даже собственного???):\\n                      # копировать все вложенные части\\nX, Y\", \"Y['e'] = 55  # Изменится только у одного объекта\\nX, Y\", \"Y['d']['b']['a'] = 11 # Опять изменится только у одного объекта\\nX, Y\", \"def func():\\n    print(xxxxxx)\\n    for xxxxxx in 'spam':\\n        print(xxxxxx)\\n        \\nfunc()\", \"def func():\\n    # print(xxxxxx)     # local variable 'xxxxxx' referenced before assignment\\n    for xxxxxx in 'spam':\\n        print(xxxxxx)\\n    print(xxxxxx)\\n        \\nfunc()\", 'L = [1, 2, 3]\\nM = L', 'L == M  # Одинаковые значения', 'L is M', \"def func():\\n    # print(xxxxxx)     # local variable 'xxxxxx' referenced before assignment\\n    for xxxxxx in 'spam':\\n        print(xxxxxx)\\n    print(xxxxxx) # Вывел 'm'\\n    print(dir())\\n        \\nfunc()\", \"def func():\\n    # print(xxxxxx)     # local variable 'xxxxxx' referenced before assignment\\n    for xxxxxx in 'spam':\\n        print(xxxxxx)\\n    print(xxxxxx) # Вывел 'm'\\n    print(dir())\\n        \\nfunc()\\nprint(dir())\", \"def func():\\n    # print(xxxxxx)     # local variable 'xxxxxx' referenced before assignment\\n    for xxxxxx in 'spam':\\n        print(xxxxxx)\\n    print(xxxxxx) # Вывел 'm'\\n    print(dir())\\n        \\nfunc()\\nprint(globals())\", \"def func():\\n    # print(xxxxxx)     # local variable 'xxxxxx' referenced before assignment\\n    for xxxxxx in 'spam':\\n        print(xxxxxx)\\n    print(xxxxxx) # Вывел 'm'\\n    print(dir())\\n        \\nfunc()\\nprint(locals())\", \"def func():\\n    # print(xxxxxx)     # local variable 'xxxxxx' referenced before assignment\\n    for xxxxxx in 'spam':\\n        print(xxxxxx)\\n    print(xxxxxx) # Вывел 'm'\\n    print(locals())\\n        \\nfunc()\", \"def func():\\n    # print(xxxxxx)     # local variable 'xxxxxx' referenced before assignment\\n    for xxxxxx in 'spam':\\n        print(xxxxxx)\\n    print(xxxxxx) # Вывел 'm'\\n    print(dir())  # Выдаст СПИСОК переменных области\\n        \\nfunc()\\nprint(globals())  # Выдаст СЛОВАРЬ глобальных переменных\", \"def func():\\n    # print(xxxxxx)     # local variable 'xxxxxx' referenced before assignment\\n    for xxxxxx in 'spam':\\n        print(xxxxxx)\\n    print(xxxxxx) # Вывел 'm'\\n    print(dir())\\n        \\nfunc()\\nprint(locals())  # Выдаст СЛОВАРЬ локальных переменных\"], 'Out': {4: 3, 5: 'spam', 6: 1.23, 9: 42, 10: 'shrubberry', 11: 3.1415, 12: [1, 2, 3], 14: (3, 3), 15: ([24, 3, 4], [24, 3, 4]), 17: [24, 3, 4], 18: [24, 3, 4], 21: ([24, 3, 4], [2, 3, 4]), 22: [24, 3, 4], 23: [2, 3, 4], 24: ({1: 3, 2: 2, 3: 3}, {1: 1, 2: 2, 3: 3}), 26: ({1: 3, 2: 2, 3: 3}, {1: 1, 2: 2, 3: 3}), 31: ({'c': 3}, {'c': 3}), 32: ({'d': {'a': 1, 'e': {'f': 2}}, 'c': 3}, {'d': {'a': 1, 'e': {'f': 2}}, 'c': 3}), 33: ({'d': {'c': 1, 'b': {'a': 2}}, 'e': 3}, {'d': {'c': 1, 'b': {'a': 2}}, 'e': 3}), 34: ({'d': {'c': 3, 'b': {'a': 11}}, 'e': 5}, {'d': {'c': 3, 'b': {'a': 11}}, 'e': 55}), 36: ({'d': {'c': 3, 'b': {'a': 11}}, 'e': 5}, {'d': {'c': 3, 'b': {'a': 11}}, 'e': 55}), 37: ({'d': {'c': 3, 'b': {'a': 11}}, 'e': 5}, {'d': {'c': 3, 'b': {'a': 11}}, 'e': 55}), 38: ({'d': {'c': 3, 'b': {'a': 11}}, 'e': 5}, {'d': {'c': 3, 'b': {'a': 11}}, 'e': 55}), 39: ({'d': {'c': 3, 'b': {'a': 11}}, 'e': 5}, {'d': {'c': 3, 'b': {'a': 11}}, 'e': 55}), 40: ({'d': {'c': 3, 'b': {'a': 1}}, 'e': 5}, {'d': {'c': 3, 'b': {'a': 11}}, 'e': 55}), 41: ({'d': {'c': 3, 'b': {'a': 1}}, 'e': 5}, {'d': {'c': 3, 'b': {'a': 11}}, 'e': 55}), 42: ({'d': {'c': 3, 'b': {'a': 1}}, 'e': 5}, {'d': {'c': 3, 'b': {'a': 11}}, 'e': 55}), 46: True, 47: True}, 'get_ipython': <bound method InteractiveShell.get_ipython of <ipykernel.zmqshell.ZMQInteractiveShell object at 0x00000000041F1400>>, 'exit': <IPython.core.autocall.ZMQExitAutocall object at 0x0000000004CFACC0>, 'quit': <IPython.core.autocall.ZMQExitAutocall object at 0x0000000004CFACC0>, '_': True, '__': True, '___': ({'d': {'c': 3, 'b': {'a': 1}}, 'e': 5}, {'d': {'c': 3, 'b': {'a': 11}}, 'e': 55}), '_i': \"def func():\\n    # print(xxxxxx)     # local variable 'xxxxxx' referenced before assignment\\n    for xxxxxx in 'spam':\\n        print(xxxxxx)\\n    print(xxxxxx) # Вывел 'm'\\n    print(dir())  # Выдаст СПИСОК переменных области\\n        \\nfunc()\\nprint(globals())  # Выдаст СЛОВАРЬ глобальных переменных\", '_ii': \"def func():\\n    # print(xxxxxx)     # local variable 'xxxxxx' referenced before assignment\\n    for xxxxxx in 'spam':\\n        print(xxxxxx)\\n    print(xxxxxx) # Вывел 'm'\\n    print(locals())\\n        \\nfunc()\", '_iii': \"def func():\\n    # print(xxxxxx)     # local variable 'xxxxxx' referenced before assignment\\n    for xxxxxx in 'spam':\\n        print(xxxxxx)\\n    print(xxxxxx) # Вывел 'm'\\n    print(dir())\\n        \\nfunc()\\nprint(locals())\", '_i1': 'a = 3      # Переменная является целым числом ', 'a': 3, '_i2': \"a = 'spam' # Теперь она стала строкой\", '_i3': 'a = 1.23   # А теперь стала числом с плавающей точкой float', '_i4': 'a = 3      # Переменная является целым числом\\na', '_4': 3, '_i5': \"a = 'spam' # Теперь она стала строкой\\na\", '_5': 'spam', '_i6': 'a = 1.23   # А теперь стала числом с плавающей точкой float\\na', '_6': 1.23, '_i7': 'x = 42', 'x': [1, 2, 3], '_i8': \"x = 'shrubberry' # Освободить память, занимаемую объектом 42,\\n                 # если на него нет ссылок где-то ещё\", '_i9': 'x = 42\\nx', '_9': 42, '_i10': \"x = 'shrubberry' # Освободить память, занимаемую объектом 42,\\n                 # если на него нет ссылок где-то ещё\\nx\", '_10': 'shrubberry', '_i11': \"x = 3.1415       # Освободить память, занимаемую объектом 'shrubbery',\\n                 # если на него нет ссылок где-то ещё\\nx\", '_11': 3.1415, '_i12': 'x = [1, 2, 3]    # Освободить память, занимаемую объектом 3.1415,\\n                 # если на него нет ссылок где-то ещё\\nx', '_12': [1, 2, 3], '_i13': 'a = 3\\nb = a  # a и b ссылаются на один объект 3', 'b': 3, '_i14': 'a = 3\\nb = a  # a и b ссылаются на один объект 3\\na, b', '_14': (3, 3), '_i15': 'L1 = [2, 3, 4]\\nL2 = L1\\nL1, L2', 'L1': [24, 3, 4], 'L2': [2, 3, 4], '_15': ([24, 3, 4], [24, 3, 4]), '_i16': 'L1[0] = 24     # Изменение на месте', '_i17': 'L1[0] = 24     # Изменение на месте\\nL1             # L1 отличается', '_17': [24, 3, 4], '_i18': 'L2             # Но отличается и L2!', '_18': [24, 3, 4], '_i19': 'L1 = [2, 3, 4]', '_i20': 'L2 = L1[:] # Создать копию L1 (или list(L1), copy.copy(L1), L1.copy())', '_i21': 'L2 = L1[:] # Создать копию L1 (или list(L1), copy.copy(L1), L1.copy())\\nL1, L2', '_21': ([24, 3, 4], [2, 3, 4]), '_i22': 'L1[0] = 24\\nL1', '_22': [24, 3, 4], '_i23': 'L2 # L2 не изменился', '_23': [2, 3, 4], '_i24': 'D1 = {1:1, 2:2, 3:3}\\nD2 = dict(D1)\\nD1, D2', 'D1': {1: 3, 2: 2, 3: 3}, 'D2': {1: 1, 2: 2, 3: 3}, '_24': ({1: 3, 2: 2, 3: 3}, {1: 1, 2: 2, 3: 3}), '_i25': 'D1[1] = 3', '_i26': 'D1[1] = 3\\nD1, D2', '_26': ({1: 3, 2: 2, 3: 3}, {1: 1, 2: 2, 3: 3}), '_i27': 'import copy\\n\\nY = {{\\'a\\':1, {\\'b\\':2}}, \\'c\\':3}\\nX = copy(Y)  # Создать \"поверхностную\" копию верхнего уровня\\n             # любого объекта Y\\nX, Y', '_i28': 'import copy\\n\\nY = {{\\'a\\':1, {\\'b\\':2} }, \\'c\\':3}\\nX = copy(Y)  # Создать \"поверхностную\" копию верхнего уровня\\n             # любого объекта Y\\nX, Y', '_i29': 'import copy\\n\\nY = {{\\'a\\':1}, \\'c\\':3}\\nX = copy(Y)  # Создать \"поверхностную\" копию верхнего уровня\\n             # любого объекта Y\\nX, Y', '_i30': 'import copy\\n\\nY = {\\'c\\':{\\'a\\':1, \\'b\\':{\\'b\\':2}}, \\'c\\':3}\\nX = copy(Y)  # Создать \"поверхностную\" копию верхнего уровня\\n             # любого объекта Y\\nX, Y', 'copy': <module 'copy' from 'C:\\\\Anaconda3\\\\lib\\\\copy.py'>, 'Y': {'d': {'c': 3, 'b': {'a': 11}}, 'e': 55}, '_i31': 'import copy\\n\\nY = {\\'c\\':{\\'a\\':1, \\'b\\':{\\'b\\':2}}, \\'c\\':3}\\nX = copy.copy(Y)  # Создать \"поверхностную\" копию верхнего уровня\\n             # любого объекта Y\\nX, Y', 'X': {'d': {'c': 3, 'b': {'a': 1}}, 'e': 5}, '_31': ({'c': 3}, {'c': 3}), '_i32': 'import copy\\n\\nY = {\\'d\\':{\\'a\\':1, \\'e\\':{\\'f\\':2}}, \\'c\\':3}\\nX = copy.copy(Y)  # Создать \"поверхностную\" копию верхнего уровня\\n                  # любого объекта Y\\nX, Y', '_32': ({'d': {'a': 1, 'e': {'f': 2}}, 'c': 3}, {'d': {'a': 1, 'e': {'f': 2}}, 'c': 3}), '_i33': 'import copy\\n\\nY = {\\'d\\':{\\'c\\':1, \\'b\\':{\\'a\\':2}}, \\'e\\':3}\\nX = copy.copy(Y)  # Создать \"поверхностную\" копию верхнего уровня\\n                  # любого объекта Y\\nX, Y', '_33': ({'d': {'c': 1, 'b': {'a': 2}}, 'e': 3}, {'d': {'c': 1, 'b': {'a': 2}}, 'e': 3}), '_i34': 'import copy\\n\\nY = {\\'d\\':{\\'c\\':3, \\'b\\':{\\'a\\':1}}, \\'e\\':5}\\nX = copy.copy(Y)  # Создать \"поверхностную\" копию верхнего уровня\\n                  # любого объекта Y\\nX, Y', '_34': ({'d': {'c': 3, 'b': {'a': 11}}, 'e': 5}, {'d': {'c': 3, 'b': {'a': 11}}, 'e': 55}), '_i35': 'Y[e] = 55\\nX, Y', '_i36': \"Y['e'] = 55\\nX, Y\", '_36': ({'d': {'c': 3, 'b': {'a': 11}}, 'e': 5}, {'d': {'c': 3, 'b': {'a': 11}}, 'e': 55}), '_i37': \"Y['d']['b']['a'] = 11 # Изменится у обоих объектов\\nX, Y\", '_37': ({'d': {'c': 3, 'b': {'a': 11}}, 'e': 5}, {'d': {'c': 3, 'b': {'a': 11}}, 'e': 55}), '_i38': \"Y['d']['b']['a'] = 11 # Изменится у обоих объектов,\\n                      # т.к. была сделана неглубокая копия\\nX, Y\", '_38': ({'d': {'c': 3, 'b': {'a': 11}}, 'e': 5}, {'d': {'c': 3, 'b': {'a': 11}}, 'e': 55}), '_i39': \"Y['d']['b']['a'] = 11 # Изменится у обоих объектов,\\n                      # т.к. была сделана неглубокая копия\\nX, Y\", '_39': ({'d': {'c': 3, 'b': {'a': 11}}, 'e': 5}, {'d': {'c': 3, 'b': {'a': 11}}, 'e': 55}), '_i40': \"import copy\\n\\nY = {'d':{'c':3, 'b':{'a':1}}, 'e':5}\\nX = copy.deepcopy(Y)  # Создать глубокую любого объекта Y (даже собственного???):\\n                      # копировать все вложенные части\\nX, Y\", '_40': ({'d': {'c': 3, 'b': {'a': 1}}, 'e': 5}, {'d': {'c': 3, 'b': {'a': 11}}, 'e': 55}), '_i41': \"Y['e'] = 55  # Изменится только у одного объекта\\nX, Y\", '_41': ({'d': {'c': 3, 'b': {'a': 1}}, 'e': 5}, {'d': {'c': 3, 'b': {'a': 11}}, 'e': 55}), '_i42': \"Y['d']['b']['a'] = 11 # Опять изменится только у одного объекта\\nX, Y\", '_42': ({'d': {'c': 3, 'b': {'a': 1}}, 'e': 5}, {'d': {'c': 3, 'b': {'a': 11}}, 'e': 55}), '_i43': \"def func():\\n    print(xxxxxx)\\n    for xxxxxx in 'spam':\\n        print(xxxxxx)\\n        \\nfunc()\", 'func': <function func at 0x0000000006E2F6A8>, '_i44': \"def func():\\n    # print(xxxxxx)     # local variable 'xxxxxx' referenced before assignment\\n    for xxxxxx in 'spam':\\n        print(xxxxxx)\\n    print(xxxxxx)\\n        \\nfunc()\", '_i45': 'L = [1, 2, 3]\\nM = L', 'L': [1, 2, 3], 'M': [1, 2, 3], '_i46': 'L == M  # Одинаковые значения', '_46': True, '_i47': 'L is M', '_47': True, '_i48': \"def func():\\n    # print(xxxxxx)     # local variable 'xxxxxx' referenced before assignment\\n    for xxxxxx in 'spam':\\n        print(xxxxxx)\\n    print(xxxxxx) # Вывел 'm'\\n    print(dir())\\n        \\nfunc()\", '_i49': \"def func():\\n    # print(xxxxxx)     # local variable 'xxxxxx' referenced before assignment\\n    for xxxxxx in 'spam':\\n        print(xxxxxx)\\n    print(xxxxxx) # Вывел 'm'\\n    print(dir())\\n        \\nfunc()\\nprint(dir())\", '_i50': \"def func():\\n    # print(xxxxxx)     # local variable 'xxxxxx' referenced before assignment\\n    for xxxxxx in 'spam':\\n        print(xxxxxx)\\n    print(xxxxxx) # Вывел 'm'\\n    print(dir())\\n        \\nfunc()\\nprint(globals())\", '_i51': \"def func():\\n    # print(xxxxxx)     # local variable 'xxxxxx' referenced before assignment\\n    for xxxxxx in 'spam':\\n        print(xxxxxx)\\n    print(xxxxxx) # Вывел 'm'\\n    print(dir())\\n        \\nfunc()\\nprint(locals())\", '_i52': \"def func():\\n    # print(xxxxxx)     # local variable 'xxxxxx' referenced before assignment\\n    for xxxxxx in 'spam':\\n        print(xxxxxx)\\n    print(xxxxxx) # Вывел 'm'\\n    print(locals())\\n        \\nfunc()\", '_i53': \"def func():\\n    # print(xxxxxx)     # local variable 'xxxxxx' referenced before assignment\\n    for xxxxxx in 'spam':\\n        print(xxxxxx)\\n    print(xxxxxx) # Вывел 'm'\\n    print(dir())  # Выдаст СПИСОК переменных области\\n        \\nfunc()\\nprint(globals())  # Выдаст СЛОВАРЬ глобальных переменных\", '_i54': \"def func():\\n    # print(xxxxxx)     # local variable 'xxxxxx' referenced before assignment\\n    for xxxxxx in 'spam':\\n        print(xxxxxx)\\n    print(xxxxxx) # Вывел 'm'\\n    print(dir())\\n        \\nfunc()\\nprint(locals())  # Выдаст СЛОВАРЬ локальных переменных\"}\n"
     ]
    }
   ],
   "source": [
    "def func():\n",
    "    # print(xxxxxx)     # local variable 'xxxxxx' referenced before assignment\n",
    "    for xxxxxx in 'spam':\n",
    "        print(xxxxxx)\n",
    "    print(xxxxxx) # Вывел 'm'\n",
    "    print(dir())\n",
    "        \n",
    "func()\n",
    "print(locals())  # Выдаст СЛОВАРЬ локальных переменных"
   ]
  },
  {
   "cell_type": "code",
   "execution_count": 52,
   "metadata": {},
   "outputs": [
    {
     "name": "stdout",
     "output_type": "stream",
     "text": [
      "s\n",
      "p\n",
      "a\n",
      "m\n",
      "m\n",
      "{'xxxxxx': 'm'}\n"
     ]
    }
   ],
   "source": [
    "def func():\n",
    "    # print(xxxxxx)     # local variable 'xxxxxx' referenced before assignment\n",
    "    for xxxxxx in 'spam':\n",
    "        print(xxxxxx)\n",
    "    print(xxxxxx) # Вывел 'm'\n",
    "    print(locals())  # Выдаст СЛОВАРЬ локальных переменных\n",
    "        \n",
    "func()"
   ]
  },
  {
   "cell_type": "code",
   "execution_count": 55,
   "metadata": {},
   "outputs": [
    {
     "name": "stdout",
     "output_type": "stream",
     "text": [
      "s\n",
      "p\n",
      "a\n",
      "m\n",
      "m\n",
      "{'__name__': '__main__', '__doc__': 'Automatically created module for IPython interactive environment', '__package__': None, '__loader__': None, '__spec__': None, '__builtin__': <module 'builtins' (built-in)>, '__builtins__': <module 'builtins' (built-in)>, '_ih': ['', 'a = 3      # Переменная является целым числом ', \"a = 'spam' # Теперь она стала строкой\", 'a = 1.23   # А теперь стала числом с плавающей точкой float', 'a = 3      # Переменная является целым числом\\na', \"a = 'spam' # Теперь она стала строкой\\na\", 'a = 1.23   # А теперь стала числом с плавающей точкой float\\na', 'x = 42', \"x = 'shrubberry' # Освободить память, занимаемую объектом 42,\\n                 # если на него нет ссылок где-то ещё\", 'x = 42\\nx', \"x = 'shrubberry' # Освободить память, занимаемую объектом 42,\\n                 # если на него нет ссылок где-то ещё\\nx\", \"x = 3.1415       # Освободить память, занимаемую объектом 'shrubbery',\\n                 # если на него нет ссылок где-то ещё\\nx\", 'x = [1, 2, 3]    # Освободить память, занимаемую объектом 3.1415,\\n                 # если на него нет ссылок где-то ещё\\nx', 'a = 3\\nb = a  # a и b ссылаются на один объект 3', 'a = 3\\nb = a  # a и b ссылаются на один объект 3\\na, b', 'L1 = [2, 3, 4]\\nL2 = L1\\nL1, L2', 'L1[0] = 24     # Изменение на месте', 'L1[0] = 24     # Изменение на месте\\nL1             # L1 отличается', 'L2             # Но отличается и L2!', 'L1 = [2, 3, 4]', 'L2 = L1[:] # Создать копию L1 (или list(L1), copy.copy(L1), L1.copy())', 'L2 = L1[:] # Создать копию L1 (или list(L1), copy.copy(L1), L1.copy())\\nL1, L2', 'L1[0] = 24\\nL1', 'L2 # L2 не изменился', 'D1 = {1:1, 2:2, 3:3}\\nD2 = dict(D1)\\nD1, D2', 'D1[1] = 3', 'D1[1] = 3\\nD1, D2', 'import copy\\n\\nY = {{\\'a\\':1, {\\'b\\':2}}, \\'c\\':3}\\nX = copy(Y)  # Создать \"поверхностную\" копию верхнего уровня\\n             # любого объекта Y\\nX, Y', 'import copy\\n\\nY = {{\\'a\\':1, {\\'b\\':2} }, \\'c\\':3}\\nX = copy(Y)  # Создать \"поверхностную\" копию верхнего уровня\\n             # любого объекта Y\\nX, Y', 'import copy\\n\\nY = {{\\'a\\':1}, \\'c\\':3}\\nX = copy(Y)  # Создать \"поверхностную\" копию верхнего уровня\\n             # любого объекта Y\\nX, Y', 'import copy\\n\\nY = {\\'c\\':{\\'a\\':1, \\'b\\':{\\'b\\':2}}, \\'c\\':3}\\nX = copy(Y)  # Создать \"поверхностную\" копию верхнего уровня\\n             # любого объекта Y\\nX, Y', 'import copy\\n\\nY = {\\'c\\':{\\'a\\':1, \\'b\\':{\\'b\\':2}}, \\'c\\':3}\\nX = copy.copy(Y)  # Создать \"поверхностную\" копию верхнего уровня\\n             # любого объекта Y\\nX, Y', 'import copy\\n\\nY = {\\'d\\':{\\'a\\':1, \\'e\\':{\\'f\\':2}}, \\'c\\':3}\\nX = copy.copy(Y)  # Создать \"поверхностную\" копию верхнего уровня\\n                  # любого объекта Y\\nX, Y', 'import copy\\n\\nY = {\\'d\\':{\\'c\\':1, \\'b\\':{\\'a\\':2}}, \\'e\\':3}\\nX = copy.copy(Y)  # Создать \"поверхностную\" копию верхнего уровня\\n                  # любого объекта Y\\nX, Y', 'import copy\\n\\nY = {\\'d\\':{\\'c\\':3, \\'b\\':{\\'a\\':1}}, \\'e\\':5}\\nX = copy.copy(Y)  # Создать \"поверхностную\" копию верхнего уровня\\n                  # любого объекта Y\\nX, Y', 'Y[e] = 55\\nX, Y', \"Y['e'] = 55\\nX, Y\", \"Y['d']['b']['a'] = 11 # Изменится у обоих объектов\\nX, Y\", \"Y['d']['b']['a'] = 11 # Изменится у обоих объектов,\\n                      # т.к. была сделана неглубокая копия\\nX, Y\", \"Y['d']['b']['a'] = 11 # Изменится у обоих объектов,\\n                      # т.к. была сделана неглубокая копия\\nX, Y\", \"import copy\\n\\nY = {'d':{'c':3, 'b':{'a':1}}, 'e':5}\\nX = copy.deepcopy(Y)  # Создать глубокую любого объекта Y (даже собственного???):\\n                      # копировать все вложенные части\\nX, Y\", \"Y['e'] = 55  # Изменится только у одного объекта\\nX, Y\", \"Y['d']['b']['a'] = 11 # Опять изменится только у одного объекта\\nX, Y\", \"def func():\\n    print(xxxxxx)\\n    for xxxxxx in 'spam':\\n        print(xxxxxx)\\n        \\nfunc()\", \"def func():\\n    # print(xxxxxx)     # local variable 'xxxxxx' referenced before assignment\\n    for xxxxxx in 'spam':\\n        print(xxxxxx)\\n    print(xxxxxx)\\n        \\nfunc()\", 'L = [1, 2, 3]\\nM = L', 'L == M  # Одинаковые значения', 'L is M', \"def func():\\n    # print(xxxxxx)     # local variable 'xxxxxx' referenced before assignment\\n    for xxxxxx in 'spam':\\n        print(xxxxxx)\\n    print(xxxxxx) # Вывел 'm'\\n    print(dir())\\n        \\nfunc()\", \"def func():\\n    # print(xxxxxx)     # local variable 'xxxxxx' referenced before assignment\\n    for xxxxxx in 'spam':\\n        print(xxxxxx)\\n    print(xxxxxx) # Вывел 'm'\\n    print(dir())\\n        \\nfunc()\\nprint(dir())\", \"def func():\\n    # print(xxxxxx)     # local variable 'xxxxxx' referenced before assignment\\n    for xxxxxx in 'spam':\\n        print(xxxxxx)\\n    print(xxxxxx) # Вывел 'm'\\n    print(dir())\\n        \\nfunc()\\nprint(globals())\", \"def func():\\n    # print(xxxxxx)     # local variable 'xxxxxx' referenced before assignment\\n    for xxxxxx in 'spam':\\n        print(xxxxxx)\\n    print(xxxxxx) # Вывел 'm'\\n    print(dir())\\n        \\nfunc()\\nprint(locals())\", \"def func():\\n    # print(xxxxxx)     # local variable 'xxxxxx' referenced before assignment\\n    for xxxxxx in 'spam':\\n        print(xxxxxx)\\n    print(xxxxxx) # Вывел 'm'\\n    print(locals())\\n        \\nfunc()\", \"def func():\\n    # print(xxxxxx)     # local variable 'xxxxxx' referenced before assignment\\n    for xxxxxx in 'spam':\\n        print(xxxxxx)\\n    print(xxxxxx) # Вывел 'm'\\n    print(dir())  # Выдаст СПИСОК переменных области\\n        \\nfunc()\\nprint(globals())  # Выдаст СЛОВАРЬ глобальных переменных\", \"def func():\\n    # print(xxxxxx)     # local variable 'xxxxxx' referenced before assignment\\n    for xxxxxx in 'spam':\\n        print(xxxxxx)\\n    print(xxxxxx) # Вывел 'm'\\n    print(dir())\\n        \\nfunc()\\nprint(locals())  # Выдаст СЛОВАРЬ локальных переменных\", \"def func():\\n    # print(xxxxxx)     # local variable 'xxxxxx' referenced before assignment\\n    for xxxxxx in 'spam':\\n        print(xxxxxx)\\n    print(xxxxxx) # Вывел 'm'\\n    print(globals())  # Выдаст СЛОВАРЬ локальных переменных\\n        \\nfunc()\"], '_oh': {4: 3, 5: 'spam', 6: 1.23, 9: 42, 10: 'shrubberry', 11: 3.1415, 12: [1, 2, 3], 14: (3, 3), 15: ([24, 3, 4], [24, 3, 4]), 17: [24, 3, 4], 18: [24, 3, 4], 21: ([24, 3, 4], [2, 3, 4]), 22: [24, 3, 4], 23: [2, 3, 4], 24: ({1: 3, 2: 2, 3: 3}, {1: 1, 2: 2, 3: 3}), 26: ({1: 3, 2: 2, 3: 3}, {1: 1, 2: 2, 3: 3}), 31: ({'c': 3}, {'c': 3}), 32: ({'d': {'a': 1, 'e': {'f': 2}}, 'c': 3}, {'d': {'a': 1, 'e': {'f': 2}}, 'c': 3}), 33: ({'d': {'c': 1, 'b': {'a': 2}}, 'e': 3}, {'d': {'c': 1, 'b': {'a': 2}}, 'e': 3}), 34: ({'d': {'c': 3, 'b': {'a': 11}}, 'e': 5}, {'d': {'c': 3, 'b': {'a': 11}}, 'e': 55}), 36: ({'d': {'c': 3, 'b': {'a': 11}}, 'e': 5}, {'d': {'c': 3, 'b': {'a': 11}}, 'e': 55}), 37: ({'d': {'c': 3, 'b': {'a': 11}}, 'e': 5}, {'d': {'c': 3, 'b': {'a': 11}}, 'e': 55}), 38: ({'d': {'c': 3, 'b': {'a': 11}}, 'e': 5}, {'d': {'c': 3, 'b': {'a': 11}}, 'e': 55}), 39: ({'d': {'c': 3, 'b': {'a': 11}}, 'e': 5}, {'d': {'c': 3, 'b': {'a': 11}}, 'e': 55}), 40: ({'d': {'c': 3, 'b': {'a': 1}}, 'e': 5}, {'d': {'c': 3, 'b': {'a': 11}}, 'e': 55}), 41: ({'d': {'c': 3, 'b': {'a': 1}}, 'e': 5}, {'d': {'c': 3, 'b': {'a': 11}}, 'e': 55}), 42: ({'d': {'c': 3, 'b': {'a': 1}}, 'e': 5}, {'d': {'c': 3, 'b': {'a': 11}}, 'e': 55}), 46: True, 47: True}, '_dh': [\"D:\\\\Irene\\\\Lutz's_Learning_Python_book5_Practice\"], 'In': ['', 'a = 3      # Переменная является целым числом ', \"a = 'spam' # Теперь она стала строкой\", 'a = 1.23   # А теперь стала числом с плавающей точкой float', 'a = 3      # Переменная является целым числом\\na', \"a = 'spam' # Теперь она стала строкой\\na\", 'a = 1.23   # А теперь стала числом с плавающей точкой float\\na', 'x = 42', \"x = 'shrubberry' # Освободить память, занимаемую объектом 42,\\n                 # если на него нет ссылок где-то ещё\", 'x = 42\\nx', \"x = 'shrubberry' # Освободить память, занимаемую объектом 42,\\n                 # если на него нет ссылок где-то ещё\\nx\", \"x = 3.1415       # Освободить память, занимаемую объектом 'shrubbery',\\n                 # если на него нет ссылок где-то ещё\\nx\", 'x = [1, 2, 3]    # Освободить память, занимаемую объектом 3.1415,\\n                 # если на него нет ссылок где-то ещё\\nx', 'a = 3\\nb = a  # a и b ссылаются на один объект 3', 'a = 3\\nb = a  # a и b ссылаются на один объект 3\\na, b', 'L1 = [2, 3, 4]\\nL2 = L1\\nL1, L2', 'L1[0] = 24     # Изменение на месте', 'L1[0] = 24     # Изменение на месте\\nL1             # L1 отличается', 'L2             # Но отличается и L2!', 'L1 = [2, 3, 4]', 'L2 = L1[:] # Создать копию L1 (или list(L1), copy.copy(L1), L1.copy())', 'L2 = L1[:] # Создать копию L1 (или list(L1), copy.copy(L1), L1.copy())\\nL1, L2', 'L1[0] = 24\\nL1', 'L2 # L2 не изменился', 'D1 = {1:1, 2:2, 3:3}\\nD2 = dict(D1)\\nD1, D2', 'D1[1] = 3', 'D1[1] = 3\\nD1, D2', 'import copy\\n\\nY = {{\\'a\\':1, {\\'b\\':2}}, \\'c\\':3}\\nX = copy(Y)  # Создать \"поверхностную\" копию верхнего уровня\\n             # любого объекта Y\\nX, Y', 'import copy\\n\\nY = {{\\'a\\':1, {\\'b\\':2} }, \\'c\\':3}\\nX = copy(Y)  # Создать \"поверхностную\" копию верхнего уровня\\n             # любого объекта Y\\nX, Y', 'import copy\\n\\nY = {{\\'a\\':1}, \\'c\\':3}\\nX = copy(Y)  # Создать \"поверхностную\" копию верхнего уровня\\n             # любого объекта Y\\nX, Y', 'import copy\\n\\nY = {\\'c\\':{\\'a\\':1, \\'b\\':{\\'b\\':2}}, \\'c\\':3}\\nX = copy(Y)  # Создать \"поверхностную\" копию верхнего уровня\\n             # любого объекта Y\\nX, Y', 'import copy\\n\\nY = {\\'c\\':{\\'a\\':1, \\'b\\':{\\'b\\':2}}, \\'c\\':3}\\nX = copy.copy(Y)  # Создать \"поверхностную\" копию верхнего уровня\\n             # любого объекта Y\\nX, Y', 'import copy\\n\\nY = {\\'d\\':{\\'a\\':1, \\'e\\':{\\'f\\':2}}, \\'c\\':3}\\nX = copy.copy(Y)  # Создать \"поверхностную\" копию верхнего уровня\\n                  # любого объекта Y\\nX, Y', 'import copy\\n\\nY = {\\'d\\':{\\'c\\':1, \\'b\\':{\\'a\\':2}}, \\'e\\':3}\\nX = copy.copy(Y)  # Создать \"поверхностную\" копию верхнего уровня\\n                  # любого объекта Y\\nX, Y', 'import copy\\n\\nY = {\\'d\\':{\\'c\\':3, \\'b\\':{\\'a\\':1}}, \\'e\\':5}\\nX = copy.copy(Y)  # Создать \"поверхностную\" копию верхнего уровня\\n                  # любого объекта Y\\nX, Y', 'Y[e] = 55\\nX, Y', \"Y['e'] = 55\\nX, Y\", \"Y['d']['b']['a'] = 11 # Изменится у обоих объектов\\nX, Y\", \"Y['d']['b']['a'] = 11 # Изменится у обоих объектов,\\n                      # т.к. была сделана неглубокая копия\\nX, Y\", \"Y['d']['b']['a'] = 11 # Изменится у обоих объектов,\\n                      # т.к. была сделана неглубокая копия\\nX, Y\", \"import copy\\n\\nY = {'d':{'c':3, 'b':{'a':1}}, 'e':5}\\nX = copy.deepcopy(Y)  # Создать глубокую любого объекта Y (даже собственного???):\\n                      # копировать все вложенные части\\nX, Y\", \"Y['e'] = 55  # Изменится только у одного объекта\\nX, Y\", \"Y['d']['b']['a'] = 11 # Опять изменится только у одного объекта\\nX, Y\", \"def func():\\n    print(xxxxxx)\\n    for xxxxxx in 'spam':\\n        print(xxxxxx)\\n        \\nfunc()\", \"def func():\\n    # print(xxxxxx)     # local variable 'xxxxxx' referenced before assignment\\n    for xxxxxx in 'spam':\\n        print(xxxxxx)\\n    print(xxxxxx)\\n        \\nfunc()\", 'L = [1, 2, 3]\\nM = L', 'L == M  # Одинаковые значения', 'L is M', \"def func():\\n    # print(xxxxxx)     # local variable 'xxxxxx' referenced before assignment\\n    for xxxxxx in 'spam':\\n        print(xxxxxx)\\n    print(xxxxxx) # Вывел 'm'\\n    print(dir())\\n        \\nfunc()\", \"def func():\\n    # print(xxxxxx)     # local variable 'xxxxxx' referenced before assignment\\n    for xxxxxx in 'spam':\\n        print(xxxxxx)\\n    print(xxxxxx) # Вывел 'm'\\n    print(dir())\\n        \\nfunc()\\nprint(dir())\", \"def func():\\n    # print(xxxxxx)     # local variable 'xxxxxx' referenced before assignment\\n    for xxxxxx in 'spam':\\n        print(xxxxxx)\\n    print(xxxxxx) # Вывел 'm'\\n    print(dir())\\n        \\nfunc()\\nprint(globals())\", \"def func():\\n    # print(xxxxxx)     # local variable 'xxxxxx' referenced before assignment\\n    for xxxxxx in 'spam':\\n        print(xxxxxx)\\n    print(xxxxxx) # Вывел 'm'\\n    print(dir())\\n        \\nfunc()\\nprint(locals())\", \"def func():\\n    # print(xxxxxx)     # local variable 'xxxxxx' referenced before assignment\\n    for xxxxxx in 'spam':\\n        print(xxxxxx)\\n    print(xxxxxx) # Вывел 'm'\\n    print(locals())\\n        \\nfunc()\", \"def func():\\n    # print(xxxxxx)     # local variable 'xxxxxx' referenced before assignment\\n    for xxxxxx in 'spam':\\n        print(xxxxxx)\\n    print(xxxxxx) # Вывел 'm'\\n    print(dir())  # Выдаст СПИСОК переменных области\\n        \\nfunc()\\nprint(globals())  # Выдаст СЛОВАРЬ глобальных переменных\", \"def func():\\n    # print(xxxxxx)     # local variable 'xxxxxx' referenced before assignment\\n    for xxxxxx in 'spam':\\n        print(xxxxxx)\\n    print(xxxxxx) # Вывел 'm'\\n    print(dir())\\n        \\nfunc()\\nprint(locals())  # Выдаст СЛОВАРЬ локальных переменных\", \"def func():\\n    # print(xxxxxx)     # local variable 'xxxxxx' referenced before assignment\\n    for xxxxxx in 'spam':\\n        print(xxxxxx)\\n    print(xxxxxx) # Вывел 'm'\\n    print(globals())  # Выдаст СЛОВАРЬ локальных переменных\\n        \\nfunc()\"], 'Out': {4: 3, 5: 'spam', 6: 1.23, 9: 42, 10: 'shrubberry', 11: 3.1415, 12: [1, 2, 3], 14: (3, 3), 15: ([24, 3, 4], [24, 3, 4]), 17: [24, 3, 4], 18: [24, 3, 4], 21: ([24, 3, 4], [2, 3, 4]), 22: [24, 3, 4], 23: [2, 3, 4], 24: ({1: 3, 2: 2, 3: 3}, {1: 1, 2: 2, 3: 3}), 26: ({1: 3, 2: 2, 3: 3}, {1: 1, 2: 2, 3: 3}), 31: ({'c': 3}, {'c': 3}), 32: ({'d': {'a': 1, 'e': {'f': 2}}, 'c': 3}, {'d': {'a': 1, 'e': {'f': 2}}, 'c': 3}), 33: ({'d': {'c': 1, 'b': {'a': 2}}, 'e': 3}, {'d': {'c': 1, 'b': {'a': 2}}, 'e': 3}), 34: ({'d': {'c': 3, 'b': {'a': 11}}, 'e': 5}, {'d': {'c': 3, 'b': {'a': 11}}, 'e': 55}), 36: ({'d': {'c': 3, 'b': {'a': 11}}, 'e': 5}, {'d': {'c': 3, 'b': {'a': 11}}, 'e': 55}), 37: ({'d': {'c': 3, 'b': {'a': 11}}, 'e': 5}, {'d': {'c': 3, 'b': {'a': 11}}, 'e': 55}), 38: ({'d': {'c': 3, 'b': {'a': 11}}, 'e': 5}, {'d': {'c': 3, 'b': {'a': 11}}, 'e': 55}), 39: ({'d': {'c': 3, 'b': {'a': 11}}, 'e': 5}, {'d': {'c': 3, 'b': {'a': 11}}, 'e': 55}), 40: ({'d': {'c': 3, 'b': {'a': 1}}, 'e': 5}, {'d': {'c': 3, 'b': {'a': 11}}, 'e': 55}), 41: ({'d': {'c': 3, 'b': {'a': 1}}, 'e': 5}, {'d': {'c': 3, 'b': {'a': 11}}, 'e': 55}), 42: ({'d': {'c': 3, 'b': {'a': 1}}, 'e': 5}, {'d': {'c': 3, 'b': {'a': 11}}, 'e': 55}), 46: True, 47: True}, 'get_ipython': <bound method InteractiveShell.get_ipython of <ipykernel.zmqshell.ZMQInteractiveShell object at 0x00000000041F1400>>, 'exit': <IPython.core.autocall.ZMQExitAutocall object at 0x0000000004CFACC0>, 'quit': <IPython.core.autocall.ZMQExitAutocall object at 0x0000000004CFACC0>, '_': True, '__': True, '___': ({'d': {'c': 3, 'b': {'a': 1}}, 'e': 5}, {'d': {'c': 3, 'b': {'a': 11}}, 'e': 55}), '_i': \"def func():\\n    # print(xxxxxx)     # local variable 'xxxxxx' referenced before assignment\\n    for xxxxxx in 'spam':\\n        print(xxxxxx)\\n    print(xxxxxx) # Вывел 'm'\\n    print(dir())\\n        \\nfunc()\\nprint(locals())  # Выдаст СЛОВАРЬ локальных переменных\", '_ii': \"def func():\\n    # print(xxxxxx)     # local variable 'xxxxxx' referenced before assignment\\n    for xxxxxx in 'spam':\\n        print(xxxxxx)\\n    print(xxxxxx) # Вывел 'm'\\n    print(dir())  # Выдаст СПИСОК переменных области\\n        \\nfunc()\\nprint(globals())  # Выдаст СЛОВАРЬ глобальных переменных\", '_iii': \"def func():\\n    # print(xxxxxx)     # local variable 'xxxxxx' referenced before assignment\\n    for xxxxxx in 'spam':\\n        print(xxxxxx)\\n    print(xxxxxx) # Вывел 'm'\\n    print(locals())\\n        \\nfunc()\", '_i1': 'a = 3      # Переменная является целым числом ', 'a': 3, '_i2': \"a = 'spam' # Теперь она стала строкой\", '_i3': 'a = 1.23   # А теперь стала числом с плавающей точкой float', '_i4': 'a = 3      # Переменная является целым числом\\na', '_4': 3, '_i5': \"a = 'spam' # Теперь она стала строкой\\na\", '_5': 'spam', '_i6': 'a = 1.23   # А теперь стала числом с плавающей точкой float\\na', '_6': 1.23, '_i7': 'x = 42', 'x': [1, 2, 3], '_i8': \"x = 'shrubberry' # Освободить память, занимаемую объектом 42,\\n                 # если на него нет ссылок где-то ещё\", '_i9': 'x = 42\\nx', '_9': 42, '_i10': \"x = 'shrubberry' # Освободить память, занимаемую объектом 42,\\n                 # если на него нет ссылок где-то ещё\\nx\", '_10': 'shrubberry', '_i11': \"x = 3.1415       # Освободить память, занимаемую объектом 'shrubbery',\\n                 # если на него нет ссылок где-то ещё\\nx\", '_11': 3.1415, '_i12': 'x = [1, 2, 3]    # Освободить память, занимаемую объектом 3.1415,\\n                 # если на него нет ссылок где-то ещё\\nx', '_12': [1, 2, 3], '_i13': 'a = 3\\nb = a  # a и b ссылаются на один объект 3', 'b': 3, '_i14': 'a = 3\\nb = a  # a и b ссылаются на один объект 3\\na, b', '_14': (3, 3), '_i15': 'L1 = [2, 3, 4]\\nL2 = L1\\nL1, L2', 'L1': [24, 3, 4], 'L2': [2, 3, 4], '_15': ([24, 3, 4], [24, 3, 4]), '_i16': 'L1[0] = 24     # Изменение на месте', '_i17': 'L1[0] = 24     # Изменение на месте\\nL1             # L1 отличается', '_17': [24, 3, 4], '_i18': 'L2             # Но отличается и L2!', '_18': [24, 3, 4], '_i19': 'L1 = [2, 3, 4]', '_i20': 'L2 = L1[:] # Создать копию L1 (или list(L1), copy.copy(L1), L1.copy())', '_i21': 'L2 = L1[:] # Создать копию L1 (или list(L1), copy.copy(L1), L1.copy())\\nL1, L2', '_21': ([24, 3, 4], [2, 3, 4]), '_i22': 'L1[0] = 24\\nL1', '_22': [24, 3, 4], '_i23': 'L2 # L2 не изменился', '_23': [2, 3, 4], '_i24': 'D1 = {1:1, 2:2, 3:3}\\nD2 = dict(D1)\\nD1, D2', 'D1': {1: 3, 2: 2, 3: 3}, 'D2': {1: 1, 2: 2, 3: 3}, '_24': ({1: 3, 2: 2, 3: 3}, {1: 1, 2: 2, 3: 3}), '_i25': 'D1[1] = 3', '_i26': 'D1[1] = 3\\nD1, D2', '_26': ({1: 3, 2: 2, 3: 3}, {1: 1, 2: 2, 3: 3}), '_i27': 'import copy\\n\\nY = {{\\'a\\':1, {\\'b\\':2}}, \\'c\\':3}\\nX = copy(Y)  # Создать \"поверхностную\" копию верхнего уровня\\n             # любого объекта Y\\nX, Y', '_i28': 'import copy\\n\\nY = {{\\'a\\':1, {\\'b\\':2} }, \\'c\\':3}\\nX = copy(Y)  # Создать \"поверхностную\" копию верхнего уровня\\n             # любого объекта Y\\nX, Y', '_i29': 'import copy\\n\\nY = {{\\'a\\':1}, \\'c\\':3}\\nX = copy(Y)  # Создать \"поверхностную\" копию верхнего уровня\\n             # любого объекта Y\\nX, Y', '_i30': 'import copy\\n\\nY = {\\'c\\':{\\'a\\':1, \\'b\\':{\\'b\\':2}}, \\'c\\':3}\\nX = copy(Y)  # Создать \"поверхностную\" копию верхнего уровня\\n             # любого объекта Y\\nX, Y', 'copy': <module 'copy' from 'C:\\\\Anaconda3\\\\lib\\\\copy.py'>, 'Y': {'d': {'c': 3, 'b': {'a': 11}}, 'e': 55}, '_i31': 'import copy\\n\\nY = {\\'c\\':{\\'a\\':1, \\'b\\':{\\'b\\':2}}, \\'c\\':3}\\nX = copy.copy(Y)  # Создать \"поверхностную\" копию верхнего уровня\\n             # любого объекта Y\\nX, Y', 'X': {'d': {'c': 3, 'b': {'a': 1}}, 'e': 5}, '_31': ({'c': 3}, {'c': 3}), '_i32': 'import copy\\n\\nY = {\\'d\\':{\\'a\\':1, \\'e\\':{\\'f\\':2}}, \\'c\\':3}\\nX = copy.copy(Y)  # Создать \"поверхностную\" копию верхнего уровня\\n                  # любого объекта Y\\nX, Y', '_32': ({'d': {'a': 1, 'e': {'f': 2}}, 'c': 3}, {'d': {'a': 1, 'e': {'f': 2}}, 'c': 3}), '_i33': 'import copy\\n\\nY = {\\'d\\':{\\'c\\':1, \\'b\\':{\\'a\\':2}}, \\'e\\':3}\\nX = copy.copy(Y)  # Создать \"поверхностную\" копию верхнего уровня\\n                  # любого объекта Y\\nX, Y', '_33': ({'d': {'c': 1, 'b': {'a': 2}}, 'e': 3}, {'d': {'c': 1, 'b': {'a': 2}}, 'e': 3}), '_i34': 'import copy\\n\\nY = {\\'d\\':{\\'c\\':3, \\'b\\':{\\'a\\':1}}, \\'e\\':5}\\nX = copy.copy(Y)  # Создать \"поверхностную\" копию верхнего уровня\\n                  # любого объекта Y\\nX, Y', '_34': ({'d': {'c': 3, 'b': {'a': 11}}, 'e': 5}, {'d': {'c': 3, 'b': {'a': 11}}, 'e': 55}), '_i35': 'Y[e] = 55\\nX, Y', '_i36': \"Y['e'] = 55\\nX, Y\", '_36': ({'d': {'c': 3, 'b': {'a': 11}}, 'e': 5}, {'d': {'c': 3, 'b': {'a': 11}}, 'e': 55}), '_i37': \"Y['d']['b']['a'] = 11 # Изменится у обоих объектов\\nX, Y\", '_37': ({'d': {'c': 3, 'b': {'a': 11}}, 'e': 5}, {'d': {'c': 3, 'b': {'a': 11}}, 'e': 55}), '_i38': \"Y['d']['b']['a'] = 11 # Изменится у обоих объектов,\\n                      # т.к. была сделана неглубокая копия\\nX, Y\", '_38': ({'d': {'c': 3, 'b': {'a': 11}}, 'e': 5}, {'d': {'c': 3, 'b': {'a': 11}}, 'e': 55}), '_i39': \"Y['d']['b']['a'] = 11 # Изменится у обоих объектов,\\n                      # т.к. была сделана неглубокая копия\\nX, Y\", '_39': ({'d': {'c': 3, 'b': {'a': 11}}, 'e': 5}, {'d': {'c': 3, 'b': {'a': 11}}, 'e': 55}), '_i40': \"import copy\\n\\nY = {'d':{'c':3, 'b':{'a':1}}, 'e':5}\\nX = copy.deepcopy(Y)  # Создать глубокую любого объекта Y (даже собственного???):\\n                      # копировать все вложенные части\\nX, Y\", '_40': ({'d': {'c': 3, 'b': {'a': 1}}, 'e': 5}, {'d': {'c': 3, 'b': {'a': 11}}, 'e': 55}), '_i41': \"Y['e'] = 55  # Изменится только у одного объекта\\nX, Y\", '_41': ({'d': {'c': 3, 'b': {'a': 1}}, 'e': 5}, {'d': {'c': 3, 'b': {'a': 11}}, 'e': 55}), '_i42': \"Y['d']['b']['a'] = 11 # Опять изменится только у одного объекта\\nX, Y\", '_42': ({'d': {'c': 3, 'b': {'a': 1}}, 'e': 5}, {'d': {'c': 3, 'b': {'a': 11}}, 'e': 55}), '_i43': \"def func():\\n    print(xxxxxx)\\n    for xxxxxx in 'spam':\\n        print(xxxxxx)\\n        \\nfunc()\", 'func': <function func at 0x0000000006E2FAE8>, '_i44': \"def func():\\n    # print(xxxxxx)     # local variable 'xxxxxx' referenced before assignment\\n    for xxxxxx in 'spam':\\n        print(xxxxxx)\\n    print(xxxxxx)\\n        \\nfunc()\", '_i45': 'L = [1, 2, 3]\\nM = L', 'L': [1, 2, 3], 'M': [1, 2, 3], '_i46': 'L == M  # Одинаковые значения', '_46': True, '_i47': 'L is M', '_47': True, '_i48': \"def func():\\n    # print(xxxxxx)     # local variable 'xxxxxx' referenced before assignment\\n    for xxxxxx in 'spam':\\n        print(xxxxxx)\\n    print(xxxxxx) # Вывел 'm'\\n    print(dir())\\n        \\nfunc()\", '_i49': \"def func():\\n    # print(xxxxxx)     # local variable 'xxxxxx' referenced before assignment\\n    for xxxxxx in 'spam':\\n        print(xxxxxx)\\n    print(xxxxxx) # Вывел 'm'\\n    print(dir())\\n        \\nfunc()\\nprint(dir())\", '_i50': \"def func():\\n    # print(xxxxxx)     # local variable 'xxxxxx' referenced before assignment\\n    for xxxxxx in 'spam':\\n        print(xxxxxx)\\n    print(xxxxxx) # Вывел 'm'\\n    print(dir())\\n        \\nfunc()\\nprint(globals())\", '_i51': \"def func():\\n    # print(xxxxxx)     # local variable 'xxxxxx' referenced before assignment\\n    for xxxxxx in 'spam':\\n        print(xxxxxx)\\n    print(xxxxxx) # Вывел 'm'\\n    print(dir())\\n        \\nfunc()\\nprint(locals())\", '_i52': \"def func():\\n    # print(xxxxxx)     # local variable 'xxxxxx' referenced before assignment\\n    for xxxxxx in 'spam':\\n        print(xxxxxx)\\n    print(xxxxxx) # Вывел 'm'\\n    print(locals())\\n        \\nfunc()\", '_i53': \"def func():\\n    # print(xxxxxx)     # local variable 'xxxxxx' referenced before assignment\\n    for xxxxxx in 'spam':\\n        print(xxxxxx)\\n    print(xxxxxx) # Вывел 'm'\\n    print(dir())  # Выдаст СПИСОК переменных области\\n        \\nfunc()\\nprint(globals())  # Выдаст СЛОВАРЬ глобальных переменных\", '_i54': \"def func():\\n    # print(xxxxxx)     # local variable 'xxxxxx' referenced before assignment\\n    for xxxxxx in 'spam':\\n        print(xxxxxx)\\n    print(xxxxxx) # Вывел 'm'\\n    print(dir())\\n        \\nfunc()\\nprint(locals())  # Выдаст СЛОВАРЬ локальных переменных\", '_i55': \"def func():\\n    # print(xxxxxx)     # local variable 'xxxxxx' referenced before assignment\\n    for xxxxxx in 'spam':\\n        print(xxxxxx)\\n    print(xxxxxx) # Вывел 'm'\\n    print(globals())  # Выдаст СЛОВАРЬ локальных переменных\\n        \\nfunc()\"}\n"
     ]
    }
   ],
   "source": [
    "def func():\n",
    "    # print(xxxxxx)     # local variable 'xxxxxx' referenced before assignment\n",
    "    for xxxxxx in 'spam':\n",
    "        print(xxxxxx)\n",
    "    print(xxxxxx) # Вывел 'm'\n",
    "    print(globals())  # Выдаст СЛОВАРЬ глобальных переменных\n",
    "        \n",
    "func()"
   ]
  },
  {
   "cell_type": "markdown",
   "metadata": {},
   "source": [
    "__Слабые ссылки__  \n",
    "\n",
    "Вкратце, слабая ссылка, реализуемая стандартным библиотечным модулем weakref, представляет собой ссылку на объект, которая сама по себе не препятствует выполнению сборки мусора в отношении этого объекта. Если последними оставшимися ссылками на объект оказываются слабые ссылки, тогда выделенная память под объект освобождается, а слабые ссылки автоматически удаляются (или уведомляются об освобождении как-то иначе).\n",
    "\n",
    "Слабые ссылки могут быть удобными, скажем, в кешах для крупных объектов на основе словарей. В действительности слабые сслыки - это просто специальное расширение модели ссылок."
   ]
  },
  {
   "cell_type": "markdown",
   "metadata": {},
   "source": [
    "# Глава 7. Фундаментальные основы строк\n",
    "..."
   ]
  },
  {
   "cell_type": "code",
   "execution_count": 82,
   "metadata": {},
   "outputs": [
    {
     "data": {
      "text/plain": [
       "str"
      ]
     },
     "execution_count": 82,
     "metadata": {},
     "output_type": "execute_result"
    }
   ],
   "source": [
    "type(u'me')  # Unicode строка в Python 3.3+ - это просто str ('u' необязателен)"
   ]
  },
  {
   "cell_type": "markdown",
   "metadata": {},
   "source": [
    "## Строковые литералы\n",
    "..."
   ]
  },
  {
   "cell_type": "markdown",
   "metadata": {},
   "source": [
    "### Строки в одинарных и двойных кавычках являются одинаковыми\n",
    "\n",
    "Строковые литералы можно записывать заключенными либо в две одинарных, либо в две двойных кавычки:"
   ]
  },
  {
   "cell_type": "code",
   "execution_count": 127,
   "metadata": {},
   "outputs": [
    {
     "data": {
      "text/plain": [
       "('shruberry', 'shruberry')"
      ]
     },
     "execution_count": 127,
     "metadata": {},
     "output_type": "execute_result"
    }
   ],
   "source": [
    "'shruberry', \"shruberry\""
   ]
  },
  {
   "cell_type": "markdown",
   "metadata": {},
   "source": [
    "Первый способ внедрения символов ' и \" в строку: "
   ]
  },
  {
   "cell_type": "code",
   "execution_count": 83,
   "metadata": {},
   "outputs": [
    {
     "data": {
      "text/plain": [
       "('knight\"s', \"knight's\")"
      ]
     },
     "execution_count": 83,
     "metadata": {},
     "output_type": "execute_result"
    }
   ],
   "source": [
    "'knight\"s', \"knight's\""
   ]
  },
  {
   "cell_type": "code",
   "execution_count": 84,
   "metadata": {},
   "outputs": [
    {
     "name": "stdout",
     "output_type": "stream",
     "text": [
      "knight\"s knight's\n"
     ]
    }
   ],
   "source": [
    "print('knight\"s', \"knight's\")"
   ]
  },
  {
   "cell_type": "markdown",
   "metadata": {},
   "source": [
    "Автоматическая конкатенация:"
   ]
  },
  {
   "cell_type": "code",
   "execution_count": 87,
   "metadata": {},
   "outputs": [
    {
     "data": {
      "text/plain": [
       "'Meaning of life'"
      ]
     },
     "execution_count": 87,
     "metadata": {},
     "output_type": "execute_result"
    }
   ],
   "source": [
    "title = \"Meaning \" 'of' \" life\" # Неявная конкатенация\n",
    "title"
   ]
  },
  {
   "cell_type": "code",
   "execution_count": 88,
   "metadata": {},
   "outputs": [
    {
     "data": {
      "text/plain": [
       "'Meaning of life'"
      ]
     },
     "execution_count": 88,
     "metadata": {},
     "output_type": "execute_result"
    }
   ],
   "source": [
    "title = \"Meaning \" \"of\" \" life\" # Тоже неявная конкатенация\n",
    "title"
   ]
  },
  {
   "cell_type": "markdown",
   "metadata": {},
   "source": [
    "Второй способ внедрения символов ' и \" в строку:  \n",
    "с помощью обратной косой черты (по сути так, как это делается в С++):"
   ]
  },
  {
   "cell_type": "code",
   "execution_count": 89,
   "metadata": {},
   "outputs": [
    {
     "data": {
      "text/plain": [
       "\"knight's\""
      ]
     },
     "execution_count": 89,
     "metadata": {},
     "output_type": "execute_result"
    }
   ],
   "source": [
    "k1 = 'knight\\'s'\n",
    "k1"
   ]
  },
  {
   "cell_type": "code",
   "execution_count": 91,
   "metadata": {},
   "outputs": [
    {
     "name": "stdout",
     "output_type": "stream",
     "text": [
      "knight's\n"
     ]
    }
   ],
   "source": [
    "print(k1)"
   ]
  },
  {
   "cell_type": "code",
   "execution_count": 90,
   "metadata": {},
   "outputs": [
    {
     "data": {
      "text/plain": [
       "8"
      ]
     },
     "execution_count": 90,
     "metadata": {},
     "output_type": "execute_result"
    }
   ],
   "source": [
    "len(k1)"
   ]
  },
  {
   "cell_type": "code",
   "execution_count": 92,
   "metadata": {},
   "outputs": [
    {
     "data": {
      "text/plain": [
       "\"knight's\""
      ]
     },
     "execution_count": 92,
     "metadata": {},
     "output_type": "execute_result"
    }
   ],
   "source": [
    "k1 = \"knight's\"\n",
    "k1"
   ]
  },
  {
   "cell_type": "code",
   "execution_count": 93,
   "metadata": {},
   "outputs": [
    {
     "name": "stdout",
     "output_type": "stream",
     "text": [
      "knight's\n"
     ]
    }
   ],
   "source": [
    "print(k1)"
   ]
  },
  {
   "cell_type": "code",
   "execution_count": 94,
   "metadata": {},
   "outputs": [
    {
     "data": {
      "text/plain": [
       "8"
      ]
     },
     "execution_count": 94,
     "metadata": {},
     "output_type": "execute_result"
    }
   ],
   "source": [
    "len(k1)"
   ]
  },
  {
   "cell_type": "markdown",
   "metadata": {},
   "source": [
    "### Управляющие последовательности представляют специальные символы\n",
    "\n",
    "__Управляющие последовательности__ - это специальные кодировки символов, которые вводятся в строковый литерал с помощью символа обратной косой черты '\\' и одного или более следующих за ним символов, и в результирующем строковом объекте заменяются _одиночным_ символом, который имеет двоичное (бинарное) значение, указанное управляющей последовательностью."
   ]
  },
  {
   "cell_type": "code",
   "execution_count": 118,
   "metadata": {},
   "outputs": [
    {
     "name": "stdout",
     "output_type": "stream",
     "text": [
      "a\n",
      "b\tc\n"
     ]
    },
    {
     "data": {
      "text/plain": [
       "'a\\nb\\tc'"
      ]
     },
     "execution_count": 118,
     "metadata": {},
     "output_type": "execute_result"
    }
   ],
   "source": [
    "s = 'a\\nb\\tc' # Два символа \\n обозначают одиночный символ новой строки;\n",
    "              # два символа \\t обозначают один символ табуляции\n",
    "print(s)\n",
    "s"
   ]
  },
  {
   "cell_type": "code",
   "execution_count": 119,
   "metadata": {},
   "outputs": [
    {
     "data": {
      "text/plain": [
       "5"
      ]
     },
     "execution_count": 119,
     "metadata": {},
     "output_type": "execute_result"
    }
   ],
   "source": [
    "len(s)  # Возвращает фактическое количество символов в строковом объекте"
   ]
  },
  {
   "cell_type": "code",
   "execution_count": 122,
   "metadata": {},
   "outputs": [
    {
     "name": "stdout",
     "output_type": "stream",
     "text": [
      "\u0007\n"
     ]
    }
   ],
   "source": [
    "s1 = '\\a'   # Звонок (чего-то не было никакого звонка)\n",
    "print(s1)"
   ]
  },
  {
   "cell_type": "code",
   "execution_count": 123,
   "metadata": {},
   "outputs": [
    {
     "name": "stdout",
     "output_type": "stream",
     "text": [
      "\b\n"
     ]
    }
   ],
   "source": [
    "s2 = '\\b'   # Забой (тоже ничего не произошло)\n",
    "print(s2)"
   ]
  },
  {
   "cell_type": "code",
   "execution_count": 124,
   "metadata": {},
   "outputs": [
    {
     "data": {
      "text/plain": [
       "'a\\x00b\\x00c'"
      ]
     },
     "execution_count": 124,
     "metadata": {},
     "output_type": "execute_result"
    }
   ],
   "source": [
    "s = 'a\\0b\\0c'  # Строка с двумя символами с нулевыми бинарными значениями\n",
    "            # (предстваленные как восьмеричные управляющие последовательности)\n",
    "s"
   ]
  },
  {
   "cell_type": "markdown",
   "metadata": {},
   "source": [
    "В Python нулевой (пустой (ну вот так он называется, причем, видисо еще со времён языка С)) не завершает троку, как \"нулевой байт\" обычно делает в языке С. В Python _не предусмотрен_ какой-либо символ для завершения сроки."
   ]
  },
  {
   "cell_type": "code",
   "execution_count": 125,
   "metadata": {},
   "outputs": [
    {
     "data": {
      "text/plain": [
       "'\\x01\\x02\\x03'"
      ]
     },
     "execution_count": 125,
     "metadata": {},
     "output_type": "execute_result"
    }
   ],
   "source": [
    "s = '\\001\\002\\x03' # Бинарные значения 1 и 2 (в восьмерич. форме) и\n",
    "                   # бинарное значение 3 (в шестнадцатер. форме)\n",
    "s"
   ]
  },
  {
   "cell_type": "code",
   "execution_count": 126,
   "metadata": {},
   "outputs": [
    {
     "data": {
      "text/plain": [
       "3"
      ]
     },
     "execution_count": 126,
     "metadata": {},
     "output_type": "execute_result"
    }
   ],
   "source": [
    "len(s)"
   ]
  },
  {
   "cell_type": "code",
   "execution_count": 95,
   "metadata": {},
   "outputs": [
    {
     "data": {
      "text/plain": [
       "'s\\tp\\na\\x00m'"
      ]
     },
     "execution_count": 95,
     "metadata": {},
     "output_type": "execute_result"
    }
   ],
   "source": [
    "S = \"s\\tp\\na\\x00m\"\n",
    "S"
   ]
  },
  {
   "cell_type": "code",
   "execution_count": 96,
   "metadata": {},
   "outputs": [
    {
     "data": {
      "text/plain": [
       "7"
      ]
     },
     "execution_count": 96,
     "metadata": {},
     "output_type": "execute_result"
    }
   ],
   "source": [
    "len(S)"
   ]
  },
  {
   "cell_type": "code",
   "execution_count": 97,
   "metadata": {},
   "outputs": [
    {
     "name": "stdout",
     "output_type": "stream",
     "text": [
      "s\tp\n",
      "a\u0000m\n"
     ]
    }
   ],
   "source": [
    "print(S)"
   ]
  },
  {
   "cell_type": "code",
   "execution_count": 98,
   "metadata": {},
   "outputs": [
    {
     "data": {
      "text/plain": [
       "'s\\tp\\na\\x00\\x01m'"
      ]
     },
     "execution_count": 98,
     "metadata": {},
     "output_type": "execute_result"
    }
   ],
   "source": [
    "S = \"s\\tp\\na\\x00\\001m\"\n",
    "S"
   ]
  },
  {
   "cell_type": "code",
   "execution_count": 110,
   "metadata": {},
   "outputs": [
    {
     "data": {
      "text/plain": [
       "'s\\tp\\na\\x00_獈_ຝm'"
      ]
     },
     "execution_count": 110,
     "metadata": {},
     "output_type": "execute_result"
    }
   ],
   "source": [
    "S = \"s\\tp\\na\\x00\\u005F\\u7348\\x5F\\N{LAO LETTER FO TAM}m\" # LAO LETTER FO TAM - это \n",
    "                                                # Unicode character name\n",
    "S"
   ]
  },
  {
   "cell_type": "code",
   "execution_count": 111,
   "metadata": {},
   "outputs": [
    {
     "name": "stdout",
     "output_type": "stream",
     "text": [
      "s\tp\n",
      "a\u0000_獈_ຝm\n"
     ]
    }
   ],
   "source": [
    "print(S)"
   ]
  },
  {
   "cell_type": "code",
   "execution_count": 115,
   "metadata": {},
   "outputs": [
    {
     "name": "stdout",
     "output_type": "stream",
     "text": [
      "_ _ _ _\n"
     ]
    },
    {
     "data": {
      "text/plain": [
       "'_ _ _ _'"
      ]
     },
     "execution_count": 115,
     "metadata": {},
     "output_type": "execute_result"
    }
   ],
   "source": [
    "S = '\\x5F \\u005F \\x5f \\137' # Круто!\n",
    "print(S)\n",
    "S"
   ]
  },
  {
   "cell_type": "code",
   "execution_count": 106,
   "metadata": {
    "scrolled": true
   },
   "outputs": [
    {
     "data": {
      "text/plain": [
       "b'\\\\u7348'"
      ]
     },
     "execution_count": 106,
     "metadata": {},
     "output_type": "execute_result"
    }
   ],
   "source": [
    "B = b'\\u7348'\n",
    "B"
   ]
  },
  {
   "cell_type": "markdown",
   "metadata": {},
   "source": [
    "Если Python не распознаёт символ после \\ в качестве допустимого управляющего кода, то он просто оставляет обратную косую черту в строке:"
   ]
  },
  {
   "cell_type": "code",
   "execution_count": 128,
   "metadata": {},
   "outputs": [
    {
     "name": "stdout",
     "output_type": "stream",
     "text": [
      "10\n",
      "C:\\py\\code\n"
     ]
    },
    {
     "data": {
      "text/plain": [
       "'C:\\\\py\\\\code'"
      ]
     },
     "execution_count": 128,
     "metadata": {},
     "output_type": "execute_result"
    }
   ],
   "source": [
    "x = \"C:\\py\\code\" # Сохраняет символ '\\' буквально (и отображает как \\\\) \n",
    "print(len(x))\n",
    "print(x)\n",
    "x"
   ]
  },
  {
   "cell_type": "markdown",
   "metadata": {},
   "source": [
    "Но, если в строке необходим символ \\, то лучше удваивать черту его (\\\\), либо использовать raw-строки."
   ]
  },
  {
   "cell_type": "code",
   "execution_count": null,
   "metadata": {},
   "outputs": [],
   "source": []
  },
  {
   "cell_type": "code",
   "execution_count": 129,
   "metadata": {},
   "outputs": [
    {
     "ename": "SyntaxError",
     "evalue": "EOL while scanning string literal (<ipython-input-129-26fbfad0c6a4>, line 1)",
     "output_type": "error",
     "traceback": [
      "\u001b[1;36m  File \u001b[1;32m\"<ipython-input-129-26fbfad0c6a4>\"\u001b[1;36m, line \u001b[1;32m1\u001b[0m\n\u001b[1;33m    s = r'...\\'\u001b[0m\n\u001b[1;37m               ^\u001b[0m\n\u001b[1;31mSyntaxError\u001b[0m\u001b[1;31m:\u001b[0m EOL while scanning string literal\n"
     ]
    }
   ],
   "source": [
    "s = r'...\\' # SyntaxError: EOL while scanning string literal\n",
    "s"
   ]
  },
  {
   "cell_type": "code",
   "execution_count": 130,
   "metadata": {},
   "outputs": [
    {
     "data": {
      "text/plain": [
       "\"...'\""
      ]
     },
     "execution_count": 130,
     "metadata": {},
     "output_type": "execute_result"
    }
   ],
   "source": [
    "s = '...\\''\n",
    "s"
   ]
  },
  {
   "cell_type": "markdown",
   "metadata": {},
   "source": [
    "Как поместить в конец raw-строки символ '\\'?\n",
    "\n",
    "1 способ:"
   ]
  },
  {
   "cell_type": "code",
   "execution_count": 131,
   "metadata": {},
   "outputs": [
    {
     "data": {
      "text/plain": [
       "'l\\\\nb\\\\tc\\\\'"
      ]
     },
     "execution_count": 131,
     "metadata": {},
     "output_type": "execute_result"
    }
   ],
   "source": [
    "r'l\\nb\\tc\\\\'[:-1] # Использовать две \\\\, и потом отрезать вторую"
   ]
  },
  {
   "cell_type": "markdown",
   "metadata": {},
   "source": [
    "2 способ:"
   ]
  },
  {
   "cell_type": "code",
   "execution_count": 132,
   "metadata": {},
   "outputs": [
    {
     "data": {
      "text/plain": [
       "'l\\\\nb\\\\tc\\\\'"
      ]
     },
     "execution_count": 132,
     "metadata": {},
     "output_type": "execute_result"
    }
   ],
   "source": [
    "r'l\\nb\\tc' + '\\\\' # Прикрепить одну \\ вручную"
   ]
  },
  {
   "cell_type": "markdown",
   "metadata": {},
   "source": [
    "3 способ:  \n",
    "отказться от синтаксиса raw-строк и просто продублировать \\ в нормальной строке:"
   ]
  },
  {
   "cell_type": "code",
   "execution_count": 135,
   "metadata": {},
   "outputs": [
    {
     "name": "stdout",
     "output_type": "stream",
     "text": [
      "l\\nb\\tc\\\n"
     ]
    },
    {
     "data": {
      "text/plain": [
       "'l\\\\nb\\\\tc\\\\'"
      ]
     },
     "execution_count": 135,
     "metadata": {},
     "output_type": "execute_result"
    }
   ],
   "source": [
    "print('l\\\\nb\\\\tc\\\\')\n",
    "'l\\\\nb\\\\tc\\\\'"
   ]
  },
  {
   "cell_type": "code",
   "execution_count": null,
   "metadata": {},
   "outputs": [],
   "source": []
  }
 ],
 "metadata": {
  "kernelspec": {
   "display_name": "Python 3",
   "language": "python",
   "name": "python3"
  },
  "language_info": {
   "codemirror_mode": {
    "name": "ipython",
    "version": 3
   },
   "file_extension": ".py",
   "mimetype": "text/x-python",
   "name": "python",
   "nbconvert_exporter": "python",
   "pygments_lexer": "ipython3",
   "version": "3.7.3"
  }
 },
 "nbformat": 4,
 "nbformat_minor": 2
}
